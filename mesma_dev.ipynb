{
 "cells": [
  {
   "cell_type": "code",
   "execution_count": null,
   "metadata": {},
   "outputs": [],
   "source": [
    "#import mesma \n",
    "import rasterio\n",
    "import matplotlib.pyplot as plt\n",
    "import os\n",
    "import numpy as np\n",
    "import random\n",
    "from scipy.ndimage import binary_dilation"
   ]
  },
  {
   "cell_type": "code",
   "execution_count": null,
   "metadata": {},
   "outputs": [],
   "source": [
    "path = r'/mnt/c/Users/attic/HLS_Kelp/imagery/rf_classified_cuML/HLS.L30.T11SKU.2019077T183342.v2.0_rf_ready.tif_kelp_classified.tif'\n",
    "ocean_dilation = np.ones((100,100)) #Struct for dilation (increase to enlarge non-ocean mask) larger --> takes longer\n",
    "kelp_dilation = np.ones((4,4))\n",
    "with rasterio.open(path) as imagery:\n",
    "    classified_img = imagery.read(5)\n",
    "    kelp_mask  = []\n",
    "    ocean_mask = []\n",
    "    ocean_dilated = np.where(classified_img == 1, False, True)\n",
    "    ocean_dilated = binary_dilation(ocean_dilated, structure=ocean_dilation) #This takes ~25 seconds. Should look to optimize \n",
    "    kelp_dilated = np.where(classified_img == 0, True, False) #This is expanding hte kelp_mask so the TF is reversed\n",
    "    kelp_dilated = binary_dilation(kelp_dilated,structure=kelp_dilation) #I may not want to do this. we'll see\n",
    "    for i in range(4):\n",
    "        band_data = imagery.read(i + 1)\n",
    "        kmask = np.where(kelp_dilated == True, band_data, np.nan)\n",
    "        omask = np.where(ocean_dilated == False, band_data, np.nan)\n",
    "        kelp_mask.append(kmask)\n",
    "        ocean_mask.append(omask)\n",
    "\n",
    "    kelp_mask = np.array(kelp_mask)\n",
    "    ocean_mask = np.array(ocean_mask)\n",
    "    #print(ocean_mask)\n",
    "\n",
    "rgb_nor = np.stack([ocean_mask[2]/600,ocean_mask[0]/600,ocean_mask[1]/600], axis=-1)\n",
    "rgb_nor_cropped = rgb_nor\n",
    "#print(kelp_mask)\n",
    "rgb_nor_cropped = np.ma.masked_where(np.isnan(rgb_nor_cropped), rgb_nor_cropped)\n",
    "image = kelp_mask[1]#,2500:3500,800:1800]\n",
    "plt.figure(figsize=(30, 30), dpi=200)\n",
    "plt.imshow(image, alpha=1)\n",
    "plt.imshow(rgb_nor_cropped, alpha=1)\n",
    "plt.colorbar()\n",
    "plt.show()"
   ]
  },
  {
   "cell_type": "code",
   "execution_count": null,
   "metadata": {},
   "outputs": [],
   "source": [
    "ocean_EM_stack = []\n",
    "kelp_EM = [459, 556, 437, 1227]\n",
    "print(kelp_mask.shape)\n",
    "n_bands, height, width = kelp_mask.shape\n",
    "print(n_bands)\n",
    "ocean_EM_n = 0\n",
    "ocean_data = ocean_mask.reshape(ocean_mask.shape[0], -1)\n",
    "kelp_data = kelp_mask.reshape(kelp_mask.shape[0],-1)\n",
    "print(ocean_data.shape)\n",
    "\n",
    "nan_columns = np.isnan(ocean_data).any(axis=0)\n",
    "# Remove columns with NaN values\n",
    "filtered_ocean = ocean_data[:, ~nan_columns]\n",
    "for i in range(30):\n",
    "     index = random.randint(0,len(filtered_ocean[0])-1)\n",
    "     ocean_EM_stack.append(filtered_ocean[:,index])\n",
    "ocean_EM = np.stack(ocean_EM_stack, axis=1)\n",
    "#print(ocean_EM_array)\n",
    "\n",
    "average_val = np.nanmean(filtered_ocean, axis=1)\n",
    "average_endmember = np.nanmean(ocean_EM, axis=1)\n",
    "print(f\"average EM Val: {average_endmember}\")\n",
    "print(f\"average    Val: {average_val}\")"
   ]
  },
  {
   "cell_type": "code",
   "execution_count": null,
   "metadata": {},
   "outputs": [],
   "source": [
    "frac1 = np.full((kelp_mask.shape[1], kelp_mask.shape[2], 30), np.nan)\n",
    "frac2 = np.full((kelp_mask.shape[1], kelp_mask.shape[2], 30), np.nan)\n",
    "rmse = np.full((kelp_mask.shape[1], kelp_mask.shape[2], 30), np.nan)\n",
    "print(rmse.shape)\n",
    "\n",
    "print(\"Running MESMA\")\n",
    "for k in range(30):\n",
    "    B = np.column_stack((ocean_EM[:, k], kelp_EM))\n",
    "    U, S, Vt = np.linalg.svd(B, full_matrices=False)\n",
    "    IS = Vt.T / S\n",
    "    em_inv = IS @ U.T\n",
    "    F = em_inv @ kelp_data\n",
    "    model = (F.T @ B.T).T\n",
    "    resids = (kelp_data - model) / 10000\n",
    "    rmse[:, :, k] = np.sqrt(np.mean(resids**2, axis=0)).reshape(height,width)\n",
    "    frac1[:,:,k] = F[0, :].reshape(height,width)\n",
    "    frac2[:, :, k] = F[1, :].reshape(height,width)\n",
    "    print(f'Percent MESMA {round(100/30 * (k+1))}%')"
   ]
  },
  {
   "cell_type": "code",
   "execution_count": null,
   "metadata": {},
   "outputs": [],
   "source": [
    "plt.figure(figsize=(30, 30), dpi=200)\n",
    "plt.imshow(frac1[2700:3400,800:1600,0], alpha=1)\n",
    "plt.colorbar()\n",
    "plt.show()"
   ]
  }
 ],
 "metadata": {
  "kernelspec": {
   "display_name": "hls_env",
   "language": "python",
   "name": "python3"
  },
  "language_info": {
   "codemirror_mode": {
    "name": "ipython",
    "version": 3
   },
   "file_extension": ".py",
   "mimetype": "text/x-python",
   "name": "python",
   "nbconvert_exporter": "python",
   "pygments_lexer": "ipython3",
   "version": "3.7.16"
  }
 },
 "nbformat": 4,
 "nbformat_minor": 2
}
