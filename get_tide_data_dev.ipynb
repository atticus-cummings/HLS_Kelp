{
 "cells": [
  {
   "cell_type": "code",
   "execution_count": null,
   "metadata": {},
   "outputs": [],
   "source": [
    "from noaa_coops import Station\n",
    "from pprint import pprint\n",
    "import os\n",
    "import rasterio\n",
    "from datetime import datetime, timedelta\n",
    "from dateutil.parser import parse\n",
    "import pandas as pd\n",
    "import csv\n",
    "import pytz\n",
    "import numpy as np\n",
    "from rasterio.errors import RasterioIOError\n",
    "import tide_current_tools as ct"
   ]
  },
  {
   "cell_type": "code",
   "execution_count": null,
   "metadata": {},
   "outputs": [],
   "source": [
    "path = r\"H:\\HLS_data\\imagery\\Isla_vista_kelp\\processed_v4\\11SKU\"\n",
    "file = 'HLS.L30.T11SKU.2017071T183351.v2.0_processed.tif'\n",
    "lter_path = r'C:\\Users\\attic\\HLS_Kelp\\lter_data\\naples_lter_2.csv'\n",
    "santa_barbara=Station(id=9411340)\n"
   ]
  },
  {
   "cell_type": "code",
   "execution_count": null,
   "metadata": {},
   "outputs": [],
   "source": [
    "lter_df = ct.load_lter(lter_path)\n",
    "files = os.listdir(path)\n",
    "for i, file in  enumerate(files):\n",
    "    if not ct.insert_tide_current_metadata(path,file, df=lter_df, station=santa_barbara):\n",
    "        print(f'{file} failed. Stopping.')\n",
    "    #else:\n",
    "        #print(f\"File Updated: {file}\")"
   ]
  },
  {
   "cell_type": "code",
   "execution_count": null,
   "metadata": {},
   "outputs": [],
   "source": [
    "for i, file in  enumerate(files):\n",
    "    with rasterio.open(os.path.join(path,file), 'r') as src:\n",
    "        metadata = src.tags()\n",
    "    print(metadata)\n",
    "    if i > 5:\n",
    "        break"
   ]
  }
 ],
 "metadata": {
  "kernelspec": {
   "display_name": "hls_env",
   "language": "python",
   "name": "python3"
  },
  "language_info": {
   "codemirror_mode": {
    "name": "ipython",
    "version": 3
   },
   "file_extension": ".py",
   "mimetype": "text/x-python",
   "name": "python",
   "nbconvert_exporter": "python",
   "pygments_lexer": "ipython3",
   "version": "3.9.19"
  }
 },
 "nbformat": 4,
 "nbformat_minor": 2
}
