{
 "cells": [
  {
   "cell_type": "code",
   "execution_count": 1,
   "metadata": {},
   "outputs": [],
   "source": [
    "from noaa_coops import Station\n",
    "from pprint import pprint\n",
    "import os\n",
    "import rasterio\n",
    "from datetime import datetime, timedelta\n",
    "from dateutil.parser import parse\n",
    "import pandas as pd\n",
    "import csv\n",
    "import pytz\n",
    "import numpy as np\n",
    "from rasterio.errors import RasterioIOError\n",
    "import tide_current_tools as ct"
   ]
  },
  {
   "cell_type": "code",
   "execution_count": 2,
   "metadata": {},
   "outputs": [],
   "source": [
    "path = r\"H:\\HLS_data\\imagery\\Isla_vista_kelp\\processed_v2\\11SKU\"\n",
    "file = 'HLS.L30.T11SKU.2017071T183351.v2.0_processed.tif'\n",
    "lter_path = r'C:\\Users\\attic\\HLS_Kelp\\lter_data\\naples_lter_2.csv'\n",
    "santa_barbara=Station(id=9411340)\n"
   ]
  },
  {
   "cell_type": "code",
   "execution_count": 3,
   "metadata": {},
   "outputs": [
    {
     "name": "stdout",
     "output_type": "stream",
     "text": [
      "File: HLS.S30.T11SKU.2017287T185431.v2.0_processed.tif | Invalid date: 2017-10-14T18:54:27.461Z + 2017-10-14T18:54:49.107Z \n",
      "File: HLS.S30.T11SKU.2017287T185431.v2.0_processed.tif | Invalid date: 2017-10-14T18:54:27.461Z + 2017-10-14T18:54:49.107Z \n",
      "Error getting tide data\n",
      "HLS.S30.T11SKU.2017287T185431.v2.0_processed.tif failed. Stopping.\n",
      "File: HLS.S30.T11SKU.2018022T185421.v2.0_processed.tif | Invalid date: 2018-01-22T18:54:22.460Z + 2018-01-22T18:54:40.499Z \n",
      "File: HLS.S30.T11SKU.2018022T185421.v2.0_processed.tif | Invalid date: 2018-01-22T18:54:22.460Z + 2018-01-22T18:54:40.499Z \n",
      "Error getting tide data\n",
      "HLS.S30.T11SKU.2018022T185421.v2.0_processed.tif failed. Stopping.\n",
      "File: HLS.S30.T11SKU.2020117T183919.v2.0_processed.tif | Invalid date: 2020-04-26T18:54:37.786613Z + 2020-04-26T18:54:44.586168Z \n",
      "File: HLS.S30.T11SKU.2020117T183919.v2.0_processed.tif | Invalid date: 2020-04-26T18:54:37.786613Z + 2020-04-26T18:54:44.586168Z \n",
      "Error getting tide data\n",
      "HLS.S30.T11SKU.2020117T183919.v2.0_processed.tif failed. Stopping.\n",
      "File: HLS.S30.T11SKU.2020227T183919.v2.0_processed.tif | Invalid date: 2020-08-14T18:54:52.103345Z + 2020-08-14T18:55:00.740778Z \n",
      "File: HLS.S30.T11SKU.2020227T183919.v2.0_processed.tif | Invalid date: 2020-08-14T18:54:52.103345Z + 2020-08-14T18:55:00.740778Z \n",
      "Error getting tide data\n",
      "HLS.S30.T11SKU.2020227T183919.v2.0_processed.tif failed. Stopping.\n",
      "File: HLS.S30.T11SKU.2020347T184759.v2.0_processed.tif | Invalid date: 2020-12-12T18:54:45.487515Z + 2020-12-12T18:54:37.738564Z \n",
      "File: HLS.S30.T11SKU.2020347T184759.v2.0_processed.tif | Invalid date: 2020-12-12T18:54:45.487515Z + 2020-12-12T18:54:37.738564Z \n",
      "Error getting tide data\n",
      "HLS.S30.T11SKU.2020347T184759.v2.0_processed.tif failed. Stopping.\n",
      "File: HLS.S30.T11SKU.2021051T184409.v2.0_processed.tif | Invalid date: 2021-02-20T18:54:40.560023Z + 2021-02-20T18:54:47.365158Z \n",
      "File: HLS.S30.T11SKU.2021051T184409.v2.0_processed.tif | Invalid date: 2021-02-20T18:54:40.560023Z + 2021-02-20T18:54:47.365158Z \n",
      "Error getting tide data\n",
      "HLS.S30.T11SKU.2021051T184409.v2.0_processed.tif failed. Stopping.\n",
      "File: HLS.S30.T11SKU.2022226T183919.v2.0_processed.tif | Invalid date: 2022-08-14T18:54:43.417414Z + 2022-08-14T18:54:51.57611Z \n",
      "File: HLS.S30.T11SKU.2022226T183919.v2.0_processed.tif | Invalid date: 2022-08-14T18:54:43.417414Z + 2022-08-14T18:54:51.57611Z \n",
      "Error getting tide data\n",
      "HLS.S30.T11SKU.2022226T183919.v2.0_processed.tif failed. Stopping.\n",
      "File: HLS.S30.T11SKU.2023041T184519.v2.0_processed.tif | Invalid date: 2023-02-10T18:54:44.950021Z + 2023-02-10T18:54:51.646498Z \n",
      "File: HLS.S30.T11SKU.2023041T184519.v2.0_processed.tif | Invalid date: 2023-02-10T18:54:44.950021Z + 2023-02-10T18:54:51.646498Z \n",
      "Error getting tide data\n",
      "HLS.S30.T11SKU.2023041T184519.v2.0_processed.tif failed. Stopping.\n"
     ]
    }
   ],
   "source": [
    "lter_df = ct.load_lter(lter_path)\n",
    "files = os.listdir(path)\n",
    "for i, file in  enumerate(files):\n",
    "    if not ct.insert_tide_current_metadata(path,file, df=lter_df, station=santa_barbara):\n",
    "        print(f'{file} failed. Stopping.')\n",
    "    #else:\n",
    "        #print(f\"File Updated: {file}\")"
   ]
  },
  {
   "cell_type": "code",
   "execution_count": null,
   "metadata": {},
   "outputs": [],
   "source": [
    "for i, file in  enumerate(files):\n",
    "    with rasterio.open(os.path.join(path,file), 'r') as src:\n",
    "        metadata = src.tags()\n",
    "    print(metadata)\n",
    "    if i > 5:\n",
    "        break"
   ]
  }
 ],
 "metadata": {
  "kernelspec": {
   "display_name": "hls_env",
   "language": "python",
   "name": "python3"
  },
  "language_info": {
   "codemirror_mode": {
    "name": "ipython",
    "version": 3
   },
   "file_extension": ".py",
   "mimetype": "text/x-python",
   "name": "python",
   "nbconvert_exporter": "python",
   "pygments_lexer": "ipython3",
   "version": "undefined.undefined.undefined"
  }
 },
 "nbformat": 4,
 "nbformat_minor": 2
}
