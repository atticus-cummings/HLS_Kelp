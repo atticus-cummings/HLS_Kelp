{
 "cells": [
  {
   "cell_type": "code",
   "execution_count": null,
   "metadata": {},
   "outputs": [],
   "source": [
    "from datetime import datetime, timedelta\n",
    "import os\n",
    "import pickle"
   ]
  },
  {
   "cell_type": "code",
   "execution_count": null,
   "metadata": {},
   "outputs": [],
   "source": [
    "def extract_date(filename):\n",
    "    parts = filename.split('.')\n",
    "    date_str = parts[3]\n",
    "    date = datetime.strptime(date_str, '%Y%jT%H%M%S')\n",
    "    return date\n",
    "\n",
    "def group_by_date(filenames, max_days=4):\n",
    "    dates_and_files = [(extract_date(filename), filename) for filename in filenames]\n",
    "    dates_and_files.sort()  # Sort by date\n",
    "\n",
    "    neighborhood = []\n",
    "    max_pair_size = 2\n",
    "    neighbors = []\n",
    "    last_date = None\n",
    "\n",
    "    for date, filename in dates_and_files:\n",
    "        if last_date is None:\n",
    "            last_date = date\n",
    "        if last_date is None or (date - last_date).days <= max_days:\n",
    "            neighbors.append(filename)\n",
    "            if(len(neighbors) >=max_pair_size):\n",
    "                neighborhood.append((len(neighbors), neighbors))\n",
    "                neighbors = [filename]\n",
    "                last_date = date\n",
    "        else:\n",
    "            if (len(neighbors) > 1):\n",
    "                neighborhood.append((len(neighbors), neighbors))\n",
    "            neighbors = [filename]\n",
    "            last_date = date\n",
    "\n",
    "    if neighbors and len(neighbors) > 1:\n",
    "         neighborhood.append((len(neighbors), neighbors))\n",
    "    neighborhood.sort(key=lambda x: x[0], reverse=True)\n",
    "    return neighborhood"
   ]
  },
  {
   "cell_type": "code",
   "execution_count": null,
   "metadata": {},
   "outputs": [],
   "source": [
    "object_path = r'/mnt/c/Users/attic/hls_kelp/python_objects'\n",
    "n = 3\n",
    "object_name = f'file_pairs_{n}_v2'\n",
    "files = os.listdir(r'/mnt/h/Hls_data/imagery/Isla_vista_kelp/processed_v2/11SKU')\n",
    "outputs = []\n",
    "# for i in range(10):\n",
    "#     grouped_files = group_by_date(files, i)\n",
    "#     outputs.append(len(grouped_files))\n",
    "#print(outputs)\n",
    "\n",
    "grouped_files = group_by_date(files, n)\n",
    "for group in grouped_files:\n",
    "    print(group)\n",
    "print(len(grouped_files))\n",
    "with open(os.path.join(object_path,object_name), 'wb') as f:\n",
    "    pickle.dump(grouped_files, f)\n"
   ]
  }
 ],
 "metadata": {
  "kernelspec": {
   "display_name": "hls-linux",
   "language": "python",
   "name": "python3"
  },
  "language_info": {
   "codemirror_mode": {
    "name": "ipython",
    "version": 3
   },
   "file_extension": ".py",
   "mimetype": "text/x-python",
   "name": "python",
   "nbconvert_exporter": "python",
   "pygments_lexer": "ipython3",
   "version": "3.9.19"
  }
 },
 "nbformat": 4,
 "nbformat_minor": 2
}
