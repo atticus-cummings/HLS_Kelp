{
 "cells": [
  {
   "cell_type": "code",
   "execution_count": 1,
   "metadata": {},
   "outputs": [],
   "source": [
    "import rasterio\n",
    "import os\n"
   ]
  },
  {
   "cell_type": "code",
   "execution_count": 2,
   "metadata": {},
   "outputs": [],
   "source": [
    "save_to_path ='/mnt/c/Users/attic/HLS_Kelp/imagery/RF_training_band_fixed'\n",
    "convert_from_path = '/mnt/c/Users/attic/HLS_Kelp/imagery/rf_training_v3_cleaned'\n",
    "files = os.listdir(convert_from_path)\n"
   ]
  },
  {
   "cell_type": "code",
   "execution_count": 3,
   "metadata": {},
   "outputs": [],
   "source": [
    "\n",
    "for file in files:\n",
    "    file_data = file.split('.')\n",
    "    sensor = file_data[1]\n",
    "    if(sensor == 'L30'):\n",
    "        continue\n",
    "    with rasterio.open(os.path.join(convert_from_path,file)) as src:\n",
    "        image = src.read()\n",
    "        B8A = src.read(6)\n",
    "        B11 = src.read(4)\n",
    "        B12 = src.read(5)\n",
    "    new_image = image.copy()\n",
    "    new_image[4,:,:] = B8A\n",
    "    new_image[5,:,:] = B11\n",
    "    new_image[6,:,:] = B12\n",
    "\n",
    "    # Get dimensions and data type\n",
    "    bands, height, width = new_image.shape\n",
    "    data_type = rasterio.uint8\n",
    "\n",
    "    # Define profile for output\n",
    "    profile = {\n",
    "        'driver': 'GTiff',\n",
    "        'width': width,\n",
    "        'height': height,\n",
    "        'count': bands,\n",
    "        'dtype': src.dtypes[0],\n",
    "        'crs': src.crs,\n",
    "        'transform': src.transform,\n",
    "        'nodata': 0\n",
    "    }\n",
    "        # Write the land mask array to GeoTIFF\n",
    "    with rasterio.open(os.path.join(save_to_path,file), 'w', **profile) as dst:\n",
    "        for i in range(7):\n",
    "            dst.write(new_image[i,:,:].astype(data_type), i + 1)"
   ]
  }
 ],
 "metadata": {
  "kernelspec": {
   "display_name": "hls-linux",
   "language": "python",
   "name": "python3"
  },
  "language_info": {
   "codemirror_mode": {
    "name": "ipython",
    "version": 3
   },
   "file_extension": ".py",
   "mimetype": "text/x-python",
   "name": "python",
   "nbconvert_exporter": "python",
   "pygments_lexer": "ipython3",
   "version": "3.9.19"
  }
 },
 "nbformat": 4,
 "nbformat_minor": 2
}
