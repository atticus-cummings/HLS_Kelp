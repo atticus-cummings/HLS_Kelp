{
 "cells": [
  {
   "cell_type": "code",
   "execution_count": null,
   "metadata": {},
   "outputs": [],
   "source": [
    "import os\n",
    "import pandas as pd\n",
    "import rasterio\n",
    "import matplotlib.pyplot as plt\n",
    "import numpy as np\n",
    "import cudf\n",
    "import cuml\n",
    "from cuml.ensemble import RandomForestClassifier as cuRF\n",
    "from cuml.model_selection import train_test_split\n",
    "from scipy.stats import randint\n",
    "import pickle"
   ]
  },
  {
   "cell_type": "code",
   "execution_count": null,
   "metadata": {},
   "outputs": [],
   "source": [
    "#Import training data\n",
    "\n",
    "path = r'/mnt/c/users/attic/hls_kelp/imagery/rf_training_V2'\n",
    "files = os.listdir(path)\n",
    "training_data = []\n",
    "#file = 'HLS.L30.T11SKU.2018058T183349.v2.0_kelp_classified.tif'\n",
    "for file in files:\n",
    "    with rasterio.open(os.path.join(path, file)) as src:\n",
    "            training_img = src.read()  \n",
    "    file_data = training_img.reshape(training_img.shape[0], -1) \n",
    "    training_data.append(file_data)\n",
    "\n",
    "combined_training_data = np.hstack(training_data)\n",
    "combined_training_data[6,:] = combined_training_data[6,:]\n",
    "print(combined_training_data.shape)\n",
    "df = cudf.DataFrame(combined_training_data.T)\n",
    "print(df.shape)\n",
    "# plt.figure(figsize=(6, 6))\n",
    "# plt.imshow(training_img[6,:], cmap='gray')\n",
    "# plt.show()"
   ]
  },
  {
   "cell_type": "code",
   "execution_count": null,
   "metadata": {},
   "outputs": [],
   "source": [
    "df = cudf.DataFrame(combined_training_data.T)\n",
    "X = df.iloc[:, :-1].astype('float32')\n",
    "y = df.iloc[:, -1].astype('float32')\n",
    "\n",
    "X_train, X_test, y_train, y_test = train_test_split(X, y, train_size=0.9, random_state=42)\n",
    "\n",
    "cu_rf_params = {\n",
    "    'n_estimators':20,  # Increase number of trees\n",
    "    'max_depth': 15,      # Increase maximum depth\n",
    "    'n_bins': 30,         # Increase number of bins\n",
    "    'n_streams': 16      # Adjust parallel streams based on GPU capability\n",
    "}\n",
    "\n",
    "cu_rf = cuRF()\n",
    "cu_rf.fit(X_train, y_train)\n",
    "y_pred = cu_rf.predict(X_test)\n",
    "\n",
    "accuracy = cuml.metrics.accuracy_score(y_test, y_pred)\n",
    "print(f\"Accuracy: {accuracy}\")"
   ]
  },
  {
   "cell_type": "code",
   "execution_count": null,
   "metadata": {},
   "outputs": [],
   "source": [
    "rf_path = r'/mnt/c/users/attic/hls_kelp/random_forest/'\n",
    "if not os.path.isdir(rf_path):\n",
    "    os.mkdir(rf_path)\n",
    "with open(os.path.join(rf_path, 'cu_rf'), 'wb') as f:\n",
    "    pickle.dump(cu_rf, f)"
   ]
  },
  {
   "cell_type": "code",
   "execution_count": null,
   "metadata": {},
   "outputs": [],
   "source": [
    "with rasterio.open(r'/mnt/c/users/attic/hls_kelp/imagery/rf_training_V2/HLS.L30.T11SKU.2018058T183349.v2.0_kelp_classified.tif') as test:\n",
    "    test_img = test.read()\n",
    "    \n",
    "test_data = test_img.reshape(test_img.shape[0], -1).T\n",
    "test_data = test_data[:, 0:6]\n",
    "test_data = test_data.astype('float32')\n",
    "test_df = cudf.DataFrame(test_data)\n",
    "y_pred = cu_rf.predict(test_df)\n",
    "pred_shape = (test_img.shape[1], test_img.shape[2])\n",
    "pred_img = y_pred.values_host.reshape(pred_shape)\n",
    "print(pred_img.shape)"
   ]
  },
  {
   "cell_type": "code",
   "execution_count": null,
   "metadata": {},
   "outputs": [],
   "source": [
    "\n",
    "plt.figure(figsize=(30, 30))\n",
    "plt.imshow(pred_img)\n",
    "plt.colorbar()\n",
    "plt.show()  "
   ]
  },
  {
   "cell_type": "code",
   "execution_count": null,
   "metadata": {},
   "outputs": [],
   "source": [
    "kelp_pred = cu_rf.predict(test_data)\n"
   ]
  },
  {
   "cell_type": "code",
   "execution_count": null,
   "metadata": {},
   "outputs": [],
   "source": [
    "kelp_map = kelp_pred.reshape(3660,3660)\n",
    "print(kelp_map)\n",
    "plt.figure(figsize=(30, 30))\n",
    "plt.imshow(kelp_map, cmap='tab10')\n",
    "plt.colorbar()\n",
    "plt.show()  "
   ]
  },
  {
   "cell_type": "code",
   "execution_count": null,
   "metadata": {},
   "outputs": [],
   "source": []
  }
 ],
 "metadata": {
  "kernelspec": {
   "display_name": "hls_env",
   "language": "python",
   "name": "python3"
  },
  "language_info": {
   "codemirror_mode": {
    "name": "ipython",
    "version": 3
   },
   "file_extension": ".py",
   "mimetype": "text/x-python",
   "name": "python",
   "nbconvert_exporter": "python",
   "pygments_lexer": "ipython3",
   "version": "3.7.16"
  }
 },
 "nbformat": 4,
 "nbformat_minor": 2
}
