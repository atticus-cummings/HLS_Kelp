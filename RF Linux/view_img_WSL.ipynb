{
 "cells": [
  {
   "cell_type": "code",
   "execution_count": null,
   "metadata": {},
   "outputs": [],
   "source": [
    "\n",
    "import rasterio\n",
    "import matplotlib.pyplot as plt\n",
    "import os\n",
    "from matplotlib.colors import ListedColormap\n",
    "import re\n",
    "import csv\n",
    "from skimage import io\n",
    "import requests\n",
    "from PIL import Image\n",
    "from io import BytesIO"
   ]
  },
  {
   "cell_type": "code",
   "execution_count": null,
   "metadata": {},
   "outputs": [],
   "source": [
    "tile = '11SKU'\n",
    "location = 'Isla_Vista_Kelp'\n",
    "path = os.path.join(r'/mnt/c/Users/attic/HLS_Kelp/imagery',location,tile)\n",
    "granule ='HLS.S30.T11SKU.2018107T183919.v2.0'\n",
    "files = os.listdir(os.path.join(path,granule))\n",
    "metadata_file = [f for f in files if re.search(r'metadata\\.csv$', f)]\n",
    "if metadata_file :\n",
    "    with open(os.path.join(path,granule, metadata_file[0]), mode='r') as file:\n",
    "        csv_reader = csv.reader(file)\n",
    "        keys = next(csv_reader)  \n",
    "        values = next(csv_reader) \n",
    "    metadata = dict(zip(keys, values))\n",
    "urls = metadata['data_vis_url']\n",
    "img_urls = urls.strip(\"[]\").replace(\"'\", \"\").split(\", \")\n",
    "print(img_urls)\n",
    "response = requests.get(img_urls[0])\n",
    "img = Image.open(BytesIO(response.content))\n",
    "img.show()\n"
   ]
  },
  {
   "cell_type": "code",
   "execution_count": null,
   "metadata": {},
   "outputs": [],
   "source": [
    "path = r'/mnt/c/Users/attic/HLS_Kelp/imagery/rf_training_v3_cleaned'\n",
    "files = os.listdir(path)\n",
    "training_data = []\n",
    "cmap = ListedColormap(['red', 'blue', 'green'])\n",
    "for i, file in enumerate(files):\n",
    "    with rasterio.open('/mnt/c/Users/attic/HLS_Kelp/imagery/rf_training_V2/HLS.S30.T11SKU.2017287T185431.v2.0_kelp_classified.tif') as src:#path, file)) as src:\n",
    "        training_img = src.read(7)  \n",
    "        print(file)\n",
    "        plt.figure(figsize=(10, 10))\n",
    "        plt.imshow(training_img)#[2800:3200,800:1600])\n",
    "        plt.colorbar()\n",
    "        plt.show()  \n",
    "    break\n",
    "# plt.figure(figsize=(6, 6))\n",
    "# plt.imshow(training_img[6,:], cmap='gray')\n",
    "# plt.show()  "
   ]
  }
 ],
 "metadata": {
  "kernelspec": {
   "display_name": "hls_env",
   "language": "python",
   "name": "python3"
  },
  "language_info": {
   "codemirror_mode": {
    "name": "ipython",
    "version": 3
   },
   "file_extension": ".py",
   "mimetype": "text/x-python",
   "name": "python",
   "nbconvert_exporter": "python",
   "pygments_lexer": "ipython3",
   "version": "3.7.16"
  }
 },
 "nbformat": 4,
 "nbformat_minor": 2
}
