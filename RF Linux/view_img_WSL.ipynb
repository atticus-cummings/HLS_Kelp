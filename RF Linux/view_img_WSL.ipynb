{
 "cells": [
  {
   "cell_type": "code",
   "execution_count": null,
   "metadata": {},
   "outputs": [],
   "source": [
    "\n",
    "import rasterio\n",
    "import matplotlib.pyplot as plt\n",
    "import os\n",
    "from matplotlib.colors import ListedColormap\n",
    "import re\n",
    "import csv\n",
    "from skimage import io\n",
    "import requests\n",
    "from PIL import Image\n",
    "from io import BytesIO\n",
    "import numpy as np\n",
    "from scipy.ndimage import binary_dilation, uniform_filter"
   ]
  },
  {
   "cell_type": "code",
   "execution_count": null,
   "metadata": {},
   "outputs": [],
   "source": [
    "tile = '10SGD'\n",
    "location = 'Isla_Vista_Kelp_2018'\n",
    "path = os.path.join(r'/mnt/c/Users/attic/HLS_Kelp/imagery',location,tile)\n",
    "granule ='HLS.S30.T10SGD.2018257T183949.v2.0'\n",
    "files = os.listdir(os.path.join(path,granule))\n",
    "metadata_file = [f for f in files if re.search(r'metadata\\.csv$', f)]\n",
    "if metadata_file :\n",
    "    with open(os.path.join(path,granule, metadata_file[0]), mode='r') as file:\n",
    "        csv_reader = csv.reader(file)\n",
    "        keys = next(csv_reader)  \n",
    "        values = next(csv_reader) \n",
    "    metadata = dict(zip(keys, values))\n",
    "urls = metadata['data_vis_url']\n",
    "img_urls = urls.strip(\"[]\").replace(\"'\", \"\").split(\", \")\n",
    "print(img_urls)\n",
    "response = requests.get(img_urls[0])\n",
    "img = Image.open(BytesIO(response.content))\n",
    "img.show()\n"
   ]
  },
  {
   "cell_type": "code",
   "execution_count": null,
   "metadata": {},
   "outputs": [],
   "source": [
    "path = r'/mnt/c/Users/attic/HLS_Kelp/imagery/10SGD'\n",
    "files = os.listdir(path)\n",
    "tif_files = [file for file in files if re.search(r'\\.tif$', file, re.IGNORECASE)]\n",
    "sorted_tif = np.sort(tif_files)\n",
    "training_data = []\n",
    "cmap = ListedColormap(['red', 'blue', 'green'])\n",
    "for i, file in enumerate(sorted_tif):\n",
    "    with rasterio.open(os.path.join(path,file)) as src:#path, file)) as src:\n",
    "        mesma_img = src.read(6) \n",
    "        kelp_img = src.read(5) \n",
    "        green_band = src.read(2)\n",
    "        green_normalized =green_band/(50*green_band.max())\n",
    "        print(file)\n",
    "        kelp_dilation = np.ones((15,15))\n",
    "        kelp_neighborhood_min = 5\n",
    "        min_kelp_count = 4\n",
    "        kelp_mask  = []\n",
    "        mesma_img = np.where(mesma_img == 0, np.nan, mesma_img)\n",
    "        mesma_img = np.where(mesma_img >= 100, 100, mesma_img)\n",
    "        full_vis = np.where(green_normalized == 0, np.nan, green_normalized)\n",
    "        kelp_dilated = np.where(kelp_img == 0, True, False) #This is expanding hte kelp_mask so the TF is reversed\n",
    "        kelp_count = uniform_filter(kelp_dilated.astype(int),size=kelp_neighborhood_min)\n",
    "        kelp_dilated = np.where(((~kelp_dilated) | (kelp_count >= min_kelp_count)), 0, 1) #If theres no kelp, or the kelp count is <=4, set pixel == false\n",
    "        kelp_dilated = binary_dilation(kelp_dilated,structure=kelp_dilation) \n",
    "        kelp_dilated = np.where(kelp_dilated == 0, np.nan, green_normalized )\n",
    "        plt.figure(figsize=(15, 15))\n",
    "        plt.imshow(full_vis[2500:3500,2500:3500]/10, alpha=1)\n",
    "        plt.imshow(kelp_dilated[2500:3500,2500:3500], cmap = \"Greens\", alpha=1)\n",
    "\n",
    "        plt.imshow(mesma_img[2500:3500,2500:3500], cmap ='Reds',alpha=1)\n",
    "        plt.colorbar()\n",
    "        plt.show()  \n",
    "# plt.figure(figsize=(6, 6))\n",
    "# plt.imshow(training_img[6,:], cmap='gray')\n",
    "# plt.show()  "
   ]
  }
 ],
 "metadata": {
  "kernelspec": {
   "display_name": "hls_env",
   "language": "python",
   "name": "python3"
  },
  "language_info": {
   "codemirror_mode": {
    "name": "ipython",
    "version": 3
   },
   "file_extension": ".py",
   "mimetype": "text/x-python",
   "name": "python",
   "nbconvert_exporter": "python",
   "pygments_lexer": "ipython3",
   "version": "3.7.16"
  }
 },
 "nbformat": 4,
 "nbformat_minor": 2
}
