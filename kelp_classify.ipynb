{
 "cells": [
  {
   "cell_type": "code",
   "execution_count": 1,
   "metadata": {},
   "outputs": [],
   "source": [
    "import pandas as pd\n",
    "import rasterio\n",
    "import matplotlib.pyplot as plt\n",
    "import numpy as np\n",
    "from sklearn.ensemble import RandomForestClassifier\n",
    "from sklearn.metrics import accuracy_score, confusion_matrix, precision_score, recall_score, ConfusionMatrixDisplay\n",
    "from sklearn.model_selection import RandomizedSearchCV, train_test_split\n",
    "from scipy.stats import randint\n",
    "import os\n",
    "import pickle"
   ]
  },
  {
   "cell_type": "code",
   "execution_count": 2,
   "metadata": {},
   "outputs": [],
   "source": [
    "with open(r'C:\\Users\\attic\\HLS_Kelp\\random_forest\\rf.pickle', 'rb') as f:\n",
    "    rf = pickle.load(f)\n",
    "classified_path = r'C:\\Users\\attic\\HLS_Kelp\\imagery\\rf_classified'\n",
    "unclassified_path = r'C:\\Users\\attic\\HLS_Kelp\\imagery\\rf_prepped'\n",
    "files = os.listdir(unclassified_path)"
   ]
  },
  {
   "cell_type": "code",
   "execution_count": 3,
   "metadata": {},
   "outputs": [
    {
     "name": "stdout",
     "output_type": "stream",
     "text": [
      "1 / 65\n",
      "2 / 65\n",
      "3 / 65\n",
      "4 / 65\n",
      "5 / 65\n",
      "6 / 65\n",
      "7 / 65\n",
      "8 / 65\n",
      "9 / 65\n",
      "10 / 65\n",
      "11 / 65\n",
      "12 / 65\n",
      "13 / 65\n",
      "14 / 65\n",
      "15 / 65\n",
      "16 / 65\n",
      "17 / 65\n",
      "18 / 65\n",
      "19 / 65\n",
      "20 / 65\n",
      "24 / 65\n",
      "25 / 65\n",
      "26 / 65\n",
      "27 / 65\n",
      "28 / 65\n",
      "29 / 65\n",
      "30 / 65\n",
      "31 / 65\n",
      "32 / 65\n",
      "33 / 65\n",
      "34 / 65\n",
      "35 / 65\n",
      "36 / 65\n",
      "37 / 65\n",
      "38 / 65\n",
      "39 / 65\n",
      "40 / 65\n",
      "41 / 65\n",
      "42 / 65\n",
      "43 / 65\n",
      "44 / 65\n",
      "45 / 65\n",
      "46 / 65\n",
      "47 / 65\n",
      "48 / 65\n",
      "49 / 65\n",
      "50 / 65\n",
      "51 / 65\n",
      "52 / 65\n",
      "53 / 65\n"
     ]
    }
   ],
   "source": [
    "for i, file in enumerate(files):\n",
    "    if os.path.isfile(os.path.join(classified_path, f'{file}_kelp_classified.tif')):\n",
    "        continue\n",
    "    with rasterio.open(os.path.join(unclassified_path,file)) as img:\n",
    "        file_img = img.read()\n",
    "        width,height = img.shape\n",
    "        img_data= file_img.reshape(file_img.shape[0], -1).T\n",
    "        kelp_data = rf.predict(img_data)\n",
    "        kelp_img = kelp_data.reshape(width, height)\n",
    "        data_type = rasterio.uint8\n",
    "        profile = {\n",
    "            'driver': 'GTiff',\n",
    "            'width': width,\n",
    "            'height': height,\n",
    "            'count': 1,  # one band\n",
    "            'dtype': data_type,  # assuming binary mask, adjust dtype if needed\n",
    "            'crs': img.crs,\n",
    "            'transform': img.transform,\n",
    "            'nodata': 0  # assuming no data is 0\n",
    "        }\n",
    "        # Write the land mask array to GeoTIFF\n",
    "        with rasterio.open(os.path.join(classified_path, f'{file}_kelp_classified.tif'), 'w', **profile) as dst:\n",
    "            dst.write(kelp_img.astype(data_type), 1)\n",
    "        print(f'{i+1} / {len(files)}')\n",
    "        "
   ]
  }
 ],
 "metadata": {
  "kernelspec": {
   "display_name": "hls_env",
   "language": "python",
   "name": "python3"
  },
  "language_info": {
   "codemirror_mode": {
    "name": "ipython",
    "version": 3
   },
   "file_extension": ".py",
   "mimetype": "text/x-python",
   "name": "python",
   "nbconvert_exporter": "python",
   "pygments_lexer": "ipython3",
   "version": "3.9.19"
  }
 },
 "nbformat": 4,
 "nbformat_minor": 2
}
