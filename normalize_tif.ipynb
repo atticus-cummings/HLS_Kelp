{
 "cells": [
  {
   "cell_type": "code",
   "execution_count": null,
   "metadata": {},
   "outputs": [],
   "source": []
  },
  {
   "cell_type": "code",
   "execution_count": null,
   "metadata": {},
   "outputs": [],
   "source": [
    " ##==========Create stacked np array, Apply landmask==========##\n",
    "\n",
    "    for file in img_files:\n",
    "            with rasterio.open(os.path.join(img_path, file)) as src:\n",
    "                img_bands.append(np.where(cloud_land_mask, 0, src.read(1)))  # Create image with the various bands\n",
    "    except RasterioIOError as e:\n",
    "        print(f\"Error reading file {file} in granule {item}: {e}\")\n",
    "        continue  # Skip to the next granule if a file cannot be read\n",
    "\n",
    "    img = np.stack(img_bands, axis=0)\n",
    "    n_bands, height, width = img.shape\n",
    "    img_2D = img.reshape(img.shape[0], -1).T #classifier takes 2D array of band values for each pixel \n",
    "\n",
    " ##========== Normalize multi-spectral data ==========##\n",
    "\n",
    "    img_sum = img_2D.sum(axis=1)\n",
    "    img_2D_normalized  = img_2D / img_sum[:,None] #divide value by sum of pixel band values\n",
    "    img_2D_normalized = (img_2D_normalized * 255)\n",
    "    img_2D_normalized = img_2D_normalized.astype(np.uint8)"
   ]
  }
 ],
 "metadata": {
  "language_info": {
   "name": "python"
  }
 },
 "nbformat": 4,
 "nbformat_minor": 2
}
