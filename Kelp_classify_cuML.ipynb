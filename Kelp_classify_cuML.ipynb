{
 "cells": [
  {
   "cell_type": "code",
   "execution_count": 1,
   "metadata": {},
   "outputs": [],
   "source": [
    "import pandas as pd\n",
    "import rasterio\n",
    "import matplotlib.pyplot as plt\n",
    "import numpy as np\n",
    "import cudf\n",
    "import cuml\n",
    "from cuml.ensemble import RandomForestClassifier as cuRF\n",
    "from cuml.model_selection import train_test_split\n",
    "from scipy.stats import randint\n",
    "from scipy.stats import randint\n",
    "import os\n",
    "import pickle"
   ]
  },
  {
   "cell_type": "code",
   "execution_count": 5,
   "metadata": {},
   "outputs": [],
   "source": [
    "retrain = False\n",
    "\n",
    "if not retrain:\n",
    "    rf_path = r'/mnt/c/users/attic/hls_kelp/random_forest/cu_rf'\n",
    "    with open(rf_path, 'rb') as f:\n",
    "        cu_rf = pickle.load(f)\n",
    "classified_path = r'/mnt/c/users/attic/hls_kelp/imagery/rf_classified_cuML'\n",
    "unclassified_path = r'/mnt/c/users/attic/hls_kelp/imagery/rf_prepped'\n",
    "files = os.listdir(unclassified_path)"
   ]
  },
  {
   "cell_type": "code",
   "execution_count": 6,
   "metadata": {},
   "outputs": [
    {
     "name": "stdout",
     "output_type": "stream",
     "text": [
      "1 / 31\n",
      "2 / 31\n",
      "3 / 31\n",
      "4 / 31\n",
      "5 / 31\n",
      "6 / 31\n",
      "7 / 31\n",
      "8 / 31\n",
      "9 / 31\n",
      "10 / 31\n",
      "11 / 31\n",
      "12 / 31\n",
      "13 / 31\n",
      "14 / 31\n",
      "15 / 31\n",
      "16 / 31\n",
      "17 / 31\n",
      "18 / 31\n",
      "19 / 31\n",
      "20 / 31\n",
      "21 / 31\n",
      "22 / 31\n",
      "23 / 31\n",
      "24 / 31\n"
     ]
    }
   ],
   "source": [
    "for i, file in enumerate(files):\n",
    "    if os.path.isfile(os.path.join(classified_path, f'{file}_kelp_classified.tif')):\n",
    "        continue\n",
    "    with rasterio.open(os.path.join(unclassified_path,file)) as img:\n",
    "        file_img = img.read(indexes=[1, 2, 3, 4, 5, 6])\n",
    "        width,height = img.shape\n",
    "        img_data= file_img.reshape(file_img.shape[0], -1).T\n",
    "        img_data = img_data.astype('float32')\n",
    "        kelp_data = cu_rf.predict(img_data)\n",
    "        kelp_img = kelp_data.reshape(width, height)\n",
    "        data_type = rasterio.uint8\n",
    "        profile = {\n",
    "            'driver': 'GTiff',\n",
    "            'width': width,\n",
    "            'height': height,\n",
    "            'count': 1,  # one band\n",
    "            'dtype': data_type,  # assuming binary mask, adjust dtype if needed\n",
    "            'crs': img.crs,\n",
    "            'transform': img.transform,\n",
    "            'nodata': 0  # assuming no data is 0\n",
    "        }\n",
    "        # Write the land mask array to GeoTIFF\n",
    "        with rasterio.open(os.path.join(classified_path, f'{file}_kelp_classified.tif'), 'w', **profile) as dst:\n",
    "            dst.write(kelp_img.astype(data_type), 1)\n",
    "        print(f'{i+1} / {len(files)}')\n",
    "        "
   ]
  }
 ],
 "metadata": {
  "kernelspec": {
   "display_name": "hls_env",
   "language": "python",
   "name": "python3"
  },
  "language_info": {
   "codemirror_mode": {
    "name": "ipython",
    "version": 3
   },
   "file_extension": ".py",
   "mimetype": "text/x-python",
   "name": "python",
   "nbconvert_exporter": "python",
   "pygments_lexer": "ipython3",
   "version": "3.9.19"
  }
 },
 "nbformat": 4,
 "nbformat_minor": 2
}
