{
 "cells": [
  {
   "cell_type": "code",
   "execution_count": null,
   "metadata": {},
   "outputs": [],
   "source": [
    "#Import libraries\n",
    "import os\n",
    "import geopandas as gp\n",
    "import matplotlib.pyplot as plt\n",
    "import json\n",
    "from contextlib import redirect_stdout\n",
    "import csv\n",
    "import earthaccess\n"
   ]
  },
  {
   "cell_type": "code",
   "execution_count": null,
   "metadata": {},
   "outputs": [],
   "source": [
    "#Login\n",
    "earthaccess.login(persist=True)"
   ]
  },
  {
   "cell_type": "code",
   "execution_count": null,
   "metadata": {},
   "outputs": [],
   "source": [
    "#Set time and location\n",
    "\n",
    "field = gp.read_file(r'C:\\Users\\attic\\HLS_Kelp\\maps\\philipines.geojson')\n",
    "bbox = tuple(list(field.total_bounds))\n",
    "bbox #Display coordinate bounds\n",
    "with open('./maps/philipines.geojson', 'r') as f:\n",
    "    data = json.load(f)\n",
    "# Extract the name\n",
    "location = 'Philipines'#(data['name']).replace('.kmz', '').replace(' ', '_')\n",
    "temporal = (\"1980-03-01T00:00:00\", \"2024-7-01T00:00:00\") #\n",
    "create_dem = False # set true if u want a digital elevation map \n",
    "dem_name = 'dem.tif'\n",
    "\n",
    "num_to_download = 11 #set this value to the number of frames you want\n",
    "load_num = -1 #sets number of granules to load, this should generally be >> than num_download;  -1 loads all \n",
    "specific_tile = True #set true if you only want specific tile \n",
    "tile = '51PTR' # "
   ]
  },
  {
   "cell_type": "code",
   "execution_count": null,
   "metadata": {},
   "outputs": [],
   "source": [
    "#Search for satellite data from  Landsat 30m and Sentinel 30m\n",
    "results = earthaccess.search_data(\n",
    "    short_name=['HLSL30','HLSS30'],\n",
    "    bounding_box=bbox,\n",
    "    temporal=temporal,\n",
    "     cloud_cover=0, #Determine cloud cover\n",
    "    count=load_num\n",
    ")\n",
    "if create_dem:\n",
    "    dem_results = earthaccess.search_data(\n",
    "        short_name=\"ASTGTM\",\n",
    "        bounding_box=bbox)\n",
    "    print(dem_results[0])\n",
    "\n",
    "print(results[0])\n"
   ]
  },
  {
   "cell_type": "code",
   "execution_count": null,
   "metadata": {},
   "outputs": [],
   "source": [
    "num_threads = os.cpu_count()\n",
    "print(num_threads)"
   ]
  },
  {
   "cell_type": "code",
   "execution_count": null,
   "metadata": {},
   "outputs": [],
   "source": [
    "\n",
    "folder_path = os.path.join(os.getcwd(),(f'imagery/{location}'))\n",
    "## ======= Create/write DEM, if requested ======= ##\n",
    "if create_dem:\n",
    "    if not os.path.isfile(os.path.join(folder_path, dem_name)):\n",
    "            dem_path = earthaccess.download(dem_results[0], local_path=folder_path)\n",
    "            os.rename(dem_path[0], os.path.join(folder_path,'dem.tif'))\n",
    "            os.rename(dem_path[1], os.path.join(folder_path, 'num.tif'))\n",
    "\n",
    "## ======= create location folder path ======= ##\n",
    "if not os.path.isdir(folder_path):\n",
    "    os.mkdir(folder_path)\n",
    "\n",
    "downloaded = 0\n",
    "\n",
    "for i, granule in enumerate(results):\n",
    "\n",
    "    ## ======= Parse metadata ======= ##\n",
    "    json_str = json.dumps(granule.__dict__)\n",
    "    metadata = json.loads(json_str) \n",
    "    meta = metadata['render_dict']['meta']\n",
    "    name = meta['native-id']\n",
    "\n",
    "    #For some reason, attributes are parsed into a list in the HLS metadata. This reformats it into a dictionary.\n",
    "    attributes_list = metadata['render_dict']['umm']['AdditionalAttributes']\n",
    "\n",
    "    attributes = {attr['Name']: attr['Values'][0] for attr in attributes_list}\n",
    "    #print(attributes['MGRS_TILE_ID'])\n",
    "\n",
    "    if(int(attributes['CLOUD_COVERAGE']) > 15): #Reject granules with large cloud cover, for now\n",
    "        continue\n",
    "    time = attributes['SENSING_TIME']\n",
    "    tile_folder = attributes['MGRS_TILE_ID']\n",
    "    if specific_tile and not tile_folder == tile:\n",
    "        continue\n",
    "    ## ======= Create file directory, if needed  ======= ##\n",
    "    tile_path = os.path.join(folder_path,tile_folder)\n",
    "    if not os.path.isdir(tile_path):\n",
    "         os.mkdir(tile_path)\n",
    "    folder_name = (f'{name}')\n",
    "    file_path = os.path.join(tile_path,folder_name)\n",
    "    if not os.path.isdir(file_path):\n",
    "        os.mkdir(file_path) #Make folder for granule \n",
    "\n",
    "    ## ======= download granule ======= ##\n",
    "    with open(os.devnull, 'w') as f, redirect_stdout(f):\n",
    "        downloadPath = earthaccess.download(granule, local_path=file_path)\n",
    "    downloaded = downloaded + 1\n",
    "    print(f'{name}')\n",
    "    if downloaded > num_to_download:\n",
    "         break\n",
    "\n",
    "    ## ======= write metadata csv ======= ##\n",
    "    csv_file = os.path.join(file_path, (f'{folder_name}_metadata.csv'))\n",
    "    metadata_full_dict = {**attributes, **meta}\n",
    "    vis_urls = granule.dataviz_links()\n",
    "    metadata_full_dict['data_vis_url'] = vis_urls[0]\n",
    "    with open(csv_file, 'w', newline='') as file:\n",
    "        writer = csv.writer(file)\n",
    "        writer.writerow(metadata_full_dict.keys())\n",
    "        writer.writerow(metadata_full_dict.values())"
   ]
  }
 ],
 "metadata": {
  "kernelspec": {
   "display_name": "hls_env",
   "language": "python",
   "name": "python3"
  },
  "language_info": {
   "codemirror_mode": {
    "name": "ipython",
    "version": 3
   },
   "file_extension": ".py",
   "mimetype": "text/x-python",
   "name": "python",
   "nbconvert_exporter": "python",
   "pygments_lexer": "ipython3",
   "version": "3.9.19"
  }
 },
 "nbformat": 4,
 "nbformat_minor": 2
}
