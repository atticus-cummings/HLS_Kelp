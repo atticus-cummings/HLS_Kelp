{
 "cells": [
  {
   "cell_type": "code",
   "execution_count": 1,
   "metadata": {},
   "outputs": [],
   "source": [
    "#Import libraries\n",
    "import os\n",
    "import pandas as pd\n",
    "import geopandas as gp\n",
    "from skimage import io\n",
    "import matplotlib.pyplot as plt\n",
    "from osgeo import gdal\n",
    "import json\n",
    "import csv\n",
    "import earthaccess\n"
   ]
  },
  {
   "cell_type": "code",
   "execution_count": 2,
   "metadata": {},
   "outputs": [
    {
     "data": {
      "text/plain": [
       "<earthaccess.auth.Auth at 0x1deaf1df370>"
      ]
     },
     "execution_count": 2,
     "metadata": {},
     "output_type": "execute_result"
    }
   ],
   "source": [
    "#Login\n",
    "earthaccess.login(persist=True)"
   ]
  },
  {
   "cell_type": "code",
   "execution_count": 3,
   "metadata": {},
   "outputs": [],
   "source": [
    "#Set time and location\n",
    "\n",
    "field = gp.read_file('./maps/Isla_Vista_Kelp.geojson')\n",
    "bbox = tuple(list(field.total_bounds))\n",
    "bbox #Display coordinate bounds\n",
    "with open('./maps/Isla_Vista_Kelp.geojson', 'r') as f:\n",
    "    data = json.load(f)\n",
    "# Extract the name\n",
    "location = (data['name']).replace('.kmz', '').replace(' ', '_')\n",
    "temporal = (\"2017-03-01T00:00:00\", \"2024-7-01T00:00:00\") #\n",
    "location\n",
    "dem_name = 'dem.tif'"
   ]
  },
  {
   "cell_type": "code",
   "execution_count": 4,
   "metadata": {},
   "outputs": [
    {
     "name": "stdout",
     "output_type": "stream",
     "text": [
      "Granules found: 1286\n",
      "Granules found: 1\n",
      "Collection: {'EntryTitle': 'HLS Sentinel-2 Multi-spectral Instrument Surface Reflectance Daily Global 30m v2.0'}\n",
      "Spatial coverage: {'HorizontalSpatialDomain': {'Geometry': {'GPolygons': [{'Boundary': {'Points': [{'Longitude': -120.25617766, 'Latitude': 34.20966703}, {'Longitude': -119.06537353, 'Latitude': 34.23552162}, {'Longitude': -119.09014717, 'Latitude': 35.2250277}, {'Longitude': -120.29518354, 'Latitude': 35.19820772}, {'Longitude': -120.25617766, 'Latitude': 34.20966703}]}}]}}}\n",
      "Temporal coverage: {'RangeDateTime': {'BeginningDateTime': '2017-03-08T18:54:20.450Z', 'EndingDateTime': '2017-03-08T18:54:20.450Z'}}\n",
      "Size(MB): 207.29323482513428\n",
      "Data: ['https://data.lpdaac.earthdatacloud.nasa.gov/lp-prod-protected/HLSS30.020/HLS.S30.T11SKU.2017067T185421.v2.0/HLS.S30.T11SKU.2017067T185421.v2.0.B11.tif', 'https://data.lpdaac.earthdatacloud.nasa.gov/lp-prod-protected/HLSS30.020/HLS.S30.T11SKU.2017067T185421.v2.0/HLS.S30.T11SKU.2017067T185421.v2.0.B05.tif', 'https://data.lpdaac.earthdatacloud.nasa.gov/lp-prod-protected/HLSS30.020/HLS.S30.T11SKU.2017067T185421.v2.0/HLS.S30.T11SKU.2017067T185421.v2.0.Fmask.tif', 'https://data.lpdaac.earthdatacloud.nasa.gov/lp-prod-protected/HLSS30.020/HLS.S30.T11SKU.2017067T185421.v2.0/HLS.S30.T11SKU.2017067T185421.v2.0.B10.tif', 'https://data.lpdaac.earthdatacloud.nasa.gov/lp-prod-protected/HLSS30.020/HLS.S30.T11SKU.2017067T185421.v2.0/HLS.S30.T11SKU.2017067T185421.v2.0.B04.tif', 'https://data.lpdaac.earthdatacloud.nasa.gov/lp-prod-protected/HLSS30.020/HLS.S30.T11SKU.2017067T185421.v2.0/HLS.S30.T11SKU.2017067T185421.v2.0.VAA.tif', 'https://data.lpdaac.earthdatacloud.nasa.gov/lp-prod-protected/HLSS30.020/HLS.S30.T11SKU.2017067T185421.v2.0/HLS.S30.T11SKU.2017067T185421.v2.0.B07.tif', 'https://data.lpdaac.earthdatacloud.nasa.gov/lp-prod-protected/HLSS30.020/HLS.S30.T11SKU.2017067T185421.v2.0/HLS.S30.T11SKU.2017067T185421.v2.0.B09.tif', 'https://data.lpdaac.earthdatacloud.nasa.gov/lp-prod-protected/HLSS30.020/HLS.S30.T11SKU.2017067T185421.v2.0/HLS.S30.T11SKU.2017067T185421.v2.0.B03.tif', 'https://data.lpdaac.earthdatacloud.nasa.gov/lp-prod-protected/HLSS30.020/HLS.S30.T11SKU.2017067T185421.v2.0/HLS.S30.T11SKU.2017067T185421.v2.0.B12.tif', 'https://data.lpdaac.earthdatacloud.nasa.gov/lp-prod-protected/HLSS30.020/HLS.S30.T11SKU.2017067T185421.v2.0/HLS.S30.T11SKU.2017067T185421.v2.0.B02.tif', 'https://data.lpdaac.earthdatacloud.nasa.gov/lp-prod-protected/HLSS30.020/HLS.S30.T11SKU.2017067T185421.v2.0/HLS.S30.T11SKU.2017067T185421.v2.0.B08.tif', 'https://data.lpdaac.earthdatacloud.nasa.gov/lp-prod-protected/HLSS30.020/HLS.S30.T11SKU.2017067T185421.v2.0/HLS.S30.T11SKU.2017067T185421.v2.0.SAA.tif', 'https://data.lpdaac.earthdatacloud.nasa.gov/lp-prod-protected/HLSS30.020/HLS.S30.T11SKU.2017067T185421.v2.0/HLS.S30.T11SKU.2017067T185421.v2.0.B8A.tif', 'https://data.lpdaac.earthdatacloud.nasa.gov/lp-prod-protected/HLSS30.020/HLS.S30.T11SKU.2017067T185421.v2.0/HLS.S30.T11SKU.2017067T185421.v2.0.B06.tif', 'https://data.lpdaac.earthdatacloud.nasa.gov/lp-prod-protected/HLSS30.020/HLS.S30.T11SKU.2017067T185421.v2.0/HLS.S30.T11SKU.2017067T185421.v2.0.SZA.tif', 'https://data.lpdaac.earthdatacloud.nasa.gov/lp-prod-protected/HLSS30.020/HLS.S30.T11SKU.2017067T185421.v2.0/HLS.S30.T11SKU.2017067T185421.v2.0.VZA.tif', 'https://data.lpdaac.earthdatacloud.nasa.gov/lp-prod-protected/HLSS30.020/HLS.S30.T11SKU.2017067T185421.v2.0/HLS.S30.T11SKU.2017067T185421.v2.0.B01.tif']\n",
      "Collection: {'ShortName': 'ASTGTM', 'Version': '003'}\n",
      "Spatial coverage: {'HorizontalSpatialDomain': {'Geometry': {'BoundingRectangles': [{'WestBoundingCoordinate': -120.0001389, 'EastBoundingCoordinate': -118.9998611, 'NorthBoundingCoordinate': 35.0001389, 'SouthBoundingCoordinate': 33.9998611}]}}}\n",
      "Temporal coverage: {'RangeDateTime': {'BeginningDateTime': '2000-03-01T00:00:00.000Z', 'EndingDateTime': '2013-11-30T23:59:59.000Z'}}\n",
      "Size(MB): 19.1409\n",
      "Data: ['https://data.lpdaac.earthdatacloud.nasa.gov/lp-prod-protected/ASTGTM.003/ASTGTMV003_N34W120_dem.tif', 'https://data.lpdaac.earthdatacloud.nasa.gov/lp-prod-protected/ASTGTM.003/ASTGTMV003_N34W120_num.tif']\n"
     ]
    }
   ],
   "source": [
    "#Search for satellite data from  Landsat 30m and Sentinel 30m\n",
    "results = earthaccess.search_data(\n",
    "    short_name=['HLSL30','HLSS30'],\n",
    "    bounding_box=bbox,\n",
    "    temporal=temporal,\n",
    "     cloud_cover=.15,\n",
    "    count=-1\n",
    ")\n",
    "\n",
    "dem_results = earthaccess.search_data(\n",
    "    short_name=\"ASTGTM\",\n",
    "    bounding_box=bbox)\n",
    "\n",
    "print(results[0])\n",
    "print(dem_results[0])"
   ]
  },
  {
   "cell_type": "code",
   "execution_count": 8,
   "metadata": {},
   "outputs": [
    {
     "name": "stdout",
     "output_type": "stream",
     "text": [
      "20\n"
     ]
    }
   ],
   "source": [
    "num_threads = os.cpu_count()\n",
    "print(num_threads)"
   ]
  },
  {
   "cell_type": "code",
   "execution_count": 5,
   "metadata": {},
   "outputs": [
    {
     "name": "stdout",
     "output_type": "stream",
     "text": [
      "0\n",
      "11SKU\n",
      " Getting 1 granules, approx download size: 0.2 GB\n"
     ]
    },
    {
     "data": {
      "application/vnd.jupyter.widget-view+json": {
       "model_id": "85eb0ea4bfbd4073a00ea4efb0f68d99",
       "version_major": 2,
       "version_minor": 0
      },
      "text/plain": [
       "QUEUEING TASKS | :   0%|          | 0/18 [00:00<?, ?it/s]"
      ]
     },
     "metadata": {},
     "output_type": "display_data"
    },
    {
     "name": "stdout",
     "output_type": "stream",
     "text": [
      "File HLS.S30.T11SKU.2017067T185421.v2.0.B11.tif already downloaded\n",
      "File HLS.S30.T11SKU.2017067T185421.v2.0.B05.tif already downloaded\n",
      "File HLS.S30.T11SKU.2017067T185421.v2.0.Fmask.tif already downloaded\n",
      "File HLS.S30.T11SKU.2017067T185421.v2.0.B04.tif already downloaded\n",
      "File HLS.S30.T11SKU.2017067T185421.v2.0.B10.tif already downloaded\n",
      "File HLS.S30.T11SKU.2017067T185421.v2.0.VAA.tif already downloaded\n",
      "File HLS.S30.T11SKU.2017067T185421.v2.0.B09.tif already downloaded\n",
      "File HLS.S30.T11SKU.2017067T185421.v2.0.B03.tif already downloaded\n",
      "File HLS.S30.T11SKU.2017067T185421.v2.0.B07.tif already downloaded\n",
      "File HLS.S30.T11SKU.2017067T185421.v2.0.B08.tif already downloaded\n",
      "File HLS.S30.T11SKU.2017067T185421.v2.0.SAA.tif already downloaded\n",
      "File HLS.S30.T11SKU.2017067T185421.v2.0.B8A.tif already downloaded\n",
      "File HLS.S30.T11SKU.2017067T185421.v2.0.B12.tif already downloaded\n",
      "File HLS.S30.T11SKU.2017067T185421.v2.0.B06.tif already downloaded\n",
      "File HLS.S30.T11SKU.2017067T185421.v2.0.B02.tif already downloaded\n",
      "File HLS.S30.T11SKU.2017067T185421.v2.0.VZA.tif already downloaded\n",
      "File HLS.S30.T11SKU.2017067T185421.v2.0.SZA.tif already downloaded\n",
      "File HLS.S30.T11SKU.2017067T185421.v2.0.B01.tif already downloaded\n"
     ]
    },
    {
     "data": {
      "application/vnd.jupyter.widget-view+json": {
       "model_id": "e59331af7b5d464e9eea73e735bd3fae",
       "version_major": 2,
       "version_minor": 0
      },
      "text/plain": [
       "PROCESSING TASKS | :   0%|          | 0/18 [00:00<?, ?it/s]"
      ]
     },
     "metadata": {},
     "output_type": "display_data"
    },
    {
     "data": {
      "application/vnd.jupyter.widget-view+json": {
       "model_id": "2eb5c6184faa420a9c0a307db6e5d1c7",
       "version_major": 2,
       "version_minor": 0
      },
      "text/plain": [
       "COLLECTING RESULTS | :   0%|          | 0/18 [00:00<?, ?it/s]"
      ]
     },
     "metadata": {},
     "output_type": "display_data"
    },
    {
     "name": "stdout",
     "output_type": "stream",
     "text": [
      "1\n",
      "10SGD\n",
      " Getting 1 granules, approx download size: 0.19 GB\n"
     ]
    },
    {
     "data": {
      "application/vnd.jupyter.widget-view+json": {
       "model_id": "cfde282294834edaacf467448e0c8960",
       "version_major": 2,
       "version_minor": 0
      },
      "text/plain": [
       "QUEUEING TASKS | :   0%|          | 0/18 [00:00<?, ?it/s]"
      ]
     },
     "metadata": {},
     "output_type": "display_data"
    },
    {
     "name": "stdout",
     "output_type": "stream",
     "text": [
      "File HLS.S30.T10SGD.2017067T185421.v2.0.Fmask.tif already downloaded\n",
      "File HLS.S30.T10SGD.2017067T185421.v2.0.B8A.tif already downloaded\n",
      "File HLS.S30.T10SGD.2017067T185421.v2.0.B10.tif already downloaded\n",
      "File HLS.S30.T10SGD.2017067T185421.v2.0.B09.tif already downloaded\n",
      "File HLS.S30.T10SGD.2017067T185421.v2.0.B11.tif already downloaded\n",
      "File HLS.S30.T10SGD.2017067T185421.v2.0.B08.tif already downloaded\n",
      "File HLS.S30.T10SGD.2017067T185421.v2.0.B12.tif already downloaded\n",
      "File HLS.S30.T10SGD.2017067T185421.v2.0.B03.tif already downloaded\n",
      "File HLS.S30.T10SGD.2017067T185421.v2.0.VAA.tif already downloaded\n",
      "File HLS.S30.T10SGD.2017067T185421.v2.0.B02.tif already downloaded\n",
      "File HLS.S30.T10SGD.2017067T185421.v2.0.B04.tif already downloaded\n",
      "File HLS.S30.T10SGD.2017067T185421.v2.0.B05.tif already downloaded\n",
      "File HLS.S30.T10SGD.2017067T185421.v2.0.SZA.tif already downloaded\n",
      "File HLS.S30.T10SGD.2017067T185421.v2.0.VZA.tif already downloaded\n",
      "File HLS.S30.T10SGD.2017067T185421.v2.0.SAA.tif already downloaded\n",
      "File HLS.S30.T10SGD.2017067T185421.v2.0.B06.tif already downloaded\n",
      "File HLS.S30.T10SGD.2017067T185421.v2.0.B01.tif already downloaded\n",
      "File HLS.S30.T10SGD.2017067T185421.v2.0.B07.tif already downloaded\n"
     ]
    },
    {
     "data": {
      "application/vnd.jupyter.widget-view+json": {
       "model_id": "ca9452daa9c14ee0b2410dd05b991908",
       "version_major": 2,
       "version_minor": 0
      },
      "text/plain": [
       "PROCESSING TASKS | :   0%|          | 0/18 [00:00<?, ?it/s]"
      ]
     },
     "metadata": {},
     "output_type": "display_data"
    },
    {
     "data": {
      "application/vnd.jupyter.widget-view+json": {
       "model_id": "1bca3efa187d4ae5a2dc15c1f8767cc2",
       "version_major": 2,
       "version_minor": 0
      },
      "text/plain": [
       "COLLECTING RESULTS | :   0%|          | 0/18 [00:00<?, ?it/s]"
      ]
     },
     "metadata": {},
     "output_type": "display_data"
    },
    {
     "name": "stdout",
     "output_type": "stream",
     "text": [
      "2\n",
      "11SKU\n",
      " Getting 1 granules, approx download size: 0.18 GB\n"
     ]
    },
    {
     "data": {
      "application/vnd.jupyter.widget-view+json": {
       "model_id": "65135faf3f4e473bb44b322448e35a13",
       "version_major": 2,
       "version_minor": 0
      },
      "text/plain": [
       "QUEUEING TASKS | :   0%|          | 0/15 [00:00<?, ?it/s]"
      ]
     },
     "metadata": {},
     "output_type": "display_data"
    },
    {
     "name": "stdout",
     "output_type": "stream",
     "text": [
      "File HLS.L30.T11SKU.2017071T183351.v2.0.B11.tif already downloadedFile HLS.L30.T11SKU.2017071T183351.v2.0.SZA.tif already downloaded\n",
      "\n",
      "File HLS.L30.T11SKU.2017071T183351.v2.0.VAA.tif already downloaded\n",
      "File HLS.L30.T11SKU.2017071T183351.v2.0.B07.tif already downloaded\n",
      "File HLS.L30.T11SKU.2017071T183351.v2.0.B04.tif already downloaded\n",
      "File HLS.L30.T11SKU.2017071T183351.v2.0.B03.tif already downloaded\n",
      "File HLS.L30.T11SKU.2017071T183351.v2.0.B10.tif already downloaded\n",
      "File HLS.L30.T11SKU.2017071T183351.v2.0.B06.tif already downloaded\n",
      "File HLS.L30.T11SKU.2017071T183351.v2.0.B05.tif already downloaded\n",
      "File HLS.L30.T11SKU.2017071T183351.v2.0.VZA.tif already downloaded\n",
      "File HLS.L30.T11SKU.2017071T183351.v2.0.B02.tif already downloaded\n",
      "File HLS.L30.T11SKU.2017071T183351.v2.0.B01.tif already downloaded\n",
      "File HLS.L30.T11SKU.2017071T183351.v2.0.SAA.tif already downloaded\n",
      "File HLS.L30.T11SKU.2017071T183351.v2.0.Fmask.tif already downloaded\n",
      "File HLS.L30.T11SKU.2017071T183351.v2.0.B09.tif already downloaded\n"
     ]
    },
    {
     "data": {
      "application/vnd.jupyter.widget-view+json": {
       "model_id": "db585c096a804d4aad3813a1579b0449",
       "version_major": 2,
       "version_minor": 0
      },
      "text/plain": [
       "PROCESSING TASKS | :   0%|          | 0/15 [00:00<?, ?it/s]"
      ]
     },
     "metadata": {},
     "output_type": "display_data"
    },
    {
     "data": {
      "application/vnd.jupyter.widget-view+json": {
       "model_id": "130f01c4013044eabc0f98b37df06af1",
       "version_major": 2,
       "version_minor": 0
      },
      "text/plain": [
       "COLLECTING RESULTS | :   0%|          | 0/15 [00:00<?, ?it/s]"
      ]
     },
     "metadata": {},
     "output_type": "display_data"
    },
    {
     "name": "stdout",
     "output_type": "stream",
     "text": [
      "3\n",
      "10SGD\n",
      " Getting 1 granules, approx download size: 0.17 GB\n"
     ]
    },
    {
     "data": {
      "application/vnd.jupyter.widget-view+json": {
       "model_id": "f6eb511391bd4ceb9f77ec725c03dd19",
       "version_major": 2,
       "version_minor": 0
      },
      "text/plain": [
       "QUEUEING TASKS | :   0%|          | 0/15 [00:00<?, ?it/s]"
      ]
     },
     "metadata": {},
     "output_type": "display_data"
    },
    {
     "name": "stdout",
     "output_type": "stream",
     "text": [
      "File HLS.L30.T10SGD.2017071T183415.v2.0.B04.tif already downloaded\n",
      "File HLS.L30.T10SGD.2017071T183415.v2.0.B02.tif already downloaded\n",
      "File HLS.L30.T10SGD.2017071T183415.v2.0.SZA.tif already downloaded\n",
      "File HLS.L30.T10SGD.2017071T183415.v2.0.B01.tif already downloaded\n",
      "File HLS.L30.T10SGD.2017071T183415.v2.0.B06.tif already downloaded\n",
      "File HLS.L30.T10SGD.2017071T183415.v2.0.VAA.tif already downloaded\n",
      "File HLS.L30.T10SGD.2017071T183415.v2.0.B11.tif already downloaded\n",
      "File HLS.L30.T10SGD.2017071T183415.v2.0.VZA.tif already downloaded\n",
      "File HLS.L30.T10SGD.2017071T183415.v2.0.B07.tif already downloaded\n",
      "File HLS.L30.T10SGD.2017071T183415.v2.0.SAA.tif already downloaded\n",
      "File HLS.L30.T10SGD.2017071T183415.v2.0.Fmask.tif already downloaded\n",
      "File HLS.L30.T10SGD.2017071T183415.v2.0.B10.tif already downloaded\n",
      "File HLS.L30.T10SGD.2017071T183415.v2.0.B09.tif already downloaded\n",
      "File HLS.L30.T10SGD.2017071T183415.v2.0.B05.tif already downloaded\n",
      "File HLS.L30.T10SGD.2017071T183415.v2.0.B03.tif already downloaded\n"
     ]
    },
    {
     "data": {
      "application/vnd.jupyter.widget-view+json": {
       "model_id": "aff8c00f13e6488d9e2d387032adc27e",
       "version_major": 2,
       "version_minor": 0
      },
      "text/plain": [
       "PROCESSING TASKS | :   0%|          | 0/15 [00:00<?, ?it/s]"
      ]
     },
     "metadata": {},
     "output_type": "display_data"
    },
    {
     "data": {
      "application/vnd.jupyter.widget-view+json": {
       "model_id": "e40e9ba12f3745d98edb238d37b90b05",
       "version_major": 2,
       "version_minor": 0
      },
      "text/plain": [
       "COLLECTING RESULTS | :   0%|          | 0/15 [00:00<?, ?it/s]"
      ]
     },
     "metadata": {},
     "output_type": "display_data"
    },
    {
     "name": "stdout",
     "output_type": "stream",
     "text": [
      "4\n",
      "11SKU\n",
      " Getting 1 granules, approx download size: 0.22 GB\n"
     ]
    },
    {
     "data": {
      "application/vnd.jupyter.widget-view+json": {
       "model_id": "d9948a86ca8a44cb89bdc0f95ff86b69",
       "version_major": 2,
       "version_minor": 0
      },
      "text/plain": [
       "QUEUEING TASKS | :   0%|          | 0/18 [00:00<?, ?it/s]"
      ]
     },
     "metadata": {},
     "output_type": "display_data"
    },
    {
     "name": "stdout",
     "output_type": "stream",
     "text": [
      "File HLS.S30.T11SKU.2017077T184101.v2.0.B8A.tif already downloaded\n",
      "File HLS.S30.T11SKU.2017077T184101.v2.0.B12.tif already downloaded\n",
      "File HLS.S30.T11SKU.2017077T184101.v2.0.VZA.tif already downloaded\n",
      "File HLS.S30.T11SKU.2017077T184101.v2.0.B09.tif already downloaded\n",
      "File HLS.S30.T11SKU.2017077T184101.v2.0.B07.tif already downloaded\n",
      "File HLS.S30.T11SKU.2017077T184101.v2.0.B10.tif already downloaded\n",
      "File HLS.S30.T11SKU.2017077T184101.v2.0.SZA.tif already downloaded\n",
      "File HLS.S30.T11SKU.2017077T184101.v2.0.B03.tif already downloaded\n",
      "File HLS.S30.T11SKU.2017077T184101.v2.0.VAA.tif already downloaded\n",
      "File HLS.S30.T11SKU.2017077T184101.v2.0.B06.tif already downloaded\n",
      "File HLS.S30.T11SKU.2017077T184101.v2.0.B04.tif already downloaded\n",
      "File HLS.S30.T11SKU.2017077T184101.v2.0.B11.tif already downloaded\n",
      "File HLS.S30.T11SKU.2017077T184101.v2.0.B01.tif already downloaded\n",
      "File HLS.S30.T11SKU.2017077T184101.v2.0.SAA.tif already downloaded\n",
      "File HLS.S30.T11SKU.2017077T184101.v2.0.B02.tif already downloaded\n",
      "File HLS.S30.T11SKU.2017077T184101.v2.0.B08.tif already downloaded\n",
      "File HLS.S30.T11SKU.2017077T184101.v2.0.Fmask.tif already downloaded\n",
      "File HLS.S30.T11SKU.2017077T184101.v2.0.B05.tif already downloaded\n"
     ]
    },
    {
     "data": {
      "application/vnd.jupyter.widget-view+json": {
       "model_id": "09905f3caae949c7aed35cdd92fc4c2b",
       "version_major": 2,
       "version_minor": 0
      },
      "text/plain": [
       "PROCESSING TASKS | :   0%|          | 0/18 [00:00<?, ?it/s]"
      ]
     },
     "metadata": {},
     "output_type": "display_data"
    },
    {
     "data": {
      "application/vnd.jupyter.widget-view+json": {
       "model_id": "89c378ea660c40f8965d41ccd88c22fe",
       "version_major": 2,
       "version_minor": 0
      },
      "text/plain": [
       "COLLECTING RESULTS | :   0%|          | 0/18 [00:00<?, ?it/s]"
      ]
     },
     "metadata": {},
     "output_type": "display_data"
    },
    {
     "name": "stdout",
     "output_type": "stream",
     "text": [
      "5\n",
      "10SGD\n",
      " Getting 1 granules, approx download size: 0.22 GB\n"
     ]
    },
    {
     "data": {
      "application/vnd.jupyter.widget-view+json": {
       "model_id": "02b861ba0a47406c9d7f9430cb1ca370",
       "version_major": 2,
       "version_minor": 0
      },
      "text/plain": [
       "QUEUEING TASKS | :   0%|          | 0/18 [00:00<?, ?it/s]"
      ]
     },
     "metadata": {},
     "output_type": "display_data"
    },
    {
     "name": "stdout",
     "output_type": "stream",
     "text": [
      "File HLS.S30.T10SGD.2017077T184101.v2.0.B12.tif already downloadedFile HLS.S30.T10SGD.2017077T184101.v2.0.B08.tif already downloaded\n",
      "\n",
      "File HLS.S30.T10SGD.2017077T184101.v2.0.VZA.tif already downloaded\n",
      "File HLS.S30.T10SGD.2017077T184101.v2.0.Fmask.tif already downloaded\n",
      "File HLS.S30.T10SGD.2017077T184101.v2.0.B01.tif already downloaded\n",
      "File HLS.S30.T10SGD.2017077T184101.v2.0.B8A.tif already downloaded\n",
      "File HLS.S30.T10SGD.2017077T184101.v2.0.VAA.tif already downloaded\n",
      "File HLS.S30.T10SGD.2017077T184101.v2.0.SZA.tif already downloaded\n",
      "File HLS.S30.T10SGD.2017077T184101.v2.0.B07.tif already downloaded\n",
      "File HLS.S30.T10SGD.2017077T184101.v2.0.SAA.tif already downloaded\n",
      "File HLS.S30.T10SGD.2017077T184101.v2.0.B10.tif already downloaded\n",
      "File HLS.S30.T10SGD.2017077T184101.v2.0.B03.tif already downloaded\n",
      "File HLS.S30.T10SGD.2017077T184101.v2.0.B06.tif already downloaded\n",
      "File HLS.S30.T10SGD.2017077T184101.v2.0.B05.tif already downloaded\n",
      "File HLS.S30.T10SGD.2017077T184101.v2.0.B04.tif already downloaded\n",
      "File HLS.S30.T10SGD.2017077T184101.v2.0.B09.tif already downloaded\n",
      "File HLS.S30.T10SGD.2017077T184101.v2.0.B02.tif already downloaded\n",
      "File HLS.S30.T10SGD.2017077T184101.v2.0.B11.tif already downloaded\n"
     ]
    },
    {
     "data": {
      "application/vnd.jupyter.widget-view+json": {
       "model_id": "8de0f6d5a70b4c06a3e1a398f32ae533",
       "version_major": 2,
       "version_minor": 0
      },
      "text/plain": [
       "PROCESSING TASKS | :   0%|          | 0/18 [00:00<?, ?it/s]"
      ]
     },
     "metadata": {},
     "output_type": "display_data"
    },
    {
     "data": {
      "application/vnd.jupyter.widget-view+json": {
       "model_id": "423dc7e0d49a432794be8df324a90cff",
       "version_major": 2,
       "version_minor": 0
      },
      "text/plain": [
       "COLLECTING RESULTS | :   0%|          | 0/18 [00:00<?, ?it/s]"
      ]
     },
     "metadata": {},
     "output_type": "display_data"
    },
    {
     "name": "stdout",
     "output_type": "stream",
     "text": [
      "6\n",
      "11SKU\n",
      " Getting 1 granules, approx download size: 0.18 GB\n"
     ]
    },
    {
     "data": {
      "application/vnd.jupyter.widget-view+json": {
       "model_id": "2334a4faa47447d599de88c4dc4c89dc",
       "version_major": 2,
       "version_minor": 0
      },
      "text/plain": [
       "QUEUEING TASKS | :   0%|          | 0/15 [00:00<?, ?it/s]"
      ]
     },
     "metadata": {},
     "output_type": "display_data"
    },
    {
     "name": "stdout",
     "output_type": "stream",
     "text": [
      "File HLS.L30.T11SKU.2017087T183342.v2.0.B01.tif already downloaded\n",
      "File HLS.L30.T11SKU.2017087T183342.v2.0.Fmask.tif already downloaded\n",
      "File HLS.L30.T11SKU.2017087T183342.v2.0.B10.tif already downloaded\n",
      "File HLS.L30.T11SKU.2017087T183342.v2.0.B02.tif already downloaded\n",
      "File HLS.L30.T11SKU.2017087T183342.v2.0.VAA.tif already downloaded\n",
      "File HLS.L30.T11SKU.2017087T183342.v2.0.B09.tif already downloaded\n",
      "File HLS.L30.T11SKU.2017087T183342.v2.0.B06.tif already downloaded\n",
      "File HLS.L30.T11SKU.2017087T183342.v2.0.SZA.tif already downloaded\n",
      "File HLS.L30.T11SKU.2017087T183342.v2.0.B11.tif already downloaded\n",
      "File HLS.L30.T11SKU.2017087T183342.v2.0.VZA.tif already downloaded\n",
      "File HLS.L30.T11SKU.2017087T183342.v2.0.SAA.tif already downloaded\n",
      "File HLS.L30.T11SKU.2017087T183342.v2.0.B03.tif already downloaded\n",
      "File HLS.L30.T11SKU.2017087T183342.v2.0.B05.tif already downloaded\n",
      "File HLS.L30.T11SKU.2017087T183342.v2.0.B07.tif already downloaded\n",
      "File HLS.L30.T11SKU.2017087T183342.v2.0.B04.tif already downloaded\n"
     ]
    },
    {
     "data": {
      "application/vnd.jupyter.widget-view+json": {
       "model_id": "5a959087f33f4e078e676b5654959820",
       "version_major": 2,
       "version_minor": 0
      },
      "text/plain": [
       "PROCESSING TASKS | :   0%|          | 0/15 [00:00<?, ?it/s]"
      ]
     },
     "metadata": {},
     "output_type": "display_data"
    },
    {
     "data": {
      "application/vnd.jupyter.widget-view+json": {
       "model_id": "098af50823564c728be48e5b94ddede0",
       "version_major": 2,
       "version_minor": 0
      },
      "text/plain": [
       "COLLECTING RESULTS | :   0%|          | 0/15 [00:00<?, ?it/s]"
      ]
     },
     "metadata": {},
     "output_type": "display_data"
    },
    {
     "name": "stdout",
     "output_type": "stream",
     "text": [
      "7\n",
      "10SGD\n",
      " Getting 1 granules, approx download size: 0.17 GB\n"
     ]
    },
    {
     "data": {
      "application/vnd.jupyter.widget-view+json": {
       "model_id": "e2f4ce666b5943db824badef10094b12",
       "version_major": 2,
       "version_minor": 0
      },
      "text/plain": [
       "QUEUEING TASKS | :   0%|          | 0/15 [00:00<?, ?it/s]"
      ]
     },
     "metadata": {},
     "output_type": "display_data"
    },
    {
     "name": "stdout",
     "output_type": "stream",
     "text": [
      "File HLS.L30.T10SGD.2017087T183406.v2.0.B06.tif already downloaded\n",
      "File HLS.L30.T10SGD.2017087T183406.v2.0.B04.tif already downloaded\n",
      "File HLS.L30.T10SGD.2017087T183406.v2.0.B05.tif already downloaded\n",
      "File HLS.L30.T10SGD.2017087T183406.v2.0.SZA.tif already downloaded\n",
      "File HLS.L30.T10SGD.2017087T183406.v2.0.B01.tif already downloaded\n",
      "File HLS.L30.T10SGD.2017087T183406.v2.0.B10.tif already downloaded\n",
      "File HLS.L30.T10SGD.2017087T183406.v2.0.B11.tif already downloaded\n",
      "File HLS.L30.T10SGD.2017087T183406.v2.0.B07.tif already downloaded\n",
      "File HLS.L30.T10SGD.2017087T183406.v2.0.B03.tif already downloaded\n",
      "File HLS.L30.T10SGD.2017087T183406.v2.0.B09.tif already downloaded\n",
      "File HLS.L30.T10SGD.2017087T183406.v2.0.SAA.tif already downloaded\n",
      "File HLS.L30.T10SGD.2017087T183406.v2.0.Fmask.tif already downloaded\n",
      "File HLS.L30.T10SGD.2017087T183406.v2.0.B02.tif already downloaded\n",
      "File HLS.L30.T10SGD.2017087T183406.v2.0.VAA.tif already downloaded\n",
      "File HLS.L30.T10SGD.2017087T183406.v2.0.VZA.tif already downloaded\n"
     ]
    },
    {
     "data": {
      "application/vnd.jupyter.widget-view+json": {
       "model_id": "aaf64435ab72471b812d89e7829061ab",
       "version_major": 2,
       "version_minor": 0
      },
      "text/plain": [
       "PROCESSING TASKS | :   0%|          | 0/15 [00:00<?, ?it/s]"
      ]
     },
     "metadata": {},
     "output_type": "display_data"
    },
    {
     "data": {
      "application/vnd.jupyter.widget-view+json": {
       "model_id": "664925c269f949cb8c3c51786b64f4da",
       "version_major": 2,
       "version_minor": 0
      },
      "text/plain": [
       "COLLECTING RESULTS | :   0%|          | 0/15 [00:00<?, ?it/s]"
      ]
     },
     "metadata": {},
     "output_type": "display_data"
    },
    {
     "name": "stdout",
     "output_type": "stream",
     "text": [
      "8\n",
      "11SKU\n",
      " Getting 1 granules, approx download size: 0.21 GB\n"
     ]
    },
    {
     "data": {
      "application/vnd.jupyter.widget-view+json": {
       "model_id": "411f71154fe84157bfe7eedbf677250d",
       "version_major": 2,
       "version_minor": 0
      },
      "text/plain": [
       "QUEUEING TASKS | :   0%|          | 0/18 [00:00<?, ?it/s]"
      ]
     },
     "metadata": {},
     "output_type": "display_data"
    },
    {
     "name": "stdout",
     "output_type": "stream",
     "text": [
      "File HLS.S30.T11SKU.2017087T185421.v2.0.B12.tif already downloaded\n",
      "File HLS.S30.T11SKU.2017087T185421.v2.0.B8A.tif already downloaded\n",
      "File HLS.S30.T11SKU.2017087T185421.v2.0.B02.tif already downloadedFile HLS.S30.T11SKU.2017087T185421.v2.0.B08.tif already downloaded\n",
      "File HLS.S30.T11SKU.2017087T185421.v2.0.VZA.tif already downloaded\n",
      "\n",
      "File HLS.S30.T11SKU.2017087T185421.v2.0.B07.tif already downloaded\n",
      "File HLS.S30.T11SKU.2017087T185421.v2.0.B05.tif already downloaded\n",
      "File HLS.S30.T11SKU.2017087T185421.v2.0.SZA.tif already downloaded\n",
      "File HLS.S30.T11SKU.2017087T185421.v2.0.VAA.tif already downloaded\n",
      "File HLS.S30.T11SKU.2017087T185421.v2.0.B06.tif already downloaded\n",
      "File HLS.S30.T11SKU.2017087T185421.v2.0.B10.tif already downloaded\n",
      "File HLS.S30.T11SKU.2017087T185421.v2.0.B09.tif already downloaded\n",
      "File HLS.S30.T11SKU.2017087T185421.v2.0.B01.tif already downloaded\n",
      "File HLS.S30.T11SKU.2017087T185421.v2.0.B03.tif already downloaded\n",
      "File HLS.S30.T11SKU.2017087T185421.v2.0.Fmask.tif already downloaded\n",
      "File HLS.S30.T11SKU.2017087T185421.v2.0.B11.tif already downloaded\n",
      "File HLS.S30.T11SKU.2017087T185421.v2.0.B04.tif already downloaded\n",
      "File HLS.S30.T11SKU.2017087T185421.v2.0.SAA.tif already downloaded\n"
     ]
    },
    {
     "data": {
      "application/vnd.jupyter.widget-view+json": {
       "model_id": "db2c83dd34074df1abe96fc5b66ac1a7",
       "version_major": 2,
       "version_minor": 0
      },
      "text/plain": [
       "PROCESSING TASKS | :   0%|          | 0/18 [00:00<?, ?it/s]"
      ]
     },
     "metadata": {},
     "output_type": "display_data"
    },
    {
     "data": {
      "application/vnd.jupyter.widget-view+json": {
       "model_id": "81ac96f2212c4d5a90049d0cd044ad7b",
       "version_major": 2,
       "version_minor": 0
      },
      "text/plain": [
       "COLLECTING RESULTS | :   0%|          | 0/18 [00:00<?, ?it/s]"
      ]
     },
     "metadata": {},
     "output_type": "display_data"
    },
    {
     "name": "stdout",
     "output_type": "stream",
     "text": [
      "9\n",
      "10SGD\n",
      " Getting 1 granules, approx download size: 0.2 GB\n"
     ]
    },
    {
     "data": {
      "application/vnd.jupyter.widget-view+json": {
       "model_id": "8f9a3c149a0c4e87a1821de4f068b1cd",
       "version_major": 2,
       "version_minor": 0
      },
      "text/plain": [
       "QUEUEING TASKS | :   0%|          | 0/18 [00:00<?, ?it/s]"
      ]
     },
     "metadata": {},
     "output_type": "display_data"
    },
    {
     "name": "stdout",
     "output_type": "stream",
     "text": [
      "File HLS.S30.T10SGD.2017087T185421.v2.0.VAA.tif already downloaded\n",
      "File HLS.S30.T10SGD.2017087T185421.v2.0.B09.tif already downloaded\n",
      "File HLS.S30.T10SGD.2017087T185421.v2.0.B11.tif already downloaded\n",
      "File HLS.S30.T10SGD.2017087T185421.v2.0.B01.tif already downloaded\n",
      "File HLS.S30.T10SGD.2017087T185421.v2.0.B04.tif already downloaded\n",
      "File HLS.S30.T10SGD.2017087T185421.v2.0.B05.tif already downloaded\n",
      "File HLS.S30.T10SGD.2017087T185421.v2.0.B03.tif already downloaded\n",
      "File HLS.S30.T10SGD.2017087T185421.v2.0.SAA.tif already downloaded\n",
      "File HLS.S30.T10SGD.2017087T185421.v2.0.Fmask.tif already downloaded\n",
      "File HLS.S30.T10SGD.2017087T185421.v2.0.SZA.tif already downloaded\n",
      "File HLS.S30.T10SGD.2017087T185421.v2.0.B08.tif already downloaded\n",
      "File HLS.S30.T10SGD.2017087T185421.v2.0.B8A.tif already downloaded\n",
      "File HLS.S30.T10SGD.2017087T185421.v2.0.B12.tif already downloaded\n",
      "File HLS.S30.T10SGD.2017087T185421.v2.0.B02.tif already downloaded\n",
      "File HLS.S30.T10SGD.2017087T185421.v2.0.VZA.tif already downloaded\n",
      "File HLS.S30.T10SGD.2017087T185421.v2.0.B07.tif already downloaded\n",
      "File HLS.S30.T10SGD.2017087T185421.v2.0.B06.tif already downloaded\n",
      "File HLS.S30.T10SGD.2017087T185421.v2.0.B10.tif already downloaded\n"
     ]
    },
    {
     "data": {
      "application/vnd.jupyter.widget-view+json": {
       "model_id": "7dd0d82ce8c44638b9e11b8ad6a54803",
       "version_major": 2,
       "version_minor": 0
      },
      "text/plain": [
       "PROCESSING TASKS | :   0%|          | 0/18 [00:00<?, ?it/s]"
      ]
     },
     "metadata": {},
     "output_type": "display_data"
    },
    {
     "data": {
      "application/vnd.jupyter.widget-view+json": {
       "model_id": "f2becb8b790445b891ac7117fba24bfa",
       "version_major": 2,
       "version_minor": 0
      },
      "text/plain": [
       "COLLECTING RESULTS | :   0%|          | 0/18 [00:00<?, ?it/s]"
      ]
     },
     "metadata": {},
     "output_type": "display_data"
    },
    {
     "name": "stdout",
     "output_type": "stream",
     "text": [
      "10\n",
      "11SKU\n",
      " Getting 1 granules, approx download size: 0.2 GB\n"
     ]
    },
    {
     "data": {
      "application/vnd.jupyter.widget-view+json": {
       "model_id": "a5338afe2934437ea2822c158fca7d49",
       "version_major": 2,
       "version_minor": 0
      },
      "text/plain": [
       "QUEUEING TASKS | :   0%|          | 0/15 [00:00<?, ?it/s]"
      ]
     },
     "metadata": {},
     "output_type": "display_data"
    },
    {
     "name": "stdout",
     "output_type": "stream",
     "text": [
      "File HLS.L30.T11SKU.2017103T183335.v2.0.Fmask.tif already downloaded\n",
      "File HLS.L30.T11SKU.2017103T183335.v2.0.B10.tif already downloaded\n",
      "File HLS.L30.T11SKU.2017103T183335.v2.0.VZA.tif already downloaded\n",
      "File HLS.L30.T11SKU.2017103T183335.v2.0.B01.tif already downloaded\n",
      "File HLS.L30.T11SKU.2017103T183335.v2.0.B07.tif already downloaded\n",
      "File HLS.L30.T11SKU.2017103T183335.v2.0.B03.tif already downloaded\n",
      "File HLS.L30.T11SKU.2017103T183335.v2.0.B09.tif already downloaded\n",
      "File HLS.L30.T11SKU.2017103T183335.v2.0.B04.tif already downloaded\n",
      "File HLS.L30.T11SKU.2017103T183335.v2.0.SAA.tif already downloaded\n",
      "File HLS.L30.T11SKU.2017103T183335.v2.0.VAA.tif already downloaded\n",
      "File HLS.L30.T11SKU.2017103T183335.v2.0.SZA.tif already downloaded\n",
      "File HLS.L30.T11SKU.2017103T183335.v2.0.B06.tif already downloaded\n",
      "File HLS.L30.T11SKU.2017103T183335.v2.0.B11.tif already downloaded\n",
      "File HLS.L30.T11SKU.2017103T183335.v2.0.B02.tif already downloaded\n",
      "File HLS.L30.T11SKU.2017103T183335.v2.0.B05.tif already downloaded\n"
     ]
    },
    {
     "data": {
      "application/vnd.jupyter.widget-view+json": {
       "model_id": "900886c3c82f4bdeb8c7e6e10e99f7ff",
       "version_major": 2,
       "version_minor": 0
      },
      "text/plain": [
       "PROCESSING TASKS | :   0%|          | 0/15 [00:00<?, ?it/s]"
      ]
     },
     "metadata": {},
     "output_type": "display_data"
    },
    {
     "data": {
      "application/vnd.jupyter.widget-view+json": {
       "model_id": "f06a39a32d6b4c83bfac6fa79d1173be",
       "version_major": 2,
       "version_minor": 0
      },
      "text/plain": [
       "COLLECTING RESULTS | :   0%|          | 0/15 [00:00<?, ?it/s]"
      ]
     },
     "metadata": {},
     "output_type": "display_data"
    },
    {
     "name": "stdout",
     "output_type": "stream",
     "text": [
      "11\n",
      "10SGD\n",
      " Getting 1 granules, approx download size: 0.19 GB\n"
     ]
    },
    {
     "data": {
      "application/vnd.jupyter.widget-view+json": {
       "model_id": "87c011b188a249ad9960dd2e8c0eca3d",
       "version_major": 2,
       "version_minor": 0
      },
      "text/plain": [
       "QUEUEING TASKS | :   0%|          | 0/15 [00:00<?, ?it/s]"
      ]
     },
     "metadata": {},
     "output_type": "display_data"
    },
    {
     "name": "stdout",
     "output_type": "stream",
     "text": [
      "File HLS.L30.T10SGD.2017103T183359.v2.0.B07.tif already downloaded\n",
      "File HLS.L30.T10SGD.2017103T183359.v2.0.B04.tif already downloaded\n",
      "File HLS.L30.T10SGD.2017103T183359.v2.0.B11.tif already downloaded\n",
      "File HLS.L30.T10SGD.2017103T183359.v2.0.SZA.tif already downloaded\n",
      "File HLS.L30.T10SGD.2017103T183359.v2.0.B06.tif already downloaded\n",
      "File HLS.L30.T10SGD.2017103T183359.v2.0.VZA.tif already downloaded\n",
      "File HLS.L30.T10SGD.2017103T183359.v2.0.VAA.tif already downloaded\n",
      "File HLS.L30.T10SGD.2017103T183359.v2.0.Fmask.tif already downloaded\n",
      "File HLS.L30.T10SGD.2017103T183359.v2.0.SAA.tif already downloaded\n",
      "File HLS.L30.T10SGD.2017103T183359.v2.0.B01.tif already downloaded\n",
      "File HLS.L30.T10SGD.2017103T183359.v2.0.B05.tif already downloaded\n",
      "File HLS.L30.T10SGD.2017103T183359.v2.0.B10.tif already downloaded\n",
      "File HLS.L30.T10SGD.2017103T183359.v2.0.B03.tif already downloaded\n",
      "File HLS.L30.T10SGD.2017103T183359.v2.0.B02.tif already downloaded\n",
      "File HLS.L30.T10SGD.2017103T183359.v2.0.B09.tif already downloaded\n"
     ]
    },
    {
     "data": {
      "application/vnd.jupyter.widget-view+json": {
       "model_id": "7d0026d0fe0640fe95f80679c0a4338a",
       "version_major": 2,
       "version_minor": 0
      },
      "text/plain": [
       "PROCESSING TASKS | :   0%|          | 0/15 [00:00<?, ?it/s]"
      ]
     },
     "metadata": {},
     "output_type": "display_data"
    },
    {
     "data": {
      "application/vnd.jupyter.widget-view+json": {
       "model_id": "bb7d7e167c62463c9e8a7bcabf6f0391",
       "version_major": 2,
       "version_minor": 0
      },
      "text/plain": [
       "COLLECTING RESULTS | :   0%|          | 0/15 [00:00<?, ?it/s]"
      ]
     },
     "metadata": {},
     "output_type": "display_data"
    },
    {
     "name": "stdout",
     "output_type": "stream",
     "text": [
      "12\n",
      "10SGD\n",
      " Getting 1 granules, approx download size: 0.23 GB\n"
     ]
    },
    {
     "data": {
      "application/vnd.jupyter.widget-view+json": {
       "model_id": "b0ad2af938134baba1e6a965d23ddada",
       "version_major": 2,
       "version_minor": 0
      },
      "text/plain": [
       "QUEUEING TASKS | :   0%|          | 0/18 [00:00<?, ?it/s]"
      ]
     },
     "metadata": {},
     "output_type": "display_data"
    },
    {
     "name": "stdout",
     "output_type": "stream",
     "text": [
      "File HLS.S30.T10SGD.2017107T185431.v2.0.B11.tif already downloaded\n",
      "File HLS.S30.T10SGD.2017107T185431.v2.0.VAA.tif already downloaded\n",
      "File HLS.S30.T10SGD.2017107T185431.v2.0.B08.tif already downloaded\n",
      "File HLS.S30.T10SGD.2017107T185431.v2.0.Fmask.tif already downloaded\n",
      "File HLS.S30.T10SGD.2017107T185431.v2.0.VZA.tif already downloaded\n",
      "File HLS.S30.T10SGD.2017107T185431.v2.0.B05.tif already downloaded\n",
      "File HLS.S30.T10SGD.2017107T185431.v2.0.B04.tif already downloaded\n",
      "File HLS.S30.T10SGD.2017107T185431.v2.0.B09.tif already downloaded\n",
      "File HLS.S30.T10SGD.2017107T185431.v2.0.B02.tif already downloaded\n",
      "File HLS.S30.T10SGD.2017107T185431.v2.0.B07.tif already downloaded\n",
      "File HLS.S30.T10SGD.2017107T185431.v2.0.B03.tif already downloaded\n",
      "File HLS.S30.T10SGD.2017107T185431.v2.0.B12.tif already downloaded\n",
      "File HLS.S30.T10SGD.2017107T185431.v2.0.SZA.tif already downloaded\n",
      "File HLS.S30.T10SGD.2017107T185431.v2.0.B8A.tif already downloaded\n",
      "File HLS.S30.T10SGD.2017107T185431.v2.0.B10.tif already downloaded\n",
      "File HLS.S30.T10SGD.2017107T185431.v2.0.B06.tif already downloaded\n",
      "File HLS.S30.T10SGD.2017107T185431.v2.0.B01.tif already downloaded\n",
      "File HLS.S30.T10SGD.2017107T185431.v2.0.SAA.tif already downloaded\n"
     ]
    },
    {
     "data": {
      "application/vnd.jupyter.widget-view+json": {
       "model_id": "ea823b1a2434410eb8c55d68f9beb474",
       "version_major": 2,
       "version_minor": 0
      },
      "text/plain": [
       "PROCESSING TASKS | :   0%|          | 0/18 [00:00<?, ?it/s]"
      ]
     },
     "metadata": {},
     "output_type": "display_data"
    },
    {
     "data": {
      "application/vnd.jupyter.widget-view+json": {
       "model_id": "4202b3bab74e418f860cfbf909e162f0",
       "version_major": 2,
       "version_minor": 0
      },
      "text/plain": [
       "COLLECTING RESULTS | :   0%|          | 0/18 [00:00<?, ?it/s]"
      ]
     },
     "metadata": {},
     "output_type": "display_data"
    },
    {
     "name": "stdout",
     "output_type": "stream",
     "text": [
      "13\n",
      "11SKU\n",
      " Getting 1 granules, approx download size: 0.23 GB\n"
     ]
    },
    {
     "data": {
      "application/vnd.jupyter.widget-view+json": {
       "model_id": "37bb2541e010436f97031557c97cf038",
       "version_major": 2,
       "version_minor": 0
      },
      "text/plain": [
       "QUEUEING TASKS | :   0%|          | 0/18 [00:00<?, ?it/s]"
      ]
     },
     "metadata": {},
     "output_type": "display_data"
    },
    {
     "name": "stdout",
     "output_type": "stream",
     "text": [
      "File HLS.S30.T11SKU.2017107T185431.v2.0.B09.tif already downloaded\n",
      "File HLS.S30.T11SKU.2017107T185431.v2.0.B01.tif already downloaded\n",
      "File HLS.S30.T11SKU.2017107T185431.v2.0.Fmask.tif already downloaded\n",
      "File HLS.S30.T11SKU.2017107T185431.v2.0.SZA.tif already downloaded\n",
      "File HLS.S30.T11SKU.2017107T185431.v2.0.VZA.tif already downloaded\n",
      "File HLS.S30.T11SKU.2017107T185431.v2.0.B04.tif already downloaded\n",
      "File HLS.S30.T11SKU.2017107T185431.v2.0.B08.tif already downloaded\n",
      "File HLS.S30.T11SKU.2017107T185431.v2.0.B8A.tif already downloaded\n",
      "File HLS.S30.T11SKU.2017107T185431.v2.0.B07.tif already downloaded\n",
      "File HLS.S30.T11SKU.2017107T185431.v2.0.SAA.tif already downloaded\n",
      "File HLS.S30.T11SKU.2017107T185431.v2.0.B11.tif already downloaded\n",
      "File HLS.S30.T11SKU.2017107T185431.v2.0.B02.tif already downloaded\n",
      "File HLS.S30.T11SKU.2017107T185431.v2.0.B03.tif already downloaded\n",
      "File HLS.S30.T11SKU.2017107T185431.v2.0.B06.tif already downloaded\n",
      "File HLS.S30.T11SKU.2017107T185431.v2.0.B10.tif already downloaded\n",
      "File HLS.S30.T11SKU.2017107T185431.v2.0.B05.tif already downloaded\n",
      "File HLS.S30.T11SKU.2017107T185431.v2.0.VAA.tif already downloaded\n",
      "File HLS.S30.T11SKU.2017107T185431.v2.0.B12.tif already downloaded\n"
     ]
    },
    {
     "data": {
      "application/vnd.jupyter.widget-view+json": {
       "model_id": "e24c2c2405e9445e81c4842dca626838",
       "version_major": 2,
       "version_minor": 0
      },
      "text/plain": [
       "PROCESSING TASKS | :   0%|          | 0/18 [00:00<?, ?it/s]"
      ]
     },
     "metadata": {},
     "output_type": "display_data"
    },
    {
     "data": {
      "application/vnd.jupyter.widget-view+json": {
       "model_id": "9000f6e2371b4900a2ef144da6047fbd",
       "version_major": 2,
       "version_minor": 0
      },
      "text/plain": [
       "COLLECTING RESULTS | :   0%|          | 0/18 [00:00<?, ?it/s]"
      ]
     },
     "metadata": {},
     "output_type": "display_data"
    },
    {
     "name": "stdout",
     "output_type": "stream",
     "text": [
      "14\n",
      "11SKU\n",
      " Getting 1 granules, approx download size: 0.21 GB\n"
     ]
    },
    {
     "data": {
      "application/vnd.jupyter.widget-view+json": {
       "model_id": "9965f9c3fe194de0ac32063d9d8a3e8d",
       "version_major": 2,
       "version_minor": 0
      },
      "text/plain": [
       "QUEUEING TASKS | :   0%|          | 0/18 [00:00<?, ?it/s]"
      ]
     },
     "metadata": {},
     "output_type": "display_data"
    },
    {
     "name": "stdout",
     "output_type": "stream",
     "text": [
      "File HLS.S30.T11SKU.2017117T183921.v2.0.Fmask.tif already downloadedFile HLS.S30.T11SKU.2017117T183921.v2.0.SZA.tif already downloaded\n",
      "\n",
      "File HLS.S30.T11SKU.2017117T183921.v2.0.B01.tif already downloaded\n",
      "File HLS.S30.T11SKU.2017117T183921.v2.0.B11.tif already downloaded\n",
      "File HLS.S30.T11SKU.2017117T183921.v2.0.B08.tif already downloaded\n",
      "File HLS.S30.T11SKU.2017117T183921.v2.0.B05.tif already downloaded\n",
      "File HLS.S30.T11SKU.2017117T183921.v2.0.VAA.tif already downloaded\n",
      "File HLS.S30.T11SKU.2017117T183921.v2.0.B07.tif already downloaded\n",
      "File HLS.S30.T11SKU.2017117T183921.v2.0.B02.tif already downloaded\n",
      "File HLS.S30.T11SKU.2017117T183921.v2.0.B03.tif already downloaded\n",
      "File HLS.S30.T11SKU.2017117T183921.v2.0.B06.tif already downloaded\n",
      "File HLS.S30.T11SKU.2017117T183921.v2.0.SAA.tif already downloaded\n",
      "File HLS.S30.T11SKU.2017117T183921.v2.0.B09.tif already downloaded\n",
      "File HLS.S30.T11SKU.2017117T183921.v2.0.VZA.tif already downloaded\n",
      "File HLS.S30.T11SKU.2017117T183921.v2.0.B8A.tif already downloaded\n",
      "File HLS.S30.T11SKU.2017117T183921.v2.0.B10.tif already downloaded\n",
      "File HLS.S30.T11SKU.2017117T183921.v2.0.B04.tif already downloaded\n",
      "File HLS.S30.T11SKU.2017117T183921.v2.0.B12.tif already downloaded\n"
     ]
    },
    {
     "data": {
      "application/vnd.jupyter.widget-view+json": {
       "model_id": "f94009185b3e4113b7b1a2aaa7e80cad",
       "version_major": 2,
       "version_minor": 0
      },
      "text/plain": [
       "PROCESSING TASKS | :   0%|          | 0/18 [00:00<?, ?it/s]"
      ]
     },
     "metadata": {},
     "output_type": "display_data"
    },
    {
     "data": {
      "application/vnd.jupyter.widget-view+json": {
       "model_id": "56d9acc0af4c422cb4305725a82763ac",
       "version_major": 2,
       "version_minor": 0
      },
      "text/plain": [
       "COLLECTING RESULTS | :   0%|          | 0/18 [00:00<?, ?it/s]"
      ]
     },
     "metadata": {},
     "output_type": "display_data"
    },
    {
     "name": "stdout",
     "output_type": "stream",
     "text": [
      "15\n",
      "10SGD\n",
      " Getting 1 granules, approx download size: 0.2 GB\n"
     ]
    },
    {
     "data": {
      "application/vnd.jupyter.widget-view+json": {
       "model_id": "2876f8e4d6cc46158a5dddb7e83db441",
       "version_major": 2,
       "version_minor": 0
      },
      "text/plain": [
       "QUEUEING TASKS | :   0%|          | 0/18 [00:00<?, ?it/s]"
      ]
     },
     "metadata": {},
     "output_type": "display_data"
    },
    {
     "name": "stdout",
     "output_type": "stream",
     "text": [
      "File HLS.S30.T10SGD.2017117T183921.v2.0.B01.tif already downloaded\n",
      "File HLS.S30.T10SGD.2017117T183921.v2.0.B03.tif already downloaded\n",
      "File HLS.S30.T10SGD.2017117T183921.v2.0.B08.tif already downloaded\n",
      "File HLS.S30.T10SGD.2017117T183921.v2.0.VZA.tif already downloaded\n",
      "File HLS.S30.T10SGD.2017117T183921.v2.0.Fmask.tif already downloaded\n",
      "File HLS.S30.T10SGD.2017117T183921.v2.0.B10.tif already downloaded\n",
      "File HLS.S30.T10SGD.2017117T183921.v2.0.B09.tif already downloaded\n",
      "File HLS.S30.T10SGD.2017117T183921.v2.0.B8A.tif already downloaded\n",
      "File HLS.S30.T10SGD.2017117T183921.v2.0.B12.tif already downloaded\n",
      "File HLS.S30.T10SGD.2017117T183921.v2.0.B07.tif already downloaded\n",
      "File HLS.S30.T10SGD.2017117T183921.v2.0.SAA.tif already downloaded\n",
      "File HLS.S30.T10SGD.2017117T183921.v2.0.VAA.tif already downloaded\n",
      "File HLS.S30.T10SGD.2017117T183921.v2.0.B04.tif already downloaded\n",
      "File HLS.S30.T10SGD.2017117T183921.v2.0.B05.tif already downloaded\n",
      "File HLS.S30.T10SGD.2017117T183921.v2.0.SZA.tif already downloaded\n",
      "File HLS.S30.T10SGD.2017117T183921.v2.0.B02.tif already downloaded\n",
      "File HLS.S30.T10SGD.2017117T183921.v2.0.B06.tif already downloaded\n",
      "File HLS.S30.T10SGD.2017117T183921.v2.0.B11.tif already downloaded\n"
     ]
    },
    {
     "data": {
      "application/vnd.jupyter.widget-view+json": {
       "model_id": "5aa4790f233d4e3d9abe71b1fa36a0ab",
       "version_major": 2,
       "version_minor": 0
      },
      "text/plain": [
       "PROCESSING TASKS | :   0%|          | 0/18 [00:00<?, ?it/s]"
      ]
     },
     "metadata": {},
     "output_type": "display_data"
    },
    {
     "data": {
      "application/vnd.jupyter.widget-view+json": {
       "model_id": "8a5db44bfd9349408a9f3b1e058167ad",
       "version_major": 2,
       "version_minor": 0
      },
      "text/plain": [
       "COLLECTING RESULTS | :   0%|          | 0/18 [00:00<?, ?it/s]"
      ]
     },
     "metadata": {},
     "output_type": "display_data"
    },
    {
     "name": "stdout",
     "output_type": "stream",
     "text": [
      "16\n",
      "11SKU\n",
      " Getting 1 granules, approx download size: 0.17 GB\n"
     ]
    },
    {
     "data": {
      "application/vnd.jupyter.widget-view+json": {
       "model_id": "83c68701f48c42b7af20aedc2545562f",
       "version_major": 2,
       "version_minor": 0
      },
      "text/plain": [
       "QUEUEING TASKS | :   0%|          | 0/15 [00:00<?, ?it/s]"
      ]
     },
     "metadata": {},
     "output_type": "display_data"
    },
    {
     "name": "stdout",
     "output_type": "stream",
     "text": [
      "File HLS.L30.T11SKU.2017119T183324.v2.0.B04.tif already downloaded\n",
      "File HLS.L30.T11SKU.2017119T183324.v2.0.B03.tif already downloaded\n",
      "File HLS.L30.T11SKU.2017119T183324.v2.0.B07.tif already downloaded\n",
      "File HLS.L30.T11SKU.2017119T183324.v2.0.B11.tif already downloaded\n",
      "File HLS.L30.T11SKU.2017119T183324.v2.0.B05.tif already downloaded\n",
      "File HLS.L30.T11SKU.2017119T183324.v2.0.VAA.tif already downloaded\n",
      "File HLS.L30.T11SKU.2017119T183324.v2.0.VZA.tif already downloaded\n",
      "File HLS.L30.T11SKU.2017119T183324.v2.0.B09.tif already downloaded\n",
      "File HLS.L30.T11SKU.2017119T183324.v2.0.B06.tif already downloaded\n",
      "File HLS.L30.T11SKU.2017119T183324.v2.0.SZA.tif already downloaded\n",
      "File HLS.L30.T11SKU.2017119T183324.v2.0.B01.tif already downloaded\n",
      "File HLS.L30.T11SKU.2017119T183324.v2.0.Fmask.tif already downloaded\n",
      "File HLS.L30.T11SKU.2017119T183324.v2.0.SAA.tif already downloaded\n",
      "File HLS.L30.T11SKU.2017119T183324.v2.0.B02.tif already downloaded\n",
      "File HLS.L30.T11SKU.2017119T183324.v2.0.B10.tif already downloaded\n"
     ]
    },
    {
     "data": {
      "application/vnd.jupyter.widget-view+json": {
       "model_id": "8ae44ea2a8384cf9b3c03e5921d57c94",
       "version_major": 2,
       "version_minor": 0
      },
      "text/plain": [
       "PROCESSING TASKS | :   0%|          | 0/15 [00:00<?, ?it/s]"
      ]
     },
     "metadata": {},
     "output_type": "display_data"
    },
    {
     "data": {
      "application/vnd.jupyter.widget-view+json": {
       "model_id": "341d8d6188284600be19ff960e66e6fa",
       "version_major": 2,
       "version_minor": 0
      },
      "text/plain": [
       "COLLECTING RESULTS | :   0%|          | 0/15 [00:00<?, ?it/s]"
      ]
     },
     "metadata": {},
     "output_type": "display_data"
    },
    {
     "name": "stdout",
     "output_type": "stream",
     "text": [
      "17\n",
      "11SKU\n",
      " Getting 1 granules, approx download size: 0.23 GB\n"
     ]
    },
    {
     "data": {
      "application/vnd.jupyter.widget-view+json": {
       "model_id": "bd97e3764cac4aa7bb1a02eba5f8c60b",
       "version_major": 2,
       "version_minor": 0
      },
      "text/plain": [
       "QUEUEING TASKS | :   0%|          | 0/18 [00:00<?, ?it/s]"
      ]
     },
     "metadata": {},
     "output_type": "display_data"
    },
    {
     "name": "stdout",
     "output_type": "stream",
     "text": [
      "File HLS.S30.T11SKU.2017127T185431.v2.0.B09.tif already downloadedFile HLS.S30.T11SKU.2017127T185431.v2.0.VZA.tif already downloaded\n",
      "\n",
      "File HLS.S30.T11SKU.2017127T185431.v2.0.B04.tif already downloaded\n",
      "File HLS.S30.T11SKU.2017127T185431.v2.0.B01.tif already downloaded\n",
      "File HLS.S30.T11SKU.2017127T185431.v2.0.B07.tif already downloaded\n",
      "File HLS.S30.T11SKU.2017127T185431.v2.0.B8A.tif already downloaded\n",
      "File HLS.S30.T11SKU.2017127T185431.v2.0.SAA.tif already downloaded\n",
      "File HLS.S30.T11SKU.2017127T185431.v2.0.B12.tif already downloaded\n",
      "File HLS.S30.T11SKU.2017127T185431.v2.0.Fmask.tif already downloaded\n",
      "File HLS.S30.T11SKU.2017127T185431.v2.0.B05.tif already downloaded\n",
      "File HLS.S30.T11SKU.2017127T185431.v2.0.SZA.tif already downloaded\n",
      "File HLS.S30.T11SKU.2017127T185431.v2.0.B02.tif already downloaded\n",
      "File HLS.S30.T11SKU.2017127T185431.v2.0.VAA.tif already downloaded\n",
      "File HLS.S30.T11SKU.2017127T185431.v2.0.B08.tif already downloaded\n",
      "File HLS.S30.T11SKU.2017127T185431.v2.0.B10.tif already downloaded\n",
      "File HLS.S30.T11SKU.2017127T185431.v2.0.B11.tif already downloaded\n",
      "File HLS.S30.T11SKU.2017127T185431.v2.0.B06.tif already downloaded\n"
     ]
    },
    {
     "data": {
      "application/vnd.jupyter.widget-view+json": {
       "model_id": "cff320a50f01420d93e7aa25d1635838",
       "version_major": 2,
       "version_minor": 0
      },
      "text/plain": [
       "PROCESSING TASKS | :   0%|          | 0/18 [00:00<?, ?it/s]"
      ]
     },
     "metadata": {},
     "output_type": "display_data"
    },
    {
     "name": "stdout",
     "output_type": "stream",
     "text": [
      "File HLS.S30.T11SKU.2017127T185431.v2.0.B03.tif already downloaded\n"
     ]
    },
    {
     "data": {
      "application/vnd.jupyter.widget-view+json": {
       "model_id": "fc8a90f965da43c789b184bb1167de33",
       "version_major": 2,
       "version_minor": 0
      },
      "text/plain": [
       "COLLECTING RESULTS | :   0%|          | 0/18 [00:00<?, ?it/s]"
      ]
     },
     "metadata": {},
     "output_type": "display_data"
    },
    {
     "name": "stdout",
     "output_type": "stream",
     "text": [
      "18\n",
      "11SKU\n",
      " Getting 1 granules, approx download size: 0.2 GB\n"
     ]
    },
    {
     "data": {
      "application/vnd.jupyter.widget-view+json": {
       "model_id": "caf661f3f88d4f77866ce68ad69bacf9",
       "version_major": 2,
       "version_minor": 0
      },
      "text/plain": [
       "QUEUEING TASKS | :   0%|          | 0/15 [00:00<?, ?it/s]"
      ]
     },
     "metadata": {},
     "output_type": "display_data"
    },
    {
     "name": "stdout",
     "output_type": "stream",
     "text": [
      "File HLS.L30.T11SKU.2017135T183333.v2.0.B04.tif already downloadedFile HLS.L30.T11SKU.2017135T183333.v2.0.B02.tif already downloaded\n",
      "\n",
      "File HLS.L30.T11SKU.2017135T183333.v2.0.VAA.tif already downloaded\n",
      "File HLS.L30.T11SKU.2017135T183333.v2.0.B09.tif already downloaded\n",
      "File HLS.L30.T11SKU.2017135T183333.v2.0.B11.tif already downloaded\n",
      "File HLS.L30.T11SKU.2017135T183333.v2.0.B01.tif already downloaded\n",
      "File HLS.L30.T11SKU.2017135T183333.v2.0.B07.tif already downloaded\n",
      "File HLS.L30.T11SKU.2017135T183333.v2.0.VZA.tif already downloaded\n",
      "File HLS.L30.T11SKU.2017135T183333.v2.0.SZA.tif already downloaded\n",
      "File HLS.L30.T11SKU.2017135T183333.v2.0.Fmask.tif already downloaded\n",
      "File HLS.L30.T11SKU.2017135T183333.v2.0.SAA.tif already downloaded\n",
      "File HLS.L30.T11SKU.2017135T183333.v2.0.B06.tif already downloaded\n",
      "File HLS.L30.T11SKU.2017135T183333.v2.0.B03.tif already downloaded\n",
      "File HLS.L30.T11SKU.2017135T183333.v2.0.B10.tif already downloaded\n",
      "File HLS.L30.T11SKU.2017135T183333.v2.0.B05.tif already downloaded\n"
     ]
    },
    {
     "data": {
      "application/vnd.jupyter.widget-view+json": {
       "model_id": "9b13e47fda92488484b320a17b2f08d5",
       "version_major": 2,
       "version_minor": 0
      },
      "text/plain": [
       "PROCESSING TASKS | :   0%|          | 0/15 [00:00<?, ?it/s]"
      ]
     },
     "metadata": {},
     "output_type": "display_data"
    },
    {
     "data": {
      "application/vnd.jupyter.widget-view+json": {
       "model_id": "6f6ef1a357f04a8eb281b882b35559b5",
       "version_major": 2,
       "version_minor": 0
      },
      "text/plain": [
       "COLLECTING RESULTS | :   0%|          | 0/15 [00:00<?, ?it/s]"
      ]
     },
     "metadata": {},
     "output_type": "display_data"
    },
    {
     "name": "stdout",
     "output_type": "stream",
     "text": [
      "19\n",
      "10SGD\n",
      " Getting 1 granules, approx download size: 0.18 GB\n"
     ]
    },
    {
     "data": {
      "application/vnd.jupyter.widget-view+json": {
       "model_id": "9d653831b6b94981bd87d00dacd0f720",
       "version_major": 2,
       "version_minor": 0
      },
      "text/plain": [
       "QUEUEING TASKS | :   0%|          | 0/15 [00:00<?, ?it/s]"
      ]
     },
     "metadata": {},
     "output_type": "display_data"
    },
    {
     "name": "stdout",
     "output_type": "stream",
     "text": [
      "File HLS.L30.T10SGD.2017135T183357.v2.0.VZA.tif already downloadedFile HLS.L30.T10SGD.2017135T183357.v2.0.B04.tif already downloaded\n",
      "\n",
      "File HLS.L30.T10SGD.2017135T183357.v2.0.VAA.tif already downloaded\n",
      "File HLS.L30.T10SGD.2017135T183357.v2.0.B07.tif already downloaded\n",
      "File HLS.L30.T10SGD.2017135T183357.v2.0.SAA.tif already downloaded\n",
      "File HLS.L30.T10SGD.2017135T183357.v2.0.Fmask.tif already downloaded\n",
      "File HLS.L30.T10SGD.2017135T183357.v2.0.B01.tif already downloaded\n",
      "File HLS.L30.T10SGD.2017135T183357.v2.0.B03.tif already downloaded\n",
      "File HLS.L30.T10SGD.2017135T183357.v2.0.B11.tif already downloaded\n",
      "File HLS.L30.T10SGD.2017135T183357.v2.0.B10.tif already downloaded\n",
      "File HLS.L30.T10SGD.2017135T183357.v2.0.B09.tif already downloaded\n",
      "File HLS.L30.T10SGD.2017135T183357.v2.0.B02.tif already downloaded\n",
      "File HLS.L30.T10SGD.2017135T183357.v2.0.B06.tif already downloaded\n",
      "File HLS.L30.T10SGD.2017135T183357.v2.0.SZA.tif already downloaded\n",
      "File HLS.L30.T10SGD.2017135T183357.v2.0.B05.tif already downloaded\n"
     ]
    },
    {
     "data": {
      "application/vnd.jupyter.widget-view+json": {
       "model_id": "0db4f904eef3422e9b8f3a12fd5968fe",
       "version_major": 2,
       "version_minor": 0
      },
      "text/plain": [
       "PROCESSING TASKS | :   0%|          | 0/15 [00:00<?, ?it/s]"
      ]
     },
     "metadata": {},
     "output_type": "display_data"
    },
    {
     "data": {
      "application/vnd.jupyter.widget-view+json": {
       "model_id": "86fb215fbdd349188d51fd4d8fe89411",
       "version_major": 2,
       "version_minor": 0
      },
      "text/plain": [
       "COLLECTING RESULTS | :   0%|          | 0/15 [00:00<?, ?it/s]"
      ]
     },
     "metadata": {},
     "output_type": "display_data"
    },
    {
     "name": "stdout",
     "output_type": "stream",
     "text": [
      "20\n",
      "11SKU\n",
      " Getting 1 granules, approx download size: 0.22 GB\n"
     ]
    },
    {
     "data": {
      "application/vnd.jupyter.widget-view+json": {
       "model_id": "989e233820ce4601a274e9ba3bc3f868",
       "version_major": 2,
       "version_minor": 0
      },
      "text/plain": [
       "QUEUEING TASKS | :   0%|          | 0/18 [00:00<?, ?it/s]"
      ]
     },
     "metadata": {},
     "output_type": "display_data"
    },
    {
     "name": "stdout",
     "output_type": "stream",
     "text": [
      "File HLS.S30.T11SKU.2017137T183921.v2.0.B10.tif already downloaded\n",
      "File HLS.S30.T11SKU.2017137T183921.v2.0.B08.tif already downloaded\n",
      "File HLS.S30.T11SKU.2017137T183921.v2.0.B05.tif already downloaded\n",
      "File HLS.S30.T11SKU.2017137T183921.v2.0.Fmask.tif already downloaded\n",
      "File HLS.S30.T11SKU.2017137T183921.v2.0.B02.tif already downloaded\n",
      "File HLS.S30.T11SKU.2017137T183921.v2.0.B06.tif already downloaded\n",
      "File HLS.S30.T11SKU.2017137T183921.v2.0.B8A.tif already downloaded\n",
      "File HLS.S30.T11SKU.2017137T183921.v2.0.SAA.tif already downloaded\n",
      "File HLS.S30.T11SKU.2017137T183921.v2.0.B01.tif already downloaded\n",
      "File HLS.S30.T11SKU.2017137T183921.v2.0.B12.tif already downloaded\n",
      "File HLS.S30.T11SKU.2017137T183921.v2.0.B11.tif already downloaded\n",
      "File HLS.S30.T11SKU.2017137T183921.v2.0.B04.tif already downloaded\n",
      "File HLS.S30.T11SKU.2017137T183921.v2.0.SZA.tif already downloaded\n",
      "File HLS.S30.T11SKU.2017137T183921.v2.0.VAA.tif already downloaded\n",
      "File HLS.S30.T11SKU.2017137T183921.v2.0.B09.tif already downloaded\n",
      "File HLS.S30.T11SKU.2017137T183921.v2.0.VZA.tif already downloaded\n",
      "File HLS.S30.T11SKU.2017137T183921.v2.0.B03.tif already downloaded\n",
      "File HLS.S30.T11SKU.2017137T183921.v2.0.B07.tif already downloaded\n"
     ]
    },
    {
     "data": {
      "application/vnd.jupyter.widget-view+json": {
       "model_id": "78c6e5e238fa4fcf8c14ba6382342940",
       "version_major": 2,
       "version_minor": 0
      },
      "text/plain": [
       "PROCESSING TASKS | :   0%|          | 0/18 [00:00<?, ?it/s]"
      ]
     },
     "metadata": {},
     "output_type": "display_data"
    },
    {
     "data": {
      "application/vnd.jupyter.widget-view+json": {
       "model_id": "0a8d01c691884035a8e23315f77519e7",
       "version_major": 2,
       "version_minor": 0
      },
      "text/plain": [
       "COLLECTING RESULTS | :   0%|          | 0/18 [00:00<?, ?it/s]"
      ]
     },
     "metadata": {},
     "output_type": "display_data"
    },
    {
     "name": "stdout",
     "output_type": "stream",
     "text": [
      "21\n",
      "10SGD\n",
      " Getting 1 granules, approx download size: 0.21 GB\n"
     ]
    },
    {
     "data": {
      "application/vnd.jupyter.widget-view+json": {
       "model_id": "503feaa9e59147b4874fea5b13e9b0fd",
       "version_major": 2,
       "version_minor": 0
      },
      "text/plain": [
       "QUEUEING TASKS | :   0%|          | 0/18 [00:00<?, ?it/s]"
      ]
     },
     "metadata": {},
     "output_type": "display_data"
    },
    {
     "name": "stdout",
     "output_type": "stream",
     "text": [
      "File HLS.S30.T10SGD.2017137T183921.v2.0.B06.tif already downloaded\n",
      "File HLS.S30.T10SGD.2017137T183921.v2.0.VAA.tif already downloaded\n",
      "File HLS.S30.T10SGD.2017137T183921.v2.0.B10.tif already downloaded\n",
      "File HLS.S30.T10SGD.2017137T183921.v2.0.B01.tif already downloaded\n",
      "File HLS.S30.T10SGD.2017137T183921.v2.0.Fmask.tif already downloaded\n",
      "File HLS.S30.T10SGD.2017137T183921.v2.0.SAA.tif already downloaded\n",
      "File HLS.S30.T10SGD.2017137T183921.v2.0.B05.tif already downloaded\n",
      "File HLS.S30.T10SGD.2017137T183921.v2.0.B09.tif already downloaded\n",
      "File HLS.S30.T10SGD.2017137T183921.v2.0.B12.tif already downloaded\n",
      "File HLS.S30.T10SGD.2017137T183921.v2.0.B02.tif already downloaded\n",
      "File HLS.S30.T10SGD.2017137T183921.v2.0.B11.tif already downloaded\n",
      "File HLS.S30.T10SGD.2017137T183921.v2.0.B8A.tif already downloaded\n",
      "File HLS.S30.T10SGD.2017137T183921.v2.0.SZA.tif already downloaded\n",
      "File HLS.S30.T10SGD.2017137T183921.v2.0.VZA.tif already downloaded\n",
      "File HLS.S30.T10SGD.2017137T183921.v2.0.B04.tif already downloaded\n",
      "File HLS.S30.T10SGD.2017137T183921.v2.0.B08.tif already downloaded\n",
      "File HLS.S30.T10SGD.2017137T183921.v2.0.B03.tif already downloaded\n",
      "File HLS.S30.T10SGD.2017137T183921.v2.0.B07.tif already downloaded\n"
     ]
    },
    {
     "data": {
      "application/vnd.jupyter.widget-view+json": {
       "model_id": "111caaa0b2bc4be19ac09d026ca06d25",
       "version_major": 2,
       "version_minor": 0
      },
      "text/plain": [
       "PROCESSING TASKS | :   0%|          | 0/18 [00:00<?, ?it/s]"
      ]
     },
     "metadata": {},
     "output_type": "display_data"
    },
    {
     "data": {
      "application/vnd.jupyter.widget-view+json": {
       "model_id": "4d4d7fd740d8460a93a76366ba76eb10",
       "version_major": 2,
       "version_minor": 0
      },
      "text/plain": [
       "COLLECTING RESULTS | :   0%|          | 0/18 [00:00<?, ?it/s]"
      ]
     },
     "metadata": {},
     "output_type": "display_data"
    },
    {
     "name": "stdout",
     "output_type": "stream",
     "text": [
      "22\n",
      "11SKU\n",
      " Getting 1 granules, approx download size: 0.21 GB\n"
     ]
    },
    {
     "data": {
      "application/vnd.jupyter.widget-view+json": {
       "model_id": "6ba6323091534566ad405886a1fe260c",
       "version_major": 2,
       "version_minor": 0
      },
      "text/plain": [
       "QUEUEING TASKS | :   0%|          | 0/18 [00:00<?, ?it/s]"
      ]
     },
     "metadata": {},
     "output_type": "display_data"
    },
    {
     "name": "stdout",
     "output_type": "stream",
     "text": [
      "File HLS.S30.T11SKU.2017147T185431.v2.0.B03.tif already downloaded\n",
      "File HLS.S30.T11SKU.2017147T185431.v2.0.B8A.tif already downloaded\n",
      "File HLS.S30.T11SKU.2017147T185431.v2.0.SZA.tif already downloaded\n",
      "File HLS.S30.T11SKU.2017147T185431.v2.0.B10.tif already downloaded\n",
      "File HLS.S30.T11SKU.2017147T185431.v2.0.SAA.tif already downloaded\n",
      "File HLS.S30.T11SKU.2017147T185431.v2.0.VZA.tif already downloaded\n",
      "File HLS.S30.T11SKU.2017147T185431.v2.0.B08.tif already downloaded\n",
      "File HLS.S30.T11SKU.2017147T185431.v2.0.B02.tif already downloaded\n",
      "File HLS.S30.T11SKU.2017147T185431.v2.0.B07.tif already downloaded\n",
      "File HLS.S30.T11SKU.2017147T185431.v2.0.B09.tif already downloaded\n",
      "File HLS.S30.T11SKU.2017147T185431.v2.0.B04.tif already downloaded\n",
      "File HLS.S30.T11SKU.2017147T185431.v2.0.B05.tif already downloaded\n",
      "File HLS.S30.T11SKU.2017147T185431.v2.0.B12.tif already downloaded\n",
      "File HLS.S30.T11SKU.2017147T185431.v2.0.Fmask.tif already downloaded\n",
      "File HLS.S30.T11SKU.2017147T185431.v2.0.B11.tif already downloaded\n",
      "File HLS.S30.T11SKU.2017147T185431.v2.0.B06.tif already downloaded\n",
      "File HLS.S30.T11SKU.2017147T185431.v2.0.VAA.tif already downloaded\n",
      "File HLS.S30.T11SKU.2017147T185431.v2.0.B01.tif already downloaded\n"
     ]
    },
    {
     "data": {
      "application/vnd.jupyter.widget-view+json": {
       "model_id": "2dd2a9db71ca449c91078722238febc0",
       "version_major": 2,
       "version_minor": 0
      },
      "text/plain": [
       "PROCESSING TASKS | :   0%|          | 0/18 [00:00<?, ?it/s]"
      ]
     },
     "metadata": {},
     "output_type": "display_data"
    },
    {
     "data": {
      "application/vnd.jupyter.widget-view+json": {
       "model_id": "752beb831cdc47a887134d96ede4a7d3",
       "version_major": 2,
       "version_minor": 0
      },
      "text/plain": [
       "COLLECTING RESULTS | :   0%|          | 0/18 [00:00<?, ?it/s]"
      ]
     },
     "metadata": {},
     "output_type": "display_data"
    },
    {
     "name": "stdout",
     "output_type": "stream",
     "text": [
      "23\n",
      "10SGD\n",
      " Getting 1 granules, approx download size: 0.21 GB\n"
     ]
    },
    {
     "data": {
      "application/vnd.jupyter.widget-view+json": {
       "model_id": "cc6baa8d98274b84994dd1779f24fe26",
       "version_major": 2,
       "version_minor": 0
      },
      "text/plain": [
       "QUEUEING TASKS | :   0%|          | 0/18 [00:00<?, ?it/s]"
      ]
     },
     "metadata": {},
     "output_type": "display_data"
    },
    {
     "name": "stdout",
     "output_type": "stream",
     "text": [
      "File HLS.S30.T10SGD.2017147T185431.v2.0.SZA.tif already downloadedFile HLS.S30.T10SGD.2017147T185431.v2.0.B8A.tif already downloaded\n",
      "\n",
      "File HLS.S30.T10SGD.2017147T185431.v2.0.B07.tif already downloaded\n",
      "File HLS.S30.T10SGD.2017147T185431.v2.0.VZA.tif already downloaded\n",
      "File HLS.S30.T10SGD.2017147T185431.v2.0.B10.tif already downloaded\n",
      "File HLS.S30.T10SGD.2017147T185431.v2.0.B01.tif already downloaded\n",
      "File HLS.S30.T10SGD.2017147T185431.v2.0.B12.tif already downloaded\n",
      "File HLS.S30.T10SGD.2017147T185431.v2.0.SAA.tif already downloaded\n",
      "File HLS.S30.T10SGD.2017147T185431.v2.0.B04.tif already downloaded\n",
      "File HLS.S30.T10SGD.2017147T185431.v2.0.B05.tif already downloaded\n",
      "File HLS.S30.T10SGD.2017147T185431.v2.0.Fmask.tif already downloaded\n",
      "File HLS.S30.T10SGD.2017147T185431.v2.0.VAA.tif already downloaded\n",
      "File HLS.S30.T10SGD.2017147T185431.v2.0.B11.tif already downloaded\n",
      "File HLS.S30.T10SGD.2017147T185431.v2.0.B02.tif already downloaded\n",
      "File HLS.S30.T10SGD.2017147T185431.v2.0.B03.tif already downloaded\n",
      "File HLS.S30.T10SGD.2017147T185431.v2.0.B06.tif already downloaded\n",
      "File HLS.S30.T10SGD.2017147T185431.v2.0.B08.tif already downloaded\n",
      "File HLS.S30.T10SGD.2017147T185431.v2.0.B09.tif already downloaded\n"
     ]
    },
    {
     "data": {
      "application/vnd.jupyter.widget-view+json": {
       "model_id": "113ef55fee8146c399fdf5ed0e0eac93",
       "version_major": 2,
       "version_minor": 0
      },
      "text/plain": [
       "PROCESSING TASKS | :   0%|          | 0/18 [00:00<?, ?it/s]"
      ]
     },
     "metadata": {},
     "output_type": "display_data"
    },
    {
     "data": {
      "application/vnd.jupyter.widget-view+json": {
       "model_id": "241807f31d3d4afda32e836a64675e17",
       "version_major": 2,
       "version_minor": 0
      },
      "text/plain": [
       "COLLECTING RESULTS | :   0%|          | 0/18 [00:00<?, ?it/s]"
      ]
     },
     "metadata": {},
     "output_type": "display_data"
    },
    {
     "name": "stdout",
     "output_type": "stream",
     "text": [
      "24\n",
      "11SKU\n",
      " Getting 1 granules, approx download size: 0.19 GB\n"
     ]
    },
    {
     "data": {
      "application/vnd.jupyter.widget-view+json": {
       "model_id": "d20d7ec5c0dc452fbcccaeb47895f5f5",
       "version_major": 2,
       "version_minor": 0
      },
      "text/plain": [
       "QUEUEING TASKS | :   0%|          | 0/15 [00:00<?, ?it/s]"
      ]
     },
     "metadata": {},
     "output_type": "display_data"
    },
    {
     "name": "stdout",
     "output_type": "stream",
     "text": [
      "File HLS.L30.T11SKU.2017151T183343.v2.0.B01.tif already downloadedFile HLS.L30.T11SKU.2017151T183343.v2.0.B03.tif already downloaded\n",
      "\n",
      "File HLS.L30.T11SKU.2017151T183343.v2.0.SAA.tif already downloaded\n",
      "File HLS.L30.T11SKU.2017151T183343.v2.0.VAA.tif already downloaded\n",
      "File HLS.L30.T11SKU.2017151T183343.v2.0.SZA.tif already downloaded\n",
      "File HLS.L30.T11SKU.2017151T183343.v2.0.VZA.tif already downloaded\n",
      "File HLS.L30.T11SKU.2017151T183343.v2.0.Fmask.tif already downloaded\n",
      "File HLS.L30.T11SKU.2017151T183343.v2.0.B04.tif already downloaded\n",
      "File HLS.L30.T11SKU.2017151T183343.v2.0.B11.tif already downloaded\n",
      "File HLS.L30.T11SKU.2017151T183343.v2.0.B02.tif already downloaded\n",
      "File HLS.L30.T11SKU.2017151T183343.v2.0.B07.tif already downloaded\n",
      "File HLS.L30.T11SKU.2017151T183343.v2.0.B10.tif already downloaded\n",
      "File HLS.L30.T11SKU.2017151T183343.v2.0.B05.tif already downloaded\n",
      "File HLS.L30.T11SKU.2017151T183343.v2.0.B09.tif already downloaded\n",
      "File HLS.L30.T11SKU.2017151T183343.v2.0.B06.tif already downloaded\n"
     ]
    },
    {
     "data": {
      "application/vnd.jupyter.widget-view+json": {
       "model_id": "92ba401ba5c346d4973a584b5bdb202e",
       "version_major": 2,
       "version_minor": 0
      },
      "text/plain": [
       "PROCESSING TASKS | :   0%|          | 0/15 [00:00<?, ?it/s]"
      ]
     },
     "metadata": {},
     "output_type": "display_data"
    },
    {
     "data": {
      "application/vnd.jupyter.widget-view+json": {
       "model_id": "768e5984dd20457482502059bc1d091f",
       "version_major": 2,
       "version_minor": 0
      },
      "text/plain": [
       "COLLECTING RESULTS | :   0%|          | 0/15 [00:00<?, ?it/s]"
      ]
     },
     "metadata": {},
     "output_type": "display_data"
    },
    {
     "name": "stdout",
     "output_type": "stream",
     "text": [
      "25\n",
      "10SGD\n",
      " Getting 1 granules, approx download size: 0.18 GB\n"
     ]
    },
    {
     "data": {
      "application/vnd.jupyter.widget-view+json": {
       "model_id": "2432bf518e134f2298be4c1a1d352a93",
       "version_major": 2,
       "version_minor": 0
      },
      "text/plain": [
       "QUEUEING TASKS | :   0%|          | 0/15 [00:00<?, ?it/s]"
      ]
     },
     "metadata": {},
     "output_type": "display_data"
    },
    {
     "name": "stdout",
     "output_type": "stream",
     "text": [
      "File HLS.L30.T10SGD.2017151T183406.v2.0.B07.tif already downloaded\n",
      "File HLS.L30.T10SGD.2017151T183406.v2.0.VZA.tif already downloaded\n",
      "File HLS.L30.T10SGD.2017151T183406.v2.0.B04.tif already downloaded\n",
      "File HLS.L30.T10SGD.2017151T183406.v2.0.SAA.tif already downloaded\n",
      "File HLS.L30.T10SGD.2017151T183406.v2.0.B06.tif already downloaded\n",
      "File HLS.L30.T10SGD.2017151T183406.v2.0.B10.tif already downloaded\n",
      "File HLS.L30.T10SGD.2017151T183406.v2.0.SZA.tif already downloaded\n",
      "File HLS.L30.T10SGD.2017151T183406.v2.0.VAA.tif already downloaded\n",
      "File HLS.L30.T10SGD.2017151T183406.v2.0.B03.tif already downloaded\n",
      "File HLS.L30.T10SGD.2017151T183406.v2.0.B02.tif already downloaded\n",
      "File HLS.L30.T10SGD.2017151T183406.v2.0.B05.tif already downloaded\n",
      "File HLS.L30.T10SGD.2017151T183406.v2.0.B11.tif already downloaded\n",
      "File HLS.L30.T10SGD.2017151T183406.v2.0.B01.tif already downloaded\n",
      "File HLS.L30.T10SGD.2017151T183406.v2.0.B09.tif already downloaded\n",
      "File HLS.L30.T10SGD.2017151T183406.v2.0.Fmask.tif already downloaded\n"
     ]
    },
    {
     "data": {
      "application/vnd.jupyter.widget-view+json": {
       "model_id": "02f169ba5f874526a6a6dcade6934b7d",
       "version_major": 2,
       "version_minor": 0
      },
      "text/plain": [
       "PROCESSING TASKS | :   0%|          | 0/15 [00:00<?, ?it/s]"
      ]
     },
     "metadata": {},
     "output_type": "display_data"
    },
    {
     "data": {
      "application/vnd.jupyter.widget-view+json": {
       "model_id": "cfcc799cb4634a30b90050e40480d14a",
       "version_major": 2,
       "version_minor": 0
      },
      "text/plain": [
       "COLLECTING RESULTS | :   0%|          | 0/15 [00:00<?, ?it/s]"
      ]
     },
     "metadata": {},
     "output_type": "display_data"
    },
    {
     "name": "stdout",
     "output_type": "stream",
     "text": [
      "26\n",
      "11SKU\n",
      " Getting 1 granules, approx download size: 0.21 GB\n"
     ]
    },
    {
     "data": {
      "application/vnd.jupyter.widget-view+json": {
       "model_id": "c838e519e2eb49f7a6df53fccd5748d2",
       "version_major": 2,
       "version_minor": 0
      },
      "text/plain": [
       "QUEUEING TASKS | :   0%|          | 0/18 [00:00<?, ?it/s]"
      ]
     },
     "metadata": {},
     "output_type": "display_data"
    },
    {
     "name": "stdout",
     "output_type": "stream",
     "text": [
      "File HLS.S30.T11SKU.2017157T183921.v2.0.Fmask.tif already downloaded\n",
      "File HLS.S30.T11SKU.2017157T183921.v2.0.B09.tif already downloaded\n",
      "File HLS.S30.T11SKU.2017157T183921.v2.0.B11.tif already downloaded\n",
      "File HLS.S30.T11SKU.2017157T183921.v2.0.B07.tif already downloaded\n",
      "File HLS.S30.T11SKU.2017157T183921.v2.0.B06.tif already downloaded\n",
      "File HLS.S30.T11SKU.2017157T183921.v2.0.B10.tif already downloaded\n",
      "File HLS.S30.T11SKU.2017157T183921.v2.0.B01.tif already downloaded\n",
      "File HLS.S30.T11SKU.2017157T183921.v2.0.B03.tif already downloaded\n",
      "File HLS.S30.T11SKU.2017157T183921.v2.0.SAA.tif already downloaded\n",
      "File HLS.S30.T11SKU.2017157T183921.v2.0.B12.tif already downloaded\n",
      "File HLS.S30.T11SKU.2017157T183921.v2.0.B04.tif already downloaded\n",
      "File HLS.S30.T11SKU.2017157T183921.v2.0.B05.tif already downloaded\n",
      "File HLS.S30.T11SKU.2017157T183921.v2.0.B02.tif already downloaded\n",
      "File HLS.S30.T11SKU.2017157T183921.v2.0.B08.tif already downloaded\n",
      "File HLS.S30.T11SKU.2017157T183921.v2.0.B8A.tif already downloaded\n",
      "File HLS.S30.T11SKU.2017157T183921.v2.0.VAA.tif already downloaded\n",
      "File HLS.S30.T11SKU.2017157T183921.v2.0.SZA.tif already downloaded\n",
      "File HLS.S30.T11SKU.2017157T183921.v2.0.VZA.tif already downloaded\n"
     ]
    },
    {
     "data": {
      "application/vnd.jupyter.widget-view+json": {
       "model_id": "166106c3f8a64730939e0cba31006449",
       "version_major": 2,
       "version_minor": 0
      },
      "text/plain": [
       "PROCESSING TASKS | :   0%|          | 0/18 [00:00<?, ?it/s]"
      ]
     },
     "metadata": {},
     "output_type": "display_data"
    },
    {
     "data": {
      "application/vnd.jupyter.widget-view+json": {
       "model_id": "eb2747d55eb24d34a2b4e0fff4c5034a",
       "version_major": 2,
       "version_minor": 0
      },
      "text/plain": [
       "COLLECTING RESULTS | :   0%|          | 0/18 [00:00<?, ?it/s]"
      ]
     },
     "metadata": {},
     "output_type": "display_data"
    },
    {
     "name": "stdout",
     "output_type": "stream",
     "text": [
      "27\n",
      "10SGD\n",
      " Getting 1 granules, approx download size: 0.22 GB\n"
     ]
    },
    {
     "data": {
      "application/vnd.jupyter.widget-view+json": {
       "model_id": "2d9362ebb4f14199b72e2691cc9c352a",
       "version_major": 2,
       "version_minor": 0
      },
      "text/plain": [
       "QUEUEING TASKS | :   0%|          | 0/18 [00:00<?, ?it/s]"
      ]
     },
     "metadata": {},
     "output_type": "display_data"
    },
    {
     "name": "stdout",
     "output_type": "stream",
     "text": [
      "File HLS.S30.T10SGD.2017157T183921.v2.0.B02.tif already downloadedFile HLS.S30.T10SGD.2017157T183921.v2.0.SZA.tif already downloaded\n",
      "\n",
      "File HLS.S30.T10SGD.2017157T183921.v2.0.B07.tif already downloaded\n",
      "File HLS.S30.T10SGD.2017157T183921.v2.0.B03.tif already downloaded\n",
      "File HLS.S30.T10SGD.2017157T183921.v2.0.Fmask.tif already downloaded\n",
      "File HLS.S30.T10SGD.2017157T183921.v2.0.B04.tif already downloaded\n",
      "File HLS.S30.T10SGD.2017157T183921.v2.0.VZA.tif already downloaded\n",
      "File HLS.S30.T10SGD.2017157T183921.v2.0.SAA.tif already downloaded\n",
      "File HLS.S30.T10SGD.2017157T183921.v2.0.B01.tif already downloaded\n",
      "File HLS.S30.T10SGD.2017157T183921.v2.0.VAA.tif already downloaded\n",
      "File HLS.S30.T10SGD.2017157T183921.v2.0.B11.tif already downloaded\n",
      "File HLS.S30.T10SGD.2017157T183921.v2.0.B09.tif already downloaded\n",
      "File HLS.S30.T10SGD.2017157T183921.v2.0.B12.tif already downloaded\n",
      "File HLS.S30.T10SGD.2017157T183921.v2.0.B10.tif already downloaded\n",
      "File HLS.S30.T10SGD.2017157T183921.v2.0.B05.tif already downloaded\n",
      "File HLS.S30.T10SGD.2017157T183921.v2.0.B8A.tif already downloaded\n",
      "File HLS.S30.T10SGD.2017157T183921.v2.0.B06.tif already downloaded\n",
      "File HLS.S30.T10SGD.2017157T183921.v2.0.B08.tif already downloaded\n"
     ]
    },
    {
     "data": {
      "application/vnd.jupyter.widget-view+json": {
       "model_id": "41a7b7b049244c9292d241393090ab82",
       "version_major": 2,
       "version_minor": 0
      },
      "text/plain": [
       "PROCESSING TASKS | :   0%|          | 0/18 [00:00<?, ?it/s]"
      ]
     },
     "metadata": {},
     "output_type": "display_data"
    },
    {
     "data": {
      "application/vnd.jupyter.widget-view+json": {
       "model_id": "27e6c77b7e2f459f8edde8bfbded080b",
       "version_major": 2,
       "version_minor": 0
      },
      "text/plain": [
       "COLLECTING RESULTS | :   0%|          | 0/18 [00:00<?, ?it/s]"
      ]
     },
     "metadata": {},
     "output_type": "display_data"
    },
    {
     "name": "stdout",
     "output_type": "stream",
     "text": [
      "28\n",
      "10SGD\n",
      " Getting 1 granules, approx download size: 0.17 GB\n"
     ]
    },
    {
     "data": {
      "application/vnd.jupyter.widget-view+json": {
       "model_id": "4736c4bc2ab64e7c8b731f2720085a42",
       "version_major": 2,
       "version_minor": 0
      },
      "text/plain": [
       "QUEUEING TASKS | :   0%|          | 0/15 [00:00<?, ?it/s]"
      ]
     },
     "metadata": {},
     "output_type": "display_data"
    },
    {
     "name": "stdout",
     "output_type": "stream",
     "text": [
      "File HLS.L30.T10SGD.2017167T183413.v2.0.B06.tif already downloaded\n",
      "File HLS.L30.T10SGD.2017167T183413.v2.0.B09.tif already downloaded\n",
      "File HLS.L30.T10SGD.2017167T183413.v2.0.B05.tif already downloaded\n",
      "File HLS.L30.T10SGD.2017167T183413.v2.0.B01.tif already downloaded\n",
      "File HLS.L30.T10SGD.2017167T183413.v2.0.B04.tif already downloaded\n",
      "File HLS.L30.T10SGD.2017167T183413.v2.0.VAA.tif already downloaded\n",
      "File HLS.L30.T10SGD.2017167T183413.v2.0.B11.tif already downloaded\n",
      "File HLS.L30.T10SGD.2017167T183413.v2.0.B02.tif already downloaded\n",
      "File HLS.L30.T10SGD.2017167T183413.v2.0.VZA.tif already downloaded\n",
      "File HLS.L30.T10SGD.2017167T183413.v2.0.Fmask.tif already downloaded\n",
      "File HLS.L30.T10SGD.2017167T183413.v2.0.SZA.tif already downloaded\n",
      "File HLS.L30.T10SGD.2017167T183413.v2.0.B07.tif already downloaded\n",
      "File HLS.L30.T10SGD.2017167T183413.v2.0.SAA.tif already downloaded\n",
      "File HLS.L30.T10SGD.2017167T183413.v2.0.B10.tif already downloaded\n",
      "File HLS.L30.T10SGD.2017167T183413.v2.0.B03.tif already downloaded\n"
     ]
    },
    {
     "data": {
      "application/vnd.jupyter.widget-view+json": {
       "model_id": "01e80405db004701b7a952ee7aa0a41e",
       "version_major": 2,
       "version_minor": 0
      },
      "text/plain": [
       "PROCESSING TASKS | :   0%|          | 0/15 [00:00<?, ?it/s]"
      ]
     },
     "metadata": {},
     "output_type": "display_data"
    },
    {
     "data": {
      "application/vnd.jupyter.widget-view+json": {
       "model_id": "339b817f72804ce3a53ef33feea49500",
       "version_major": 2,
       "version_minor": 0
      },
      "text/plain": [
       "COLLECTING RESULTS | :   0%|          | 0/15 [00:00<?, ?it/s]"
      ]
     },
     "metadata": {},
     "output_type": "display_data"
    },
    {
     "name": "stdout",
     "output_type": "stream",
     "text": [
      "29\n",
      "11SKU\n",
      " Getting 1 granules, approx download size: 0.21 GB\n"
     ]
    },
    {
     "data": {
      "application/vnd.jupyter.widget-view+json": {
       "model_id": "e8eee99ec5c94666a848c79cbacc496c",
       "version_major": 2,
       "version_minor": 0
      },
      "text/plain": [
       "QUEUEING TASKS | :   0%|          | 0/18 [00:00<?, ?it/s]"
      ]
     },
     "metadata": {},
     "output_type": "display_data"
    },
    {
     "name": "stdout",
     "output_type": "stream",
     "text": [
      "File HLS.S30.T11SKU.2017167T185431.v2.0.B08.tif already downloadedFile HLS.S30.T11SKU.2017167T185431.v2.0.B12.tif already downloaded\n",
      "\n",
      "File HLS.S30.T11SKU.2017167T185431.v2.0.SZA.tif already downloaded\n",
      "File HLS.S30.T11SKU.2017167T185431.v2.0.B06.tif already downloaded\n",
      "File HLS.S30.T11SKU.2017167T185431.v2.0.VZA.tif already downloaded\n",
      "File HLS.S30.T11SKU.2017167T185431.v2.0.B04.tif already downloaded\n",
      "File HLS.S30.T11SKU.2017167T185431.v2.0.VAA.tif already downloaded\n",
      "File HLS.S30.T11SKU.2017167T185431.v2.0.B11.tif already downloaded\n",
      "File HLS.S30.T11SKU.2017167T185431.v2.0.Fmask.tif already downloaded\n",
      "File HLS.S30.T11SKU.2017167T185431.v2.0.B8A.tif already downloaded\n",
      "File HLS.S30.T11SKU.2017167T185431.v2.0.B07.tif already downloaded\n",
      "File HLS.S30.T11SKU.2017167T185431.v2.0.SAA.tif already downloaded\n",
      "File HLS.S30.T11SKU.2017167T185431.v2.0.B02.tif already downloaded\n",
      "File HLS.S30.T11SKU.2017167T185431.v2.0.B10.tif already downloaded\n",
      "File HLS.S30.T11SKU.2017167T185431.v2.0.B09.tif already downloaded\n",
      "File HLS.S30.T11SKU.2017167T185431.v2.0.B03.tif already downloaded\n",
      "File HLS.S30.T11SKU.2017167T185431.v2.0.B01.tif already downloaded\n",
      "File HLS.S30.T11SKU.2017167T185431.v2.0.B05.tif already downloaded\n"
     ]
    },
    {
     "data": {
      "application/vnd.jupyter.widget-view+json": {
       "model_id": "6a99129cd9d8409b8697e3fd699d1f2c",
       "version_major": 2,
       "version_minor": 0
      },
      "text/plain": [
       "PROCESSING TASKS | :   0%|          | 0/18 [00:00<?, ?it/s]"
      ]
     },
     "metadata": {},
     "output_type": "display_data"
    },
    {
     "data": {
      "application/vnd.jupyter.widget-view+json": {
       "model_id": "cc99e9818557427eac9c64579ad08fe6",
       "version_major": 2,
       "version_minor": 0
      },
      "text/plain": [
       "COLLECTING RESULTS | :   0%|          | 0/18 [00:00<?, ?it/s]"
      ]
     },
     "metadata": {},
     "output_type": "display_data"
    },
    {
     "name": "stdout",
     "output_type": "stream",
     "text": [
      "30\n",
      "10SGD\n",
      " Getting 1 granules, approx download size: 0.21 GB\n"
     ]
    },
    {
     "data": {
      "application/vnd.jupyter.widget-view+json": {
       "model_id": "a458d4f4540d45c2b25d565fe3edcea7",
       "version_major": 2,
       "version_minor": 0
      },
      "text/plain": [
       "QUEUEING TASKS | :   0%|          | 0/18 [00:00<?, ?it/s]"
      ]
     },
     "metadata": {},
     "output_type": "display_data"
    },
    {
     "name": "stdout",
     "output_type": "stream",
     "text": [
      "File HLS.S30.T10SGD.2017167T185431.v2.0.B09.tif already downloaded\n",
      "File HLS.S30.T10SGD.2017167T185431.v2.0.SZA.tif already downloaded\n",
      "File HLS.S30.T10SGD.2017167T185431.v2.0.B07.tif already downloaded\n",
      "File HLS.S30.T10SGD.2017167T185431.v2.0.VZA.tif already downloaded\n",
      "File HLS.S30.T10SGD.2017167T185431.v2.0.B05.tif already downloaded\n",
      "File HLS.S30.T10SGD.2017167T185431.v2.0.B10.tif already downloaded\n",
      "File HLS.S30.T10SGD.2017167T185431.v2.0.VAA.tif already downloaded\n",
      "File HLS.S30.T10SGD.2017167T185431.v2.0.Fmask.tif already downloaded\n",
      "File HLS.S30.T10SGD.2017167T185431.v2.0.B06.tif already downloaded\n",
      "File HLS.S30.T10SGD.2017167T185431.v2.0.B12.tif already downloaded\n",
      "File HLS.S30.T10SGD.2017167T185431.v2.0.SAA.tif already downloaded\n",
      "File HLS.S30.T10SGD.2017167T185431.v2.0.B01.tif already downloaded\n",
      "File HLS.S30.T10SGD.2017167T185431.v2.0.B08.tif already downloaded\n",
      "File HLS.S30.T10SGD.2017167T185431.v2.0.B8A.tif already downloaded\n",
      "File HLS.S30.T10SGD.2017167T185431.v2.0.B04.tif already downloaded\n",
      "File HLS.S30.T10SGD.2017167T185431.v2.0.B11.tif already downloaded\n",
      "File HLS.S30.T10SGD.2017167T185431.v2.0.B03.tif already downloaded\n",
      "File HLS.S30.T10SGD.2017167T185431.v2.0.B02.tif already downloaded\n"
     ]
    },
    {
     "data": {
      "application/vnd.jupyter.widget-view+json": {
       "model_id": "a674645fdd1c478ea3811cf44f9acd43",
       "version_major": 2,
       "version_minor": 0
      },
      "text/plain": [
       "PROCESSING TASKS | :   0%|          | 0/18 [00:00<?, ?it/s]"
      ]
     },
     "metadata": {},
     "output_type": "display_data"
    },
    {
     "data": {
      "application/vnd.jupyter.widget-view+json": {
       "model_id": "7d943a807db34d8582ec6e1367292e31",
       "version_major": 2,
       "version_minor": 0
      },
      "text/plain": [
       "COLLECTING RESULTS | :   0%|          | 0/18 [00:00<?, ?it/s]"
      ]
     },
     "metadata": {},
     "output_type": "display_data"
    },
    {
     "name": "stdout",
     "output_type": "stream",
     "text": [
      "31\n",
      "11SKU\n",
      " Getting 1 granules, approx download size: 0.21 GB\n"
     ]
    },
    {
     "data": {
      "application/vnd.jupyter.widget-view+json": {
       "model_id": "a5fbde9562a140d69a1251cc4d358726",
       "version_major": 2,
       "version_minor": 0
      },
      "text/plain": [
       "QUEUEING TASKS | :   0%|          | 0/18 [00:00<?, ?it/s]"
      ]
     },
     "metadata": {},
     "output_type": "display_data"
    },
    {
     "name": "stdout",
     "output_type": "stream",
     "text": [
      "File HLS.S30.T11SKU.2017177T183921.v2.0.SZA.tif already downloaded\n",
      "File HLS.S30.T11SKU.2017177T183921.v2.0.B8A.tif already downloaded\n",
      "File HLS.S30.T11SKU.2017177T183921.v2.0.B11.tif already downloaded\n",
      "File HLS.S30.T11SKU.2017177T183921.v2.0.VZA.tif already downloaded\n",
      "File HLS.S30.T11SKU.2017177T183921.v2.0.B02.tif already downloaded\n",
      "File HLS.S30.T11SKU.2017177T183921.v2.0.B06.tif already downloaded\n",
      "File HLS.S30.T11SKU.2017177T183921.v2.0.Fmask.tif already downloaded\n",
      "File HLS.S30.T11SKU.2017177T183921.v2.0.B03.tif already downloaded\n",
      "File HLS.S30.T11SKU.2017177T183921.v2.0.B07.tif already downloaded\n",
      "File HLS.S30.T11SKU.2017177T183921.v2.0.SAA.tif already downloaded\n",
      "File HLS.S30.T11SKU.2017177T183921.v2.0.B05.tif already downloaded\n",
      "File HLS.S30.T11SKU.2017177T183921.v2.0.B01.tif already downloaded\n",
      "File HLS.S30.T11SKU.2017177T183921.v2.0.B10.tif already downloaded\n",
      "File HLS.S30.T11SKU.2017177T183921.v2.0.VAA.tif already downloaded\n",
      "File HLS.S30.T11SKU.2017177T183921.v2.0.B08.tif already downloaded\n",
      "File HLS.S30.T11SKU.2017177T183921.v2.0.B04.tif already downloaded\n",
      "File HLS.S30.T11SKU.2017177T183921.v2.0.B09.tif already downloaded\n",
      "File HLS.S30.T11SKU.2017177T183921.v2.0.B12.tif already downloaded\n"
     ]
    },
    {
     "data": {
      "application/vnd.jupyter.widget-view+json": {
       "model_id": "1176a51537db461f8706e9fdf991feab",
       "version_major": 2,
       "version_minor": 0
      },
      "text/plain": [
       "PROCESSING TASKS | :   0%|          | 0/18 [00:00<?, ?it/s]"
      ]
     },
     "metadata": {},
     "output_type": "display_data"
    },
    {
     "data": {
      "application/vnd.jupyter.widget-view+json": {
       "model_id": "523cf521b38949738f7d8fbeedcdf589",
       "version_major": 2,
       "version_minor": 0
      },
      "text/plain": [
       "COLLECTING RESULTS | :   0%|          | 0/18 [00:00<?, ?it/s]"
      ]
     },
     "metadata": {},
     "output_type": "display_data"
    },
    {
     "name": "stdout",
     "output_type": "stream",
     "text": [
      "32\n",
      "10SGD\n",
      " Getting 1 granules, approx download size: 0.2 GB\n"
     ]
    },
    {
     "data": {
      "application/vnd.jupyter.widget-view+json": {
       "model_id": "46f8a2a328614e34aee28cc8ba2e177f",
       "version_major": 2,
       "version_minor": 0
      },
      "text/plain": [
       "QUEUEING TASKS | :   0%|          | 0/18 [00:00<?, ?it/s]"
      ]
     },
     "metadata": {},
     "output_type": "display_data"
    },
    {
     "name": "stdout",
     "output_type": "stream",
     "text": [
      "File HLS.S30.T10SGD.2017177T183921.v2.0.B03.tif already downloaded\n",
      "File HLS.S30.T10SGD.2017177T183921.v2.0.B8A.tif already downloaded\n",
      "File HLS.S30.T10SGD.2017177T183921.v2.0.B09.tif already downloaded\n",
      "File HLS.S30.T10SGD.2017177T183921.v2.0.B11.tif already downloaded\n",
      "File HLS.S30.T10SGD.2017177T183921.v2.0.Fmask.tif already downloaded\n",
      "File HLS.S30.T10SGD.2017177T183921.v2.0.B01.tif already downloaded\n",
      "File HLS.S30.T10SGD.2017177T183921.v2.0.B12.tif already downloaded\n",
      "File HLS.S30.T10SGD.2017177T183921.v2.0.B10.tif already downloaded\n",
      "File HLS.S30.T10SGD.2017177T183921.v2.0.SAA.tif already downloaded\n",
      "File HLS.S30.T10SGD.2017177T183921.v2.0.SZA.tif already downloaded\n",
      "File HLS.S30.T10SGD.2017177T183921.v2.0.VZA.tif already downloaded\n",
      "File HLS.S30.T10SGD.2017177T183921.v2.0.B04.tif already downloaded\n",
      "File HLS.S30.T10SGD.2017177T183921.v2.0.B07.tif already downloaded\n",
      "File HLS.S30.T10SGD.2017177T183921.v2.0.B08.tif already downloaded\n",
      "File HLS.S30.T10SGD.2017177T183921.v2.0.B02.tif already downloaded\n",
      "File HLS.S30.T10SGD.2017177T183921.v2.0.B06.tif already downloaded\n",
      "File HLS.S30.T10SGD.2017177T183921.v2.0.B05.tif already downloaded\n",
      "File HLS.S30.T10SGD.2017177T183921.v2.0.VAA.tif already downloaded\n"
     ]
    },
    {
     "data": {
      "application/vnd.jupyter.widget-view+json": {
       "model_id": "ec4229ceda584190b64cdd663f7f9e20",
       "version_major": 2,
       "version_minor": 0
      },
      "text/plain": [
       "PROCESSING TASKS | :   0%|          | 0/18 [00:00<?, ?it/s]"
      ]
     },
     "metadata": {},
     "output_type": "display_data"
    },
    {
     "data": {
      "application/vnd.jupyter.widget-view+json": {
       "model_id": "d11cfd73f1aa4eb5a194379df23538ec",
       "version_major": 2,
       "version_minor": 0
      },
      "text/plain": [
       "COLLECTING RESULTS | :   0%|          | 0/18 [00:00<?, ?it/s]"
      ]
     },
     "metadata": {},
     "output_type": "display_data"
    },
    {
     "name": "stdout",
     "output_type": "stream",
     "text": [
      "33\n",
      "11SKU\n",
      " Getting 1 granules, approx download size: 0.18 GB\n"
     ]
    },
    {
     "data": {
      "application/vnd.jupyter.widget-view+json": {
       "model_id": "51a7c124475a4be99d3a2aad5484e3d1",
       "version_major": 2,
       "version_minor": 0
      },
      "text/plain": [
       "QUEUEING TASKS | :   0%|          | 0/15 [00:00<?, ?it/s]"
      ]
     },
     "metadata": {},
     "output_type": "display_data"
    },
    {
     "name": "stdout",
     "output_type": "stream",
     "text": [
      "File HLS.L30.T11SKU.2017183T183353.v2.0.B04.tif already downloaded\n",
      "File HLS.L30.T11SKU.2017183T183353.v2.0.B03.tif already downloaded\n",
      "File HLS.L30.T11SKU.2017183T183353.v2.0.SZA.tif already downloaded\n",
      "File HLS.L30.T11SKU.2017183T183353.v2.0.VZA.tif already downloaded\n",
      "File HLS.L30.T11SKU.2017183T183353.v2.0.B09.tif already downloaded\n",
      "File HLS.L30.T11SKU.2017183T183353.v2.0.Fmask.tif already downloaded\n",
      "File HLS.L30.T11SKU.2017183T183353.v2.0.B11.tif already downloaded\n",
      "File HLS.L30.T11SKU.2017183T183353.v2.0.SAA.tif already downloaded\n",
      "File HLS.L30.T11SKU.2017183T183353.v2.0.B02.tif already downloaded\n",
      "File HLS.L30.T11SKU.2017183T183353.v2.0.VAA.tif already downloaded\n",
      "File HLS.L30.T11SKU.2017183T183353.v2.0.B10.tif already downloaded\n",
      "File HLS.L30.T11SKU.2017183T183353.v2.0.B01.tif already downloaded\n",
      "File HLS.L30.T11SKU.2017183T183353.v2.0.B07.tif already downloaded\n",
      "File HLS.L30.T11SKU.2017183T183353.v2.0.B05.tif already downloaded\n",
      "File HLS.L30.T11SKU.2017183T183353.v2.0.B06.tif already downloaded\n"
     ]
    },
    {
     "data": {
      "application/vnd.jupyter.widget-view+json": {
       "model_id": "43d698e79b594201ad1cde9f003b0436",
       "version_major": 2,
       "version_minor": 0
      },
      "text/plain": [
       "PROCESSING TASKS | :   0%|          | 0/15 [00:00<?, ?it/s]"
      ]
     },
     "metadata": {},
     "output_type": "display_data"
    },
    {
     "data": {
      "application/vnd.jupyter.widget-view+json": {
       "model_id": "ed521a2f8b1144cbaf5b7b5513696519",
       "version_major": 2,
       "version_minor": 0
      },
      "text/plain": [
       "COLLECTING RESULTS | :   0%|          | 0/15 [00:00<?, ?it/s]"
      ]
     },
     "metadata": {},
     "output_type": "display_data"
    },
    {
     "name": "stdout",
     "output_type": "stream",
     "text": [
      "34\n",
      "10SGD\n",
      " Getting 1 granules, approx download size: 0.18 GB\n"
     ]
    },
    {
     "data": {
      "application/vnd.jupyter.widget-view+json": {
       "model_id": "69548b52a0ac4d9a8fef91aa8eed3e12",
       "version_major": 2,
       "version_minor": 0
      },
      "text/plain": [
       "QUEUEING TASKS | :   0%|          | 0/15 [00:00<?, ?it/s]"
      ]
     },
     "metadata": {},
     "output_type": "display_data"
    },
    {
     "name": "stdout",
     "output_type": "stream",
     "text": [
      "File HLS.L30.T10SGD.2017183T183417.v2.0.B07.tif already downloaded\n",
      "File HLS.L30.T10SGD.2017183T183417.v2.0.B03.tif already downloaded\n",
      "File HLS.L30.T10SGD.2017183T183417.v2.0.Fmask.tif already downloaded\n",
      "File HLS.L30.T10SGD.2017183T183417.v2.0.VAA.tif already downloaded\n",
      "File HLS.L30.T10SGD.2017183T183417.v2.0.B05.tif already downloaded\n",
      "File HLS.L30.T10SGD.2017183T183417.v2.0.B11.tif already downloaded\n",
      "File HLS.L30.T10SGD.2017183T183417.v2.0.B04.tif already downloaded\n",
      "File HLS.L30.T10SGD.2017183T183417.v2.0.B01.tif already downloaded\n",
      "File HLS.L30.T10SGD.2017183T183417.v2.0.B10.tif already downloaded\n",
      "File HLS.L30.T10SGD.2017183T183417.v2.0.B02.tif already downloaded\n",
      "File HLS.L30.T10SGD.2017183T183417.v2.0.SAA.tif already downloaded\n",
      "File HLS.L30.T10SGD.2017183T183417.v2.0.VZA.tif already downloaded\n",
      "File HLS.L30.T10SGD.2017183T183417.v2.0.B09.tif already downloaded\n",
      "File HLS.L30.T10SGD.2017183T183417.v2.0.SZA.tif already downloaded\n",
      "File HLS.L30.T10SGD.2017183T183417.v2.0.B06.tif already downloaded\n"
     ]
    },
    {
     "data": {
      "application/vnd.jupyter.widget-view+json": {
       "model_id": "6728006b5b5c4647854a64932ae01ca9",
       "version_major": 2,
       "version_minor": 0
      },
      "text/plain": [
       "PROCESSING TASKS | :   0%|          | 0/15 [00:00<?, ?it/s]"
      ]
     },
     "metadata": {},
     "output_type": "display_data"
    },
    {
     "data": {
      "application/vnd.jupyter.widget-view+json": {
       "model_id": "d960f73fe24943b7bcd815cee84b4270",
       "version_major": 2,
       "version_minor": 0
      },
      "text/plain": [
       "COLLECTING RESULTS | :   0%|          | 0/15 [00:00<?, ?it/s]"
      ]
     },
     "metadata": {},
     "output_type": "display_data"
    },
    {
     "name": "stdout",
     "output_type": "stream",
     "text": [
      "35\n",
      "11SKU\n",
      " Getting 1 granules, approx download size: 0.21 GB\n"
     ]
    },
    {
     "data": {
      "application/vnd.jupyter.widget-view+json": {
       "model_id": "11f40487abde45d9a84e776b5f588429",
       "version_major": 2,
       "version_minor": 0
      },
      "text/plain": [
       "QUEUEING TASKS | :   0%|          | 0/18 [00:00<?, ?it/s]"
      ]
     },
     "metadata": {},
     "output_type": "display_data"
    },
    {
     "name": "stdout",
     "output_type": "stream",
     "text": [
      "File HLS.S30.T11SKU.2017187T185431.v2.0.B03.tif already downloaded\n",
      "File HLS.S30.T11SKU.2017187T185431.v2.0.B8A.tif already downloaded\n",
      "File HLS.S30.T11SKU.2017187T185431.v2.0.B09.tif already downloaded\n",
      "File HLS.S30.T11SKU.2017187T185431.v2.0.B12.tif already downloaded\n",
      "File HLS.S30.T11SKU.2017187T185431.v2.0.B11.tif already downloaded\n",
      "File HLS.S30.T11SKU.2017187T185431.v2.0.SAA.tif already downloaded\n",
      "File HLS.S30.T11SKU.2017187T185431.v2.0.B10.tif already downloaded\n",
      "File HLS.S30.T11SKU.2017187T185431.v2.0.B08.tif already downloaded\n",
      "File HLS.S30.T11SKU.2017187T185431.v2.0.B05.tif already downloaded\n",
      "File HLS.S30.T11SKU.2017187T185431.v2.0.VZA.tif already downloaded\n",
      "File HLS.S30.T11SKU.2017187T185431.v2.0.Fmask.tif already downloaded\n",
      "File HLS.S30.T11SKU.2017187T185431.v2.0.B02.tif already downloaded\n",
      "File HLS.S30.T11SKU.2017187T185431.v2.0.SZA.tif already downloaded\n",
      "File HLS.S30.T11SKU.2017187T185431.v2.0.B07.tif already downloaded\n",
      "File HLS.S30.T11SKU.2017187T185431.v2.0.B04.tif already downloaded\n",
      "File HLS.S30.T11SKU.2017187T185431.v2.0.VAA.tif already downloaded\n",
      "File HLS.S30.T11SKU.2017187T185431.v2.0.B01.tif already downloaded\n",
      "File HLS.S30.T11SKU.2017187T185431.v2.0.B06.tif already downloaded\n"
     ]
    },
    {
     "data": {
      "application/vnd.jupyter.widget-view+json": {
       "model_id": "00a97c79ad2b4f3ebe4b7865befabb62",
       "version_major": 2,
       "version_minor": 0
      },
      "text/plain": [
       "PROCESSING TASKS | :   0%|          | 0/18 [00:00<?, ?it/s]"
      ]
     },
     "metadata": {},
     "output_type": "display_data"
    },
    {
     "data": {
      "application/vnd.jupyter.widget-view+json": {
       "model_id": "174b5ac5d54e4f189968a49de089cef5",
       "version_major": 2,
       "version_minor": 0
      },
      "text/plain": [
       "COLLECTING RESULTS | :   0%|          | 0/18 [00:00<?, ?it/s]"
      ]
     },
     "metadata": {},
     "output_type": "display_data"
    },
    {
     "name": "stdout",
     "output_type": "stream",
     "text": [
      "36\n",
      "11SKU\n",
      " Getting 1 granules, approx download size: 0.21 GB\n"
     ]
    },
    {
     "data": {
      "application/vnd.jupyter.widget-view+json": {
       "model_id": "c7f4d991bf5b4d4cace9083757e29ba7",
       "version_major": 2,
       "version_minor": 0
      },
      "text/plain": [
       "QUEUEING TASKS | :   0%|          | 0/18 [00:00<?, ?it/s]"
      ]
     },
     "metadata": {},
     "output_type": "display_data"
    },
    {
     "name": "stdout",
     "output_type": "stream",
     "text": [
      "File HLS.S30.T11SKU.2017192T183919.v2.0.VAA.tif already downloaded\n",
      "File HLS.S30.T11SKU.2017192T183919.v2.0.B09.tif already downloaded\n",
      "File HLS.S30.T11SKU.2017192T183919.v2.0.VZA.tif already downloaded\n",
      "File HLS.S30.T11SKU.2017192T183919.v2.0.B02.tif already downloaded\n",
      "File HLS.S30.T11SKU.2017192T183919.v2.0.SAA.tif already downloaded\n",
      "File HLS.S30.T11SKU.2017192T183919.v2.0.Fmask.tif already downloaded\n",
      "File HLS.S30.T11SKU.2017192T183919.v2.0.SZA.tif already downloaded\n",
      "File HLS.S30.T11SKU.2017192T183919.v2.0.B12.tif already downloaded\n",
      "File HLS.S30.T11SKU.2017192T183919.v2.0.B06.tif already downloaded\n",
      "File HLS.S30.T11SKU.2017192T183919.v2.0.B03.tif already downloaded\n",
      "File HLS.S30.T11SKU.2017192T183919.v2.0.B05.tif already downloaded\n",
      "File HLS.S30.T11SKU.2017192T183919.v2.0.B08.tif already downloaded\n",
      "File HLS.S30.T11SKU.2017192T183919.v2.0.B8A.tif already downloaded\n",
      "File HLS.S30.T11SKU.2017192T183919.v2.0.B04.tif already downloaded\n",
      "File HLS.S30.T11SKU.2017192T183919.v2.0.B10.tif already downloaded\n",
      "File HLS.S30.T11SKU.2017192T183919.v2.0.B11.tif already downloaded\n",
      "File HLS.S30.T11SKU.2017192T183919.v2.0.B01.tif already downloaded\n",
      "File HLS.S30.T11SKU.2017192T183919.v2.0.B07.tif already downloaded\n"
     ]
    },
    {
     "data": {
      "application/vnd.jupyter.widget-view+json": {
       "model_id": "58cdfb0213224ab1b45a018084cb334b",
       "version_major": 2,
       "version_minor": 0
      },
      "text/plain": [
       "PROCESSING TASKS | :   0%|          | 0/18 [00:00<?, ?it/s]"
      ]
     },
     "metadata": {},
     "output_type": "display_data"
    },
    {
     "data": {
      "application/vnd.jupyter.widget-view+json": {
       "model_id": "d3cff1e4ebe7461f9b08208c9697445e",
       "version_major": 2,
       "version_minor": 0
      },
      "text/plain": [
       "COLLECTING RESULTS | :   0%|          | 0/18 [00:00<?, ?it/s]"
      ]
     },
     "metadata": {},
     "output_type": "display_data"
    },
    {
     "name": "stdout",
     "output_type": "stream",
     "text": [
      "37\n",
      "10SGD\n",
      " Getting 1 granules, approx download size: 0.21 GB\n"
     ]
    },
    {
     "data": {
      "application/vnd.jupyter.widget-view+json": {
       "model_id": "7fd6c31e11a64b9b83250aea3cf0a50a",
       "version_major": 2,
       "version_minor": 0
      },
      "text/plain": [
       "QUEUEING TASKS | :   0%|          | 0/18 [00:00<?, ?it/s]"
      ]
     },
     "metadata": {},
     "output_type": "display_data"
    },
    {
     "name": "stdout",
     "output_type": "stream",
     "text": [
      "File HLS.S30.T10SGD.2017192T183919.v2.0.B09.tif already downloaded\n",
      "File HLS.S30.T10SGD.2017192T183919.v2.0.VZA.tif already downloaded\n",
      "File HLS.S30.T10SGD.2017192T183919.v2.0.B12.tif already downloaded\n",
      "File HLS.S30.T10SGD.2017192T183919.v2.0.B07.tif already downloaded\n",
      "File HLS.S30.T10SGD.2017192T183919.v2.0.B04.tif already downloaded\n",
      "File HLS.S30.T10SGD.2017192T183919.v2.0.B06.tif already downloaded\n",
      "File HLS.S30.T10SGD.2017192T183919.v2.0.SAA.tif already downloaded\n",
      "File HLS.S30.T10SGD.2017192T183919.v2.0.B8A.tif already downloaded\n",
      "File HLS.S30.T10SGD.2017192T183919.v2.0.B11.tif already downloaded\n",
      "File HLS.S30.T10SGD.2017192T183919.v2.0.B05.tif already downloaded\n",
      "File HLS.S30.T10SGD.2017192T183919.v2.0.B03.tif already downloaded\n",
      "File HLS.S30.T10SGD.2017192T183919.v2.0.B08.tif already downloaded\n",
      "File HLS.S30.T10SGD.2017192T183919.v2.0.Fmask.tif already downloaded\n",
      "File HLS.S30.T10SGD.2017192T183919.v2.0.B10.tif already downloaded\n",
      "File HLS.S30.T10SGD.2017192T183919.v2.0.B02.tif already downloaded\n",
      "File HLS.S30.T10SGD.2017192T183919.v2.0.VAA.tif already downloaded\n",
      "File HLS.S30.T10SGD.2017192T183919.v2.0.B01.tif already downloaded\n",
      "File HLS.S30.T10SGD.2017192T183919.v2.0.SZA.tif already downloaded\n"
     ]
    },
    {
     "data": {
      "application/vnd.jupyter.widget-view+json": {
       "model_id": "57ec126981d14e5cb409dde1da3b9c5d",
       "version_major": 2,
       "version_minor": 0
      },
      "text/plain": [
       "PROCESSING TASKS | :   0%|          | 0/18 [00:00<?, ?it/s]"
      ]
     },
     "metadata": {},
     "output_type": "display_data"
    },
    {
     "data": {
      "application/vnd.jupyter.widget-view+json": {
       "model_id": "562fba650ae84e4ca1af577405e80ea4",
       "version_major": 2,
       "version_minor": 0
      },
      "text/plain": [
       "COLLECTING RESULTS | :   0%|          | 0/18 [00:00<?, ?it/s]"
      ]
     },
     "metadata": {},
     "output_type": "display_data"
    },
    {
     "name": "stdout",
     "output_type": "stream",
     "text": [
      "38\n",
      "10SGD\n",
      " Getting 1 granules, approx download size: 0.23 GB\n"
     ]
    },
    {
     "data": {
      "application/vnd.jupyter.widget-view+json": {
       "model_id": "64d036f4ad8c4d0cab68183906725b3d",
       "version_major": 2,
       "version_minor": 0
      },
      "text/plain": [
       "QUEUEING TASKS | :   0%|          | 0/18 [00:00<?, ?it/s]"
      ]
     },
     "metadata": {},
     "output_type": "display_data"
    },
    {
     "name": "stdout",
     "output_type": "stream",
     "text": [
      "File HLS.S30.T10SGD.2017197T183921.v2.0.B03.tif already downloaded\n",
      "File HLS.S30.T10SGD.2017197T183921.v2.0.Fmask.tif already downloaded\n",
      "File HLS.S30.T10SGD.2017197T183921.v2.0.B01.tif already downloaded\n",
      "File HLS.S30.T10SGD.2017197T183921.v2.0.B06.tif already downloaded\n",
      "File HLS.S30.T10SGD.2017197T183921.v2.0.B07.tif already downloaded\n",
      "File HLS.S30.T10SGD.2017197T183921.v2.0.VZA.tif already downloaded\n",
      "File HLS.S30.T10SGD.2017197T183921.v2.0.B11.tif already downloaded\n",
      "File HLS.S30.T10SGD.2017197T183921.v2.0.B10.tif already downloaded\n",
      "File HLS.S30.T10SGD.2017197T183921.v2.0.B04.tif already downloaded\n",
      "File HLS.S30.T10SGD.2017197T183921.v2.0.VAA.tif already downloaded\n",
      "File HLS.S30.T10SGD.2017197T183921.v2.0.SAA.tif already downloaded\n",
      "File HLS.S30.T10SGD.2017197T183921.v2.0.B02.tif already downloaded\n",
      "File HLS.S30.T10SGD.2017197T183921.v2.0.SZA.tif already downloaded\n",
      "File HLS.S30.T10SGD.2017197T183921.v2.0.B05.tif already downloaded\n",
      "File HLS.S30.T10SGD.2017197T183921.v2.0.B8A.tif already downloaded\n",
      "File HLS.S30.T10SGD.2017197T183921.v2.0.B09.tif already downloaded\n",
      "File HLS.S30.T10SGD.2017197T183921.v2.0.B08.tif already downloaded\n",
      "File HLS.S30.T10SGD.2017197T183921.v2.0.B12.tif already downloaded\n"
     ]
    },
    {
     "data": {
      "application/vnd.jupyter.widget-view+json": {
       "model_id": "849d24e051c74b5181c52d114e58fbdb",
       "version_major": 2,
       "version_minor": 0
      },
      "text/plain": [
       "PROCESSING TASKS | :   0%|          | 0/18 [00:00<?, ?it/s]"
      ]
     },
     "metadata": {},
     "output_type": "display_data"
    },
    {
     "data": {
      "application/vnd.jupyter.widget-view+json": {
       "model_id": "8cebf27ff9e84c818fff111459ea8b9c",
       "version_major": 2,
       "version_minor": 0
      },
      "text/plain": [
       "COLLECTING RESULTS | :   0%|          | 0/18 [00:00<?, ?it/s]"
      ]
     },
     "metadata": {},
     "output_type": "display_data"
    },
    {
     "name": "stdout",
     "output_type": "stream",
     "text": [
      "39\n",
      "11SKU\n",
      " Getting 1 granules, approx download size: 0.23 GB\n"
     ]
    },
    {
     "data": {
      "application/vnd.jupyter.widget-view+json": {
       "model_id": "3c5bf2ba4c154e87813995760e443fcc",
       "version_major": 2,
       "version_minor": 0
      },
      "text/plain": [
       "QUEUEING TASKS | :   0%|          | 0/18 [00:00<?, ?it/s]"
      ]
     },
     "metadata": {},
     "output_type": "display_data"
    },
    {
     "name": "stdout",
     "output_type": "stream",
     "text": [
      "File HLS.S30.T11SKU.2017197T183921.v2.0.SZA.tif already downloaded\n",
      "File HLS.S30.T11SKU.2017197T183921.v2.0.B01.tif already downloaded\n",
      "File HLS.S30.T11SKU.2017197T183921.v2.0.Fmask.tif already downloaded\n",
      "File HLS.S30.T11SKU.2017197T183921.v2.0.B11.tif already downloaded\n",
      "File HLS.S30.T11SKU.2017197T183921.v2.0.B8A.tif already downloaded\n",
      "File HLS.S30.T11SKU.2017197T183921.v2.0.SAA.tif already downloaded\n",
      "File HLS.S30.T11SKU.2017197T183921.v2.0.VAA.tif already downloaded\n",
      "File HLS.S30.T11SKU.2017197T183921.v2.0.B03.tif already downloaded\n",
      "File HLS.S30.T11SKU.2017197T183921.v2.0.VZA.tif already downloaded\n",
      "File HLS.S30.T11SKU.2017197T183921.v2.0.B09.tif already downloaded\n",
      "File HLS.S30.T11SKU.2017197T183921.v2.0.B10.tif already downloaded\n",
      "File HLS.S30.T11SKU.2017197T183921.v2.0.B02.tif already downloaded\n",
      "File HLS.S30.T11SKU.2017197T183921.v2.0.B06.tif already downloaded\n",
      "File HLS.S30.T11SKU.2017197T183921.v2.0.B12.tif already downloaded\n",
      "File HLS.S30.T11SKU.2017197T183921.v2.0.B08.tif already downloaded\n",
      "File HLS.S30.T11SKU.2017197T183921.v2.0.B04.tif already downloaded\n",
      "File HLS.S30.T11SKU.2017197T183921.v2.0.B05.tif already downloaded\n",
      "File HLS.S30.T11SKU.2017197T183921.v2.0.B07.tif already downloaded\n"
     ]
    },
    {
     "data": {
      "application/vnd.jupyter.widget-view+json": {
       "model_id": "02c0f8ad8ec74001a92f31e00b38ba86",
       "version_major": 2,
       "version_minor": 0
      },
      "text/plain": [
       "PROCESSING TASKS | :   0%|          | 0/18 [00:00<?, ?it/s]"
      ]
     },
     "metadata": {},
     "output_type": "display_data"
    },
    {
     "data": {
      "application/vnd.jupyter.widget-view+json": {
       "model_id": "3db224b90f1d42ada5c99c2608529b83",
       "version_major": 2,
       "version_minor": 0
      },
      "text/plain": [
       "COLLECTING RESULTS | :   0%|          | 0/18 [00:00<?, ?it/s]"
      ]
     },
     "metadata": {},
     "output_type": "display_data"
    },
    {
     "name": "stdout",
     "output_type": "stream",
     "text": [
      "40\n",
      "11SKU\n",
      " Getting 1 granules, approx download size: 0.18 GB\n"
     ]
    },
    {
     "data": {
      "application/vnd.jupyter.widget-view+json": {
       "model_id": "c0def615063a4fdfb08363433deca510",
       "version_major": 2,
       "version_minor": 0
      },
      "text/plain": [
       "QUEUEING TASKS | :   0%|          | 0/15 [00:00<?, ?it/s]"
      ]
     },
     "metadata": {},
     "output_type": "display_data"
    },
    {
     "name": "stdout",
     "output_type": "stream",
     "text": [
      "File HLS.L30.T11SKU.2017199T183358.v2.0.SZA.tif already downloaded\n",
      "File HLS.L30.T11SKU.2017199T183358.v2.0.B04.tif already downloaded\n",
      "File HLS.L30.T11SKU.2017199T183358.v2.0.B10.tif already downloaded\n",
      "File HLS.L30.T11SKU.2017199T183358.v2.0.SAA.tif already downloaded\n",
      "File HLS.L30.T11SKU.2017199T183358.v2.0.Fmask.tif already downloaded\n",
      "File HLS.L30.T11SKU.2017199T183358.v2.0.B06.tif already downloaded\n",
      "File HLS.L30.T11SKU.2017199T183358.v2.0.B11.tif already downloaded\n",
      "File HLS.L30.T11SKU.2017199T183358.v2.0.VZA.tif already downloaded\n",
      "File HLS.L30.T11SKU.2017199T183358.v2.0.B09.tif already downloaded\n",
      "File HLS.L30.T11SKU.2017199T183358.v2.0.B02.tif already downloaded\n",
      "File HLS.L30.T11SKU.2017199T183358.v2.0.VAA.tif already downloaded\n",
      "File HLS.L30.T11SKU.2017199T183358.v2.0.B01.tif already downloaded\n",
      "File HLS.L30.T11SKU.2017199T183358.v2.0.B07.tif already downloaded\n",
      "File HLS.L30.T11SKU.2017199T183358.v2.0.B05.tif already downloaded\n",
      "File HLS.L30.T11SKU.2017199T183358.v2.0.B03.tif already downloaded\n"
     ]
    },
    {
     "data": {
      "application/vnd.jupyter.widget-view+json": {
       "model_id": "304f5bcdc8814911ac71585c0faf8802",
       "version_major": 2,
       "version_minor": 0
      },
      "text/plain": [
       "PROCESSING TASKS | :   0%|          | 0/15 [00:00<?, ?it/s]"
      ]
     },
     "metadata": {},
     "output_type": "display_data"
    },
    {
     "data": {
      "application/vnd.jupyter.widget-view+json": {
       "model_id": "b1dddc031988476a87b02970b60d7b08",
       "version_major": 2,
       "version_minor": 0
      },
      "text/plain": [
       "COLLECTING RESULTS | :   0%|          | 0/15 [00:00<?, ?it/s]"
      ]
     },
     "metadata": {},
     "output_type": "display_data"
    },
    {
     "name": "stdout",
     "output_type": "stream",
     "text": [
      "41\n",
      "10SGD\n",
      " Getting 1 granules, approx download size: 0.18 GB\n"
     ]
    },
    {
     "data": {
      "application/vnd.jupyter.widget-view+json": {
       "model_id": "22b93af9e86042f9b5b567e4a4e7355d",
       "version_major": 2,
       "version_minor": 0
      },
      "text/plain": [
       "QUEUEING TASKS | :   0%|          | 0/15 [00:00<?, ?it/s]"
      ]
     },
     "metadata": {},
     "output_type": "display_data"
    },
    {
     "name": "stdout",
     "output_type": "stream",
     "text": [
      "File HLS.L30.T10SGD.2017199T183422.v2.0.B07.tif already downloaded\n",
      "File HLS.L30.T10SGD.2017199T183422.v2.0.B04.tif already downloaded\n",
      "File HLS.L30.T10SGD.2017199T183422.v2.0.B06.tif already downloaded\n",
      "File HLS.L30.T10SGD.2017199T183422.v2.0.VAA.tif already downloaded\n",
      "File HLS.L30.T10SGD.2017199T183422.v2.0.B05.tif already downloaded\n",
      "File HLS.L30.T10SGD.2017199T183422.v2.0.B10.tif already downloaded\n",
      "File HLS.L30.T10SGD.2017199T183422.v2.0.B09.tif already downloaded\n",
      "File HLS.L30.T10SGD.2017199T183422.v2.0.B03.tif already downloaded\n",
      "File HLS.L30.T10SGD.2017199T183422.v2.0.SAA.tif already downloaded\n",
      "File HLS.L30.T10SGD.2017199T183422.v2.0.B11.tif already downloaded\n",
      "File HLS.L30.T10SGD.2017199T183422.v2.0.B01.tif already downloaded\n",
      "File HLS.L30.T10SGD.2017199T183422.v2.0.SZA.tif already downloaded\n",
      "File HLS.L30.T10SGD.2017199T183422.v2.0.Fmask.tif already downloaded\n",
      "File HLS.L30.T10SGD.2017199T183422.v2.0.VZA.tif already downloaded\n",
      "File HLS.L30.T10SGD.2017199T183422.v2.0.B02.tif already downloaded\n"
     ]
    },
    {
     "data": {
      "application/vnd.jupyter.widget-view+json": {
       "model_id": "b615d76479504f6b81c6a612c548b921",
       "version_major": 2,
       "version_minor": 0
      },
      "text/plain": [
       "PROCESSING TASKS | :   0%|          | 0/15 [00:00<?, ?it/s]"
      ]
     },
     "metadata": {},
     "output_type": "display_data"
    },
    {
     "data": {
      "application/vnd.jupyter.widget-view+json": {
       "model_id": "518aae0aee6146abbff7a9a278248312",
       "version_major": 2,
       "version_minor": 0
      },
      "text/plain": [
       "COLLECTING RESULTS | :   0%|          | 0/15 [00:00<?, ?it/s]"
      ]
     },
     "metadata": {},
     "output_type": "display_data"
    },
    {
     "name": "stdout",
     "output_type": "stream",
     "text": [
      "42\n",
      "10SGD\n",
      " Getting 1 granules, approx download size: 0.21 GB\n"
     ]
    },
    {
     "data": {
      "application/vnd.jupyter.widget-view+json": {
       "model_id": "6ff70e1b875f4df7bb38f93e47a36b4a",
       "version_major": 2,
       "version_minor": 0
      },
      "text/plain": [
       "QUEUEING TASKS | :   0%|          | 0/18 [00:00<?, ?it/s]"
      ]
     },
     "metadata": {},
     "output_type": "display_data"
    },
    {
     "name": "stdout",
     "output_type": "stream",
     "text": [
      "File HLS.S30.T10SGD.2017202T185429.v2.0.B04.tif already downloaded\n",
      "File HLS.S30.T10SGD.2017202T185429.v2.0.Fmask.tif already downloaded\n",
      "File HLS.S30.T10SGD.2017202T185429.v2.0.VAA.tif already downloaded\n",
      "File HLS.S30.T10SGD.2017202T185429.v2.0.B05.tif already downloaded\n",
      "File HLS.S30.T10SGD.2017202T185429.v2.0.B03.tif already downloaded\n",
      "File HLS.S30.T10SGD.2017202T185429.v2.0.B02.tif already downloaded\n",
      "File HLS.S30.T10SGD.2017202T185429.v2.0.B06.tif already downloaded\n",
      "File HLS.S30.T10SGD.2017202T185429.v2.0.SAA.tif already downloaded\n",
      "File HLS.S30.T10SGD.2017202T185429.v2.0.VZA.tif already downloaded\n",
      "File HLS.S30.T10SGD.2017202T185429.v2.0.SZA.tif already downloaded\n",
      "File HLS.S30.T10SGD.2017202T185429.v2.0.B12.tif already downloaded\n",
      "File HLS.S30.T10SGD.2017202T185429.v2.0.B09.tif already downloaded\n",
      "File HLS.S30.T10SGD.2017202T185429.v2.0.B8A.tif already downloaded\n",
      "File HLS.S30.T10SGD.2017202T185429.v2.0.B11.tif already downloaded\n",
      "File HLS.S30.T10SGD.2017202T185429.v2.0.B10.tif already downloaded\n",
      "File HLS.S30.T10SGD.2017202T185429.v2.0.B07.tif already downloaded\n",
      "File HLS.S30.T10SGD.2017202T185429.v2.0.B08.tif already downloaded\n",
      "File HLS.S30.T10SGD.2017202T185429.v2.0.B01.tif already downloaded\n"
     ]
    },
    {
     "data": {
      "application/vnd.jupyter.widget-view+json": {
       "model_id": "9333f454394e48de8b9615a5262777bc",
       "version_major": 2,
       "version_minor": 0
      },
      "text/plain": [
       "PROCESSING TASKS | :   0%|          | 0/18 [00:00<?, ?it/s]"
      ]
     },
     "metadata": {},
     "output_type": "display_data"
    },
    {
     "data": {
      "application/vnd.jupyter.widget-view+json": {
       "model_id": "090e5d68000e4750ae8df9d486ac3464",
       "version_major": 2,
       "version_minor": 0
      },
      "text/plain": [
       "COLLECTING RESULTS | :   0%|          | 0/18 [00:00<?, ?it/s]"
      ]
     },
     "metadata": {},
     "output_type": "display_data"
    },
    {
     "name": "stdout",
     "output_type": "stream",
     "text": [
      "43\n",
      "11SKU\n",
      " Getting 1 granules, approx download size: 0.21 GB\n"
     ]
    },
    {
     "data": {
      "application/vnd.jupyter.widget-view+json": {
       "model_id": "8ab76640af9044329c9d62ca4fb99255",
       "version_major": 2,
       "version_minor": 0
      },
      "text/plain": [
       "QUEUEING TASKS | :   0%|          | 0/18 [00:00<?, ?it/s]"
      ]
     },
     "metadata": {},
     "output_type": "display_data"
    },
    {
     "name": "stdout",
     "output_type": "stream",
     "text": [
      "File HLS.S30.T11SKU.2017202T185429.v2.0.B8A.tif already downloaded\n",
      "File HLS.S30.T11SKU.2017202T185429.v2.0.B01.tif already downloaded\n",
      "File HLS.S30.T11SKU.2017202T185429.v2.0.VZA.tif already downloaded\n",
      "File HLS.S30.T11SKU.2017202T185429.v2.0.B05.tif already downloaded\n",
      "File HLS.S30.T11SKU.2017202T185429.v2.0.B12.tif already downloaded\n",
      "File HLS.S30.T11SKU.2017202T185429.v2.0.B11.tif already downloaded\n",
      "File HLS.S30.T11SKU.2017202T185429.v2.0.SZA.tif already downloaded\n",
      "File HLS.S30.T11SKU.2017202T185429.v2.0.Fmask.tif already downloaded\n",
      "File HLS.S30.T11SKU.2017202T185429.v2.0.B09.tif already downloaded\n",
      "File HLS.S30.T11SKU.2017202T185429.v2.0.B06.tif already downloaded\n",
      "File HLS.S30.T11SKU.2017202T185429.v2.0.SAA.tif already downloaded\n",
      "File HLS.S30.T11SKU.2017202T185429.v2.0.B04.tif already downloaded\n",
      "File HLS.S30.T11SKU.2017202T185429.v2.0.B03.tif already downloaded\n",
      "File HLS.S30.T11SKU.2017202T185429.v2.0.VAA.tif already downloaded\n",
      "File HLS.S30.T11SKU.2017202T185429.v2.0.B10.tif already downloaded\n",
      "File HLS.S30.T11SKU.2017202T185429.v2.0.B08.tif already downloaded\n",
      "File HLS.S30.T11SKU.2017202T185429.v2.0.B02.tif already downloaded\n",
      "File HLS.S30.T11SKU.2017202T185429.v2.0.B07.tif already downloaded\n"
     ]
    },
    {
     "data": {
      "application/vnd.jupyter.widget-view+json": {
       "model_id": "24659106443f434787b23d4ccd2c8a5a",
       "version_major": 2,
       "version_minor": 0
      },
      "text/plain": [
       "PROCESSING TASKS | :   0%|          | 0/18 [00:00<?, ?it/s]"
      ]
     },
     "metadata": {},
     "output_type": "display_data"
    },
    {
     "data": {
      "application/vnd.jupyter.widget-view+json": {
       "model_id": "85123c97bfbd40aea10551d34a8350b0",
       "version_major": 2,
       "version_minor": 0
      },
      "text/plain": [
       "COLLECTING RESULTS | :   0%|          | 0/18 [00:00<?, ?it/s]"
      ]
     },
     "metadata": {},
     "output_type": "display_data"
    },
    {
     "name": "stdout",
     "output_type": "stream",
     "text": [
      "44\n",
      "11SKU\n",
      " Getting 1 granules, approx download size: 0.21 GB\n"
     ]
    },
    {
     "data": {
      "application/vnd.jupyter.widget-view+json": {
       "model_id": "8d028661f59c4234a20bef86d51f3f22",
       "version_major": 2,
       "version_minor": 0
      },
      "text/plain": [
       "QUEUEING TASKS | :   0%|          | 0/18 [00:00<?, ?it/s]"
      ]
     },
     "metadata": {},
     "output_type": "display_data"
    },
    {
     "name": "stdout",
     "output_type": "stream",
     "text": [
      "File HLS.S30.T11SKU.2017207T185431.v2.0.B11.tif already downloaded\n",
      "File HLS.S30.T11SKU.2017207T185431.v2.0.B02.tif already downloaded\n",
      "File HLS.S30.T11SKU.2017207T185431.v2.0.B8A.tif already downloaded\n",
      "File HLS.S30.T11SKU.2017207T185431.v2.0.B04.tif already downloaded\n",
      "File HLS.S30.T11SKU.2017207T185431.v2.0.SAA.tif already downloaded\n",
      "File HLS.S30.T11SKU.2017207T185431.v2.0.SZA.tif already downloaded\n",
      "File HLS.S30.T11SKU.2017207T185431.v2.0.VAA.tif already downloaded\n",
      "File HLS.S30.T11SKU.2017207T185431.v2.0.B03.tif already downloaded\n",
      "File HLS.S30.T11SKU.2017207T185431.v2.0.B08.tif already downloaded\n",
      "File HLS.S30.T11SKU.2017207T185431.v2.0.B05.tif already downloaded\n",
      "File HLS.S30.T11SKU.2017207T185431.v2.0.B10.tif already downloaded\n",
      "File HLS.S30.T11SKU.2017207T185431.v2.0.B09.tif already downloaded\n",
      "File HLS.S30.T11SKU.2017207T185431.v2.0.B01.tif already downloaded\n",
      "File HLS.S30.T11SKU.2017207T185431.v2.0.B07.tif already downloaded\n",
      "File HLS.S30.T11SKU.2017207T185431.v2.0.B12.tif already downloaded\n",
      "File HLS.S30.T11SKU.2017207T185431.v2.0.Fmask.tif already downloaded\n",
      "File HLS.S30.T11SKU.2017207T185431.v2.0.B06.tif already downloaded\n",
      "File HLS.S30.T11SKU.2017207T185431.v2.0.VZA.tif already downloaded\n"
     ]
    },
    {
     "data": {
      "application/vnd.jupyter.widget-view+json": {
       "model_id": "83d80278dc504f45a2f16f409d4b3904",
       "version_major": 2,
       "version_minor": 0
      },
      "text/plain": [
       "PROCESSING TASKS | :   0%|          | 0/18 [00:00<?, ?it/s]"
      ]
     },
     "metadata": {},
     "output_type": "display_data"
    },
    {
     "data": {
      "application/vnd.jupyter.widget-view+json": {
       "model_id": "ab7fc845539a4b369b999d5ca9ca47c2",
       "version_major": 2,
       "version_minor": 0
      },
      "text/plain": [
       "COLLECTING RESULTS | :   0%|          | 0/18 [00:00<?, ?it/s]"
      ]
     },
     "metadata": {},
     "output_type": "display_data"
    },
    {
     "name": "stdout",
     "output_type": "stream",
     "text": [
      "45\n",
      "10SGD\n",
      " Getting 1 granules, approx download size: 0.21 GB\n"
     ]
    },
    {
     "data": {
      "application/vnd.jupyter.widget-view+json": {
       "model_id": "a4a85431937c4ad68945f820339c7a22",
       "version_major": 2,
       "version_minor": 0
      },
      "text/plain": [
       "QUEUEING TASKS | :   0%|          | 0/18 [00:00<?, ?it/s]"
      ]
     },
     "metadata": {},
     "output_type": "display_data"
    },
    {
     "name": "stdout",
     "output_type": "stream",
     "text": [
      "File HLS.S30.T10SGD.2017207T185431.v2.0.B11.tif already downloadedFile HLS.S30.T10SGD.2017207T185431.v2.0.B01.tif already downloaded\n",
      "\n",
      "File HLS.S30.T10SGD.2017207T185431.v2.0.B12.tif already downloaded\n",
      "File HLS.S30.T10SGD.2017207T185431.v2.0.B06.tif already downloaded\n",
      "File HLS.S30.T10SGD.2017207T185431.v2.0.B02.tif already downloaded\n",
      "File HLS.S30.T10SGD.2017207T185431.v2.0.B08.tif already downloaded\n",
      "File HLS.S30.T10SGD.2017207T185431.v2.0.VAA.tif already downloaded\n",
      "File HLS.S30.T10SGD.2017207T185431.v2.0.B04.tif already downloaded\n",
      "File HLS.S30.T10SGD.2017207T185431.v2.0.B8A.tif already downloaded\n",
      "File HLS.S30.T10SGD.2017207T185431.v2.0.Fmask.tif already downloaded\n",
      "File HLS.S30.T10SGD.2017207T185431.v2.0.B09.tif already downloaded\n",
      "File HLS.S30.T10SGD.2017207T185431.v2.0.B10.tif already downloaded\n",
      "File HLS.S30.T10SGD.2017207T185431.v2.0.SAA.tif already downloaded\n",
      "File HLS.S30.T10SGD.2017207T185431.v2.0.VZA.tif already downloaded\n",
      "File HLS.S30.T10SGD.2017207T185431.v2.0.SZA.tif already downloaded\n",
      "File HLS.S30.T10SGD.2017207T185431.v2.0.B03.tif already downloaded\n",
      "File HLS.S30.T10SGD.2017207T185431.v2.0.B07.tif already downloaded\n",
      "File HLS.S30.T10SGD.2017207T185431.v2.0.B05.tif already downloaded\n"
     ]
    },
    {
     "data": {
      "application/vnd.jupyter.widget-view+json": {
       "model_id": "7719068be53f4fc396f62de734d9a03c",
       "version_major": 2,
       "version_minor": 0
      },
      "text/plain": [
       "PROCESSING TASKS | :   0%|          | 0/18 [00:00<?, ?it/s]"
      ]
     },
     "metadata": {},
     "output_type": "display_data"
    },
    {
     "data": {
      "application/vnd.jupyter.widget-view+json": {
       "model_id": "89e8e2c7971347739ce44d83e312da8a",
       "version_major": 2,
       "version_minor": 0
      },
      "text/plain": [
       "COLLECTING RESULTS | :   0%|          | 0/18 [00:00<?, ?it/s]"
      ]
     },
     "metadata": {},
     "output_type": "display_data"
    },
    {
     "name": "stdout",
     "output_type": "stream",
     "text": [
      "46\n",
      "10SGD\n",
      " Getting 1 granules, approx download size: 0.22 GB\n"
     ]
    },
    {
     "data": {
      "application/vnd.jupyter.widget-view+json": {
       "model_id": "94c9d3591abb46d8ab9323743dbaa9cf",
       "version_major": 2,
       "version_minor": 0
      },
      "text/plain": [
       "QUEUEING TASKS | :   0%|          | 0/18 [00:00<?, ?it/s]"
      ]
     },
     "metadata": {},
     "output_type": "display_data"
    },
    {
     "name": "stdout",
     "output_type": "stream",
     "text": [
      "File HLS.S30.T10SGD.2017212T183919.v2.0.B02.tif already downloaded\n",
      "File HLS.S30.T10SGD.2017212T183919.v2.0.B10.tif already downloaded\n",
      "File HLS.S30.T10SGD.2017212T183919.v2.0.B12.tif already downloaded\n",
      "File HLS.S30.T10SGD.2017212T183919.v2.0.VAA.tif already downloaded\n",
      "File HLS.S30.T10SGD.2017212T183919.v2.0.B07.tif already downloaded\n",
      "File HLS.S30.T10SGD.2017212T183919.v2.0.B05.tif already downloaded\n",
      "File HLS.S30.T10SGD.2017212T183919.v2.0.B06.tif already downloaded\n",
      "File HLS.S30.T10SGD.2017212T183919.v2.0.B04.tif already downloaded\n",
      "File HLS.S30.T10SGD.2017212T183919.v2.0.B01.tif already downloaded\n",
      "File HLS.S30.T10SGD.2017212T183919.v2.0.B08.tif already downloaded\n",
      "File HLS.S30.T10SGD.2017212T183919.v2.0.B8A.tif already downloaded\n",
      "File HLS.S30.T10SGD.2017212T183919.v2.0.B11.tif already downloaded\n",
      "File HLS.S30.T10SGD.2017212T183919.v2.0.SAA.tif already downloaded\n",
      "File HLS.S30.T10SGD.2017212T183919.v2.0.SZA.tif already downloaded\n",
      "File HLS.S30.T10SGD.2017212T183919.v2.0.B03.tif already downloaded\n",
      "File HLS.S30.T10SGD.2017212T183919.v2.0.VZA.tif already downloaded\n",
      "File HLS.S30.T10SGD.2017212T183919.v2.0.B09.tif already downloaded\n",
      "File HLS.S30.T10SGD.2017212T183919.v2.0.Fmask.tif already downloaded\n"
     ]
    },
    {
     "data": {
      "application/vnd.jupyter.widget-view+json": {
       "model_id": "a23be8d3a668420baf4a115d2db504cb",
       "version_major": 2,
       "version_minor": 0
      },
      "text/plain": [
       "PROCESSING TASKS | :   0%|          | 0/18 [00:00<?, ?it/s]"
      ]
     },
     "metadata": {},
     "output_type": "display_data"
    },
    {
     "data": {
      "application/vnd.jupyter.widget-view+json": {
       "model_id": "26a28017fb0a4931807fe358fe2646a2",
       "version_major": 2,
       "version_minor": 0
      },
      "text/plain": [
       "COLLECTING RESULTS | :   0%|          | 0/18 [00:00<?, ?it/s]"
      ]
     },
     "metadata": {},
     "output_type": "display_data"
    },
    {
     "name": "stdout",
     "output_type": "stream",
     "text": [
      "47\n",
      "11SKU\n",
      " Getting 1 granules, approx download size: 0.21 GB\n"
     ]
    },
    {
     "data": {
      "application/vnd.jupyter.widget-view+json": {
       "model_id": "f4bf35ed7b2e41da81f073c309cb4a02",
       "version_major": 2,
       "version_minor": 0
      },
      "text/plain": [
       "QUEUEING TASKS | :   0%|          | 0/18 [00:00<?, ?it/s]"
      ]
     },
     "metadata": {},
     "output_type": "display_data"
    },
    {
     "name": "stdout",
     "output_type": "stream",
     "text": [
      "File HLS.S30.T11SKU.2017212T183919.v2.0.B07.tif already downloaded\n",
      "File HLS.S30.T11SKU.2017212T183919.v2.0.B10.tif already downloaded\n",
      "File HLS.S30.T11SKU.2017212T183919.v2.0.VAA.tif already downloaded\n",
      "File HLS.S30.T11SKU.2017212T183919.v2.0.SZA.tif already downloaded\n",
      "File HLS.S30.T11SKU.2017212T183919.v2.0.B8A.tif already downloaded\n",
      "File HLS.S30.T11SKU.2017212T183919.v2.0.B12.tif already downloaded\n",
      "File HLS.S30.T11SKU.2017212T183919.v2.0.B03.tif already downloaded\n",
      "File HLS.S30.T11SKU.2017212T183919.v2.0.Fmask.tif already downloaded\n",
      "File HLS.S30.T11SKU.2017212T183919.v2.0.B05.tif already downloaded\n",
      "File HLS.S30.T11SKU.2017212T183919.v2.0.VZA.tif already downloaded\n",
      "File HLS.S30.T11SKU.2017212T183919.v2.0.B02.tif already downloaded\n",
      "File HLS.S30.T11SKU.2017212T183919.v2.0.SAA.tif already downloaded\n",
      "File HLS.S30.T11SKU.2017212T183919.v2.0.B04.tif already downloaded\n",
      "File HLS.S30.T11SKU.2017212T183919.v2.0.B06.tif already downloaded\n",
      "File HLS.S30.T11SKU.2017212T183919.v2.0.B08.tif already downloaded\n",
      "File HLS.S30.T11SKU.2017212T183919.v2.0.B09.tif already downloaded\n",
      "File HLS.S30.T11SKU.2017212T183919.v2.0.B01.tif already downloaded\n",
      "File HLS.S30.T11SKU.2017212T183919.v2.0.B11.tif already downloaded\n"
     ]
    },
    {
     "data": {
      "application/vnd.jupyter.widget-view+json": {
       "model_id": "be902814833b480e813b588a476570a5",
       "version_major": 2,
       "version_minor": 0
      },
      "text/plain": [
       "PROCESSING TASKS | :   0%|          | 0/18 [00:00<?, ?it/s]"
      ]
     },
     "metadata": {},
     "output_type": "display_data"
    },
    {
     "data": {
      "application/vnd.jupyter.widget-view+json": {
       "model_id": "ceb0d71746124b3ca25641933bd4a13b",
       "version_major": 2,
       "version_minor": 0
      },
      "text/plain": [
       "COLLECTING RESULTS | :   0%|          | 0/18 [00:00<?, ?it/s]"
      ]
     },
     "metadata": {},
     "output_type": "display_data"
    },
    {
     "name": "stdout",
     "output_type": "stream",
     "text": [
      "48\n",
      "11SKU\n",
      " Getting 1 granules, approx download size: 0.19 GB\n"
     ]
    },
    {
     "data": {
      "application/vnd.jupyter.widget-view+json": {
       "model_id": "fea0ea65d37542ca89b92d809990a532",
       "version_major": 2,
       "version_minor": 0
      },
      "text/plain": [
       "QUEUEING TASKS | :   0%|          | 0/15 [00:00<?, ?it/s]"
      ]
     },
     "metadata": {},
     "output_type": "display_data"
    },
    {
     "name": "stdout",
     "output_type": "stream",
     "text": [
      "File HLS.L30.T11SKU.2017215T183405.v2.0.B04.tif already downloaded\n",
      "File HLS.L30.T11SKU.2017215T183405.v2.0.VAA.tif already downloaded\n",
      "File HLS.L30.T11SKU.2017215T183405.v2.0.VZA.tif already downloaded\n",
      "File HLS.L30.T11SKU.2017215T183405.v2.0.B01.tif already downloaded\n",
      "File HLS.L30.T11SKU.2017215T183405.v2.0.SAA.tif already downloaded\n",
      "File HLS.L30.T11SKU.2017215T183405.v2.0.B06.tif already downloaded\n",
      "File HLS.L30.T11SKU.2017215T183405.v2.0.Fmask.tif already downloaded\n",
      "File HLS.L30.T11SKU.2017215T183405.v2.0.SZA.tif already downloaded\n",
      "File HLS.L30.T11SKU.2017215T183405.v2.0.B09.tif already downloaded\n",
      "File HLS.L30.T11SKU.2017215T183405.v2.0.B03.tif already downloaded\n",
      "File HLS.L30.T11SKU.2017215T183405.v2.0.B05.tif already downloaded\n",
      "File HLS.L30.T11SKU.2017215T183405.v2.0.B11.tif already downloaded\n",
      "File HLS.L30.T11SKU.2017215T183405.v2.0.B02.tif already downloaded\n",
      "File HLS.L30.T11SKU.2017215T183405.v2.0.B07.tif already downloaded\n",
      "File HLS.L30.T11SKU.2017215T183405.v2.0.B10.tif already downloaded\n"
     ]
    },
    {
     "data": {
      "application/vnd.jupyter.widget-view+json": {
       "model_id": "73912c9e5a2d4206ad2673bb3a9e5ffb",
       "version_major": 2,
       "version_minor": 0
      },
      "text/plain": [
       "PROCESSING TASKS | :   0%|          | 0/15 [00:00<?, ?it/s]"
      ]
     },
     "metadata": {},
     "output_type": "display_data"
    },
    {
     "data": {
      "application/vnd.jupyter.widget-view+json": {
       "model_id": "a6b0b8594c2842f8bcece6d9b3534f5f",
       "version_major": 2,
       "version_minor": 0
      },
      "text/plain": [
       "COLLECTING RESULTS | :   0%|          | 0/15 [00:00<?, ?it/s]"
      ]
     },
     "metadata": {},
     "output_type": "display_data"
    },
    {
     "name": "stdout",
     "output_type": "stream",
     "text": [
      "49\n",
      "10SGD\n",
      " Getting 1 granules, approx download size: 0.18 GB\n"
     ]
    },
    {
     "data": {
      "application/vnd.jupyter.widget-view+json": {
       "model_id": "4d6cc41a511f4ab49871e7656e4bb0ed",
       "version_major": 2,
       "version_minor": 0
      },
      "text/plain": [
       "QUEUEING TASKS | :   0%|          | 0/15 [00:00<?, ?it/s]"
      ]
     },
     "metadata": {},
     "output_type": "display_data"
    },
    {
     "name": "stdout",
     "output_type": "stream",
     "text": [
      "File HLS.L30.T10SGD.2017215T183429.v2.0.B07.tif already downloaded\n",
      "File HLS.L30.T10SGD.2017215T183429.v2.0.B10.tif already downloaded\n",
      "File HLS.L30.T10SGD.2017215T183429.v2.0.VZA.tif already downloaded\n",
      "File HLS.L30.T10SGD.2017215T183429.v2.0.B09.tif already downloaded\n",
      "File HLS.L30.T10SGD.2017215T183429.v2.0.B11.tif already downloaded\n",
      "File HLS.L30.T10SGD.2017215T183429.v2.0.Fmask.tif already downloaded\n",
      "File HLS.L30.T10SGD.2017215T183429.v2.0.B06.tif already downloaded\n",
      "File HLS.L30.T10SGD.2017215T183429.v2.0.B05.tif already downloaded\n",
      "File HLS.L30.T10SGD.2017215T183429.v2.0.B04.tif already downloaded\n",
      "File HLS.L30.T10SGD.2017215T183429.v2.0.VAA.tif already downloaded\n",
      "File HLS.L30.T10SGD.2017215T183429.v2.0.SZA.tif already downloaded\n",
      "File HLS.L30.T10SGD.2017215T183429.v2.0.B02.tif already downloaded\n",
      "File HLS.L30.T10SGD.2017215T183429.v2.0.B01.tif already downloaded\n",
      "File HLS.L30.T10SGD.2017215T183429.v2.0.SAA.tif already downloaded\n",
      "File HLS.L30.T10SGD.2017215T183429.v2.0.B03.tif already downloaded\n"
     ]
    },
    {
     "data": {
      "application/vnd.jupyter.widget-view+json": {
       "model_id": "a5ae15f5ca414c649fb139f033a98e21",
       "version_major": 2,
       "version_minor": 0
      },
      "text/plain": [
       "PROCESSING TASKS | :   0%|          | 0/15 [00:00<?, ?it/s]"
      ]
     },
     "metadata": {},
     "output_type": "display_data"
    },
    {
     "data": {
      "application/vnd.jupyter.widget-view+json": {
       "model_id": "d4cfb85253774e69a60d47289f66a690",
       "version_major": 2,
       "version_minor": 0
      },
      "text/plain": [
       "COLLECTING RESULTS | :   0%|          | 0/15 [00:00<?, ?it/s]"
      ]
     },
     "metadata": {},
     "output_type": "display_data"
    },
    {
     "name": "stdout",
     "output_type": "stream",
     "text": [
      "50\n",
      "10SGD\n",
      " Getting 1 granules, approx download size: 0.22 GB\n"
     ]
    },
    {
     "data": {
      "application/vnd.jupyter.widget-view+json": {
       "model_id": "c38b7c96e9f5461c99d388bec02ca6fa",
       "version_major": 2,
       "version_minor": 0
      },
      "text/plain": [
       "QUEUEING TASKS | :   0%|          | 0/18 [00:00<?, ?it/s]"
      ]
     },
     "metadata": {},
     "output_type": "display_data"
    },
    {
     "name": "stdout",
     "output_type": "stream",
     "text": [
      "File HLS.S30.T10SGD.2017217T183921.v2.0.B05.tif already downloaded\n",
      "File HLS.S30.T10SGD.2017217T183921.v2.0.VZA.tif already downloaded\n",
      "File HLS.S30.T10SGD.2017217T183921.v2.0.B04.tif already downloaded\n",
      "File HLS.S30.T10SGD.2017217T183921.v2.0.SAA.tif already downloaded\n",
      "File HLS.S30.T10SGD.2017217T183921.v2.0.B06.tif already downloaded\n",
      "File HLS.S30.T10SGD.2017217T183921.v2.0.B10.tif already downloaded\n",
      "File HLS.S30.T10SGD.2017217T183921.v2.0.SZA.tif already downloaded\n",
      "File HLS.S30.T10SGD.2017217T183921.v2.0.B03.tif already downloaded\n",
      "File HLS.S30.T10SGD.2017217T183921.v2.0.B11.tif already downloaded\n",
      "File HLS.S30.T10SGD.2017217T183921.v2.0.B02.tif already downloaded\n",
      "File HLS.S30.T10SGD.2017217T183921.v2.0.B01.tif already downloaded\n",
      "File HLS.S30.T10SGD.2017217T183921.v2.0.B08.tif already downloaded\n",
      "File HLS.S30.T10SGD.2017217T183921.v2.0.B09.tif already downloaded\n",
      "File HLS.S30.T10SGD.2017217T183921.v2.0.Fmask.tif already downloaded\n",
      "File HLS.S30.T10SGD.2017217T183921.v2.0.B12.tif already downloaded\n",
      "File HLS.S30.T10SGD.2017217T183921.v2.0.B07.tif already downloaded\n",
      "File HLS.S30.T10SGD.2017217T183921.v2.0.VAA.tif already downloaded\n",
      "File HLS.S30.T10SGD.2017217T183921.v2.0.B8A.tif already downloaded\n"
     ]
    },
    {
     "data": {
      "application/vnd.jupyter.widget-view+json": {
       "model_id": "af9df2f59a5048b58e33b61c9540decd",
       "version_major": 2,
       "version_minor": 0
      },
      "text/plain": [
       "PROCESSING TASKS | :   0%|          | 0/18 [00:00<?, ?it/s]"
      ]
     },
     "metadata": {},
     "output_type": "display_data"
    },
    {
     "data": {
      "application/vnd.jupyter.widget-view+json": {
       "model_id": "7453f64818c24d27a87753a591c8a775",
       "version_major": 2,
       "version_minor": 0
      },
      "text/plain": [
       "COLLECTING RESULTS | :   0%|          | 0/18 [00:00<?, ?it/s]"
      ]
     },
     "metadata": {},
     "output_type": "display_data"
    },
    {
     "name": "stdout",
     "output_type": "stream",
     "text": [
      "51\n",
      "11SKU\n",
      " Getting 1 granules, approx download size: 0.21 GB\n"
     ]
    },
    {
     "data": {
      "application/vnd.jupyter.widget-view+json": {
       "model_id": "9a9ca7aa48d648e9a570d6afb03b87d4",
       "version_major": 2,
       "version_minor": 0
      },
      "text/plain": [
       "QUEUEING TASKS | :   0%|          | 0/18 [00:00<?, ?it/s]"
      ]
     },
     "metadata": {},
     "output_type": "display_data"
    },
    {
     "name": "stdout",
     "output_type": "stream",
     "text": [
      "File HLS.S30.T11SKU.2017217T183921.v2.0.SZA.tif already downloaded\n",
      "File HLS.S30.T11SKU.2017217T183921.v2.0.VAA.tif already downloaded\n",
      "File HLS.S30.T11SKU.2017217T183921.v2.0.B05.tif already downloaded\n",
      "File HLS.S30.T11SKU.2017217T183921.v2.0.B10.tif already downloaded\n",
      "File HLS.S30.T11SKU.2017217T183921.v2.0.B01.tif already downloaded\n",
      "File HLS.S30.T11SKU.2017217T183921.v2.0.B06.tif already downloaded\n",
      "File HLS.S30.T11SKU.2017217T183921.v2.0.SAA.tif already downloaded\n",
      "File HLS.S30.T11SKU.2017217T183921.v2.0.B12.tif already downloaded\n",
      "File HLS.S30.T11SKU.2017217T183921.v2.0.VZA.tif already downloaded\n",
      "File HLS.S30.T11SKU.2017217T183921.v2.0.B8A.tif already downloaded\n",
      "File HLS.S30.T11SKU.2017217T183921.v2.0.B08.tif already downloaded\n",
      "File HLS.S30.T11SKU.2017217T183921.v2.0.B09.tif already downloaded\n",
      "File HLS.S30.T11SKU.2017217T183921.v2.0.B03.tif already downloaded\n",
      "File HLS.S30.T11SKU.2017217T183921.v2.0.B04.tif already downloaded\n",
      "File HLS.S30.T11SKU.2017217T183921.v2.0.B07.tif already downloaded\n",
      "File HLS.S30.T11SKU.2017217T183921.v2.0.B11.tif already downloaded\n",
      "File HLS.S30.T11SKU.2017217T183921.v2.0.B02.tif already downloaded\n",
      "File HLS.S30.T11SKU.2017217T183921.v2.0.Fmask.tif already downloaded\n"
     ]
    },
    {
     "data": {
      "application/vnd.jupyter.widget-view+json": {
       "model_id": "1e1a47725f584873a555941b4137df04",
       "version_major": 2,
       "version_minor": 0
      },
      "text/plain": [
       "PROCESSING TASKS | :   0%|          | 0/18 [00:00<?, ?it/s]"
      ]
     },
     "metadata": {},
     "output_type": "display_data"
    },
    {
     "data": {
      "application/vnd.jupyter.widget-view+json": {
       "model_id": "455ebcd2031f4251a21aa410eaad8c51",
       "version_major": 2,
       "version_minor": 0
      },
      "text/plain": [
       "COLLECTING RESULTS | :   0%|          | 0/18 [00:00<?, ?it/s]"
      ]
     },
     "metadata": {},
     "output_type": "display_data"
    },
    {
     "name": "stdout",
     "output_type": "stream",
     "text": [
      "52\n",
      "10SGD\n",
      " Getting 1 granules, approx download size: 0.21 GB\n"
     ]
    },
    {
     "data": {
      "application/vnd.jupyter.widget-view+json": {
       "model_id": "b05bb878465f4d448bf4f08a684e8543",
       "version_major": 2,
       "version_minor": 0
      },
      "text/plain": [
       "QUEUEING TASKS | :   0%|          | 0/18 [00:00<?, ?it/s]"
      ]
     },
     "metadata": {},
     "output_type": "display_data"
    },
    {
     "name": "stdout",
     "output_type": "stream",
     "text": [
      "File HLS.S30.T10SGD.2017222T185429.v2.0.VZA.tif already downloaded\n",
      "File HLS.S30.T10SGD.2017222T185429.v2.0.B04.tif already downloaded\n",
      "File HLS.S30.T10SGD.2017222T185429.v2.0.SZA.tif already downloaded\n",
      "File HLS.S30.T10SGD.2017222T185429.v2.0.B10.tif already downloaded\n",
      "File HLS.S30.T10SGD.2017222T185429.v2.0.B08.tif already downloaded\n",
      "File HLS.S30.T10SGD.2017222T185429.v2.0.B06.tif already downloaded\n",
      "File HLS.S30.T10SGD.2017222T185429.v2.0.B8A.tif already downloaded\n",
      "File HLS.S30.T10SGD.2017222T185429.v2.0.B07.tif already downloaded\n",
      "File HLS.S30.T10SGD.2017222T185429.v2.0.B12.tif already downloaded\n",
      "File HLS.S30.T10SGD.2017222T185429.v2.0.B03.tif already downloaded\n",
      "File HLS.S30.T10SGD.2017222T185429.v2.0.VAA.tif already downloaded\n",
      "File HLS.S30.T10SGD.2017222T185429.v2.0.B05.tif already downloaded\n",
      "File HLS.S30.T10SGD.2017222T185429.v2.0.B09.tif already downloaded\n",
      "File HLS.S30.T10SGD.2017222T185429.v2.0.B11.tif already downloaded\n",
      "File HLS.S30.T10SGD.2017222T185429.v2.0.B02.tif already downloaded\n",
      "File HLS.S30.T10SGD.2017222T185429.v2.0.Fmask.tif already downloaded\n",
      "File HLS.S30.T10SGD.2017222T185429.v2.0.SAA.tif already downloaded\n",
      "File HLS.S30.T10SGD.2017222T185429.v2.0.B01.tif already downloaded\n"
     ]
    },
    {
     "data": {
      "application/vnd.jupyter.widget-view+json": {
       "model_id": "5fccea8080b448f38a8caad6cbb5d523",
       "version_major": 2,
       "version_minor": 0
      },
      "text/plain": [
       "PROCESSING TASKS | :   0%|          | 0/18 [00:00<?, ?it/s]"
      ]
     },
     "metadata": {},
     "output_type": "display_data"
    },
    {
     "data": {
      "application/vnd.jupyter.widget-view+json": {
       "model_id": "ba3db0eacc50446fb03eb4a2a5880b6e",
       "version_major": 2,
       "version_minor": 0
      },
      "text/plain": [
       "COLLECTING RESULTS | :   0%|          | 0/18 [00:00<?, ?it/s]"
      ]
     },
     "metadata": {},
     "output_type": "display_data"
    },
    {
     "name": "stdout",
     "output_type": "stream",
     "text": [
      "53\n",
      "11SKU\n",
      " Getting 1 granules, approx download size: 0.21 GB\n"
     ]
    },
    {
     "data": {
      "application/vnd.jupyter.widget-view+json": {
       "model_id": "ee78b2d073654dc9976255d09f1ec77f",
       "version_major": 2,
       "version_minor": 0
      },
      "text/plain": [
       "QUEUEING TASKS | :   0%|          | 0/18 [00:00<?, ?it/s]"
      ]
     },
     "metadata": {},
     "output_type": "display_data"
    },
    {
     "name": "stdout",
     "output_type": "stream",
     "text": [
      "File HLS.S30.T11SKU.2017222T185429.v2.0.B02.tif already downloaded\n",
      "File HLS.S30.T11SKU.2017222T185429.v2.0.B04.tif already downloaded\n",
      "File HLS.S30.T11SKU.2017222T185429.v2.0.B8A.tif already downloaded\n",
      "File HLS.S30.T11SKU.2017222T185429.v2.0.B03.tif already downloaded\n",
      "File HLS.S30.T11SKU.2017222T185429.v2.0.B08.tif already downloaded\n",
      "File HLS.S30.T11SKU.2017222T185429.v2.0.B07.tif already downloaded\n",
      "File HLS.S30.T11SKU.2017222T185429.v2.0.B12.tif already downloaded\n",
      "File HLS.S30.T11SKU.2017222T185429.v2.0.B05.tif already downloaded\n",
      "File HLS.S30.T11SKU.2017222T185429.v2.0.SAA.tif already downloaded\n",
      "File HLS.S30.T11SKU.2017222T185429.v2.0.B09.tif already downloaded\n",
      "File HLS.S30.T11SKU.2017222T185429.v2.0.B11.tif already downloaded\n",
      "File HLS.S30.T11SKU.2017222T185429.v2.0.B06.tif already downloaded\n",
      "File HLS.S30.T11SKU.2017222T185429.v2.0.B10.tif already downloaded\n",
      "File HLS.S30.T11SKU.2017222T185429.v2.0.B01.tif already downloaded\n",
      "File HLS.S30.T11SKU.2017222T185429.v2.0.VZA.tif already downloaded\n",
      "File HLS.S30.T11SKU.2017222T185429.v2.0.VAA.tif already downloaded\n",
      "File HLS.S30.T11SKU.2017222T185429.v2.0.Fmask.tif already downloaded\n",
      "File HLS.S30.T11SKU.2017222T185429.v2.0.SZA.tif already downloaded\n"
     ]
    },
    {
     "data": {
      "application/vnd.jupyter.widget-view+json": {
       "model_id": "0930889111b045159d0bba25210d4f06",
       "version_major": 2,
       "version_minor": 0
      },
      "text/plain": [
       "PROCESSING TASKS | :   0%|          | 0/18 [00:00<?, ?it/s]"
      ]
     },
     "metadata": {},
     "output_type": "display_data"
    },
    {
     "data": {
      "application/vnd.jupyter.widget-view+json": {
       "model_id": "5a62e04121d9462c9afecdc2640f6cc7",
       "version_major": 2,
       "version_minor": 0
      },
      "text/plain": [
       "COLLECTING RESULTS | :   0%|          | 0/18 [00:00<?, ?it/s]"
      ]
     },
     "metadata": {},
     "output_type": "display_data"
    },
    {
     "name": "stdout",
     "output_type": "stream",
     "text": [
      "54\n",
      "11SKU\n",
      " Getting 1 granules, approx download size: 0.18 GB\n"
     ]
    },
    {
     "data": {
      "application/vnd.jupyter.widget-view+json": {
       "model_id": "9f9d94117b5946fc81a7a558accad08e",
       "version_major": 2,
       "version_minor": 0
      },
      "text/plain": [
       "QUEUEING TASKS | :   0%|          | 0/15 [00:00<?, ?it/s]"
      ]
     },
     "metadata": {},
     "output_type": "display_data"
    },
    {
     "name": "stdout",
     "output_type": "stream",
     "text": [
      "File HLS.L30.T11SKU.2017231T183411.v2.0.B11.tif already downloaded\n",
      "File HLS.L30.T11SKU.2017231T183411.v2.0.VAA.tif already downloaded\n",
      "File HLS.L30.T11SKU.2017231T183411.v2.0.B09.tif already downloaded\n",
      "File HLS.L30.T11SKU.2017231T183411.v2.0.B01.tif already downloaded\n",
      "File HLS.L30.T11SKU.2017231T183411.v2.0.B06.tif already downloaded\n",
      "File HLS.L30.T11SKU.2017231T183411.v2.0.VZA.tif already downloaded\n",
      "File HLS.L30.T11SKU.2017231T183411.v2.0.SAA.tif already downloaded\n",
      "File HLS.L30.T11SKU.2017231T183411.v2.0.Fmask.tif already downloaded\n",
      "File HLS.L30.T11SKU.2017231T183411.v2.0.B03.tif already downloaded\n",
      "File HLS.L30.T11SKU.2017231T183411.v2.0.SZA.tif already downloaded\n",
      "File HLS.L30.T11SKU.2017231T183411.v2.0.B07.tif already downloaded\n",
      "File HLS.L30.T11SKU.2017231T183411.v2.0.B10.tif already downloaded\n",
      "File HLS.L30.T11SKU.2017231T183411.v2.0.B02.tif already downloaded\n",
      "File HLS.L30.T11SKU.2017231T183411.v2.0.B05.tif already downloaded\n",
      "File HLS.L30.T11SKU.2017231T183411.v2.0.B04.tif already downloaded\n"
     ]
    },
    {
     "data": {
      "application/vnd.jupyter.widget-view+json": {
       "model_id": "35416e6a919b45cc8fe5992cc080874f",
       "version_major": 2,
       "version_minor": 0
      },
      "text/plain": [
       "PROCESSING TASKS | :   0%|          | 0/15 [00:00<?, ?it/s]"
      ]
     },
     "metadata": {},
     "output_type": "display_data"
    },
    {
     "data": {
      "application/vnd.jupyter.widget-view+json": {
       "model_id": "cc2e543b48b34cdb97d4938b7de91c13",
       "version_major": 2,
       "version_minor": 0
      },
      "text/plain": [
       "COLLECTING RESULTS | :   0%|          | 0/15 [00:00<?, ?it/s]"
      ]
     },
     "metadata": {},
     "output_type": "display_data"
    },
    {
     "name": "stdout",
     "output_type": "stream",
     "text": [
      "55\n",
      "10SGD\n",
      " Getting 1 granules, approx download size: 0.18 GB\n"
     ]
    },
    {
     "data": {
      "application/vnd.jupyter.widget-view+json": {
       "model_id": "ad8fec7a8eb84fedabbaaf9970eb8c42",
       "version_major": 2,
       "version_minor": 0
      },
      "text/plain": [
       "QUEUEING TASKS | :   0%|          | 0/15 [00:00<?, ?it/s]"
      ]
     },
     "metadata": {},
     "output_type": "display_data"
    },
    {
     "name": "stdout",
     "output_type": "stream",
     "text": [
      "File HLS.L30.T10SGD.2017231T183434.v2.0.B11.tif already downloaded\n",
      "File HLS.L30.T10SGD.2017231T183434.v2.0.B03.tif already downloaded\n",
      "File HLS.L30.T10SGD.2017231T183434.v2.0.VAA.tif already downloaded\n",
      "File HLS.L30.T10SGD.2017231T183434.v2.0.B06.tif already downloaded\n",
      "File HLS.L30.T10SGD.2017231T183434.v2.0.VZA.tif already downloaded\n",
      "File HLS.L30.T10SGD.2017231T183434.v2.0.SZA.tif already downloaded\n",
      "File HLS.L30.T10SGD.2017231T183434.v2.0.B07.tif already downloaded\n",
      "File HLS.L30.T10SGD.2017231T183434.v2.0.SAA.tif already downloaded\n",
      "File HLS.L30.T10SGD.2017231T183434.v2.0.B09.tif already downloaded\n",
      "File HLS.L30.T10SGD.2017231T183434.v2.0.B10.tif already downloaded\n",
      "File HLS.L30.T10SGD.2017231T183434.v2.0.B01.tif already downloaded\n",
      "File HLS.L30.T10SGD.2017231T183434.v2.0.B02.tif already downloaded\n",
      "File HLS.L30.T10SGD.2017231T183434.v2.0.Fmask.tif already downloaded\n",
      "File HLS.L30.T10SGD.2017231T183434.v2.0.B05.tif already downloaded\n",
      "File HLS.L30.T10SGD.2017231T183434.v2.0.B04.tif already downloaded\n"
     ]
    },
    {
     "data": {
      "application/vnd.jupyter.widget-view+json": {
       "model_id": "e0d068f0bc5748308719a61f3e2a018d",
       "version_major": 2,
       "version_minor": 0
      },
      "text/plain": [
       "PROCESSING TASKS | :   0%|          | 0/15 [00:00<?, ?it/s]"
      ]
     },
     "metadata": {},
     "output_type": "display_data"
    },
    {
     "data": {
      "application/vnd.jupyter.widget-view+json": {
       "model_id": "1481635334b2439bbe278ba986b3e18c",
       "version_major": 2,
       "version_minor": 0
      },
      "text/plain": [
       "COLLECTING RESULTS | :   0%|          | 0/15 [00:00<?, ?it/s]"
      ]
     },
     "metadata": {},
     "output_type": "display_data"
    },
    {
     "name": "stdout",
     "output_type": "stream",
     "text": [
      "56\n",
      "11SKU\n",
      " Getting 1 granules, approx download size: 0.22 GB\n"
     ]
    },
    {
     "data": {
      "application/vnd.jupyter.widget-view+json": {
       "model_id": "aa500064b7064880afdf4bb763ce51be",
       "version_major": 2,
       "version_minor": 0
      },
      "text/plain": [
       "QUEUEING TASKS | :   0%|          | 0/18 [00:00<?, ?it/s]"
      ]
     },
     "metadata": {},
     "output_type": "display_data"
    },
    {
     "name": "stdout",
     "output_type": "stream",
     "text": [
      "File HLS.S30.T11SKU.2017232T183919.v2.0.VZA.tif already downloaded\n",
      "File HLS.S30.T11SKU.2017232T183919.v2.0.Fmask.tif already downloaded\n",
      "File HLS.S30.T11SKU.2017232T183919.v2.0.B12.tif already downloaded\n",
      "File HLS.S30.T11SKU.2017232T183919.v2.0.B02.tif already downloaded\n",
      "File HLS.S30.T11SKU.2017232T183919.v2.0.SAA.tif already downloaded\n",
      "File HLS.S30.T11SKU.2017232T183919.v2.0.B04.tif already downloaded\n",
      "File HLS.S30.T11SKU.2017232T183919.v2.0.B06.tif already downloaded\n",
      "File HLS.S30.T11SKU.2017232T183919.v2.0.B08.tif already downloaded\n",
      "File HLS.S30.T11SKU.2017232T183919.v2.0.B09.tif already downloaded\n",
      "File HLS.S30.T11SKU.2017232T183919.v2.0.B8A.tif already downloaded\n",
      "File HLS.S30.T11SKU.2017232T183919.v2.0.VAA.tif already downloaded\n",
      "File HLS.S30.T11SKU.2017232T183919.v2.0.B11.tif already downloaded\n",
      "File HLS.S30.T11SKU.2017232T183919.v2.0.B10.tif already downloaded\n",
      "File HLS.S30.T11SKU.2017232T183919.v2.0.SZA.tif already downloaded\n",
      "File HLS.S30.T11SKU.2017232T183919.v2.0.B03.tif already downloaded\n",
      "File HLS.S30.T11SKU.2017232T183919.v2.0.B05.tif already downloaded\n",
      "File HLS.S30.T11SKU.2017232T183919.v2.0.B07.tif already downloaded\n",
      "File HLS.S30.T11SKU.2017232T183919.v2.0.B01.tif already downloaded\n"
     ]
    },
    {
     "data": {
      "application/vnd.jupyter.widget-view+json": {
       "model_id": "ab7bb1b737ec4fd39d0e50c7b7b97cae",
       "version_major": 2,
       "version_minor": 0
      },
      "text/plain": [
       "PROCESSING TASKS | :   0%|          | 0/18 [00:00<?, ?it/s]"
      ]
     },
     "metadata": {},
     "output_type": "display_data"
    },
    {
     "data": {
      "application/vnd.jupyter.widget-view+json": {
       "model_id": "fcac7e0a108144f08337babc1b65d235",
       "version_major": 2,
       "version_minor": 0
      },
      "text/plain": [
       "COLLECTING RESULTS | :   0%|          | 0/18 [00:00<?, ?it/s]"
      ]
     },
     "metadata": {},
     "output_type": "display_data"
    },
    {
     "name": "stdout",
     "output_type": "stream",
     "text": [
      "57\n",
      "10SGD\n",
      " Getting 1 granules, approx download size: 0.22 GB\n"
     ]
    },
    {
     "data": {
      "application/vnd.jupyter.widget-view+json": {
       "model_id": "caef4d112c0f488eb5ce6ea29c7bb5e6",
       "version_major": 2,
       "version_minor": 0
      },
      "text/plain": [
       "QUEUEING TASKS | :   0%|          | 0/18 [00:00<?, ?it/s]"
      ]
     },
     "metadata": {},
     "output_type": "display_data"
    },
    {
     "name": "stdout",
     "output_type": "stream",
     "text": [
      "File HLS.S30.T10SGD.2017232T183919.v2.0.B10.tif already downloaded\n",
      "File HLS.S30.T10SGD.2017232T183919.v2.0.B06.tif already downloaded\n",
      "File HLS.S30.T10SGD.2017232T183919.v2.0.VZA.tif already downloaded\n",
      "File HLS.S30.T10SGD.2017232T183919.v2.0.Fmask.tif already downloaded\n",
      "File HLS.S30.T10SGD.2017232T183919.v2.0.B01.tif already downloaded\n",
      "File HLS.S30.T10SGD.2017232T183919.v2.0.B04.tif already downloaded\n",
      "File HLS.S30.T10SGD.2017232T183919.v2.0.B08.tif already downloaded\n",
      "File HLS.S30.T10SGD.2017232T183919.v2.0.B12.tif already downloaded\n",
      "File HLS.S30.T10SGD.2017232T183919.v2.0.VAA.tif already downloaded\n",
      "File HLS.S30.T10SGD.2017232T183919.v2.0.B03.tif already downloaded\n",
      "File HLS.S30.T10SGD.2017232T183919.v2.0.SZA.tif already downloaded\n",
      "File HLS.S30.T10SGD.2017232T183919.v2.0.SAA.tif already downloaded\n",
      "File HLS.S30.T10SGD.2017232T183919.v2.0.B09.tif already downloaded\n",
      "File HLS.S30.T10SGD.2017232T183919.v2.0.B05.tif already downloaded\n",
      "File HLS.S30.T10SGD.2017232T183919.v2.0.B8A.tif already downloaded\n",
      "File HLS.S30.T10SGD.2017232T183919.v2.0.B02.tif already downloaded\n",
      "File HLS.S30.T10SGD.2017232T183919.v2.0.B11.tif already downloaded\n",
      "File HLS.S30.T10SGD.2017232T183919.v2.0.B07.tif already downloaded\n"
     ]
    },
    {
     "data": {
      "application/vnd.jupyter.widget-view+json": {
       "model_id": "2114b556ccc74410b47f286e2b96d60b",
       "version_major": 2,
       "version_minor": 0
      },
      "text/plain": [
       "PROCESSING TASKS | :   0%|          | 0/18 [00:00<?, ?it/s]"
      ]
     },
     "metadata": {},
     "output_type": "display_data"
    },
    {
     "data": {
      "application/vnd.jupyter.widget-view+json": {
       "model_id": "a2ac274ed0244634be9b20b3578552cc",
       "version_major": 2,
       "version_minor": 0
      },
      "text/plain": [
       "COLLECTING RESULTS | :   0%|          | 0/18 [00:00<?, ?it/s]"
      ]
     },
     "metadata": {},
     "output_type": "display_data"
    },
    {
     "name": "stdout",
     "output_type": "stream",
     "text": [
      "58\n",
      "11SKU\n",
      " Getting 1 granules, approx download size: 0.22 GB\n"
     ]
    },
    {
     "data": {
      "application/vnd.jupyter.widget-view+json": {
       "model_id": "828dcb6d35d249728cfc02d7875905c4",
       "version_major": 2,
       "version_minor": 0
      },
      "text/plain": [
       "QUEUEING TASKS | :   0%|          | 0/18 [00:00<?, ?it/s]"
      ]
     },
     "metadata": {},
     "output_type": "display_data"
    },
    {
     "name": "stdout",
     "output_type": "stream",
     "text": [
      "File HLS.S30.T11SKU.2017242T185419.v2.0.B04.tif already downloaded\n",
      "File HLS.S30.T11SKU.2017242T185419.v2.0.B03.tif already downloaded\n",
      "File HLS.S30.T11SKU.2017242T185419.v2.0.SZA.tif already downloaded\n",
      "File HLS.S30.T11SKU.2017242T185419.v2.0.Fmask.tif already downloaded\n",
      "File HLS.S30.T11SKU.2017242T185419.v2.0.B11.tif already downloaded\n",
      "File HLS.S30.T11SKU.2017242T185419.v2.0.B10.tif already downloaded\n",
      "File HLS.S30.T11SKU.2017242T185419.v2.0.B12.tif already downloaded\n",
      "File HLS.S30.T11SKU.2017242T185419.v2.0.B02.tif already downloaded\n",
      "File HLS.S30.T11SKU.2017242T185419.v2.0.B05.tif already downloaded\n",
      "File HLS.S30.T11SKU.2017242T185419.v2.0.VZA.tif already downloaded\n",
      "File HLS.S30.T11SKU.2017242T185419.v2.0.B07.tif already downloaded\n",
      "File HLS.S30.T11SKU.2017242T185419.v2.0.B08.tif already downloaded\n",
      "File HLS.S30.T11SKU.2017242T185419.v2.0.B06.tif already downloaded\n",
      "File HLS.S30.T11SKU.2017242T185419.v2.0.B8A.tif already downloaded\n",
      "File HLS.S30.T11SKU.2017242T185419.v2.0.SAA.tif already downloaded\n",
      "File HLS.S30.T11SKU.2017242T185419.v2.0.B09.tif already downloaded\n",
      "File HLS.S30.T11SKU.2017242T185419.v2.0.VAA.tif already downloaded\n",
      "File HLS.S30.T11SKU.2017242T185419.v2.0.B01.tif already downloaded\n"
     ]
    },
    {
     "data": {
      "application/vnd.jupyter.widget-view+json": {
       "model_id": "fa1ea32d084c407ca3cc1115665335e4",
       "version_major": 2,
       "version_minor": 0
      },
      "text/plain": [
       "PROCESSING TASKS | :   0%|          | 0/18 [00:00<?, ?it/s]"
      ]
     },
     "metadata": {},
     "output_type": "display_data"
    },
    {
     "data": {
      "application/vnd.jupyter.widget-view+json": {
       "model_id": "eecfc9072ae34890b306ff08ed3b49c6",
       "version_major": 2,
       "version_minor": 0
      },
      "text/plain": [
       "COLLECTING RESULTS | :   0%|          | 0/18 [00:00<?, ?it/s]"
      ]
     },
     "metadata": {},
     "output_type": "display_data"
    },
    {
     "name": "stdout",
     "output_type": "stream",
     "text": [
      "59\n",
      "11SKU\n",
      " Getting 1 granules, approx download size: 0.2 GB\n"
     ]
    },
    {
     "data": {
      "application/vnd.jupyter.widget-view+json": {
       "model_id": "253d0b9786e24890830214497753b626",
       "version_major": 2,
       "version_minor": 0
      },
      "text/plain": [
       "QUEUEING TASKS | :   0%|          | 0/15 [00:00<?, ?it/s]"
      ]
     },
     "metadata": {},
     "output_type": "display_data"
    },
    {
     "name": "stdout",
     "output_type": "stream",
     "text": [
      "File HLS.L30.T11SKU.2017247T183413.v2.0.B07.tif already downloaded\n",
      "File HLS.L30.T11SKU.2017247T183413.v2.0.B01.tif already downloaded\n",
      "File HLS.L30.T11SKU.2017247T183413.v2.0.B10.tif already downloaded\n",
      "File HLS.L30.T11SKU.2017247T183413.v2.0.B05.tif already downloaded\n",
      "File HLS.L30.T11SKU.2017247T183413.v2.0.VAA.tif already downloaded\n",
      "File HLS.L30.T11SKU.2017247T183413.v2.0.B04.tif already downloaded\n",
      "File HLS.L30.T11SKU.2017247T183413.v2.0.B11.tif already downloaded\n",
      "File HLS.L30.T11SKU.2017247T183413.v2.0.B03.tif already downloaded\n",
      "File HLS.L30.T11SKU.2017247T183413.v2.0.SAA.tif already downloaded\n",
      "File HLS.L30.T11SKU.2017247T183413.v2.0.SZA.tif already downloaded\n",
      "File HLS.L30.T11SKU.2017247T183413.v2.0.B09.tif already downloaded\n",
      "File HLS.L30.T11SKU.2017247T183413.v2.0.VZA.tif already downloaded\n",
      "File HLS.L30.T11SKU.2017247T183413.v2.0.Fmask.tif already downloaded\n",
      "File HLS.L30.T11SKU.2017247T183413.v2.0.B02.tif already downloaded\n",
      "File HLS.L30.T11SKU.2017247T183413.v2.0.B06.tif already downloaded\n"
     ]
    },
    {
     "data": {
      "application/vnd.jupyter.widget-view+json": {
       "model_id": "11b076f2c8944493a7242da358e6a435",
       "version_major": 2,
       "version_minor": 0
      },
      "text/plain": [
       "PROCESSING TASKS | :   0%|          | 0/15 [00:00<?, ?it/s]"
      ]
     },
     "metadata": {},
     "output_type": "display_data"
    },
    {
     "data": {
      "application/vnd.jupyter.widget-view+json": {
       "model_id": "f426cfcbc39f4b4d9d4f53b796b4faf4",
       "version_major": 2,
       "version_minor": 0
      },
      "text/plain": [
       "COLLECTING RESULTS | :   0%|          | 0/15 [00:00<?, ?it/s]"
      ]
     },
     "metadata": {},
     "output_type": "display_data"
    },
    {
     "name": "stdout",
     "output_type": "stream",
     "text": [
      "60\n",
      "10SGD\n",
      " Getting 1 granules, approx download size: 0.19 GB\n"
     ]
    },
    {
     "data": {
      "application/vnd.jupyter.widget-view+json": {
       "model_id": "dc46425dedc2475795101546a7380cd5",
       "version_major": 2,
       "version_minor": 0
      },
      "text/plain": [
       "QUEUEING TASKS | :   0%|          | 0/15 [00:00<?, ?it/s]"
      ]
     },
     "metadata": {},
     "output_type": "display_data"
    },
    {
     "name": "stdout",
     "output_type": "stream",
     "text": [
      "File HLS.L30.T10SGD.2017247T183437.v2.0.B01.tif already downloaded\n",
      "File HLS.L30.T10SGD.2017247T183437.v2.0.Fmask.tif already downloaded\n",
      "File HLS.L30.T10SGD.2017247T183437.v2.0.B07.tif already downloaded\n",
      "File HLS.L30.T10SGD.2017247T183437.v2.0.B06.tif already downloaded\n",
      "File HLS.L30.T10SGD.2017247T183437.v2.0.SAA.tif already downloaded\n",
      "File HLS.L30.T10SGD.2017247T183437.v2.0.VAA.tif already downloaded\n",
      "File HLS.L30.T10SGD.2017247T183437.v2.0.B09.tif already downloaded\n",
      "File HLS.L30.T10SGD.2017247T183437.v2.0.SZA.tif already downloaded\n",
      "File HLS.L30.T10SGD.2017247T183437.v2.0.B11.tif already downloaded\n",
      "File HLS.L30.T10SGD.2017247T183437.v2.0.B02.tif already downloaded\n",
      "File HLS.L30.T10SGD.2017247T183437.v2.0.B05.tif already downloaded\n",
      "File HLS.L30.T10SGD.2017247T183437.v2.0.B03.tif already downloaded\n",
      "File HLS.L30.T10SGD.2017247T183437.v2.0.B10.tif already downloaded\n",
      "File HLS.L30.T10SGD.2017247T183437.v2.0.VZA.tif already downloaded\n",
      "File HLS.L30.T10SGD.2017247T183437.v2.0.B04.tif already downloaded\n"
     ]
    },
    {
     "data": {
      "application/vnd.jupyter.widget-view+json": {
       "model_id": "687aab5a8579490e949f30a3582b13f4",
       "version_major": 2,
       "version_minor": 0
      },
      "text/plain": [
       "PROCESSING TASKS | :   0%|          | 0/15 [00:00<?, ?it/s]"
      ]
     },
     "metadata": {},
     "output_type": "display_data"
    },
    {
     "data": {
      "application/vnd.jupyter.widget-view+json": {
       "model_id": "774c49560f214249b7110bb02f656964",
       "version_major": 2,
       "version_minor": 0
      },
      "text/plain": [
       "COLLECTING RESULTS | :   0%|          | 0/15 [00:00<?, ?it/s]"
      ]
     },
     "metadata": {},
     "output_type": "display_data"
    },
    {
     "name": "stdout",
     "output_type": "stream",
     "text": [
      "61\n",
      "11SKU\n",
      " Getting 1 granules, approx download size: 0.23 GB\n"
     ]
    },
    {
     "data": {
      "application/vnd.jupyter.widget-view+json": {
       "model_id": "d04ec66c82be44fa9204a4e828c80d95",
       "version_major": 2,
       "version_minor": 0
      },
      "text/plain": [
       "QUEUEING TASKS | :   0%|          | 0/18 [00:00<?, ?it/s]"
      ]
     },
     "metadata": {},
     "output_type": "display_data"
    },
    {
     "name": "stdout",
     "output_type": "stream",
     "text": [
      "File HLS.S30.T11SKU.2017247T185431.v2.0.B05.tif already downloaded\n",
      "File HLS.S30.T11SKU.2017247T185431.v2.0.VZA.tif already downloaded\n",
      "File HLS.S30.T11SKU.2017247T185431.v2.0.B08.tif already downloaded\n",
      "File HLS.S30.T11SKU.2017247T185431.v2.0.B09.tif already downloaded\n",
      "File HLS.S30.T11SKU.2017247T185431.v2.0.B01.tif already downloaded\n",
      "File HLS.S30.T11SKU.2017247T185431.v2.0.B8A.tif already downloaded\n",
      "File HLS.S30.T11SKU.2017247T185431.v2.0.Fmask.tif already downloaded\n",
      "File HLS.S30.T11SKU.2017247T185431.v2.0.SZA.tif already downloaded\n",
      "File HLS.S30.T11SKU.2017247T185431.v2.0.B07.tif already downloaded\n",
      "File HLS.S30.T11SKU.2017247T185431.v2.0.B02.tif already downloaded\n",
      "File HLS.S30.T11SKU.2017247T185431.v2.0.SAA.tif already downloaded\n",
      "File HLS.S30.T11SKU.2017247T185431.v2.0.B10.tif already downloaded\n",
      "File HLS.S30.T11SKU.2017247T185431.v2.0.B12.tif already downloaded\n",
      "File HLS.S30.T11SKU.2017247T185431.v2.0.VAA.tif already downloaded\n",
      "File HLS.S30.T11SKU.2017247T185431.v2.0.B03.tif already downloaded\n",
      "File HLS.S30.T11SKU.2017247T185431.v2.0.B04.tif already downloaded\n",
      "File HLS.S30.T11SKU.2017247T185431.v2.0.B11.tif already downloaded\n",
      "File HLS.S30.T11SKU.2017247T185431.v2.0.B06.tif already downloaded\n"
     ]
    },
    {
     "data": {
      "application/vnd.jupyter.widget-view+json": {
       "model_id": "4d770318a42b476a9af21d60d0dcb22e",
       "version_major": 2,
       "version_minor": 0
      },
      "text/plain": [
       "PROCESSING TASKS | :   0%|          | 0/18 [00:00<?, ?it/s]"
      ]
     },
     "metadata": {},
     "output_type": "display_data"
    },
    {
     "data": {
      "application/vnd.jupyter.widget-view+json": {
       "model_id": "94d6c7f8965a40d2be9b0583ed52e97a",
       "version_major": 2,
       "version_minor": 0
      },
      "text/plain": [
       "COLLECTING RESULTS | :   0%|          | 0/18 [00:00<?, ?it/s]"
      ]
     },
     "metadata": {},
     "output_type": "display_data"
    },
    {
     "name": "stdout",
     "output_type": "stream",
     "text": [
      "62\n",
      "10SGD\n",
      " Getting 1 granules, approx download size: 0.23 GB\n"
     ]
    },
    {
     "data": {
      "application/vnd.jupyter.widget-view+json": {
       "model_id": "0e300327d53045cdb98832770e13cb10",
       "version_major": 2,
       "version_minor": 0
      },
      "text/plain": [
       "QUEUEING TASKS | :   0%|          | 0/18 [00:00<?, ?it/s]"
      ]
     },
     "metadata": {},
     "output_type": "display_data"
    },
    {
     "name": "stdout",
     "output_type": "stream",
     "text": [
      "File HLS.S30.T10SGD.2017247T185431.v2.0.SZA.tif already downloaded\n",
      "File HLS.S30.T10SGD.2017247T185431.v2.0.B04.tif already downloaded\n",
      "File HLS.S30.T10SGD.2017247T185431.v2.0.Fmask.tif already downloaded\n",
      "File HLS.S30.T10SGD.2017247T185431.v2.0.B10.tif already downloaded\n",
      "File HLS.S30.T10SGD.2017247T185431.v2.0.B8A.tif already downloaded\n",
      "File HLS.S30.T10SGD.2017247T185431.v2.0.SAA.tif already downloaded\n",
      "File HLS.S30.T10SGD.2017247T185431.v2.0.VZA.tif already downloaded\n",
      "File HLS.S30.T10SGD.2017247T185431.v2.0.B02.tif already downloaded\n",
      "File HLS.S30.T10SGD.2017247T185431.v2.0.B06.tif already downloaded\n",
      "File HLS.S30.T10SGD.2017247T185431.v2.0.B08.tif already downloaded\n",
      "File HLS.S30.T10SGD.2017247T185431.v2.0.B09.tif already downloaded\n",
      "File HLS.S30.T10SGD.2017247T185431.v2.0.B07.tif already downloaded\n",
      "File HLS.S30.T10SGD.2017247T185431.v2.0.B12.tif already downloaded\n",
      "File HLS.S30.T10SGD.2017247T185431.v2.0.B11.tif already downloaded\n",
      "File HLS.S30.T10SGD.2017247T185431.v2.0.B01.tif already downloaded\n",
      "File HLS.S30.T10SGD.2017247T185431.v2.0.VAA.tif already downloaded\n",
      "File HLS.S30.T10SGD.2017247T185431.v2.0.B05.tif already downloaded\n",
      "File HLS.S30.T10SGD.2017247T185431.v2.0.B03.tif already downloaded\n"
     ]
    },
    {
     "data": {
      "application/vnd.jupyter.widget-view+json": {
       "model_id": "b0db1aff850643c789d96225157530a9",
       "version_major": 2,
       "version_minor": 0
      },
      "text/plain": [
       "PROCESSING TASKS | :   0%|          | 0/18 [00:00<?, ?it/s]"
      ]
     },
     "metadata": {},
     "output_type": "display_data"
    },
    {
     "data": {
      "application/vnd.jupyter.widget-view+json": {
       "model_id": "a3c92eff0ad445b3be08b019e36bd57e",
       "version_major": 2,
       "version_minor": 0
      },
      "text/plain": [
       "COLLECTING RESULTS | :   0%|          | 0/18 [00:00<?, ?it/s]"
      ]
     },
     "metadata": {},
     "output_type": "display_data"
    },
    {
     "name": "stdout",
     "output_type": "stream",
     "text": [
      "63\n",
      "10SGD\n",
      " Getting 1 granules, approx download size: 0.21 GB\n"
     ]
    },
    {
     "data": {
      "application/vnd.jupyter.widget-view+json": {
       "model_id": "5d75b42e2fe74dcc8f1eb7983b760422",
       "version_major": 2,
       "version_minor": 0
      },
      "text/plain": [
       "QUEUEING TASKS | :   0%|          | 0/18 [00:00<?, ?it/s]"
      ]
     },
     "metadata": {},
     "output_type": "display_data"
    },
    {
     "name": "stdout",
     "output_type": "stream",
     "text": [
      "File HLS.S30.T10SGD.2017252T184049.v2.0.B04.tif already downloaded\n",
      "File HLS.S30.T10SGD.2017252T184049.v2.0.SZA.tif already downloaded\n",
      "File HLS.S30.T10SGD.2017252T184049.v2.0.B12.tif already downloaded\n",
      "File HLS.S30.T10SGD.2017252T184049.v2.0.Fmask.tif already downloaded\n",
      "File HLS.S30.T10SGD.2017252T184049.v2.0.B08.tif already downloaded\n",
      "File HLS.S30.T10SGD.2017252T184049.v2.0.B8A.tif already downloaded\n",
      "File HLS.S30.T10SGD.2017252T184049.v2.0.SAA.tif already downloaded\n",
      "File HLS.S30.T10SGD.2017252T184049.v2.0.B09.tif already downloaded\n",
      "File HLS.S30.T10SGD.2017252T184049.v2.0.B11.tif already downloaded\n",
      "File HLS.S30.T10SGD.2017252T184049.v2.0.B01.tif already downloaded\n",
      "File HLS.S30.T10SGD.2017252T184049.v2.0.B07.tif already downloaded\n",
      "File HLS.S30.T10SGD.2017252T184049.v2.0.B02.tif already downloaded\n",
      "File HLS.S30.T10SGD.2017252T184049.v2.0.VAA.tif already downloaded\n",
      "File HLS.S30.T10SGD.2017252T184049.v2.0.B03.tif already downloaded\n",
      "File HLS.S30.T10SGD.2017252T184049.v2.0.VZA.tif already downloaded\n",
      "File HLS.S30.T10SGD.2017252T184049.v2.0.B06.tif already downloaded\n",
      "File HLS.S30.T10SGD.2017252T184049.v2.0.B05.tif already downloaded\n",
      "File HLS.S30.T10SGD.2017252T184049.v2.0.B10.tif already downloaded\n"
     ]
    },
    {
     "data": {
      "application/vnd.jupyter.widget-view+json": {
       "model_id": "84788f94eee14fb68493289fac134b97",
       "version_major": 2,
       "version_minor": 0
      },
      "text/plain": [
       "PROCESSING TASKS | :   0%|          | 0/18 [00:00<?, ?it/s]"
      ]
     },
     "metadata": {},
     "output_type": "display_data"
    },
    {
     "data": {
      "application/vnd.jupyter.widget-view+json": {
       "model_id": "988a5caf9aea46b19e4389ecb2c8aefa",
       "version_major": 2,
       "version_minor": 0
      },
      "text/plain": [
       "COLLECTING RESULTS | :   0%|          | 0/18 [00:00<?, ?it/s]"
      ]
     },
     "metadata": {},
     "output_type": "display_data"
    },
    {
     "name": "stdout",
     "output_type": "stream",
     "text": [
      "64\n",
      "11SKU\n",
      " Getting 1 granules, approx download size: 0.21 GB\n"
     ]
    },
    {
     "data": {
      "application/vnd.jupyter.widget-view+json": {
       "model_id": "1c23a4ac8bb243cd9a4c08b933286e23",
       "version_major": 2,
       "version_minor": 0
      },
      "text/plain": [
       "QUEUEING TASKS | :   0%|          | 0/18 [00:00<?, ?it/s]"
      ]
     },
     "metadata": {},
     "output_type": "display_data"
    },
    {
     "name": "stdout",
     "output_type": "stream",
     "text": [
      "File HLS.S30.T11SKU.2017252T184049.v2.0.B09.tif already downloaded\n",
      "File HLS.S30.T11SKU.2017252T184049.v2.0.B8A.tif already downloaded\n",
      "File HLS.S30.T11SKU.2017252T184049.v2.0.B11.tif already downloaded\n",
      "File HLS.S30.T11SKU.2017252T184049.v2.0.B12.tif already downloaded\n",
      "File HLS.S30.T11SKU.2017252T184049.v2.0.VAA.tif already downloaded\n",
      "File HLS.S30.T11SKU.2017252T184049.v2.0.Fmask.tif already downloaded\n",
      "File HLS.S30.T11SKU.2017252T184049.v2.0.VZA.tif already downloaded\n",
      "File HLS.S30.T11SKU.2017252T184049.v2.0.B02.tif already downloaded\n",
      "File HLS.S30.T11SKU.2017252T184049.v2.0.B03.tif already downloaded\n",
      "File HLS.S30.T11SKU.2017252T184049.v2.0.B04.tif already downloaded\n",
      "File HLS.S30.T11SKU.2017252T184049.v2.0.SZA.tif already downloaded\n",
      "File HLS.S30.T11SKU.2017252T184049.v2.0.B01.tif already downloaded\n",
      "File HLS.S30.T11SKU.2017252T184049.v2.0.B08.tif already downloaded\n",
      "File HLS.S30.T11SKU.2017252T184049.v2.0.B10.tif already downloaded\n",
      "File HLS.S30.T11SKU.2017252T184049.v2.0.B06.tif already downloaded\n",
      "File HLS.S30.T11SKU.2017252T184049.v2.0.B05.tif already downloaded\n",
      "File HLS.S30.T11SKU.2017252T184049.v2.0.B07.tif already downloaded\n",
      "File HLS.S30.T11SKU.2017252T184049.v2.0.SAA.tif already downloaded\n"
     ]
    },
    {
     "data": {
      "application/vnd.jupyter.widget-view+json": {
       "model_id": "735a19a7acc947d3b3fae21870ba69be",
       "version_major": 2,
       "version_minor": 0
      },
      "text/plain": [
       "PROCESSING TASKS | :   0%|          | 0/18 [00:00<?, ?it/s]"
      ]
     },
     "metadata": {},
     "output_type": "display_data"
    },
    {
     "data": {
      "application/vnd.jupyter.widget-view+json": {
       "model_id": "344024ebab6f409f918dcba76f51f8c7",
       "version_major": 2,
       "version_minor": 0
      },
      "text/plain": [
       "COLLECTING RESULTS | :   0%|          | 0/18 [00:00<?, ?it/s]"
      ]
     },
     "metadata": {},
     "output_type": "display_data"
    },
    {
     "name": "stdout",
     "output_type": "stream",
     "text": [
      "65\n",
      "10SGD\n",
      " Getting 1 granules, approx download size: 0.21 GB\n"
     ]
    },
    {
     "data": {
      "application/vnd.jupyter.widget-view+json": {
       "model_id": "f905236b466e4ea3bbf3ddfb6242d9d9",
       "version_major": 2,
       "version_minor": 0
      },
      "text/plain": [
       "QUEUEING TASKS | :   0%|          | 0/18 [00:00<?, ?it/s]"
      ]
     },
     "metadata": {},
     "output_type": "display_data"
    },
    {
     "name": "stdout",
     "output_type": "stream",
     "text": [
      "File HLS.S30.T10SGD.2017262T185419.v2.0.B11.tif already downloaded\n",
      "File HLS.S30.T10SGD.2017262T185419.v2.0.B8A.tif already downloaded\n",
      "File HLS.S30.T10SGD.2017262T185419.v2.0.B07.tif already downloaded\n",
      "File HLS.S30.T10SGD.2017262T185419.v2.0.Fmask.tif already downloaded\n",
      "File HLS.S30.T10SGD.2017262T185419.v2.0.SAA.tif already downloaded\n",
      "File HLS.S30.T10SGD.2017262T185419.v2.0.B05.tif already downloaded\n",
      "File HLS.S30.T10SGD.2017262T185419.v2.0.B02.tif already downloaded\n",
      "File HLS.S30.T10SGD.2017262T185419.v2.0.B08.tif already downloaded\n",
      "File HLS.S30.T10SGD.2017262T185419.v2.0.B01.tif already downloaded\n",
      "File HLS.S30.T10SGD.2017262T185419.v2.0.B09.tif already downloaded\n",
      "File HLS.S30.T10SGD.2017262T185419.v2.0.B06.tif already downloaded\n",
      "File HLS.S30.T10SGD.2017262T185419.v2.0.B12.tif already downloaded\n",
      "File HLS.S30.T10SGD.2017262T185419.v2.0.VZA.tif already downloaded\n",
      "File HLS.S30.T10SGD.2017262T185419.v2.0.B04.tif already downloaded\n",
      "File HLS.S30.T10SGD.2017262T185419.v2.0.B03.tif already downloaded\n",
      "File HLS.S30.T10SGD.2017262T185419.v2.0.SZA.tif already downloaded\n",
      "File HLS.S30.T10SGD.2017262T185419.v2.0.VAA.tif already downloaded\n",
      "File HLS.S30.T10SGD.2017262T185419.v2.0.B10.tif already downloaded\n"
     ]
    },
    {
     "data": {
      "application/vnd.jupyter.widget-view+json": {
       "model_id": "90427022d2b94601b7f5bb6c0136bfa3",
       "version_major": 2,
       "version_minor": 0
      },
      "text/plain": [
       "PROCESSING TASKS | :   0%|          | 0/18 [00:00<?, ?it/s]"
      ]
     },
     "metadata": {},
     "output_type": "display_data"
    },
    {
     "data": {
      "application/vnd.jupyter.widget-view+json": {
       "model_id": "d1d4cb2a1e304100943a929fecd56191",
       "version_major": 2,
       "version_minor": 0
      },
      "text/plain": [
       "COLLECTING RESULTS | :   0%|          | 0/18 [00:00<?, ?it/s]"
      ]
     },
     "metadata": {},
     "output_type": "display_data"
    },
    {
     "name": "stdout",
     "output_type": "stream",
     "text": [
      "66\n",
      "11SKU\n",
      " Getting 1 granules, approx download size: 0.22 GB\n"
     ]
    },
    {
     "data": {
      "application/vnd.jupyter.widget-view+json": {
       "model_id": "eb7d125f5c9a4aef9c8ff90d855f6bfd",
       "version_major": 2,
       "version_minor": 0
      },
      "text/plain": [
       "QUEUEING TASKS | :   0%|          | 0/18 [00:00<?, ?it/s]"
      ]
     },
     "metadata": {},
     "output_type": "display_data"
    },
    {
     "name": "stdout",
     "output_type": "stream",
     "text": [
      "File HLS.S30.T11SKU.2017262T185419.v2.0.B05.tif already downloaded\n",
      "File HLS.S30.T11SKU.2017262T185419.v2.0.Fmask.tif already downloaded\n",
      "File HLS.S30.T11SKU.2017262T185419.v2.0.B07.tif already downloaded\n",
      "File HLS.S30.T11SKU.2017262T185419.v2.0.VZA.tif already downloaded\n",
      "File HLS.S30.T11SKU.2017262T185419.v2.0.B09.tif already downloaded\n",
      "File HLS.S30.T11SKU.2017262T185419.v2.0.B01.tif already downloaded\n",
      "File HLS.S30.T11SKU.2017262T185419.v2.0.B08.tif already downloaded\n",
      "File HLS.S30.T11SKU.2017262T185419.v2.0.B10.tif already downloaded\n",
      "File HLS.S30.T11SKU.2017262T185419.v2.0.B8A.tif already downloaded\n",
      "File HLS.S30.T11SKU.2017262T185419.v2.0.B06.tif already downloaded\n",
      "File HLS.S30.T11SKU.2017262T185419.v2.0.VAA.tif already downloaded\n",
      "File HLS.S30.T11SKU.2017262T185419.v2.0.SZA.tif already downloaded\n",
      "File HLS.S30.T11SKU.2017262T185419.v2.0.SAA.tif already downloaded\n",
      "File HLS.S30.T11SKU.2017262T185419.v2.0.B02.tif already downloaded\n",
      "File HLS.S30.T11SKU.2017262T185419.v2.0.B12.tif already downloaded\n",
      "File HLS.S30.T11SKU.2017262T185419.v2.0.B11.tif already downloaded\n",
      "File HLS.S30.T11SKU.2017262T185419.v2.0.B03.tif already downloaded\n",
      "File HLS.S30.T11SKU.2017262T185419.v2.0.B04.tif already downloaded\n"
     ]
    },
    {
     "data": {
      "application/vnd.jupyter.widget-view+json": {
       "model_id": "2b4a6ec831944e388194118343664fde",
       "version_major": 2,
       "version_minor": 0
      },
      "text/plain": [
       "PROCESSING TASKS | :   0%|          | 0/18 [00:00<?, ?it/s]"
      ]
     },
     "metadata": {},
     "output_type": "display_data"
    },
    {
     "data": {
      "application/vnd.jupyter.widget-view+json": {
       "model_id": "54af601679534a6fb7247fcef66092b1",
       "version_major": 2,
       "version_minor": 0
      },
      "text/plain": [
       "COLLECTING RESULTS | :   0%|          | 0/18 [00:00<?, ?it/s]"
      ]
     },
     "metadata": {},
     "output_type": "display_data"
    },
    {
     "name": "stdout",
     "output_type": "stream",
     "text": [
      "67\n",
      "11SKU\n",
      " Getting 1 granules, approx download size: 0.18 GB\n"
     ]
    },
    {
     "data": {
      "application/vnd.jupyter.widget-view+json": {
       "model_id": "973551c0656b41f0881113519f05870c",
       "version_major": 2,
       "version_minor": 0
      },
      "text/plain": [
       "QUEUEING TASKS | :   0%|          | 0/15 [00:00<?, ?it/s]"
      ]
     },
     "metadata": {},
     "output_type": "display_data"
    },
    {
     "name": "stdout",
     "output_type": "stream",
     "text": [
      "File HLS.L30.T11SKU.2017263T183416.v2.0.B03.tif already downloaded\n",
      "File HLS.L30.T11SKU.2017263T183416.v2.0.B05.tif already downloaded\n",
      "File HLS.L30.T11SKU.2017263T183416.v2.0.VZA.tif already downloaded\n",
      "File HLS.L30.T11SKU.2017263T183416.v2.0.Fmask.tif already downloaded\n",
      "File HLS.L30.T11SKU.2017263T183416.v2.0.B06.tif already downloaded\n",
      "File HLS.L30.T11SKU.2017263T183416.v2.0.B11.tif already downloaded\n",
      "File HLS.L30.T11SKU.2017263T183416.v2.0.B07.tif already downloaded\n",
      "File HLS.L30.T11SKU.2017263T183416.v2.0.VAA.tif already downloaded\n",
      "File HLS.L30.T11SKU.2017263T183416.v2.0.B04.tif already downloaded\n",
      "File HLS.L30.T11SKU.2017263T183416.v2.0.B02.tif already downloaded\n",
      "File HLS.L30.T11SKU.2017263T183416.v2.0.B10.tif already downloaded\n",
      "File HLS.L30.T11SKU.2017263T183416.v2.0.SZA.tif already downloaded\n",
      "File HLS.L30.T11SKU.2017263T183416.v2.0.B09.tif already downloaded\n",
      "File HLS.L30.T11SKU.2017263T183416.v2.0.SAA.tif already downloaded\n",
      "File HLS.L30.T11SKU.2017263T183416.v2.0.B01.tif already downloaded\n"
     ]
    },
    {
     "data": {
      "application/vnd.jupyter.widget-view+json": {
       "model_id": "a6685472784240419e6c833479aa9c3d",
       "version_major": 2,
       "version_minor": 0
      },
      "text/plain": [
       "PROCESSING TASKS | :   0%|          | 0/15 [00:00<?, ?it/s]"
      ]
     },
     "metadata": {},
     "output_type": "display_data"
    },
    {
     "data": {
      "application/vnd.jupyter.widget-view+json": {
       "model_id": "c018104d067e416f948f8a25eab10fcf",
       "version_major": 2,
       "version_minor": 0
      },
      "text/plain": [
       "COLLECTING RESULTS | :   0%|          | 0/15 [00:00<?, ?it/s]"
      ]
     },
     "metadata": {},
     "output_type": "display_data"
    },
    {
     "name": "stdout",
     "output_type": "stream",
     "text": [
      "68\n",
      "10SGD\n",
      " Getting 1 granules, approx download size: 0.16 GB\n"
     ]
    },
    {
     "data": {
      "application/vnd.jupyter.widget-view+json": {
       "model_id": "e07103a5d23640e0b4346bcb16f8404d",
       "version_major": 2,
       "version_minor": 0
      },
      "text/plain": [
       "QUEUEING TASKS | :   0%|          | 0/15 [00:00<?, ?it/s]"
      ]
     },
     "metadata": {},
     "output_type": "display_data"
    },
    {
     "name": "stdout",
     "output_type": "stream",
     "text": [
      "File HLS.L30.T10SGD.2017263T183440.v2.0.B09.tif already downloaded\n",
      "File HLS.L30.T10SGD.2017263T183440.v2.0.B11.tif already downloaded\n",
      "File HLS.L30.T10SGD.2017263T183440.v2.0.B02.tif already downloaded\n",
      "File HLS.L30.T10SGD.2017263T183440.v2.0.B06.tif already downloaded\n",
      "File HLS.L30.T10SGD.2017263T183440.v2.0.B03.tif already downloaded\n",
      "File HLS.L30.T10SGD.2017263T183440.v2.0.B07.tif already downloaded\n",
      "File HLS.L30.T10SGD.2017263T183440.v2.0.B01.tif already downloaded\n",
      "File HLS.L30.T10SGD.2017263T183440.v2.0.B05.tif already downloaded\n",
      "File HLS.L30.T10SGD.2017263T183440.v2.0.B04.tif already downloaded\n",
      "File HLS.L30.T10SGD.2017263T183440.v2.0.SAA.tif already downloaded\n",
      "File HLS.L30.T10SGD.2017263T183440.v2.0.VZA.tif already downloaded\n",
      "File HLS.L30.T10SGD.2017263T183440.v2.0.SZA.tif already downloaded\n",
      "File HLS.L30.T10SGD.2017263T183440.v2.0.VAA.tif already downloaded\n",
      "File HLS.L30.T10SGD.2017263T183440.v2.0.Fmask.tif already downloaded\n",
      "File HLS.L30.T10SGD.2017263T183440.v2.0.B10.tif already downloaded\n"
     ]
    },
    {
     "data": {
      "application/vnd.jupyter.widget-view+json": {
       "model_id": "3bb3dd376f7249e49ae496e90b9c5570",
       "version_major": 2,
       "version_minor": 0
      },
      "text/plain": [
       "PROCESSING TASKS | :   0%|          | 0/15 [00:00<?, ?it/s]"
      ]
     },
     "metadata": {},
     "output_type": "display_data"
    },
    {
     "data": {
      "application/vnd.jupyter.widget-view+json": {
       "model_id": "32de23b6f56b4e27962235086dedfe94",
       "version_major": 2,
       "version_minor": 0
      },
      "text/plain": [
       "COLLECTING RESULTS | :   0%|          | 0/15 [00:00<?, ?it/s]"
      ]
     },
     "metadata": {},
     "output_type": "display_data"
    },
    {
     "name": "stdout",
     "output_type": "stream",
     "text": [
      "69\n",
      "10SGD\n",
      " Getting 1 granules, approx download size: 0.2 GB\n"
     ]
    },
    {
     "data": {
      "application/vnd.jupyter.widget-view+json": {
       "model_id": "76c51daa5d77453ebcf041554244351f",
       "version_major": 2,
       "version_minor": 0
      },
      "text/plain": [
       "QUEUEING TASKS | :   0%|          | 0/18 [00:00<?, ?it/s]"
      ]
     },
     "metadata": {},
     "output_type": "display_data"
    },
    {
     "name": "stdout",
     "output_type": "stream",
     "text": [
      "File HLS.S30.T10SGD.2017272T184129.v2.0.SZA.tif already downloaded\n",
      "File HLS.S30.T10SGD.2017272T184129.v2.0.B09.tif already downloaded\n",
      "File HLS.S30.T10SGD.2017272T184129.v2.0.Fmask.tif already downloaded\n",
      "File HLS.S30.T10SGD.2017272T184129.v2.0.B03.tif already downloaded\n",
      "File HLS.S30.T10SGD.2017272T184129.v2.0.B08.tif already downloaded\n",
      "File HLS.S30.T10SGD.2017272T184129.v2.0.SAA.tif already downloaded\n",
      "File HLS.S30.T10SGD.2017272T184129.v2.0.B02.tif already downloaded\n",
      "File HLS.S30.T10SGD.2017272T184129.v2.0.B05.tif already downloaded\n",
      "File HLS.S30.T10SGD.2017272T184129.v2.0.B07.tif already downloaded\n",
      "File HLS.S30.T10SGD.2017272T184129.v2.0.B04.tif already downloaded\n",
      "File HLS.S30.T10SGD.2017272T184129.v2.0.B11.tif already downloaded\n",
      "File HLS.S30.T10SGD.2017272T184129.v2.0.B12.tif already downloaded\n",
      "File HLS.S30.T10SGD.2017272T184129.v2.0.VZA.tif already downloaded\n",
      "File HLS.S30.T10SGD.2017272T184129.v2.0.B06.tif already downloaded\n",
      "File HLS.S30.T10SGD.2017272T184129.v2.0.B10.tif already downloaded\n",
      "File HLS.S30.T10SGD.2017272T184129.v2.0.B8A.tif already downloaded\n",
      "File HLS.S30.T10SGD.2017272T184129.v2.0.B01.tif already downloaded\n",
      "File HLS.S30.T10SGD.2017272T184129.v2.0.VAA.tif already downloaded\n"
     ]
    },
    {
     "data": {
      "application/vnd.jupyter.widget-view+json": {
       "model_id": "f0606c5c4c8a455b9768002d7054c7d3",
       "version_major": 2,
       "version_minor": 0
      },
      "text/plain": [
       "PROCESSING TASKS | :   0%|          | 0/18 [00:00<?, ?it/s]"
      ]
     },
     "metadata": {},
     "output_type": "display_data"
    },
    {
     "data": {
      "application/vnd.jupyter.widget-view+json": {
       "model_id": "624d2d9291854fe9a91f4bc36eca5d13",
       "version_major": 2,
       "version_minor": 0
      },
      "text/plain": [
       "COLLECTING RESULTS | :   0%|          | 0/18 [00:00<?, ?it/s]"
      ]
     },
     "metadata": {},
     "output_type": "display_data"
    },
    {
     "name": "stdout",
     "output_type": "stream",
     "text": [
      "70\n",
      "11SKU\n",
      " Getting 1 granules, approx download size: 0.2 GB\n"
     ]
    },
    {
     "data": {
      "application/vnd.jupyter.widget-view+json": {
       "model_id": "a312c5ccaac84040943b96accc1ea6c0",
       "version_major": 2,
       "version_minor": 0
      },
      "text/plain": [
       "QUEUEING TASKS | :   0%|          | 0/18 [00:00<?, ?it/s]"
      ]
     },
     "metadata": {},
     "output_type": "display_data"
    },
    {
     "name": "stdout",
     "output_type": "stream",
     "text": [
      "File HLS.S30.T11SKU.2017277T184221.v2.0.B06.tif already downloadedFile HLS.S30.T11SKU.2017277T184221.v2.0.SAA.tif already downloaded\n",
      "\n",
      "File HLS.S30.T11SKU.2017277T184221.v2.0.B11.tif already downloaded\n",
      "File HLS.S30.T11SKU.2017277T184221.v2.0.B05.tif already downloaded\n",
      "File HLS.S30.T11SKU.2017277T184221.v2.0.B08.tif already downloaded\n",
      "File HLS.S30.T11SKU.2017277T184221.v2.0.B01.tif already downloaded\n",
      "File HLS.S30.T11SKU.2017277T184221.v2.0.VZA.tif already downloaded\n",
      "File HLS.S30.T11SKU.2017277T184221.v2.0.Fmask.tif already downloaded\n",
      "File HLS.S30.T11SKU.2017277T184221.v2.0.B10.tif already downloaded\n",
      "File HLS.S30.T11SKU.2017277T184221.v2.0.B02.tif already downloaded\n",
      "File HLS.S30.T11SKU.2017277T184221.v2.0.B12.tif already downloaded\n",
      "File HLS.S30.T11SKU.2017277T184221.v2.0.B09.tif already downloaded\n",
      "File HLS.S30.T11SKU.2017277T184221.v2.0.B04.tif already downloaded\n",
      "File HLS.S30.T11SKU.2017277T184221.v2.0.VAA.tif already downloaded\n",
      "File HLS.S30.T11SKU.2017277T184221.v2.0.SZA.tif already downloaded\n",
      "File HLS.S30.T11SKU.2017277T184221.v2.0.B8A.tif already downloaded\n",
      "File HLS.S30.T11SKU.2017277T184221.v2.0.B07.tif already downloaded\n",
      "File HLS.S30.T11SKU.2017277T184221.v2.0.B03.tif already downloaded\n"
     ]
    },
    {
     "data": {
      "application/vnd.jupyter.widget-view+json": {
       "model_id": "fff4ac9251d943519fc76d0f68b2a424",
       "version_major": 2,
       "version_minor": 0
      },
      "text/plain": [
       "PROCESSING TASKS | :   0%|          | 0/18 [00:00<?, ?it/s]"
      ]
     },
     "metadata": {},
     "output_type": "display_data"
    },
    {
     "data": {
      "application/vnd.jupyter.widget-view+json": {
       "model_id": "f98947d678c44814b871c6397ef31013",
       "version_major": 2,
       "version_minor": 0
      },
      "text/plain": [
       "COLLECTING RESULTS | :   0%|          | 0/18 [00:00<?, ?it/s]"
      ]
     },
     "metadata": {},
     "output_type": "display_data"
    },
    {
     "name": "stdout",
     "output_type": "stream",
     "text": [
      "71\n",
      "11SKU\n",
      " Getting 1 granules, approx download size: 0.17 GB\n"
     ]
    },
    {
     "data": {
      "application/vnd.jupyter.widget-view+json": {
       "model_id": "65915060b3b84ab4abf0af1779b5583e",
       "version_major": 2,
       "version_minor": 0
      },
      "text/plain": [
       "QUEUEING TASKS | :   0%|          | 0/15 [00:00<?, ?it/s]"
      ]
     },
     "metadata": {},
     "output_type": "display_data"
    },
    {
     "name": "stdout",
     "output_type": "stream",
     "text": [
      "File HLS.L30.T11SKU.2017279T183422.v2.0.B05.tif already downloaded\n",
      "File HLS.L30.T11SKU.2017279T183422.v2.0.SZA.tif already downloaded\n",
      "File HLS.L30.T11SKU.2017279T183422.v2.0.VZA.tif already downloaded\n",
      "File HLS.L30.T11SKU.2017279T183422.v2.0.B04.tif already downloaded\n",
      "File HLS.L30.T11SKU.2017279T183422.v2.0.B10.tif already downloaded\n",
      "File HLS.L30.T11SKU.2017279T183422.v2.0.B02.tif already downloaded\n",
      "File HLS.L30.T11SKU.2017279T183422.v2.0.VAA.tif already downloaded\n",
      "File HLS.L30.T11SKU.2017279T183422.v2.0.B11.tif already downloaded\n",
      "File HLS.L30.T11SKU.2017279T183422.v2.0.B06.tif already downloaded\n",
      "File HLS.L30.T11SKU.2017279T183422.v2.0.Fmask.tif already downloaded\n",
      "File HLS.L30.T11SKU.2017279T183422.v2.0.B07.tif already downloaded\n",
      "File HLS.L30.T11SKU.2017279T183422.v2.0.SAA.tif already downloaded\n",
      "File HLS.L30.T11SKU.2017279T183422.v2.0.B09.tif already downloaded\n",
      "File HLS.L30.T11SKU.2017279T183422.v2.0.B01.tif already downloaded\n",
      "File HLS.L30.T11SKU.2017279T183422.v2.0.B03.tif already downloaded\n"
     ]
    },
    {
     "data": {
      "application/vnd.jupyter.widget-view+json": {
       "model_id": "473ef1aa32344adf858c433123ddf93e",
       "version_major": 2,
       "version_minor": 0
      },
      "text/plain": [
       "PROCESSING TASKS | :   0%|          | 0/15 [00:00<?, ?it/s]"
      ]
     },
     "metadata": {},
     "output_type": "display_data"
    },
    {
     "data": {
      "application/vnd.jupyter.widget-view+json": {
       "model_id": "dc682c82387645efba9f06ede1e487a2",
       "version_major": 2,
       "version_minor": 0
      },
      "text/plain": [
       "COLLECTING RESULTS | :   0%|          | 0/15 [00:00<?, ?it/s]"
      ]
     },
     "metadata": {},
     "output_type": "display_data"
    },
    {
     "name": "stdout",
     "output_type": "stream",
     "text": [
      "72\n",
      "10SGD\n",
      " Getting 1 granules, approx download size: 0.16 GB\n"
     ]
    },
    {
     "data": {
      "application/vnd.jupyter.widget-view+json": {
       "model_id": "080d9f390a2341f6870d19ecda399bef",
       "version_major": 2,
       "version_minor": 0
      },
      "text/plain": [
       "QUEUEING TASKS | :   0%|          | 0/15 [00:00<?, ?it/s]"
      ]
     },
     "metadata": {},
     "output_type": "display_data"
    },
    {
     "name": "stdout",
     "output_type": "stream",
     "text": [
      "File HLS.L30.T10SGD.2017279T183446.v2.0.B03.tif already downloaded\n",
      "File HLS.L30.T10SGD.2017279T183446.v2.0.B09.tif already downloaded\n",
      "File HLS.L30.T10SGD.2017279T183446.v2.0.B10.tif already downloaded\n",
      "File HLS.L30.T10SGD.2017279T183446.v2.0.B05.tif already downloaded\n",
      "File HLS.L30.T10SGD.2017279T183446.v2.0.B06.tif already downloaded\n",
      "File HLS.L30.T10SGD.2017279T183446.v2.0.B01.tif already downloaded\n",
      "File HLS.L30.T10SGD.2017279T183446.v2.0.SZA.tif already downloaded\n",
      "File HLS.L30.T10SGD.2017279T183446.v2.0.B02.tif already downloaded\n",
      "File HLS.L30.T10SGD.2017279T183446.v2.0.Fmask.tif already downloaded\n",
      "File HLS.L30.T10SGD.2017279T183446.v2.0.VAA.tif already downloaded\n",
      "File HLS.L30.T10SGD.2017279T183446.v2.0.B07.tif already downloaded\n",
      "File HLS.L30.T10SGD.2017279T183446.v2.0.B11.tif already downloaded\n",
      "File HLS.L30.T10SGD.2017279T183446.v2.0.VZA.tif already downloaded\n",
      "File HLS.L30.T10SGD.2017279T183446.v2.0.B04.tif already downloaded\n",
      "File HLS.L30.T10SGD.2017279T183446.v2.0.SAA.tif already downloaded\n"
     ]
    },
    {
     "data": {
      "application/vnd.jupyter.widget-view+json": {
       "model_id": "634ff121506747dd827aa1a7855c6aae",
       "version_major": 2,
       "version_minor": 0
      },
      "text/plain": [
       "PROCESSING TASKS | :   0%|          | 0/15 [00:00<?, ?it/s]"
      ]
     },
     "metadata": {},
     "output_type": "display_data"
    },
    {
     "data": {
      "application/vnd.jupyter.widget-view+json": {
       "model_id": "c5c08222acf640aabac79284c3e3808d",
       "version_major": 2,
       "version_minor": 0
      },
      "text/plain": [
       "COLLECTING RESULTS | :   0%|          | 0/15 [00:00<?, ?it/s]"
      ]
     },
     "metadata": {},
     "output_type": "display_data"
    },
    {
     "name": "stdout",
     "output_type": "stream",
     "text": [
      "73\n",
      "11SKU\n",
      " Getting 1 granules, approx download size: 0.2 GB\n"
     ]
    },
    {
     "data": {
      "application/vnd.jupyter.widget-view+json": {
       "model_id": "f10af0127e9e452d9dc5bef37cd7d2b4",
       "version_major": 2,
       "version_minor": 0
      },
      "text/plain": [
       "QUEUEING TASKS | :   0%|          | 0/18 [00:00<?, ?it/s]"
      ]
     },
     "metadata": {},
     "output_type": "display_data"
    },
    {
     "name": "stdout",
     "output_type": "stream",
     "text": [
      "File HLS.S30.T11SKU.2017287T185431.v2.0.B08.tif already downloaded\n",
      "File HLS.S30.T11SKU.2017287T185431.v2.0.B03.tif already downloaded\n",
      "File HLS.S30.T11SKU.2017287T185431.v2.0.B05.tif already downloaded\n",
      "File HLS.S30.T11SKU.2017287T185431.v2.0.SAA.tif already downloaded\n",
      "File HLS.S30.T11SKU.2017287T185431.v2.0.B04.tif already downloaded\n",
      "File HLS.S30.T11SKU.2017287T185431.v2.0.B01.tif already downloaded\n",
      "File HLS.S30.T11SKU.2017287T185431.v2.0.Fmask.tif already downloaded\n",
      "File HLS.S30.T11SKU.2017287T185431.v2.0.SZA.tif already downloaded\n",
      "File HLS.S30.T11SKU.2017287T185431.v2.0.B10.tif already downloaded\n",
      "File HLS.S30.T11SKU.2017287T185431.v2.0.B06.tif already downloaded\n",
      "File HLS.S30.T11SKU.2017287T185431.v2.0.B02.tif already downloaded\n",
      "File HLS.S30.T11SKU.2017287T185431.v2.0.B8A.tif already downloaded\n",
      "File HLS.S30.T11SKU.2017287T185431.v2.0.VAA.tif already downloaded\n",
      "File HLS.S30.T11SKU.2017287T185431.v2.0.B11.tif already downloaded\n",
      "File HLS.S30.T11SKU.2017287T185431.v2.0.B12.tif already downloaded\n",
      "File HLS.S30.T11SKU.2017287T185431.v2.0.B09.tif already downloaded\n",
      "File HLS.S30.T11SKU.2017287T185431.v2.0.B07.tif already downloaded\n",
      "File HLS.S30.T11SKU.2017287T185431.v2.0.VZA.tif already downloaded\n"
     ]
    },
    {
     "data": {
      "application/vnd.jupyter.widget-view+json": {
       "model_id": "8cc4baf319094bc2bfe3b4c9f5214c4d",
       "version_major": 2,
       "version_minor": 0
      },
      "text/plain": [
       "PROCESSING TASKS | :   0%|          | 0/18 [00:00<?, ?it/s]"
      ]
     },
     "metadata": {},
     "output_type": "display_data"
    },
    {
     "data": {
      "application/vnd.jupyter.widget-view+json": {
       "model_id": "1d61af7a9e8a4c3da66caf25d758b080",
       "version_major": 2,
       "version_minor": 0
      },
      "text/plain": [
       "COLLECTING RESULTS | :   0%|          | 0/18 [00:00<?, ?it/s]"
      ]
     },
     "metadata": {},
     "output_type": "display_data"
    },
    {
     "name": "stdout",
     "output_type": "stream",
     "text": [
      "74\n",
      "11SKU\n",
      " Getting 1 granules, approx download size: 0.21 GB\n"
     ]
    },
    {
     "data": {
      "application/vnd.jupyter.widget-view+json": {
       "model_id": "80ce5e8e4f4b47e3b4b45b7b8e1ab477",
       "version_major": 2,
       "version_minor": 0
      },
      "text/plain": [
       "QUEUEING TASKS | :   0%|          | 0/18 [00:00<?, ?it/s]"
      ]
     },
     "metadata": {},
     "output_type": "display_data"
    },
    {
     "name": "stdout",
     "output_type": "stream",
     "text": [
      "File HLS.S30.T11SKU.2017292T184349.v2.0.B12.tif already downloaded\n",
      "File HLS.S30.T11SKU.2017292T184349.v2.0.Fmask.tif already downloaded\n",
      "File HLS.S30.T11SKU.2017292T184349.v2.0.SAA.tif already downloaded\n",
      "File HLS.S30.T11SKU.2017292T184349.v2.0.B03.tif already downloaded\n",
      "File HLS.S30.T11SKU.2017292T184349.v2.0.B08.tif already downloaded\n",
      "File HLS.S30.T11SKU.2017292T184349.v2.0.B02.tif already downloaded\n",
      "File HLS.S30.T11SKU.2017292T184349.v2.0.B8A.tif already downloaded\n",
      "File HLS.S30.T11SKU.2017292T184349.v2.0.B04.tif already downloaded\n",
      "File HLS.S30.T11SKU.2017292T184349.v2.0.B06.tif already downloaded\n",
      "File HLS.S30.T11SKU.2017292T184349.v2.0.B11.tif already downloaded\n",
      "File HLS.S30.T11SKU.2017292T184349.v2.0.VAA.tif already downloaded\n",
      "File HLS.S30.T11SKU.2017292T184349.v2.0.B09.tif already downloaded\n",
      "File HLS.S30.T11SKU.2017292T184349.v2.0.B10.tif already downloaded\n",
      "File HLS.S30.T11SKU.2017292T184349.v2.0.SZA.tif already downloaded\n",
      "File HLS.S30.T11SKU.2017292T184349.v2.0.VZA.tif already downloaded\n",
      "File HLS.S30.T11SKU.2017292T184349.v2.0.B01.tif already downloaded\n",
      "File HLS.S30.T11SKU.2017292T184349.v2.0.B05.tif already downloaded\n",
      "File HLS.S30.T11SKU.2017292T184349.v2.0.B07.tif already downloaded\n"
     ]
    },
    {
     "data": {
      "application/vnd.jupyter.widget-view+json": {
       "model_id": "791acb17ffe04f30b42c42a0c8e3235c",
       "version_major": 2,
       "version_minor": 0
      },
      "text/plain": [
       "PROCESSING TASKS | :   0%|          | 0/18 [00:00<?, ?it/s]"
      ]
     },
     "metadata": {},
     "output_type": "display_data"
    },
    {
     "data": {
      "application/vnd.jupyter.widget-view+json": {
       "model_id": "040a6e81a5fa4325ab62c89b3bb25938",
       "version_major": 2,
       "version_minor": 0
      },
      "text/plain": [
       "COLLECTING RESULTS | :   0%|          | 0/18 [00:00<?, ?it/s]"
      ]
     },
     "metadata": {},
     "output_type": "display_data"
    },
    {
     "name": "stdout",
     "output_type": "stream",
     "text": [
      "75\n",
      "10SGD\n",
      " Getting 1 granules, approx download size: 0.2 GB\n"
     ]
    },
    {
     "data": {
      "application/vnd.jupyter.widget-view+json": {
       "model_id": "e2126adea4b449e7925b4eb741fbb991",
       "version_major": 2,
       "version_minor": 0
      },
      "text/plain": [
       "QUEUEING TASKS | :   0%|          | 0/18 [00:00<?, ?it/s]"
      ]
     },
     "metadata": {},
     "output_type": "display_data"
    },
    {
     "name": "stdout",
     "output_type": "stream",
     "text": [
      "File HLS.S30.T10SGD.2017292T184349.v2.0.B07.tif already downloaded\n",
      "File HLS.S30.T10SGD.2017292T184349.v2.0.VAA.tif already downloaded\n",
      "File HLS.S30.T10SGD.2017292T184349.v2.0.B12.tif already downloaded\n",
      "File HLS.S30.T10SGD.2017292T184349.v2.0.SZA.tif already downloaded\n",
      "File HLS.S30.T10SGD.2017292T184349.v2.0.VZA.tif already downloaded\n",
      "File HLS.S30.T10SGD.2017292T184349.v2.0.B11.tif already downloaded\n",
      "File HLS.S30.T10SGD.2017292T184349.v2.0.B09.tif already downloaded\n",
      "File HLS.S30.T10SGD.2017292T184349.v2.0.B10.tif already downloaded\n",
      "File HLS.S30.T10SGD.2017292T184349.v2.0.B06.tif already downloaded\n",
      "File HLS.S30.T10SGD.2017292T184349.v2.0.B08.tif already downloaded\n",
      "File HLS.S30.T10SGD.2017292T184349.v2.0.Fmask.tif already downloaded\n",
      "File HLS.S30.T10SGD.2017292T184349.v2.0.B04.tif already downloaded\n",
      "File HLS.S30.T10SGD.2017292T184349.v2.0.B8A.tif already downloaded\n",
      "File HLS.S30.T10SGD.2017292T184349.v2.0.B02.tif already downloaded\n",
      "File HLS.S30.T10SGD.2017292T184349.v2.0.B05.tif already downloaded\n",
      "File HLS.S30.T10SGD.2017292T184349.v2.0.B01.tif already downloaded\n",
      "File HLS.S30.T10SGD.2017292T184349.v2.0.B03.tif already downloaded\n",
      "File HLS.S30.T10SGD.2017292T184349.v2.0.SAA.tif already downloaded\n"
     ]
    },
    {
     "data": {
      "application/vnd.jupyter.widget-view+json": {
       "model_id": "0dc1f1a89cd947a08d56ddfa8f3a4a72",
       "version_major": 2,
       "version_minor": 0
      },
      "text/plain": [
       "PROCESSING TASKS | :   0%|          | 0/18 [00:00<?, ?it/s]"
      ]
     },
     "metadata": {},
     "output_type": "display_data"
    },
    {
     "data": {
      "application/vnd.jupyter.widget-view+json": {
       "model_id": "5515beff4225429291d99a9b6f007461",
       "version_major": 2,
       "version_minor": 0
      },
      "text/plain": [
       "COLLECTING RESULTS | :   0%|          | 0/18 [00:00<?, ?it/s]"
      ]
     },
     "metadata": {},
     "output_type": "display_data"
    },
    {
     "name": "stdout",
     "output_type": "stream",
     "text": [
      "76\n",
      "11SKU\n",
      " Getting 1 granules, approx download size: 0.23 GB\n"
     ]
    },
    {
     "data": {
      "application/vnd.jupyter.widget-view+json": {
       "model_id": "31096c3157d3485e9e30989b0a60d131",
       "version_major": 2,
       "version_minor": 0
      },
      "text/plain": [
       "QUEUEING TASKS | :   0%|          | 0/18 [00:00<?, ?it/s]"
      ]
     },
     "metadata": {},
     "output_type": "display_data"
    },
    {
     "name": "stdout",
     "output_type": "stream",
     "text": [
      "File HLS.S30.T11SKU.2017302T185419.v2.0.VAA.tif already downloaded\n",
      "File HLS.S30.T11SKU.2017302T185419.v2.0.B8A.tif already downloaded\n",
      "File HLS.S30.T11SKU.2017302T185419.v2.0.VZA.tif already downloaded\n",
      "File HLS.S30.T11SKU.2017302T185419.v2.0.B01.tif already downloaded\n",
      "File HLS.S30.T11SKU.2017302T185419.v2.0.Fmask.tif already downloaded\n",
      "File HLS.S30.T11SKU.2017302T185419.v2.0.B05.tif already downloaded\n",
      "File HLS.S30.T11SKU.2017302T185419.v2.0.B09.tif already downloaded\n",
      "File HLS.S30.T11SKU.2017302T185419.v2.0.B10.tif already downloaded\n",
      "File HLS.S30.T11SKU.2017302T185419.v2.0.B06.tif already downloaded\n",
      "File HLS.S30.T11SKU.2017302T185419.v2.0.B07.tif already downloaded\n",
      "File HLS.S30.T11SKU.2017302T185419.v2.0.B03.tif already downloaded\n",
      "File HLS.S30.T11SKU.2017302T185419.v2.0.B02.tif already downloaded\n",
      "File HLS.S30.T11SKU.2017302T185419.v2.0.SAA.tif already downloaded\n",
      "File HLS.S30.T11SKU.2017302T185419.v2.0.B04.tif already downloaded\n",
      "File HLS.S30.T11SKU.2017302T185419.v2.0.B12.tif already downloaded\n",
      "File HLS.S30.T11SKU.2017302T185419.v2.0.B11.tif already downloaded\n",
      "File HLS.S30.T11SKU.2017302T185419.v2.0.SZA.tif already downloaded\n",
      "File HLS.S30.T11SKU.2017302T185419.v2.0.B08.tif already downloaded\n"
     ]
    },
    {
     "data": {
      "application/vnd.jupyter.widget-view+json": {
       "model_id": "2b1fe1f15aab41cbae1d818782a87031",
       "version_major": 2,
       "version_minor": 0
      },
      "text/plain": [
       "PROCESSING TASKS | :   0%|          | 0/18 [00:00<?, ?it/s]"
      ]
     },
     "metadata": {},
     "output_type": "display_data"
    },
    {
     "data": {
      "application/vnd.jupyter.widget-view+json": {
       "model_id": "8e0119f6adfa41d38ea3ee728a1dc7d8",
       "version_major": 2,
       "version_minor": 0
      },
      "text/plain": [
       "COLLECTING RESULTS | :   0%|          | 0/18 [00:00<?, ?it/s]"
      ]
     },
     "metadata": {},
     "output_type": "display_data"
    },
    {
     "name": "stdout",
     "output_type": "stream",
     "text": [
      "77\n",
      "10SGD\n",
      " Getting 1 granules, approx download size: 0.24 GB\n"
     ]
    },
    {
     "data": {
      "application/vnd.jupyter.widget-view+json": {
       "model_id": "d6f94e419bbd45aab7f6f1bea2d0e284",
       "version_major": 2,
       "version_minor": 0
      },
      "text/plain": [
       "QUEUEING TASKS | :   0%|          | 0/18 [00:00<?, ?it/s]"
      ]
     },
     "metadata": {},
     "output_type": "display_data"
    },
    {
     "name": "stdout",
     "output_type": "stream",
     "text": [
      "File HLS.S30.T10SGD.2017302T185419.v2.0.B05.tif already downloaded\n",
      "File HLS.S30.T10SGD.2017302T185419.v2.0.B04.tif already downloaded\n",
      "File HLS.S30.T10SGD.2017302T185419.v2.0.B07.tif already downloaded\n",
      "File HLS.S30.T10SGD.2017302T185419.v2.0.SAA.tif already downloaded\n",
      "File HLS.S30.T10SGD.2017302T185419.v2.0.B8A.tif already downloaded\n",
      "File HLS.S30.T10SGD.2017302T185419.v2.0.B11.tif already downloaded\n",
      "File HLS.S30.T10SGD.2017302T185419.v2.0.VZA.tif already downloaded\n",
      "File HLS.S30.T10SGD.2017302T185419.v2.0.B10.tif already downloaded\n",
      "File HLS.S30.T10SGD.2017302T185419.v2.0.B08.tif already downloaded\n",
      "File HLS.S30.T10SGD.2017302T185419.v2.0.B09.tif already downloaded\n",
      "File HLS.S30.T10SGD.2017302T185419.v2.0.VAA.tif already downloaded\n",
      "File HLS.S30.T10SGD.2017302T185419.v2.0.B12.tif already downloaded\n",
      "File HLS.S30.T10SGD.2017302T185419.v2.0.Fmask.tif already downloaded\n",
      "File HLS.S30.T10SGD.2017302T185419.v2.0.SZA.tif already downloaded\n",
      "File HLS.S30.T10SGD.2017302T185419.v2.0.B06.tif already downloaded\n",
      "File HLS.S30.T10SGD.2017302T185419.v2.0.B03.tif already downloaded\n",
      "File HLS.S30.T10SGD.2017302T185419.v2.0.B01.tif already downloaded\n",
      "File HLS.S30.T10SGD.2017302T185419.v2.0.B02.tif already downloaded\n"
     ]
    },
    {
     "data": {
      "application/vnd.jupyter.widget-view+json": {
       "model_id": "64225bac778349b0b85bdb6cf32ec728",
       "version_major": 2,
       "version_minor": 0
      },
      "text/plain": [
       "PROCESSING TASKS | :   0%|          | 0/18 [00:00<?, ?it/s]"
      ]
     },
     "metadata": {},
     "output_type": "display_data"
    },
    {
     "data": {
      "application/vnd.jupyter.widget-view+json": {
       "model_id": "f44e1a4dd22e408cb3ee2a4179af8ab1",
       "version_major": 2,
       "version_minor": 0
      },
      "text/plain": [
       "COLLECTING RESULTS | :   0%|          | 0/18 [00:00<?, ?it/s]"
      ]
     },
     "metadata": {},
     "output_type": "display_data"
    },
    {
     "name": "stdout",
     "output_type": "stream",
     "text": [
      "78\n",
      "10SGD\n",
      " Getting 1 granules, approx download size: 0.22 GB\n"
     ]
    },
    {
     "data": {
      "application/vnd.jupyter.widget-view+json": {
       "model_id": "492301e707814a10aa8cc4b29643fdd8",
       "version_major": 2,
       "version_minor": 0
      },
      "text/plain": [
       "QUEUEING TASKS | :   0%|          | 0/18 [00:00<?, ?it/s]"
      ]
     },
     "metadata": {},
     "output_type": "display_data"
    },
    {
     "name": "stdout",
     "output_type": "stream",
     "text": [
      "File HLS.S30.T10SGD.2017307T185431.v2.0.Fmask.tif already downloadedFile HLS.S30.T10SGD.2017307T185431.v2.0.B07.tif already downloaded\n",
      "\n",
      "File HLS.S30.T10SGD.2017307T185431.v2.0.B04.tif already downloaded\n",
      "File HLS.S30.T10SGD.2017307T185431.v2.0.SZA.tif already downloaded\n",
      "File HLS.S30.T10SGD.2017307T185431.v2.0.B12.tif already downloaded\n",
      "File HLS.S30.T10SGD.2017307T185431.v2.0.B01.tif already downloaded\n",
      "File HLS.S30.T10SGD.2017307T185431.v2.0.B05.tif already downloaded\n",
      "File HLS.S30.T10SGD.2017307T185431.v2.0.B09.tif already downloaded\n",
      "File HLS.S30.T10SGD.2017307T185431.v2.0.B11.tif already downloaded\n",
      "File HLS.S30.T10SGD.2017307T185431.v2.0.B8A.tif already downloaded\n",
      "File HLS.S30.T10SGD.2017307T185431.v2.0.SAA.tif already downloaded\n",
      "File HLS.S30.T10SGD.2017307T185431.v2.0.VZA.tif already downloaded\n",
      "File HLS.S30.T10SGD.2017307T185431.v2.0.B03.tif already downloaded\n",
      "File HLS.S30.T10SGD.2017307T185431.v2.0.B08.tif already downloaded\n",
      "File HLS.S30.T10SGD.2017307T185431.v2.0.VAA.tif already downloaded\n",
      "File HLS.S30.T10SGD.2017307T185431.v2.0.B06.tif already downloaded\n",
      "File HLS.S30.T10SGD.2017307T185431.v2.0.B02.tif already downloaded\n",
      "File HLS.S30.T10SGD.2017307T185431.v2.0.B10.tif already downloaded\n"
     ]
    },
    {
     "data": {
      "application/vnd.jupyter.widget-view+json": {
       "model_id": "3c4f4c2380064ad6aca428c906634be9",
       "version_major": 2,
       "version_minor": 0
      },
      "text/plain": [
       "PROCESSING TASKS | :   0%|          | 0/18 [00:00<?, ?it/s]"
      ]
     },
     "metadata": {},
     "output_type": "display_data"
    },
    {
     "data": {
      "application/vnd.jupyter.widget-view+json": {
       "model_id": "ea552f04143d4f2aab57aebde074ce9b",
       "version_major": 2,
       "version_minor": 0
      },
      "text/plain": [
       "COLLECTING RESULTS | :   0%|          | 0/18 [00:00<?, ?it/s]"
      ]
     },
     "metadata": {},
     "output_type": "display_data"
    },
    {
     "name": "stdout",
     "output_type": "stream",
     "text": [
      "79\n",
      "11SKU\n",
      " Getting 1 granules, approx download size: 0.22 GB\n"
     ]
    },
    {
     "data": {
      "application/vnd.jupyter.widget-view+json": {
       "model_id": "02344e227a364eabb2163fec4b784217",
       "version_major": 2,
       "version_minor": 0
      },
      "text/plain": [
       "QUEUEING TASKS | :   0%|          | 0/18 [00:00<?, ?it/s]"
      ]
     },
     "metadata": {},
     "output_type": "display_data"
    },
    {
     "name": "stdout",
     "output_type": "stream",
     "text": [
      "File HLS.S30.T11SKU.2017307T185431.v2.0.B01.tif already downloaded\n",
      "File HLS.S30.T11SKU.2017307T185431.v2.0.B12.tif already downloaded\n",
      "File HLS.S30.T11SKU.2017307T185431.v2.0.VAA.tif already downloaded\n",
      "File HLS.S30.T11SKU.2017307T185431.v2.0.B02.tif already downloaded\n",
      "File HLS.S30.T11SKU.2017307T185431.v2.0.SZA.tif already downloaded\n",
      "File HLS.S30.T11SKU.2017307T185431.v2.0.B8A.tif already downloaded\n",
      "File HLS.S30.T11SKU.2017307T185431.v2.0.B07.tif already downloaded\n",
      "File HLS.S30.T11SKU.2017307T185431.v2.0.B06.tif already downloaded\n",
      "File HLS.S30.T11SKU.2017307T185431.v2.0.B04.tif already downloaded\n",
      "File HLS.S30.T11SKU.2017307T185431.v2.0.B11.tif already downloaded\n",
      "File HLS.S30.T11SKU.2017307T185431.v2.0.B05.tif already downloaded\n",
      "File HLS.S30.T11SKU.2017307T185431.v2.0.SAA.tif already downloaded\n",
      "File HLS.S30.T11SKU.2017307T185431.v2.0.B09.tif already downloaded\n",
      "File HLS.S30.T11SKU.2017307T185431.v2.0.B03.tif already downloaded\n",
      "File HLS.S30.T11SKU.2017307T185431.v2.0.VZA.tif already downloaded\n",
      "File HLS.S30.T11SKU.2017307T185431.v2.0.B08.tif already downloaded\n",
      "File HLS.S30.T11SKU.2017307T185431.v2.0.B10.tif already downloaded\n",
      "File HLS.S30.T11SKU.2017307T185431.v2.0.Fmask.tif already downloaded\n"
     ]
    },
    {
     "data": {
      "application/vnd.jupyter.widget-view+json": {
       "model_id": "a23c486734a5410e98e86d1a60471a1b",
       "version_major": 2,
       "version_minor": 0
      },
      "text/plain": [
       "PROCESSING TASKS | :   0%|          | 0/18 [00:00<?, ?it/s]"
      ]
     },
     "metadata": {},
     "output_type": "display_data"
    },
    {
     "data": {
      "application/vnd.jupyter.widget-view+json": {
       "model_id": "8dedee091dd5482890a64a5d8b28deaa",
       "version_major": 2,
       "version_minor": 0
      },
      "text/plain": [
       "COLLECTING RESULTS | :   0%|          | 0/18 [00:00<?, ?it/s]"
      ]
     },
     "metadata": {},
     "output_type": "display_data"
    },
    {
     "name": "stdout",
     "output_type": "stream",
     "text": [
      "80\n",
      "11SKU\n",
      " Getting 1 granules, approx download size: 0.18 GB\n"
     ]
    },
    {
     "data": {
      "application/vnd.jupyter.widget-view+json": {
       "model_id": "ed803f05b7f043fea4518e6fbc88b78f",
       "version_major": 2,
       "version_minor": 0
      },
      "text/plain": [
       "QUEUEING TASKS | :   0%|          | 0/15 [00:00<?, ?it/s]"
      ]
     },
     "metadata": {},
     "output_type": "display_data"
    },
    {
     "name": "stdout",
     "output_type": "stream",
     "text": [
      "File HLS.L30.T11SKU.2017311T183423.v2.0.B04.tif already downloaded\n",
      "File HLS.L30.T11SKU.2017311T183423.v2.0.VZA.tif already downloaded\n",
      "File HLS.L30.T11SKU.2017311T183423.v2.0.B06.tif already downloaded\n",
      "File HLS.L30.T11SKU.2017311T183423.v2.0.B03.tif already downloaded\n",
      "File HLS.L30.T11SKU.2017311T183423.v2.0.SZA.tif already downloaded\n",
      "File HLS.L30.T11SKU.2017311T183423.v2.0.B02.tif already downloaded\n",
      "File HLS.L30.T11SKU.2017311T183423.v2.0.B07.tif already downloaded\n",
      "File HLS.L30.T11SKU.2017311T183423.v2.0.B11.tif already downloaded\n",
      "File HLS.L30.T11SKU.2017311T183423.v2.0.B10.tif already downloaded\n",
      "File HLS.L30.T11SKU.2017311T183423.v2.0.B09.tif already downloaded\n",
      "File HLS.L30.T11SKU.2017311T183423.v2.0.B05.tif already downloaded\n",
      "File HLS.L30.T11SKU.2017311T183423.v2.0.Fmask.tif already downloaded\n",
      "File HLS.L30.T11SKU.2017311T183423.v2.0.SAA.tif already downloaded\n",
      "File HLS.L30.T11SKU.2017311T183423.v2.0.B01.tif already downloaded\n",
      "File HLS.L30.T11SKU.2017311T183423.v2.0.VAA.tif already downloaded\n"
     ]
    },
    {
     "data": {
      "application/vnd.jupyter.widget-view+json": {
       "model_id": "ca98bd82e4b64b31a670ef9d30a314d9",
       "version_major": 2,
       "version_minor": 0
      },
      "text/plain": [
       "PROCESSING TASKS | :   0%|          | 0/15 [00:00<?, ?it/s]"
      ]
     },
     "metadata": {},
     "output_type": "display_data"
    },
    {
     "data": {
      "application/vnd.jupyter.widget-view+json": {
       "model_id": "d404b76dcac746619daf628b2435a87b",
       "version_major": 2,
       "version_minor": 0
      },
      "text/plain": [
       "COLLECTING RESULTS | :   0%|          | 0/15 [00:00<?, ?it/s]"
      ]
     },
     "metadata": {},
     "output_type": "display_data"
    },
    {
     "name": "stdout",
     "output_type": "stream",
     "text": [
      "81\n",
      "10SGD\n",
      " Getting 1 granules, approx download size: 0.17 GB\n"
     ]
    },
    {
     "data": {
      "application/vnd.jupyter.widget-view+json": {
       "model_id": "e4bea73e73f84686a14647d5cd8430d7",
       "version_major": 2,
       "version_minor": 0
      },
      "text/plain": [
       "QUEUEING TASKS | :   0%|          | 0/15 [00:00<?, ?it/s]"
      ]
     },
     "metadata": {},
     "output_type": "display_data"
    },
    {
     "name": "stdout",
     "output_type": "stream",
     "text": [
      "File HLS.L30.T10SGD.2017311T183447.v2.0.VAA.tif already downloadedFile HLS.L30.T10SGD.2017311T183447.v2.0.B05.tif already downloaded\n",
      "\n",
      "File HLS.L30.T10SGD.2017311T183447.v2.0.SAA.tif already downloaded\n",
      "File HLS.L30.T10SGD.2017311T183447.v2.0.VZA.tif already downloaded\n",
      "File HLS.L30.T10SGD.2017311T183447.v2.0.B01.tif already downloaded\n",
      "File HLS.L30.T10SGD.2017311T183447.v2.0.B07.tif already downloaded\n",
      "File HLS.L30.T10SGD.2017311T183447.v2.0.Fmask.tif already downloaded\n",
      "File HLS.L30.T10SGD.2017311T183447.v2.0.B02.tif already downloaded\n",
      "File HLS.L30.T10SGD.2017311T183447.v2.0.B04.tif already downloaded\n",
      "File HLS.L30.T10SGD.2017311T183447.v2.0.B10.tif already downloaded\n",
      "File HLS.L30.T10SGD.2017311T183447.v2.0.B11.tif already downloaded\n",
      "File HLS.L30.T10SGD.2017311T183447.v2.0.SZA.tif already downloaded\n",
      "File HLS.L30.T10SGD.2017311T183447.v2.0.B03.tif already downloaded\n",
      "File HLS.L30.T10SGD.2017311T183447.v2.0.B09.tif already downloaded\n",
      "File HLS.L30.T10SGD.2017311T183447.v2.0.B06.tif already downloaded\n"
     ]
    },
    {
     "data": {
      "application/vnd.jupyter.widget-view+json": {
       "model_id": "84535514c2984c98a07cf645cc74d6fa",
       "version_major": 2,
       "version_minor": 0
      },
      "text/plain": [
       "PROCESSING TASKS | :   0%|          | 0/15 [00:00<?, ?it/s]"
      ]
     },
     "metadata": {},
     "output_type": "display_data"
    },
    {
     "data": {
      "application/vnd.jupyter.widget-view+json": {
       "model_id": "05eb1ec7f267497cba9a05071ba8fd30",
       "version_major": 2,
       "version_minor": 0
      },
      "text/plain": [
       "COLLECTING RESULTS | :   0%|          | 0/15 [00:00<?, ?it/s]"
      ]
     },
     "metadata": {},
     "output_type": "display_data"
    },
    {
     "name": "stdout",
     "output_type": "stream",
     "text": [
      "82\n",
      "11SKU\n",
      " Getting 1 granules, approx download size: 0.22 GB\n"
     ]
    },
    {
     "data": {
      "application/vnd.jupyter.widget-view+json": {
       "model_id": "6590953db9034d0d87d671c575e16330",
       "version_major": 2,
       "version_minor": 0
      },
      "text/plain": [
       "QUEUEING TASKS | :   0%|          | 0/18 [00:00<?, ?it/s]"
      ]
     },
     "metadata": {},
     "output_type": "display_data"
    },
    {
     "name": "stdout",
     "output_type": "stream",
     "text": [
      "File HLS.S30.T11SKU.2017312T184549.v2.0.B8A.tif already downloadedFile HLS.S30.T11SKU.2017312T184549.v2.0.B02.tif already downloaded\n",
      "File HLS.S30.T11SKU.2017312T184549.v2.0.VAA.tif already downloaded\n",
      "\n",
      "File HLS.S30.T11SKU.2017312T184549.v2.0.B06.tif already downloaded\n",
      "File HLS.S30.T11SKU.2017312T184549.v2.0.B03.tif already downloaded\n",
      "File HLS.S30.T11SKU.2017312T184549.v2.0.VZA.tif already downloaded\n",
      "File HLS.S30.T11SKU.2017312T184549.v2.0.B08.tif already downloaded\n",
      "File HLS.S30.T11SKU.2017312T184549.v2.0.B11.tif already downloaded\n",
      "File HLS.S30.T11SKU.2017312T184549.v2.0.B07.tif already downloaded\n",
      "File HLS.S30.T11SKU.2017312T184549.v2.0.B01.tif already downloaded\n",
      "File HLS.S30.T11SKU.2017312T184549.v2.0.SZA.tif already downloaded\n",
      "File HLS.S30.T11SKU.2017312T184549.v2.0.SAA.tif already downloaded\n",
      "File HLS.S30.T11SKU.2017312T184549.v2.0.B04.tif already downloaded\n",
      "File HLS.S30.T11SKU.2017312T184549.v2.0.B12.tif already downloaded\n",
      "File HLS.S30.T11SKU.2017312T184549.v2.0.Fmask.tif already downloaded\n",
      "File HLS.S30.T11SKU.2017312T184549.v2.0.B09.tif already downloaded\n",
      "File HLS.S30.T11SKU.2017312T184549.v2.0.B10.tif already downloaded\n",
      "File HLS.S30.T11SKU.2017312T184549.v2.0.B05.tif already downloaded\n"
     ]
    },
    {
     "data": {
      "application/vnd.jupyter.widget-view+json": {
       "model_id": "9a98a1df4d284005be8610cacac71bd1",
       "version_major": 2,
       "version_minor": 0
      },
      "text/plain": [
       "PROCESSING TASKS | :   0%|          | 0/18 [00:00<?, ?it/s]"
      ]
     },
     "metadata": {},
     "output_type": "display_data"
    },
    {
     "data": {
      "application/vnd.jupyter.widget-view+json": {
       "model_id": "3a426caa03ef463c805ef69c7b20a00b",
       "version_major": 2,
       "version_minor": 0
      },
      "text/plain": [
       "COLLECTING RESULTS | :   0%|          | 0/18 [00:00<?, ?it/s]"
      ]
     },
     "metadata": {},
     "output_type": "display_data"
    },
    {
     "name": "stdout",
     "output_type": "stream",
     "text": [
      "83\n",
      "10SGD\n",
      " Getting 1 granules, approx download size: 0.23 GB\n"
     ]
    },
    {
     "data": {
      "application/vnd.jupyter.widget-view+json": {
       "model_id": "9afc4b1a0a5a40889e9d9048a98e7ed5",
       "version_major": 2,
       "version_minor": 0
      },
      "text/plain": [
       "QUEUEING TASKS | :   0%|          | 0/18 [00:00<?, ?it/s]"
      ]
     },
     "metadata": {},
     "output_type": "display_data"
    },
    {
     "name": "stdout",
     "output_type": "stream",
     "text": [
      "File HLS.S30.T10SGD.2017312T184549.v2.0.B02.tif already downloaded\n",
      "File HLS.S30.T10SGD.2017312T184549.v2.0.B12.tif already downloaded\n",
      "File HLS.S30.T10SGD.2017312T184549.v2.0.B07.tif already downloaded\n",
      "File HLS.S30.T10SGD.2017312T184549.v2.0.Fmask.tif already downloaded\n",
      "File HLS.S30.T10SGD.2017312T184549.v2.0.B8A.tif already downloaded\n",
      "File HLS.S30.T10SGD.2017312T184549.v2.0.B05.tif already downloaded\n",
      "File HLS.S30.T10SGD.2017312T184549.v2.0.B11.tif already downloaded\n",
      "File HLS.S30.T10SGD.2017312T184549.v2.0.B09.tif already downloaded\n",
      "File HLS.S30.T10SGD.2017312T184549.v2.0.SAA.tif already downloaded\n",
      "File HLS.S30.T10SGD.2017312T184549.v2.0.VAA.tif already downloaded\n",
      "File HLS.S30.T10SGD.2017312T184549.v2.0.B03.tif already downloaded\n",
      "File HLS.S30.T10SGD.2017312T184549.v2.0.B01.tif already downloaded\n",
      "File HLS.S30.T10SGD.2017312T184549.v2.0.B08.tif already downloaded\n",
      "File HLS.S30.T10SGD.2017312T184549.v2.0.B04.tif already downloaded\n",
      "File HLS.S30.T10SGD.2017312T184549.v2.0.B06.tif already downloaded\n",
      "File HLS.S30.T10SGD.2017312T184549.v2.0.B10.tif already downloaded\n",
      "File HLS.S30.T10SGD.2017312T184549.v2.0.SZA.tif already downloaded\n",
      "File HLS.S30.T10SGD.2017312T184549.v2.0.VZA.tif already downloaded\n"
     ]
    },
    {
     "data": {
      "application/vnd.jupyter.widget-view+json": {
       "model_id": "2d87d1fe84864d048e4b62ee74cdbf43",
       "version_major": 2,
       "version_minor": 0
      },
      "text/plain": [
       "PROCESSING TASKS | :   0%|          | 0/18 [00:00<?, ?it/s]"
      ]
     },
     "metadata": {},
     "output_type": "display_data"
    },
    {
     "data": {
      "application/vnd.jupyter.widget-view+json": {
       "model_id": "daef94ef730b45cf93631774d1e4e257",
       "version_major": 2,
       "version_minor": 0
      },
      "text/plain": [
       "COLLECTING RESULTS | :   0%|          | 0/18 [00:00<?, ?it/s]"
      ]
     },
     "metadata": {},
     "output_type": "display_data"
    },
    {
     "name": "stdout",
     "output_type": "stream",
     "text": [
      "84\n",
      "10SGD\n",
      " Getting 1 granules, approx download size: 0.2 GB\n"
     ]
    },
    {
     "data": {
      "application/vnd.jupyter.widget-view+json": {
       "model_id": "81d95d0043cc43278b575ed945074996",
       "version_major": 2,
       "version_minor": 0
      },
      "text/plain": [
       "QUEUEING TASKS | :   0%|          | 0/18 [00:00<?, ?it/s]"
      ]
     },
     "metadata": {},
     "output_type": "display_data"
    },
    {
     "name": "stdout",
     "output_type": "stream",
     "text": [
      "File HLS.S30.T10SGD.2017317T184631.v2.0.VZA.tif already downloaded\n",
      "File HLS.S30.T10SGD.2017317T184631.v2.0.B8A.tif already downloaded\n",
      "File HLS.S30.T10SGD.2017317T184631.v2.0.B03.tif already downloaded\n",
      "File HLS.S30.T10SGD.2017317T184631.v2.0.B04.tif already downloaded\n",
      "File HLS.S30.T10SGD.2017317T184631.v2.0.B07.tif already downloaded\n",
      "File HLS.S30.T10SGD.2017317T184631.v2.0.Fmask.tif already downloaded\n",
      "File HLS.S30.T10SGD.2017317T184631.v2.0.SZA.tif already downloaded\n",
      "File HLS.S30.T10SGD.2017317T184631.v2.0.B09.tif already downloaded\n",
      "File HLS.S30.T10SGD.2017317T184631.v2.0.SAA.tif already downloaded\n",
      "File HLS.S30.T10SGD.2017317T184631.v2.0.B05.tif already downloaded\n",
      "File HLS.S30.T10SGD.2017317T184631.v2.0.B08.tif already downloaded\n",
      "File HLS.S30.T10SGD.2017317T184631.v2.0.B11.tif already downloaded\n",
      "File HLS.S30.T10SGD.2017317T184631.v2.0.VAA.tif already downloaded\n",
      "File HLS.S30.T10SGD.2017317T184631.v2.0.B01.tif already downloaded\n",
      "File HLS.S30.T10SGD.2017317T184631.v2.0.B10.tif already downloaded\n",
      "File HLS.S30.T10SGD.2017317T184631.v2.0.B12.tif already downloaded\n",
      "File HLS.S30.T10SGD.2017317T184631.v2.0.B06.tif already downloaded\n",
      "File HLS.S30.T10SGD.2017317T184631.v2.0.B02.tif already downloaded\n"
     ]
    },
    {
     "data": {
      "application/vnd.jupyter.widget-view+json": {
       "model_id": "1997555d1cee43ff9f0afa2c51423f81",
       "version_major": 2,
       "version_minor": 0
      },
      "text/plain": [
       "PROCESSING TASKS | :   0%|          | 0/18 [00:00<?, ?it/s]"
      ]
     },
     "metadata": {},
     "output_type": "display_data"
    },
    {
     "data": {
      "application/vnd.jupyter.widget-view+json": {
       "model_id": "71c614400e4e4d8fa368db5b7f76d651",
       "version_major": 2,
       "version_minor": 0
      },
      "text/plain": [
       "COLLECTING RESULTS | :   0%|          | 0/18 [00:00<?, ?it/s]"
      ]
     },
     "metadata": {},
     "output_type": "display_data"
    },
    {
     "name": "stdout",
     "output_type": "stream",
     "text": [
      "85\n",
      "11SKU\n",
      " Getting 1 granules, approx download size: 0.21 GB\n"
     ]
    },
    {
     "data": {
      "application/vnd.jupyter.widget-view+json": {
       "model_id": "4553c4c49e5847d09a37a1a21474cdc5",
       "version_major": 2,
       "version_minor": 0
      },
      "text/plain": [
       "QUEUEING TASKS | :   0%|          | 0/18 [00:00<?, ?it/s]"
      ]
     },
     "metadata": {},
     "output_type": "display_data"
    },
    {
     "name": "stdout",
     "output_type": "stream",
     "text": [
      "File HLS.S30.T11SKU.2017317T184631.v2.0.B11.tif already downloaded\n",
      "File HLS.S30.T11SKU.2017317T184631.v2.0.SZA.tif already downloaded\n",
      "File HLS.S30.T11SKU.2017317T184631.v2.0.VZA.tif already downloaded\n",
      "File HLS.S30.T11SKU.2017317T184631.v2.0.B12.tif already downloaded\n",
      "File HLS.S30.T11SKU.2017317T184631.v2.0.B01.tif already downloaded\n",
      "File HLS.S30.T11SKU.2017317T184631.v2.0.B02.tif already downloaded\n",
      "File HLS.S30.T11SKU.2017317T184631.v2.0.VAA.tif already downloaded\n",
      "File HLS.S30.T11SKU.2017317T184631.v2.0.B04.tif already downloaded\n",
      "File HLS.S30.T11SKU.2017317T184631.v2.0.B09.tif already downloaded\n",
      "File HLS.S30.T11SKU.2017317T184631.v2.0.B03.tif already downloaded\n",
      "File HLS.S30.T11SKU.2017317T184631.v2.0.B07.tif already downloaded\n",
      "File HLS.S30.T11SKU.2017317T184631.v2.0.SAA.tif already downloaded\n",
      "File HLS.S30.T11SKU.2017317T184631.v2.0.Fmask.tif already downloaded\n",
      "File HLS.S30.T11SKU.2017317T184631.v2.0.B05.tif already downloaded\n",
      "File HLS.S30.T11SKU.2017317T184631.v2.0.B8A.tif already downloaded\n",
      "File HLS.S30.T11SKU.2017317T184631.v2.0.B06.tif already downloaded\n",
      "File HLS.S30.T11SKU.2017317T184631.v2.0.B10.tif already downloaded\n",
      "File HLS.S30.T11SKU.2017317T184631.v2.0.B08.tif already downloaded\n"
     ]
    },
    {
     "data": {
      "application/vnd.jupyter.widget-view+json": {
       "model_id": "068a19522b714a80b2c7d74a8baa5ebd",
       "version_major": 2,
       "version_minor": 0
      },
      "text/plain": [
       "PROCESSING TASKS | :   0%|          | 0/18 [00:00<?, ?it/s]"
      ]
     },
     "metadata": {},
     "output_type": "display_data"
    },
    {
     "data": {
      "application/vnd.jupyter.widget-view+json": {
       "model_id": "5db75c86575242ef8ee08c8487e94114",
       "version_major": 2,
       "version_minor": 0
      },
      "text/plain": [
       "COLLECTING RESULTS | :   0%|          | 0/18 [00:00<?, ?it/s]"
      ]
     },
     "metadata": {},
     "output_type": "display_data"
    },
    {
     "name": "stdout",
     "output_type": "stream",
     "text": [
      "86\n",
      "10SGD\n",
      " Getting 1 granules, approx download size: 0.19 GB\n"
     ]
    },
    {
     "data": {
      "application/vnd.jupyter.widget-view+json": {
       "model_id": "9c076acd87fd4958b1247c8520798fc8",
       "version_major": 2,
       "version_minor": 0
      },
      "text/plain": [
       "QUEUEING TASKS | :   0%|          | 0/18 [00:00<?, ?it/s]"
      ]
     },
     "metadata": {},
     "output_type": "display_data"
    },
    {
     "name": "stdout",
     "output_type": "stream",
     "text": [
      "File HLS.S30.T10SGD.2017322T184639.v2.0.B11.tif already downloaded\n",
      "File HLS.S30.T10SGD.2017322T184639.v2.0.B09.tif already downloadedFile HLS.S30.T10SGD.2017322T184639.v2.0.B8A.tif already downloaded\n",
      "File HLS.S30.T10SGD.2017322T184639.v2.0.B03.tif already downloaded\n",
      "\n",
      "File HLS.S30.T10SGD.2017322T184639.v2.0.B06.tif already downloaded\n",
      "File HLS.S30.T10SGD.2017322T184639.v2.0.VZA.tif already downloaded\n",
      "File HLS.S30.T10SGD.2017322T184639.v2.0.B01.tif already downloaded\n",
      "File HLS.S30.T10SGD.2017322T184639.v2.0.B12.tif already downloaded\n",
      "File HLS.S30.T10SGD.2017322T184639.v2.0.SAA.tif already downloaded\n",
      "File HLS.S30.T10SGD.2017322T184639.v2.0.Fmask.tif already downloaded\n",
      "File HLS.S30.T10SGD.2017322T184639.v2.0.VAA.tif already downloaded\n",
      "File HLS.S30.T10SGD.2017322T184639.v2.0.B08.tif already downloaded\n",
      "File HLS.S30.T10SGD.2017322T184639.v2.0.B10.tif already downloaded\n",
      "File HLS.S30.T10SGD.2017322T184639.v2.0.B05.tif already downloaded\n",
      "File HLS.S30.T10SGD.2017322T184639.v2.0.SZA.tif already downloaded\n",
      "File HLS.S30.T10SGD.2017322T184639.v2.0.B02.tif already downloaded\n",
      "File HLS.S30.T10SGD.2017322T184639.v2.0.B07.tif already downloaded\n",
      "File HLS.S30.T10SGD.2017322T184639.v2.0.B04.tif already downloaded\n"
     ]
    },
    {
     "data": {
      "application/vnd.jupyter.widget-view+json": {
       "model_id": "0cc3dc890abd48b39b9d713d89ffb624",
       "version_major": 2,
       "version_minor": 0
      },
      "text/plain": [
       "PROCESSING TASKS | :   0%|          | 0/18 [00:00<?, ?it/s]"
      ]
     },
     "metadata": {},
     "output_type": "display_data"
    },
    {
     "data": {
      "application/vnd.jupyter.widget-view+json": {
       "model_id": "ade06f3cd3dc4cc1835ee1af68d394ae",
       "version_major": 2,
       "version_minor": 0
      },
      "text/plain": [
       "COLLECTING RESULTS | :   0%|          | 0/18 [00:00<?, ?it/s]"
      ]
     },
     "metadata": {},
     "output_type": "display_data"
    },
    {
     "name": "stdout",
     "output_type": "stream",
     "text": [
      "87\n",
      "11SKU\n",
      " Getting 1 granules, approx download size: 0.21 GB\n"
     ]
    },
    {
     "data": {
      "application/vnd.jupyter.widget-view+json": {
       "model_id": "0b1e29a67da24e3891008b8219cbf29c",
       "version_major": 2,
       "version_minor": 0
      },
      "text/plain": [
       "QUEUEING TASKS | :   0%|          | 0/18 [00:00<?, ?it/s]"
      ]
     },
     "metadata": {},
     "output_type": "display_data"
    },
    {
     "name": "stdout",
     "output_type": "stream",
     "text": [
      "File HLS.S30.T11SKU.2017322T184639.v2.0.B10.tif already downloaded\n",
      "File HLS.S30.T11SKU.2017322T184639.v2.0.B12.tif already downloaded\n",
      "File HLS.S30.T11SKU.2017322T184639.v2.0.B03.tif already downloaded\n",
      "File HLS.S30.T11SKU.2017322T184639.v2.0.B01.tif already downloaded\n",
      "File HLS.S30.T11SKU.2017322T184639.v2.0.VZA.tif already downloaded\n",
      "File HLS.S30.T11SKU.2017322T184639.v2.0.Fmask.tif already downloaded\n",
      "File HLS.S30.T11SKU.2017322T184639.v2.0.B11.tif already downloaded\n",
      "File HLS.S30.T11SKU.2017322T184639.v2.0.B04.tif already downloaded\n",
      "File HLS.S30.T11SKU.2017322T184639.v2.0.B02.tif already downloaded\n",
      "File HLS.S30.T11SKU.2017322T184639.v2.0.B08.tif already downloaded\n",
      "File HLS.S30.T11SKU.2017322T184639.v2.0.SZA.tif already downloaded\n",
      "File HLS.S30.T11SKU.2017322T184639.v2.0.B06.tif already downloaded\n",
      "File HLS.S30.T11SKU.2017322T184639.v2.0.B8A.tif already downloaded\n",
      "File HLS.S30.T11SKU.2017322T184639.v2.0.B09.tif already downloaded\n",
      "File HLS.S30.T11SKU.2017322T184639.v2.0.VAA.tif already downloaded\n",
      "File HLS.S30.T11SKU.2017322T184639.v2.0.SAA.tif already downloaded\n",
      "File HLS.S30.T11SKU.2017322T184639.v2.0.B07.tif already downloaded\n",
      "File HLS.S30.T11SKU.2017322T184639.v2.0.B05.tif already downloaded\n"
     ]
    },
    {
     "data": {
      "application/vnd.jupyter.widget-view+json": {
       "model_id": "cdd68e4d000b4c3199cbbc1951d3b16a",
       "version_major": 2,
       "version_minor": 0
      },
      "text/plain": [
       "PROCESSING TASKS | :   0%|          | 0/18 [00:00<?, ?it/s]"
      ]
     },
     "metadata": {},
     "output_type": "display_data"
    },
    {
     "data": {
      "application/vnd.jupyter.widget-view+json": {
       "model_id": "84cab2fe924b477191812528b1a01960",
       "version_major": 2,
       "version_minor": 0
      },
      "text/plain": [
       "COLLECTING RESULTS | :   0%|          | 0/18 [00:00<?, ?it/s]"
      ]
     },
     "metadata": {},
     "output_type": "display_data"
    },
    {
     "name": "stdout",
     "output_type": "stream",
     "text": [
      "88\n",
      "11SKU\n",
      " Getting 1 granules, approx download size: 0.18 GB\n"
     ]
    },
    {
     "data": {
      "application/vnd.jupyter.widget-view+json": {
       "model_id": "84b095ae6dd74c7f851f37789c62f705",
       "version_major": 2,
       "version_minor": 0
      },
      "text/plain": [
       "QUEUEING TASKS | :   0%|          | 0/15 [00:00<?, ?it/s]"
      ]
     },
     "metadata": {},
     "output_type": "display_data"
    },
    {
     "name": "stdout",
     "output_type": "stream",
     "text": [
      "File HLS.L30.T11SKU.2017327T183418.v2.0.B02.tif already downloaded\n",
      "File HLS.L30.T11SKU.2017327T183418.v2.0.SAA.tif already downloaded\n",
      "File HLS.L30.T11SKU.2017327T183418.v2.0.B07.tif already downloaded\n",
      "File HLS.L30.T11SKU.2017327T183418.v2.0.VZA.tif already downloaded\n",
      "File HLS.L30.T11SKU.2017327T183418.v2.0.B01.tif already downloaded\n",
      "File HLS.L30.T11SKU.2017327T183418.v2.0.B04.tif already downloaded\n",
      "File HLS.L30.T11SKU.2017327T183418.v2.0.B06.tif already downloaded\n",
      "File HLS.L30.T11SKU.2017327T183418.v2.0.B03.tif already downloaded\n",
      "File HLS.L30.T11SKU.2017327T183418.v2.0.B09.tif already downloaded\n",
      "File HLS.L30.T11SKU.2017327T183418.v2.0.B11.tif already downloaded\n",
      "File HLS.L30.T11SKU.2017327T183418.v2.0.Fmask.tif already downloaded\n",
      "File HLS.L30.T11SKU.2017327T183418.v2.0.VAA.tif already downloaded\n",
      "File HLS.L30.T11SKU.2017327T183418.v2.0.B10.tif already downloaded\n",
      "File HLS.L30.T11SKU.2017327T183418.v2.0.SZA.tif already downloaded\n",
      "File HLS.L30.T11SKU.2017327T183418.v2.0.B05.tif already downloaded\n"
     ]
    },
    {
     "data": {
      "application/vnd.jupyter.widget-view+json": {
       "model_id": "468beb0215a442a9b7dfbd6d57425aca",
       "version_major": 2,
       "version_minor": 0
      },
      "text/plain": [
       "PROCESSING TASKS | :   0%|          | 0/15 [00:00<?, ?it/s]"
      ]
     },
     "metadata": {},
     "output_type": "display_data"
    },
    {
     "data": {
      "application/vnd.jupyter.widget-view+json": {
       "model_id": "7db150842a54465ba91bc401274bcbe4",
       "version_major": 2,
       "version_minor": 0
      },
      "text/plain": [
       "COLLECTING RESULTS | :   0%|          | 0/15 [00:00<?, ?it/s]"
      ]
     },
     "metadata": {},
     "output_type": "display_data"
    },
    {
     "name": "stdout",
     "output_type": "stream",
     "text": [
      "89\n",
      "10SGD\n",
      " Getting 1 granules, approx download size: 0.16 GB\n"
     ]
    },
    {
     "data": {
      "application/vnd.jupyter.widget-view+json": {
       "model_id": "236b1d6e199f4bea983288914ae94683",
       "version_major": 2,
       "version_minor": 0
      },
      "text/plain": [
       "QUEUEING TASKS | :   0%|          | 0/15 [00:00<?, ?it/s]"
      ]
     },
     "metadata": {},
     "output_type": "display_data"
    },
    {
     "name": "stdout",
     "output_type": "stream",
     "text": [
      "File HLS.L30.T10SGD.2017327T183442.v2.0.B02.tif already downloaded\n",
      "File HLS.L30.T10SGD.2017327T183442.v2.0.B06.tif already downloaded\n",
      "File HLS.L30.T10SGD.2017327T183442.v2.0.B04.tif already downloaded\n",
      "File HLS.L30.T10SGD.2017327T183442.v2.0.B05.tif already downloaded\n",
      "File HLS.L30.T10SGD.2017327T183442.v2.0.SAA.tif already downloaded\n",
      "File HLS.L30.T10SGD.2017327T183442.v2.0.VZA.tif already downloaded\n",
      "File HLS.L30.T10SGD.2017327T183442.v2.0.B01.tif already downloaded\n",
      "File HLS.L30.T10SGD.2017327T183442.v2.0.B09.tif already downloaded\n",
      "File HLS.L30.T10SGD.2017327T183442.v2.0.B07.tif already downloaded\n",
      "File HLS.L30.T10SGD.2017327T183442.v2.0.VAA.tif already downloaded\n",
      "File HLS.L30.T10SGD.2017327T183442.v2.0.B10.tif already downloaded\n",
      "File HLS.L30.T10SGD.2017327T183442.v2.0.SZA.tif already downloaded\n",
      "File HLS.L30.T10SGD.2017327T183442.v2.0.B03.tif already downloaded\n",
      "File HLS.L30.T10SGD.2017327T183442.v2.0.B11.tif already downloaded\n",
      "File HLS.L30.T10SGD.2017327T183442.v2.0.Fmask.tif already downloaded\n"
     ]
    },
    {
     "data": {
      "application/vnd.jupyter.widget-view+json": {
       "model_id": "68c95e751f324938b51f48c42c53b490",
       "version_major": 2,
       "version_minor": 0
      },
      "text/plain": [
       "PROCESSING TASKS | :   0%|          | 0/15 [00:00<?, ?it/s]"
      ]
     },
     "metadata": {},
     "output_type": "display_data"
    },
    {
     "data": {
      "application/vnd.jupyter.widget-view+json": {
       "model_id": "d5ed75c056304e07bb48d8b6d606f859",
       "version_major": 2,
       "version_minor": 0
      },
      "text/plain": [
       "COLLECTING RESULTS | :   0%|          | 0/15 [00:00<?, ?it/s]"
      ]
     },
     "metadata": {},
     "output_type": "display_data"
    },
    {
     "name": "stdout",
     "output_type": "stream",
     "text": [
      "90\n",
      "11SKU\n",
      " Getting 1 granules, approx download size: 0.21 GB\n"
     ]
    },
    {
     "data": {
      "application/vnd.jupyter.widget-view+json": {
       "model_id": "8bb367893e5944d39d004641a36a1ed1",
       "version_major": 2,
       "version_minor": 0
      },
      "text/plain": [
       "QUEUEING TASKS | :   0%|          | 0/18 [00:00<?, ?it/s]"
      ]
     },
     "metadata": {},
     "output_type": "display_data"
    },
    {
     "name": "stdout",
     "output_type": "stream",
     "text": [
      "File HLS.S30.T11SKU.2017327T185421.v2.0.B12.tif already downloaded\n",
      "File HLS.S30.T11SKU.2017327T185421.v2.0.VZA.tif already downloaded\n",
      "File HLS.S30.T11SKU.2017327T185421.v2.0.B01.tif already downloaded\n",
      "File HLS.S30.T11SKU.2017327T185421.v2.0.B08.tif already downloaded\n",
      "File HLS.S30.T11SKU.2017327T185421.v2.0.Fmask.tif already downloaded\n",
      "File HLS.S30.T11SKU.2017327T185421.v2.0.B11.tif already downloaded\n",
      "File HLS.S30.T11SKU.2017327T185421.v2.0.B07.tif already downloaded\n",
      "File HLS.S30.T11SKU.2017327T185421.v2.0.B04.tif already downloaded\n",
      "File HLS.S30.T11SKU.2017327T185421.v2.0.B8A.tif already downloaded\n",
      "File HLS.S30.T11SKU.2017327T185421.v2.0.B05.tif already downloaded\n",
      "File HLS.S30.T11SKU.2017327T185421.v2.0.VAA.tif already downloaded\n",
      "File HLS.S30.T11SKU.2017327T185421.v2.0.B09.tif already downloaded\n",
      "File HLS.S30.T11SKU.2017327T185421.v2.0.SAA.tif already downloaded\n",
      "File HLS.S30.T11SKU.2017327T185421.v2.0.B03.tif already downloaded\n",
      "File HLS.S30.T11SKU.2017327T185421.v2.0.B02.tif already downloaded\n",
      "File HLS.S30.T11SKU.2017327T185421.v2.0.B10.tif already downloaded\n",
      "File HLS.S30.T11SKU.2017327T185421.v2.0.B06.tif already downloaded\n",
      "File HLS.S30.T11SKU.2017327T185421.v2.0.SZA.tif already downloaded\n"
     ]
    },
    {
     "data": {
      "application/vnd.jupyter.widget-view+json": {
       "model_id": "822e7459095a4e4bb87a9c2fd3dc1143",
       "version_major": 2,
       "version_minor": 0
      },
      "text/plain": [
       "PROCESSING TASKS | :   0%|          | 0/18 [00:00<?, ?it/s]"
      ]
     },
     "metadata": {},
     "output_type": "display_data"
    },
    {
     "data": {
      "application/vnd.jupyter.widget-view+json": {
       "model_id": "d18ba077e65e46b7b5a0d1ebd07caf9b",
       "version_major": 2,
       "version_minor": 0
      },
      "text/plain": [
       "COLLECTING RESULTS | :   0%|          | 0/18 [00:00<?, ?it/s]"
      ]
     },
     "metadata": {},
     "output_type": "display_data"
    },
    {
     "name": "stdout",
     "output_type": "stream",
     "text": [
      "91\n",
      "10SGD\n",
      " Getting 1 granules, approx download size: 0.2 GB\n"
     ]
    },
    {
     "data": {
      "application/vnd.jupyter.widget-view+json": {
       "model_id": "6139778950a94d489b2fa44d381d4d7c",
       "version_major": 2,
       "version_minor": 0
      },
      "text/plain": [
       "QUEUEING TASKS | :   0%|          | 0/18 [00:00<?, ?it/s]"
      ]
     },
     "metadata": {},
     "output_type": "display_data"
    },
    {
     "name": "stdout",
     "output_type": "stream",
     "text": [
      "File HLS.S30.T10SGD.2017327T185421.v2.0.SZA.tif already downloaded\n",
      "File HLS.S30.T10SGD.2017327T185421.v2.0.B09.tif already downloaded\n",
      "File HLS.S30.T10SGD.2017327T185421.v2.0.B04.tif already downloaded\n",
      "File HLS.S30.T10SGD.2017327T185421.v2.0.B08.tif already downloaded\n",
      "File HLS.S30.T10SGD.2017327T185421.v2.0.B07.tif already downloaded\n",
      "File HLS.S30.T10SGD.2017327T185421.v2.0.SAA.tif already downloaded\n",
      "File HLS.S30.T10SGD.2017327T185421.v2.0.B02.tif already downloaded\n",
      "File HLS.S30.T10SGD.2017327T185421.v2.0.B8A.tif already downloaded\n",
      "File HLS.S30.T10SGD.2017327T185421.v2.0.VAA.tif already downloaded\n",
      "File HLS.S30.T10SGD.2017327T185421.v2.0.B03.tif already downloaded\n",
      "File HLS.S30.T10SGD.2017327T185421.v2.0.B11.tif already downloaded\n",
      "File HLS.S30.T10SGD.2017327T185421.v2.0.VZA.tif already downloaded\n",
      "File HLS.S30.T10SGD.2017327T185421.v2.0.B01.tif already downloaded\n",
      "File HLS.S30.T10SGD.2017327T185421.v2.0.B12.tif already downloaded\n",
      "File HLS.S30.T10SGD.2017327T185421.v2.0.Fmask.tif already downloaded\n",
      "File HLS.S30.T10SGD.2017327T185421.v2.0.B10.tif already downloaded\n",
      "File HLS.S30.T10SGD.2017327T185421.v2.0.B06.tif already downloaded\n",
      "File HLS.S30.T10SGD.2017327T185421.v2.0.B05.tif already downloaded\n"
     ]
    },
    {
     "data": {
      "application/vnd.jupyter.widget-view+json": {
       "model_id": "71e2040a1a0644188e84be9d519c1cea",
       "version_major": 2,
       "version_minor": 0
      },
      "text/plain": [
       "PROCESSING TASKS | :   0%|          | 0/18 [00:00<?, ?it/s]"
      ]
     },
     "metadata": {},
     "output_type": "display_data"
    },
    {
     "data": {
      "application/vnd.jupyter.widget-view+json": {
       "model_id": "8798133537554ed4bba090c8392cb570",
       "version_major": 2,
       "version_minor": 0
      },
      "text/plain": [
       "COLLECTING RESULTS | :   0%|          | 0/18 [00:00<?, ?it/s]"
      ]
     },
     "metadata": {},
     "output_type": "display_data"
    },
    {
     "name": "stdout",
     "output_type": "stream",
     "text": [
      "92\n",
      "11SKU\n",
      " Getting 1 granules, approx download size: 0.21 GB\n"
     ]
    },
    {
     "data": {
      "application/vnd.jupyter.widget-view+json": {
       "model_id": "f5c768f5375f4532aba8037e9d0b5391",
       "version_major": 2,
       "version_minor": 0
      },
      "text/plain": [
       "QUEUEING TASKS | :   0%|          | 0/18 [00:00<?, ?it/s]"
      ]
     },
     "metadata": {},
     "output_type": "display_data"
    },
    {
     "name": "stdout",
     "output_type": "stream",
     "text": [
      "File HLS.S30.T11SKU.2017332T184719.v2.0.B8A.tif already downloaded\n",
      "File HLS.S30.T11SKU.2017332T184719.v2.0.B01.tif already downloaded\n",
      "File HLS.S30.T11SKU.2017332T184719.v2.0.B05.tif already downloaded\n",
      "File HLS.S30.T11SKU.2017332T184719.v2.0.B02.tif already downloaded\n",
      "File HLS.S30.T11SKU.2017332T184719.v2.0.SAA.tif already downloaded\n",
      "File HLS.S30.T11SKU.2017332T184719.v2.0.SZA.tif already downloaded\n",
      "File HLS.S30.T11SKU.2017332T184719.v2.0.B08.tif already downloaded\n",
      "File HLS.S30.T11SKU.2017332T184719.v2.0.VZA.tif already downloaded\n",
      "File HLS.S30.T11SKU.2017332T184719.v2.0.B04.tif already downloaded\n",
      "File HLS.S30.T11SKU.2017332T184719.v2.0.B10.tif already downloaded\n",
      "File HLS.S30.T11SKU.2017332T184719.v2.0.B11.tif already downloaded\n",
      "File HLS.S30.T11SKU.2017332T184719.v2.0.VAA.tif already downloaded\n",
      "File HLS.S30.T11SKU.2017332T184719.v2.0.B06.tif already downloaded\n",
      "File HLS.S30.T11SKU.2017332T184719.v2.0.Fmask.tif already downloaded\n",
      "File HLS.S30.T11SKU.2017332T184719.v2.0.B07.tif already downloaded\n",
      "File HLS.S30.T11SKU.2017332T184719.v2.0.B03.tif already downloaded\n",
      "File HLS.S30.T11SKU.2017332T184719.v2.0.B09.tif already downloaded\n",
      "File HLS.S30.T11SKU.2017332T184719.v2.0.B12.tif already downloaded\n"
     ]
    },
    {
     "data": {
      "application/vnd.jupyter.widget-view+json": {
       "model_id": "34099b7d5e61484c8f68f4c18687f9d3",
       "version_major": 2,
       "version_minor": 0
      },
      "text/plain": [
       "PROCESSING TASKS | :   0%|          | 0/18 [00:00<?, ?it/s]"
      ]
     },
     "metadata": {},
     "output_type": "display_data"
    },
    {
     "data": {
      "application/vnd.jupyter.widget-view+json": {
       "model_id": "4bab9685ec16443594c3a914e4150f6e",
       "version_major": 2,
       "version_minor": 0
      },
      "text/plain": [
       "COLLECTING RESULTS | :   0%|          | 0/18 [00:00<?, ?it/s]"
      ]
     },
     "metadata": {},
     "output_type": "display_data"
    },
    {
     "name": "stdout",
     "output_type": "stream",
     "text": [
      "93\n",
      "10SGD\n",
      " Getting 1 granules, approx download size: 0.2 GB\n"
     ]
    },
    {
     "data": {
      "application/vnd.jupyter.widget-view+json": {
       "model_id": "22f0b5c0acf64eaf8981ad2cc59d4cc1",
       "version_major": 2,
       "version_minor": 0
      },
      "text/plain": [
       "QUEUEING TASKS | :   0%|          | 0/18 [00:00<?, ?it/s]"
      ]
     },
     "metadata": {},
     "output_type": "display_data"
    },
    {
     "name": "stdout",
     "output_type": "stream",
     "text": [
      "File HLS.S30.T10SGD.2017332T184719.v2.0.B12.tif already downloadedFile HLS.S30.T10SGD.2017332T184719.v2.0.Fmask.tif already downloaded\n",
      "\n",
      "File HLS.S30.T10SGD.2017332T184719.v2.0.VAA.tif already downloaded\n",
      "File HLS.S30.T10SGD.2017332T184719.v2.0.SZA.tif already downloaded\n",
      "File HLS.S30.T10SGD.2017332T184719.v2.0.B02.tif already downloaded\n",
      "File HLS.S30.T10SGD.2017332T184719.v2.0.B09.tif already downloaded\n",
      "File HLS.S30.T10SGD.2017332T184719.v2.0.VZA.tif already downloaded\n",
      "File HLS.S30.T10SGD.2017332T184719.v2.0.B8A.tif already downloaded\n",
      "File HLS.S30.T10SGD.2017332T184719.v2.0.B04.tif already downloaded\n",
      "File HLS.S30.T10SGD.2017332T184719.v2.0.B11.tif already downloaded\n",
      "File HLS.S30.T10SGD.2017332T184719.v2.0.SAA.tif already downloaded\n",
      "File HLS.S30.T10SGD.2017332T184719.v2.0.B08.tif already downloaded\n",
      "File HLS.S30.T10SGD.2017332T184719.v2.0.B01.tif already downloaded\n",
      "File HLS.S30.T10SGD.2017332T184719.v2.0.B03.tif already downloaded\n",
      "File HLS.S30.T10SGD.2017332T184719.v2.0.B06.tif already downloaded\n",
      "File HLS.S30.T10SGD.2017332T184719.v2.0.B05.tif already downloaded\n",
      "File HLS.S30.T10SGD.2017332T184719.v2.0.B10.tif already downloaded\n",
      "File HLS.S30.T10SGD.2017332T184719.v2.0.B07.tif already downloaded\n"
     ]
    },
    {
     "data": {
      "application/vnd.jupyter.widget-view+json": {
       "model_id": "89e0bad9dae1444188d1e8d724b68f85",
       "version_major": 2,
       "version_minor": 0
      },
      "text/plain": [
       "PROCESSING TASKS | :   0%|          | 0/18 [00:00<?, ?it/s]"
      ]
     },
     "metadata": {},
     "output_type": "display_data"
    },
    {
     "data": {
      "application/vnd.jupyter.widget-view+json": {
       "model_id": "465fb86bfbbe48938773897c45fd407f",
       "version_major": 2,
       "version_minor": 0
      },
      "text/plain": [
       "COLLECTING RESULTS | :   0%|          | 0/18 [00:00<?, ?it/s]"
      ]
     },
     "metadata": {},
     "output_type": "display_data"
    },
    {
     "name": "stdout",
     "output_type": "stream",
     "text": [
      "94\n",
      "10SGD\n",
      " Getting 1 granules, approx download size: 0.2 GB\n"
     ]
    },
    {
     "data": {
      "application/vnd.jupyter.widget-view+json": {
       "model_id": "0b0b9b653f4548f9a0215e47755137b6",
       "version_major": 2,
       "version_minor": 0
      },
      "text/plain": [
       "QUEUEING TASKS | :   0%|          | 0/18 [00:00<?, ?it/s]"
      ]
     },
     "metadata": {},
     "output_type": "display_data"
    },
    {
     "name": "stdout",
     "output_type": "stream",
     "text": [
      "File HLS.S30.T10SGD.2017337T184741.v2.0.B04.tif already downloaded\n",
      "File HLS.S30.T10SGD.2017337T184741.v2.0.B05.tif already downloaded\n",
      "File HLS.S30.T10SGD.2017337T184741.v2.0.B07.tif already downloaded\n",
      "File HLS.S30.T10SGD.2017337T184741.v2.0.B11.tif already downloaded\n",
      "File HLS.S30.T10SGD.2017337T184741.v2.0.B12.tif already downloaded\n",
      "File HLS.S30.T10SGD.2017337T184741.v2.0.B8A.tif already downloaded\n",
      "File HLS.S30.T10SGD.2017337T184741.v2.0.B03.tif already downloaded\n"
     ]
    },
    {
     "data": {
      "application/vnd.jupyter.widget-view+json": {
       "model_id": "f6050aa854c643d8be6c30910e491af0",
       "version_major": 2,
       "version_minor": 0
      },
      "text/plain": [
       "PROCESSING TASKS | :   0%|          | 0/18 [00:00<?, ?it/s]"
      ]
     },
     "metadata": {},
     "output_type": "display_data"
    },
    {
     "name": "stdout",
     "output_type": "stream",
     "text": [
      "File HLS.S30.T10SGD.2017337T184741.v2.0.Fmask.tif already downloaded\n",
      "File HLS.S30.T10SGD.2017337T184741.v2.0.B10.tif already downloaded\n",
      "File HLS.S30.T10SGD.2017337T184741.v2.0.VZA.tif already downloaded\n",
      "File HLS.S30.T10SGD.2017337T184741.v2.0.B08.tif already downloaded\n",
      "File HLS.S30.T10SGD.2017337T184741.v2.0.B06.tif already downloaded\n",
      "File HLS.S30.T10SGD.2017337T184741.v2.0.B01.tif already downloaded\n",
      "File HLS.S30.T10SGD.2017337T184741.v2.0.B09.tif already downloaded\n",
      "File HLS.S30.T10SGD.2017337T184741.v2.0.B02.tif already downloaded\n",
      "File HLS.S30.T10SGD.2017337T184741.v2.0.SZA.tif already downloaded\n",
      "File HLS.S30.T10SGD.2017337T184741.v2.0.VAA.tif already downloaded\n",
      "File HLS.S30.T10SGD.2017337T184741.v2.0.SAA.tif already downloaded\n"
     ]
    },
    {
     "data": {
      "application/vnd.jupyter.widget-view+json": {
       "model_id": "3e0542f7282d4454a23d63932e51f5e8",
       "version_major": 2,
       "version_minor": 0
      },
      "text/plain": [
       "COLLECTING RESULTS | :   0%|          | 0/18 [00:00<?, ?it/s]"
      ]
     },
     "metadata": {},
     "output_type": "display_data"
    },
    {
     "name": "stdout",
     "output_type": "stream",
     "text": [
      "95\n",
      "11SKU\n",
      " Getting 1 granules, approx download size: 0.22 GB\n"
     ]
    },
    {
     "data": {
      "application/vnd.jupyter.widget-view+json": {
       "model_id": "233e85fb874a4b5097fb733a5af252bc",
       "version_major": 2,
       "version_minor": 0
      },
      "text/plain": [
       "QUEUEING TASKS | :   0%|          | 0/18 [00:00<?, ?it/s]"
      ]
     },
     "metadata": {},
     "output_type": "display_data"
    },
    {
     "name": "stdout",
     "output_type": "stream",
     "text": [
      "File HLS.S30.T11SKU.2017337T184741.v2.0.Fmask.tif already downloaded\n",
      "File HLS.S30.T11SKU.2017337T184741.v2.0.B12.tif already downloaded\n",
      "File HLS.S30.T11SKU.2017337T184741.v2.0.B04.tif already downloaded\n",
      "File HLS.S30.T11SKU.2017337T184741.v2.0.SZA.tif already downloaded\n",
      "File HLS.S30.T11SKU.2017337T184741.v2.0.VZA.tif already downloaded\n",
      "File HLS.S30.T11SKU.2017337T184741.v2.0.B02.tif already downloaded\n",
      "File HLS.S30.T11SKU.2017337T184741.v2.0.B11.tif already downloaded\n",
      "File HLS.S30.T11SKU.2017337T184741.v2.0.B03.tif already downloaded\n",
      "File HLS.S30.T11SKU.2017337T184741.v2.0.B01.tif already downloaded\n",
      "File HLS.S30.T11SKU.2017337T184741.v2.0.B8A.tif already downloaded\n",
      "File HLS.S30.T11SKU.2017337T184741.v2.0.B07.tif already downloaded\n",
      "File HLS.S30.T11SKU.2017337T184741.v2.0.B06.tif already downloaded\n",
      "File HLS.S30.T11SKU.2017337T184741.v2.0.VAA.tif already downloaded\n",
      "File HLS.S30.T11SKU.2017337T184741.v2.0.SAA.tif already downloaded\n",
      "File HLS.S30.T11SKU.2017337T184741.v2.0.B08.tif already downloaded\n",
      "File HLS.S30.T11SKU.2017337T184741.v2.0.B05.tif already downloaded\n",
      "File HLS.S30.T11SKU.2017337T184741.v2.0.B10.tif already downloaded\n",
      "File HLS.S30.T11SKU.2017337T184741.v2.0.B09.tif already downloaded\n"
     ]
    },
    {
     "data": {
      "application/vnd.jupyter.widget-view+json": {
       "model_id": "bedf23d1afc148aa957cd5f34274d95a",
       "version_major": 2,
       "version_minor": 0
      },
      "text/plain": [
       "PROCESSING TASKS | :   0%|          | 0/18 [00:00<?, ?it/s]"
      ]
     },
     "metadata": {},
     "output_type": "display_data"
    },
    {
     "data": {
      "application/vnd.jupyter.widget-view+json": {
       "model_id": "3d02c562b4774162860e970d6b901eb1",
       "version_major": 2,
       "version_minor": 0
      },
      "text/plain": [
       "COLLECTING RESULTS | :   0%|          | 0/18 [00:00<?, ?it/s]"
      ]
     },
     "metadata": {},
     "output_type": "display_data"
    },
    {
     "name": "stdout",
     "output_type": "stream",
     "text": [
      "96\n",
      "11SKU\n",
      " Getting 1 granules, approx download size: 0.22 GB\n"
     ]
    },
    {
     "data": {
      "application/vnd.jupyter.widget-view+json": {
       "model_id": "d13bc9126ebf4341afa0e950ef92785f",
       "version_major": 2,
       "version_minor": 0
      },
      "text/plain": [
       "QUEUEING TASKS | :   0%|          | 0/18 [00:00<?, ?it/s]"
      ]
     },
     "metadata": {},
     "output_type": "display_data"
    },
    {
     "name": "stdout",
     "output_type": "stream",
     "text": [
      "File HLS.S30.T11SKU.2017342T184739.v2.0.B8A.tif already downloaded\n",
      "File HLS.S30.T11SKU.2017342T184739.v2.0.B07.tif already downloaded\n",
      "File HLS.S30.T11SKU.2017342T184739.v2.0.SZA.tif already downloaded\n",
      "File HLS.S30.T11SKU.2017342T184739.v2.0.B04.tif already downloaded\n",
      "File HLS.S30.T11SKU.2017342T184739.v2.0.B03.tif already downloaded\n",
      "File HLS.S30.T11SKU.2017342T184739.v2.0.B02.tif already downloaded\n",
      "File HLS.S30.T11SKU.2017342T184739.v2.0.VZA.tif already downloaded\n",
      "File HLS.S30.T11SKU.2017342T184739.v2.0.Fmask.tif already downloaded\n",
      "File HLS.S30.T11SKU.2017342T184739.v2.0.B08.tif already downloaded\n",
      "File HLS.S30.T11SKU.2017342T184739.v2.0.B10.tif already downloaded\n",
      "File HLS.S30.T11SKU.2017342T184739.v2.0.B01.tif already downloaded\n",
      "File HLS.S30.T11SKU.2017342T184739.v2.0.B06.tif already downloaded\n",
      "File HLS.S30.T11SKU.2017342T184739.v2.0.B12.tif already downloaded\n",
      "File HLS.S30.T11SKU.2017342T184739.v2.0.B11.tif already downloaded\n",
      "File HLS.S30.T11SKU.2017342T184739.v2.0.SAA.tif already downloaded\n",
      "File HLS.S30.T11SKU.2017342T184739.v2.0.VAA.tif already downloaded\n",
      "File HLS.S30.T11SKU.2017342T184739.v2.0.B09.tif already downloaded\n",
      "File HLS.S30.T11SKU.2017342T184739.v2.0.B05.tif already downloaded\n"
     ]
    },
    {
     "data": {
      "application/vnd.jupyter.widget-view+json": {
       "model_id": "7da7db0f2e5d4db2a709f90cb41c4b36",
       "version_major": 2,
       "version_minor": 0
      },
      "text/plain": [
       "PROCESSING TASKS | :   0%|          | 0/18 [00:00<?, ?it/s]"
      ]
     },
     "metadata": {},
     "output_type": "display_data"
    },
    {
     "data": {
      "application/vnd.jupyter.widget-view+json": {
       "model_id": "74efd725826b49dd9c73d0ddeb98793c",
       "version_major": 2,
       "version_minor": 0
      },
      "text/plain": [
       "COLLECTING RESULTS | :   0%|          | 0/18 [00:00<?, ?it/s]"
      ]
     },
     "metadata": {},
     "output_type": "display_data"
    },
    {
     "name": "stdout",
     "output_type": "stream",
     "text": [
      "97\n",
      "10SGD\n",
      " Getting 1 granules, approx download size: 0.21 GB\n"
     ]
    },
    {
     "data": {
      "application/vnd.jupyter.widget-view+json": {
       "model_id": "398fae6dcae64f658283460aca5176e5",
       "version_major": 2,
       "version_minor": 0
      },
      "text/plain": [
       "QUEUEING TASKS | :   0%|          | 0/18 [00:00<?, ?it/s]"
      ]
     },
     "metadata": {},
     "output_type": "display_data"
    },
    {
     "name": "stdout",
     "output_type": "stream",
     "text": [
      "File HLS.S30.T10SGD.2017342T184739.v2.0.SZA.tif already downloaded\n",
      "File HLS.S30.T10SGD.2017342T184739.v2.0.B11.tif already downloaded\n",
      "File HLS.S30.T10SGD.2017342T184739.v2.0.B06.tif already downloaded\n",
      "File HLS.S30.T10SGD.2017342T184739.v2.0.B8A.tif already downloaded\n",
      "File HLS.S30.T10SGD.2017342T184739.v2.0.B08.tif already downloaded\n",
      "File HLS.S30.T10SGD.2017342T184739.v2.0.B05.tif already downloaded\n",
      "File HLS.S30.T10SGD.2017342T184739.v2.0.B04.tif already downloaded\n",
      "File HLS.S30.T10SGD.2017342T184739.v2.0.B07.tif already downloaded\n",
      "File HLS.S30.T10SGD.2017342T184739.v2.0.B01.tif already downloaded\n",
      "File HLS.S30.T10SGD.2017342T184739.v2.0.B12.tif already downloaded\n",
      "File HLS.S30.T10SGD.2017342T184739.v2.0.VZA.tif already downloaded\n",
      "File HLS.S30.T10SGD.2017342T184739.v2.0.B03.tif already downloaded\n",
      "File HLS.S30.T10SGD.2017342T184739.v2.0.B09.tif already downloaded\n",
      "File HLS.S30.T10SGD.2017342T184739.v2.0.VAA.tif already downloaded\n",
      "File HLS.S30.T10SGD.2017342T184739.v2.0.B10.tif already downloaded\n",
      "File HLS.S30.T10SGD.2017342T184739.v2.0.B02.tif already downloaded\n",
      "File HLS.S30.T10SGD.2017342T184739.v2.0.SAA.tif already downloaded\n",
      "File HLS.S30.T10SGD.2017342T184739.v2.0.Fmask.tif already downloaded\n"
     ]
    },
    {
     "data": {
      "application/vnd.jupyter.widget-view+json": {
       "model_id": "d1039431810141edaa452f0112d671d4",
       "version_major": 2,
       "version_minor": 0
      },
      "text/plain": [
       "PROCESSING TASKS | :   0%|          | 0/18 [00:00<?, ?it/s]"
      ]
     },
     "metadata": {},
     "output_type": "display_data"
    },
    {
     "data": {
      "application/vnd.jupyter.widget-view+json": {
       "model_id": "2085df73fdd8451cad58bd9e5c8bc140",
       "version_major": 2,
       "version_minor": 0
      },
      "text/plain": [
       "COLLECTING RESULTS | :   0%|          | 0/18 [00:00<?, ?it/s]"
      ]
     },
     "metadata": {},
     "output_type": "display_data"
    },
    {
     "name": "stdout",
     "output_type": "stream",
     "text": [
      "98\n",
      "11SKU\n",
      " Getting 1 granules, approx download size: 0.18 GB\n"
     ]
    },
    {
     "data": {
      "application/vnd.jupyter.widget-view+json": {
       "model_id": "2231ea36ed7a4c13bdda4601cefc4a73",
       "version_major": 2,
       "version_minor": 0
      },
      "text/plain": [
       "QUEUEING TASKS | :   0%|          | 0/15 [00:00<?, ?it/s]"
      ]
     },
     "metadata": {},
     "output_type": "display_data"
    },
    {
     "name": "stdout",
     "output_type": "stream",
     "text": [
      "File HLS.L30.T11SKU.2017343T183415.v2.0.B06.tif already downloaded\n",
      "File HLS.L30.T11SKU.2017343T183415.v2.0.B07.tif already downloaded\n",
      "File HLS.L30.T11SKU.2017343T183415.v2.0.B01.tif already downloaded\n",
      "File HLS.L30.T11SKU.2017343T183415.v2.0.B04.tif already downloaded\n",
      "File HLS.L30.T11SKU.2017343T183415.v2.0.B09.tif already downloaded\n",
      "File HLS.L30.T11SKU.2017343T183415.v2.0.SAA.tif already downloaded\n",
      "File HLS.L30.T11SKU.2017343T183415.v2.0.B10.tif already downloaded\n",
      "File HLS.L30.T11SKU.2017343T183415.v2.0.B11.tif already downloaded\n",
      "File HLS.L30.T11SKU.2017343T183415.v2.0.VZA.tif already downloaded\n",
      "File HLS.L30.T11SKU.2017343T183415.v2.0.B03.tif already downloaded\n",
      "File HLS.L30.T11SKU.2017343T183415.v2.0.VAA.tif already downloaded\n",
      "File HLS.L30.T11SKU.2017343T183415.v2.0.B05.tif already downloaded\n",
      "File HLS.L30.T11SKU.2017343T183415.v2.0.Fmask.tif already downloaded\n",
      "File HLS.L30.T11SKU.2017343T183415.v2.0.SZA.tif already downloaded\n",
      "File HLS.L30.T11SKU.2017343T183415.v2.0.B02.tif already downloaded\n"
     ]
    },
    {
     "data": {
      "application/vnd.jupyter.widget-view+json": {
       "model_id": "ee5a911e3a4e402e9d5674aec4b6174b",
       "version_major": 2,
       "version_minor": 0
      },
      "text/plain": [
       "PROCESSING TASKS | :   0%|          | 0/15 [00:00<?, ?it/s]"
      ]
     },
     "metadata": {},
     "output_type": "display_data"
    },
    {
     "data": {
      "application/vnd.jupyter.widget-view+json": {
       "model_id": "e66c62124d154d35a6cc13dd9b687641",
       "version_major": 2,
       "version_minor": 0
      },
      "text/plain": [
       "COLLECTING RESULTS | :   0%|          | 0/15 [00:00<?, ?it/s]"
      ]
     },
     "metadata": {},
     "output_type": "display_data"
    },
    {
     "name": "stdout",
     "output_type": "stream",
     "text": [
      "99\n",
      "10SGD\n",
      " Getting 1 granules, approx download size: 0.18 GB\n"
     ]
    },
    {
     "data": {
      "application/vnd.jupyter.widget-view+json": {
       "model_id": "27a21093ee8541cb8566c30314f1a7e0",
       "version_major": 2,
       "version_minor": 0
      },
      "text/plain": [
       "QUEUEING TASKS | :   0%|          | 0/15 [00:00<?, ?it/s]"
      ]
     },
     "metadata": {},
     "output_type": "display_data"
    },
    {
     "name": "stdout",
     "output_type": "stream",
     "text": [
      "File HLS.L30.T10SGD.2017343T183439.v2.0.B02.tif already downloaded\n",
      "File HLS.L30.T10SGD.2017343T183439.v2.0.VAA.tif already downloaded\n",
      "File HLS.L30.T10SGD.2017343T183439.v2.0.B06.tif already downloaded\n",
      "File HLS.L30.T10SGD.2017343T183439.v2.0.B01.tif already downloaded\n",
      "File HLS.L30.T10SGD.2017343T183439.v2.0.B09.tif already downloaded\n",
      "File HLS.L30.T10SGD.2017343T183439.v2.0.SAA.tif already downloaded\n",
      "File HLS.L30.T10SGD.2017343T183439.v2.0.B11.tif already downloaded\n",
      "File HLS.L30.T10SGD.2017343T183439.v2.0.VZA.tif already downloaded\n",
      "File HLS.L30.T10SGD.2017343T183439.v2.0.Fmask.tif already downloaded\n",
      "File HLS.L30.T10SGD.2017343T183439.v2.0.B04.tif already downloaded\n",
      "File HLS.L30.T10SGD.2017343T183439.v2.0.B05.tif already downloaded\n",
      "File HLS.L30.T10SGD.2017343T183439.v2.0.SZA.tif already downloaded\n",
      "File HLS.L30.T10SGD.2017343T183439.v2.0.B07.tif already downloaded\n",
      "File HLS.L30.T10SGD.2017343T183439.v2.0.B03.tif already downloaded\n",
      "File HLS.L30.T10SGD.2017343T183439.v2.0.B10.tif already downloaded\n"
     ]
    },
    {
     "data": {
      "application/vnd.jupyter.widget-view+json": {
       "model_id": "6e215d12ae4b4489adc9a070c8e034a0",
       "version_major": 2,
       "version_minor": 0
      },
      "text/plain": [
       "PROCESSING TASKS | :   0%|          | 0/15 [00:00<?, ?it/s]"
      ]
     },
     "metadata": {},
     "output_type": "display_data"
    },
    {
     "data": {
      "application/vnd.jupyter.widget-view+json": {
       "model_id": "6d7ee7cc6d6e4312a9cd472657ffab84",
       "version_major": 2,
       "version_minor": 0
      },
      "text/plain": [
       "COLLECTING RESULTS | :   0%|          | 0/15 [00:00<?, ?it/s]"
      ]
     },
     "metadata": {},
     "output_type": "display_data"
    },
    {
     "name": "stdout",
     "output_type": "stream",
     "text": [
      "100\n",
      "10SGD\n",
      " Getting 1 granules, approx download size: 0.2 GB\n"
     ]
    },
    {
     "data": {
      "application/vnd.jupyter.widget-view+json": {
       "model_id": "f1c57a53835b48a7ab2f9e6ae3e523eb",
       "version_major": 2,
       "version_minor": 0
      },
      "text/plain": [
       "QUEUEING TASKS | :   0%|          | 0/18 [00:00<?, ?it/s]"
      ]
     },
     "metadata": {},
     "output_type": "display_data"
    },
    {
     "name": "stdout",
     "output_type": "stream",
     "text": [
      "File HLS.S30.T10SGD.2017347T185421.v2.0.VZA.tif already downloadedFile HLS.S30.T10SGD.2017347T185421.v2.0.VAA.tif already downloaded\n",
      "\n",
      "File HLS.S30.T10SGD.2017347T185421.v2.0.SZA.tif already downloaded\n",
      "File HLS.S30.T10SGD.2017347T185421.v2.0.B02.tif already downloaded\n",
      "File HLS.S30.T10SGD.2017347T185421.v2.0.B03.tif already downloaded\n",
      "File HLS.S30.T10SGD.2017347T185421.v2.0.B10.tif already downloaded\n",
      "File HLS.S30.T10SGD.2017347T185421.v2.0.B09.tif already downloaded\n",
      "File HLS.S30.T10SGD.2017347T185421.v2.0.B08.tif already downloaded\n",
      "File HLS.S30.T10SGD.2017347T185421.v2.0.B05.tif already downloaded\n",
      "File HLS.S30.T10SGD.2017347T185421.v2.0.B06.tif already downloaded\n",
      "File HLS.S30.T10SGD.2017347T185421.v2.0.B12.tif already downloaded\n",
      "File HLS.S30.T10SGD.2017347T185421.v2.0.B04.tif already downloaded\n",
      "File HLS.S30.T10SGD.2017347T185421.v2.0.B8A.tif already downloaded\n",
      "File HLS.S30.T10SGD.2017347T185421.v2.0.B01.tif already downloaded\n",
      "File HLS.S30.T10SGD.2017347T185421.v2.0.B11.tif already downloaded\n",
      "File HLS.S30.T10SGD.2017347T185421.v2.0.SAA.tif already downloaded\n",
      "File HLS.S30.T10SGD.2017347T185421.v2.0.Fmask.tif already downloaded\n",
      "File HLS.S30.T10SGD.2017347T185421.v2.0.B07.tif already downloaded\n"
     ]
    },
    {
     "data": {
      "application/vnd.jupyter.widget-view+json": {
       "model_id": "3929752abce94763aee94e2f362d66ff",
       "version_major": 2,
       "version_minor": 0
      },
      "text/plain": [
       "PROCESSING TASKS | :   0%|          | 0/18 [00:00<?, ?it/s]"
      ]
     },
     "metadata": {},
     "output_type": "display_data"
    },
    {
     "data": {
      "application/vnd.jupyter.widget-view+json": {
       "model_id": "539b79d6f4f24207a312ff62a8be04d4",
       "version_major": 2,
       "version_minor": 0
      },
      "text/plain": [
       "COLLECTING RESULTS | :   0%|          | 0/18 [00:00<?, ?it/s]"
      ]
     },
     "metadata": {},
     "output_type": "display_data"
    },
    {
     "name": "stdout",
     "output_type": "stream",
     "text": [
      "101\n",
      "11SKU\n",
      " Getting 1 granules, approx download size: 0.21 GB\n"
     ]
    },
    {
     "data": {
      "application/vnd.jupyter.widget-view+json": {
       "model_id": "987245fbd933458a881189772584922f",
       "version_major": 2,
       "version_minor": 0
      },
      "text/plain": [
       "QUEUEING TASKS | :   0%|          | 0/18 [00:00<?, ?it/s]"
      ]
     },
     "metadata": {},
     "output_type": "display_data"
    },
    {
     "name": "stdout",
     "output_type": "stream",
     "text": [
      "File HLS.S30.T11SKU.2017347T185421.v2.0.B05.tif already downloaded\n",
      "File HLS.S30.T11SKU.2017347T185421.v2.0.B04.tif already downloaded\n",
      "File HLS.S30.T11SKU.2017347T185421.v2.0.B09.tif already downloaded\n",
      "File HLS.S30.T11SKU.2017347T185421.v2.0.B10.tif already downloaded\n",
      "File HLS.S30.T11SKU.2017347T185421.v2.0.B06.tif already downloaded\n",
      "File HLS.S30.T11SKU.2017347T185421.v2.0.B03.tif already downloaded\n",
      "File HLS.S30.T11SKU.2017347T185421.v2.0.B01.tif already downloaded\n",
      "File HLS.S30.T11SKU.2017347T185421.v2.0.B11.tif already downloaded\n",
      "File HLS.S30.T11SKU.2017347T185421.v2.0.B12.tif already downloaded\n",
      "File HLS.S30.T11SKU.2017347T185421.v2.0.B07.tif already downloaded\n",
      "File HLS.S30.T11SKU.2017347T185421.v2.0.B08.tif already downloaded\n",
      "File HLS.S30.T11SKU.2017347T185421.v2.0.B02.tif already downloaded\n",
      "File HLS.S30.T11SKU.2017347T185421.v2.0.B8A.tif already downloaded\n",
      "File HLS.S30.T11SKU.2017347T185421.v2.0.SAA.tif already downloaded\n",
      "File HLS.S30.T11SKU.2017347T185421.v2.0.VZA.tif already downloaded\n",
      "File HLS.S30.T11SKU.2017347T185421.v2.0.SZA.tif already downloaded\n",
      "File HLS.S30.T11SKU.2017347T185421.v2.0.Fmask.tif already downloaded\n",
      "File HLS.S30.T11SKU.2017347T185421.v2.0.VAA.tif already downloaded\n"
     ]
    },
    {
     "data": {
      "application/vnd.jupyter.widget-view+json": {
       "model_id": "d569f9cf80ff4fb09be93c24ba24c98e",
       "version_major": 2,
       "version_minor": 0
      },
      "text/plain": [
       "PROCESSING TASKS | :   0%|          | 0/18 [00:00<?, ?it/s]"
      ]
     },
     "metadata": {},
     "output_type": "display_data"
    },
    {
     "data": {
      "application/vnd.jupyter.widget-view+json": {
       "model_id": "7b6a8cff5aee4eff8799e1b39ea7d487",
       "version_major": 2,
       "version_minor": 0
      },
      "text/plain": [
       "COLLECTING RESULTS | :   0%|          | 0/18 [00:00<?, ?it/s]"
      ]
     },
     "metadata": {},
     "output_type": "display_data"
    },
    {
     "name": "stdout",
     "output_type": "stream",
     "text": [
      "102\n",
      "10SGD\n",
      " Getting 1 granules, approx download size: 0.2 GB\n"
     ]
    },
    {
     "data": {
      "application/vnd.jupyter.widget-view+json": {
       "model_id": "dcb9855aa7474b89bb552e6a6f46b1f0",
       "version_major": 2,
       "version_minor": 0
      },
      "text/plain": [
       "QUEUEING TASKS | :   0%|          | 0/18 [00:00<?, ?it/s]"
      ]
     },
     "metadata": {},
     "output_type": "display_data"
    },
    {
     "name": "stdout",
     "output_type": "stream",
     "text": [
      "File HLS.S30.T10SGD.2017352T184749.v2.0.B04.tif already downloaded\n",
      "File HLS.S30.T10SGD.2017352T184749.v2.0.VAA.tif already downloaded\n",
      "File HLS.S30.T10SGD.2017352T184749.v2.0.SAA.tif already downloaded\n",
      "File HLS.S30.T10SGD.2017352T184749.v2.0.B02.tif already downloaded\n",
      "File HLS.S30.T10SGD.2017352T184749.v2.0.B08.tif already downloaded\n",
      "File HLS.S30.T10SGD.2017352T184749.v2.0.B07.tif already downloaded\n",
      "File HLS.S30.T10SGD.2017352T184749.v2.0.B01.tif already downloaded\n",
      "File HLS.S30.T10SGD.2017352T184749.v2.0.B12.tif already downloaded\n",
      "File HLS.S30.T10SGD.2017352T184749.v2.0.B10.tif already downloaded\n",
      "File HLS.S30.T10SGD.2017352T184749.v2.0.B11.tif already downloaded\n",
      "File HLS.S30.T10SGD.2017352T184749.v2.0.Fmask.tif already downloaded\n",
      "File HLS.S30.T10SGD.2017352T184749.v2.0.B03.tif already downloaded\n",
      "File HLS.S30.T10SGD.2017352T184749.v2.0.B09.tif already downloaded\n",
      "File HLS.S30.T10SGD.2017352T184749.v2.0.B8A.tif already downloaded\n",
      "File HLS.S30.T10SGD.2017352T184749.v2.0.SZA.tif already downloaded\n",
      "File HLS.S30.T10SGD.2017352T184749.v2.0.B05.tif already downloaded\n",
      "File HLS.S30.T10SGD.2017352T184749.v2.0.B06.tif already downloaded\n",
      "File HLS.S30.T10SGD.2017352T184749.v2.0.VZA.tif already downloaded\n"
     ]
    },
    {
     "data": {
      "application/vnd.jupyter.widget-view+json": {
       "model_id": "516dac59e1bc4e8cb6b13907bef184d4",
       "version_major": 2,
       "version_minor": 0
      },
      "text/plain": [
       "PROCESSING TASKS | :   0%|          | 0/18 [00:00<?, ?it/s]"
      ]
     },
     "metadata": {},
     "output_type": "display_data"
    },
    {
     "data": {
      "application/vnd.jupyter.widget-view+json": {
       "model_id": "f8c7aff42fb44dc0a02fc497e1eb8f1f",
       "version_major": 2,
       "version_minor": 0
      },
      "text/plain": [
       "COLLECTING RESULTS | :   0%|          | 0/18 [00:00<?, ?it/s]"
      ]
     },
     "metadata": {},
     "output_type": "display_data"
    },
    {
     "name": "stdout",
     "output_type": "stream",
     "text": [
      "103\n",
      "11SKU\n",
      " Getting 1 granules, approx download size: 0.21 GB\n"
     ]
    },
    {
     "data": {
      "application/vnd.jupyter.widget-view+json": {
       "model_id": "8b7d8c58ef0c4180aff5e9c5f5ce6077",
       "version_major": 2,
       "version_minor": 0
      },
      "text/plain": [
       "QUEUEING TASKS | :   0%|          | 0/18 [00:00<?, ?it/s]"
      ]
     },
     "metadata": {},
     "output_type": "display_data"
    },
    {
     "name": "stdout",
     "output_type": "stream",
     "text": [
      "File HLS.S30.T11SKU.2017352T184749.v2.0.B04.tif already downloaded\n",
      "File HLS.S30.T11SKU.2017352T184749.v2.0.SZA.tif already downloaded\n",
      "File HLS.S30.T11SKU.2017352T184749.v2.0.SAA.tif already downloaded\n",
      "File HLS.S30.T11SKU.2017352T184749.v2.0.B8A.tif already downloaded\n",
      "File HLS.S30.T11SKU.2017352T184749.v2.0.VAA.tif already downloaded\n",
      "File HLS.S30.T11SKU.2017352T184749.v2.0.B07.tif already downloaded\n",
      "File HLS.S30.T11SKU.2017352T184749.v2.0.B06.tif already downloaded\n",
      "File HLS.S30.T11SKU.2017352T184749.v2.0.Fmask.tif already downloaded\n",
      "File HLS.S30.T11SKU.2017352T184749.v2.0.B09.tif already downloaded\n",
      "File HLS.S30.T11SKU.2017352T184749.v2.0.B01.tif already downloaded\n",
      "File HLS.S30.T11SKU.2017352T184749.v2.0.B11.tif already downloaded\n",
      "File HLS.S30.T11SKU.2017352T184749.v2.0.B03.tif already downloaded\n",
      "File HLS.S30.T11SKU.2017352T184749.v2.0.B08.tif already downloaded\n",
      "File HLS.S30.T11SKU.2017352T184749.v2.0.B05.tif already downloaded\n",
      "File HLS.S30.T11SKU.2017352T184749.v2.0.B12.tif already downloaded\n",
      "File HLS.S30.T11SKU.2017352T184749.v2.0.VZA.tif already downloaded\n",
      "File HLS.S30.T11SKU.2017352T184749.v2.0.B02.tif already downloaded\n",
      "File HLS.S30.T11SKU.2017352T184749.v2.0.B10.tif already downloaded\n"
     ]
    },
    {
     "data": {
      "application/vnd.jupyter.widget-view+json": {
       "model_id": "803a0e9a37bf48beb06e94505f60a81a",
       "version_major": 2,
       "version_minor": 0
      },
      "text/plain": [
       "PROCESSING TASKS | :   0%|          | 0/18 [00:00<?, ?it/s]"
      ]
     },
     "metadata": {},
     "output_type": "display_data"
    },
    {
     "data": {
      "application/vnd.jupyter.widget-view+json": {
       "model_id": "6af7221076dd49ba82789c63cd0a938a",
       "version_major": 2,
       "version_minor": 0
      },
      "text/plain": [
       "COLLECTING RESULTS | :   0%|          | 0/18 [00:00<?, ?it/s]"
      ]
     },
     "metadata": {},
     "output_type": "display_data"
    },
    {
     "name": "stdout",
     "output_type": "stream",
     "text": [
      "104\n",
      "10SGD\n",
      " Getting 1 granules, approx download size: 0.19 GB\n"
     ]
    },
    {
     "data": {
      "application/vnd.jupyter.widget-view+json": {
       "model_id": "414ae612b6eb41b4894736ff5304e2ca",
       "version_major": 2,
       "version_minor": 0
      },
      "text/plain": [
       "QUEUEING TASKS | :   0%|          | 0/18 [00:00<?, ?it/s]"
      ]
     },
     "metadata": {},
     "output_type": "display_data"
    },
    {
     "name": "stdout",
     "output_type": "stream",
     "text": [
      "File HLS.S30.T10SGD.2017357T184801.v2.0.B12.tif already downloaded\n",
      "File HLS.S30.T10SGD.2017357T184801.v2.0.B06.tif already downloaded\n",
      "File HLS.S30.T10SGD.2017357T184801.v2.0.B07.tif already downloaded\n",
      "File HLS.S30.T10SGD.2017357T184801.v2.0.SZA.tif already downloaded\n",
      "File HLS.S30.T10SGD.2017357T184801.v2.0.B05.tif already downloaded\n",
      "File HLS.S30.T10SGD.2017357T184801.v2.0.B04.tif already downloaded\n",
      "File HLS.S30.T10SGD.2017357T184801.v2.0.B08.tif already downloaded\n",
      "File HLS.S30.T10SGD.2017357T184801.v2.0.B8A.tif already downloaded\n",
      "File HLS.S30.T10SGD.2017357T184801.v2.0.SAA.tif already downloaded\n",
      "File HLS.S30.T10SGD.2017357T184801.v2.0.B03.tif already downloaded\n",
      "File HLS.S30.T10SGD.2017357T184801.v2.0.VAA.tif already downloaded\n",
      "File HLS.S30.T10SGD.2017357T184801.v2.0.B10.tif already downloaded\n",
      "File HLS.S30.T10SGD.2017357T184801.v2.0.B02.tif already downloaded\n",
      "File HLS.S30.T10SGD.2017357T184801.v2.0.B11.tif already downloaded\n",
      "File HLS.S30.T10SGD.2017357T184801.v2.0.VZA.tif already downloaded\n",
      "File HLS.S30.T10SGD.2017357T184801.v2.0.Fmask.tif already downloaded\n",
      "File HLS.S30.T10SGD.2017357T184801.v2.0.B09.tif already downloaded\n",
      "File HLS.S30.T10SGD.2017357T184801.v2.0.B01.tif already downloaded\n"
     ]
    },
    {
     "data": {
      "application/vnd.jupyter.widget-view+json": {
       "model_id": "bcc3e800bafe41f3a1779c63b9a137cb",
       "version_major": 2,
       "version_minor": 0
      },
      "text/plain": [
       "PROCESSING TASKS | :   0%|          | 0/18 [00:00<?, ?it/s]"
      ]
     },
     "metadata": {},
     "output_type": "display_data"
    },
    {
     "data": {
      "application/vnd.jupyter.widget-view+json": {
       "model_id": "39781f14aada42f0b1a408178d085dc3",
       "version_major": 2,
       "version_minor": 0
      },
      "text/plain": [
       "COLLECTING RESULTS | :   0%|          | 0/18 [00:00<?, ?it/s]"
      ]
     },
     "metadata": {},
     "output_type": "display_data"
    },
    {
     "name": "stdout",
     "output_type": "stream",
     "text": [
      "105\n",
      "11SKU\n",
      " Getting 1 granules, approx download size: 0.21 GB\n"
     ]
    },
    {
     "data": {
      "application/vnd.jupyter.widget-view+json": {
       "model_id": "060c9b7ccee547e5b2c8a5bbf4a1128c",
       "version_major": 2,
       "version_minor": 0
      },
      "text/plain": [
       "QUEUEING TASKS | :   0%|          | 0/18 [00:00<?, ?it/s]"
      ]
     },
     "metadata": {},
     "output_type": "display_data"
    },
    {
     "name": "stdout",
     "output_type": "stream",
     "text": [
      "File HLS.S30.T11SKU.2017357T184801.v2.0.B06.tif already downloadedFile HLS.S30.T11SKU.2017357T184801.v2.0.B01.tif already downloaded\n",
      "File HLS.S30.T11SKU.2017357T184801.v2.0.Fmask.tif already downloaded\n",
      "\n",
      "File HLS.S30.T11SKU.2017357T184801.v2.0.B02.tif already downloaded\n",
      "File HLS.S30.T11SKU.2017357T184801.v2.0.B8A.tif already downloaded\n",
      "File HLS.S30.T11SKU.2017357T184801.v2.0.B05.tif already downloaded\n",
      "File HLS.S30.T11SKU.2017357T184801.v2.0.B04.tif already downloaded\n",
      "File HLS.S30.T11SKU.2017357T184801.v2.0.B09.tif already downloaded\n",
      "File HLS.S30.T11SKU.2017357T184801.v2.0.B10.tif already downloaded\n",
      "File HLS.S30.T11SKU.2017357T184801.v2.0.SAA.tif already downloaded\n",
      "File HLS.S30.T11SKU.2017357T184801.v2.0.B07.tif already downloaded\n",
      "File HLS.S30.T11SKU.2017357T184801.v2.0.B08.tif already downloaded\n",
      "File HLS.S30.T11SKU.2017357T184801.v2.0.SZA.tif already downloaded\n",
      "File HLS.S30.T11SKU.2017357T184801.v2.0.B03.tif already downloaded\n",
      "File HLS.S30.T11SKU.2017357T184801.v2.0.VAA.tif already downloaded\n",
      "File HLS.S30.T11SKU.2017357T184801.v2.0.B12.tif already downloaded\n",
      "File HLS.S30.T11SKU.2017357T184801.v2.0.VZA.tif already downloaded\n",
      "File HLS.S30.T11SKU.2017357T184801.v2.0.B11.tif already downloaded\n"
     ]
    },
    {
     "data": {
      "application/vnd.jupyter.widget-view+json": {
       "model_id": "0e14e2b9251448a1aee7a096ff5581e3",
       "version_major": 2,
       "version_minor": 0
      },
      "text/plain": [
       "PROCESSING TASKS | :   0%|          | 0/18 [00:00<?, ?it/s]"
      ]
     },
     "metadata": {},
     "output_type": "display_data"
    },
    {
     "data": {
      "application/vnd.jupyter.widget-view+json": {
       "model_id": "cf7d0a7cd4f9493faf83f673e6e71a32",
       "version_major": 2,
       "version_minor": 0
      },
      "text/plain": [
       "COLLECTING RESULTS | :   0%|          | 0/18 [00:00<?, ?it/s]"
      ]
     },
     "metadata": {},
     "output_type": "display_data"
    },
    {
     "name": "stdout",
     "output_type": "stream",
     "text": [
      "106\n",
      "11SKU\n",
      " Getting 1 granules, approx download size: 0.18 GB\n"
     ]
    },
    {
     "data": {
      "application/vnd.jupyter.widget-view+json": {
       "model_id": "d64a83e9346446399a298ec812bc8b07",
       "version_major": 2,
       "version_minor": 0
      },
      "text/plain": [
       "QUEUEING TASKS | :   0%|          | 0/15 [00:00<?, ?it/s]"
      ]
     },
     "metadata": {},
     "output_type": "display_data"
    },
    {
     "name": "stdout",
     "output_type": "stream",
     "text": [
      "File HLS.L30.T11SKU.2017359T183418.v2.0.SZA.tif already downloadedFile HLS.L30.T11SKU.2017359T183418.v2.0.B03.tif already downloaded\n",
      "\n",
      "File HLS.L30.T11SKU.2017359T183418.v2.0.VAA.tif already downloaded\n",
      "File HLS.L30.T11SKU.2017359T183418.v2.0.B06.tif already downloaded\n",
      "File HLS.L30.T11SKU.2017359T183418.v2.0.SAA.tif already downloaded\n",
      "File HLS.L30.T11SKU.2017359T183418.v2.0.B11.tif already downloaded\n",
      "File HLS.L30.T11SKU.2017359T183418.v2.0.B01.tif already downloaded\n",
      "File HLS.L30.T11SKU.2017359T183418.v2.0.Fmask.tif already downloaded\n",
      "File HLS.L30.T11SKU.2017359T183418.v2.0.B04.tif already downloaded\n",
      "File HLS.L30.T11SKU.2017359T183418.v2.0.B07.tif already downloaded\n",
      "File HLS.L30.T11SKU.2017359T183418.v2.0.B02.tif already downloaded\n",
      "File HLS.L30.T11SKU.2017359T183418.v2.0.VZA.tif already downloaded\n",
      "File HLS.L30.T11SKU.2017359T183418.v2.0.B05.tif already downloaded\n",
      "File HLS.L30.T11SKU.2017359T183418.v2.0.B10.tif already downloaded\n",
      "File HLS.L30.T11SKU.2017359T183418.v2.0.B09.tif already downloaded\n"
     ]
    },
    {
     "data": {
      "application/vnd.jupyter.widget-view+json": {
       "model_id": "0455cc6d774c46ca821b243276aad635",
       "version_major": 2,
       "version_minor": 0
      },
      "text/plain": [
       "PROCESSING TASKS | :   0%|          | 0/15 [00:00<?, ?it/s]"
      ]
     },
     "metadata": {},
     "output_type": "display_data"
    },
    {
     "data": {
      "application/vnd.jupyter.widget-view+json": {
       "model_id": "377348d54bb64e71b4d8378ae5dfbe7b",
       "version_major": 2,
       "version_minor": 0
      },
      "text/plain": [
       "COLLECTING RESULTS | :   0%|          | 0/15 [00:00<?, ?it/s]"
      ]
     },
     "metadata": {},
     "output_type": "display_data"
    },
    {
     "name": "stdout",
     "output_type": "stream",
     "text": [
      "107\n",
      "10SGD\n",
      " Getting 1 granules, approx download size: 0.18 GB\n"
     ]
    },
    {
     "data": {
      "application/vnd.jupyter.widget-view+json": {
       "model_id": "65884008349e4b469911bf034b93c19f",
       "version_major": 2,
       "version_minor": 0
      },
      "text/plain": [
       "QUEUEING TASKS | :   0%|          | 0/15 [00:00<?, ?it/s]"
      ]
     },
     "metadata": {},
     "output_type": "display_data"
    },
    {
     "name": "stdout",
     "output_type": "stream",
     "text": [
      "File HLS.L30.T10SGD.2017359T183442.v2.0.B05.tif already downloaded\n",
      "File HLS.L30.T10SGD.2017359T183442.v2.0.B09.tif already downloaded\n",
      "File HLS.L30.T10SGD.2017359T183442.v2.0.B07.tif already downloaded\n",
      "File HLS.L30.T10SGD.2017359T183442.v2.0.VZA.tif already downloaded\n",
      "File HLS.L30.T10SGD.2017359T183442.v2.0.B01.tif already downloaded\n",
      "File HLS.L30.T10SGD.2017359T183442.v2.0.B11.tif already downloaded\n",
      "File HLS.L30.T10SGD.2017359T183442.v2.0.B02.tif already downloaded\n",
      "File HLS.L30.T10SGD.2017359T183442.v2.0.B03.tif already downloaded\n",
      "File HLS.L30.T10SGD.2017359T183442.v2.0.SZA.tif already downloaded\n",
      "File HLS.L30.T10SGD.2017359T183442.v2.0.B10.tif already downloaded\n",
      "File HLS.L30.T10SGD.2017359T183442.v2.0.B06.tif already downloaded\n",
      "File HLS.L30.T10SGD.2017359T183442.v2.0.Fmask.tif already downloaded\n",
      "File HLS.L30.T10SGD.2017359T183442.v2.0.B04.tif already downloaded\n",
      "File HLS.L30.T10SGD.2017359T183442.v2.0.VAA.tif already downloaded\n",
      "File HLS.L30.T10SGD.2017359T183442.v2.0.SAA.tif already downloaded\n"
     ]
    },
    {
     "data": {
      "application/vnd.jupyter.widget-view+json": {
       "model_id": "e653b6d0f19c43969529a20aa346813a",
       "version_major": 2,
       "version_minor": 0
      },
      "text/plain": [
       "PROCESSING TASKS | :   0%|          | 0/15 [00:00<?, ?it/s]"
      ]
     },
     "metadata": {},
     "output_type": "display_data"
    },
    {
     "data": {
      "application/vnd.jupyter.widget-view+json": {
       "model_id": "7c00c94883e340f79178cdd59aa735fa",
       "version_major": 2,
       "version_minor": 0
      },
      "text/plain": [
       "COLLECTING RESULTS | :   0%|          | 0/15 [00:00<?, ?it/s]"
      ]
     },
     "metadata": {},
     "output_type": "display_data"
    },
    {
     "name": "stdout",
     "output_type": "stream",
     "text": [
      "108\n",
      "10SGD\n",
      " Getting 1 granules, approx download size: 0.2 GB\n"
     ]
    },
    {
     "data": {
      "application/vnd.jupyter.widget-view+json": {
       "model_id": "e4021eaf02ca4a5dbeb598f7e2a1be09",
       "version_major": 2,
       "version_minor": 0
      },
      "text/plain": [
       "QUEUEING TASKS | :   0%|          | 0/18 [00:00<?, ?it/s]"
      ]
     },
     "metadata": {},
     "output_type": "display_data"
    },
    {
     "name": "stdout",
     "output_type": "stream",
     "text": [
      "File HLS.S30.T10SGD.2017362T184749.v2.0.B06.tif already downloaded\n",
      "File HLS.S30.T10SGD.2017362T184749.v2.0.SZA.tif already downloaded\n",
      "File HLS.S30.T10SGD.2017362T184749.v2.0.B8A.tif already downloaded\n",
      "File HLS.S30.T10SGD.2017362T184749.v2.0.B02.tif already downloaded\n",
      "File HLS.S30.T10SGD.2017362T184749.v2.0.B08.tif already downloaded\n",
      "File HLS.S30.T10SGD.2017362T184749.v2.0.B07.tif already downloaded\n",
      "File HLS.S30.T10SGD.2017362T184749.v2.0.B09.tif already downloaded\n",
      "File HLS.S30.T10SGD.2017362T184749.v2.0.B10.tif already downloaded\n",
      "File HLS.S30.T10SGD.2017362T184749.v2.0.Fmask.tif already downloaded\n",
      "File HLS.S30.T10SGD.2017362T184749.v2.0.B03.tif already downloaded\n",
      "File HLS.S30.T10SGD.2017362T184749.v2.0.VAA.tif already downloaded\n",
      "File HLS.S30.T10SGD.2017362T184749.v2.0.SAA.tif already downloaded\n",
      "File HLS.S30.T10SGD.2017362T184749.v2.0.B05.tif already downloaded\n",
      "File HLS.S30.T10SGD.2017362T184749.v2.0.B04.tif already downloaded\n",
      "File HLS.S30.T10SGD.2017362T184749.v2.0.B11.tif already downloaded\n",
      "File HLS.S30.T10SGD.2017362T184749.v2.0.B01.tif already downloaded\n",
      "File HLS.S30.T10SGD.2017362T184749.v2.0.B12.tif already downloaded\n",
      "File HLS.S30.T10SGD.2017362T184749.v2.0.VZA.tif already downloaded\n"
     ]
    },
    {
     "data": {
      "application/vnd.jupyter.widget-view+json": {
       "model_id": "a98d9bf87c8b4a8fbea118220241d9c5",
       "version_major": 2,
       "version_minor": 0
      },
      "text/plain": [
       "PROCESSING TASKS | :   0%|          | 0/18 [00:00<?, ?it/s]"
      ]
     },
     "metadata": {},
     "output_type": "display_data"
    },
    {
     "data": {
      "application/vnd.jupyter.widget-view+json": {
       "model_id": "be4187b9431e47109af7e9fae0c00c63",
       "version_major": 2,
       "version_minor": 0
      },
      "text/plain": [
       "COLLECTING RESULTS | :   0%|          | 0/18 [00:00<?, ?it/s]"
      ]
     },
     "metadata": {},
     "output_type": "display_data"
    },
    {
     "name": "stdout",
     "output_type": "stream",
     "text": [
      "109\n",
      "11SKU\n",
      " Getting 1 granules, approx download size: 0.21 GB\n"
     ]
    },
    {
     "data": {
      "application/vnd.jupyter.widget-view+json": {
       "model_id": "e902ee74dabc47ee8e1976aeabb4465a",
       "version_major": 2,
       "version_minor": 0
      },
      "text/plain": [
       "QUEUEING TASKS | :   0%|          | 0/18 [00:00<?, ?it/s]"
      ]
     },
     "metadata": {},
     "output_type": "display_data"
    },
    {
     "name": "stdout",
     "output_type": "stream",
     "text": [
      "File HLS.S30.T11SKU.2017362T184749.v2.0.B8A.tif already downloaded\n",
      "File HLS.S30.T11SKU.2017362T184749.v2.0.SAA.tif already downloaded\n",
      "File HLS.S30.T11SKU.2017362T184749.v2.0.B06.tif already downloaded\n",
      "File HLS.S30.T11SKU.2017362T184749.v2.0.VAA.tif already downloaded\n",
      "File HLS.S30.T11SKU.2017362T184749.v2.0.B12.tif already downloaded\n",
      "File HLS.S30.T11SKU.2017362T184749.v2.0.B04.tif already downloaded\n",
      "File HLS.S30.T11SKU.2017362T184749.v2.0.B03.tif already downloaded\n",
      "File HLS.S30.T11SKU.2017362T184749.v2.0.B09.tif already downloaded\n",
      "File HLS.S30.T11SKU.2017362T184749.v2.0.B11.tif already downloaded\n",
      "File HLS.S30.T11SKU.2017362T184749.v2.0.Fmask.tif already downloaded\n",
      "File HLS.S30.T11SKU.2017362T184749.v2.0.SZA.tif already downloaded\n",
      "File HLS.S30.T11SKU.2017362T184749.v2.0.B05.tif already downloaded\n",
      "File HLS.S30.T11SKU.2017362T184749.v2.0.B07.tif already downloaded\n",
      "File HLS.S30.T11SKU.2017362T184749.v2.0.B01.tif already downloaded\n",
      "File HLS.S30.T11SKU.2017362T184749.v2.0.B02.tif already downloaded\n",
      "File HLS.S30.T11SKU.2017362T184749.v2.0.B10.tif already downloaded\n",
      "File HLS.S30.T11SKU.2017362T184749.v2.0.VZA.tif already downloaded\n",
      "File HLS.S30.T11SKU.2017362T184749.v2.0.B08.tif already downloaded\n"
     ]
    },
    {
     "data": {
      "application/vnd.jupyter.widget-view+json": {
       "model_id": "4ceadc7b93544c49852f9753c6e21b8b",
       "version_major": 2,
       "version_minor": 0
      },
      "text/plain": [
       "PROCESSING TASKS | :   0%|          | 0/18 [00:00<?, ?it/s]"
      ]
     },
     "metadata": {},
     "output_type": "display_data"
    },
    {
     "data": {
      "application/vnd.jupyter.widget-view+json": {
       "model_id": "68abab5dfed04727a494e0f008804d94",
       "version_major": 2,
       "version_minor": 0
      },
      "text/plain": [
       "COLLECTING RESULTS | :   0%|          | 0/18 [00:00<?, ?it/s]"
      ]
     },
     "metadata": {},
     "output_type": "display_data"
    },
    {
     "name": "stdout",
     "output_type": "stream",
     "text": [
      "110\n",
      "11SKU\n",
      " Getting 1 granules, approx download size: 0.22 GB\n"
     ]
    },
    {
     "data": {
      "application/vnd.jupyter.widget-view+json": {
       "model_id": "a2a04d1cb84545febf44805a1f4b2e52",
       "version_major": 2,
       "version_minor": 0
      },
      "text/plain": [
       "QUEUEING TASKS | :   0%|          | 0/18 [00:00<?, ?it/s]"
      ]
     },
     "metadata": {},
     "output_type": "display_data"
    },
    {
     "name": "stdout",
     "output_type": "stream",
     "text": [
      "File HLS.S30.T11SKU.2018002T185421.v2.0.B05.tif already downloadedFile HLS.S30.T11SKU.2018002T185421.v2.0.B03.tif already downloaded\n",
      "\n",
      "File HLS.S30.T11SKU.2018002T185421.v2.0.B06.tif already downloaded\n",
      "File HLS.S30.T11SKU.2018002T185421.v2.0.B12.tif already downloaded\n",
      "File HLS.S30.T11SKU.2018002T185421.v2.0.B07.tif already downloaded\n",
      "File HLS.S30.T11SKU.2018002T185421.v2.0.VZA.tif already downloaded\n",
      "File HLS.S30.T11SKU.2018002T185421.v2.0.B11.tif already downloaded\n",
      "File HLS.S30.T11SKU.2018002T185421.v2.0.B09.tif already downloaded\n",
      "File HLS.S30.T11SKU.2018002T185421.v2.0.B8A.tif already downloaded\n",
      "File HLS.S30.T11SKU.2018002T185421.v2.0.SZA.tif already downloaded\n",
      "File HLS.S30.T11SKU.2018002T185421.v2.0.B08.tif already downloaded\n",
      "File HLS.S30.T11SKU.2018002T185421.v2.0.VAA.tif already downloaded\n",
      "File HLS.S30.T11SKU.2018002T185421.v2.0.B04.tif already downloaded\n",
      "File HLS.S30.T11SKU.2018002T185421.v2.0.Fmask.tif already downloaded\n",
      "File HLS.S30.T11SKU.2018002T185421.v2.0.B01.tif already downloaded\n",
      "File HLS.S30.T11SKU.2018002T185421.v2.0.B02.tif already downloaded\n",
      "File HLS.S30.T11SKU.2018002T185421.v2.0.SAA.tif already downloaded\n",
      "File HLS.S30.T11SKU.2018002T185421.v2.0.B10.tif already downloaded\n"
     ]
    },
    {
     "data": {
      "application/vnd.jupyter.widget-view+json": {
       "model_id": "ed090c8b846d4ad983d33ab3d35021e4",
       "version_major": 2,
       "version_minor": 0
      },
      "text/plain": [
       "PROCESSING TASKS | :   0%|          | 0/18 [00:00<?, ?it/s]"
      ]
     },
     "metadata": {},
     "output_type": "display_data"
    },
    {
     "data": {
      "application/vnd.jupyter.widget-view+json": {
       "model_id": "75a5906b43a34ae8b8192179d0bd1983",
       "version_major": 2,
       "version_minor": 0
      },
      "text/plain": [
       "COLLECTING RESULTS | :   0%|          | 0/18 [00:00<?, ?it/s]"
      ]
     },
     "metadata": {},
     "output_type": "display_data"
    },
    {
     "name": "stdout",
     "output_type": "stream",
     "text": [
      "111\n",
      "10SGD\n",
      " Getting 1 granules, approx download size: 0.21 GB\n"
     ]
    },
    {
     "data": {
      "application/vnd.jupyter.widget-view+json": {
       "model_id": "e191670340484dcf845da80d5d744655",
       "version_major": 2,
       "version_minor": 0
      },
      "text/plain": [
       "QUEUEING TASKS | :   0%|          | 0/18 [00:00<?, ?it/s]"
      ]
     },
     "metadata": {},
     "output_type": "display_data"
    },
    {
     "name": "stdout",
     "output_type": "stream",
     "text": [
      "File HLS.S30.T10SGD.2018002T185421.v2.0.B04.tif already downloaded\n",
      "File HLS.S30.T10SGD.2018002T185421.v2.0.B02.tif already downloaded\n",
      "File HLS.S30.T10SGD.2018002T185421.v2.0.B03.tif already downloaded\n",
      "File HLS.S30.T10SGD.2018002T185421.v2.0.SAA.tif already downloaded\n",
      "File HLS.S30.T10SGD.2018002T185421.v2.0.VAA.tif already downloaded\n",
      "File HLS.S30.T10SGD.2018002T185421.v2.0.VZA.tif already downloaded\n",
      "File HLS.S30.T10SGD.2018002T185421.v2.0.B06.tif already downloaded\n",
      "File HLS.S30.T10SGD.2018002T185421.v2.0.B12.tif already downloaded\n",
      "File HLS.S30.T10SGD.2018002T185421.v2.0.B10.tif already downloaded\n",
      "File HLS.S30.T10SGD.2018002T185421.v2.0.B01.tif already downloaded\n",
      "File HLS.S30.T10SGD.2018002T185421.v2.0.B8A.tif already downloaded\n",
      "File HLS.S30.T10SGD.2018002T185421.v2.0.B05.tif already downloaded\n",
      "File HLS.S30.T10SGD.2018002T185421.v2.0.B09.tif already downloaded\n",
      "File HLS.S30.T10SGD.2018002T185421.v2.0.SZA.tif already downloaded\n",
      "File HLS.S30.T10SGD.2018002T185421.v2.0.B08.tif already downloaded\n",
      "File HLS.S30.T10SGD.2018002T185421.v2.0.B07.tif already downloaded\n",
      "File HLS.S30.T10SGD.2018002T185421.v2.0.B11.tif already downloaded\n",
      "File HLS.S30.T10SGD.2018002T185421.v2.0.Fmask.tif already downloaded\n"
     ]
    },
    {
     "data": {
      "application/vnd.jupyter.widget-view+json": {
       "model_id": "03533b14d77e4e0fa957cc07084b0b46",
       "version_major": 2,
       "version_minor": 0
      },
      "text/plain": [
       "PROCESSING TASKS | :   0%|          | 0/18 [00:00<?, ?it/s]"
      ]
     },
     "metadata": {},
     "output_type": "display_data"
    },
    {
     "data": {
      "application/vnd.jupyter.widget-view+json": {
       "model_id": "a9a09080dd6144009904bd41add32352",
       "version_major": 2,
       "version_minor": 0
      },
      "text/plain": [
       "COLLECTING RESULTS | :   0%|          | 0/18 [00:00<?, ?it/s]"
      ]
     },
     "metadata": {},
     "output_type": "display_data"
    },
    {
     "name": "stdout",
     "output_type": "stream",
     "text": [
      "112\n",
      "11SKU\n",
      " Getting 1 granules, approx download size: 0.23 GB\n"
     ]
    },
    {
     "data": {
      "application/vnd.jupyter.widget-view+json": {
       "model_id": "3eadd39ca16c453bb0fb7d4dfff07c14",
       "version_major": 2,
       "version_minor": 0
      },
      "text/plain": [
       "QUEUEING TASKS | :   0%|          | 0/18 [00:00<?, ?it/s]"
      ]
     },
     "metadata": {},
     "output_type": "display_data"
    },
    {
     "name": "stdout",
     "output_type": "stream",
     "text": [
      "File HLS.S30.T11SKU.2018007T184739.v2.0.B02.tif already downloaded\n",
      "File HLS.S30.T11SKU.2018007T184739.v2.0.B08.tif already downloaded\n",
      "File HLS.S30.T11SKU.2018007T184739.v2.0.B01.tif already downloaded\n",
      "File HLS.S30.T11SKU.2018007T184739.v2.0.VAA.tif already downloaded\n",
      "File HLS.S30.T11SKU.2018007T184739.v2.0.SZA.tif already downloaded\n",
      "File HLS.S30.T11SKU.2018007T184739.v2.0.Fmask.tif already downloaded\n",
      "File HLS.S30.T11SKU.2018007T184739.v2.0.B09.tif already downloaded\n",
      "File HLS.S30.T11SKU.2018007T184739.v2.0.B8A.tif already downloaded\n",
      "File HLS.S30.T11SKU.2018007T184739.v2.0.B06.tif already downloaded\n",
      "File HLS.S30.T11SKU.2018007T184739.v2.0.VZA.tif already downloaded\n",
      "File HLS.S30.T11SKU.2018007T184739.v2.0.SAA.tif already downloaded\n",
      "File HLS.S30.T11SKU.2018007T184739.v2.0.B07.tif already downloaded\n",
      "File HLS.S30.T11SKU.2018007T184739.v2.0.B03.tif already downloaded\n",
      "File HLS.S30.T11SKU.2018007T184739.v2.0.B05.tif already downloaded\n",
      "File HLS.S30.T11SKU.2018007T184739.v2.0.B11.tif already downloaded\n",
      "File HLS.S30.T11SKU.2018007T184739.v2.0.B10.tif already downloaded\n",
      "File HLS.S30.T11SKU.2018007T184739.v2.0.B04.tif already downloaded\n",
      "File HLS.S30.T11SKU.2018007T184739.v2.0.B12.tif already downloaded\n"
     ]
    },
    {
     "data": {
      "application/vnd.jupyter.widget-view+json": {
       "model_id": "8eb934885ea947219cbaa325a35ad2c9",
       "version_major": 2,
       "version_minor": 0
      },
      "text/plain": [
       "PROCESSING TASKS | :   0%|          | 0/18 [00:00<?, ?it/s]"
      ]
     },
     "metadata": {},
     "output_type": "display_data"
    },
    {
     "data": {
      "application/vnd.jupyter.widget-view+json": {
       "model_id": "e3440cac76ef4695b419427fece46709",
       "version_major": 2,
       "version_minor": 0
      },
      "text/plain": [
       "COLLECTING RESULTS | :   0%|          | 0/18 [00:00<?, ?it/s]"
      ]
     },
     "metadata": {},
     "output_type": "display_data"
    },
    {
     "name": "stdout",
     "output_type": "stream",
     "text": [
      "113\n",
      "10SGD\n",
      " Getting 1 granules, approx download size: 0.22 GB\n"
     ]
    },
    {
     "data": {
      "application/vnd.jupyter.widget-view+json": {
       "model_id": "b0459cdbdacc451291c40802e9ab4140",
       "version_major": 2,
       "version_minor": 0
      },
      "text/plain": [
       "QUEUEING TASKS | :   0%|          | 0/18 [00:00<?, ?it/s]"
      ]
     },
     "metadata": {},
     "output_type": "display_data"
    },
    {
     "name": "stdout",
     "output_type": "stream",
     "text": [
      "File HLS.S30.T10SGD.2018007T184739.v2.0.B03.tif already downloaded\n",
      "File HLS.S30.T10SGD.2018007T184739.v2.0.B10.tif already downloaded\n",
      "File HLS.S30.T10SGD.2018007T184739.v2.0.B09.tif already downloaded\n",
      "File HLS.S30.T10SGD.2018007T184739.v2.0.B8A.tif already downloaded\n",
      "File HLS.S30.T10SGD.2018007T184739.v2.0.B07.tif already downloaded\n",
      "File HLS.S30.T10SGD.2018007T184739.v2.0.SZA.tif already downloaded\n",
      "File HLS.S30.T10SGD.2018007T184739.v2.0.B12.tif already downloaded\n",
      "File HLS.S30.T10SGD.2018007T184739.v2.0.VZA.tif already downloaded\n",
      "File HLS.S30.T10SGD.2018007T184739.v2.0.VAA.tif already downloadedFile HLS.S30.T10SGD.2018007T184739.v2.0.B02.tif already downloaded\n",
      "\n",
      "File HLS.S30.T10SGD.2018007T184739.v2.0.SAA.tif already downloaded\n",
      "File HLS.S30.T10SGD.2018007T184739.v2.0.B05.tif already downloaded\n",
      "File HLS.S30.T10SGD.2018007T184739.v2.0.B11.tif already downloaded\n",
      "File HLS.S30.T10SGD.2018007T184739.v2.0.B04.tif already downloaded\n",
      "File HLS.S30.T10SGD.2018007T184739.v2.0.B01.tif already downloaded\n",
      "File HLS.S30.T10SGD.2018007T184739.v2.0.B08.tif already downloaded\n",
      "File HLS.S30.T10SGD.2018007T184739.v2.0.Fmask.tif already downloaded\n",
      "File HLS.S30.T10SGD.2018007T184739.v2.0.B06.tif already downloaded\n"
     ]
    },
    {
     "data": {
      "application/vnd.jupyter.widget-view+json": {
       "model_id": "f924b58c3dec43f0a6b66817b6504f34",
       "version_major": 2,
       "version_minor": 0
      },
      "text/plain": [
       "PROCESSING TASKS | :   0%|          | 0/18 [00:00<?, ?it/s]"
      ]
     },
     "metadata": {},
     "output_type": "display_data"
    },
    {
     "data": {
      "application/vnd.jupyter.widget-view+json": {
       "model_id": "35e51e2ca2fa497b977e29facb13dc69",
       "version_major": 2,
       "version_minor": 0
      },
      "text/plain": [
       "COLLECTING RESULTS | :   0%|          | 0/18 [00:00<?, ?it/s]"
      ]
     },
     "metadata": {},
     "output_type": "display_data"
    },
    {
     "name": "stdout",
     "output_type": "stream",
     "text": [
      "114\n",
      "11SKU\n",
      " Getting 1 granules, approx download size: 0.18 GB\n"
     ]
    },
    {
     "data": {
      "application/vnd.jupyter.widget-view+json": {
       "model_id": "1b9f7528d4a64dc5ad51230a34683ae9",
       "version_major": 2,
       "version_minor": 0
      },
      "text/plain": [
       "QUEUEING TASKS | :   0%|          | 0/15 [00:00<?, ?it/s]"
      ]
     },
     "metadata": {},
     "output_type": "display_data"
    },
    {
     "name": "stdout",
     "output_type": "stream",
     "text": [
      "File HLS.L30.T11SKU.2018010T183412.v2.0.B11.tif already downloaded\n",
      "File HLS.L30.T11SKU.2018010T183412.v2.0.SZA.tif already downloaded\n",
      "File HLS.L30.T11SKU.2018010T183412.v2.0.Fmask.tif already downloaded\n",
      "File HLS.L30.T11SKU.2018010T183412.v2.0.B04.tif already downloaded\n",
      "File HLS.L30.T11SKU.2018010T183412.v2.0.B02.tif already downloaded\n",
      "File HLS.L30.T11SKU.2018010T183412.v2.0.B09.tif already downloaded\n",
      "File HLS.L30.T11SKU.2018010T183412.v2.0.SAA.tif already downloaded\n",
      "File HLS.L30.T11SKU.2018010T183412.v2.0.B03.tif already downloaded\n",
      "File HLS.L30.T11SKU.2018010T183412.v2.0.B01.tif already downloaded\n",
      "File HLS.L30.T11SKU.2018010T183412.v2.0.B06.tif already downloaded\n",
      "File HLS.L30.T11SKU.2018010T183412.v2.0.B07.tif already downloaded\n",
      "File HLS.L30.T11SKU.2018010T183412.v2.0.B05.tif already downloaded\n",
      "File HLS.L30.T11SKU.2018010T183412.v2.0.VZA.tif already downloaded\n",
      "File HLS.L30.T11SKU.2018010T183412.v2.0.VAA.tif already downloaded\n",
      "File HLS.L30.T11SKU.2018010T183412.v2.0.B10.tif already downloaded\n"
     ]
    },
    {
     "data": {
      "application/vnd.jupyter.widget-view+json": {
       "model_id": "a6dc2b9f9b164f629859ceb49efa2280",
       "version_major": 2,
       "version_minor": 0
      },
      "text/plain": [
       "PROCESSING TASKS | :   0%|          | 0/15 [00:00<?, ?it/s]"
      ]
     },
     "metadata": {},
     "output_type": "display_data"
    },
    {
     "data": {
      "application/vnd.jupyter.widget-view+json": {
       "model_id": "a95aea424fe94850b5e3cfa487a6dc00",
       "version_major": 2,
       "version_minor": 0
      },
      "text/plain": [
       "COLLECTING RESULTS | :   0%|          | 0/15 [00:00<?, ?it/s]"
      ]
     },
     "metadata": {},
     "output_type": "display_data"
    },
    {
     "name": "stdout",
     "output_type": "stream",
     "text": [
      "115\n",
      "10SGD\n",
      " Getting 1 granules, approx download size: 0.17 GB\n"
     ]
    },
    {
     "data": {
      "application/vnd.jupyter.widget-view+json": {
       "model_id": "96d5ef8988734489b90fc37597681479",
       "version_major": 2,
       "version_minor": 0
      },
      "text/plain": [
       "QUEUEING TASKS | :   0%|          | 0/15 [00:00<?, ?it/s]"
      ]
     },
     "metadata": {},
     "output_type": "display_data"
    },
    {
     "name": "stdout",
     "output_type": "stream",
     "text": [
      "File HLS.L30.T10SGD.2018010T183436.v2.0.B07.tif already downloadedFile HLS.L30.T10SGD.2018010T183436.v2.0.SZA.tif already downloaded\n",
      "\n",
      "File HLS.L30.T10SGD.2018010T183436.v2.0.B06.tif already downloaded\n",
      "File HLS.L30.T10SGD.2018010T183436.v2.0.VZA.tif already downloaded\n",
      "File HLS.L30.T10SGD.2018010T183436.v2.0.B09.tif already downloaded\n",
      "File HLS.L30.T10SGD.2018010T183436.v2.0.B02.tif already downloaded\n",
      "File HLS.L30.T10SGD.2018010T183436.v2.0.B01.tif already downloaded\n",
      "File HLS.L30.T10SGD.2018010T183436.v2.0.B11.tif already downloaded\n",
      "File HLS.L30.T10SGD.2018010T183436.v2.0.Fmask.tif already downloaded\n",
      "File HLS.L30.T10SGD.2018010T183436.v2.0.VAA.tif already downloaded\n",
      "File HLS.L30.T10SGD.2018010T183436.v2.0.B05.tif already downloaded\n",
      "File HLS.L30.T10SGD.2018010T183436.v2.0.SAA.tif already downloaded\n",
      "File HLS.L30.T10SGD.2018010T183436.v2.0.B04.tif already downloaded\n",
      "File HLS.L30.T10SGD.2018010T183436.v2.0.B10.tif already downloaded\n",
      "File HLS.L30.T10SGD.2018010T183436.v2.0.B03.tif already downloaded\n"
     ]
    },
    {
     "data": {
      "application/vnd.jupyter.widget-view+json": {
       "model_id": "768ed779f997408ba9f36a51e39183f4",
       "version_major": 2,
       "version_minor": 0
      },
      "text/plain": [
       "PROCESSING TASKS | :   0%|          | 0/15 [00:00<?, ?it/s]"
      ]
     },
     "metadata": {},
     "output_type": "display_data"
    },
    {
     "data": {
      "application/vnd.jupyter.widget-view+json": {
       "model_id": "139261c43a3a49b3a12b03ab621b8e98",
       "version_major": 2,
       "version_minor": 0
      },
      "text/plain": [
       "COLLECTING RESULTS | :   0%|          | 0/15 [00:00<?, ?it/s]"
      ]
     },
     "metadata": {},
     "output_type": "display_data"
    },
    {
     "name": "stdout",
     "output_type": "stream",
     "text": [
      "116\n",
      "10SGD\n",
      " Getting 1 granules, approx download size: 0.2 GB\n"
     ]
    },
    {
     "data": {
      "application/vnd.jupyter.widget-view+json": {
       "model_id": "f00e0a22578b4484b230946e45f61e20",
       "version_major": 2,
       "version_minor": 0
      },
      "text/plain": [
       "QUEUEING TASKS | :   0%|          | 0/18 [00:00<?, ?it/s]"
      ]
     },
     "metadata": {},
     "output_type": "display_data"
    },
    {
     "name": "stdout",
     "output_type": "stream",
     "text": [
      "File HLS.S30.T10SGD.2018012T184731.v2.0.B08.tif already downloaded\n",
      "File HLS.S30.T10SGD.2018012T184731.v2.0.B03.tif already downloaded\n",
      "File HLS.S30.T10SGD.2018012T184731.v2.0.B09.tif already downloaded\n",
      "File HLS.S30.T10SGD.2018012T184731.v2.0.Fmask.tif already downloaded\n",
      "File HLS.S30.T10SGD.2018012T184731.v2.0.B8A.tif already downloaded\n",
      "File HLS.S30.T10SGD.2018012T184731.v2.0.B06.tif already downloaded\n",
      "File HLS.S30.T10SGD.2018012T184731.v2.0.B02.tif already downloaded\n",
      "File HLS.S30.T10SGD.2018012T184731.v2.0.SZA.tif already downloaded\n",
      "File HLS.S30.T10SGD.2018012T184731.v2.0.B11.tif already downloaded\n",
      "File HLS.S30.T10SGD.2018012T184731.v2.0.VAA.tif already downloaded\n",
      "File HLS.S30.T10SGD.2018012T184731.v2.0.B05.tif already downloaded\n",
      "File HLS.S30.T10SGD.2018012T184731.v2.0.B01.tif already downloaded\n",
      "File HLS.S30.T10SGD.2018012T184731.v2.0.VZA.tif already downloaded\n",
      "File HLS.S30.T10SGD.2018012T184731.v2.0.B04.tif already downloaded\n",
      "File HLS.S30.T10SGD.2018012T184731.v2.0.B10.tif already downloaded\n",
      "File HLS.S30.T10SGD.2018012T184731.v2.0.B12.tif already downloaded\n",
      "File HLS.S30.T10SGD.2018012T184731.v2.0.B07.tif already downloaded\n",
      "File HLS.S30.T10SGD.2018012T184731.v2.0.SAA.tif already downloaded\n"
     ]
    },
    {
     "data": {
      "application/vnd.jupyter.widget-view+json": {
       "model_id": "91b7a70907254323b84c1ce45523f33a",
       "version_major": 2,
       "version_minor": 0
      },
      "text/plain": [
       "PROCESSING TASKS | :   0%|          | 0/18 [00:00<?, ?it/s]"
      ]
     },
     "metadata": {},
     "output_type": "display_data"
    },
    {
     "data": {
      "application/vnd.jupyter.widget-view+json": {
       "model_id": "a69df6e7828e4229bb69cccbb4b99c9a",
       "version_major": 2,
       "version_minor": 0
      },
      "text/plain": [
       "COLLECTING RESULTS | :   0%|          | 0/18 [00:00<?, ?it/s]"
      ]
     },
     "metadata": {},
     "output_type": "display_data"
    },
    {
     "name": "stdout",
     "output_type": "stream",
     "text": [
      "117\n",
      "11SKU\n",
      " Getting 1 granules, approx download size: 0.21 GB\n"
     ]
    },
    {
     "data": {
      "application/vnd.jupyter.widget-view+json": {
       "model_id": "46af32183c2d408ea03a878ecade671a",
       "version_major": 2,
       "version_minor": 0
      },
      "text/plain": [
       "QUEUEING TASKS | :   0%|          | 0/18 [00:00<?, ?it/s]"
      ]
     },
     "metadata": {},
     "output_type": "display_data"
    },
    {
     "name": "stdout",
     "output_type": "stream",
     "text": [
      "File HLS.S30.T11SKU.2018012T184731.v2.0.B09.tif already downloaded\n",
      "File HLS.S30.T11SKU.2018012T184731.v2.0.B05.tif already downloaded\n",
      "File HLS.S30.T11SKU.2018012T184731.v2.0.B04.tif already downloaded\n",
      "File HLS.S30.T11SKU.2018012T184731.v2.0.B11.tif already downloaded\n",
      "File HLS.S30.T11SKU.2018012T184731.v2.0.SZA.tif already downloaded\n",
      "File HLS.S30.T11SKU.2018012T184731.v2.0.B07.tif already downloaded\n",
      "File HLS.S30.T11SKU.2018012T184731.v2.0.B01.tif already downloaded\n",
      "File HLS.S30.T11SKU.2018012T184731.v2.0.SAA.tif already downloaded\n",
      "File HLS.S30.T11SKU.2018012T184731.v2.0.B10.tif already downloaded\n",
      "File HLS.S30.T11SKU.2018012T184731.v2.0.B02.tif already downloaded\n",
      "File HLS.S30.T11SKU.2018012T184731.v2.0.VZA.tif already downloaded\n",
      "File HLS.S30.T11SKU.2018012T184731.v2.0.B8A.tif already downloaded\n",
      "File HLS.S30.T11SKU.2018012T184731.v2.0.Fmask.tif already downloaded\n",
      "File HLS.S30.T11SKU.2018012T184731.v2.0.B12.tif already downloaded\n",
      "File HLS.S30.T11SKU.2018012T184731.v2.0.B03.tif already downloaded\n",
      "File HLS.S30.T11SKU.2018012T184731.v2.0.B06.tif already downloaded\n",
      "File HLS.S30.T11SKU.2018012T184731.v2.0.B08.tif already downloaded\n",
      "File HLS.S30.T11SKU.2018012T184731.v2.0.VAA.tif already downloaded\n"
     ]
    },
    {
     "data": {
      "application/vnd.jupyter.widget-view+json": {
       "model_id": "24c75eed754746c48a09cb944993483e",
       "version_major": 2,
       "version_minor": 0
      },
      "text/plain": [
       "PROCESSING TASKS | :   0%|          | 0/18 [00:00<?, ?it/s]"
      ]
     },
     "metadata": {},
     "output_type": "display_data"
    },
    {
     "data": {
      "application/vnd.jupyter.widget-view+json": {
       "model_id": "8d4de73daa7c43da938377ec9899ee51",
       "version_major": 2,
       "version_minor": 0
      },
      "text/plain": [
       "COLLECTING RESULTS | :   0%|          | 0/18 [00:00<?, ?it/s]"
      ]
     },
     "metadata": {},
     "output_type": "display_data"
    },
    {
     "name": "stdout",
     "output_type": "stream",
     "text": [
      "118\n",
      "10SGD\n",
      " Getting 1 granules, approx download size: 0.21 GB\n"
     ]
    },
    {
     "data": {
      "application/vnd.jupyter.widget-view+json": {
       "model_id": "181f293deb9a4771ba9a89df08cf0016",
       "version_major": 2,
       "version_minor": 0
      },
      "text/plain": [
       "QUEUEING TASKS | :   0%|          | 0/18 [00:00<?, ?it/s]"
      ]
     },
     "metadata": {},
     "output_type": "display_data"
    },
    {
     "name": "stdout",
     "output_type": "stream",
     "text": [
      "File HLS.S30.T10SGD.2018017T184709.v2.0.B06.tif already downloaded\n",
      "File HLS.S30.T10SGD.2018017T184709.v2.0.B10.tif already downloaded\n",
      "File HLS.S30.T10SGD.2018017T184709.v2.0.B02.tif already downloaded\n",
      "File HLS.S30.T10SGD.2018017T184709.v2.0.B01.tif already downloaded\n",
      "File HLS.S30.T10SGD.2018017T184709.v2.0.B11.tif already downloaded\n",
      "File HLS.S30.T10SGD.2018017T184709.v2.0.VAA.tif already downloaded\n",
      "File HLS.S30.T10SGD.2018017T184709.v2.0.B05.tif already downloaded\n",
      "File HLS.S30.T10SGD.2018017T184709.v2.0.Fmask.tif already downloaded\n",
      "File HLS.S30.T10SGD.2018017T184709.v2.0.SZA.tif already downloaded\n",
      "File HLS.S30.T10SGD.2018017T184709.v2.0.B08.tif already downloaded\n",
      "File HLS.S30.T10SGD.2018017T184709.v2.0.VZA.tif already downloaded\n",
      "File HLS.S30.T10SGD.2018017T184709.v2.0.B04.tif already downloaded\n",
      "File HLS.S30.T10SGD.2018017T184709.v2.0.SAA.tif already downloaded\n",
      "File HLS.S30.T10SGD.2018017T184709.v2.0.B8A.tif already downloaded\n",
      "File HLS.S30.T10SGD.2018017T184709.v2.0.B09.tif already downloaded\n",
      "File HLS.S30.T10SGD.2018017T184709.v2.0.B07.tif already downloaded\n",
      "File HLS.S30.T10SGD.2018017T184709.v2.0.B12.tif already downloaded\n",
      "File HLS.S30.T10SGD.2018017T184709.v2.0.B03.tif already downloaded\n"
     ]
    },
    {
     "data": {
      "application/vnd.jupyter.widget-view+json": {
       "model_id": "c538c7847ad1425f85e3dda940a9574d",
       "version_major": 2,
       "version_minor": 0
      },
      "text/plain": [
       "PROCESSING TASKS | :   0%|          | 0/18 [00:00<?, ?it/s]"
      ]
     },
     "metadata": {},
     "output_type": "display_data"
    },
    {
     "data": {
      "application/vnd.jupyter.widget-view+json": {
       "model_id": "c04f4ef340384e06947b2ca3aa5d2433",
       "version_major": 2,
       "version_minor": 0
      },
      "text/plain": [
       "COLLECTING RESULTS | :   0%|          | 0/18 [00:00<?, ?it/s]"
      ]
     },
     "metadata": {},
     "output_type": "display_data"
    },
    {
     "name": "stdout",
     "output_type": "stream",
     "text": [
      "119\n",
      "11SKU\n",
      " Getting 1 granules, approx download size: 0.21 GB\n"
     ]
    },
    {
     "data": {
      "application/vnd.jupyter.widget-view+json": {
       "model_id": "1cbc5d6827154f21ba965c592cb08d8b",
       "version_major": 2,
       "version_minor": 0
      },
      "text/plain": [
       "QUEUEING TASKS | :   0%|          | 0/18 [00:00<?, ?it/s]"
      ]
     },
     "metadata": {},
     "output_type": "display_data"
    },
    {
     "name": "stdout",
     "output_type": "stream",
     "text": [
      "File HLS.S30.T11SKU.2018017T184709.v2.0.B07.tif already downloaded\n",
      "File HLS.S30.T11SKU.2018017T184709.v2.0.B8A.tif already downloaded\n",
      "File HLS.S30.T11SKU.2018017T184709.v2.0.Fmask.tif already downloaded\n",
      "File HLS.S30.T11SKU.2018017T184709.v2.0.B04.tif already downloaded\n",
      "File HLS.S30.T11SKU.2018017T184709.v2.0.B02.tif already downloaded\n",
      "File HLS.S30.T11SKU.2018017T184709.v2.0.B05.tif already downloaded\n",
      "File HLS.S30.T11SKU.2018017T184709.v2.0.SZA.tif already downloaded\n",
      "File HLS.S30.T11SKU.2018017T184709.v2.0.VZA.tif already downloaded\n",
      "File HLS.S30.T11SKU.2018017T184709.v2.0.B03.tif already downloaded\n",
      "File HLS.S30.T11SKU.2018017T184709.v2.0.SAA.tif already downloaded\n",
      "File HLS.S30.T11SKU.2018017T184709.v2.0.B06.tif already downloaded\n",
      "File HLS.S30.T11SKU.2018017T184709.v2.0.VAA.tif already downloaded\n",
      "File HLS.S30.T11SKU.2018017T184709.v2.0.B08.tif already downloaded\n",
      "File HLS.S30.T11SKU.2018017T184709.v2.0.B01.tif already downloaded\n",
      "File HLS.S30.T11SKU.2018017T184709.v2.0.B12.tif already downloaded\n",
      "File HLS.S30.T11SKU.2018017T184709.v2.0.B09.tif already downloaded\n",
      "File HLS.S30.T11SKU.2018017T184709.v2.0.B10.tif already downloaded\n",
      "File HLS.S30.T11SKU.2018017T184709.v2.0.B11.tif already downloaded\n"
     ]
    },
    {
     "data": {
      "application/vnd.jupyter.widget-view+json": {
       "model_id": "1f999bef81854869b3e665440ccabc51",
       "version_major": 2,
       "version_minor": 0
      },
      "text/plain": [
       "PROCESSING TASKS | :   0%|          | 0/18 [00:00<?, ?it/s]"
      ]
     },
     "metadata": {},
     "output_type": "display_data"
    },
    {
     "data": {
      "application/vnd.jupyter.widget-view+json": {
       "model_id": "6a91cd138bd245b1997eca75c570c102",
       "version_major": 2,
       "version_minor": 0
      },
      "text/plain": [
       "COLLECTING RESULTS | :   0%|          | 0/18 [00:00<?, ?it/s]"
      ]
     },
     "metadata": {},
     "output_type": "display_data"
    },
    {
     "name": "stdout",
     "output_type": "stream",
     "text": [
      "120\n",
      "11SKU\n",
      " Getting 1 granules, approx download size: 0.18 GB\n"
     ]
    },
    {
     "data": {
      "application/vnd.jupyter.widget-view+json": {
       "model_id": "f86123e82f8341a5912a5c98f5f6616c",
       "version_major": 2,
       "version_minor": 0
      },
      "text/plain": [
       "QUEUEING TASKS | :   0%|          | 0/15 [00:00<?, ?it/s]"
      ]
     },
     "metadata": {},
     "output_type": "display_data"
    },
    {
     "name": "stdout",
     "output_type": "stream",
     "text": [
      "File HLS.L30.T11SKU.2018026T183403.v2.0.B07.tif already downloaded\n",
      "File HLS.L30.T11SKU.2018026T183403.v2.0.B01.tif already downloaded\n",
      "File HLS.L30.T11SKU.2018026T183403.v2.0.B06.tif already downloaded\n",
      "File HLS.L30.T11SKU.2018026T183403.v2.0.VZA.tif already downloaded\n",
      "File HLS.L30.T11SKU.2018026T183403.v2.0.SZA.tif already downloaded\n",
      "File HLS.L30.T11SKU.2018026T183403.v2.0.Fmask.tif already downloaded\n",
      "File HLS.L30.T11SKU.2018026T183403.v2.0.SAA.tif already downloaded\n",
      "File HLS.L30.T11SKU.2018026T183403.v2.0.VAA.tif already downloaded\n",
      "File HLS.L30.T11SKU.2018026T183403.v2.0.B09.tif already downloaded\n",
      "File HLS.L30.T11SKU.2018026T183403.v2.0.B03.tif already downloaded\n",
      "File HLS.L30.T11SKU.2018026T183403.v2.0.B11.tif already downloaded\n",
      "File HLS.L30.T11SKU.2018026T183403.v2.0.B04.tif already downloaded\n",
      "File HLS.L30.T11SKU.2018026T183403.v2.0.B02.tif already downloaded\n",
      "File HLS.L30.T11SKU.2018026T183403.v2.0.B10.tif already downloaded\n",
      "File HLS.L30.T11SKU.2018026T183403.v2.0.B05.tif already downloaded\n"
     ]
    },
    {
     "data": {
      "application/vnd.jupyter.widget-view+json": {
       "model_id": "5076a31e74de46f9a2dc6128da21e229",
       "version_major": 2,
       "version_minor": 0
      },
      "text/plain": [
       "PROCESSING TASKS | :   0%|          | 0/15 [00:00<?, ?it/s]"
      ]
     },
     "metadata": {},
     "output_type": "display_data"
    },
    {
     "data": {
      "application/vnd.jupyter.widget-view+json": {
       "model_id": "30a2f1e6c40443e5a4d5e04369f2094c",
       "version_major": 2,
       "version_minor": 0
      },
      "text/plain": [
       "COLLECTING RESULTS | :   0%|          | 0/15 [00:00<?, ?it/s]"
      ]
     },
     "metadata": {},
     "output_type": "display_data"
    },
    {
     "name": "stdout",
     "output_type": "stream",
     "text": [
      "121\n",
      "10SGD\n",
      " Getting 1 granules, approx download size: 0.17 GB\n"
     ]
    },
    {
     "data": {
      "application/vnd.jupyter.widget-view+json": {
       "model_id": "545b92bca0a84d4382f6d379f0f5aea2",
       "version_major": 2,
       "version_minor": 0
      },
      "text/plain": [
       "QUEUEING TASKS | :   0%|          | 0/15 [00:00<?, ?it/s]"
      ]
     },
     "metadata": {},
     "output_type": "display_data"
    },
    {
     "name": "stdout",
     "output_type": "stream",
     "text": [
      "File HLS.L30.T10SGD.2018026T183427.v2.0.B10.tif already downloaded\n",
      "File HLS.L30.T10SGD.2018026T183427.v2.0.Fmask.tif already downloaded\n",
      "File HLS.L30.T10SGD.2018026T183427.v2.0.B04.tif already downloaded\n",
      "File HLS.L30.T10SGD.2018026T183427.v2.0.SAA.tif already downloaded\n",
      "File HLS.L30.T10SGD.2018026T183427.v2.0.B11.tif already downloaded\n",
      "File HLS.L30.T10SGD.2018026T183427.v2.0.VAA.tif already downloaded\n",
      "File HLS.L30.T10SGD.2018026T183427.v2.0.B06.tif already downloaded\n",
      "File HLS.L30.T10SGD.2018026T183427.v2.0.B07.tif already downloaded\n",
      "File HLS.L30.T10SGD.2018026T183427.v2.0.B03.tif already downloaded\n",
      "File HLS.L30.T10SGD.2018026T183427.v2.0.B05.tif already downloaded\n",
      "File HLS.L30.T10SGD.2018026T183427.v2.0.VZA.tif already downloaded\n",
      "File HLS.L30.T10SGD.2018026T183427.v2.0.B09.tif already downloaded\n",
      "File HLS.L30.T10SGD.2018026T183427.v2.0.B02.tif already downloaded\n",
      "File HLS.L30.T10SGD.2018026T183427.v2.0.SZA.tif already downloaded\n",
      "File HLS.L30.T10SGD.2018026T183427.v2.0.B01.tif already downloaded\n"
     ]
    },
    {
     "data": {
      "application/vnd.jupyter.widget-view+json": {
       "model_id": "52b885d66fb7458c810edcea7e96ba4f",
       "version_major": 2,
       "version_minor": 0
      },
      "text/plain": [
       "PROCESSING TASKS | :   0%|          | 0/15 [00:00<?, ?it/s]"
      ]
     },
     "metadata": {},
     "output_type": "display_data"
    },
    {
     "data": {
      "application/vnd.jupyter.widget-view+json": {
       "model_id": "50e635e2b9ab4fa9900bc430bb7152d1",
       "version_major": 2,
       "version_minor": 0
      },
      "text/plain": [
       "COLLECTING RESULTS | :   0%|          | 0/15 [00:00<?, ?it/s]"
      ]
     },
     "metadata": {},
     "output_type": "display_data"
    },
    {
     "name": "stdout",
     "output_type": "stream",
     "text": [
      "122\n",
      "11SKU\n",
      " Getting 1 granules, approx download size: 0.21 GB\n"
     ]
    },
    {
     "data": {
      "application/vnd.jupyter.widget-view+json": {
       "model_id": "ca4f42194a0f45ea9f253bc5fb4315ed",
       "version_major": 2,
       "version_minor": 0
      },
      "text/plain": [
       "QUEUEING TASKS | :   0%|          | 0/18 [00:00<?, ?it/s]"
      ]
     },
     "metadata": {},
     "output_type": "display_data"
    },
    {
     "name": "stdout",
     "output_type": "stream",
     "text": [
      "File HLS.S30.T11SKU.2018027T184629.v2.0.B12.tif already downloaded\n",
      "File HLS.S30.T11SKU.2018027T184629.v2.0.SAA.tif already downloaded\n",
      "File HLS.S30.T11SKU.2018027T184629.v2.0.B11.tif already downloaded\n",
      "File HLS.S30.T11SKU.2018027T184629.v2.0.B08.tif already downloaded\n",
      "File HLS.S30.T11SKU.2018027T184629.v2.0.B05.tif already downloaded\n",
      "File HLS.S30.T11SKU.2018027T184629.v2.0.VZA.tif already downloaded\n",
      "File HLS.S30.T11SKU.2018027T184629.v2.0.B09.tif already downloaded\n",
      "File HLS.S30.T11SKU.2018027T184629.v2.0.B01.tif already downloaded\n",
      "File HLS.S30.T11SKU.2018027T184629.v2.0.B02.tif already downloaded\n",
      "File HLS.S30.T11SKU.2018027T184629.v2.0.B8A.tif already downloaded\n",
      "File HLS.S30.T11SKU.2018027T184629.v2.0.B03.tif already downloaded\n",
      "File HLS.S30.T11SKU.2018027T184629.v2.0.B07.tif already downloaded\n",
      "File HLS.S30.T11SKU.2018027T184629.v2.0.VAA.tif already downloaded\n",
      "File HLS.S30.T11SKU.2018027T184629.v2.0.SZA.tif already downloaded\n",
      "File HLS.S30.T11SKU.2018027T184629.v2.0.B10.tif already downloaded\n",
      "File HLS.S30.T11SKU.2018027T184629.v2.0.B06.tif already downloaded\n",
      "File HLS.S30.T11SKU.2018027T184629.v2.0.Fmask.tif already downloaded\n",
      "File HLS.S30.T11SKU.2018027T184629.v2.0.B04.tif already downloaded\n"
     ]
    },
    {
     "data": {
      "application/vnd.jupyter.widget-view+json": {
       "model_id": "62298ca156b544d287157b61d9597d98",
       "version_major": 2,
       "version_minor": 0
      },
      "text/plain": [
       "PROCESSING TASKS | :   0%|          | 0/18 [00:00<?, ?it/s]"
      ]
     },
     "metadata": {},
     "output_type": "display_data"
    },
    {
     "data": {
      "application/vnd.jupyter.widget-view+json": {
       "model_id": "67375ffeee914abe9a561e5114e28405",
       "version_major": 2,
       "version_minor": 0
      },
      "text/plain": [
       "COLLECTING RESULTS | :   0%|          | 0/18 [00:00<?, ?it/s]"
      ]
     },
     "metadata": {},
     "output_type": "display_data"
    },
    {
     "name": "stdout",
     "output_type": "stream",
     "text": [
      "123\n",
      "10SGD\n",
      " Getting 1 granules, approx download size: 0.2 GB\n"
     ]
    },
    {
     "data": {
      "application/vnd.jupyter.widget-view+json": {
       "model_id": "3c1da3874c8a4fcba796dc1d4a44b55d",
       "version_major": 2,
       "version_minor": 0
      },
      "text/plain": [
       "QUEUEING TASKS | :   0%|          | 0/18 [00:00<?, ?it/s]"
      ]
     },
     "metadata": {},
     "output_type": "display_data"
    },
    {
     "name": "stdout",
     "output_type": "stream",
     "text": [
      "File HLS.S30.T10SGD.2018027T184629.v2.0.Fmask.tif already downloaded\n",
      "File HLS.S30.T10SGD.2018027T184629.v2.0.B06.tif already downloaded\n",
      "File HLS.S30.T10SGD.2018027T184629.v2.0.B04.tif already downloaded\n",
      "File HLS.S30.T10SGD.2018027T184629.v2.0.B07.tif already downloaded\n",
      "File HLS.S30.T10SGD.2018027T184629.v2.0.B10.tif already downloaded\n",
      "File HLS.S30.T10SGD.2018027T184629.v2.0.B03.tif already downloaded\n",
      "File HLS.S30.T10SGD.2018027T184629.v2.0.VZA.tif already downloaded\n",
      "File HLS.S30.T10SGD.2018027T184629.v2.0.B01.tif already downloaded\n",
      "File HLS.S30.T10SGD.2018027T184629.v2.0.B8A.tif already downloaded\n",
      "File HLS.S30.T10SGD.2018027T184629.v2.0.B08.tif already downloaded\n",
      "File HLS.S30.T10SGD.2018027T184629.v2.0.B12.tif already downloaded\n",
      "File HLS.S30.T10SGD.2018027T184629.v2.0.VAA.tif already downloaded\n",
      "File HLS.S30.T10SGD.2018027T184629.v2.0.B09.tif already downloaded\n",
      "File HLS.S30.T10SGD.2018027T184629.v2.0.B02.tif already downloaded\n",
      "File HLS.S30.T10SGD.2018027T184629.v2.0.SAA.tif already downloaded\n",
      "File HLS.S30.T10SGD.2018027T184629.v2.0.B11.tif already downloaded\n",
      "File HLS.S30.T10SGD.2018027T184629.v2.0.B05.tif already downloaded\n",
      "File HLS.S30.T10SGD.2018027T184629.v2.0.SZA.tif already downloaded\n"
     ]
    },
    {
     "data": {
      "application/vnd.jupyter.widget-view+json": {
       "model_id": "086afa78bf9841f8a71bc2348228ca62",
       "version_major": 2,
       "version_minor": 0
      },
      "text/plain": [
       "PROCESSING TASKS | :   0%|          | 0/18 [00:00<?, ?it/s]"
      ]
     },
     "metadata": {},
     "output_type": "display_data"
    },
    {
     "data": {
      "application/vnd.jupyter.widget-view+json": {
       "model_id": "4405bf2ddb3c4ad19478ae8a03149188",
       "version_major": 2,
       "version_minor": 0
      },
      "text/plain": [
       "COLLECTING RESULTS | :   0%|          | 0/18 [00:00<?, ?it/s]"
      ]
     },
     "metadata": {},
     "output_type": "display_data"
    },
    {
     "name": "stdout",
     "output_type": "stream",
     "text": [
      "124\n",
      "10SGD\n",
      " Getting 1 granules, approx download size: 0.19 GB\n"
     ]
    },
    {
     "data": {
      "application/vnd.jupyter.widget-view+json": {
       "model_id": "33069ce33d8a44d58c01480d3dad3160",
       "version_major": 2,
       "version_minor": 0
      },
      "text/plain": [
       "QUEUEING TASKS | :   0%|          | 0/18 [00:00<?, ?it/s]"
      ]
     },
     "metadata": {},
     "output_type": "display_data"
    },
    {
     "name": "stdout",
     "output_type": "stream",
     "text": [
      "File HLS.S30.T10SGD.2018032T184611.v2.0.B07.tif already downloaded\n",
      "File HLS.S30.T10SGD.2018032T184611.v2.0.B09.tif already downloaded\n",
      "File HLS.S30.T10SGD.2018032T184611.v2.0.B02.tif already downloaded\n",
      "File HLS.S30.T10SGD.2018032T184611.v2.0.VZA.tif already downloaded\n",
      "File HLS.S30.T10SGD.2018032T184611.v2.0.B10.tif already downloaded\n",
      "File HLS.S30.T10SGD.2018032T184611.v2.0.B04.tif already downloaded\n",
      "File HLS.S30.T10SGD.2018032T184611.v2.0.Fmask.tif already downloaded\n",
      "File HLS.S30.T10SGD.2018032T184611.v2.0.B8A.tif already downloaded\n",
      "File HLS.S30.T10SGD.2018032T184611.v2.0.B12.tif already downloaded\n",
      "File HLS.S30.T10SGD.2018032T184611.v2.0.SAA.tif already downloaded\n",
      "File HLS.S30.T10SGD.2018032T184611.v2.0.B01.tif already downloaded\n",
      "File HLS.S30.T10SGD.2018032T184611.v2.0.VAA.tif already downloaded\n",
      "File HLS.S30.T10SGD.2018032T184611.v2.0.SZA.tif already downloaded\n",
      "File HLS.S30.T10SGD.2018032T184611.v2.0.B06.tif already downloaded\n",
      "File HLS.S30.T10SGD.2018032T184611.v2.0.B08.tif already downloaded\n",
      "File HLS.S30.T10SGD.2018032T184611.v2.0.B03.tif already downloaded\n",
      "File HLS.S30.T10SGD.2018032T184611.v2.0.B05.tif already downloaded\n",
      "File HLS.S30.T10SGD.2018032T184611.v2.0.B11.tif already downloaded\n"
     ]
    },
    {
     "data": {
      "application/vnd.jupyter.widget-view+json": {
       "model_id": "0e5ca39307584a2ca44e151608db7dc7",
       "version_major": 2,
       "version_minor": 0
      },
      "text/plain": [
       "PROCESSING TASKS | :   0%|          | 0/18 [00:00<?, ?it/s]"
      ]
     },
     "metadata": {},
     "output_type": "display_data"
    },
    {
     "data": {
      "application/vnd.jupyter.widget-view+json": {
       "model_id": "4878f18346a84fccba165d045639f16f",
       "version_major": 2,
       "version_minor": 0
      },
      "text/plain": [
       "COLLECTING RESULTS | :   0%|          | 0/18 [00:00<?, ?it/s]"
      ]
     },
     "metadata": {},
     "output_type": "display_data"
    },
    {
     "name": "stdout",
     "output_type": "stream",
     "text": [
      "125\n",
      "11SKU\n",
      " Getting 1 granules, approx download size: 0.21 GB\n"
     ]
    },
    {
     "data": {
      "application/vnd.jupyter.widget-view+json": {
       "model_id": "c7a1d6a736114041a19b49ec47fec509",
       "version_major": 2,
       "version_minor": 0
      },
      "text/plain": [
       "QUEUEING TASKS | :   0%|          | 0/18 [00:00<?, ?it/s]"
      ]
     },
     "metadata": {},
     "output_type": "display_data"
    },
    {
     "name": "stdout",
     "output_type": "stream",
     "text": [
      "File HLS.S30.T11SKU.2018032T184611.v2.0.B03.tif already downloadedFile HLS.S30.T11SKU.2018032T184611.v2.0.SZA.tif already downloaded\n",
      "File HLS.S30.T11SKU.2018032T184611.v2.0.B09.tif already downloaded\n",
      "\n",
      "File HLS.S30.T11SKU.2018032T184611.v2.0.B04.tif already downloaded\n",
      "File HLS.S30.T11SKU.2018032T184611.v2.0.Fmask.tif already downloaded\n",
      "File HLS.S30.T11SKU.2018032T184611.v2.0.B10.tif already downloaded\n",
      "File HLS.S30.T11SKU.2018032T184611.v2.0.B02.tif already downloaded\n",
      "File HLS.S30.T11SKU.2018032T184611.v2.0.SAA.tif already downloaded\n",
      "File HLS.S30.T11SKU.2018032T184611.v2.0.B01.tif already downloaded\n",
      "File HLS.S30.T11SKU.2018032T184611.v2.0.B8A.tif already downloaded\n",
      "File HLS.S30.T11SKU.2018032T184611.v2.0.VAA.tif already downloaded\n",
      "File HLS.S30.T11SKU.2018032T184611.v2.0.B05.tif already downloaded\n",
      "File HLS.S30.T11SKU.2018032T184611.v2.0.B07.tif already downloaded\n",
      "File HLS.S30.T11SKU.2018032T184611.v2.0.B06.tif already downloaded\n",
      "File HLS.S30.T11SKU.2018032T184611.v2.0.VZA.tif already downloaded\n",
      "File HLS.S30.T11SKU.2018032T184611.v2.0.B11.tif already downloaded\n",
      "File HLS.S30.T11SKU.2018032T184611.v2.0.B08.tif already downloaded\n",
      "File HLS.S30.T11SKU.2018032T184611.v2.0.B12.tif already downloaded\n"
     ]
    },
    {
     "data": {
      "application/vnd.jupyter.widget-view+json": {
       "model_id": "33e506101654487795647c8e69990479",
       "version_major": 2,
       "version_minor": 0
      },
      "text/plain": [
       "PROCESSING TASKS | :   0%|          | 0/18 [00:00<?, ?it/s]"
      ]
     },
     "metadata": {},
     "output_type": "display_data"
    },
    {
     "data": {
      "application/vnd.jupyter.widget-view+json": {
       "model_id": "b6bca736a2414a9a8475f990a48302c3",
       "version_major": 2,
       "version_minor": 0
      },
      "text/plain": [
       "COLLECTING RESULTS | :   0%|          | 0/18 [00:00<?, ?it/s]"
      ]
     },
     "metadata": {},
     "output_type": "display_data"
    },
    {
     "name": "stdout",
     "output_type": "stream",
     "text": [
      "126\n",
      "11SKU\n",
      " Getting 1 granules, approx download size: 0.22 GB\n"
     ]
    },
    {
     "data": {
      "application/vnd.jupyter.widget-view+json": {
       "model_id": "c3acbb9fce9e4c429fa5baef8fe6aa40",
       "version_major": 2,
       "version_minor": 0
      },
      "text/plain": [
       "QUEUEING TASKS | :   0%|          | 0/18 [00:00<?, ?it/s]"
      ]
     },
     "metadata": {},
     "output_type": "display_data"
    },
    {
     "name": "stdout",
     "output_type": "stream",
     "text": [
      "File HLS.S30.T11SKU.2018037T184539.v2.0.B09.tif already downloaded\n",
      "File HLS.S30.T11SKU.2018037T184539.v2.0.SZA.tif already downloaded\n",
      "File HLS.S30.T11SKU.2018037T184539.v2.0.Fmask.tif already downloaded\n",
      "File HLS.S30.T11SKU.2018037T184539.v2.0.B06.tif already downloaded\n",
      "File HLS.S30.T11SKU.2018037T184539.v2.0.B02.tif already downloaded\n",
      "File HLS.S30.T11SKU.2018037T184539.v2.0.SAA.tif already downloaded\n",
      "File HLS.S30.T11SKU.2018037T184539.v2.0.B12.tif already downloaded\n",
      "File HLS.S30.T11SKU.2018037T184539.v2.0.B07.tif already downloaded\n",
      "File HLS.S30.T11SKU.2018037T184539.v2.0.B10.tif already downloaded\n",
      "File HLS.S30.T11SKU.2018037T184539.v2.0.VAA.tif already downloaded\n",
      "File HLS.S30.T11SKU.2018037T184539.v2.0.B04.tif already downloaded\n",
      "File HLS.S30.T11SKU.2018037T184539.v2.0.B11.tif already downloaded\n",
      "File HLS.S30.T11SKU.2018037T184539.v2.0.B8A.tif already downloaded\n",
      "File HLS.S30.T11SKU.2018037T184539.v2.0.VZA.tif already downloaded\n",
      "File HLS.S30.T11SKU.2018037T184539.v2.0.B03.tif already downloaded\n",
      "File HLS.S30.T11SKU.2018037T184539.v2.0.B08.tif already downloaded\n",
      "File HLS.S30.T11SKU.2018037T184539.v2.0.B01.tif already downloaded\n",
      "File HLS.S30.T11SKU.2018037T184539.v2.0.B05.tif already downloaded\n"
     ]
    },
    {
     "data": {
      "application/vnd.jupyter.widget-view+json": {
       "model_id": "ab7c98d942494636a831bbe470590cfd",
       "version_major": 2,
       "version_minor": 0
      },
      "text/plain": [
       "PROCESSING TASKS | :   0%|          | 0/18 [00:00<?, ?it/s]"
      ]
     },
     "metadata": {},
     "output_type": "display_data"
    },
    {
     "data": {
      "application/vnd.jupyter.widget-view+json": {
       "model_id": "a6ba6dd6ee4e48b38702d1d31d1078a2",
       "version_major": 2,
       "version_minor": 0
      },
      "text/plain": [
       "COLLECTING RESULTS | :   0%|          | 0/18 [00:00<?, ?it/s]"
      ]
     },
     "metadata": {},
     "output_type": "display_data"
    },
    {
     "name": "stdout",
     "output_type": "stream",
     "text": [
      "127\n",
      "10SGD\n",
      " Getting 1 granules, approx download size: 0.22 GB\n"
     ]
    },
    {
     "data": {
      "application/vnd.jupyter.widget-view+json": {
       "model_id": "8c8c423d20de46b19f56367ec9cf7b5c",
       "version_major": 2,
       "version_minor": 0
      },
      "text/plain": [
       "QUEUEING TASKS | :   0%|          | 0/18 [00:00<?, ?it/s]"
      ]
     },
     "metadata": {},
     "output_type": "display_data"
    },
    {
     "name": "stdout",
     "output_type": "stream",
     "text": [
      "File HLS.S30.T10SGD.2018037T184539.v2.0.B09.tif already downloadedFile HLS.S30.T10SGD.2018037T184539.v2.0.B02.tif already downloaded\n",
      "\n",
      "File HLS.S30.T10SGD.2018037T184539.v2.0.B06.tif already downloaded\n",
      "File HLS.S30.T10SGD.2018037T184539.v2.0.B12.tif already downloaded\n",
      "File HLS.S30.T10SGD.2018037T184539.v2.0.Fmask.tif already downloaded\n",
      "File HLS.S30.T10SGD.2018037T184539.v2.0.B05.tif already downloaded\n",
      "File HLS.S30.T10SGD.2018037T184539.v2.0.B07.tif already downloaded\n",
      "File HLS.S30.T10SGD.2018037T184539.v2.0.SZA.tif already downloaded\n",
      "File HLS.S30.T10SGD.2018037T184539.v2.0.B03.tif already downloaded\n",
      "File HLS.S30.T10SGD.2018037T184539.v2.0.SAA.tif already downloaded\n",
      "File HLS.S30.T10SGD.2018037T184539.v2.0.B08.tif already downloaded\n",
      "File HLS.S30.T10SGD.2018037T184539.v2.0.B01.tif already downloaded\n",
      "File HLS.S30.T10SGD.2018037T184539.v2.0.VZA.tif already downloaded\n",
      "File HLS.S30.T10SGD.2018037T184539.v2.0.B11.tif already downloaded\n",
      "File HLS.S30.T10SGD.2018037T184539.v2.0.B8A.tif already downloaded\n",
      "File HLS.S30.T10SGD.2018037T184539.v2.0.VAA.tif already downloaded\n",
      "File HLS.S30.T10SGD.2018037T184539.v2.0.B04.tif already downloaded\n",
      "File HLS.S30.T10SGD.2018037T184539.v2.0.B10.tif already downloaded\n"
     ]
    },
    {
     "data": {
      "application/vnd.jupyter.widget-view+json": {
       "model_id": "df38056db77940df894ad094c36b0bd5",
       "version_major": 2,
       "version_minor": 0
      },
      "text/plain": [
       "PROCESSING TASKS | :   0%|          | 0/18 [00:00<?, ?it/s]"
      ]
     },
     "metadata": {},
     "output_type": "display_data"
    },
    {
     "data": {
      "application/vnd.jupyter.widget-view+json": {
       "model_id": "1bdc68bd28434e98bccaa681807febe8",
       "version_major": 2,
       "version_minor": 0
      },
      "text/plain": [
       "COLLECTING RESULTS | :   0%|          | 0/18 [00:00<?, ?it/s]"
      ]
     },
     "metadata": {},
     "output_type": "display_data"
    },
    {
     "name": "stdout",
     "output_type": "stream",
     "text": [
      "128\n",
      "11SKU\n",
      " Getting 1 granules, approx download size: 0.18 GB\n"
     ]
    },
    {
     "data": {
      "application/vnd.jupyter.widget-view+json": {
       "model_id": "31566e075e0c4a778ebbe94e2d619150",
       "version_major": 2,
       "version_minor": 0
      },
      "text/plain": [
       "QUEUEING TASKS | :   0%|          | 0/15 [00:00<?, ?it/s]"
      ]
     },
     "metadata": {},
     "output_type": "display_data"
    },
    {
     "name": "stdout",
     "output_type": "stream",
     "text": [
      "File HLS.L30.T11SKU.2018042T183356.v2.0.Fmask.tif already downloaded\n",
      "File HLS.L30.T11SKU.2018042T183356.v2.0.B07.tif already downloaded\n",
      "File HLS.L30.T11SKU.2018042T183356.v2.0.B09.tif already downloaded\n",
      "File HLS.L30.T11SKU.2018042T183356.v2.0.B11.tif already downloaded\n",
      "File HLS.L30.T11SKU.2018042T183356.v2.0.B01.tif already downloaded\n",
      "File HLS.L30.T11SKU.2018042T183356.v2.0.SAA.tif already downloaded\n",
      "File HLS.L30.T11SKU.2018042T183356.v2.0.B06.tif already downloaded\n",
      "File HLS.L30.T11SKU.2018042T183356.v2.0.B02.tif already downloaded\n",
      "File HLS.L30.T11SKU.2018042T183356.v2.0.VZA.tif already downloaded\n",
      "File HLS.L30.T11SKU.2018042T183356.v2.0.B03.tif already downloaded\n",
      "File HLS.L30.T11SKU.2018042T183356.v2.0.SZA.tif already downloaded\n",
      "File HLS.L30.T11SKU.2018042T183356.v2.0.VAA.tif already downloaded\n",
      "File HLS.L30.T11SKU.2018042T183356.v2.0.B10.tif already downloaded\n",
      "File HLS.L30.T11SKU.2018042T183356.v2.0.B04.tif already downloaded\n",
      "File HLS.L30.T11SKU.2018042T183356.v2.0.B05.tif already downloaded\n"
     ]
    },
    {
     "data": {
      "application/vnd.jupyter.widget-view+json": {
       "model_id": "e5416f78668a47aebe5e48fb2ae73e27",
       "version_major": 2,
       "version_minor": 0
      },
      "text/plain": [
       "PROCESSING TASKS | :   0%|          | 0/15 [00:00<?, ?it/s]"
      ]
     },
     "metadata": {},
     "output_type": "display_data"
    },
    {
     "data": {
      "application/vnd.jupyter.widget-view+json": {
       "model_id": "1fb2db4b8966407b976996f244ad8e97",
       "version_major": 2,
       "version_minor": 0
      },
      "text/plain": [
       "COLLECTING RESULTS | :   0%|          | 0/15 [00:00<?, ?it/s]"
      ]
     },
     "metadata": {},
     "output_type": "display_data"
    },
    {
     "name": "stdout",
     "output_type": "stream",
     "text": [
      "129\n",
      "10SGD\n",
      " Getting 1 granules, approx download size: 0.16 GB\n"
     ]
    },
    {
     "data": {
      "application/vnd.jupyter.widget-view+json": {
       "model_id": "9c3d1411fc834248934ce5203929043c",
       "version_major": 2,
       "version_minor": 0
      },
      "text/plain": [
       "QUEUEING TASKS | :   0%|          | 0/15 [00:00<?, ?it/s]"
      ]
     },
     "metadata": {},
     "output_type": "display_data"
    },
    {
     "name": "stdout",
     "output_type": "stream",
     "text": [
      "File HLS.L30.T10SGD.2018042T183420.v2.0.B07.tif already downloaded\n",
      "File HLS.L30.T10SGD.2018042T183420.v2.0.Fmask.tif already downloaded\n",
      "File HLS.L30.T10SGD.2018042T183420.v2.0.B03.tif already downloaded\n",
      "File HLS.L30.T10SGD.2018042T183420.v2.0.B10.tif already downloaded\n",
      "File HLS.L30.T10SGD.2018042T183420.v2.0.VAA.tif already downloaded\n",
      "File HLS.L30.T10SGD.2018042T183420.v2.0.B11.tif already downloaded\n",
      "File HLS.L30.T10SGD.2018042T183420.v2.0.B09.tif already downloaded\n",
      "File HLS.L30.T10SGD.2018042T183420.v2.0.B01.tif already downloaded\n",
      "File HLS.L30.T10SGD.2018042T183420.v2.0.B06.tif already downloaded\n",
      "File HLS.L30.T10SGD.2018042T183420.v2.0.B02.tif already downloaded\n",
      "File HLS.L30.T10SGD.2018042T183420.v2.0.B05.tif already downloaded\n",
      "File HLS.L30.T10SGD.2018042T183420.v2.0.B04.tif already downloaded\n",
      "File HLS.L30.T10SGD.2018042T183420.v2.0.VZA.tif already downloaded\n",
      "File HLS.L30.T10SGD.2018042T183420.v2.0.SAA.tif already downloaded\n",
      "File HLS.L30.T10SGD.2018042T183420.v2.0.SZA.tif already downloaded\n"
     ]
    },
    {
     "data": {
      "application/vnd.jupyter.widget-view+json": {
       "model_id": "baa5fe2b2a7a42dbb1293c26de110ecb",
       "version_major": 2,
       "version_minor": 0
      },
      "text/plain": [
       "PROCESSING TASKS | :   0%|          | 0/15 [00:00<?, ?it/s]"
      ]
     },
     "metadata": {},
     "output_type": "display_data"
    },
    {
     "data": {
      "application/vnd.jupyter.widget-view+json": {
       "model_id": "d4b73c514e1c4e2eb8e952bbb953b9bf",
       "version_major": 2,
       "version_minor": 0
      },
      "text/plain": [
       "COLLECTING RESULTS | :   0%|          | 0/15 [00:00<?, ?it/s]"
      ]
     },
     "metadata": {},
     "output_type": "display_data"
    },
    {
     "name": "stdout",
     "output_type": "stream",
     "text": [
      "130\n",
      "11SKU\n",
      " Getting 1 granules, approx download size: 0.21 GB\n"
     ]
    },
    {
     "data": {
      "application/vnd.jupyter.widget-view+json": {
       "model_id": "f7a024288c1942e287ea3b1109a60fb3",
       "version_major": 2,
       "version_minor": 0
      },
      "text/plain": [
       "QUEUEING TASKS | :   0%|          | 0/18 [00:00<?, ?it/s]"
      ]
     },
     "metadata": {},
     "output_type": "display_data"
    },
    {
     "name": "stdout",
     "output_type": "stream",
     "text": [
      "File HLS.S30.T11SKU.2018042T184511.v2.0.B10.tif already downloaded\n",
      "File HLS.S30.T11SKU.2018042T184511.v2.0.Fmask.tif already downloaded\n",
      "File HLS.S30.T11SKU.2018042T184511.v2.0.B08.tif already downloaded\n",
      "File HLS.S30.T11SKU.2018042T184511.v2.0.VAA.tif already downloaded\n",
      "File HLS.S30.T11SKU.2018042T184511.v2.0.SAA.tif already downloaded\n",
      "File HLS.S30.T11SKU.2018042T184511.v2.0.B05.tif already downloaded\n",
      "File HLS.S30.T11SKU.2018042T184511.v2.0.B11.tif already downloaded\n",
      "File HLS.S30.T11SKU.2018042T184511.v2.0.B12.tif already downloaded\n",
      "File HLS.S30.T11SKU.2018042T184511.v2.0.B03.tif already downloaded\n",
      "File HLS.S30.T11SKU.2018042T184511.v2.0.VZA.tif already downloaded\n",
      "File HLS.S30.T11SKU.2018042T184511.v2.0.B01.tif already downloaded\n",
      "File HLS.S30.T11SKU.2018042T184511.v2.0.B02.tif already downloaded\n",
      "File HLS.S30.T11SKU.2018042T184511.v2.0.B07.tif already downloaded\n",
      "File HLS.S30.T11SKU.2018042T184511.v2.0.B8A.tif already downloaded\n",
      "File HLS.S30.T11SKU.2018042T184511.v2.0.B09.tif already downloaded\n",
      "File HLS.S30.T11SKU.2018042T184511.v2.0.B04.tif already downloaded\n",
      "File HLS.S30.T11SKU.2018042T184511.v2.0.B06.tif already downloaded\n",
      "File HLS.S30.T11SKU.2018042T184511.v2.0.SZA.tif already downloaded\n"
     ]
    },
    {
     "data": {
      "application/vnd.jupyter.widget-view+json": {
       "model_id": "8be4b9482cd14d948f6a0c077c286642",
       "version_major": 2,
       "version_minor": 0
      },
      "text/plain": [
       "PROCESSING TASKS | :   0%|          | 0/18 [00:00<?, ?it/s]"
      ]
     },
     "metadata": {},
     "output_type": "display_data"
    },
    {
     "data": {
      "application/vnd.jupyter.widget-view+json": {
       "model_id": "1352db683aba4230b7e1847053fc1c04",
       "version_major": 2,
       "version_minor": 0
      },
      "text/plain": [
       "COLLECTING RESULTS | :   0%|          | 0/18 [00:00<?, ?it/s]"
      ]
     },
     "metadata": {},
     "output_type": "display_data"
    },
    {
     "name": "stdout",
     "output_type": "stream",
     "text": [
      "131\n",
      "10SGD\n",
      " Getting 1 granules, approx download size: 0.19 GB\n"
     ]
    },
    {
     "data": {
      "application/vnd.jupyter.widget-view+json": {
       "model_id": "e5300e8bb7ce4833923ba0d2e5231577",
       "version_major": 2,
       "version_minor": 0
      },
      "text/plain": [
       "QUEUEING TASKS | :   0%|          | 0/18 [00:00<?, ?it/s]"
      ]
     },
     "metadata": {},
     "output_type": "display_data"
    },
    {
     "name": "stdout",
     "output_type": "stream",
     "text": [
      "File HLS.S30.T10SGD.2018042T184511.v2.0.B08.tif already downloaded\n",
      "File HLS.S30.T10SGD.2018042T184511.v2.0.B02.tif already downloaded\n",
      "File HLS.S30.T10SGD.2018042T184511.v2.0.B01.tif already downloaded\n",
      "File HLS.S30.T10SGD.2018042T184511.v2.0.VZA.tif already downloaded\n",
      "File HLS.S30.T10SGD.2018042T184511.v2.0.B10.tif already downloaded\n",
      "File HLS.S30.T10SGD.2018042T184511.v2.0.B09.tif already downloaded\n",
      "File HLS.S30.T10SGD.2018042T184511.v2.0.B8A.tif already downloaded\n",
      "File HLS.S30.T10SGD.2018042T184511.v2.0.Fmask.tif already downloaded\n",
      "File HLS.S30.T10SGD.2018042T184511.v2.0.SZA.tif already downloaded\n",
      "File HLS.S30.T10SGD.2018042T184511.v2.0.B12.tif already downloaded\n",
      "File HLS.S30.T10SGD.2018042T184511.v2.0.B11.tif already downloaded\n",
      "File HLS.S30.T10SGD.2018042T184511.v2.0.B07.tif already downloaded\n",
      "File HLS.S30.T10SGD.2018042T184511.v2.0.B05.tif already downloaded\n",
      "File HLS.S30.T10SGD.2018042T184511.v2.0.B04.tif already downloaded\n",
      "File HLS.S30.T10SGD.2018042T184511.v2.0.B06.tif already downloaded\n",
      "File HLS.S30.T10SGD.2018042T184511.v2.0.B03.tif already downloaded\n",
      "File HLS.S30.T10SGD.2018042T184511.v2.0.SAA.tif already downloaded\n",
      "File HLS.S30.T10SGD.2018042T184511.v2.0.VAA.tif already downloaded\n"
     ]
    },
    {
     "data": {
      "application/vnd.jupyter.widget-view+json": {
       "model_id": "5275967ac4f2457a88323772cc6fbe0e",
       "version_major": 2,
       "version_minor": 0
      },
      "text/plain": [
       "PROCESSING TASKS | :   0%|          | 0/18 [00:00<?, ?it/s]"
      ]
     },
     "metadata": {},
     "output_type": "display_data"
    },
    {
     "data": {
      "application/vnd.jupyter.widget-view+json": {
       "model_id": "8635f69ea95a48dd8d2c6a84e7b4bfed",
       "version_major": 2,
       "version_minor": 0
      },
      "text/plain": [
       "COLLECTING RESULTS | :   0%|          | 0/18 [00:00<?, ?it/s]"
      ]
     },
     "metadata": {},
     "output_type": "display_data"
    },
    {
     "name": "stdout",
     "output_type": "stream",
     "text": [
      "132\n",
      "10SGD\n",
      " Getting 1 granules, approx download size: 0.21 GB\n"
     ]
    },
    {
     "data": {
      "application/vnd.jupyter.widget-view+json": {
       "model_id": "61fb309434914187ac9ba30e3faab1b8",
       "version_major": 2,
       "version_minor": 0
      },
      "text/plain": [
       "QUEUEING TASKS | :   0%|          | 0/18 [00:00<?, ?it/s]"
      ]
     },
     "metadata": {},
     "output_type": "display_data"
    },
    {
     "name": "stdout",
     "output_type": "stream",
     "text": [
      "File HLS.S30.T10SGD.2018052T184401.v2.0.Fmask.tif already downloaded\n",
      "File HLS.S30.T10SGD.2018052T184401.v2.0.B11.tif already downloaded\n",
      "File HLS.S30.T10SGD.2018052T184401.v2.0.SAA.tif already downloaded\n",
      "File HLS.S30.T10SGD.2018052T184401.v2.0.B03.tif already downloaded\n",
      "File HLS.S30.T10SGD.2018052T184401.v2.0.B10.tif already downloaded\n",
      "File HLS.S30.T10SGD.2018052T184401.v2.0.B02.tif already downloaded\n",
      "File HLS.S30.T10SGD.2018052T184401.v2.0.B05.tif already downloaded\n",
      "File HLS.S30.T10SGD.2018052T184401.v2.0.B06.tif already downloaded\n",
      "File HLS.S30.T10SGD.2018052T184401.v2.0.B09.tif already downloaded\n",
      "File HLS.S30.T10SGD.2018052T184401.v2.0.B12.tif already downloaded\n",
      "File HLS.S30.T10SGD.2018052T184401.v2.0.B8A.tif already downloaded\n",
      "File HLS.S30.T10SGD.2018052T184401.v2.0.VZA.tif already downloaded\n",
      "File HLS.S30.T10SGD.2018052T184401.v2.0.B01.tif already downloaded\n",
      "File HLS.S30.T10SGD.2018052T184401.v2.0.B07.tif already downloaded\n",
      "File HLS.S30.T10SGD.2018052T184401.v2.0.SZA.tif already downloaded\n",
      "File HLS.S30.T10SGD.2018052T184401.v2.0.B04.tif already downloaded\n",
      "File HLS.S30.T10SGD.2018052T184401.v2.0.VAA.tif already downloaded\n",
      "File HLS.S30.T10SGD.2018052T184401.v2.0.B08.tif already downloaded\n"
     ]
    },
    {
     "data": {
      "application/vnd.jupyter.widget-view+json": {
       "model_id": "388b0cf59912434895683489d38210f1",
       "version_major": 2,
       "version_minor": 0
      },
      "text/plain": [
       "PROCESSING TASKS | :   0%|          | 0/18 [00:00<?, ?it/s]"
      ]
     },
     "metadata": {},
     "output_type": "display_data"
    },
    {
     "data": {
      "application/vnd.jupyter.widget-view+json": {
       "model_id": "b43549fcf015471e97813d0f46dbdbdc",
       "version_major": 2,
       "version_minor": 0
      },
      "text/plain": [
       "COLLECTING RESULTS | :   0%|          | 0/18 [00:00<?, ?it/s]"
      ]
     },
     "metadata": {},
     "output_type": "display_data"
    },
    {
     "name": "stdout",
     "output_type": "stream",
     "text": [
      "133\n",
      "11SKU\n",
      " Getting 1 granules, approx download size: 0.21 GB\n"
     ]
    },
    {
     "data": {
      "application/vnd.jupyter.widget-view+json": {
       "model_id": "1e552147a81d45239864710245a660e6",
       "version_major": 2,
       "version_minor": 0
      },
      "text/plain": [
       "QUEUEING TASKS | :   0%|          | 0/18 [00:00<?, ?it/s]"
      ]
     },
     "metadata": {},
     "output_type": "display_data"
    },
    {
     "name": "stdout",
     "output_type": "stream",
     "text": [
      "File HLS.S30.T11SKU.2018052T184401.v2.0.B09.tif already downloadedFile HLS.S30.T11SKU.2018052T184401.v2.0.B8A.tif already downloaded\n",
      "\n",
      "File HLS.S30.T11SKU.2018052T184401.v2.0.B07.tif already downloaded\n",
      "File HLS.S30.T11SKU.2018052T184401.v2.0.B12.tif already downloaded\n",
      "File HLS.S30.T11SKU.2018052T184401.v2.0.B06.tif already downloaded\n",
      "File HLS.S30.T11SKU.2018052T184401.v2.0.SAA.tif already downloaded\n",
      "File HLS.S30.T11SKU.2018052T184401.v2.0.B04.tif already downloaded\n",
      "File HLS.S30.T11SKU.2018052T184401.v2.0.B05.tif already downloaded\n",
      "File HLS.S30.T11SKU.2018052T184401.v2.0.VAA.tif already downloaded\n",
      "File HLS.S30.T11SKU.2018052T184401.v2.0.B01.tif already downloaded\n",
      "File HLS.S30.T11SKU.2018052T184401.v2.0.B03.tif already downloaded\n",
      "File HLS.S30.T11SKU.2018052T184401.v2.0.Fmask.tif already downloaded\n",
      "File HLS.S30.T11SKU.2018052T184401.v2.0.B08.tif already downloaded\n",
      "File HLS.S30.T11SKU.2018052T184401.v2.0.B10.tif already downloaded\n",
      "File HLS.S30.T11SKU.2018052T184401.v2.0.SZA.tif already downloaded\n",
      "File HLS.S30.T11SKU.2018052T184401.v2.0.VZA.tif already downloaded\n",
      "File HLS.S30.T11SKU.2018052T184401.v2.0.B11.tif already downloaded\n"
     ]
    },
    {
     "data": {
      "application/vnd.jupyter.widget-view+json": {
       "model_id": "01c4972825ef442fafbb671f0f4a7208",
       "version_major": 2,
       "version_minor": 0
      },
      "text/plain": [
       "PROCESSING TASKS | :   0%|          | 0/18 [00:00<?, ?it/s]"
      ]
     },
     "metadata": {},
     "output_type": "display_data"
    },
    {
     "data": {
      "application/vnd.jupyter.widget-view+json": {
       "model_id": "25a16c87387c482a9a8e351a9b8fc88a",
       "version_major": 2,
       "version_minor": 0
      },
      "text/plain": [
       "COLLECTING RESULTS | :   0%|          | 0/18 [00:00<?, ?it/s]"
      ]
     },
     "metadata": {},
     "output_type": "display_data"
    },
    {
     "name": "stdout",
     "output_type": "stream",
     "text": [
      "134\n",
      "11SKU\n",
      " Getting 1 granules, approx download size: 0.21 GB\n"
     ]
    },
    {
     "data": {
      "application/vnd.jupyter.widget-view+json": {
       "model_id": "3c4453c6b9114b1484f90896d08b6005",
       "version_major": 2,
       "version_minor": 0
      },
      "text/plain": [
       "QUEUEING TASKS | :   0%|          | 0/18 [00:00<?, ?it/s]"
      ]
     },
     "metadata": {},
     "output_type": "display_data"
    },
    {
     "name": "stdout",
     "output_type": "stream",
     "text": [
      "File HLS.S30.T11SKU.2018057T184319.v2.0.B8A.tif already downloaded\n",
      "File HLS.S30.T11SKU.2018057T184319.v2.0.Fmask.tif already downloaded\n",
      "File HLS.S30.T11SKU.2018057T184319.v2.0.B10.tif already downloaded\n",
      "File HLS.S30.T11SKU.2018057T184319.v2.0.SZA.tif already downloaded\n",
      "File HLS.S30.T11SKU.2018057T184319.v2.0.B12.tif already downloaded\n",
      "File HLS.S30.T11SKU.2018057T184319.v2.0.SAA.tif already downloaded\n",
      "File HLS.S30.T11SKU.2018057T184319.v2.0.B03.tif already downloaded\n",
      "File HLS.S30.T11SKU.2018057T184319.v2.0.B08.tif already downloaded\n",
      "File HLS.S30.T11SKU.2018057T184319.v2.0.B01.tif already downloaded\n",
      "File HLS.S30.T11SKU.2018057T184319.v2.0.B09.tif already downloaded\n",
      "File HLS.S30.T11SKU.2018057T184319.v2.0.VAA.tif already downloaded\n",
      "File HLS.S30.T11SKU.2018057T184319.v2.0.B11.tif already downloaded\n",
      "File HLS.S30.T11SKU.2018057T184319.v2.0.B05.tif already downloaded\n",
      "File HLS.S30.T11SKU.2018057T184319.v2.0.B07.tif already downloaded\n",
      "File HLS.S30.T11SKU.2018057T184319.v2.0.B04.tif already downloaded\n",
      "File HLS.S30.T11SKU.2018057T184319.v2.0.B06.tif already downloaded\n",
      "File HLS.S30.T11SKU.2018057T184319.v2.0.B02.tif already downloaded\n",
      "File HLS.S30.T11SKU.2018057T184319.v2.0.VZA.tif already downloaded\n"
     ]
    },
    {
     "data": {
      "application/vnd.jupyter.widget-view+json": {
       "model_id": "f926c7f852e445dcb6fbe79d3034a4f5",
       "version_major": 2,
       "version_minor": 0
      },
      "text/plain": [
       "PROCESSING TASKS | :   0%|          | 0/18 [00:00<?, ?it/s]"
      ]
     },
     "metadata": {},
     "output_type": "display_data"
    },
    {
     "data": {
      "application/vnd.jupyter.widget-view+json": {
       "model_id": "09eea080fb5048d2b5fe623d3ae73753",
       "version_major": 2,
       "version_minor": 0
      },
      "text/plain": [
       "COLLECTING RESULTS | :   0%|          | 0/18 [00:00<?, ?it/s]"
      ]
     },
     "metadata": {},
     "output_type": "display_data"
    },
    {
     "name": "stdout",
     "output_type": "stream",
     "text": [
      "135\n",
      "10SGD\n",
      " Getting 1 granules, approx download size: 0.22 GB\n"
     ]
    },
    {
     "data": {
      "application/vnd.jupyter.widget-view+json": {
       "model_id": "108fdb430ee3412aa08341fb42fdc332",
       "version_major": 2,
       "version_minor": 0
      },
      "text/plain": [
       "QUEUEING TASKS | :   0%|          | 0/18 [00:00<?, ?it/s]"
      ]
     },
     "metadata": {},
     "output_type": "display_data"
    },
    {
     "name": "stdout",
     "output_type": "stream",
     "text": [
      "File HLS.S30.T10SGD.2018057T184319.v2.0.SAA.tif already downloaded\n",
      "File HLS.S30.T10SGD.2018057T184319.v2.0.SZA.tif already downloaded\n",
      "File HLS.S30.T10SGD.2018057T184319.v2.0.VAA.tif already downloaded\n",
      "File HLS.S30.T10SGD.2018057T184319.v2.0.B10.tif already downloaded\n",
      "File HLS.S30.T10SGD.2018057T184319.v2.0.B02.tif already downloaded\n",
      "File HLS.S30.T10SGD.2018057T184319.v2.0.B07.tif already downloaded\n",
      "File HLS.S30.T10SGD.2018057T184319.v2.0.B03.tif already downloaded\n",
      "File HLS.S30.T10SGD.2018057T184319.v2.0.B12.tif already downloaded\n",
      "File HLS.S30.T10SGD.2018057T184319.v2.0.B09.tif already downloaded\n",
      "File HLS.S30.T10SGD.2018057T184319.v2.0.B08.tif already downloaded\n",
      "File HLS.S30.T10SGD.2018057T184319.v2.0.VZA.tif already downloaded\n",
      "File HLS.S30.T10SGD.2018057T184319.v2.0.B8A.tif already downloaded\n",
      "File HLS.S30.T10SGD.2018057T184319.v2.0.Fmask.tif already downloaded\n",
      "File HLS.S30.T10SGD.2018057T184319.v2.0.B04.tif already downloaded\n",
      "File HLS.S30.T10SGD.2018057T184319.v2.0.B05.tif already downloaded\n",
      "File HLS.S30.T10SGD.2018057T184319.v2.0.B06.tif already downloaded\n",
      "File HLS.S30.T10SGD.2018057T184319.v2.0.B01.tif already downloaded\n",
      "File HLS.S30.T10SGD.2018057T184319.v2.0.B11.tif already downloaded\n"
     ]
    },
    {
     "data": {
      "application/vnd.jupyter.widget-view+json": {
       "model_id": "ce3b542ac0b44038b3bbe2ce602b3863",
       "version_major": 2,
       "version_minor": 0
      },
      "text/plain": [
       "PROCESSING TASKS | :   0%|          | 0/18 [00:00<?, ?it/s]"
      ]
     },
     "metadata": {},
     "output_type": "display_data"
    },
    {
     "data": {
      "application/vnd.jupyter.widget-view+json": {
       "model_id": "015ba42fbe4a49279a18b53db987290d",
       "version_major": 2,
       "version_minor": 0
      },
      "text/plain": [
       "COLLECTING RESULTS | :   0%|          | 0/18 [00:00<?, ?it/s]"
      ]
     },
     "metadata": {},
     "output_type": "display_data"
    },
    {
     "name": "stdout",
     "output_type": "stream",
     "text": [
      "136\n",
      "11SKU\n",
      " Getting 1 granules, approx download size: 0.18 GB\n"
     ]
    },
    {
     "data": {
      "application/vnd.jupyter.widget-view+json": {
       "model_id": "e73e2910741f49e69283c1998a28f22c",
       "version_major": 2,
       "version_minor": 0
      },
      "text/plain": [
       "QUEUEING TASKS | :   0%|          | 0/15 [00:00<?, ?it/s]"
      ]
     },
     "metadata": {},
     "output_type": "display_data"
    },
    {
     "name": "stdout",
     "output_type": "stream",
     "text": [
      "File HLS.L30.T11SKU.2018058T183349.v2.0.B09.tif already downloaded\n",
      "File HLS.L30.T11SKU.2018058T183349.v2.0.VAA.tif already downloaded\n",
      "File HLS.L30.T11SKU.2018058T183349.v2.0.B05.tif already downloaded\n",
      "File HLS.L30.T11SKU.2018058T183349.v2.0.SZA.tif already downloaded\n",
      "File HLS.L30.T11SKU.2018058T183349.v2.0.B03.tif already downloaded\n",
      "File HLS.L30.T11SKU.2018058T183349.v2.0.B01.tif already downloaded\n",
      "File HLS.L30.T11SKU.2018058T183349.v2.0.B02.tif already downloaded\n",
      "File HLS.L30.T11SKU.2018058T183349.v2.0.B11.tif already downloaded\n",
      "File HLS.L30.T11SKU.2018058T183349.v2.0.B06.tif already downloaded\n",
      "File HLS.L30.T11SKU.2018058T183349.v2.0.B04.tif already downloaded\n",
      "File HLS.L30.T11SKU.2018058T183349.v2.0.SAA.tif already downloaded\n",
      "File HLS.L30.T11SKU.2018058T183349.v2.0.Fmask.tif already downloaded\n",
      "File HLS.L30.T11SKU.2018058T183349.v2.0.VZA.tif already downloaded\n",
      "File HLS.L30.T11SKU.2018058T183349.v2.0.B07.tif already downloaded\n",
      "File HLS.L30.T11SKU.2018058T183349.v2.0.B10.tif already downloaded\n"
     ]
    },
    {
     "data": {
      "application/vnd.jupyter.widget-view+json": {
       "model_id": "fdd70b428ede47b3bea6152a19ea0508",
       "version_major": 2,
       "version_minor": 0
      },
      "text/plain": [
       "PROCESSING TASKS | :   0%|          | 0/15 [00:00<?, ?it/s]"
      ]
     },
     "metadata": {},
     "output_type": "display_data"
    },
    {
     "data": {
      "application/vnd.jupyter.widget-view+json": {
       "model_id": "a7d89fecee7f437d995d3050e4c80446",
       "version_major": 2,
       "version_minor": 0
      },
      "text/plain": [
       "COLLECTING RESULTS | :   0%|          | 0/15 [00:00<?, ?it/s]"
      ]
     },
     "metadata": {},
     "output_type": "display_data"
    },
    {
     "name": "stdout",
     "output_type": "stream",
     "text": [
      "137\n",
      "10SGD\n",
      " Getting 1 granules, approx download size: 0.17 GB\n"
     ]
    },
    {
     "data": {
      "application/vnd.jupyter.widget-view+json": {
       "model_id": "21cdc0a01c54490896d1a351cb54943a",
       "version_major": 2,
       "version_minor": 0
      },
      "text/plain": [
       "QUEUEING TASKS | :   0%|          | 0/15 [00:00<?, ?it/s]"
      ]
     },
     "metadata": {},
     "output_type": "display_data"
    },
    {
     "name": "stdout",
     "output_type": "stream",
     "text": [
      "File HLS.L30.T10SGD.2018058T183413.v2.0.SZA.tif already downloaded\n",
      "File HLS.L30.T10SGD.2018058T183413.v2.0.B03.tif already downloaded\n",
      "File HLS.L30.T10SGD.2018058T183413.v2.0.SAA.tif already downloaded\n",
      "File HLS.L30.T10SGD.2018058T183413.v2.0.B07.tif already downloaded\n",
      "File HLS.L30.T10SGD.2018058T183413.v2.0.VAA.tif already downloaded\n",
      "File HLS.L30.T10SGD.2018058T183413.v2.0.B05.tif already downloaded\n",
      "File HLS.L30.T10SGD.2018058T183413.v2.0.B09.tif already downloaded\n",
      "File HLS.L30.T10SGD.2018058T183413.v2.0.B01.tif already downloaded\n",
      "File HLS.L30.T10SGD.2018058T183413.v2.0.B06.tif already downloaded\n",
      "File HLS.L30.T10SGD.2018058T183413.v2.0.Fmask.tif already downloaded\n",
      "File HLS.L30.T10SGD.2018058T183413.v2.0.B10.tif already downloaded\n",
      "File HLS.L30.T10SGD.2018058T183413.v2.0.B04.tif already downloaded\n",
      "File HLS.L30.T10SGD.2018058T183413.v2.0.B02.tif already downloaded\n",
      "File HLS.L30.T10SGD.2018058T183413.v2.0.B11.tif already downloaded\n",
      "File HLS.L30.T10SGD.2018058T183413.v2.0.VZA.tif already downloaded\n"
     ]
    },
    {
     "data": {
      "application/vnd.jupyter.widget-view+json": {
       "model_id": "bd9eb6f80a9946fd954182c4235d52bb",
       "version_major": 2,
       "version_minor": 0
      },
      "text/plain": [
       "PROCESSING TASKS | :   0%|          | 0/15 [00:00<?, ?it/s]"
      ]
     },
     "metadata": {},
     "output_type": "display_data"
    },
    {
     "data": {
      "application/vnd.jupyter.widget-view+json": {
       "model_id": "b12a57ccc96b4299883c72e6f9efb445",
       "version_major": 2,
       "version_minor": 0
      },
      "text/plain": [
       "COLLECTING RESULTS | :   0%|          | 0/15 [00:00<?, ?it/s]"
      ]
     },
     "metadata": {},
     "output_type": "display_data"
    },
    {
     "name": "stdout",
     "output_type": "stream",
     "text": [
      "138\n",
      "10SGD\n",
      " Getting 1 granules, approx download size: 0.23 GB\n"
     ]
    },
    {
     "data": {
      "application/vnd.jupyter.widget-view+json": {
       "model_id": "2e491fdebeac4cdebcda1fe92910cb7a",
       "version_major": 2,
       "version_minor": 0
      },
      "text/plain": [
       "QUEUEING TASKS | :   0%|          | 0/18 [00:00<?, ?it/s]"
      ]
     },
     "metadata": {},
     "output_type": "display_data"
    },
    {
     "name": "stdout",
     "output_type": "stream",
     "text": [
      "File HLS.S30.T10SGD.2018062T184251.v2.0.B08.tif already downloaded\n",
      "File HLS.S30.T10SGD.2018062T184251.v2.0.B06.tif already downloaded\n",
      "File HLS.S30.T10SGD.2018062T184251.v2.0.B03.tif already downloaded\n",
      "File HLS.S30.T10SGD.2018062T184251.v2.0.SAA.tif already downloaded\n",
      "File HLS.S30.T10SGD.2018062T184251.v2.0.B11.tif already downloaded\n",
      "File HLS.S30.T10SGD.2018062T184251.v2.0.VAA.tif already downloaded\n",
      "File HLS.S30.T10SGD.2018062T184251.v2.0.SZA.tif already downloaded\n",
      "File HLS.S30.T10SGD.2018062T184251.v2.0.B04.tif already downloaded\n",
      "File HLS.S30.T10SGD.2018062T184251.v2.0.B05.tif already downloaded\n",
      "File HLS.S30.T10SGD.2018062T184251.v2.0.B09.tif already downloaded\n",
      "File HLS.S30.T10SGD.2018062T184251.v2.0.B02.tif already downloaded\n",
      "File HLS.S30.T10SGD.2018062T184251.v2.0.B10.tif already downloaded\n",
      "File HLS.S30.T10SGD.2018062T184251.v2.0.B01.tif already downloaded\n",
      "File HLS.S30.T10SGD.2018062T184251.v2.0.B07.tif already downloaded\n",
      "File HLS.S30.T10SGD.2018062T184251.v2.0.VZA.tif already downloaded\n",
      "File HLS.S30.T10SGD.2018062T184251.v2.0.Fmask.tif already downloaded\n",
      "File HLS.S30.T10SGD.2018062T184251.v2.0.B8A.tif already downloaded\n",
      "File HLS.S30.T10SGD.2018062T184251.v2.0.B12.tif already downloaded\n"
     ]
    },
    {
     "data": {
      "application/vnd.jupyter.widget-view+json": {
       "model_id": "100b2f751874495bb98340f5ce9f000a",
       "version_major": 2,
       "version_minor": 0
      },
      "text/plain": [
       "PROCESSING TASKS | :   0%|          | 0/18 [00:00<?, ?it/s]"
      ]
     },
     "metadata": {},
     "output_type": "display_data"
    },
    {
     "data": {
      "application/vnd.jupyter.widget-view+json": {
       "model_id": "81a0a6f26f7d4c928741d5fab8963ed2",
       "version_major": 2,
       "version_minor": 0
      },
      "text/plain": [
       "COLLECTING RESULTS | :   0%|          | 0/18 [00:00<?, ?it/s]"
      ]
     },
     "metadata": {},
     "output_type": "display_data"
    },
    {
     "name": "stdout",
     "output_type": "stream",
     "text": [
      "139\n",
      "11SKU\n",
      " Getting 1 granules, approx download size: 0.24 GB\n"
     ]
    },
    {
     "data": {
      "application/vnd.jupyter.widget-view+json": {
       "model_id": "c37a76d4f8ca48cc8b269a59c50de0de",
       "version_major": 2,
       "version_minor": 0
      },
      "text/plain": [
       "QUEUEING TASKS | :   0%|          | 0/18 [00:00<?, ?it/s]"
      ]
     },
     "metadata": {},
     "output_type": "display_data"
    },
    {
     "name": "stdout",
     "output_type": "stream",
     "text": [
      "File HLS.S30.T11SKU.2018062T184251.v2.0.B07.tif already downloaded\n",
      "File HLS.S30.T11SKU.2018062T184251.v2.0.B01.tif already downloaded\n",
      "File HLS.S30.T11SKU.2018062T184251.v2.0.B09.tif already downloaded\n",
      "File HLS.S30.T11SKU.2018062T184251.v2.0.SAA.tif already downloaded\n",
      "File HLS.S30.T11SKU.2018062T184251.v2.0.SZA.tif already downloaded\n",
      "File HLS.S30.T11SKU.2018062T184251.v2.0.B08.tif already downloaded\n",
      "File HLS.S30.T11SKU.2018062T184251.v2.0.Fmask.tif already downloaded\n",
      "File HLS.S30.T11SKU.2018062T184251.v2.0.VAA.tif already downloaded\n",
      "File HLS.S30.T11SKU.2018062T184251.v2.0.B10.tif already downloaded\n",
      "File HLS.S30.T11SKU.2018062T184251.v2.0.B05.tif already downloaded\n",
      "File HLS.S30.T11SKU.2018062T184251.v2.0.B11.tif already downloaded\n",
      "File HLS.S30.T11SKU.2018062T184251.v2.0.B12.tif already downloaded\n",
      "File HLS.S30.T11SKU.2018062T184251.v2.0.B06.tif already downloaded\n",
      "File HLS.S30.T11SKU.2018062T184251.v2.0.B04.tif already downloaded\n",
      "File HLS.S30.T11SKU.2018062T184251.v2.0.B8A.tif already downloaded\n",
      "File HLS.S30.T11SKU.2018062T184251.v2.0.VZA.tif already downloaded\n",
      "File HLS.S30.T11SKU.2018062T184251.v2.0.B02.tif already downloaded\n",
      "File HLS.S30.T11SKU.2018062T184251.v2.0.B03.tif already downloaded\n"
     ]
    },
    {
     "data": {
      "application/vnd.jupyter.widget-view+json": {
       "model_id": "044e60b24a714208bd85ce591c7c43ef",
       "version_major": 2,
       "version_minor": 0
      },
      "text/plain": [
       "PROCESSING TASKS | :   0%|          | 0/18 [00:00<?, ?it/s]"
      ]
     },
     "metadata": {},
     "output_type": "display_data"
    },
    {
     "data": {
      "application/vnd.jupyter.widget-view+json": {
       "model_id": "8ffc6cd6380a47bbbc48805f5b74ab63",
       "version_major": 2,
       "version_minor": 0
      },
      "text/plain": [
       "COLLECTING RESULTS | :   0%|          | 0/18 [00:00<?, ?it/s]"
      ]
     },
     "metadata": {},
     "output_type": "display_data"
    },
    {
     "name": "stdout",
     "output_type": "stream",
     "text": [
      "140\n",
      "10SGD\n",
      " Getting 1 granules, approx download size: 0.19 GB\n"
     ]
    },
    {
     "data": {
      "application/vnd.jupyter.widget-view+json": {
       "model_id": "9b899a6913924b2d82232353f88af2f4",
       "version_major": 2,
       "version_minor": 0
      },
      "text/plain": [
       "QUEUEING TASKS | :   0%|          | 0/18 [00:00<?, ?it/s]"
      ]
     },
     "metadata": {},
     "output_type": "display_data"
    },
    {
     "name": "stdout",
     "output_type": "stream",
     "text": [
      "File HLS.S30.T10SGD.2018067T184209.v2.0.SAA.tif already downloaded\n",
      "File HLS.S30.T10SGD.2018067T184209.v2.0.B10.tif already downloaded\n",
      "File HLS.S30.T10SGD.2018067T184209.v2.0.B03.tif already downloaded\n",
      "File HLS.S30.T10SGD.2018067T184209.v2.0.B08.tif already downloaded\n",
      "File HLS.S30.T10SGD.2018067T184209.v2.0.VAA.tif already downloaded\n",
      "File HLS.S30.T10SGD.2018067T184209.v2.0.B05.tif already downloaded\n",
      "File HLS.S30.T10SGD.2018067T184209.v2.0.B04.tif already downloaded\n",
      "File HLS.S30.T10SGD.2018067T184209.v2.0.B02.tif already downloaded\n",
      "File HLS.S30.T10SGD.2018067T184209.v2.0.B11.tif already downloaded\n",
      "File HLS.S30.T10SGD.2018067T184209.v2.0.SZA.tif already downloaded\n",
      "File HLS.S30.T10SGD.2018067T184209.v2.0.B12.tif already downloaded\n",
      "File HLS.S30.T10SGD.2018067T184209.v2.0.B07.tif already downloaded\n",
      "File HLS.S30.T10SGD.2018067T184209.v2.0.Fmask.tif already downloaded\n",
      "File HLS.S30.T10SGD.2018067T184209.v2.0.B8A.tif already downloaded\n",
      "File HLS.S30.T10SGD.2018067T184209.v2.0.B01.tif already downloaded\n",
      "File HLS.S30.T10SGD.2018067T184209.v2.0.B09.tif already downloaded\n",
      "File HLS.S30.T10SGD.2018067T184209.v2.0.B06.tif already downloaded\n",
      "File HLS.S30.T10SGD.2018067T184209.v2.0.VZA.tif already downloaded\n"
     ]
    },
    {
     "data": {
      "application/vnd.jupyter.widget-view+json": {
       "model_id": "1bf0f6842ecf47b6bd6da5b775c3d295",
       "version_major": 2,
       "version_minor": 0
      },
      "text/plain": [
       "PROCESSING TASKS | :   0%|          | 0/18 [00:00<?, ?it/s]"
      ]
     },
     "metadata": {},
     "output_type": "display_data"
    },
    {
     "data": {
      "application/vnd.jupyter.widget-view+json": {
       "model_id": "ceff961f2e8d412fadb43f698ebc2bd4",
       "version_major": 2,
       "version_minor": 0
      },
      "text/plain": [
       "COLLECTING RESULTS | :   0%|          | 0/18 [00:00<?, ?it/s]"
      ]
     },
     "metadata": {},
     "output_type": "display_data"
    },
    {
     "name": "stdout",
     "output_type": "stream",
     "text": [
      "141\n",
      "11SKU\n",
      " Getting 1 granules, approx download size: 0.2 GB\n"
     ]
    },
    {
     "data": {
      "application/vnd.jupyter.widget-view+json": {
       "model_id": "fce2d9c5241a414cb64b66030ea61fe0",
       "version_major": 2,
       "version_minor": 0
      },
      "text/plain": [
       "QUEUEING TASKS | :   0%|          | 0/18 [00:00<?, ?it/s]"
      ]
     },
     "metadata": {},
     "output_type": "display_data"
    },
    {
     "name": "stdout",
     "output_type": "stream",
     "text": [
      "File HLS.S30.T11SKU.2018067T184209.v2.0.Fmask.tif already downloaded\n",
      "File HLS.S30.T11SKU.2018067T184209.v2.0.B8A.tif already downloaded\n",
      "File HLS.S30.T11SKU.2018067T184209.v2.0.B04.tif already downloaded\n",
      "File HLS.S30.T11SKU.2018067T184209.v2.0.SZA.tif already downloaded\n",
      "File HLS.S30.T11SKU.2018067T184209.v2.0.B06.tif already downloaded\n",
      "File HLS.S30.T11SKU.2018067T184209.v2.0.B07.tif already downloaded\n",
      "File HLS.S30.T11SKU.2018067T184209.v2.0.B02.tif already downloaded\n",
      "File HLS.S30.T11SKU.2018067T184209.v2.0.B01.tif already downloaded\n",
      "File HLS.S30.T11SKU.2018067T184209.v2.0.B05.tif already downloaded\n",
      "File HLS.S30.T11SKU.2018067T184209.v2.0.VAA.tif already downloaded\n",
      "File HLS.S30.T11SKU.2018067T184209.v2.0.VZA.tif already downloaded\n",
      "File HLS.S30.T11SKU.2018067T184209.v2.0.B03.tif already downloaded\n",
      "File HLS.S30.T11SKU.2018067T184209.v2.0.B12.tif already downloaded\n",
      "File HLS.S30.T11SKU.2018067T184209.v2.0.B11.tif already downloaded\n",
      "File HLS.S30.T11SKU.2018067T184209.v2.0.SAA.tif already downloaded\n",
      "File HLS.S30.T11SKU.2018067T184209.v2.0.B08.tif already downloaded\n",
      "File HLS.S30.T11SKU.2018067T184209.v2.0.B10.tif already downloaded\n",
      "File HLS.S30.T11SKU.2018067T184209.v2.0.B09.tif already downloaded\n"
     ]
    },
    {
     "data": {
      "application/vnd.jupyter.widget-view+json": {
       "model_id": "567f4f3833ed4869aaf23ce063b687be",
       "version_major": 2,
       "version_minor": 0
      },
      "text/plain": [
       "PROCESSING TASKS | :   0%|          | 0/18 [00:00<?, ?it/s]"
      ]
     },
     "metadata": {},
     "output_type": "display_data"
    },
    {
     "data": {
      "application/vnd.jupyter.widget-view+json": {
       "model_id": "b9c005938b5f4dcbaf77697a922074bd",
       "version_major": 2,
       "version_minor": 0
      },
      "text/plain": [
       "COLLECTING RESULTS | :   0%|          | 0/18 [00:00<?, ?it/s]"
      ]
     },
     "metadata": {},
     "output_type": "display_data"
    },
    {
     "name": "stdout",
     "output_type": "stream",
     "text": [
      "142\n",
      "11SKU\n",
      " Getting 1 granules, approx download size: 0.23 GB\n"
     ]
    },
    {
     "data": {
      "application/vnd.jupyter.widget-view+json": {
       "model_id": "98468212afc34876a197c7e2d5c775cc",
       "version_major": 2,
       "version_minor": 0
      },
      "text/plain": [
       "QUEUEING TASKS | :   0%|          | 0/18 [00:00<?, ?it/s]"
      ]
     },
     "metadata": {},
     "output_type": "display_data"
    },
    {
     "name": "stdout",
     "output_type": "stream",
     "text": [
      "File HLS.S30.T11SKU.2018072T184141.v2.0.B09.tif already downloaded\n",
      "File HLS.S30.T11SKU.2018072T184141.v2.0.B01.tif already downloaded\n",
      "File HLS.S30.T11SKU.2018072T184141.v2.0.B07.tif already downloaded\n",
      "File HLS.S30.T11SKU.2018072T184141.v2.0.B04.tif already downloaded\n",
      "File HLS.S30.T11SKU.2018072T184141.v2.0.B8A.tif already downloaded\n",
      "File HLS.S30.T11SKU.2018072T184141.v2.0.B05.tif already downloaded\n",
      "File HLS.S30.T11SKU.2018072T184141.v2.0.VZA.tif already downloaded\n",
      "File HLS.S30.T11SKU.2018072T184141.v2.0.VAA.tif already downloaded\n",
      "File HLS.S30.T11SKU.2018072T184141.v2.0.B06.tif already downloaded\n",
      "File HLS.S30.T11SKU.2018072T184141.v2.0.B02.tif already downloaded\n",
      "File HLS.S30.T11SKU.2018072T184141.v2.0.Fmask.tif already downloaded\n",
      "File HLS.S30.T11SKU.2018072T184141.v2.0.SZA.tif already downloaded\n",
      "File HLS.S30.T11SKU.2018072T184141.v2.0.B11.tif already downloaded\n",
      "File HLS.S30.T11SKU.2018072T184141.v2.0.B08.tif already downloaded\n",
      "File HLS.S30.T11SKU.2018072T184141.v2.0.SAA.tif already downloaded\n",
      "File HLS.S30.T11SKU.2018072T184141.v2.0.B03.tif already downloaded\n",
      "File HLS.S30.T11SKU.2018072T184141.v2.0.B12.tif already downloaded\n",
      "File HLS.S30.T11SKU.2018072T184141.v2.0.B10.tif already downloaded\n"
     ]
    },
    {
     "data": {
      "application/vnd.jupyter.widget-view+json": {
       "model_id": "488f092d82ea4c99bed7b44d4ff9e192",
       "version_major": 2,
       "version_minor": 0
      },
      "text/plain": [
       "PROCESSING TASKS | :   0%|          | 0/18 [00:00<?, ?it/s]"
      ]
     },
     "metadata": {},
     "output_type": "display_data"
    },
    {
     "data": {
      "application/vnd.jupyter.widget-view+json": {
       "model_id": "08f5d4f0fd874024bbf11d7bcb82bf61",
       "version_major": 2,
       "version_minor": 0
      },
      "text/plain": [
       "COLLECTING RESULTS | :   0%|          | 0/18 [00:00<?, ?it/s]"
      ]
     },
     "metadata": {},
     "output_type": "display_data"
    },
    {
     "name": "stdout",
     "output_type": "stream",
     "text": [
      "143\n",
      "10SGD\n",
      " Getting 1 granules, approx download size: 0.23 GB\n"
     ]
    },
    {
     "data": {
      "application/vnd.jupyter.widget-view+json": {
       "model_id": "6c8ac82ec66c46bb8de5c173f5bd6c0d",
       "version_major": 2,
       "version_minor": 0
      },
      "text/plain": [
       "QUEUEING TASKS | :   0%|          | 0/18 [00:00<?, ?it/s]"
      ]
     },
     "metadata": {},
     "output_type": "display_data"
    },
    {
     "name": "stdout",
     "output_type": "stream",
     "text": [
      "File HLS.S30.T10SGD.2018072T184141.v2.0.B08.tif already downloaded\n",
      "File HLS.S30.T10SGD.2018072T184141.v2.0.B02.tif already downloaded\n",
      "File HLS.S30.T10SGD.2018072T184141.v2.0.B09.tif already downloaded\n",
      "File HLS.S30.T10SGD.2018072T184141.v2.0.B05.tif already downloaded\n",
      "File HLS.S30.T10SGD.2018072T184141.v2.0.B12.tif already downloaded\n",
      "File HLS.S30.T10SGD.2018072T184141.v2.0.VAA.tif already downloaded\n",
      "File HLS.S30.T10SGD.2018072T184141.v2.0.B8A.tif already downloaded\n",
      "File HLS.S30.T10SGD.2018072T184141.v2.0.B04.tif already downloaded\n",
      "File HLS.S30.T10SGD.2018072T184141.v2.0.B11.tif already downloaded\n",
      "File HLS.S30.T10SGD.2018072T184141.v2.0.B06.tif already downloaded\n",
      "File HLS.S30.T10SGD.2018072T184141.v2.0.SAA.tif already downloaded\n",
      "File HLS.S30.T10SGD.2018072T184141.v2.0.Fmask.tif already downloaded\n",
      "File HLS.S30.T10SGD.2018072T184141.v2.0.SZA.tif already downloaded\n",
      "File HLS.S30.T10SGD.2018072T184141.v2.0.VZA.tif already downloaded\n",
      "File HLS.S30.T10SGD.2018072T184141.v2.0.B10.tif already downloaded\n",
      "File HLS.S30.T10SGD.2018072T184141.v2.0.B03.tif already downloaded\n",
      "File HLS.S30.T10SGD.2018072T184141.v2.0.B01.tif already downloaded\n",
      "File HLS.S30.T10SGD.2018072T184141.v2.0.B07.tif already downloaded\n"
     ]
    },
    {
     "data": {
      "application/vnd.jupyter.widget-view+json": {
       "model_id": "d43fb5c154eb472083a454f5da8e692e",
       "version_major": 2,
       "version_minor": 0
      },
      "text/plain": [
       "PROCESSING TASKS | :   0%|          | 0/18 [00:00<?, ?it/s]"
      ]
     },
     "metadata": {},
     "output_type": "display_data"
    },
    {
     "data": {
      "application/vnd.jupyter.widget-view+json": {
       "model_id": "c4e90bcd30434c44b25e108215678f55",
       "version_major": 2,
       "version_minor": 0
      },
      "text/plain": [
       "COLLECTING RESULTS | :   0%|          | 0/18 [00:00<?, ?it/s]"
      ]
     },
     "metadata": {},
     "output_type": "display_data"
    },
    {
     "name": "stdout",
     "output_type": "stream",
     "text": [
      "144\n",
      "11SKU\n",
      " Getting 1 granules, approx download size: 0.18 GB\n"
     ]
    },
    {
     "data": {
      "application/vnd.jupyter.widget-view+json": {
       "model_id": "340a97d8ef2a4aecbe42e08d64f68b55",
       "version_major": 2,
       "version_minor": 0
      },
      "text/plain": [
       "QUEUEING TASKS | :   0%|          | 0/15 [00:00<?, ?it/s]"
      ]
     },
     "metadata": {},
     "output_type": "display_data"
    },
    {
     "name": "stdout",
     "output_type": "stream",
     "text": [
      "File HLS.L30.T11SKU.2018074T183340.v2.0.B02.tif already downloaded\n",
      "File HLS.L30.T11SKU.2018074T183340.v2.0.B10.tif already downloaded\n",
      "File HLS.L30.T11SKU.2018074T183340.v2.0.B04.tif already downloaded\n",
      "File HLS.L30.T11SKU.2018074T183340.v2.0.B03.tif already downloaded\n",
      "File HLS.L30.T11SKU.2018074T183340.v2.0.B01.tif already downloaded\n",
      "File HLS.L30.T11SKU.2018074T183340.v2.0.B09.tif already downloaded\n",
      "File HLS.L30.T11SKU.2018074T183340.v2.0.B05.tif already downloaded\n",
      "File HLS.L30.T11SKU.2018074T183340.v2.0.B11.tif already downloaded\n",
      "File HLS.L30.T11SKU.2018074T183340.v2.0.B07.tif already downloaded\n",
      "File HLS.L30.T11SKU.2018074T183340.v2.0.Fmask.tif already downloaded\n",
      "File HLS.L30.T11SKU.2018074T183340.v2.0.B06.tif already downloaded\n",
      "File HLS.L30.T11SKU.2018074T183340.v2.0.VAA.tif already downloaded\n",
      "File HLS.L30.T11SKU.2018074T183340.v2.0.SZA.tif already downloaded\n",
      "File HLS.L30.T11SKU.2018074T183340.v2.0.SAA.tif already downloaded\n",
      "File HLS.L30.T11SKU.2018074T183340.v2.0.VZA.tif already downloaded\n"
     ]
    },
    {
     "data": {
      "application/vnd.jupyter.widget-view+json": {
       "model_id": "07ed00ef23d947319eda71ad423b9d77",
       "version_major": 2,
       "version_minor": 0
      },
      "text/plain": [
       "PROCESSING TASKS | :   0%|          | 0/15 [00:00<?, ?it/s]"
      ]
     },
     "metadata": {},
     "output_type": "display_data"
    },
    {
     "data": {
      "application/vnd.jupyter.widget-view+json": {
       "model_id": "67def2e5e46c42b2a9a888f9c7e8f45b",
       "version_major": 2,
       "version_minor": 0
      },
      "text/plain": [
       "COLLECTING RESULTS | :   0%|          | 0/15 [00:00<?, ?it/s]"
      ]
     },
     "metadata": {},
     "output_type": "display_data"
    },
    {
     "name": "stdout",
     "output_type": "stream",
     "text": [
      "145\n",
      "10SGD\n",
      " Getting 1 granules, approx download size: 0.16 GB\n"
     ]
    },
    {
     "data": {
      "application/vnd.jupyter.widget-view+json": {
       "model_id": "bd817225cd9b464e8696080c5d835424",
       "version_major": 2,
       "version_minor": 0
      },
      "text/plain": [
       "QUEUEING TASKS | :   0%|          | 0/15 [00:00<?, ?it/s]"
      ]
     },
     "metadata": {},
     "output_type": "display_data"
    },
    {
     "name": "stdout",
     "output_type": "stream",
     "text": [
      "File HLS.L30.T10SGD.2018074T183404.v2.0.VAA.tif already downloaded\n",
      "File HLS.L30.T10SGD.2018074T183404.v2.0.Fmask.tif already downloaded\n",
      "File HLS.L30.T10SGD.2018074T183404.v2.0.SZA.tif already downloaded\n",
      "File HLS.L30.T10SGD.2018074T183404.v2.0.B09.tif already downloaded\n",
      "File HLS.L30.T10SGD.2018074T183404.v2.0.B04.tif already downloaded\n",
      "File HLS.L30.T10SGD.2018074T183404.v2.0.B02.tif already downloaded\n",
      "File HLS.L30.T10SGD.2018074T183404.v2.0.B06.tif already downloaded\n",
      "File HLS.L30.T10SGD.2018074T183404.v2.0.B03.tif already downloaded\n",
      "File HLS.L30.T10SGD.2018074T183404.v2.0.SAA.tif already downloaded\n",
      "File HLS.L30.T10SGD.2018074T183404.v2.0.B05.tif already downloaded\n",
      "File HLS.L30.T10SGD.2018074T183404.v2.0.B10.tif already downloaded\n",
      "File HLS.L30.T10SGD.2018074T183404.v2.0.B11.tif already downloaded\n",
      "File HLS.L30.T10SGD.2018074T183404.v2.0.B07.tif already downloaded\n",
      "File HLS.L30.T10SGD.2018074T183404.v2.0.VZA.tif already downloaded\n",
      "File HLS.L30.T10SGD.2018074T183404.v2.0.B01.tif already downloaded\n"
     ]
    },
    {
     "data": {
      "application/vnd.jupyter.widget-view+json": {
       "model_id": "7662aa0d0e694423a481054d28e3bd4e",
       "version_major": 2,
       "version_minor": 0
      },
      "text/plain": [
       "PROCESSING TASKS | :   0%|          | 0/15 [00:00<?, ?it/s]"
      ]
     },
     "metadata": {},
     "output_type": "display_data"
    },
    {
     "data": {
      "application/vnd.jupyter.widget-view+json": {
       "model_id": "46d5c6a63386425d8051d8407d11ff3c",
       "version_major": 2,
       "version_minor": 0
      },
      "text/plain": [
       "COLLECTING RESULTS | :   0%|          | 0/15 [00:00<?, ?it/s]"
      ]
     },
     "metadata": {},
     "output_type": "display_data"
    },
    {
     "name": "stdout",
     "output_type": "stream",
     "text": [
      "146\n",
      "10SGD\n",
      " Getting 1 granules, approx download size: 0.2 GB\n"
     ]
    },
    {
     "data": {
      "application/vnd.jupyter.widget-view+json": {
       "model_id": "3154e66b7a0b47d99977055ef773b9da",
       "version_major": 2,
       "version_minor": 0
      },
      "text/plain": [
       "QUEUEING TASKS | :   0%|          | 0/18 [00:00<?, ?it/s]"
      ]
     },
     "metadata": {},
     "output_type": "display_data"
    },
    {
     "name": "stdout",
     "output_type": "stream",
     "text": [
      "File HLS.S30.T10SGD.2018077T184059.v2.0.B07.tif already downloaded\n",
      "File HLS.S30.T10SGD.2018077T184059.v2.0.B11.tif already downloaded\n",
      "File HLS.S30.T10SGD.2018077T184059.v2.0.B02.tif already downloaded\n",
      "File HLS.S30.T10SGD.2018077T184059.v2.0.B06.tif already downloaded\n",
      "File HLS.S30.T10SGD.2018077T184059.v2.0.B04.tif already downloaded\n",
      "File HLS.S30.T10SGD.2018077T184059.v2.0.B8A.tif already downloaded\n",
      "File HLS.S30.T10SGD.2018077T184059.v2.0.VZA.tif already downloaded\n",
      "File HLS.S30.T10SGD.2018077T184059.v2.0.B08.tif already downloaded\n",
      "File HLS.S30.T10SGD.2018077T184059.v2.0.B09.tif already downloaded\n",
      "File HLS.S30.T10SGD.2018077T184059.v2.0.SAA.tif already downloaded\n",
      "File HLS.S30.T10SGD.2018077T184059.v2.0.VAA.tif already downloaded\n",
      "File HLS.S30.T10SGD.2018077T184059.v2.0.B05.tif already downloaded\n",
      "File HLS.S30.T10SGD.2018077T184059.v2.0.Fmask.tif already downloaded\n",
      "File HLS.S30.T10SGD.2018077T184059.v2.0.B10.tif already downloaded\n",
      "File HLS.S30.T10SGD.2018077T184059.v2.0.B03.tif already downloaded\n",
      "File HLS.S30.T10SGD.2018077T184059.v2.0.SZA.tif already downloaded\n",
      "File HLS.S30.T10SGD.2018077T184059.v2.0.B01.tif already downloaded\n",
      "File HLS.S30.T10SGD.2018077T184059.v2.0.B12.tif already downloaded\n"
     ]
    },
    {
     "data": {
      "application/vnd.jupyter.widget-view+json": {
       "model_id": "d14368c837aa4bacb5daab0ef4576337",
       "version_major": 2,
       "version_minor": 0
      },
      "text/plain": [
       "PROCESSING TASKS | :   0%|          | 0/18 [00:00<?, ?it/s]"
      ]
     },
     "metadata": {},
     "output_type": "display_data"
    },
    {
     "data": {
      "application/vnd.jupyter.widget-view+json": {
       "model_id": "5bd13f07babf4fcc846dba2b66d21e9d",
       "version_major": 2,
       "version_minor": 0
      },
      "text/plain": [
       "COLLECTING RESULTS | :   0%|          | 0/18 [00:00<?, ?it/s]"
      ]
     },
     "metadata": {},
     "output_type": "display_data"
    },
    {
     "name": "stdout",
     "output_type": "stream",
     "text": [
      "147\n",
      "11SKU\n",
      " Getting 1 granules, approx download size: 0.21 GB\n"
     ]
    },
    {
     "data": {
      "application/vnd.jupyter.widget-view+json": {
       "model_id": "de465f792ced49a1acf083ea9778f7a7",
       "version_major": 2,
       "version_minor": 0
      },
      "text/plain": [
       "QUEUEING TASKS | :   0%|          | 0/18 [00:00<?, ?it/s]"
      ]
     },
     "metadata": {},
     "output_type": "display_data"
    },
    {
     "name": "stdout",
     "output_type": "stream",
     "text": [
      "File HLS.S30.T11SKU.2018077T184059.v2.0.B01.tif already downloadedFile HLS.S30.T11SKU.2018077T184059.v2.0.B05.tif already downloaded\n",
      "\n",
      "File HLS.S30.T11SKU.2018077T184059.v2.0.B09.tif already downloaded\n",
      "File HLS.S30.T11SKU.2018077T184059.v2.0.VAA.tif already downloaded\n",
      "File HLS.S30.T11SKU.2018077T184059.v2.0.B06.tif already downloaded\n",
      "File HLS.S30.T11SKU.2018077T184059.v2.0.B04.tif already downloaded\n",
      "File HLS.S30.T11SKU.2018077T184059.v2.0.VZA.tif already downloaded\n",
      "File HLS.S30.T11SKU.2018077T184059.v2.0.B02.tif already downloaded\n",
      "File HLS.S30.T11SKU.2018077T184059.v2.0.B03.tif already downloaded\n",
      "File HLS.S30.T11SKU.2018077T184059.v2.0.SZA.tif already downloaded\n",
      "File HLS.S30.T11SKU.2018077T184059.v2.0.B12.tif already downloaded\n",
      "File HLS.S30.T11SKU.2018077T184059.v2.0.B10.tif already downloaded\n",
      "File HLS.S30.T11SKU.2018077T184059.v2.0.Fmask.tif already downloaded\n",
      "File HLS.S30.T11SKU.2018077T184059.v2.0.B08.tif already downloaded\n",
      "File HLS.S30.T11SKU.2018077T184059.v2.0.B8A.tif already downloaded\n",
      "File HLS.S30.T11SKU.2018077T184059.v2.0.B11.tif already downloaded\n",
      "File HLS.S30.T11SKU.2018077T184059.v2.0.B07.tif already downloaded\n",
      "File HLS.S30.T11SKU.2018077T184059.v2.0.SAA.tif already downloaded\n"
     ]
    },
    {
     "data": {
      "application/vnd.jupyter.widget-view+json": {
       "model_id": "a9526c12bf144ff4b3b4fac274498960",
       "version_major": 2,
       "version_minor": 0
      },
      "text/plain": [
       "PROCESSING TASKS | :   0%|          | 0/18 [00:00<?, ?it/s]"
      ]
     },
     "metadata": {},
     "output_type": "display_data"
    },
    {
     "data": {
      "application/vnd.jupyter.widget-view+json": {
       "model_id": "64b4a1415f71427090123273bd7e1296",
       "version_major": 2,
       "version_minor": 0
      },
      "text/plain": [
       "COLLECTING RESULTS | :   0%|          | 0/18 [00:00<?, ?it/s]"
      ]
     },
     "metadata": {},
     "output_type": "display_data"
    },
    {
     "name": "stdout",
     "output_type": "stream",
     "text": [
      "148\n",
      "10SGD\n",
      " Getting 1 granules, approx download size: 0.2 GB\n"
     ]
    },
    {
     "data": {
      "application/vnd.jupyter.widget-view+json": {
       "model_id": "72dea029b39f420585952e5062ba2981",
       "version_major": 2,
       "version_minor": 0
      },
      "text/plain": [
       "QUEUEING TASKS | :   0%|          | 0/18 [00:00<?, ?it/s]"
      ]
     },
     "metadata": {},
     "output_type": "display_data"
    },
    {
     "name": "stdout",
     "output_type": "stream",
     "text": [
      "File HLS.S30.T10SGD.2018082T184031.v2.0.B03.tif already downloaded\n",
      "File HLS.S30.T10SGD.2018082T184031.v2.0.B10.tif already downloaded\n",
      "File HLS.S30.T10SGD.2018082T184031.v2.0.B12.tif already downloaded\n",
      "File HLS.S30.T10SGD.2018082T184031.v2.0.SAA.tif already downloaded\n",
      "File HLS.S30.T10SGD.2018082T184031.v2.0.B8A.tif already downloaded\n",
      "File HLS.S30.T10SGD.2018082T184031.v2.0.B06.tif already downloaded\n",
      "File HLS.S30.T10SGD.2018082T184031.v2.0.B07.tif already downloaded\n",
      "File HLS.S30.T10SGD.2018082T184031.v2.0.B05.tif already downloaded\n",
      "File HLS.S30.T10SGD.2018082T184031.v2.0.VAA.tif already downloaded\n",
      "File HLS.S30.T10SGD.2018082T184031.v2.0.Fmask.tif already downloaded\n",
      "File HLS.S30.T10SGD.2018082T184031.v2.0.SZA.tif already downloaded\n",
      "File HLS.S30.T10SGD.2018082T184031.v2.0.B01.tif already downloaded\n",
      "File HLS.S30.T10SGD.2018082T184031.v2.0.B08.tif already downloaded\n",
      "File HLS.S30.T10SGD.2018082T184031.v2.0.B11.tif already downloaded\n",
      "File HLS.S30.T10SGD.2018082T184031.v2.0.VZA.tif already downloaded\n",
      "File HLS.S30.T10SGD.2018082T184031.v2.0.B04.tif already downloaded\n",
      "File HLS.S30.T10SGD.2018082T184031.v2.0.B09.tif already downloaded\n",
      "File HLS.S30.T10SGD.2018082T184031.v2.0.B02.tif already downloaded\n"
     ]
    },
    {
     "data": {
      "application/vnd.jupyter.widget-view+json": {
       "model_id": "ba475699ca48495f88af7cd0d0a606d6",
       "version_major": 2,
       "version_minor": 0
      },
      "text/plain": [
       "PROCESSING TASKS | :   0%|          | 0/18 [00:00<?, ?it/s]"
      ]
     },
     "metadata": {},
     "output_type": "display_data"
    },
    {
     "data": {
      "application/vnd.jupyter.widget-view+json": {
       "model_id": "38f1258aa43646e0aacc97356e1f6d1f",
       "version_major": 2,
       "version_minor": 0
      },
      "text/plain": [
       "COLLECTING RESULTS | :   0%|          | 0/18 [00:00<?, ?it/s]"
      ]
     },
     "metadata": {},
     "output_type": "display_data"
    },
    {
     "name": "stdout",
     "output_type": "stream",
     "text": [
      "149\n",
      "11SKU\n",
      " Getting 1 granules, approx download size: 0.21 GB\n"
     ]
    },
    {
     "data": {
      "application/vnd.jupyter.widget-view+json": {
       "model_id": "80cde963a2a54b8d9585f0c023d771d0",
       "version_major": 2,
       "version_minor": 0
      },
      "text/plain": [
       "QUEUEING TASKS | :   0%|          | 0/18 [00:00<?, ?it/s]"
      ]
     },
     "metadata": {},
     "output_type": "display_data"
    },
    {
     "name": "stdout",
     "output_type": "stream",
     "text": [
      "File HLS.S30.T11SKU.2018082T184031.v2.0.B02.tif already downloaded\n",
      "File HLS.S30.T11SKU.2018082T184031.v2.0.VAA.tif already downloaded\n",
      "File HLS.S30.T11SKU.2018082T184031.v2.0.SAA.tif already downloaded\n",
      "File HLS.S30.T11SKU.2018082T184031.v2.0.SZA.tif already downloaded\n",
      "File HLS.S30.T11SKU.2018082T184031.v2.0.B09.tif already downloaded\n",
      "File HLS.S30.T11SKU.2018082T184031.v2.0.B12.tif already downloaded\n",
      "File HLS.S30.T11SKU.2018082T184031.v2.0.Fmask.tif already downloaded\n",
      "File HLS.S30.T11SKU.2018082T184031.v2.0.B03.tif already downloaded\n",
      "File HLS.S30.T11SKU.2018082T184031.v2.0.B05.tif already downloaded\n",
      "File HLS.S30.T11SKU.2018082T184031.v2.0.B07.tif already downloaded\n",
      "File HLS.S30.T11SKU.2018082T184031.v2.0.B04.tif already downloaded\n",
      "File HLS.S30.T11SKU.2018082T184031.v2.0.B06.tif already downloaded\n",
      "File HLS.S30.T11SKU.2018082T184031.v2.0.B11.tif already downloaded\n",
      "File HLS.S30.T11SKU.2018082T184031.v2.0.B8A.tif already downloaded\n",
      "File HLS.S30.T11SKU.2018082T184031.v2.0.VZA.tif already downloaded\n",
      "File HLS.S30.T11SKU.2018082T184031.v2.0.B01.tif already downloaded\n",
      "File HLS.S30.T11SKU.2018082T184031.v2.0.B10.tif already downloaded\n",
      "File HLS.S30.T11SKU.2018082T184031.v2.0.B08.tif already downloaded\n"
     ]
    },
    {
     "data": {
      "application/vnd.jupyter.widget-view+json": {
       "model_id": "043407f0e9a14df1942c1d8efe3af3fd",
       "version_major": 2,
       "version_minor": 0
      },
      "text/plain": [
       "PROCESSING TASKS | :   0%|          | 0/18 [00:00<?, ?it/s]"
      ]
     },
     "metadata": {},
     "output_type": "display_data"
    },
    {
     "data": {
      "application/vnd.jupyter.widget-view+json": {
       "model_id": "660747b6d90e4d6d8224b447837f8134",
       "version_major": 2,
       "version_minor": 0
      },
      "text/plain": [
       "COLLECTING RESULTS | :   0%|          | 0/18 [00:00<?, ?it/s]"
      ]
     },
     "metadata": {},
     "output_type": "display_data"
    },
    {
     "name": "stdout",
     "output_type": "stream",
     "text": [
      "150\n",
      "11SKU\n",
      " Getting 1 granules, approx download size: 0.2 GB\n"
     ]
    },
    {
     "data": {
      "application/vnd.jupyter.widget-view+json": {
       "model_id": "784399448f324a2ba6aa9b5ea8e9a820",
       "version_major": 2,
       "version_minor": 0
      },
      "text/plain": [
       "QUEUEING TASKS | :   0%|          | 0/18 [00:00<?, ?it/s]"
      ]
     },
     "metadata": {},
     "output_type": "display_data"
    },
    {
     "name": "stdout",
     "output_type": "stream",
     "text": [
      "File HLS.S30.T11SKU.2018087T183949.v2.0.SAA.tif already downloaded\n",
      "File HLS.S30.T11SKU.2018087T183949.v2.0.B12.tif already downloaded\n",
      "File HLS.S30.T11SKU.2018087T183949.v2.0.VZA.tif already downloaded\n",
      "File HLS.S30.T11SKU.2018087T183949.v2.0.B8A.tif already downloaded\n",
      "File HLS.S30.T11SKU.2018087T183949.v2.0.SZA.tif already downloaded\n",
      "File HLS.S30.T11SKU.2018087T183949.v2.0.B02.tif already downloaded\n",
      "File HLS.S30.T11SKU.2018087T183949.v2.0.B06.tif already downloaded\n",
      "File HLS.S30.T11SKU.2018087T183949.v2.0.VAA.tif already downloaded\n",
      "File HLS.S30.T11SKU.2018087T183949.v2.0.B03.tif already downloaded\n",
      "File HLS.S30.T11SKU.2018087T183949.v2.0.B10.tif already downloaded\n",
      "File HLS.S30.T11SKU.2018087T183949.v2.0.B04.tif already downloaded\n",
      "File HLS.S30.T11SKU.2018087T183949.v2.0.B08.tif already downloaded\n",
      "File HLS.S30.T11SKU.2018087T183949.v2.0.Fmask.tif already downloaded\n",
      "File HLS.S30.T11SKU.2018087T183949.v2.0.B01.tif already downloaded\n",
      "File HLS.S30.T11SKU.2018087T183949.v2.0.B05.tif already downloaded\n",
      "File HLS.S30.T11SKU.2018087T183949.v2.0.B11.tif already downloaded\n",
      "File HLS.S30.T11SKU.2018087T183949.v2.0.B07.tif already downloaded\n",
      "File HLS.S30.T11SKU.2018087T183949.v2.0.B09.tif already downloaded\n"
     ]
    },
    {
     "data": {
      "application/vnd.jupyter.widget-view+json": {
       "model_id": "75b90dce5a264ef6b25068916056273c",
       "version_major": 2,
       "version_minor": 0
      },
      "text/plain": [
       "PROCESSING TASKS | :   0%|          | 0/18 [00:00<?, ?it/s]"
      ]
     },
     "metadata": {},
     "output_type": "display_data"
    },
    {
     "data": {
      "application/vnd.jupyter.widget-view+json": {
       "model_id": "f4bf52e4eaf2446d95be2bc30cb0bea8",
       "version_major": 2,
       "version_minor": 0
      },
      "text/plain": [
       "COLLECTING RESULTS | :   0%|          | 0/18 [00:00<?, ?it/s]"
      ]
     },
     "metadata": {},
     "output_type": "display_data"
    },
    {
     "name": "stdout",
     "output_type": "stream",
     "text": [
      "151\n",
      "10SGD\n",
      " Getting 1 granules, approx download size: 0.2 GB\n"
     ]
    },
    {
     "data": {
      "application/vnd.jupyter.widget-view+json": {
       "model_id": "f66606a376564a52ac49dc83dc896f68",
       "version_major": 2,
       "version_minor": 0
      },
      "text/plain": [
       "QUEUEING TASKS | :   0%|          | 0/18 [00:00<?, ?it/s]"
      ]
     },
     "metadata": {},
     "output_type": "display_data"
    },
    {
     "name": "stdout",
     "output_type": "stream",
     "text": [
      "File HLS.S30.T10SGD.2018087T183949.v2.0.Fmask.tif already downloaded\n",
      "File HLS.S30.T10SGD.2018087T183949.v2.0.B07.tif already downloaded\n",
      "File HLS.S30.T10SGD.2018087T183949.v2.0.SAA.tif already downloaded\n",
      "File HLS.S30.T10SGD.2018087T183949.v2.0.B04.tif already downloaded\n",
      "File HLS.S30.T10SGD.2018087T183949.v2.0.SZA.tif already downloaded\n",
      "File HLS.S30.T10SGD.2018087T183949.v2.0.B03.tif already downloaded\n",
      "File HLS.S30.T10SGD.2018087T183949.v2.0.B02.tif already downloaded\n",
      "File HLS.S30.T10SGD.2018087T183949.v2.0.B11.tif already downloaded\n",
      "File HLS.S30.T10SGD.2018087T183949.v2.0.VAA.tif already downloaded\n",
      "File HLS.S30.T10SGD.2018087T183949.v2.0.B8A.tif already downloaded\n",
      "File HLS.S30.T10SGD.2018087T183949.v2.0.B10.tif already downloaded\n",
      "File HLS.S30.T10SGD.2018087T183949.v2.0.B12.tif already downloaded\n",
      "File HLS.S30.T10SGD.2018087T183949.v2.0.B05.tif already downloaded\n",
      "File HLS.S30.T10SGD.2018087T183949.v2.0.B06.tif already downloaded\n",
      "File HLS.S30.T10SGD.2018087T183949.v2.0.VZA.tif already downloaded\n",
      "File HLS.S30.T10SGD.2018087T183949.v2.0.B08.tif already downloaded\n",
      "File HLS.S30.T10SGD.2018087T183949.v2.0.B01.tif already downloaded\n",
      "File HLS.S30.T10SGD.2018087T183949.v2.0.B09.tif already downloaded\n"
     ]
    },
    {
     "data": {
      "application/vnd.jupyter.widget-view+json": {
       "model_id": "eb3b1f910e03478faef11f0b60a4bf02",
       "version_major": 2,
       "version_minor": 0
      },
      "text/plain": [
       "PROCESSING TASKS | :   0%|          | 0/18 [00:00<?, ?it/s]"
      ]
     },
     "metadata": {},
     "output_type": "display_data"
    },
    {
     "data": {
      "application/vnd.jupyter.widget-view+json": {
       "model_id": "fb46998a1a2440ee8a0e9c2ff7b29a40",
       "version_major": 2,
       "version_minor": 0
      },
      "text/plain": [
       "COLLECTING RESULTS | :   0%|          | 0/18 [00:00<?, ?it/s]"
      ]
     },
     "metadata": {},
     "output_type": "display_data"
    },
    {
     "name": "stdout",
     "output_type": "stream",
     "text": [
      "152\n",
      "11SKU\n",
      " Getting 1 granules, approx download size: 0.18 GB\n"
     ]
    },
    {
     "data": {
      "application/vnd.jupyter.widget-view+json": {
       "model_id": "1d7c263630df416ba8717ec4ffbe4898",
       "version_major": 2,
       "version_minor": 0
      },
      "text/plain": [
       "QUEUEING TASKS | :   0%|          | 0/15 [00:00<?, ?it/s]"
      ]
     },
     "metadata": {},
     "output_type": "display_data"
    },
    {
     "name": "stdout",
     "output_type": "stream",
     "text": [
      "File HLS.L30.T11SKU.2018090T183334.v2.0.B11.tif already downloaded\n",
      "File HLS.L30.T11SKU.2018090T183334.v2.0.B10.tif already downloaded\n",
      "File HLS.L30.T11SKU.2018090T183334.v2.0.B01.tif already downloaded\n",
      "File HLS.L30.T11SKU.2018090T183334.v2.0.B09.tif already downloaded\n",
      "File HLS.L30.T11SKU.2018090T183334.v2.0.B05.tif already downloaded\n",
      "File HLS.L30.T11SKU.2018090T183334.v2.0.SZA.tif already downloaded\n",
      "File HLS.L30.T11SKU.2018090T183334.v2.0.Fmask.tif already downloaded\n",
      "File HLS.L30.T11SKU.2018090T183334.v2.0.SAA.tif already downloaded\n",
      "File HLS.L30.T11SKU.2018090T183334.v2.0.VAA.tif already downloaded\n",
      "File HLS.L30.T11SKU.2018090T183334.v2.0.B06.tif already downloaded\n",
      "File HLS.L30.T11SKU.2018090T183334.v2.0.B02.tif already downloaded\n",
      "File HLS.L30.T11SKU.2018090T183334.v2.0.B03.tif already downloaded\n",
      "File HLS.L30.T11SKU.2018090T183334.v2.0.B07.tif already downloaded\n",
      "File HLS.L30.T11SKU.2018090T183334.v2.0.B04.tif already downloaded\n",
      "File HLS.L30.T11SKU.2018090T183334.v2.0.VZA.tif already downloaded\n"
     ]
    },
    {
     "data": {
      "application/vnd.jupyter.widget-view+json": {
       "model_id": "c677d8415d244bb2b2981880032c54fc",
       "version_major": 2,
       "version_minor": 0
      },
      "text/plain": [
       "PROCESSING TASKS | :   0%|          | 0/15 [00:00<?, ?it/s]"
      ]
     },
     "metadata": {},
     "output_type": "display_data"
    },
    {
     "data": {
      "application/vnd.jupyter.widget-view+json": {
       "model_id": "cb034c62d9f54c748fdad58fdf98b338",
       "version_major": 2,
       "version_minor": 0
      },
      "text/plain": [
       "COLLECTING RESULTS | :   0%|          | 0/15 [00:00<?, ?it/s]"
      ]
     },
     "metadata": {},
     "output_type": "display_data"
    },
    {
     "name": "stdout",
     "output_type": "stream",
     "text": [
      "153\n",
      "10SGD\n",
      " Getting 1 granules, approx download size: 0.19 GB\n"
     ]
    },
    {
     "data": {
      "application/vnd.jupyter.widget-view+json": {
       "model_id": "7e6e1120c3fc44e8bf27116174d509e0",
       "version_major": 2,
       "version_minor": 0
      },
      "text/plain": [
       "QUEUEING TASKS | :   0%|          | 0/15 [00:00<?, ?it/s]"
      ]
     },
     "metadata": {},
     "output_type": "display_data"
    },
    {
     "name": "stdout",
     "output_type": "stream",
     "text": [
      "File HLS.L30.T10SGD.2018090T183357.v2.0.B05.tif already downloadedFile HLS.L30.T10SGD.2018090T183357.v2.0.B02.tif already downloaded\n",
      "\n",
      "File HLS.L30.T10SGD.2018090T183357.v2.0.B10.tif already downloaded\n",
      "File HLS.L30.T10SGD.2018090T183357.v2.0.B01.tif already downloaded\n",
      "File HLS.L30.T10SGD.2018090T183357.v2.0.B07.tif already downloaded\n",
      "File HLS.L30.T10SGD.2018090T183357.v2.0.SZA.tif already downloaded\n",
      "File HLS.L30.T10SGD.2018090T183357.v2.0.B04.tif already downloaded\n",
      "File HLS.L30.T10SGD.2018090T183357.v2.0.B03.tif already downloaded\n",
      "File HLS.L30.T10SGD.2018090T183357.v2.0.SAA.tif already downloaded\n",
      "File HLS.L30.T10SGD.2018090T183357.v2.0.B11.tif already downloaded\n",
      "File HLS.L30.T10SGD.2018090T183357.v2.0.Fmask.tif already downloaded\n",
      "File HLS.L30.T10SGD.2018090T183357.v2.0.B06.tif already downloaded\n",
      "File HLS.L30.T10SGD.2018090T183357.v2.0.B09.tif already downloaded\n",
      "File HLS.L30.T10SGD.2018090T183357.v2.0.VAA.tif already downloaded\n",
      "File HLS.L30.T10SGD.2018090T183357.v2.0.VZA.tif already downloaded\n"
     ]
    },
    {
     "data": {
      "application/vnd.jupyter.widget-view+json": {
       "model_id": "a6904264906648be8a59a9b36923e602",
       "version_major": 2,
       "version_minor": 0
      },
      "text/plain": [
       "PROCESSING TASKS | :   0%|          | 0/15 [00:00<?, ?it/s]"
      ]
     },
     "metadata": {},
     "output_type": "display_data"
    },
    {
     "data": {
      "application/vnd.jupyter.widget-view+json": {
       "model_id": "07b42031f3d0428ab34299796a949212",
       "version_major": 2,
       "version_minor": 0
      },
      "text/plain": [
       "COLLECTING RESULTS | :   0%|          | 0/15 [00:00<?, ?it/s]"
      ]
     },
     "metadata": {},
     "output_type": "display_data"
    },
    {
     "name": "stdout",
     "output_type": "stream",
     "text": [
      "154\n",
      "11SKU\n",
      " Getting 1 granules, approx download size: 0.22 GB\n"
     ]
    },
    {
     "data": {
      "application/vnd.jupyter.widget-view+json": {
       "model_id": "3ac1fd595fec44b1a89d5d39919165ce",
       "version_major": 2,
       "version_minor": 0
      },
      "text/plain": [
       "QUEUEING TASKS | :   0%|          | 0/18 [00:00<?, ?it/s]"
      ]
     },
     "metadata": {},
     "output_type": "display_data"
    },
    {
     "name": "stdout",
     "output_type": "stream",
     "text": [
      "File HLS.S30.T11SKU.2018092T183921.v2.0.SAA.tif already downloadedFile HLS.S30.T11SKU.2018092T183921.v2.0.B05.tif already downloaded\n",
      "\n",
      "File HLS.S30.T11SKU.2018092T183921.v2.0.B07.tif already downloaded\n",
      "File HLS.S30.T11SKU.2018092T183921.v2.0.B02.tif already downloaded\n",
      "File HLS.S30.T11SKU.2018092T183921.v2.0.B12.tif already downloaded\n",
      "File HLS.S30.T11SKU.2018092T183921.v2.0.B06.tif already downloaded\n",
      "File HLS.S30.T11SKU.2018092T183921.v2.0.VZA.tif already downloaded\n",
      "File HLS.S30.T11SKU.2018092T183921.v2.0.B01.tif already downloaded\n",
      "File HLS.S30.T11SKU.2018092T183921.v2.0.B04.tif already downloaded\n",
      "File HLS.S30.T11SKU.2018092T183921.v2.0.B03.tif already downloaded\n",
      "File HLS.S30.T11SKU.2018092T183921.v2.0.B08.tif already downloaded\n",
      "File HLS.S30.T11SKU.2018092T183921.v2.0.Fmask.tif already downloaded\n",
      "File HLS.S30.T11SKU.2018092T183921.v2.0.B11.tif already downloaded\n",
      "File HLS.S30.T11SKU.2018092T183921.v2.0.VAA.tif already downloaded\n",
      "File HLS.S30.T11SKU.2018092T183921.v2.0.B09.tif already downloaded\n",
      "File HLS.S30.T11SKU.2018092T183921.v2.0.B8A.tif already downloaded\n",
      "File HLS.S30.T11SKU.2018092T183921.v2.0.SZA.tif already downloaded\n",
      "File HLS.S30.T11SKU.2018092T183921.v2.0.B10.tif already downloaded\n"
     ]
    },
    {
     "data": {
      "application/vnd.jupyter.widget-view+json": {
       "model_id": "84b18c95d523445896f713b5e27fb224",
       "version_major": 2,
       "version_minor": 0
      },
      "text/plain": [
       "PROCESSING TASKS | :   0%|          | 0/18 [00:00<?, ?it/s]"
      ]
     },
     "metadata": {},
     "output_type": "display_data"
    },
    {
     "data": {
      "application/vnd.jupyter.widget-view+json": {
       "model_id": "43958d4aaad445c6ad032073902f5289",
       "version_major": 2,
       "version_minor": 0
      },
      "text/plain": [
       "COLLECTING RESULTS | :   0%|          | 0/18 [00:00<?, ?it/s]"
      ]
     },
     "metadata": {},
     "output_type": "display_data"
    },
    {
     "name": "stdout",
     "output_type": "stream",
     "text": [
      "155\n",
      "10SGD\n",
      " Getting 1 granules, approx download size: 0.22 GB\n"
     ]
    },
    {
     "data": {
      "application/vnd.jupyter.widget-view+json": {
       "model_id": "72fc4e08d6c74a1aa5c5c30eb54f6ca6",
       "version_major": 2,
       "version_minor": 0
      },
      "text/plain": [
       "QUEUEING TASKS | :   0%|          | 0/18 [00:00<?, ?it/s]"
      ]
     },
     "metadata": {},
     "output_type": "display_data"
    },
    {
     "name": "stdout",
     "output_type": "stream",
     "text": [
      "File HLS.S30.T10SGD.2018092T183921.v2.0.B12.tif already downloaded\n",
      "File HLS.S30.T10SGD.2018092T183921.v2.0.B11.tif already downloaded\n",
      "File HLS.S30.T10SGD.2018092T183921.v2.0.B8A.tif already downloaded\n",
      "File HLS.S30.T10SGD.2018092T183921.v2.0.B03.tif already downloaded\n",
      "File HLS.S30.T10SGD.2018092T183921.v2.0.B02.tif already downloaded\n",
      "File HLS.S30.T10SGD.2018092T183921.v2.0.Fmask.tif already downloaded\n",
      "File HLS.S30.T10SGD.2018092T183921.v2.0.B08.tif already downloaded\n",
      "File HLS.S30.T10SGD.2018092T183921.v2.0.B09.tif already downloaded\n",
      "File HLS.S30.T10SGD.2018092T183921.v2.0.B04.tif already downloaded\n",
      "File HLS.S30.T10SGD.2018092T183921.v2.0.B10.tif already downloaded\n",
      "File HLS.S30.T10SGD.2018092T183921.v2.0.SZA.tif already downloaded\n",
      "File HLS.S30.T10SGD.2018092T183921.v2.0.B07.tif already downloaded\n",
      "File HLS.S30.T10SGD.2018092T183921.v2.0.B06.tif already downloaded\n",
      "File HLS.S30.T10SGD.2018092T183921.v2.0.B01.tif already downloaded\n",
      "File HLS.S30.T10SGD.2018092T183921.v2.0.VAA.tif already downloaded\n",
      "File HLS.S30.T10SGD.2018092T183921.v2.0.B05.tif already downloaded\n",
      "File HLS.S30.T10SGD.2018092T183921.v2.0.VZA.tif already downloaded\n",
      "File HLS.S30.T10SGD.2018092T183921.v2.0.SAA.tif already downloaded\n"
     ]
    },
    {
     "data": {
      "application/vnd.jupyter.widget-view+json": {
       "model_id": "10d70ed2c281497ca162b3991cd4086d",
       "version_major": 2,
       "version_minor": 0
      },
      "text/plain": [
       "PROCESSING TASKS | :   0%|          | 0/18 [00:00<?, ?it/s]"
      ]
     },
     "metadata": {},
     "output_type": "display_data"
    },
    {
     "data": {
      "application/vnd.jupyter.widget-view+json": {
       "model_id": "abe20c81f5c64c3f8773525d09b6776c",
       "version_major": 2,
       "version_minor": 0
      },
      "text/plain": [
       "COLLECTING RESULTS | :   0%|          | 0/18 [00:00<?, ?it/s]"
      ]
     },
     "metadata": {},
     "output_type": "display_data"
    },
    {
     "name": "stdout",
     "output_type": "stream",
     "text": [
      "156\n",
      "11SKU\n",
      " Getting 1 granules, approx download size: 0.23 GB\n"
     ]
    },
    {
     "data": {
      "application/vnd.jupyter.widget-view+json": {
       "model_id": "48d7ed81583d4dd68bce3316b31aeb23",
       "version_major": 2,
       "version_minor": 0
      },
      "text/plain": [
       "QUEUEING TASKS | :   0%|          | 0/18 [00:00<?, ?it/s]"
      ]
     },
     "metadata": {},
     "output_type": "display_data"
    },
    {
     "name": "stdout",
     "output_type": "stream",
     "text": [
      "File HLS.S30.T11SKU.2018097T183919.v2.0.SZA.tif already downloaded\n",
      "File HLS.S30.T11SKU.2018097T183919.v2.0.Fmask.tif already downloaded\n",
      "File HLS.S30.T11SKU.2018097T183919.v2.0.B04.tif already downloaded\n",
      "File HLS.S30.T11SKU.2018097T183919.v2.0.B07.tif already downloaded\n",
      "File HLS.S30.T11SKU.2018097T183919.v2.0.B06.tif already downloaded\n",
      "File HLS.S30.T11SKU.2018097T183919.v2.0.B09.tif already downloaded\n",
      "File HLS.S30.T11SKU.2018097T183919.v2.0.B08.tif already downloaded\n",
      "File HLS.S30.T11SKU.2018097T183919.v2.0.B8A.tif already downloaded\n",
      "File HLS.S30.T11SKU.2018097T183919.v2.0.VAA.tif already downloaded\n",
      "File HLS.S30.T11SKU.2018097T183919.v2.0.B02.tif already downloaded\n",
      "File HLS.S30.T11SKU.2018097T183919.v2.0.B03.tif already downloaded\n",
      "File HLS.S30.T11SKU.2018097T183919.v2.0.B05.tif already downloaded\n",
      "File HLS.S30.T11SKU.2018097T183919.v2.0.VZA.tif already downloaded\n",
      "File HLS.S30.T11SKU.2018097T183919.v2.0.SAA.tif already downloaded\n",
      "File HLS.S30.T11SKU.2018097T183919.v2.0.B12.tif already downloaded\n",
      "File HLS.S30.T11SKU.2018097T183919.v2.0.B01.tif already downloaded\n",
      "File HLS.S30.T11SKU.2018097T183919.v2.0.B10.tif already downloaded\n",
      "File HLS.S30.T11SKU.2018097T183919.v2.0.B11.tif already downloaded\n"
     ]
    },
    {
     "data": {
      "application/vnd.jupyter.widget-view+json": {
       "model_id": "a4a17c9d6a704cc4b173984bccb49793",
       "version_major": 2,
       "version_minor": 0
      },
      "text/plain": [
       "PROCESSING TASKS | :   0%|          | 0/18 [00:00<?, ?it/s]"
      ]
     },
     "metadata": {},
     "output_type": "display_data"
    },
    {
     "data": {
      "application/vnd.jupyter.widget-view+json": {
       "model_id": "aef68f858f2f4a5db9b7cc4e31c6cecc",
       "version_major": 2,
       "version_minor": 0
      },
      "text/plain": [
       "COLLECTING RESULTS | :   0%|          | 0/18 [00:00<?, ?it/s]"
      ]
     },
     "metadata": {},
     "output_type": "display_data"
    },
    {
     "name": "stdout",
     "output_type": "stream",
     "text": [
      "157\n",
      "10SGD\n",
      " Getting 1 granules, approx download size: 0.22 GB\n"
     ]
    },
    {
     "data": {
      "application/vnd.jupyter.widget-view+json": {
       "model_id": "d502a12b56384756995ae07ddee066ab",
       "version_major": 2,
       "version_minor": 0
      },
      "text/plain": [
       "QUEUEING TASKS | :   0%|          | 0/18 [00:00<?, ?it/s]"
      ]
     },
     "metadata": {},
     "output_type": "display_data"
    },
    {
     "name": "stdout",
     "output_type": "stream",
     "text": [
      "File HLS.S30.T10SGD.2018097T183919.v2.0.SZA.tif already downloaded\n",
      "File HLS.S30.T10SGD.2018097T183919.v2.0.VAA.tif already downloaded\n",
      "File HLS.S30.T10SGD.2018097T183919.v2.0.B09.tif already downloaded\n",
      "File HLS.S30.T10SGD.2018097T183919.v2.0.B02.tif already downloaded\n",
      "File HLS.S30.T10SGD.2018097T183919.v2.0.B05.tif already downloaded\n",
      "File HLS.S30.T10SGD.2018097T183919.v2.0.B04.tif already downloaded\n",
      "File HLS.S30.T10SGD.2018097T183919.v2.0.B8A.tif already downloaded\n",
      "File HLS.S30.T10SGD.2018097T183919.v2.0.B01.tif already downloaded\n",
      "File HLS.S30.T10SGD.2018097T183919.v2.0.B03.tif already downloaded\n",
      "File HLS.S30.T10SGD.2018097T183919.v2.0.B11.tif already downloaded\n",
      "File HLS.S30.T10SGD.2018097T183919.v2.0.B08.tif already downloaded\n",
      "File HLS.S30.T10SGD.2018097T183919.v2.0.VZA.tif already downloaded\n",
      "File HLS.S30.T10SGD.2018097T183919.v2.0.B06.tif already downloaded\n",
      "File HLS.S30.T10SGD.2018097T183919.v2.0.Fmask.tif already downloaded\n",
      "File HLS.S30.T10SGD.2018097T183919.v2.0.SAA.tif already downloaded\n",
      "File HLS.S30.T10SGD.2018097T183919.v2.0.B10.tif already downloaded\n",
      "File HLS.S30.T10SGD.2018097T183919.v2.0.B07.tif already downloaded\n",
      "File HLS.S30.T10SGD.2018097T183919.v2.0.B12.tif already downloaded\n"
     ]
    },
    {
     "data": {
      "application/vnd.jupyter.widget-view+json": {
       "model_id": "fe6309b388b34f3382028b95575a6722",
       "version_major": 2,
       "version_minor": 0
      },
      "text/plain": [
       "PROCESSING TASKS | :   0%|          | 0/18 [00:00<?, ?it/s]"
      ]
     },
     "metadata": {},
     "output_type": "display_data"
    },
    {
     "data": {
      "application/vnd.jupyter.widget-view+json": {
       "model_id": "6a72b231f63b4750abc07bd3b97cadd8",
       "version_major": 2,
       "version_minor": 0
      },
      "text/plain": [
       "COLLECTING RESULTS | :   0%|          | 0/18 [00:00<?, ?it/s]"
      ]
     },
     "metadata": {},
     "output_type": "display_data"
    },
    {
     "name": "stdout",
     "output_type": "stream",
     "text": [
      "158\n",
      "11SKU\n",
      " Getting 1 granules, approx download size: 0.22 GB\n"
     ]
    },
    {
     "data": {
      "application/vnd.jupyter.widget-view+json": {
       "model_id": "3a8c2860bcad41d687640c83bd3dcc91",
       "version_major": 2,
       "version_minor": 0
      },
      "text/plain": [
       "QUEUEING TASKS | :   0%|          | 0/18 [00:00<?, ?it/s]"
      ]
     },
     "metadata": {},
     "output_type": "display_data"
    },
    {
     "name": "stdout",
     "output_type": "stream",
     "text": [
      "File HLS.S30.T11SKU.2018102T183931.v2.0.VAA.tif already downloaded\n",
      "File HLS.S30.T11SKU.2018102T183931.v2.0.B05.tif already downloaded\n",
      "File HLS.S30.T11SKU.2018102T183931.v2.0.B12.tif already downloaded\n",
      "File HLS.S30.T11SKU.2018102T183931.v2.0.B04.tif already downloaded\n",
      "File HLS.S30.T11SKU.2018102T183931.v2.0.SZA.tif already downloaded\n",
      "File HLS.S30.T11SKU.2018102T183931.v2.0.B08.tif already downloaded\n",
      "File HLS.S30.T11SKU.2018102T183931.v2.0.B10.tif already downloaded\n",
      "File HLS.S30.T11SKU.2018102T183931.v2.0.VZA.tif already downloaded\n",
      "File HLS.S30.T11SKU.2018102T183931.v2.0.B02.tif already downloaded\n",
      "File HLS.S30.T11SKU.2018102T183931.v2.0.B07.tif already downloaded\n",
      "File HLS.S30.T11SKU.2018102T183931.v2.0.B01.tif already downloaded\n",
      "File HLS.S30.T11SKU.2018102T183931.v2.0.B03.tif already downloaded\n",
      "File HLS.S30.T11SKU.2018102T183931.v2.0.B11.tif already downloaded\n",
      "File HLS.S30.T11SKU.2018102T183931.v2.0.B09.tif already downloaded\n",
      "File HLS.S30.T11SKU.2018102T183931.v2.0.Fmask.tif already downloaded\n",
      "File HLS.S30.T11SKU.2018102T183931.v2.0.B8A.tif already downloaded\n",
      "File HLS.S30.T11SKU.2018102T183931.v2.0.SAA.tif already downloaded\n",
      "File HLS.S30.T11SKU.2018102T183931.v2.0.B06.tif already downloaded\n"
     ]
    },
    {
     "data": {
      "application/vnd.jupyter.widget-view+json": {
       "model_id": "f0446fa965cf4e878f8cdf75231174bf",
       "version_major": 2,
       "version_minor": 0
      },
      "text/plain": [
       "PROCESSING TASKS | :   0%|          | 0/18 [00:00<?, ?it/s]"
      ]
     },
     "metadata": {},
     "output_type": "display_data"
    },
    {
     "data": {
      "application/vnd.jupyter.widget-view+json": {
       "model_id": "00a08781bc8a4e738761a230a95d19df",
       "version_major": 2,
       "version_minor": 0
      },
      "text/plain": [
       "COLLECTING RESULTS | :   0%|          | 0/18 [00:00<?, ?it/s]"
      ]
     },
     "metadata": {},
     "output_type": "display_data"
    },
    {
     "name": "stdout",
     "output_type": "stream",
     "text": [
      "159\n",
      "11SKU\n",
      " Getting 1 granules, approx download size: 0.19 GB\n"
     ]
    },
    {
     "data": {
      "application/vnd.jupyter.widget-view+json": {
       "model_id": "122db3bb7f5949ccb49c89df9e803ec5",
       "version_major": 2,
       "version_minor": 0
      },
      "text/plain": [
       "QUEUEING TASKS | :   0%|          | 0/15 [00:00<?, ?it/s]"
      ]
     },
     "metadata": {},
     "output_type": "display_data"
    },
    {
     "name": "stdout",
     "output_type": "stream",
     "text": [
      "File HLS.L30.T11SKU.2018106T183324.v2.0.B01.tif already downloadedFile HLS.L30.T11SKU.2018106T183324.v2.0.B07.tif already downloaded\n",
      "File HLS.L30.T11SKU.2018106T183324.v2.0.B02.tif already downloaded\n",
      "\n",
      "File HLS.L30.T11SKU.2018106T183324.v2.0.B10.tif already downloaded\n",
      "File HLS.L30.T11SKU.2018106T183324.v2.0.B04.tif already downloaded\n",
      "File HLS.L30.T11SKU.2018106T183324.v2.0.SAA.tif already downloaded\n",
      "File HLS.L30.T11SKU.2018106T183324.v2.0.B05.tif already downloaded\n",
      "File HLS.L30.T11SKU.2018106T183324.v2.0.B11.tif already downloaded\n",
      "File HLS.L30.T11SKU.2018106T183324.v2.0.SZA.tif already downloaded\n",
      "File HLS.L30.T11SKU.2018106T183324.v2.0.Fmask.tif already downloaded\n",
      "File HLS.L30.T11SKU.2018106T183324.v2.0.B09.tif already downloaded\n",
      "File HLS.L30.T11SKU.2018106T183324.v2.0.B06.tif already downloaded\n",
      "File HLS.L30.T11SKU.2018106T183324.v2.0.VZA.tif already downloaded\n",
      "File HLS.L30.T11SKU.2018106T183324.v2.0.B03.tif already downloaded\n",
      "File HLS.L30.T11SKU.2018106T183324.v2.0.VAA.tif already downloaded\n"
     ]
    },
    {
     "data": {
      "application/vnd.jupyter.widget-view+json": {
       "model_id": "3c89d084557344248b4dca0b1c31b2c6",
       "version_major": 2,
       "version_minor": 0
      },
      "text/plain": [
       "PROCESSING TASKS | :   0%|          | 0/15 [00:00<?, ?it/s]"
      ]
     },
     "metadata": {},
     "output_type": "display_data"
    },
    {
     "data": {
      "application/vnd.jupyter.widget-view+json": {
       "model_id": "2c15bfb6d5d24836843f1771dd05fe43",
       "version_major": 2,
       "version_minor": 0
      },
      "text/plain": [
       "COLLECTING RESULTS | :   0%|          | 0/15 [00:00<?, ?it/s]"
      ]
     },
     "metadata": {},
     "output_type": "display_data"
    },
    {
     "name": "stdout",
     "output_type": "stream",
     "text": [
      "160\n",
      "10SGD\n",
      " Getting 1 granules, approx download size: 0.18 GB\n"
     ]
    },
    {
     "data": {
      "application/vnd.jupyter.widget-view+json": {
       "model_id": "1eccd28a024b4397a8ffaa22e5fe6c78",
       "version_major": 2,
       "version_minor": 0
      },
      "text/plain": [
       "QUEUEING TASKS | :   0%|          | 0/15 [00:00<?, ?it/s]"
      ]
     },
     "metadata": {},
     "output_type": "display_data"
    },
    {
     "name": "stdout",
     "output_type": "stream",
     "text": [
      "File HLS.L30.T10SGD.2018106T183348.v2.0.B02.tif already downloaded\n",
      "File HLS.L30.T10SGD.2018106T183348.v2.0.B07.tif already downloaded\n",
      "File HLS.L30.T10SGD.2018106T183348.v2.0.B03.tif already downloaded\n",
      "File HLS.L30.T10SGD.2018106T183348.v2.0.B01.tif already downloaded\n",
      "File HLS.L30.T10SGD.2018106T183348.v2.0.B09.tif already downloaded\n",
      "File HLS.L30.T10SGD.2018106T183348.v2.0.VZA.tif already downloaded\n",
      "File HLS.L30.T10SGD.2018106T183348.v2.0.SAA.tif already downloaded\n",
      "File HLS.L30.T10SGD.2018106T183348.v2.0.Fmask.tif already downloaded\n",
      "File HLS.L30.T10SGD.2018106T183348.v2.0.B06.tif already downloaded\n",
      "File HLS.L30.T10SGD.2018106T183348.v2.0.B11.tif already downloaded\n",
      "File HLS.L30.T10SGD.2018106T183348.v2.0.VAA.tif already downloaded\n",
      "File HLS.L30.T10SGD.2018106T183348.v2.0.B05.tif already downloaded\n",
      "File HLS.L30.T10SGD.2018106T183348.v2.0.B10.tif already downloaded\n",
      "File HLS.L30.T10SGD.2018106T183348.v2.0.SZA.tif already downloaded\n",
      "File HLS.L30.T10SGD.2018106T183348.v2.0.B04.tif already downloaded\n"
     ]
    },
    {
     "data": {
      "application/vnd.jupyter.widget-view+json": {
       "model_id": "631fb90519a3464b971a258b4210a5b7",
       "version_major": 2,
       "version_minor": 0
      },
      "text/plain": [
       "PROCESSING TASKS | :   0%|          | 0/15 [00:00<?, ?it/s]"
      ]
     },
     "metadata": {},
     "output_type": "display_data"
    },
    {
     "data": {
      "application/vnd.jupyter.widget-view+json": {
       "model_id": "76029893baa24eb6b6fdbc49ac75141c",
       "version_major": 2,
       "version_minor": 0
      },
      "text/plain": [
       "COLLECTING RESULTS | :   0%|          | 0/15 [00:00<?, ?it/s]"
      ]
     },
     "metadata": {},
     "output_type": "display_data"
    },
    {
     "name": "stdout",
     "output_type": "stream",
     "text": [
      "161\n",
      "11SKU\n",
      " Getting 1 granules, approx download size: 0.21 GB\n"
     ]
    },
    {
     "data": {
      "application/vnd.jupyter.widget-view+json": {
       "model_id": "86e0dbe9c97745f989e2d3074ec424f5",
       "version_major": 2,
       "version_minor": 0
      },
      "text/plain": [
       "QUEUEING TASKS | :   0%|          | 0/18 [00:00<?, ?it/s]"
      ]
     },
     "metadata": {},
     "output_type": "display_data"
    },
    {
     "name": "stdout",
     "output_type": "stream",
     "text": [
      "File HLS.S30.T11SKU.2018107T183919.v2.0.B09.tif already downloaded\n",
      "File HLS.S30.T11SKU.2018107T183919.v2.0.SAA.tif already downloaded\n",
      "File HLS.S30.T11SKU.2018107T183919.v2.0.B03.tif already downloaded\n",
      "File HLS.S30.T11SKU.2018107T183919.v2.0.B06.tif already downloaded\n",
      "File HLS.S30.T11SKU.2018107T183919.v2.0.B08.tif already downloaded\n",
      "File HLS.S30.T11SKU.2018107T183919.v2.0.B05.tif already downloaded\n",
      "File HLS.S30.T11SKU.2018107T183919.v2.0.VAA.tif already downloaded\n",
      "File HLS.S30.T11SKU.2018107T183919.v2.0.B04.tif already downloaded\n",
      "File HLS.S30.T11SKU.2018107T183919.v2.0.B11.tif already downloaded\n",
      "File HLS.S30.T11SKU.2018107T183919.v2.0.B01.tif already downloaded\n",
      "File HLS.S30.T11SKU.2018107T183919.v2.0.B07.tif already downloaded\n",
      "File HLS.S30.T11SKU.2018107T183919.v2.0.Fmask.tif already downloaded\n",
      "File HLS.S30.T11SKU.2018107T183919.v2.0.B10.tif already downloaded\n",
      "File HLS.S30.T11SKU.2018107T183919.v2.0.VZA.tif already downloaded\n",
      "File HLS.S30.T11SKU.2018107T183919.v2.0.B8A.tif already downloaded\n",
      "File HLS.S30.T11SKU.2018107T183919.v2.0.SZA.tif already downloaded\n",
      "File HLS.S30.T11SKU.2018107T183919.v2.0.B12.tif already downloaded\n",
      "File HLS.S30.T11SKU.2018107T183919.v2.0.B02.tif already downloaded\n"
     ]
    },
    {
     "data": {
      "application/vnd.jupyter.widget-view+json": {
       "model_id": "4f057974bf784edeb9d84057c58c39f7",
       "version_major": 2,
       "version_minor": 0
      },
      "text/plain": [
       "PROCESSING TASKS | :   0%|          | 0/18 [00:00<?, ?it/s]"
      ]
     },
     "metadata": {},
     "output_type": "display_data"
    },
    {
     "data": {
      "application/vnd.jupyter.widget-view+json": {
       "model_id": "82020a8e2afa4586940251419c4ba927",
       "version_major": 2,
       "version_minor": 0
      },
      "text/plain": [
       "COLLECTING RESULTS | :   0%|          | 0/18 [00:00<?, ?it/s]"
      ]
     },
     "metadata": {},
     "output_type": "display_data"
    },
    {
     "name": "stdout",
     "output_type": "stream",
     "text": [
      "162\n",
      "10SGD\n",
      " Getting 1 granules, approx download size: 0.2 GB\n"
     ]
    },
    {
     "data": {
      "application/vnd.jupyter.widget-view+json": {
       "model_id": "ff5a669bf3ce4c04a75eedb82c575fa2",
       "version_major": 2,
       "version_minor": 0
      },
      "text/plain": [
       "QUEUEING TASKS | :   0%|          | 0/18 [00:00<?, ?it/s]"
      ]
     },
     "metadata": {},
     "output_type": "display_data"
    },
    {
     "name": "stdout",
     "output_type": "stream",
     "text": [
      "File HLS.S30.T10SGD.2018107T183919.v2.0.B06.tif already downloaded\n",
      "File HLS.S30.T10SGD.2018107T183919.v2.0.B03.tif already downloaded\n",
      "File HLS.S30.T10SGD.2018107T183919.v2.0.SAA.tif already downloaded\n",
      "File HLS.S30.T10SGD.2018107T183919.v2.0.B8A.tif already downloaded\n",
      "File HLS.S30.T10SGD.2018107T183919.v2.0.B08.tif already downloaded\n",
      "File HLS.S30.T10SGD.2018107T183919.v2.0.VZA.tif already downloaded\n",
      "File HLS.S30.T10SGD.2018107T183919.v2.0.Fmask.tif already downloaded\n",
      "File HLS.S30.T10SGD.2018107T183919.v2.0.B05.tif already downloaded\n",
      "File HLS.S30.T10SGD.2018107T183919.v2.0.SZA.tif already downloaded\n",
      "File HLS.S30.T10SGD.2018107T183919.v2.0.B11.tif already downloaded\n",
      "File HLS.S30.T10SGD.2018107T183919.v2.0.B10.tif already downloaded\n",
      "File HLS.S30.T10SGD.2018107T183919.v2.0.B07.tif already downloaded\n",
      "File HLS.S30.T10SGD.2018107T183919.v2.0.VAA.tif already downloaded\n",
      "File HLS.S30.T10SGD.2018107T183919.v2.0.B09.tif already downloaded\n",
      "File HLS.S30.T10SGD.2018107T183919.v2.0.B02.tif already downloaded\n",
      "File HLS.S30.T10SGD.2018107T183919.v2.0.B04.tif already downloaded\n",
      "File HLS.S30.T10SGD.2018107T183919.v2.0.B12.tif already downloaded\n",
      "File HLS.S30.T10SGD.2018107T183919.v2.0.B01.tif already downloaded\n"
     ]
    },
    {
     "data": {
      "application/vnd.jupyter.widget-view+json": {
       "model_id": "db994129076a464fa7a62ccac158fd2f",
       "version_major": 2,
       "version_minor": 0
      },
      "text/plain": [
       "PROCESSING TASKS | :   0%|          | 0/18 [00:00<?, ?it/s]"
      ]
     },
     "metadata": {},
     "output_type": "display_data"
    },
    {
     "data": {
      "application/vnd.jupyter.widget-view+json": {
       "model_id": "e3af1219aae4467fa26ac60dffb3ac2b",
       "version_major": 2,
       "version_minor": 0
      },
      "text/plain": [
       "COLLECTING RESULTS | :   0%|          | 0/18 [00:00<?, ?it/s]"
      ]
     },
     "metadata": {},
     "output_type": "display_data"
    },
    {
     "name": "stdout",
     "output_type": "stream",
     "text": [
      "163\n",
      "11SKU\n",
      " Getting 1 granules, approx download size: 0.2 GB\n"
     ]
    },
    {
     "data": {
      "application/vnd.jupyter.widget-view+json": {
       "model_id": "bfd9736eb17f4e92b2d0365b3a7e671e",
       "version_major": 2,
       "version_minor": 0
      },
      "text/plain": [
       "QUEUEING TASKS | :   0%|          | 0/18 [00:00<?, ?it/s]"
      ]
     },
     "metadata": {},
     "output_type": "display_data"
    },
    {
     "name": "stdout",
     "output_type": "stream",
     "text": [
      "File HLS.S30.T11SKU.2018112T183921.v2.0.B02.tif already downloaded\n",
      "File HLS.S30.T11SKU.2018112T183921.v2.0.B12.tif already downloaded\n",
      "File HLS.S30.T11SKU.2018112T183921.v2.0.B11.tif already downloaded\n",
      "File HLS.S30.T11SKU.2018112T183921.v2.0.B10.tif already downloaded\n",
      "File HLS.S30.T11SKU.2018112T183921.v2.0.B07.tif already downloaded\n",
      "File HLS.S30.T11SKU.2018112T183921.v2.0.SZA.tif already downloaded\n",
      "File HLS.S30.T11SKU.2018112T183921.v2.0.B06.tif already downloaded\n",
      "File HLS.S30.T11SKU.2018112T183921.v2.0.B8A.tif already downloaded\n",
      "File HLS.S30.T11SKU.2018112T183921.v2.0.B03.tif already downloaded\n",
      "File HLS.S30.T11SKU.2018112T183921.v2.0.SAA.tif already downloaded\n",
      "File HLS.S30.T11SKU.2018112T183921.v2.0.VZA.tif already downloaded\n",
      "File HLS.S30.T11SKU.2018112T183921.v2.0.B01.tif already downloaded\n",
      "File HLS.S30.T11SKU.2018112T183921.v2.0.B05.tif already downloaded\n",
      "File HLS.S30.T11SKU.2018112T183921.v2.0.B08.tif already downloaded\n",
      "File HLS.S30.T11SKU.2018112T183921.v2.0.B04.tif already downloaded\n",
      "File HLS.S30.T11SKU.2018112T183921.v2.0.B09.tif already downloaded\n",
      "File HLS.S30.T11SKU.2018112T183921.v2.0.Fmask.tif already downloaded\n",
      "File HLS.S30.T11SKU.2018112T183921.v2.0.VAA.tif already downloaded\n"
     ]
    },
    {
     "data": {
      "application/vnd.jupyter.widget-view+json": {
       "model_id": "4c3142d06ae348c8b60d04955e4d2d41",
       "version_major": 2,
       "version_minor": 0
      },
      "text/plain": [
       "PROCESSING TASKS | :   0%|          | 0/18 [00:00<?, ?it/s]"
      ]
     },
     "metadata": {},
     "output_type": "display_data"
    },
    {
     "data": {
      "application/vnd.jupyter.widget-view+json": {
       "model_id": "5eea55844dec48d0add599bb8b3735cf",
       "version_major": 2,
       "version_minor": 0
      },
      "text/plain": [
       "COLLECTING RESULTS | :   0%|          | 0/18 [00:00<?, ?it/s]"
      ]
     },
     "metadata": {},
     "output_type": "display_data"
    },
    {
     "name": "stdout",
     "output_type": "stream",
     "text": [
      "164\n",
      "10SGD\n",
      " Getting 1 granules, approx download size: 0.2 GB\n"
     ]
    },
    {
     "data": {
      "application/vnd.jupyter.widget-view+json": {
       "model_id": "e7529bc6435c43dab55aac1fd8d26ecd",
       "version_major": 2,
       "version_minor": 0
      },
      "text/plain": [
       "QUEUEING TASKS | :   0%|          | 0/18 [00:00<?, ?it/s]"
      ]
     },
     "metadata": {},
     "output_type": "display_data"
    },
    {
     "name": "stdout",
     "output_type": "stream",
     "text": [
      "File HLS.S30.T10SGD.2018117T183919.v2.0.B11.tif already downloaded\n",
      "File HLS.S30.T10SGD.2018117T183919.v2.0.Fmask.tif already downloaded\n",
      "File HLS.S30.T10SGD.2018117T183919.v2.0.SAA.tif already downloaded\n",
      "File HLS.S30.T10SGD.2018117T183919.v2.0.B8A.tif already downloaded\n",
      "File HLS.S30.T10SGD.2018117T183919.v2.0.B04.tif already downloaded\n",
      "File HLS.S30.T10SGD.2018117T183919.v2.0.B12.tif already downloaded\n",
      "File HLS.S30.T10SGD.2018117T183919.v2.0.B03.tif already downloaded\n",
      "File HLS.S30.T10SGD.2018117T183919.v2.0.VAA.tif already downloaded\n",
      "File HLS.S30.T10SGD.2018117T183919.v2.0.SZA.tif already downloaded\n",
      "File HLS.S30.T10SGD.2018117T183919.v2.0.B01.tif already downloaded\n",
      "File HLS.S30.T10SGD.2018117T183919.v2.0.B02.tif already downloaded\n",
      "File HLS.S30.T10SGD.2018117T183919.v2.0.B06.tif already downloaded\n",
      "File HLS.S30.T10SGD.2018117T183919.v2.0.B10.tif already downloaded\n",
      "File HLS.S30.T10SGD.2018117T183919.v2.0.B05.tif already downloaded\n",
      "File HLS.S30.T10SGD.2018117T183919.v2.0.B09.tif already downloaded\n",
      "File HLS.S30.T10SGD.2018117T183919.v2.0.B07.tif already downloaded\n",
      "File HLS.S30.T10SGD.2018117T183919.v2.0.B08.tif already downloaded\n",
      "File HLS.S30.T10SGD.2018117T183919.v2.0.VZA.tif already downloaded\n"
     ]
    },
    {
     "data": {
      "application/vnd.jupyter.widget-view+json": {
       "model_id": "4e47b8aa58904272846e8c3dd7cf3953",
       "version_major": 2,
       "version_minor": 0
      },
      "text/plain": [
       "PROCESSING TASKS | :   0%|          | 0/18 [00:00<?, ?it/s]"
      ]
     },
     "metadata": {},
     "output_type": "display_data"
    },
    {
     "data": {
      "application/vnd.jupyter.widget-view+json": {
       "model_id": "b970415948c3417ea98d0e18170a7183",
       "version_major": 2,
       "version_minor": 0
      },
      "text/plain": [
       "COLLECTING RESULTS | :   0%|          | 0/18 [00:00<?, ?it/s]"
      ]
     },
     "metadata": {},
     "output_type": "display_data"
    },
    {
     "name": "stdout",
     "output_type": "stream",
     "text": [
      "165\n",
      "11SKU\n",
      " Getting 1 granules, approx download size: 0.21 GB\n"
     ]
    },
    {
     "data": {
      "application/vnd.jupyter.widget-view+json": {
       "model_id": "a534b40a9a3d44c693ff6139ddb1dc34",
       "version_major": 2,
       "version_minor": 0
      },
      "text/plain": [
       "QUEUEING TASKS | :   0%|          | 0/18 [00:00<?, ?it/s]"
      ]
     },
     "metadata": {},
     "output_type": "display_data"
    },
    {
     "name": "stdout",
     "output_type": "stream",
     "text": [
      "File HLS.S30.T11SKU.2018117T183919.v2.0.B8A.tif already downloaded\n",
      "File HLS.S30.T11SKU.2018117T183919.v2.0.VZA.tif already downloaded\n",
      "File HLS.S30.T11SKU.2018117T183919.v2.0.B09.tif already downloaded\n",
      "File HLS.S30.T11SKU.2018117T183919.v2.0.SZA.tif already downloaded\n",
      "File HLS.S30.T11SKU.2018117T183919.v2.0.B08.tif already downloaded\n",
      "File HLS.S30.T11SKU.2018117T183919.v2.0.SAA.tif already downloaded\n",
      "File HLS.S30.T11SKU.2018117T183919.v2.0.B04.tif already downloaded\n",
      "File HLS.S30.T11SKU.2018117T183919.v2.0.B11.tif already downloaded\n",
      "File HLS.S30.T11SKU.2018117T183919.v2.0.B03.tif already downloaded\n",
      "File HLS.S30.T11SKU.2018117T183919.v2.0.B07.tif already downloaded\n",
      "File HLS.S30.T11SKU.2018117T183919.v2.0.VAA.tif already downloaded\n",
      "File HLS.S30.T11SKU.2018117T183919.v2.0.Fmask.tif already downloaded\n",
      "File HLS.S30.T11SKU.2018117T183919.v2.0.B10.tif already downloaded\n",
      "File HLS.S30.T11SKU.2018117T183919.v2.0.B02.tif already downloaded\n",
      "File HLS.S30.T11SKU.2018117T183919.v2.0.B12.tif already downloaded\n",
      "File HLS.S30.T11SKU.2018117T183919.v2.0.B05.tif already downloaded\n",
      "File HLS.S30.T11SKU.2018117T183919.v2.0.B06.tif already downloaded\n",
      "File HLS.S30.T11SKU.2018117T183919.v2.0.B01.tif already downloaded\n"
     ]
    },
    {
     "data": {
      "application/vnd.jupyter.widget-view+json": {
       "model_id": "bbaf9da4757146a8bea640b34c0e39c9",
       "version_major": 2,
       "version_minor": 0
      },
      "text/plain": [
       "PROCESSING TASKS | :   0%|          | 0/18 [00:00<?, ?it/s]"
      ]
     },
     "metadata": {},
     "output_type": "display_data"
    },
    {
     "data": {
      "application/vnd.jupyter.widget-view+json": {
       "model_id": "e9c87237c4fd4407b30f388f4dd5d651",
       "version_major": 2,
       "version_minor": 0
      },
      "text/plain": [
       "COLLECTING RESULTS | :   0%|          | 0/18 [00:00<?, ?it/s]"
      ]
     },
     "metadata": {},
     "output_type": "display_data"
    },
    {
     "name": "stdout",
     "output_type": "stream",
     "text": [
      "166\n",
      "11SKU\n",
      " Getting 1 granules, approx download size: 0.18 GB\n"
     ]
    },
    {
     "data": {
      "application/vnd.jupyter.widget-view+json": {
       "model_id": "c1b37defc4a1455ca281c96886b59207",
       "version_major": 2,
       "version_minor": 0
      },
      "text/plain": [
       "QUEUEING TASKS | :   0%|          | 0/15 [00:00<?, ?it/s]"
      ]
     },
     "metadata": {},
     "output_type": "display_data"
    },
    {
     "name": "stdout",
     "output_type": "stream",
     "text": [
      "File HLS.L30.T11SKU.2018122T183316.v2.0.B03.tif already downloaded\n",
      "File HLS.L30.T11SKU.2018122T183316.v2.0.VAA.tif already downloaded\n",
      "File HLS.L30.T11SKU.2018122T183316.v2.0.B04.tif already downloaded\n",
      "File HLS.L30.T11SKU.2018122T183316.v2.0.B07.tif already downloaded\n",
      "File HLS.L30.T11SKU.2018122T183316.v2.0.SZA.tif already downloaded\n",
      "File HLS.L30.T11SKU.2018122T183316.v2.0.B10.tif already downloaded\n",
      "File HLS.L30.T11SKU.2018122T183316.v2.0.B09.tif already downloaded\n",
      "File HLS.L30.T11SKU.2018122T183316.v2.0.B05.tif already downloaded\n",
      "File HLS.L30.T11SKU.2018122T183316.v2.0.B06.tif already downloaded\n",
      "File HLS.L30.T11SKU.2018122T183316.v2.0.VZA.tif already downloaded\n",
      "File HLS.L30.T11SKU.2018122T183316.v2.0.SAA.tif already downloaded\n",
      "File HLS.L30.T11SKU.2018122T183316.v2.0.Fmask.tif already downloaded\n",
      "File HLS.L30.T11SKU.2018122T183316.v2.0.B02.tif already downloaded\n",
      "File HLS.L30.T11SKU.2018122T183316.v2.0.B11.tif already downloaded\n",
      "File HLS.L30.T11SKU.2018122T183316.v2.0.B01.tif already downloaded\n"
     ]
    },
    {
     "data": {
      "application/vnd.jupyter.widget-view+json": {
       "model_id": "e20bbeb7062e43439697202cc22bef58",
       "version_major": 2,
       "version_minor": 0
      },
      "text/plain": [
       "PROCESSING TASKS | :   0%|          | 0/15 [00:00<?, ?it/s]"
      ]
     },
     "metadata": {},
     "output_type": "display_data"
    },
    {
     "data": {
      "application/vnd.jupyter.widget-view+json": {
       "model_id": "a526dc44fce248968eeb598f35a947f0",
       "version_major": 2,
       "version_minor": 0
      },
      "text/plain": [
       "COLLECTING RESULTS | :   0%|          | 0/15 [00:00<?, ?it/s]"
      ]
     },
     "metadata": {},
     "output_type": "display_data"
    },
    {
     "name": "stdout",
     "output_type": "stream",
     "text": [
      "167\n",
      "10SGD\n",
      " Getting 1 granules, approx download size: 0.17 GB\n"
     ]
    },
    {
     "data": {
      "application/vnd.jupyter.widget-view+json": {
       "model_id": "1552be147523430da4763c53c44efa85",
       "version_major": 2,
       "version_minor": 0
      },
      "text/plain": [
       "QUEUEING TASKS | :   0%|          | 0/15 [00:00<?, ?it/s]"
      ]
     },
     "metadata": {},
     "output_type": "display_data"
    },
    {
     "name": "stdout",
     "output_type": "stream",
     "text": [
      "File HLS.L30.T10SGD.2018122T183340.v2.0.B09.tif already downloaded\n",
      "File HLS.L30.T10SGD.2018122T183340.v2.0.B11.tif already downloaded\n",
      "File HLS.L30.T10SGD.2018122T183340.v2.0.B06.tif already downloaded\n",
      "File HLS.L30.T10SGD.2018122T183340.v2.0.B05.tif already downloaded\n",
      "File HLS.L30.T10SGD.2018122T183340.v2.0.B04.tif already downloaded\n",
      "File HLS.L30.T10SGD.2018122T183340.v2.0.SAA.tif already downloaded\n",
      "File HLS.L30.T10SGD.2018122T183340.v2.0.B10.tif already downloaded\n",
      "File HLS.L30.T10SGD.2018122T183340.v2.0.VZA.tif already downloaded\n",
      "File HLS.L30.T10SGD.2018122T183340.v2.0.B03.tif already downloaded\n",
      "File HLS.L30.T10SGD.2018122T183340.v2.0.SZA.tif already downloaded\n",
      "File HLS.L30.T10SGD.2018122T183340.v2.0.B01.tif already downloaded\n",
      "File HLS.L30.T10SGD.2018122T183340.v2.0.Fmask.tif already downloaded\n",
      "File HLS.L30.T10SGD.2018122T183340.v2.0.VAA.tif already downloaded\n",
      "File HLS.L30.T10SGD.2018122T183340.v2.0.B02.tif already downloaded\n",
      "File HLS.L30.T10SGD.2018122T183340.v2.0.B07.tif already downloaded\n"
     ]
    },
    {
     "data": {
      "application/vnd.jupyter.widget-view+json": {
       "model_id": "84dd6675c3f84a8d889bb0a16a49b405",
       "version_major": 2,
       "version_minor": 0
      },
      "text/plain": [
       "PROCESSING TASKS | :   0%|          | 0/15 [00:00<?, ?it/s]"
      ]
     },
     "metadata": {},
     "output_type": "display_data"
    },
    {
     "data": {
      "application/vnd.jupyter.widget-view+json": {
       "model_id": "7184ee9b1a36404abd14c3d4fe6cb0b0",
       "version_major": 2,
       "version_minor": 0
      },
      "text/plain": [
       "COLLECTING RESULTS | :   0%|          | 0/15 [00:00<?, ?it/s]"
      ]
     },
     "metadata": {},
     "output_type": "display_data"
    },
    {
     "name": "stdout",
     "output_type": "stream",
     "text": [
      "168\n",
      "10SGD\n",
      " Getting 1 granules, approx download size: 0.21 GB\n"
     ]
    },
    {
     "data": {
      "application/vnd.jupyter.widget-view+json": {
       "model_id": "e18ae6e6729d419d983ec1b78b5718b4",
       "version_major": 2,
       "version_minor": 0
      },
      "text/plain": [
       "QUEUEING TASKS | :   0%|          | 0/18 [00:00<?, ?it/s]"
      ]
     },
     "metadata": {},
     "output_type": "display_data"
    },
    {
     "name": "stdout",
     "output_type": "stream",
     "text": [
      "File HLS.S30.T10SGD.2018122T183921.v2.0.B10.tif already downloaded\n",
      "File HLS.S30.T10SGD.2018122T183921.v2.0.B08.tif already downloaded\n",
      "File HLS.S30.T10SGD.2018122T183921.v2.0.B12.tif already downloaded\n",
      "File HLS.S30.T10SGD.2018122T183921.v2.0.B07.tif already downloaded\n",
      "File HLS.S30.T10SGD.2018122T183921.v2.0.B8A.tif already downloaded\n",
      "File HLS.S30.T10SGD.2018122T183921.v2.0.B02.tif already downloaded\n",
      "File HLS.S30.T10SGD.2018122T183921.v2.0.B09.tif already downloaded\n",
      "File HLS.S30.T10SGD.2018122T183921.v2.0.SAA.tif already downloaded\n",
      "File HLS.S30.T10SGD.2018122T183921.v2.0.B01.tif already downloaded\n",
      "File HLS.S30.T10SGD.2018122T183921.v2.0.B11.tif already downloaded\n",
      "File HLS.S30.T10SGD.2018122T183921.v2.0.B06.tif already downloaded\n",
      "File HLS.S30.T10SGD.2018122T183921.v2.0.SZA.tif already downloaded\n",
      "File HLS.S30.T10SGD.2018122T183921.v2.0.VAA.tif already downloaded\n",
      "File HLS.S30.T10SGD.2018122T183921.v2.0.VZA.tif already downloaded\n",
      "File HLS.S30.T10SGD.2018122T183921.v2.0.B03.tif already downloaded\n",
      "File HLS.S30.T10SGD.2018122T183921.v2.0.B05.tif already downloaded\n",
      "File HLS.S30.T10SGD.2018122T183921.v2.0.B04.tif already downloaded\n",
      "File HLS.S30.T10SGD.2018122T183921.v2.0.Fmask.tif already downloaded\n"
     ]
    },
    {
     "data": {
      "application/vnd.jupyter.widget-view+json": {
       "model_id": "9dda66f7f3d74afc9edd7d6ae9e93fdb",
       "version_major": 2,
       "version_minor": 0
      },
      "text/plain": [
       "PROCESSING TASKS | :   0%|          | 0/18 [00:00<?, ?it/s]"
      ]
     },
     "metadata": {},
     "output_type": "display_data"
    },
    {
     "data": {
      "application/vnd.jupyter.widget-view+json": {
       "model_id": "25dc732e301748b2b3e59c159372931d",
       "version_major": 2,
       "version_minor": 0
      },
      "text/plain": [
       "COLLECTING RESULTS | :   0%|          | 0/18 [00:00<?, ?it/s]"
      ]
     },
     "metadata": {},
     "output_type": "display_data"
    },
    {
     "name": "stdout",
     "output_type": "stream",
     "text": [
      "169\n",
      "11SKU\n",
      " Getting 1 granules, approx download size: 0.22 GB\n"
     ]
    },
    {
     "data": {
      "application/vnd.jupyter.widget-view+json": {
       "model_id": "7945093e7b88461493bb88a0242ae7e5",
       "version_major": 2,
       "version_minor": 0
      },
      "text/plain": [
       "QUEUEING TASKS | :   0%|          | 0/18 [00:00<?, ?it/s]"
      ]
     },
     "metadata": {},
     "output_type": "display_data"
    },
    {
     "name": "stdout",
     "output_type": "stream",
     "text": [
      "File HLS.S30.T11SKU.2018122T183921.v2.0.B04.tif already downloadedFile HLS.S30.T11SKU.2018122T183921.v2.0.B07.tif already downloaded\n",
      "\n",
      "File HLS.S30.T11SKU.2018122T183921.v2.0.B06.tif already downloaded\n",
      "File HLS.S30.T11SKU.2018122T183921.v2.0.B01.tif already downloaded\n",
      "File HLS.S30.T11SKU.2018122T183921.v2.0.B03.tif already downloaded\n",
      "File HLS.S30.T11SKU.2018122T183921.v2.0.B12.tif already downloaded\n",
      "File HLS.S30.T11SKU.2018122T183921.v2.0.VAA.tif already downloaded\n",
      "File HLS.S30.T11SKU.2018122T183921.v2.0.B05.tif already downloaded\n",
      "File HLS.S30.T11SKU.2018122T183921.v2.0.SZA.tif already downloaded\n",
      "File HLS.S30.T11SKU.2018122T183921.v2.0.B8A.tif already downloaded\n",
      "File HLS.S30.T11SKU.2018122T183921.v2.0.B02.tif already downloaded\n",
      "File HLS.S30.T11SKU.2018122T183921.v2.0.Fmask.tif already downloaded\n",
      "File HLS.S30.T11SKU.2018122T183921.v2.0.B08.tif already downloaded\n",
      "File HLS.S30.T11SKU.2018122T183921.v2.0.B10.tif already downloaded\n",
      "File HLS.S30.T11SKU.2018122T183921.v2.0.VZA.tif already downloaded\n",
      "File HLS.S30.T11SKU.2018122T183921.v2.0.SAA.tif already downloaded\n",
      "File HLS.S30.T11SKU.2018122T183921.v2.0.B11.tif already downloaded\n",
      "File HLS.S30.T11SKU.2018122T183921.v2.0.B09.tif already downloaded\n"
     ]
    },
    {
     "data": {
      "application/vnd.jupyter.widget-view+json": {
       "model_id": "041167096c244b489978c7293167315c",
       "version_major": 2,
       "version_minor": 0
      },
      "text/plain": [
       "PROCESSING TASKS | :   0%|          | 0/18 [00:00<?, ?it/s]"
      ]
     },
     "metadata": {},
     "output_type": "display_data"
    },
    {
     "data": {
      "application/vnd.jupyter.widget-view+json": {
       "model_id": "f11fa088bcbf40fd8f3a5ebc95c94632",
       "version_major": 2,
       "version_minor": 0
      },
      "text/plain": [
       "COLLECTING RESULTS | :   0%|          | 0/18 [00:00<?, ?it/s]"
      ]
     },
     "metadata": {},
     "output_type": "display_data"
    },
    {
     "name": "stdout",
     "output_type": "stream",
     "text": [
      "170\n",
      "10SGD\n",
      " Getting 1 granules, approx download size: 0.21 GB\n"
     ]
    },
    {
     "data": {
      "application/vnd.jupyter.widget-view+json": {
       "model_id": "33af93d44a5d423d83221b542a4c8500",
       "version_major": 2,
       "version_minor": 0
      },
      "text/plain": [
       "QUEUEING TASKS | :   0%|          | 0/18 [00:00<?, ?it/s]"
      ]
     },
     "metadata": {},
     "output_type": "display_data"
    },
    {
     "name": "stdout",
     "output_type": "stream",
     "text": [
      "File HLS.S30.T10SGD.2018127T183919.v2.0.B06.tif already downloaded\n",
      "File HLS.S30.T10SGD.2018127T183919.v2.0.B02.tif already downloaded\n",
      "File HLS.S30.T10SGD.2018127T183919.v2.0.B01.tif already downloaded\n",
      "File HLS.S30.T10SGD.2018127T183919.v2.0.B12.tif already downloaded\n",
      "File HLS.S30.T10SGD.2018127T183919.v2.0.VAA.tif already downloaded\n",
      "File HLS.S30.T10SGD.2018127T183919.v2.0.B09.tif already downloaded\n",
      "File HLS.S30.T10SGD.2018127T183919.v2.0.B04.tif already downloaded\n",
      "File HLS.S30.T10SGD.2018127T183919.v2.0.B11.tif already downloaded\n",
      "File HLS.S30.T10SGD.2018127T183919.v2.0.Fmask.tif already downloaded\n",
      "File HLS.S30.T10SGD.2018127T183919.v2.0.SAA.tif already downloaded\n",
      "File HLS.S30.T10SGD.2018127T183919.v2.0.SZA.tif already downloaded\n",
      "File HLS.S30.T10SGD.2018127T183919.v2.0.B08.tif already downloaded\n",
      "File HLS.S30.T10SGD.2018127T183919.v2.0.VZA.tif already downloaded\n",
      "File HLS.S30.T10SGD.2018127T183919.v2.0.B03.tif already downloaded\n",
      "File HLS.S30.T10SGD.2018127T183919.v2.0.B07.tif already downloaded\n",
      "File HLS.S30.T10SGD.2018127T183919.v2.0.B10.tif already downloaded\n",
      "File HLS.S30.T10SGD.2018127T183919.v2.0.B05.tif already downloaded\n",
      "File HLS.S30.T10SGD.2018127T183919.v2.0.B8A.tif already downloaded\n"
     ]
    },
    {
     "data": {
      "application/vnd.jupyter.widget-view+json": {
       "model_id": "8c8537afefac4c3d86e6469a02482631",
       "version_major": 2,
       "version_minor": 0
      },
      "text/plain": [
       "PROCESSING TASKS | :   0%|          | 0/18 [00:00<?, ?it/s]"
      ]
     },
     "metadata": {},
     "output_type": "display_data"
    },
    {
     "data": {
      "application/vnd.jupyter.widget-view+json": {
       "model_id": "c2a6162c5f174f3186ef03e7e1ca905d",
       "version_major": 2,
       "version_minor": 0
      },
      "text/plain": [
       "COLLECTING RESULTS | :   0%|          | 0/18 [00:00<?, ?it/s]"
      ]
     },
     "metadata": {},
     "output_type": "display_data"
    },
    {
     "name": "stdout",
     "output_type": "stream",
     "text": [
      "171\n",
      "11SKU\n",
      " Getting 1 granules, approx download size: 0.21 GB\n"
     ]
    },
    {
     "data": {
      "application/vnd.jupyter.widget-view+json": {
       "model_id": "69e1354de47e43488a66eb703526c392",
       "version_major": 2,
       "version_minor": 0
      },
      "text/plain": [
       "QUEUEING TASKS | :   0%|          | 0/18 [00:00<?, ?it/s]"
      ]
     },
     "metadata": {},
     "output_type": "display_data"
    },
    {
     "name": "stdout",
     "output_type": "stream",
     "text": [
      "File HLS.S30.T11SKU.2018127T183919.v2.0.B01.tif already downloaded\n",
      "File HLS.S30.T11SKU.2018127T183919.v2.0.B06.tif already downloaded\n",
      "File HLS.S30.T11SKU.2018127T183919.v2.0.B08.tif already downloaded\n",
      "File HLS.S30.T11SKU.2018127T183919.v2.0.SAA.tif already downloaded\n",
      "File HLS.S30.T11SKU.2018127T183919.v2.0.Fmask.tif already downloaded\n",
      "File HLS.S30.T11SKU.2018127T183919.v2.0.B8A.tif already downloaded\n",
      "File HLS.S30.T11SKU.2018127T183919.v2.0.SZA.tif already downloaded\n",
      "File HLS.S30.T11SKU.2018127T183919.v2.0.VAA.tif already downloaded\n",
      "File HLS.S30.T11SKU.2018127T183919.v2.0.B02.tif already downloaded\n",
      "File HLS.S30.T11SKU.2018127T183919.v2.0.VZA.tif already downloaded\n",
      "File HLS.S30.T11SKU.2018127T183919.v2.0.B12.tif already downloaded\n",
      "File HLS.S30.T11SKU.2018127T183919.v2.0.B04.tif already downloaded\n",
      "File HLS.S30.T11SKU.2018127T183919.v2.0.B10.tif already downloaded\n",
      "File HLS.S30.T11SKU.2018127T183919.v2.0.B11.tif already downloaded\n",
      "File HLS.S30.T11SKU.2018127T183919.v2.0.B03.tif already downloaded\n",
      "File HLS.S30.T11SKU.2018127T183919.v2.0.B07.tif already downloaded\n",
      "File HLS.S30.T11SKU.2018127T183919.v2.0.B09.tif already downloaded\n",
      "File HLS.S30.T11SKU.2018127T183919.v2.0.B05.tif already downloaded\n"
     ]
    },
    {
     "data": {
      "application/vnd.jupyter.widget-view+json": {
       "model_id": "0dc7edd82d704dd6a2d8646dc1fca3ae",
       "version_major": 2,
       "version_minor": 0
      },
      "text/plain": [
       "PROCESSING TASKS | :   0%|          | 0/18 [00:00<?, ?it/s]"
      ]
     },
     "metadata": {},
     "output_type": "display_data"
    },
    {
     "data": {
      "application/vnd.jupyter.widget-view+json": {
       "model_id": "420e0d754fbc4e94af7a9c1a6b18ac2e",
       "version_major": 2,
       "version_minor": 0
      },
      "text/plain": [
       "COLLECTING RESULTS | :   0%|          | 0/18 [00:00<?, ?it/s]"
      ]
     },
     "metadata": {},
     "output_type": "display_data"
    },
    {
     "name": "stdout",
     "output_type": "stream",
     "text": [
      "172\n",
      "11SKU\n",
      " Getting 1 granules, approx download size: 0.22 GB\n"
     ]
    },
    {
     "data": {
      "application/vnd.jupyter.widget-view+json": {
       "model_id": "01c3eb40c3da4f8a95c11e7a285fea98",
       "version_major": 2,
       "version_minor": 0
      },
      "text/plain": [
       "QUEUEING TASKS | :   0%|          | 0/18 [00:00<?, ?it/s]"
      ]
     },
     "metadata": {},
     "output_type": "display_data"
    },
    {
     "name": "stdout",
     "output_type": "stream",
     "text": [
      "File HLS.S30.T11SKU.2018132T183921.v2.0.VAA.tif already downloadedFile HLS.S30.T11SKU.2018132T183921.v2.0.B12.tif already downloaded\n",
      "\n",
      "File HLS.S30.T11SKU.2018132T183921.v2.0.B01.tif already downloaded\n",
      "File HLS.S30.T11SKU.2018132T183921.v2.0.Fmask.tif already downloaded\n",
      "File HLS.S30.T11SKU.2018132T183921.v2.0.B07.tif already downloaded\n",
      "File HLS.S30.T11SKU.2018132T183921.v2.0.SAA.tif already downloaded\n",
      "File HLS.S30.T11SKU.2018132T183921.v2.0.B09.tif already downloaded\n",
      "File HLS.S30.T11SKU.2018132T183921.v2.0.B02.tif already downloaded\n",
      "File HLS.S30.T11SKU.2018132T183921.v2.0.B10.tif already downloaded\n",
      "File HLS.S30.T11SKU.2018132T183921.v2.0.B06.tif already downloaded\n",
      "File HLS.S30.T11SKU.2018132T183921.v2.0.VZA.tif already downloaded\n",
      "File HLS.S30.T11SKU.2018132T183921.v2.0.B08.tif already downloaded\n",
      "File HLS.S30.T11SKU.2018132T183921.v2.0.B03.tif already downloaded\n",
      "File HLS.S30.T11SKU.2018132T183921.v2.0.B04.tif already downloaded\n",
      "File HLS.S30.T11SKU.2018132T183921.v2.0.B8A.tif already downloaded\n",
      "File HLS.S30.T11SKU.2018132T183921.v2.0.B05.tif already downloaded\n",
      "File HLS.S30.T11SKU.2018132T183921.v2.0.B11.tif already downloaded\n",
      "File HLS.S30.T11SKU.2018132T183921.v2.0.SZA.tif already downloaded\n"
     ]
    },
    {
     "data": {
      "application/vnd.jupyter.widget-view+json": {
       "model_id": "4e7c0cbb91ca49039e4b502314070d82",
       "version_major": 2,
       "version_minor": 0
      },
      "text/plain": [
       "PROCESSING TASKS | :   0%|          | 0/18 [00:00<?, ?it/s]"
      ]
     },
     "metadata": {},
     "output_type": "display_data"
    },
    {
     "data": {
      "application/vnd.jupyter.widget-view+json": {
       "model_id": "3e8224b2f00a489bb1e4db8b42a6278d",
       "version_major": 2,
       "version_minor": 0
      },
      "text/plain": [
       "COLLECTING RESULTS | :   0%|          | 0/18 [00:00<?, ?it/s]"
      ]
     },
     "metadata": {},
     "output_type": "display_data"
    },
    {
     "name": "stdout",
     "output_type": "stream",
     "text": [
      "173\n",
      "10SGD\n",
      " Getting 1 granules, approx download size: 0.2 GB\n"
     ]
    },
    {
     "data": {
      "application/vnd.jupyter.widget-view+json": {
       "model_id": "fb1371f1546846eb91ec592d777c2c07",
       "version_major": 2,
       "version_minor": 0
      },
      "text/plain": [
       "QUEUEING TASKS | :   0%|          | 0/18 [00:00<?, ?it/s]"
      ]
     },
     "metadata": {},
     "output_type": "display_data"
    },
    {
     "name": "stdout",
     "output_type": "stream",
     "text": [
      "File HLS.S30.T10SGD.2018137T183919.v2.0.SAA.tif already downloaded\n",
      "File HLS.S30.T10SGD.2018137T183919.v2.0.B11.tif already downloaded\n",
      "File HLS.S30.T10SGD.2018137T183919.v2.0.Fmask.tif already downloaded\n",
      "File HLS.S30.T10SGD.2018137T183919.v2.0.B06.tif already downloaded\n",
      "File HLS.S30.T10SGD.2018137T183919.v2.0.B04.tif already downloaded\n",
      "File HLS.S30.T10SGD.2018137T183919.v2.0.B12.tif already downloaded\n",
      "File HLS.S30.T10SGD.2018137T183919.v2.0.VZA.tif already downloaded\n",
      "File HLS.S30.T10SGD.2018137T183919.v2.0.B07.tif already downloaded\n",
      "File HLS.S30.T10SGD.2018137T183919.v2.0.B08.tif already downloaded\n",
      "File HLS.S30.T10SGD.2018137T183919.v2.0.B09.tif already downloaded\n",
      "File HLS.S30.T10SGD.2018137T183919.v2.0.B03.tif already downloaded\n",
      "File HLS.S30.T10SGD.2018137T183919.v2.0.B8A.tif already downloaded\n",
      "File HLS.S30.T10SGD.2018137T183919.v2.0.B10.tif already downloaded\n",
      "File HLS.S30.T10SGD.2018137T183919.v2.0.SZA.tif already downloaded\n",
      "File HLS.S30.T10SGD.2018137T183919.v2.0.B05.tif already downloaded\n",
      "File HLS.S30.T10SGD.2018137T183919.v2.0.B01.tif already downloaded\n",
      "File HLS.S30.T10SGD.2018137T183919.v2.0.B02.tif already downloaded\n",
      "File HLS.S30.T10SGD.2018137T183919.v2.0.VAA.tif already downloaded\n"
     ]
    },
    {
     "data": {
      "application/vnd.jupyter.widget-view+json": {
       "model_id": "846f454e8f83461f85ea7453b14de604",
       "version_major": 2,
       "version_minor": 0
      },
      "text/plain": [
       "PROCESSING TASKS | :   0%|          | 0/18 [00:00<?, ?it/s]"
      ]
     },
     "metadata": {},
     "output_type": "display_data"
    },
    {
     "data": {
      "application/vnd.jupyter.widget-view+json": {
       "model_id": "c3505a6c9aec45d789a03485374b9f15",
       "version_major": 2,
       "version_minor": 0
      },
      "text/plain": [
       "COLLECTING RESULTS | :   0%|          | 0/18 [00:00<?, ?it/s]"
      ]
     },
     "metadata": {},
     "output_type": "display_data"
    },
    {
     "name": "stdout",
     "output_type": "stream",
     "text": [
      "174\n",
      "11SKU\n",
      " Getting 1 granules, approx download size: 0.21 GB\n"
     ]
    },
    {
     "data": {
      "application/vnd.jupyter.widget-view+json": {
       "model_id": "d1afe9d9ac494174aa1eff77fc820a63",
       "version_major": 2,
       "version_minor": 0
      },
      "text/plain": [
       "QUEUEING TASKS | :   0%|          | 0/18 [00:00<?, ?it/s]"
      ]
     },
     "metadata": {},
     "output_type": "display_data"
    },
    {
     "name": "stdout",
     "output_type": "stream",
     "text": [
      "File HLS.S30.T11SKU.2018137T183919.v2.0.B08.tif already downloaded\n",
      "File HLS.S30.T11SKU.2018137T183919.v2.0.B11.tif already downloaded\n",
      "File HLS.S30.T11SKU.2018137T183919.v2.0.B03.tif already downloaded\n",
      "File HLS.S30.T11SKU.2018137T183919.v2.0.SAA.tif already downloaded\n",
      "File HLS.S30.T11SKU.2018137T183919.v2.0.VZA.tif already downloaded\n",
      "File HLS.S30.T11SKU.2018137T183919.v2.0.B02.tif already downloaded\n",
      "File HLS.S30.T11SKU.2018137T183919.v2.0.B04.tif already downloaded\n",
      "File HLS.S30.T11SKU.2018137T183919.v2.0.B09.tif already downloaded\n",
      "File HLS.S30.T11SKU.2018137T183919.v2.0.Fmask.tif already downloaded\n",
      "File HLS.S30.T11SKU.2018137T183919.v2.0.B05.tif already downloaded\n",
      "File HLS.S30.T11SKU.2018137T183919.v2.0.B06.tif already downloaded\n",
      "File HLS.S30.T11SKU.2018137T183919.v2.0.B01.tif already downloaded\n",
      "File HLS.S30.T11SKU.2018137T183919.v2.0.B12.tif already downloaded\n",
      "File HLS.S30.T11SKU.2018137T183919.v2.0.B07.tif already downloaded\n",
      "File HLS.S30.T11SKU.2018137T183919.v2.0.B8A.tif already downloaded\n",
      "File HLS.S30.T11SKU.2018137T183919.v2.0.SZA.tif already downloaded\n",
      "File HLS.S30.T11SKU.2018137T183919.v2.0.B10.tif already downloaded\n",
      "File HLS.S30.T11SKU.2018137T183919.v2.0.VAA.tif already downloaded\n"
     ]
    },
    {
     "data": {
      "application/vnd.jupyter.widget-view+json": {
       "model_id": "005d0a066ece4b92bd89607139249ab4",
       "version_major": 2,
       "version_minor": 0
      },
      "text/plain": [
       "PROCESSING TASKS | :   0%|          | 0/18 [00:00<?, ?it/s]"
      ]
     },
     "metadata": {},
     "output_type": "display_data"
    },
    {
     "data": {
      "application/vnd.jupyter.widget-view+json": {
       "model_id": "3c55efcf867a47b99a192d627aa4194e",
       "version_major": 2,
       "version_minor": 0
      },
      "text/plain": [
       "COLLECTING RESULTS | :   0%|          | 0/18 [00:00<?, ?it/s]"
      ]
     },
     "metadata": {},
     "output_type": "display_data"
    },
    {
     "name": "stdout",
     "output_type": "stream",
     "text": [
      "175\n",
      "11SKU\n",
      " Getting 1 granules, approx download size: 0.18 GB\n"
     ]
    },
    {
     "data": {
      "application/vnd.jupyter.widget-view+json": {
       "model_id": "e6823e0f6efc40bca40ff09b749fea6e",
       "version_major": 2,
       "version_minor": 0
      },
      "text/plain": [
       "QUEUEING TASKS | :   0%|          | 0/15 [00:00<?, ?it/s]"
      ]
     },
     "metadata": {},
     "output_type": "display_data"
    },
    {
     "name": "stdout",
     "output_type": "stream",
     "text": [
      "File HLS.L30.T11SKU.2018138T183305.v2.0.VZA.tif already downloadedFile HLS.L30.T11SKU.2018138T183305.v2.0.B02.tif already downloaded\n",
      "\n",
      "File HLS.L30.T11SKU.2018138T183305.v2.0.B04.tif already downloaded\n",
      "File HLS.L30.T11SKU.2018138T183305.v2.0.B07.tif already downloaded\n",
      "File HLS.L30.T11SKU.2018138T183305.v2.0.B01.tif already downloaded\n",
      "File HLS.L30.T11SKU.2018138T183305.v2.0.B10.tif already downloaded\n",
      "File HLS.L30.T11SKU.2018138T183305.v2.0.SAA.tif already downloaded\n",
      "File HLS.L30.T11SKU.2018138T183305.v2.0.B09.tif already downloaded\n",
      "File HLS.L30.T11SKU.2018138T183305.v2.0.B06.tif already downloaded\n",
      "File HLS.L30.T11SKU.2018138T183305.v2.0.SZA.tif already downloaded\n",
      "File HLS.L30.T11SKU.2018138T183305.v2.0.B11.tif already downloaded\n",
      "File HLS.L30.T11SKU.2018138T183305.v2.0.B05.tif already downloaded\n",
      "File HLS.L30.T11SKU.2018138T183305.v2.0.Fmask.tif already downloaded\n",
      "File HLS.L30.T11SKU.2018138T183305.v2.0.B03.tif already downloaded\n",
      "File HLS.L30.T11SKU.2018138T183305.v2.0.VAA.tif already downloaded\n"
     ]
    },
    {
     "data": {
      "application/vnd.jupyter.widget-view+json": {
       "model_id": "d142dac3555f48398d583209e355b215",
       "version_major": 2,
       "version_minor": 0
      },
      "text/plain": [
       "PROCESSING TASKS | :   0%|          | 0/15 [00:00<?, ?it/s]"
      ]
     },
     "metadata": {},
     "output_type": "display_data"
    },
    {
     "data": {
      "application/vnd.jupyter.widget-view+json": {
       "model_id": "a8c1d07b69864f87849efc6e1fdc3e5f",
       "version_major": 2,
       "version_minor": 0
      },
      "text/plain": [
       "COLLECTING RESULTS | :   0%|          | 0/15 [00:00<?, ?it/s]"
      ]
     },
     "metadata": {},
     "output_type": "display_data"
    },
    {
     "name": "stdout",
     "output_type": "stream",
     "text": [
      "176\n",
      "10SGD\n",
      " Getting 1 granules, approx download size: 0.18 GB\n"
     ]
    },
    {
     "data": {
      "application/vnd.jupyter.widget-view+json": {
       "model_id": "3d1569293ff84e46b543c151046fcf9c",
       "version_major": 2,
       "version_minor": 0
      },
      "text/plain": [
       "QUEUEING TASKS | :   0%|          | 0/15 [00:00<?, ?it/s]"
      ]
     },
     "metadata": {},
     "output_type": "display_data"
    },
    {
     "name": "stdout",
     "output_type": "stream",
     "text": [
      "File HLS.L30.T10SGD.2018138T183329.v2.0.B07.tif already downloaded\n",
      "File HLS.L30.T10SGD.2018138T183329.v2.0.B10.tif already downloaded\n",
      "File HLS.L30.T10SGD.2018138T183329.v2.0.B01.tif already downloaded\n",
      "File HLS.L30.T10SGD.2018138T183329.v2.0.B03.tif already downloaded\n",
      "File HLS.L30.T10SGD.2018138T183329.v2.0.SZA.tif already downloaded\n",
      "File HLS.L30.T10SGD.2018138T183329.v2.0.B09.tif already downloaded\n",
      "File HLS.L30.T10SGD.2018138T183329.v2.0.VAA.tif already downloaded\n",
      "File HLS.L30.T10SGD.2018138T183329.v2.0.B05.tif already downloaded\n",
      "File HLS.L30.T10SGD.2018138T183329.v2.0.B11.tif already downloaded\n",
      "File HLS.L30.T10SGD.2018138T183329.v2.0.B02.tif already downloaded\n",
      "File HLS.L30.T10SGD.2018138T183329.v2.0.Fmask.tif already downloaded\n",
      "File HLS.L30.T10SGD.2018138T183329.v2.0.B04.tif already downloaded\n",
      "File HLS.L30.T10SGD.2018138T183329.v2.0.VZA.tif already downloaded\n",
      "File HLS.L30.T10SGD.2018138T183329.v2.0.B06.tif already downloaded\n",
      "File HLS.L30.T10SGD.2018138T183329.v2.0.SAA.tif already downloaded\n"
     ]
    },
    {
     "data": {
      "application/vnd.jupyter.widget-view+json": {
       "model_id": "36491caa872c4f68a0269019dd19258d",
       "version_major": 2,
       "version_minor": 0
      },
      "text/plain": [
       "PROCESSING TASKS | :   0%|          | 0/15 [00:00<?, ?it/s]"
      ]
     },
     "metadata": {},
     "output_type": "display_data"
    },
    {
     "data": {
      "application/vnd.jupyter.widget-view+json": {
       "model_id": "1bf0479ffc854fff9c3dac6ecba93c34",
       "version_major": 2,
       "version_minor": 0
      },
      "text/plain": [
       "COLLECTING RESULTS | :   0%|          | 0/15 [00:00<?, ?it/s]"
      ]
     },
     "metadata": {},
     "output_type": "display_data"
    },
    {
     "name": "stdout",
     "output_type": "stream",
     "text": [
      "177\n",
      "11SKU\n",
      " Getting 1 granules, approx download size: 0.21 GB\n"
     ]
    },
    {
     "data": {
      "application/vnd.jupyter.widget-view+json": {
       "model_id": "dd98a4e04fc043fcba6f5f845695e675",
       "version_major": 2,
       "version_minor": 0
      },
      "text/plain": [
       "QUEUEING TASKS | :   0%|          | 0/18 [00:00<?, ?it/s]"
      ]
     },
     "metadata": {},
     "output_type": "display_data"
    },
    {
     "name": "stdout",
     "output_type": "stream",
     "text": [
      "File HLS.S30.T11SKU.2018142T183921.v2.0.B8A.tif already downloaded\n",
      "File HLS.S30.T11SKU.2018142T183921.v2.0.SZA.tif already downloaded\n",
      "File HLS.S30.T11SKU.2018142T183921.v2.0.B04.tif already downloaded\n",
      "File HLS.S30.T11SKU.2018142T183921.v2.0.B12.tif already downloaded\n",
      "File HLS.S30.T11SKU.2018142T183921.v2.0.SAA.tif already downloaded\n",
      "File HLS.S30.T11SKU.2018142T183921.v2.0.B11.tif already downloaded\n",
      "File HLS.S30.T11SKU.2018142T183921.v2.0.B09.tif already downloaded\n",
      "File HLS.S30.T11SKU.2018142T183921.v2.0.B08.tif already downloaded\n",
      "File HLS.S30.T11SKU.2018142T183921.v2.0.B03.tif already downloaded\n",
      "File HLS.S30.T11SKU.2018142T183921.v2.0.Fmask.tif already downloaded\n",
      "File HLS.S30.T11SKU.2018142T183921.v2.0.B05.tif already downloaded\n",
      "File HLS.S30.T11SKU.2018142T183921.v2.0.B01.tif already downloaded\n",
      "File HLS.S30.T11SKU.2018142T183921.v2.0.B10.tif already downloaded\n",
      "File HLS.S30.T11SKU.2018142T183921.v2.0.B02.tif already downloaded\n",
      "File HLS.S30.T11SKU.2018142T183921.v2.0.VAA.tif already downloaded\n",
      "File HLS.S30.T11SKU.2018142T183921.v2.0.B07.tif already downloaded\n",
      "File HLS.S30.T11SKU.2018142T183921.v2.0.VZA.tif already downloaded\n",
      "File HLS.S30.T11SKU.2018142T183921.v2.0.B06.tif already downloaded\n"
     ]
    },
    {
     "data": {
      "application/vnd.jupyter.widget-view+json": {
       "model_id": "bbcffbd48b514b059080daeae255fad7",
       "version_major": 2,
       "version_minor": 0
      },
      "text/plain": [
       "PROCESSING TASKS | :   0%|          | 0/18 [00:00<?, ?it/s]"
      ]
     },
     "metadata": {},
     "output_type": "display_data"
    },
    {
     "data": {
      "application/vnd.jupyter.widget-view+json": {
       "model_id": "dd9615ad684f41f3b51f1d3f51766180",
       "version_major": 2,
       "version_minor": 0
      },
      "text/plain": [
       "COLLECTING RESULTS | :   0%|          | 0/18 [00:00<?, ?it/s]"
      ]
     },
     "metadata": {},
     "output_type": "display_data"
    },
    {
     "name": "stdout",
     "output_type": "stream",
     "text": [
      "178\n",
      "10SGD\n",
      " Getting 1 granules, approx download size: 0.21 GB\n"
     ]
    },
    {
     "data": {
      "application/vnd.jupyter.widget-view+json": {
       "model_id": "c19a8abcd898476ca430a2edcb1acec6",
       "version_major": 2,
       "version_minor": 0
      },
      "text/plain": [
       "QUEUEING TASKS | :   0%|          | 0/18 [00:00<?, ?it/s]"
      ]
     },
     "metadata": {},
     "output_type": "display_data"
    },
    {
     "name": "stdout",
     "output_type": "stream",
     "text": [
      "File HLS.S30.T10SGD.2018142T183921.v2.0.VZA.tif already downloaded\n",
      "File HLS.S30.T10SGD.2018142T183921.v2.0.B02.tif already downloaded\n",
      "File HLS.S30.T10SGD.2018142T183921.v2.0.B09.tif already downloaded\n",
      "File HLS.S30.T10SGD.2018142T183921.v2.0.B06.tif already downloaded\n",
      "File HLS.S30.T10SGD.2018142T183921.v2.0.B10.tif already downloaded\n",
      "File HLS.S30.T10SGD.2018142T183921.v2.0.B04.tif already downloaded\n",
      "File HLS.S30.T10SGD.2018142T183921.v2.0.B07.tif already downloaded\n",
      "File HLS.S30.T10SGD.2018142T183921.v2.0.Fmask.tif already downloaded\n",
      "File HLS.S30.T10SGD.2018142T183921.v2.0.B08.tif already downloaded\n",
      "File HLS.S30.T10SGD.2018142T183921.v2.0.B05.tif already downloaded\n",
      "File HLS.S30.T10SGD.2018142T183921.v2.0.VAA.tif already downloaded\n",
      "File HLS.S30.T10SGD.2018142T183921.v2.0.B11.tif already downloaded\n",
      "File HLS.S30.T10SGD.2018142T183921.v2.0.B12.tif already downloaded\n",
      "File HLS.S30.T10SGD.2018142T183921.v2.0.SZA.tif already downloaded\n",
      "File HLS.S30.T10SGD.2018142T183921.v2.0.B03.tif already downloaded\n",
      "File HLS.S30.T10SGD.2018142T183921.v2.0.B01.tif already downloaded\n",
      "File HLS.S30.T10SGD.2018142T183921.v2.0.B8A.tif already downloaded\n",
      "File HLS.S30.T10SGD.2018142T183921.v2.0.SAA.tif already downloaded\n"
     ]
    },
    {
     "data": {
      "application/vnd.jupyter.widget-view+json": {
       "model_id": "010135bae3f6422bb0dea4ba8c3d7497",
       "version_major": 2,
       "version_minor": 0
      },
      "text/plain": [
       "PROCESSING TASKS | :   0%|          | 0/18 [00:00<?, ?it/s]"
      ]
     },
     "metadata": {},
     "output_type": "display_data"
    },
    {
     "data": {
      "application/vnd.jupyter.widget-view+json": {
       "model_id": "7c8ac50f81394607b754f294a98631b5",
       "version_major": 2,
       "version_minor": 0
      },
      "text/plain": [
       "COLLECTING RESULTS | :   0%|          | 0/18 [00:00<?, ?it/s]"
      ]
     },
     "metadata": {},
     "output_type": "display_data"
    },
    {
     "name": "stdout",
     "output_type": "stream",
     "text": [
      "179\n",
      "11SKU\n",
      " Getting 1 granules, approx download size: 0.21 GB\n"
     ]
    },
    {
     "data": {
      "application/vnd.jupyter.widget-view+json": {
       "model_id": "7aec23e63b444153ab880eff08860b2b",
       "version_major": 2,
       "version_minor": 0
      },
      "text/plain": [
       "QUEUEING TASKS | :   0%|          | 0/18 [00:00<?, ?it/s]"
      ]
     },
     "metadata": {},
     "output_type": "display_data"
    },
    {
     "name": "stdout",
     "output_type": "stream",
     "text": [
      "File HLS.S30.T11SKU.2018147T183919.v2.0.B02.tif already downloaded\n",
      "File HLS.S30.T11SKU.2018147T183919.v2.0.B12.tif already downloaded\n",
      "File HLS.S30.T11SKU.2018147T183919.v2.0.SAA.tif already downloaded\n",
      "File HLS.S30.T11SKU.2018147T183919.v2.0.VAA.tif already downloaded\n",
      "File HLS.S30.T11SKU.2018147T183919.v2.0.B11.tif already downloaded\n",
      "File HLS.S30.T11SKU.2018147T183919.v2.0.B08.tif already downloaded\n",
      "File HLS.S30.T11SKU.2018147T183919.v2.0.B07.tif already downloaded\n",
      "File HLS.S30.T11SKU.2018147T183919.v2.0.SZA.tif already downloaded\n",
      "File HLS.S30.T11SKU.2018147T183919.v2.0.B01.tif already downloaded\n",
      "File HLS.S30.T11SKU.2018147T183919.v2.0.B8A.tif already downloaded\n",
      "File HLS.S30.T11SKU.2018147T183919.v2.0.B05.tif already downloaded\n",
      "File HLS.S30.T11SKU.2018147T183919.v2.0.B04.tif already downloaded\n",
      "File HLS.S30.T11SKU.2018147T183919.v2.0.B06.tif already downloaded\n",
      "File HLS.S30.T11SKU.2018147T183919.v2.0.B10.tif already downloaded\n",
      "File HLS.S30.T11SKU.2018147T183919.v2.0.Fmask.tif already downloaded\n",
      "File HLS.S30.T11SKU.2018147T183919.v2.0.B09.tif already downloaded\n",
      "File HLS.S30.T11SKU.2018147T183919.v2.0.VZA.tif already downloaded\n",
      "File HLS.S30.T11SKU.2018147T183919.v2.0.B03.tif already downloaded\n"
     ]
    },
    {
     "data": {
      "application/vnd.jupyter.widget-view+json": {
       "model_id": "4b9e9e49c71c4be2862b05abbdc3e782",
       "version_major": 2,
       "version_minor": 0
      },
      "text/plain": [
       "PROCESSING TASKS | :   0%|          | 0/18 [00:00<?, ?it/s]"
      ]
     },
     "metadata": {},
     "output_type": "display_data"
    },
    {
     "data": {
      "application/vnd.jupyter.widget-view+json": {
       "model_id": "c71bd550790b4c0e96e53b42e5d0d668",
       "version_major": 2,
       "version_minor": 0
      },
      "text/plain": [
       "COLLECTING RESULTS | :   0%|          | 0/18 [00:00<?, ?it/s]"
      ]
     },
     "metadata": {},
     "output_type": "display_data"
    },
    {
     "name": "stdout",
     "output_type": "stream",
     "text": [
      "180\n",
      "10SGD\n",
      " Getting 1 granules, approx download size: 0.22 GB\n"
     ]
    },
    {
     "data": {
      "application/vnd.jupyter.widget-view+json": {
       "model_id": "91897178bab9467d97fc433446783462",
       "version_major": 2,
       "version_minor": 0
      },
      "text/plain": [
       "QUEUEING TASKS | :   0%|          | 0/18 [00:00<?, ?it/s]"
      ]
     },
     "metadata": {},
     "output_type": "display_data"
    },
    {
     "name": "stdout",
     "output_type": "stream",
     "text": [
      "File HLS.S30.T10SGD.2018147T183919.v2.0.Fmask.tif already downloaded\n",
      "File HLS.S30.T10SGD.2018147T183919.v2.0.B05.tif already downloaded\n",
      "File HLS.S30.T10SGD.2018147T183919.v2.0.B03.tif already downloaded\n",
      "File HLS.S30.T10SGD.2018147T183919.v2.0.B10.tif already downloaded\n",
      "File HLS.S30.T10SGD.2018147T183919.v2.0.VAA.tif already downloaded\n",
      "File HLS.S30.T10SGD.2018147T183919.v2.0.B02.tif already downloaded\n",
      "File HLS.S30.T10SGD.2018147T183919.v2.0.SAA.tif already downloaded\n",
      "File HLS.S30.T10SGD.2018147T183919.v2.0.B07.tif already downloaded\n",
      "File HLS.S30.T10SGD.2018147T183919.v2.0.B11.tif already downloaded\n",
      "File HLS.S30.T10SGD.2018147T183919.v2.0.VZA.tif already downloaded\n",
      "File HLS.S30.T10SGD.2018147T183919.v2.0.B12.tif already downloaded\n",
      "File HLS.S30.T10SGD.2018147T183919.v2.0.B01.tif already downloaded\n",
      "File HLS.S30.T10SGD.2018147T183919.v2.0.SZA.tif already downloaded\n",
      "File HLS.S30.T10SGD.2018147T183919.v2.0.B06.tif already downloaded\n",
      "File HLS.S30.T10SGD.2018147T183919.v2.0.B8A.tif already downloaded\n",
      "File HLS.S30.T10SGD.2018147T183919.v2.0.B04.tif already downloaded\n",
      "File HLS.S30.T10SGD.2018147T183919.v2.0.B09.tif already downloaded\n",
      "File HLS.S30.T10SGD.2018147T183919.v2.0.B08.tif already downloaded\n"
     ]
    },
    {
     "data": {
      "application/vnd.jupyter.widget-view+json": {
       "model_id": "7f200bac8e2a4caf851705a1573de657",
       "version_major": 2,
       "version_minor": 0
      },
      "text/plain": [
       "PROCESSING TASKS | :   0%|          | 0/18 [00:00<?, ?it/s]"
      ]
     },
     "metadata": {},
     "output_type": "display_data"
    },
    {
     "data": {
      "application/vnd.jupyter.widget-view+json": {
       "model_id": "50518c5cd6c54f52a0e3845bf4e9890d",
       "version_major": 2,
       "version_minor": 0
      },
      "text/plain": [
       "COLLECTING RESULTS | :   0%|          | 0/18 [00:00<?, ?it/s]"
      ]
     },
     "metadata": {},
     "output_type": "display_data"
    },
    {
     "name": "stdout",
     "output_type": "stream",
     "text": [
      "181\n",
      "11SKU\n",
      " Getting 1 granules, approx download size: 0.21 GB\n"
     ]
    },
    {
     "data": {
      "application/vnd.jupyter.widget-view+json": {
       "model_id": "ea65c7246aa1485cab4cbb4b56dab95b",
       "version_major": 2,
       "version_minor": 0
      },
      "text/plain": [
       "QUEUEING TASKS | :   0%|          | 0/18 [00:00<?, ?it/s]"
      ]
     },
     "metadata": {},
     "output_type": "display_data"
    },
    {
     "name": "stdout",
     "output_type": "stream",
     "text": [
      "File HLS.S30.T11SKU.2018152T183931.v2.0.B02.tif already downloaded\n",
      "File HLS.S30.T11SKU.2018152T183931.v2.0.B03.tif already downloaded\n",
      "File HLS.S30.T11SKU.2018152T183931.v2.0.Fmask.tif already downloaded\n",
      "File HLS.S30.T11SKU.2018152T183931.v2.0.B08.tif already downloaded\n",
      "File HLS.S30.T11SKU.2018152T183931.v2.0.B11.tif already downloaded\n",
      "File HLS.S30.T11SKU.2018152T183931.v2.0.VZA.tif already downloaded\n",
      "File HLS.S30.T11SKU.2018152T183931.v2.0.B12.tif already downloaded\n",
      "File HLS.S30.T11SKU.2018152T183931.v2.0.SZA.tif already downloaded\n",
      "File HLS.S30.T11SKU.2018152T183931.v2.0.B10.tif already downloaded\n",
      "File HLS.S30.T11SKU.2018152T183931.v2.0.B07.tif already downloaded\n",
      "File HLS.S30.T11SKU.2018152T183931.v2.0.VAA.tif already downloaded\n",
      "File HLS.S30.T11SKU.2018152T183931.v2.0.B09.tif already downloaded\n",
      "File HLS.S30.T11SKU.2018152T183931.v2.0.B01.tif already downloaded\n",
      "File HLS.S30.T11SKU.2018152T183931.v2.0.B04.tif already downloaded\n",
      "File HLS.S30.T11SKU.2018152T183931.v2.0.B8A.tif already downloaded\n",
      "File HLS.S30.T11SKU.2018152T183931.v2.0.B06.tif already downloaded\n",
      "File HLS.S30.T11SKU.2018152T183931.v2.0.SAA.tif already downloaded\n",
      "File HLS.S30.T11SKU.2018152T183931.v2.0.B05.tif already downloaded\n"
     ]
    },
    {
     "data": {
      "application/vnd.jupyter.widget-view+json": {
       "model_id": "af6abb2bfdc04172a819f64e071c116d",
       "version_major": 2,
       "version_minor": 0
      },
      "text/plain": [
       "PROCESSING TASKS | :   0%|          | 0/18 [00:00<?, ?it/s]"
      ]
     },
     "metadata": {},
     "output_type": "display_data"
    },
    {
     "data": {
      "application/vnd.jupyter.widget-view+json": {
       "model_id": "26544d11a69d470ba211ae16fe5ffc8e",
       "version_major": 2,
       "version_minor": 0
      },
      "text/plain": [
       "COLLECTING RESULTS | :   0%|          | 0/18 [00:00<?, ?it/s]"
      ]
     },
     "metadata": {},
     "output_type": "display_data"
    },
    {
     "name": "stdout",
     "output_type": "stream",
     "text": [
      "182\n",
      "10SGD\n",
      " Getting 1 granules, approx download size: 0.21 GB\n"
     ]
    },
    {
     "data": {
      "application/vnd.jupyter.widget-view+json": {
       "model_id": "96822e51fc954fd29675f359b6d2836c",
       "version_major": 2,
       "version_minor": 0
      },
      "text/plain": [
       "QUEUEING TASKS | :   0%|          | 0/18 [00:00<?, ?it/s]"
      ]
     },
     "metadata": {},
     "output_type": "display_data"
    },
    {
     "name": "stdout",
     "output_type": "stream",
     "text": [
      "File HLS.S30.T10SGD.2018152T183931.v2.0.SZA.tif already downloaded\n",
      "File HLS.S30.T10SGD.2018152T183931.v2.0.B06.tif already downloaded\n",
      "File HLS.S30.T10SGD.2018152T183931.v2.0.B05.tif already downloaded\n",
      "File HLS.S30.T10SGD.2018152T183931.v2.0.VAA.tif already downloaded\n",
      "File HLS.S30.T10SGD.2018152T183931.v2.0.B01.tif already downloaded\n",
      "File HLS.S30.T10SGD.2018152T183931.v2.0.B09.tif already downloaded\n",
      "File HLS.S30.T10SGD.2018152T183931.v2.0.B08.tif already downloaded\n",
      "File HLS.S30.T10SGD.2018152T183931.v2.0.B07.tif already downloaded\n",
      "File HLS.S30.T10SGD.2018152T183931.v2.0.B10.tif already downloaded\n",
      "File HLS.S30.T10SGD.2018152T183931.v2.0.SAA.tif already downloaded\n",
      "File HLS.S30.T10SGD.2018152T183931.v2.0.B02.tif already downloaded\n",
      "File HLS.S30.T10SGD.2018152T183931.v2.0.Fmask.tif already downloaded\n",
      "File HLS.S30.T10SGD.2018152T183931.v2.0.B11.tif already downloaded\n",
      "File HLS.S30.T10SGD.2018152T183931.v2.0.B12.tif already downloaded\n",
      "File HLS.S30.T10SGD.2018152T183931.v2.0.VZA.tif already downloaded\n",
      "File HLS.S30.T10SGD.2018152T183931.v2.0.B8A.tif already downloaded\n",
      "File HLS.S30.T10SGD.2018152T183931.v2.0.B03.tif already downloaded\n",
      "File HLS.S30.T10SGD.2018152T183931.v2.0.B04.tif already downloaded\n"
     ]
    },
    {
     "data": {
      "application/vnd.jupyter.widget-view+json": {
       "model_id": "ab451e01f75e4f8fbc90f71d6a200bf0",
       "version_major": 2,
       "version_minor": 0
      },
      "text/plain": [
       "PROCESSING TASKS | :   0%|          | 0/18 [00:00<?, ?it/s]"
      ]
     },
     "metadata": {},
     "output_type": "display_data"
    },
    {
     "data": {
      "application/vnd.jupyter.widget-view+json": {
       "model_id": "f20c5b9aada9442da00f353b98ddc3d5",
       "version_major": 2,
       "version_minor": 0
      },
      "text/plain": [
       "COLLECTING RESULTS | :   0%|          | 0/18 [00:00<?, ?it/s]"
      ]
     },
     "metadata": {},
     "output_type": "display_data"
    },
    {
     "name": "stdout",
     "output_type": "stream",
     "text": [
      "183\n",
      "11SKU\n",
      " Getting 1 granules, approx download size: 0.18 GB\n"
     ]
    },
    {
     "data": {
      "application/vnd.jupyter.widget-view+json": {
       "model_id": "926877df64af4863bb70f910f1aba405",
       "version_major": 2,
       "version_minor": 0
      },
      "text/plain": [
       "QUEUEING TASKS | :   0%|          | 0/15 [00:00<?, ?it/s]"
      ]
     },
     "metadata": {},
     "output_type": "display_data"
    },
    {
     "name": "stdout",
     "output_type": "stream",
     "text": [
      "File HLS.L30.T11SKU.2018154T183253.v2.0.B11.tif already downloaded\n",
      "File HLS.L30.T11SKU.2018154T183253.v2.0.B05.tif already downloaded\n",
      "File HLS.L30.T11SKU.2018154T183253.v2.0.B02.tif already downloaded\n",
      "File HLS.L30.T11SKU.2018154T183253.v2.0.B03.tif already downloaded\n",
      "File HLS.L30.T11SKU.2018154T183253.v2.0.B10.tif already downloaded\n",
      "File HLS.L30.T11SKU.2018154T183253.v2.0.B01.tif already downloaded\n",
      "File HLS.L30.T11SKU.2018154T183253.v2.0.SZA.tif already downloaded\n",
      "File HLS.L30.T11SKU.2018154T183253.v2.0.B09.tif already downloaded\n",
      "File HLS.L30.T11SKU.2018154T183253.v2.0.VAA.tif already downloaded\n",
      "File HLS.L30.T11SKU.2018154T183253.v2.0.VZA.tif already downloaded\n",
      "File HLS.L30.T11SKU.2018154T183253.v2.0.B04.tif already downloaded\n",
      "File HLS.L30.T11SKU.2018154T183253.v2.0.Fmask.tif already downloaded\n",
      "File HLS.L30.T11SKU.2018154T183253.v2.0.SAA.tif already downloaded\n",
      "File HLS.L30.T11SKU.2018154T183253.v2.0.B07.tif already downloaded\n",
      "File HLS.L30.T11SKU.2018154T183253.v2.0.B06.tif already downloaded\n"
     ]
    },
    {
     "data": {
      "application/vnd.jupyter.widget-view+json": {
       "model_id": "1a62660bf98e4705ac4a3c8fc7db5ab8",
       "version_major": 2,
       "version_minor": 0
      },
      "text/plain": [
       "PROCESSING TASKS | :   0%|          | 0/15 [00:00<?, ?it/s]"
      ]
     },
     "metadata": {},
     "output_type": "display_data"
    },
    {
     "data": {
      "application/vnd.jupyter.widget-view+json": {
       "model_id": "c9ec1643561b4088bcc5ad38e6b13a7c",
       "version_major": 2,
       "version_minor": 0
      },
      "text/plain": [
       "COLLECTING RESULTS | :   0%|          | 0/15 [00:00<?, ?it/s]"
      ]
     },
     "metadata": {},
     "output_type": "display_data"
    },
    {
     "name": "stdout",
     "output_type": "stream",
     "text": [
      "184\n",
      "10SGD\n",
      " Getting 1 granules, approx download size: 0.18 GB\n"
     ]
    },
    {
     "data": {
      "application/vnd.jupyter.widget-view+json": {
       "model_id": "f155eb9a3e734e738c1e4db22859943e",
       "version_major": 2,
       "version_minor": 0
      },
      "text/plain": [
       "QUEUEING TASKS | :   0%|          | 0/15 [00:00<?, ?it/s]"
      ]
     },
     "metadata": {},
     "output_type": "display_data"
    },
    {
     "name": "stdout",
     "output_type": "stream",
     "text": [
      "File HLS.L30.T10SGD.2018154T183317.v2.0.B07.tif already downloaded\n",
      "File HLS.L30.T10SGD.2018154T183317.v2.0.B10.tif already downloaded\n",
      "File HLS.L30.T10SGD.2018154T183317.v2.0.SAA.tif already downloaded\n",
      "File HLS.L30.T10SGD.2018154T183317.v2.0.B11.tif already downloaded\n",
      "File HLS.L30.T10SGD.2018154T183317.v2.0.B06.tif already downloaded\n",
      "File HLS.L30.T10SGD.2018154T183317.v2.0.VZA.tif already downloaded\n",
      "File HLS.L30.T10SGD.2018154T183317.v2.0.VAA.tif already downloaded\n",
      "File HLS.L30.T10SGD.2018154T183317.v2.0.B09.tif already downloaded\n",
      "File HLS.L30.T10SGD.2018154T183317.v2.0.B02.tif already downloaded\n",
      "File HLS.L30.T10SGD.2018154T183317.v2.0.Fmask.tif already downloaded\n",
      "File HLS.L30.T10SGD.2018154T183317.v2.0.B05.tif already downloaded\n",
      "File HLS.L30.T10SGD.2018154T183317.v2.0.B03.tif already downloaded\n",
      "File HLS.L30.T10SGD.2018154T183317.v2.0.SZA.tif already downloaded\n",
      "File HLS.L30.T10SGD.2018154T183317.v2.0.B04.tif already downloaded\n",
      "File HLS.L30.T10SGD.2018154T183317.v2.0.B01.tif already downloaded\n"
     ]
    },
    {
     "data": {
      "application/vnd.jupyter.widget-view+json": {
       "model_id": "70c3c4af2faa447aa1114661f3e1c30c",
       "version_major": 2,
       "version_minor": 0
      },
      "text/plain": [
       "PROCESSING TASKS | :   0%|          | 0/15 [00:00<?, ?it/s]"
      ]
     },
     "metadata": {},
     "output_type": "display_data"
    },
    {
     "data": {
      "application/vnd.jupyter.widget-view+json": {
       "model_id": "b566f45cd7204cac87a4fed3dd3601fd",
       "version_major": 2,
       "version_minor": 0
      },
      "text/plain": [
       "COLLECTING RESULTS | :   0%|          | 0/15 [00:00<?, ?it/s]"
      ]
     },
     "metadata": {},
     "output_type": "display_data"
    },
    {
     "name": "stdout",
     "output_type": "stream",
     "text": [
      "185\n",
      "10SGD\n",
      " Getting 1 granules, approx download size: 0.22 GB\n"
     ]
    },
    {
     "data": {
      "application/vnd.jupyter.widget-view+json": {
       "model_id": "d30ffbdb74584a53b6be27d5d9796b27",
       "version_major": 2,
       "version_minor": 0
      },
      "text/plain": [
       "QUEUEING TASKS | :   0%|          | 0/18 [00:00<?, ?it/s]"
      ]
     },
     "metadata": {},
     "output_type": "display_data"
    },
    {
     "name": "stdout",
     "output_type": "stream",
     "text": [
      "File HLS.S30.T10SGD.2018157T183929.v2.0.B8A.tif already downloaded\n",
      "File HLS.S30.T10SGD.2018157T183929.v2.0.SAA.tif already downloadedFile HLS.S30.T10SGD.2018157T183929.v2.0.Fmask.tif already downloaded\n",
      "File HLS.S30.T10SGD.2018157T183929.v2.0.B08.tif already downloaded\n",
      "\n",
      "File HLS.S30.T10SGD.2018157T183929.v2.0.B04.tif already downloaded\n",
      "File HLS.S30.T10SGD.2018157T183929.v2.0.B03.tif already downloaded\n",
      "File HLS.S30.T10SGD.2018157T183929.v2.0.VAA.tif already downloaded\n",
      "File HLS.S30.T10SGD.2018157T183929.v2.0.B07.tif already downloaded\n",
      "File HLS.S30.T10SGD.2018157T183929.v2.0.SZA.tif already downloaded\n",
      "File HLS.S30.T10SGD.2018157T183929.v2.0.B09.tif already downloaded\n",
      "File HLS.S30.T10SGD.2018157T183929.v2.0.B12.tif already downloaded\n",
      "File HLS.S30.T10SGD.2018157T183929.v2.0.VZA.tif already downloaded\n",
      "File HLS.S30.T10SGD.2018157T183929.v2.0.B10.tif already downloaded\n",
      "File HLS.S30.T10SGD.2018157T183929.v2.0.B06.tif already downloaded\n",
      "File HLS.S30.T10SGD.2018157T183929.v2.0.B11.tif already downloaded\n",
      "File HLS.S30.T10SGD.2018157T183929.v2.0.B05.tif already downloaded\n",
      "File HLS.S30.T10SGD.2018157T183929.v2.0.B02.tif already downloaded\n",
      "File HLS.S30.T10SGD.2018157T183929.v2.0.B01.tif already downloaded\n"
     ]
    },
    {
     "data": {
      "application/vnd.jupyter.widget-view+json": {
       "model_id": "2a63c02a2cfa44cca8903401dae1df8a",
       "version_major": 2,
       "version_minor": 0
      },
      "text/plain": [
       "PROCESSING TASKS | :   0%|          | 0/18 [00:00<?, ?it/s]"
      ]
     },
     "metadata": {},
     "output_type": "display_data"
    },
    {
     "data": {
      "application/vnd.jupyter.widget-view+json": {
       "model_id": "10850215ce274418bb8264656850ac37",
       "version_major": 2,
       "version_minor": 0
      },
      "text/plain": [
       "COLLECTING RESULTS | :   0%|          | 0/18 [00:00<?, ?it/s]"
      ]
     },
     "metadata": {},
     "output_type": "display_data"
    },
    {
     "name": "stdout",
     "output_type": "stream",
     "text": [
      "186\n",
      "11SKU\n",
      " Getting 1 granules, approx download size: 0.21 GB\n"
     ]
    },
    {
     "data": {
      "application/vnd.jupyter.widget-view+json": {
       "model_id": "af57f82e90444c21bfd2475d0e566350",
       "version_major": 2,
       "version_minor": 0
      },
      "text/plain": [
       "QUEUEING TASKS | :   0%|          | 0/18 [00:00<?, ?it/s]"
      ]
     },
     "metadata": {},
     "output_type": "display_data"
    },
    {
     "name": "stdout",
     "output_type": "stream",
     "text": [
      "File HLS.S30.T11SKU.2018157T183929.v2.0.B05.tif already downloadedFile HLS.S30.T11SKU.2018157T183929.v2.0.B02.tif already downloaded\n",
      "\n",
      "File HLS.S30.T11SKU.2018157T183929.v2.0.B01.tif already downloaded\n",
      "File HLS.S30.T11SKU.2018157T183929.v2.0.B12.tif already downloaded\n",
      "File HLS.S30.T11SKU.2018157T183929.v2.0.B06.tif already downloaded\n",
      "File HLS.S30.T11SKU.2018157T183929.v2.0.B07.tif already downloaded\n",
      "File HLS.S30.T11SKU.2018157T183929.v2.0.B04.tif already downloaded\n",
      "File HLS.S30.T11SKU.2018157T183929.v2.0.B11.tif already downloaded\n",
      "File HLS.S30.T11SKU.2018157T183929.v2.0.B09.tif already downloaded\n",
      "File HLS.S30.T11SKU.2018157T183929.v2.0.VAA.tif already downloaded\n",
      "File HLS.S30.T11SKU.2018157T183929.v2.0.B10.tif already downloaded\n",
      "File HLS.S30.T11SKU.2018157T183929.v2.0.B8A.tif already downloaded\n",
      "File HLS.S30.T11SKU.2018157T183929.v2.0.SZA.tif already downloaded\n",
      "File HLS.S30.T11SKU.2018157T183929.v2.0.SAA.tif already downloaded\n",
      "File HLS.S30.T11SKU.2018157T183929.v2.0.VZA.tif already downloaded\n",
      "File HLS.S30.T11SKU.2018157T183929.v2.0.Fmask.tif already downloaded\n",
      "File HLS.S30.T11SKU.2018157T183929.v2.0.B08.tif already downloaded\n",
      "File HLS.S30.T11SKU.2018157T183929.v2.0.B03.tif already downloaded\n"
     ]
    },
    {
     "data": {
      "application/vnd.jupyter.widget-view+json": {
       "model_id": "974425a780954d6aa09fea8a4ae4bf61",
       "version_major": 2,
       "version_minor": 0
      },
      "text/plain": [
       "PROCESSING TASKS | :   0%|          | 0/18 [00:00<?, ?it/s]"
      ]
     },
     "metadata": {},
     "output_type": "display_data"
    },
    {
     "data": {
      "application/vnd.jupyter.widget-view+json": {
       "model_id": "765d0dc5fc514788ae7bffdff17cf708",
       "version_major": 2,
       "version_minor": 0
      },
      "text/plain": [
       "COLLECTING RESULTS | :   0%|          | 0/18 [00:00<?, ?it/s]"
      ]
     },
     "metadata": {},
     "output_type": "display_data"
    },
    {
     "name": "stdout",
     "output_type": "stream",
     "text": [
      "187\n",
      "10SGD\n",
      " Getting 1 granules, approx download size: 0.21 GB\n"
     ]
    },
    {
     "data": {
      "application/vnd.jupyter.widget-view+json": {
       "model_id": "9ea802b5f73c4851b63583daad9c5f55",
       "version_major": 2,
       "version_minor": 0
      },
      "text/plain": [
       "QUEUEING TASKS | :   0%|          | 0/18 [00:00<?, ?it/s]"
      ]
     },
     "metadata": {},
     "output_type": "display_data"
    },
    {
     "name": "stdout",
     "output_type": "stream",
     "text": [
      "File HLS.S30.T10SGD.2018162T183921.v2.0.B11.tif already downloaded\n",
      "File HLS.S30.T10SGD.2018162T183921.v2.0.B8A.tif already downloaded\n",
      "File HLS.S30.T10SGD.2018162T183921.v2.0.B02.tif already downloadedFile HLS.S30.T10SGD.2018162T183921.v2.0.VZA.tif already downloaded\n",
      "File HLS.S30.T10SGD.2018162T183921.v2.0.B03.tif already downloaded\n",
      "\n",
      "File HLS.S30.T10SGD.2018162T183921.v2.0.SZA.tif already downloaded\n",
      "File HLS.S30.T10SGD.2018162T183921.v2.0.B01.tif already downloaded\n",
      "File HLS.S30.T10SGD.2018162T183921.v2.0.B05.tif already downloaded\n",
      "File HLS.S30.T10SGD.2018162T183921.v2.0.SAA.tif already downloaded\n",
      "File HLS.S30.T10SGD.2018162T183921.v2.0.B12.tif already downloaded\n",
      "File HLS.S30.T10SGD.2018162T183921.v2.0.Fmask.tif already downloaded\n",
      "File HLS.S30.T10SGD.2018162T183921.v2.0.B07.tif already downloaded\n",
      "File HLS.S30.T10SGD.2018162T183921.v2.0.B04.tif already downloaded\n",
      "File HLS.S30.T10SGD.2018162T183921.v2.0.B06.tif already downloaded\n",
      "File HLS.S30.T10SGD.2018162T183921.v2.0.B09.tif already downloaded\n",
      "File HLS.S30.T10SGD.2018162T183921.v2.0.B10.tif already downloaded\n",
      "File HLS.S30.T10SGD.2018162T183921.v2.0.B08.tif already downloaded\n",
      "File HLS.S30.T10SGD.2018162T183921.v2.0.VAA.tif already downloaded\n"
     ]
    },
    {
     "data": {
      "application/vnd.jupyter.widget-view+json": {
       "model_id": "82975ce556964f1ea49b88c43f0bfe51",
       "version_major": 2,
       "version_minor": 0
      },
      "text/plain": [
       "PROCESSING TASKS | :   0%|          | 0/18 [00:00<?, ?it/s]"
      ]
     },
     "metadata": {},
     "output_type": "display_data"
    },
    {
     "data": {
      "application/vnd.jupyter.widget-view+json": {
       "model_id": "410e35ee82da4acd98bf4147b6f1b57a",
       "version_major": 2,
       "version_minor": 0
      },
      "text/plain": [
       "COLLECTING RESULTS | :   0%|          | 0/18 [00:00<?, ?it/s]"
      ]
     },
     "metadata": {},
     "output_type": "display_data"
    },
    {
     "name": "stdout",
     "output_type": "stream",
     "text": [
      "188\n",
      "11SKU\n",
      " Getting 1 granules, approx download size: 0.22 GB\n"
     ]
    },
    {
     "data": {
      "application/vnd.jupyter.widget-view+json": {
       "model_id": "af4826d687454fa4bb3bd1d5cc4c184b",
       "version_major": 2,
       "version_minor": 0
      },
      "text/plain": [
       "QUEUEING TASKS | :   0%|          | 0/18 [00:00<?, ?it/s]"
      ]
     },
     "metadata": {},
     "output_type": "display_data"
    },
    {
     "name": "stdout",
     "output_type": "stream",
     "text": [
      "File HLS.S30.T11SKU.2018167T183929.v2.0.B10.tif already downloaded\n",
      "File HLS.S30.T11SKU.2018167T183929.v2.0.B04.tif already downloaded\n",
      "File HLS.S30.T11SKU.2018167T183929.v2.0.B01.tif already downloaded\n",
      "File HLS.S30.T11SKU.2018167T183929.v2.0.B03.tif already downloaded\n",
      "File HLS.S30.T11SKU.2018167T183929.v2.0.B8A.tif already downloaded\n",
      "File HLS.S30.T11SKU.2018167T183929.v2.0.B07.tif already downloaded\n",
      "File HLS.S30.T11SKU.2018167T183929.v2.0.SAA.tif already downloaded\n",
      "File HLS.S30.T11SKU.2018167T183929.v2.0.B08.tif already downloaded\n",
      "File HLS.S30.T11SKU.2018167T183929.v2.0.B06.tif already downloaded\n",
      "File HLS.S30.T11SKU.2018167T183929.v2.0.B12.tif already downloaded\n",
      "File HLS.S30.T11SKU.2018167T183929.v2.0.Fmask.tif already downloaded\n",
      "File HLS.S30.T11SKU.2018167T183929.v2.0.B05.tif already downloaded\n",
      "File HLS.S30.T11SKU.2018167T183929.v2.0.VZA.tif already downloaded\n",
      "File HLS.S30.T11SKU.2018167T183929.v2.0.B09.tif already downloaded\n",
      "File HLS.S30.T11SKU.2018167T183929.v2.0.B02.tif already downloaded\n",
      "File HLS.S30.T11SKU.2018167T183929.v2.0.B11.tif already downloaded\n",
      "File HLS.S30.T11SKU.2018167T183929.v2.0.SZA.tif already downloaded\n",
      "File HLS.S30.T11SKU.2018167T183929.v2.0.VAA.tif already downloaded\n"
     ]
    },
    {
     "data": {
      "application/vnd.jupyter.widget-view+json": {
       "model_id": "d6a2bb6fe2bc400e87f30a4ecceb92c7",
       "version_major": 2,
       "version_minor": 0
      },
      "text/plain": [
       "PROCESSING TASKS | :   0%|          | 0/18 [00:00<?, ?it/s]"
      ]
     },
     "metadata": {},
     "output_type": "display_data"
    },
    {
     "data": {
      "application/vnd.jupyter.widget-view+json": {
       "model_id": "a40b94b61da7487191b290a71e899ef5",
       "version_major": 2,
       "version_minor": 0
      },
      "text/plain": [
       "COLLECTING RESULTS | :   0%|          | 0/18 [00:00<?, ?it/s]"
      ]
     },
     "metadata": {},
     "output_type": "display_data"
    },
    {
     "name": "stdout",
     "output_type": "stream",
     "text": [
      "189\n",
      "11SKU\n",
      " Getting 1 granules, approx download size: 0.18 GB\n"
     ]
    },
    {
     "data": {
      "application/vnd.jupyter.widget-view+json": {
       "model_id": "1c1db0fddc964c6c87b8c733f1081bf1",
       "version_major": 2,
       "version_minor": 0
      },
      "text/plain": [
       "QUEUEING TASKS | :   0%|          | 0/15 [00:00<?, ?it/s]"
      ]
     },
     "metadata": {},
     "output_type": "display_data"
    },
    {
     "name": "stdout",
     "output_type": "stream",
     "text": [
      "File HLS.L30.T11SKU.2018170T183303.v2.0.SZA.tif already downloaded\n",
      "File HLS.L30.T11SKU.2018170T183303.v2.0.SAA.tif already downloaded\n",
      "File HLS.L30.T11SKU.2018170T183303.v2.0.B02.tif already downloaded\n",
      "File HLS.L30.T11SKU.2018170T183303.v2.0.B04.tif already downloaded\n",
      "File HLS.L30.T11SKU.2018170T183303.v2.0.B03.tif already downloaded\n",
      "File HLS.L30.T11SKU.2018170T183303.v2.0.B11.tif already downloaded\n",
      "File HLS.L30.T11SKU.2018170T183303.v2.0.VAA.tif already downloaded\n",
      "File HLS.L30.T11SKU.2018170T183303.v2.0.Fmask.tif already downloaded\n",
      "File HLS.L30.T11SKU.2018170T183303.v2.0.VZA.tif already downloaded\n",
      "File HLS.L30.T11SKU.2018170T183303.v2.0.B05.tif already downloaded\n",
      "File HLS.L30.T11SKU.2018170T183303.v2.0.B09.tif already downloaded\n",
      "File HLS.L30.T11SKU.2018170T183303.v2.0.B01.tif already downloaded\n",
      "File HLS.L30.T11SKU.2018170T183303.v2.0.B06.tif already downloaded\n",
      "File HLS.L30.T11SKU.2018170T183303.v2.0.B10.tif already downloaded\n",
      "File HLS.L30.T11SKU.2018170T183303.v2.0.B07.tif already downloaded\n"
     ]
    },
    {
     "data": {
      "application/vnd.jupyter.widget-view+json": {
       "model_id": "16901cc8b5f6471a90984a3435276388",
       "version_major": 2,
       "version_minor": 0
      },
      "text/plain": [
       "PROCESSING TASKS | :   0%|          | 0/15 [00:00<?, ?it/s]"
      ]
     },
     "metadata": {},
     "output_type": "display_data"
    },
    {
     "data": {
      "application/vnd.jupyter.widget-view+json": {
       "model_id": "ad90be6ee38a4674b274af797ca82bf5",
       "version_major": 2,
       "version_minor": 0
      },
      "text/plain": [
       "COLLECTING RESULTS | :   0%|          | 0/15 [00:00<?, ?it/s]"
      ]
     },
     "metadata": {},
     "output_type": "display_data"
    },
    {
     "name": "stdout",
     "output_type": "stream",
     "text": [
      "190\n",
      "10SGD\n",
      " Getting 1 granules, approx download size: 0.18 GB\n"
     ]
    },
    {
     "data": {
      "application/vnd.jupyter.widget-view+json": {
       "model_id": "6fe22f480c3044628a2b0ac32707fd3d",
       "version_major": 2,
       "version_minor": 0
      },
      "text/plain": [
       "QUEUEING TASKS | :   0%|          | 0/15 [00:00<?, ?it/s]"
      ]
     },
     "metadata": {},
     "output_type": "display_data"
    },
    {
     "name": "stdout",
     "output_type": "stream",
     "text": [
      "File HLS.L30.T10SGD.2018170T183327.v2.0.B07.tif already downloaded\n",
      "File HLS.L30.T10SGD.2018170T183327.v2.0.SZA.tif already downloaded\n",
      "File HLS.L30.T10SGD.2018170T183327.v2.0.VZA.tif already downloaded\n",
      "File HLS.L30.T10SGD.2018170T183327.v2.0.B10.tif already downloaded\n",
      "File HLS.L30.T10SGD.2018170T183327.v2.0.B06.tif already downloaded\n",
      "File HLS.L30.T10SGD.2018170T183327.v2.0.B01.tif already downloaded\n",
      "File HLS.L30.T10SGD.2018170T183327.v2.0.VAA.tif already downloaded\n",
      "File HLS.L30.T10SGD.2018170T183327.v2.0.SAA.tif already downloaded\n",
      "File HLS.L30.T10SGD.2018170T183327.v2.0.B02.tif already downloaded\n",
      "File HLS.L30.T10SGD.2018170T183327.v2.0.B05.tif already downloaded\n",
      "File HLS.L30.T10SGD.2018170T183327.v2.0.B04.tif already downloaded\n",
      "File HLS.L30.T10SGD.2018170T183327.v2.0.B09.tif already downloaded\n",
      "File HLS.L30.T10SGD.2018170T183327.v2.0.Fmask.tif already downloaded\n",
      "File HLS.L30.T10SGD.2018170T183327.v2.0.B11.tif already downloaded\n",
      "File HLS.L30.T10SGD.2018170T183327.v2.0.B03.tif already downloaded\n"
     ]
    },
    {
     "data": {
      "application/vnd.jupyter.widget-view+json": {
       "model_id": "7e357670c11740b49aa40e44d81ff310",
       "version_major": 2,
       "version_minor": 0
      },
      "text/plain": [
       "PROCESSING TASKS | :   0%|          | 0/15 [00:00<?, ?it/s]"
      ]
     },
     "metadata": {},
     "output_type": "display_data"
    },
    {
     "data": {
      "application/vnd.jupyter.widget-view+json": {
       "model_id": "7bab683036204c66b390d5d00762847f",
       "version_major": 2,
       "version_minor": 0
      },
      "text/plain": [
       "COLLECTING RESULTS | :   0%|          | 0/15 [00:00<?, ?it/s]"
      ]
     },
     "metadata": {},
     "output_type": "display_data"
    },
    {
     "name": "stdout",
     "output_type": "stream",
     "text": [
      "191\n",
      "10SGD\n",
      " Getting 1 granules, approx download size: 0.22 GB\n"
     ]
    },
    {
     "data": {
      "application/vnd.jupyter.widget-view+json": {
       "model_id": "1d65acde97e3440ea5e7da13f4de2f40",
       "version_major": 2,
       "version_minor": 0
      },
      "text/plain": [
       "QUEUEING TASKS | :   0%|          | 0/18 [00:00<?, ?it/s]"
      ]
     },
     "metadata": {},
     "output_type": "display_data"
    },
    {
     "name": "stdout",
     "output_type": "stream",
     "text": [
      "File HLS.S30.T10SGD.2018172T183921.v2.0.SZA.tif already downloaded\n",
      "File HLS.S30.T10SGD.2018172T183921.v2.0.B12.tif already downloaded\n",
      "File HLS.S30.T10SGD.2018172T183921.v2.0.B11.tif already downloaded\n",
      "File HLS.S30.T10SGD.2018172T183921.v2.0.B08.tif already downloaded\n",
      "File HLS.S30.T10SGD.2018172T183921.v2.0.B07.tif already downloaded\n",
      "File HLS.S30.T10SGD.2018172T183921.v2.0.VAA.tif already downloaded\n",
      "File HLS.S30.T10SGD.2018172T183921.v2.0.VZA.tif already downloaded\n",
      "File HLS.S30.T10SGD.2018172T183921.v2.0.SAA.tif already downloaded\n",
      "File HLS.S30.T10SGD.2018172T183921.v2.0.B8A.tif already downloaded\n",
      "File HLS.S30.T10SGD.2018172T183921.v2.0.B01.tif already downloaded\n",
      "File HLS.S30.T10SGD.2018172T183921.v2.0.B04.tif already downloaded\n",
      "File HLS.S30.T10SGD.2018172T183921.v2.0.B09.tif already downloaded\n",
      "File HLS.S30.T10SGD.2018172T183921.v2.0.B02.tif already downloaded\n",
      "File HLS.S30.T10SGD.2018172T183921.v2.0.B06.tif already downloaded\n",
      "File HLS.S30.T10SGD.2018172T183921.v2.0.B10.tif already downloaded\n",
      "File HLS.S30.T10SGD.2018172T183921.v2.0.B03.tif already downloaded\n",
      "File HLS.S30.T10SGD.2018172T183921.v2.0.B05.tif already downloaded\n",
      "File HLS.S30.T10SGD.2018172T183921.v2.0.Fmask.tif already downloaded\n"
     ]
    },
    {
     "data": {
      "application/vnd.jupyter.widget-view+json": {
       "model_id": "a2dd93372e2c49c8a0ae628256e812c3",
       "version_major": 2,
       "version_minor": 0
      },
      "text/plain": [
       "PROCESSING TASKS | :   0%|          | 0/18 [00:00<?, ?it/s]"
      ]
     },
     "metadata": {},
     "output_type": "display_data"
    },
    {
     "data": {
      "application/vnd.jupyter.widget-view+json": {
       "model_id": "b6fca22e0cd4400b8eae6045b3c4dbc8",
       "version_major": 2,
       "version_minor": 0
      },
      "text/plain": [
       "COLLECTING RESULTS | :   0%|          | 0/18 [00:00<?, ?it/s]"
      ]
     },
     "metadata": {},
     "output_type": "display_data"
    },
    {
     "name": "stdout",
     "output_type": "stream",
     "text": [
      "192\n",
      "11SKU\n",
      " Getting 1 granules, approx download size: 0.22 GB\n"
     ]
    },
    {
     "data": {
      "application/vnd.jupyter.widget-view+json": {
       "model_id": "21f589e6ad5e49dba2f12d2f25b99781",
       "version_major": 2,
       "version_minor": 0
      },
      "text/plain": [
       "QUEUEING TASKS | :   0%|          | 0/18 [00:00<?, ?it/s]"
      ]
     },
     "metadata": {},
     "output_type": "display_data"
    },
    {
     "name": "stdout",
     "output_type": "stream",
     "text": [
      "File HLS.S30.T11SKU.2018172T183921.v2.0.VZA.tif already downloaded\n",
      "File HLS.S30.T11SKU.2018172T183921.v2.0.SZA.tif already downloaded\n",
      "File HLS.S30.T11SKU.2018172T183921.v2.0.B04.tif already downloaded\n",
      "File HLS.S30.T11SKU.2018172T183921.v2.0.B08.tif already downloaded\n",
      "File HLS.S30.T11SKU.2018172T183921.v2.0.VAA.tif already downloaded\n",
      "File HLS.S30.T11SKU.2018172T183921.v2.0.SAA.tif already downloaded\n",
      "File HLS.S30.T11SKU.2018172T183921.v2.0.B07.tif already downloaded\n",
      "File HLS.S30.T11SKU.2018172T183921.v2.0.B8A.tif already downloaded\n",
      "File HLS.S30.T11SKU.2018172T183921.v2.0.B03.tif already downloaded\n",
      "File HLS.S30.T11SKU.2018172T183921.v2.0.B01.tif already downloaded\n",
      "File HLS.S30.T11SKU.2018172T183921.v2.0.Fmask.tif already downloaded\n",
      "File HLS.S30.T11SKU.2018172T183921.v2.0.B05.tif already downloaded\n",
      "File HLS.S30.T11SKU.2018172T183921.v2.0.B06.tif already downloaded\n",
      "File HLS.S30.T11SKU.2018172T183921.v2.0.B12.tif already downloaded\n",
      "File HLS.S30.T11SKU.2018172T183921.v2.0.B11.tif already downloaded\n",
      "File HLS.S30.T11SKU.2018172T183921.v2.0.B09.tif already downloaded\n",
      "File HLS.S30.T11SKU.2018172T183921.v2.0.B10.tif already downloaded\n",
      "File HLS.S30.T11SKU.2018172T183921.v2.0.B02.tif already downloaded\n"
     ]
    },
    {
     "data": {
      "application/vnd.jupyter.widget-view+json": {
       "model_id": "bb4510ea025e4d9a8c41ea4aac5c954f",
       "version_major": 2,
       "version_minor": 0
      },
      "text/plain": [
       "PROCESSING TASKS | :   0%|          | 0/18 [00:00<?, ?it/s]"
      ]
     },
     "metadata": {},
     "output_type": "display_data"
    },
    {
     "data": {
      "application/vnd.jupyter.widget-view+json": {
       "model_id": "ec8f6c927b0c490f9c87cf680b68a51f",
       "version_major": 2,
       "version_minor": 0
      },
      "text/plain": [
       "COLLECTING RESULTS | :   0%|          | 0/18 [00:00<?, ?it/s]"
      ]
     },
     "metadata": {},
     "output_type": "display_data"
    },
    {
     "name": "stdout",
     "output_type": "stream",
     "text": [
      "193\n",
      "11SKU\n",
      " Getting 1 granules, approx download size: 0.21 GB\n"
     ]
    },
    {
     "data": {
      "application/vnd.jupyter.widget-view+json": {
       "model_id": "26393f2ee42d43e0b21dff1432ecc01c",
       "version_major": 2,
       "version_minor": 0
      },
      "text/plain": [
       "QUEUEING TASKS | :   0%|          | 0/18 [00:00<?, ?it/s]"
      ]
     },
     "metadata": {},
     "output_type": "display_data"
    },
    {
     "name": "stdout",
     "output_type": "stream",
     "text": [
      "File HLS.S30.T11SKU.2018177T183919.v2.0.B02.tif already downloaded\n",
      "File HLS.S30.T11SKU.2018177T183919.v2.0.B8A.tif already downloaded\n",
      "File HLS.S30.T11SKU.2018177T183919.v2.0.B09.tif already downloaded\n",
      "File HLS.S30.T11SKU.2018177T183919.v2.0.B11.tif already downloaded\n",
      "File HLS.S30.T11SKU.2018177T183919.v2.0.SAA.tif already downloaded\n",
      "File HLS.S30.T11SKU.2018177T183919.v2.0.SZA.tif already downloaded\n",
      "File HLS.S30.T11SKU.2018177T183919.v2.0.VAA.tif already downloaded\n",
      "File HLS.S30.T11SKU.2018177T183919.v2.0.B01.tif already downloaded\n",
      "File HLS.S30.T11SKU.2018177T183919.v2.0.B03.tif already downloaded\n",
      "File HLS.S30.T11SKU.2018177T183919.v2.0.B06.tif already downloaded\n",
      "File HLS.S30.T11SKU.2018177T183919.v2.0.B10.tif already downloaded\n",
      "File HLS.S30.T11SKU.2018177T183919.v2.0.B05.tif already downloaded\n",
      "File HLS.S30.T11SKU.2018177T183919.v2.0.B07.tif already downloaded\n",
      "File HLS.S30.T11SKU.2018177T183919.v2.0.B04.tif already downloaded\n",
      "File HLS.S30.T11SKU.2018177T183919.v2.0.VZA.tif already downloaded\n",
      "File HLS.S30.T11SKU.2018177T183919.v2.0.B12.tif already downloaded\n",
      "File HLS.S30.T11SKU.2018177T183919.v2.0.B08.tif already downloaded\n",
      "File HLS.S30.T11SKU.2018177T183919.v2.0.Fmask.tif already downloaded\n"
     ]
    },
    {
     "data": {
      "application/vnd.jupyter.widget-view+json": {
       "model_id": "ece649028489459ba3ad20b85329e1ab",
       "version_major": 2,
       "version_minor": 0
      },
      "text/plain": [
       "PROCESSING TASKS | :   0%|          | 0/18 [00:00<?, ?it/s]"
      ]
     },
     "metadata": {},
     "output_type": "display_data"
    },
    {
     "data": {
      "application/vnd.jupyter.widget-view+json": {
       "model_id": "ddb3e104126b463db89c0bf040b53c57",
       "version_major": 2,
       "version_minor": 0
      },
      "text/plain": [
       "COLLECTING RESULTS | :   0%|          | 0/18 [00:00<?, ?it/s]"
      ]
     },
     "metadata": {},
     "output_type": "display_data"
    },
    {
     "name": "stdout",
     "output_type": "stream",
     "text": [
      "194\n",
      "10SGD\n",
      " Getting 1 granules, approx download size: 0.22 GB\n"
     ]
    },
    {
     "data": {
      "application/vnd.jupyter.widget-view+json": {
       "model_id": "60bf5b340c6a4bf4856639d90bb76b64",
       "version_major": 2,
       "version_minor": 0
      },
      "text/plain": [
       "QUEUEING TASKS | :   0%|          | 0/18 [00:00<?, ?it/s]"
      ]
     },
     "metadata": {},
     "output_type": "display_data"
    },
    {
     "name": "stdout",
     "output_type": "stream",
     "text": [
      "File HLS.S30.T10SGD.2018177T183919.v2.0.Fmask.tif already downloaded\n",
      "File HLS.S30.T10SGD.2018177T183919.v2.0.B07.tif already downloaded\n",
      "File HLS.S30.T10SGD.2018177T183919.v2.0.B09.tif already downloaded\n",
      "File HLS.S30.T10SGD.2018177T183919.v2.0.B05.tif already downloaded\n",
      "File HLS.S30.T10SGD.2018177T183919.v2.0.B02.tif already downloaded\n",
      "File HLS.S30.T10SGD.2018177T183919.v2.0.B04.tif already downloaded\n",
      "File HLS.S30.T10SGD.2018177T183919.v2.0.SAA.tif already downloaded\n",
      "File HLS.S30.T10SGD.2018177T183919.v2.0.B03.tif already downloaded\n",
      "File HLS.S30.T10SGD.2018177T183919.v2.0.B12.tif already downloaded\n",
      "File HLS.S30.T10SGD.2018177T183919.v2.0.SZA.tif already downloaded\n",
      "File HLS.S30.T10SGD.2018177T183919.v2.0.VZA.tif already downloaded\n",
      "File HLS.S30.T10SGD.2018177T183919.v2.0.B06.tif already downloaded\n",
      "File HLS.S30.T10SGD.2018177T183919.v2.0.B8A.tif already downloaded\n",
      "File HLS.S30.T10SGD.2018177T183919.v2.0.B10.tif already downloaded\n",
      "File HLS.S30.T10SGD.2018177T183919.v2.0.B11.tif already downloaded\n",
      "File HLS.S30.T10SGD.2018177T183919.v2.0.VAA.tif already downloaded\n",
      "File HLS.S30.T10SGD.2018177T183919.v2.0.B08.tif already downloaded\n",
      "File HLS.S30.T10SGD.2018177T183919.v2.0.B01.tif already downloaded\n"
     ]
    },
    {
     "data": {
      "application/vnd.jupyter.widget-view+json": {
       "model_id": "849d0f852bfc4748acb3add32e651d30",
       "version_major": 2,
       "version_minor": 0
      },
      "text/plain": [
       "PROCESSING TASKS | :   0%|          | 0/18 [00:00<?, ?it/s]"
      ]
     },
     "metadata": {},
     "output_type": "display_data"
    },
    {
     "data": {
      "application/vnd.jupyter.widget-view+json": {
       "model_id": "24457b33c7124d31ac9dd60c117d8817",
       "version_major": 2,
       "version_minor": 0
      },
      "text/plain": [
       "COLLECTING RESULTS | :   0%|          | 0/18 [00:00<?, ?it/s]"
      ]
     },
     "metadata": {},
     "output_type": "display_data"
    },
    {
     "name": "stdout",
     "output_type": "stream",
     "text": [
      "195\n",
      "11SKU\n",
      " Getting 1 granules, approx download size: 0.19 GB\n"
     ]
    },
    {
     "data": {
      "application/vnd.jupyter.widget-view+json": {
       "model_id": "11db572e6ea04a728b767f9ea8236379",
       "version_major": 2,
       "version_minor": 0
      },
      "text/plain": [
       "QUEUEING TASKS | :   0%|          | 0/15 [00:00<?, ?it/s]"
      ]
     },
     "metadata": {},
     "output_type": "display_data"
    },
    {
     "name": "stdout",
     "output_type": "stream",
     "text": [
      "File HLS.L30.T11SKU.2018186T183312.v2.0.B10.tif already downloaded\n",
      "File HLS.L30.T11SKU.2018186T183312.v2.0.B01.tif already downloaded\n",
      "File HLS.L30.T11SKU.2018186T183312.v2.0.SZA.tif already downloaded\n",
      "File HLS.L30.T11SKU.2018186T183312.v2.0.SAA.tif already downloaded\n",
      "File HLS.L30.T11SKU.2018186T183312.v2.0.B03.tif already downloaded\n",
      "File HLS.L30.T11SKU.2018186T183312.v2.0.B04.tif already downloaded\n",
      "File HLS.L30.T11SKU.2018186T183312.v2.0.B07.tif already downloaded\n",
      "File HLS.L30.T11SKU.2018186T183312.v2.0.B06.tif already downloaded\n",
      "File HLS.L30.T11SKU.2018186T183312.v2.0.B09.tif already downloaded\n",
      "File HLS.L30.T11SKU.2018186T183312.v2.0.B02.tif already downloaded\n",
      "File HLS.L30.T11SKU.2018186T183312.v2.0.B11.tif already downloaded\n",
      "File HLS.L30.T11SKU.2018186T183312.v2.0.B05.tif already downloaded\n",
      "File HLS.L30.T11SKU.2018186T183312.v2.0.VZA.tif already downloaded\n",
      "File HLS.L30.T11SKU.2018186T183312.v2.0.VAA.tif already downloaded\n",
      "File HLS.L30.T11SKU.2018186T183312.v2.0.Fmask.tif already downloaded\n"
     ]
    },
    {
     "data": {
      "application/vnd.jupyter.widget-view+json": {
       "model_id": "818988230554459e8615c2d5e179f511",
       "version_major": 2,
       "version_minor": 0
      },
      "text/plain": [
       "PROCESSING TASKS | :   0%|          | 0/15 [00:00<?, ?it/s]"
      ]
     },
     "metadata": {},
     "output_type": "display_data"
    },
    {
     "data": {
      "application/vnd.jupyter.widget-view+json": {
       "model_id": "ce39c81859b9400fa78a056557a6b6c2",
       "version_major": 2,
       "version_minor": 0
      },
      "text/plain": [
       "COLLECTING RESULTS | :   0%|          | 0/15 [00:00<?, ?it/s]"
      ]
     },
     "metadata": {},
     "output_type": "display_data"
    },
    {
     "name": "stdout",
     "output_type": "stream",
     "text": [
      "196\n",
      "10SGD\n",
      " Getting 1 granules, approx download size: 0.19 GB\n"
     ]
    },
    {
     "data": {
      "application/vnd.jupyter.widget-view+json": {
       "model_id": "1ac3cd96df2d48188c1e9c4e1778b306",
       "version_major": 2,
       "version_minor": 0
      },
      "text/plain": [
       "QUEUEING TASKS | :   0%|          | 0/15 [00:00<?, ?it/s]"
      ]
     },
     "metadata": {},
     "output_type": "display_data"
    },
    {
     "name": "stdout",
     "output_type": "stream",
     "text": [
      "File HLS.L30.T10SGD.2018186T183336.v2.0.B04.tif already downloadedFile HLS.L30.T10SGD.2018186T183336.v2.0.B07.tif already downloaded\n",
      "\n",
      "File HLS.L30.T10SGD.2018186T183336.v2.0.B06.tif already downloaded\n",
      "File HLS.L30.T10SGD.2018186T183336.v2.0.B03.tif already downloaded\n",
      "File HLS.L30.T10SGD.2018186T183336.v2.0.B11.tif already downloaded\n",
      "File HLS.L30.T10SGD.2018186T183336.v2.0.B05.tif already downloaded\n",
      "File HLS.L30.T10SGD.2018186T183336.v2.0.VZA.tif already downloaded\n",
      "File HLS.L30.T10SGD.2018186T183336.v2.0.SZA.tif already downloaded\n",
      "File HLS.L30.T10SGD.2018186T183336.v2.0.SAA.tif already downloaded\n",
      "File HLS.L30.T10SGD.2018186T183336.v2.0.B10.tif already downloaded\n",
      "File HLS.L30.T10SGD.2018186T183336.v2.0.B09.tif already downloaded\n",
      "File HLS.L30.T10SGD.2018186T183336.v2.0.B01.tif already downloaded\n",
      "File HLS.L30.T10SGD.2018186T183336.v2.0.VAA.tif already downloaded\n",
      "File HLS.L30.T10SGD.2018186T183336.v2.0.Fmask.tif already downloaded\n",
      "File HLS.L30.T10SGD.2018186T183336.v2.0.B02.tif already downloaded\n"
     ]
    },
    {
     "data": {
      "application/vnd.jupyter.widget-view+json": {
       "model_id": "bb4cdf77d1b74f8a8d3c7f92a38f9283",
       "version_major": 2,
       "version_minor": 0
      },
      "text/plain": [
       "PROCESSING TASKS | :   0%|          | 0/15 [00:00<?, ?it/s]"
      ]
     },
     "metadata": {},
     "output_type": "display_data"
    },
    {
     "data": {
      "application/vnd.jupyter.widget-view+json": {
       "model_id": "cb39b8e2d4734178aba09a2b53021494",
       "version_major": 2,
       "version_minor": 0
      },
      "text/plain": [
       "COLLECTING RESULTS | :   0%|          | 0/15 [00:00<?, ?it/s]"
      ]
     },
     "metadata": {},
     "output_type": "display_data"
    },
    {
     "name": "stdout",
     "output_type": "stream",
     "text": [
      "197\n",
      "10SGD\n",
      " Getting 1 granules, approx download size: 0.21 GB\n"
     ]
    },
    {
     "data": {
      "application/vnd.jupyter.widget-view+json": {
       "model_id": "e1042d26b19e46a1be33b0e89221e339",
       "version_major": 2,
       "version_minor": 0
      },
      "text/plain": [
       "QUEUEING TASKS | :   0%|          | 0/18 [00:00<?, ?it/s]"
      ]
     },
     "metadata": {},
     "output_type": "display_data"
    },
    {
     "name": "stdout",
     "output_type": "stream",
     "text": [
      "File HLS.S30.T10SGD.2018187T183919.v2.0.B02.tif already downloaded\n",
      "File HLS.S30.T10SGD.2018187T183919.v2.0.B03.tif already downloaded\n",
      "File HLS.S30.T10SGD.2018187T183919.v2.0.B08.tif already downloaded\n",
      "File HLS.S30.T10SGD.2018187T183919.v2.0.SZA.tif already downloaded\n",
      "File HLS.S30.T10SGD.2018187T183919.v2.0.B09.tif already downloaded\n",
      "File HLS.S30.T10SGD.2018187T183919.v2.0.Fmask.tif already downloaded\n",
      "File HLS.S30.T10SGD.2018187T183919.v2.0.B05.tif already downloaded\n",
      "File HLS.S30.T10SGD.2018187T183919.v2.0.B06.tif already downloaded\n",
      "File HLS.S30.T10SGD.2018187T183919.v2.0.SAA.tif already downloaded\n",
      "File HLS.S30.T10SGD.2018187T183919.v2.0.B11.tif already downloaded\n",
      "File HLS.S30.T10SGD.2018187T183919.v2.0.B8A.tif already downloaded\n",
      "File HLS.S30.T10SGD.2018187T183919.v2.0.B10.tif already downloaded\n",
      "File HLS.S30.T10SGD.2018187T183919.v2.0.B12.tif already downloaded\n",
      "File HLS.S30.T10SGD.2018187T183919.v2.0.B01.tif already downloaded\n",
      "File HLS.S30.T10SGD.2018187T183919.v2.0.VAA.tif already downloaded\n",
      "File HLS.S30.T10SGD.2018187T183919.v2.0.B04.tif already downloaded\n",
      "File HLS.S30.T10SGD.2018187T183919.v2.0.VZA.tif already downloaded\n",
      "File HLS.S30.T10SGD.2018187T183919.v2.0.B07.tif already downloaded\n"
     ]
    },
    {
     "data": {
      "application/vnd.jupyter.widget-view+json": {
       "model_id": "b18cd9a2b03f4005ab9343a7701947e2",
       "version_major": 2,
       "version_minor": 0
      },
      "text/plain": [
       "PROCESSING TASKS | :   0%|          | 0/18 [00:00<?, ?it/s]"
      ]
     },
     "metadata": {},
     "output_type": "display_data"
    },
    {
     "data": {
      "application/vnd.jupyter.widget-view+json": {
       "model_id": "5c9995ffdd584323b56f23464871d25e",
       "version_major": 2,
       "version_minor": 0
      },
      "text/plain": [
       "COLLECTING RESULTS | :   0%|          | 0/18 [00:00<?, ?it/s]"
      ]
     },
     "metadata": {},
     "output_type": "display_data"
    },
    {
     "name": "stdout",
     "output_type": "stream",
     "text": [
      "198\n",
      "11SKU\n",
      " Getting 1 granules, approx download size: 0.21 GB\n"
     ]
    },
    {
     "data": {
      "application/vnd.jupyter.widget-view+json": {
       "model_id": "3359ab111f884e91aa8345f842414c3c",
       "version_major": 2,
       "version_minor": 0
      },
      "text/plain": [
       "QUEUEING TASKS | :   0%|          | 0/18 [00:00<?, ?it/s]"
      ]
     },
     "metadata": {},
     "output_type": "display_data"
    },
    {
     "name": "stdout",
     "output_type": "stream",
     "text": [
      "File HLS.S30.T11SKU.2018187T183919.v2.0.B12.tif already downloadedFile HLS.S30.T11SKU.2018187T183919.v2.0.B07.tif already downloaded\n",
      "\n",
      "File HLS.S30.T11SKU.2018187T183919.v2.0.VAA.tif already downloaded\n",
      "File HLS.S30.T11SKU.2018187T183919.v2.0.B09.tif already downloaded\n",
      "File HLS.S30.T11SKU.2018187T183919.v2.0.B04.tif already downloaded\n",
      "File HLS.S30.T11SKU.2018187T183919.v2.0.SZA.tif already downloaded\n",
      "File HLS.S30.T11SKU.2018187T183919.v2.0.B02.tif already downloaded\n",
      "File HLS.S30.T11SKU.2018187T183919.v2.0.B05.tif already downloaded\n",
      "File HLS.S30.T11SKU.2018187T183919.v2.0.SAA.tif already downloaded\n",
      "File HLS.S30.T11SKU.2018187T183919.v2.0.B03.tif already downloaded\n",
      "File HLS.S30.T11SKU.2018187T183919.v2.0.B8A.tif already downloaded\n",
      "File HLS.S30.T11SKU.2018187T183919.v2.0.B01.tif already downloaded\n",
      "File HLS.S30.T11SKU.2018187T183919.v2.0.B06.tif already downloaded\n",
      "File HLS.S30.T11SKU.2018187T183919.v2.0.Fmask.tif already downloaded\n",
      "File HLS.S30.T11SKU.2018187T183919.v2.0.B11.tif already downloaded\n",
      "File HLS.S30.T11SKU.2018187T183919.v2.0.VZA.tif already downloaded\n",
      "File HLS.S30.T11SKU.2018187T183919.v2.0.B10.tif already downloaded\n",
      "File HLS.S30.T11SKU.2018187T183919.v2.0.B08.tif already downloaded\n"
     ]
    },
    {
     "data": {
      "application/vnd.jupyter.widget-view+json": {
       "model_id": "a2ae54fecdfc4219b909094f14cc2665",
       "version_major": 2,
       "version_minor": 0
      },
      "text/plain": [
       "PROCESSING TASKS | :   0%|          | 0/18 [00:00<?, ?it/s]"
      ]
     },
     "metadata": {},
     "output_type": "display_data"
    },
    {
     "data": {
      "application/vnd.jupyter.widget-view+json": {
       "model_id": "d4a482b3966c4fb5801d5d244d6dec37",
       "version_major": 2,
       "version_minor": 0
      },
      "text/plain": [
       "COLLECTING RESULTS | :   0%|          | 0/18 [00:00<?, ?it/s]"
      ]
     },
     "metadata": {},
     "output_type": "display_data"
    },
    {
     "name": "stdout",
     "output_type": "stream",
     "text": [
      "199\n",
      "10SGD\n",
      " Getting 1 granules, approx download size: 0.21 GB\n"
     ]
    },
    {
     "data": {
      "application/vnd.jupyter.widget-view+json": {
       "model_id": "02e014e7f0164088b85989f6fcaf8bbb",
       "version_major": 2,
       "version_minor": 0
      },
      "text/plain": [
       "QUEUEING TASKS | :   0%|          | 0/18 [00:00<?, ?it/s]"
      ]
     },
     "metadata": {},
     "output_type": "display_data"
    },
    {
     "name": "stdout",
     "output_type": "stream",
     "text": [
      "File HLS.S30.T10SGD.2018192T183921.v2.0.B09.tif already downloaded\n",
      "File HLS.S30.T10SGD.2018192T183921.v2.0.B8A.tif already downloaded\n",
      "File HLS.S30.T10SGD.2018192T183921.v2.0.SZA.tif already downloaded\n",
      "File HLS.S30.T10SGD.2018192T183921.v2.0.Fmask.tif already downloaded\n",
      "File HLS.S30.T10SGD.2018192T183921.v2.0.B02.tif already downloaded\n",
      "File HLS.S30.T10SGD.2018192T183921.v2.0.B01.tif already downloaded\n",
      "File HLS.S30.T10SGD.2018192T183921.v2.0.B05.tif already downloaded\n",
      "File HLS.S30.T10SGD.2018192T183921.v2.0.B07.tif already downloaded\n",
      "File HLS.S30.T10SGD.2018192T183921.v2.0.B12.tif already downloaded\n",
      "File HLS.S30.T10SGD.2018192T183921.v2.0.B08.tif already downloaded\n",
      "File HLS.S30.T10SGD.2018192T183921.v2.0.B04.tif already downloaded\n",
      "File HLS.S30.T10SGD.2018192T183921.v2.0.B10.tif already downloaded\n",
      "File HLS.S30.T10SGD.2018192T183921.v2.0.B11.tif already downloaded\n",
      "File HLS.S30.T10SGD.2018192T183921.v2.0.VZA.tif already downloaded\n",
      "File HLS.S30.T10SGD.2018192T183921.v2.0.B03.tif already downloaded\n",
      "File HLS.S30.T10SGD.2018192T183921.v2.0.B06.tif already downloaded\n",
      "File HLS.S30.T10SGD.2018192T183921.v2.0.VAA.tif already downloaded\n",
      "File HLS.S30.T10SGD.2018192T183921.v2.0.SAA.tif already downloaded\n"
     ]
    },
    {
     "data": {
      "application/vnd.jupyter.widget-view+json": {
       "model_id": "5ffbb74f4a804d62b4b64f6da0eec781",
       "version_major": 2,
       "version_minor": 0
      },
      "text/plain": [
       "PROCESSING TASKS | :   0%|          | 0/18 [00:00<?, ?it/s]"
      ]
     },
     "metadata": {},
     "output_type": "display_data"
    },
    {
     "data": {
      "application/vnd.jupyter.widget-view+json": {
       "model_id": "868776fe87de4333bb8b4e342e3534e6",
       "version_major": 2,
       "version_minor": 0
      },
      "text/plain": [
       "COLLECTING RESULTS | :   0%|          | 0/18 [00:00<?, ?it/s]"
      ]
     },
     "metadata": {},
     "output_type": "display_data"
    },
    {
     "name": "stdout",
     "output_type": "stream",
     "text": [
      "200\n",
      "11SKU\n",
      " Getting 1 granules, approx download size: 0.21 GB\n"
     ]
    },
    {
     "data": {
      "application/vnd.jupyter.widget-view+json": {
       "model_id": "c7cb305749da46eab0f253161a01d844",
       "version_major": 2,
       "version_minor": 0
      },
      "text/plain": [
       "QUEUEING TASKS | :   0%|          | 0/18 [00:00<?, ?it/s]"
      ]
     },
     "metadata": {},
     "output_type": "display_data"
    },
    {
     "name": "stdout",
     "output_type": "stream",
     "text": [
      "File HLS.S30.T11SKU.2018192T183921.v2.0.SAA.tif already downloaded\n",
      "File HLS.S30.T11SKU.2018192T183921.v2.0.B07.tif already downloaded\n",
      "File HLS.S30.T11SKU.2018192T183921.v2.0.B08.tif already downloaded\n",
      "File HLS.S30.T11SKU.2018192T183921.v2.0.B11.tif already downloaded\n",
      "File HLS.S30.T11SKU.2018192T183921.v2.0.SZA.tif already downloaded\n",
      "File HLS.S30.T11SKU.2018192T183921.v2.0.VZA.tif already downloaded\n",
      "File HLS.S30.T11SKU.2018192T183921.v2.0.B12.tif already downloaded\n",
      "File HLS.S30.T11SKU.2018192T183921.v2.0.B06.tif already downloaded\n",
      "File HLS.S30.T11SKU.2018192T183921.v2.0.B01.tif already downloaded\n",
      "File HLS.S30.T11SKU.2018192T183921.v2.0.B03.tif already downloaded\n",
      "File HLS.S30.T11SKU.2018192T183921.v2.0.B05.tif already downloaded\n",
      "File HLS.S30.T11SKU.2018192T183921.v2.0.B04.tif already downloaded\n",
      "File HLS.S30.T11SKU.2018192T183921.v2.0.B09.tif already downloaded\n",
      "File HLS.S30.T11SKU.2018192T183921.v2.0.B02.tif already downloaded\n",
      "File HLS.S30.T11SKU.2018192T183921.v2.0.VAA.tif already downloaded\n",
      "File HLS.S30.T11SKU.2018192T183921.v2.0.B10.tif already downloaded\n",
      "File HLS.S30.T11SKU.2018192T183921.v2.0.B8A.tif already downloaded\n",
      "File HLS.S30.T11SKU.2018192T183921.v2.0.Fmask.tif already downloaded\n"
     ]
    },
    {
     "data": {
      "application/vnd.jupyter.widget-view+json": {
       "model_id": "1b25cf5b510a4869987e0c94c2b4f2a3",
       "version_major": 2,
       "version_minor": 0
      },
      "text/plain": [
       "PROCESSING TASKS | :   0%|          | 0/18 [00:00<?, ?it/s]"
      ]
     },
     "metadata": {},
     "output_type": "display_data"
    },
    {
     "data": {
      "application/vnd.jupyter.widget-view+json": {
       "model_id": "36e5c2b526bd40b4b03757b316441b48",
       "version_major": 2,
       "version_minor": 0
      },
      "text/plain": [
       "COLLECTING RESULTS | :   0%|          | 0/18 [00:00<?, ?it/s]"
      ]
     },
     "metadata": {},
     "output_type": "display_data"
    },
    {
     "name": "stdout",
     "output_type": "stream",
     "text": [
      "201\n",
      "10SGD\n",
      " Getting 1 granules, approx download size: 0.21 GB\n"
     ]
    },
    {
     "data": {
      "application/vnd.jupyter.widget-view+json": {
       "model_id": "82804b5dfb0742ffbc83b500e3d9fc03",
       "version_major": 2,
       "version_minor": 0
      },
      "text/plain": [
       "QUEUEING TASKS | :   0%|          | 0/18 [00:00<?, ?it/s]"
      ]
     },
     "metadata": {},
     "output_type": "display_data"
    },
    {
     "name": "stdout",
     "output_type": "stream",
     "text": [
      "File HLS.S30.T10SGD.2018197T183929.v2.0.SAA.tif already downloaded\n",
      "File HLS.S30.T10SGD.2018197T183929.v2.0.B10.tif already downloaded\n",
      "File HLS.S30.T10SGD.2018197T183929.v2.0.B04.tif already downloaded\n",
      "File HLS.S30.T10SGD.2018197T183929.v2.0.B09.tif already downloaded\n",
      "File HLS.S30.T10SGD.2018197T183929.v2.0.B8A.tif already downloaded\n",
      "File HLS.S30.T10SGD.2018197T183929.v2.0.VAA.tif already downloaded\n",
      "File HLS.S30.T10SGD.2018197T183929.v2.0.SZA.tif already downloaded\n",
      "File HLS.S30.T10SGD.2018197T183929.v2.0.B03.tif already downloaded\n",
      "File HLS.S30.T10SGD.2018197T183929.v2.0.B11.tif already downloaded\n",
      "File HLS.S30.T10SGD.2018197T183929.v2.0.B01.tif already downloaded\n",
      "File HLS.S30.T10SGD.2018197T183929.v2.0.B12.tif already downloaded\n",
      "File HLS.S30.T10SGD.2018197T183929.v2.0.B08.tif already downloaded\n",
      "File HLS.S30.T10SGD.2018197T183929.v2.0.VZA.tif already downloaded\n",
      "File HLS.S30.T10SGD.2018197T183929.v2.0.B02.tif already downloaded\n",
      "File HLS.S30.T10SGD.2018197T183929.v2.0.B07.tif already downloaded\n",
      "File HLS.S30.T10SGD.2018197T183929.v2.0.B05.tif already downloaded\n",
      "File HLS.S30.T10SGD.2018197T183929.v2.0.B06.tif already downloaded\n",
      "File HLS.S30.T10SGD.2018197T183929.v2.0.Fmask.tif already downloaded\n"
     ]
    },
    {
     "data": {
      "application/vnd.jupyter.widget-view+json": {
       "model_id": "6f68386342ab498aa239b9ded082f960",
       "version_major": 2,
       "version_minor": 0
      },
      "text/plain": [
       "PROCESSING TASKS | :   0%|          | 0/18 [00:00<?, ?it/s]"
      ]
     },
     "metadata": {},
     "output_type": "display_data"
    },
    {
     "data": {
      "application/vnd.jupyter.widget-view+json": {
       "model_id": "d5a6b985c0be4458b4d67b88d9e65e41",
       "version_major": 2,
       "version_minor": 0
      },
      "text/plain": [
       "COLLECTING RESULTS | :   0%|          | 0/18 [00:00<?, ?it/s]"
      ]
     },
     "metadata": {},
     "output_type": "display_data"
    },
    {
     "name": "stdout",
     "output_type": "stream",
     "text": [
      "202\n",
      "11SKU\n",
      " Getting 1 granules, approx download size: 0.21 GB\n"
     ]
    },
    {
     "data": {
      "application/vnd.jupyter.widget-view+json": {
       "model_id": "194c2626977e47e7bc8a63dc4655d0c2",
       "version_major": 2,
       "version_minor": 0
      },
      "text/plain": [
       "QUEUEING TASKS | :   0%|          | 0/18 [00:00<?, ?it/s]"
      ]
     },
     "metadata": {},
     "output_type": "display_data"
    },
    {
     "name": "stdout",
     "output_type": "stream",
     "text": [
      "File HLS.S30.T11SKU.2018197T183929.v2.0.B09.tif already downloaded\n",
      "File HLS.S30.T11SKU.2018197T183929.v2.0.Fmask.tif already downloaded\n",
      "File HLS.S30.T11SKU.2018197T183929.v2.0.SAA.tif already downloaded\n",
      "File HLS.S30.T11SKU.2018197T183929.v2.0.B03.tif already downloaded\n",
      "File HLS.S30.T11SKU.2018197T183929.v2.0.VZA.tif already downloaded\n",
      "File HLS.S30.T11SKU.2018197T183929.v2.0.B12.tif already downloaded\n",
      "File HLS.S30.T11SKU.2018197T183929.v2.0.B10.tif already downloaded\n",
      "File HLS.S30.T11SKU.2018197T183929.v2.0.B01.tif already downloaded\n",
      "File HLS.S30.T11SKU.2018197T183929.v2.0.B02.tif already downloaded\n",
      "File HLS.S30.T11SKU.2018197T183929.v2.0.B08.tif already downloaded\n",
      "File HLS.S30.T11SKU.2018197T183929.v2.0.B04.tif already downloaded\n",
      "File HLS.S30.T11SKU.2018197T183929.v2.0.VAA.tif already downloaded\n",
      "File HLS.S30.T11SKU.2018197T183929.v2.0.B05.tif already downloaded\n",
      "File HLS.S30.T11SKU.2018197T183929.v2.0.B8A.tif already downloaded\n",
      "File HLS.S30.T11SKU.2018197T183929.v2.0.B06.tif already downloaded\n",
      "File HLS.S30.T11SKU.2018197T183929.v2.0.B07.tif already downloaded\n",
      "File HLS.S30.T11SKU.2018197T183929.v2.0.B11.tif already downloaded\n",
      "File HLS.S30.T11SKU.2018197T183929.v2.0.SZA.tif already downloaded\n"
     ]
    },
    {
     "data": {
      "application/vnd.jupyter.widget-view+json": {
       "model_id": "1cd9c2d1a6024e9bb0cb8311c6ec0544",
       "version_major": 2,
       "version_minor": 0
      },
      "text/plain": [
       "PROCESSING TASKS | :   0%|          | 0/18 [00:00<?, ?it/s]"
      ]
     },
     "metadata": {},
     "output_type": "display_data"
    },
    {
     "data": {
      "application/vnd.jupyter.widget-view+json": {
       "model_id": "f7ad3327070442cd9ef3f48170ec94ec",
       "version_major": 2,
       "version_minor": 0
      },
      "text/plain": [
       "COLLECTING RESULTS | :   0%|          | 0/18 [00:00<?, ?it/s]"
      ]
     },
     "metadata": {},
     "output_type": "display_data"
    },
    {
     "name": "stdout",
     "output_type": "stream",
     "text": [
      "203\n",
      "11SKU\n",
      " Getting 1 granules, approx download size: 0.18 GB\n"
     ]
    },
    {
     "data": {
      "application/vnd.jupyter.widget-view+json": {
       "model_id": "a8d5909588af46b1bda0b218dc68c1c8",
       "version_major": 2,
       "version_minor": 0
      },
      "text/plain": [
       "QUEUEING TASKS | :   0%|          | 0/15 [00:00<?, ?it/s]"
      ]
     },
     "metadata": {},
     "output_type": "display_data"
    },
    {
     "name": "stdout",
     "output_type": "stream",
     "text": [
      "File HLS.L30.T11SKU.2018202T183319.v2.0.B03.tif already downloaded\n",
      "File HLS.L30.T11SKU.2018202T183319.v2.0.B05.tif already downloaded\n",
      "File HLS.L30.T11SKU.2018202T183319.v2.0.VZA.tif already downloaded\n",
      "File HLS.L30.T11SKU.2018202T183319.v2.0.B09.tif already downloaded\n",
      "File HLS.L30.T11SKU.2018202T183319.v2.0.B06.tif already downloaded\n",
      "File HLS.L30.T11SKU.2018202T183319.v2.0.VAA.tif already downloaded\n",
      "File HLS.L30.T11SKU.2018202T183319.v2.0.B07.tif already downloaded\n",
      "File HLS.L30.T11SKU.2018202T183319.v2.0.B01.tif already downloaded\n",
      "File HLS.L30.T11SKU.2018202T183319.v2.0.B11.tif already downloaded\n",
      "File HLS.L30.T11SKU.2018202T183319.v2.0.SAA.tif already downloaded\n",
      "File HLS.L30.T11SKU.2018202T183319.v2.0.B10.tif already downloaded\n",
      "File HLS.L30.T11SKU.2018202T183319.v2.0.B02.tif already downloaded\n",
      "File HLS.L30.T11SKU.2018202T183319.v2.0.Fmask.tif already downloaded\n",
      "File HLS.L30.T11SKU.2018202T183319.v2.0.SZA.tif already downloaded\n",
      "File HLS.L30.T11SKU.2018202T183319.v2.0.B04.tif already downloaded\n"
     ]
    },
    {
     "data": {
      "application/vnd.jupyter.widget-view+json": {
       "model_id": "4629121af5ed48feb7707e68dbcad6a8",
       "version_major": 2,
       "version_minor": 0
      },
      "text/plain": [
       "PROCESSING TASKS | :   0%|          | 0/15 [00:00<?, ?it/s]"
      ]
     },
     "metadata": {},
     "output_type": "display_data"
    },
    {
     "data": {
      "application/vnd.jupyter.widget-view+json": {
       "model_id": "eb77b7290f9947e1adb2f67496138bbf",
       "version_major": 2,
       "version_minor": 0
      },
      "text/plain": [
       "COLLECTING RESULTS | :   0%|          | 0/15 [00:00<?, ?it/s]"
      ]
     },
     "metadata": {},
     "output_type": "display_data"
    },
    {
     "name": "stdout",
     "output_type": "stream",
     "text": [
      "204\n",
      "10SGD\n",
      " Getting 1 granules, approx download size: 0.18 GB\n"
     ]
    },
    {
     "data": {
      "application/vnd.jupyter.widget-view+json": {
       "model_id": "7aab64eda66b4b5491e26426802b3685",
       "version_major": 2,
       "version_minor": 0
      },
      "text/plain": [
       "QUEUEING TASKS | :   0%|          | 0/15 [00:00<?, ?it/s]"
      ]
     },
     "metadata": {},
     "output_type": "display_data"
    },
    {
     "data": {
      "application/vnd.jupyter.widget-view+json": {
       "model_id": "ae6f8db436ee46509c5f5b6c999f8500",
       "version_major": 2,
       "version_minor": 0
      },
      "text/plain": [
       "PROCESSING TASKS | :   0%|          | 0/15 [00:00<?, ?it/s]"
      ]
     },
     "metadata": {},
     "output_type": "display_data"
    },
    {
     "data": {
      "application/vnd.jupyter.widget-view+json": {
       "model_id": "c238d98091ec4d14b458fc8d1f536273",
       "version_major": 2,
       "version_minor": 0
      },
      "text/plain": [
       "COLLECTING RESULTS | :   0%|          | 0/15 [00:00<?, ?it/s]"
      ]
     },
     "metadata": {},
     "output_type": "display_data"
    },
    {
     "name": "stdout",
     "output_type": "stream",
     "text": [
      "205\n",
      "10SGD\n",
      " Getting 1 granules, approx download size: 0.22 GB\n"
     ]
    },
    {
     "data": {
      "application/vnd.jupyter.widget-view+json": {
       "model_id": "aa7b43ab4b6f41a3b05c2081a4c93c15",
       "version_major": 2,
       "version_minor": 0
      },
      "text/plain": [
       "QUEUEING TASKS | :   0%|          | 0/18 [00:00<?, ?it/s]"
      ]
     },
     "metadata": {},
     "output_type": "display_data"
    },
    {
     "data": {
      "application/vnd.jupyter.widget-view+json": {
       "model_id": "bd3e45c080884e9da8d92e3df1fbe09f",
       "version_major": 2,
       "version_minor": 0
      },
      "text/plain": [
       "PROCESSING TASKS | :   0%|          | 0/18 [00:00<?, ?it/s]"
      ]
     },
     "metadata": {},
     "output_type": "display_data"
    },
    {
     "data": {
      "application/vnd.jupyter.widget-view+json": {
       "model_id": "9ca13819ed4a4c5ab28f30af6f365e01",
       "version_major": 2,
       "version_minor": 0
      },
      "text/plain": [
       "COLLECTING RESULTS | :   0%|          | 0/18 [00:00<?, ?it/s]"
      ]
     },
     "metadata": {},
     "output_type": "display_data"
    },
    {
     "name": "stdout",
     "output_type": "stream",
     "text": [
      "206\n",
      "11SKU\n",
      " Getting 1 granules, approx download size: 0.22 GB\n"
     ]
    },
    {
     "data": {
      "application/vnd.jupyter.widget-view+json": {
       "model_id": "b173550697994f78967b9812140defe1",
       "version_major": 2,
       "version_minor": 0
      },
      "text/plain": [
       "QUEUEING TASKS | :   0%|          | 0/18 [00:00<?, ?it/s]"
      ]
     },
     "metadata": {},
     "output_type": "display_data"
    },
    {
     "data": {
      "application/vnd.jupyter.widget-view+json": {
       "model_id": "a5abce05025e45c2a07afd68d65fe91d",
       "version_major": 2,
       "version_minor": 0
      },
      "text/plain": [
       "PROCESSING TASKS | :   0%|          | 0/18 [00:00<?, ?it/s]"
      ]
     },
     "metadata": {},
     "output_type": "display_data"
    },
    {
     "data": {
      "application/vnd.jupyter.widget-view+json": {
       "model_id": "7fee092724eb49208fecc84a0d6a8e32",
       "version_major": 2,
       "version_minor": 0
      },
      "text/plain": [
       "COLLECTING RESULTS | :   0%|          | 0/18 [00:00<?, ?it/s]"
      ]
     },
     "metadata": {},
     "output_type": "display_data"
    },
    {
     "name": "stdout",
     "output_type": "stream",
     "text": [
      "207\n",
      "10SGD\n",
      " Getting 1 granules, approx download size: 0.22 GB\n"
     ]
    },
    {
     "data": {
      "application/vnd.jupyter.widget-view+json": {
       "model_id": "c27ad68e792747d489c799b4678758d9",
       "version_major": 2,
       "version_minor": 0
      },
      "text/plain": [
       "QUEUEING TASKS | :   0%|          | 0/18 [00:00<?, ?it/s]"
      ]
     },
     "metadata": {},
     "output_type": "display_data"
    },
    {
     "data": {
      "application/vnd.jupyter.widget-view+json": {
       "model_id": "62abaf9511f247738f80ee5a17a88f77",
       "version_major": 2,
       "version_minor": 0
      },
      "text/plain": [
       "PROCESSING TASKS | :   0%|          | 0/18 [00:00<?, ?it/s]"
      ]
     },
     "metadata": {},
     "output_type": "display_data"
    },
    {
     "data": {
      "application/vnd.jupyter.widget-view+json": {
       "model_id": "9d862bab2395479b9c91c83eac52f127",
       "version_major": 2,
       "version_minor": 0
      },
      "text/plain": [
       "COLLECTING RESULTS | :   0%|          | 0/18 [00:00<?, ?it/s]"
      ]
     },
     "metadata": {},
     "output_type": "display_data"
    },
    {
     "name": "stdout",
     "output_type": "stream",
     "text": [
      "208\n",
      "11SKU\n",
      " Getting 1 granules, approx download size: 0.21 GB\n"
     ]
    },
    {
     "data": {
      "application/vnd.jupyter.widget-view+json": {
       "model_id": "36304129348847fd8753b792f6f0d7ab",
       "version_major": 2,
       "version_minor": 0
      },
      "text/plain": [
       "QUEUEING TASKS | :   0%|          | 0/18 [00:00<?, ?it/s]"
      ]
     },
     "metadata": {},
     "output_type": "display_data"
    },
    {
     "data": {
      "application/vnd.jupyter.widget-view+json": {
       "model_id": "ae53a406063b497db4a76e0bda8f42a8",
       "version_major": 2,
       "version_minor": 0
      },
      "text/plain": [
       "PROCESSING TASKS | :   0%|          | 0/18 [00:00<?, ?it/s]"
      ]
     },
     "metadata": {},
     "output_type": "display_data"
    },
    {
     "data": {
      "application/vnd.jupyter.widget-view+json": {
       "model_id": "7318cf5feaa648e08bea2b29c735954f",
       "version_major": 2,
       "version_minor": 0
      },
      "text/plain": [
       "COLLECTING RESULTS | :   0%|          | 0/18 [00:00<?, ?it/s]"
      ]
     },
     "metadata": {},
     "output_type": "display_data"
    },
    {
     "name": "stdout",
     "output_type": "stream",
     "text": [
      "209\n",
      "10SGD\n",
      " Getting 1 granules, approx download size: 0.21 GB\n"
     ]
    },
    {
     "data": {
      "application/vnd.jupyter.widget-view+json": {
       "model_id": "22417ddcbbbc4689b467193c1fb2e3d9",
       "version_major": 2,
       "version_minor": 0
      },
      "text/plain": [
       "QUEUEING TASKS | :   0%|          | 0/18 [00:00<?, ?it/s]"
      ]
     },
     "metadata": {},
     "output_type": "display_data"
    },
    {
     "data": {
      "application/vnd.jupyter.widget-view+json": {
       "model_id": "9e878be458f54f4fabff896a89801142",
       "version_major": 2,
       "version_minor": 0
      },
      "text/plain": [
       "PROCESSING TASKS | :   0%|          | 0/18 [00:00<?, ?it/s]"
      ]
     },
     "metadata": {},
     "output_type": "display_data"
    },
    {
     "name": "stdout",
     "output_type": "stream",
     "text": [
      "Error while downloading the file HLS.S30.T10SGD.2018212T183921.v2.0.B10.tif\n",
      "Traceback (most recent call last):\n",
      "  File \"c:\\Users\\attic\\miniconda3\\envs\\hls_env\\lib\\site-packages\\earthaccess\\store.py\", line 607, in _download_file\n",
      "    r.raise_for_status()\n",
      "  File \"c:\\Users\\attic\\miniconda3\\envs\\hls_env\\lib\\site-packages\\requests\\models.py\", line 1024, in raise_for_status\n",
      "    raise HTTPError(http_error_msg, response=self)\n",
      "requests.exceptions.HTTPError: 502 Server Error: Bad Gateway for url: https://data.lpdaac.earthdatacloud.nasa.gov/lp-prod-protected/HLSS30.020/HLS.S30.T10SGD.2018212T183921.v2.0/HLS.S30.T10SGD.2018212T183921.v2.0.B10.tif\n",
      "\n"
     ]
    },
    {
     "data": {
      "application/vnd.jupyter.widget-view+json": {
       "model_id": "7b7f802a39614dcdba927b773a5f2ffc",
       "version_major": 2,
       "version_minor": 0
      },
      "text/plain": [
       "COLLECTING RESULTS | :   0%|          | 0/18 [00:00<?, ?it/s]"
      ]
     },
     "metadata": {},
     "output_type": "display_data"
    },
    {
     "name": "stdout",
     "output_type": "stream",
     "text": [
      "210\n",
      "11SKU\n",
      " Getting 1 granules, approx download size: 0.21 GB\n"
     ]
    },
    {
     "data": {
      "application/vnd.jupyter.widget-view+json": {
       "model_id": "004e80acfd734dfa95ed8bc26eb60eaf",
       "version_major": 2,
       "version_minor": 0
      },
      "text/plain": [
       "QUEUEING TASKS | :   0%|          | 0/18 [00:00<?, ?it/s]"
      ]
     },
     "metadata": {},
     "output_type": "display_data"
    },
    {
     "data": {
      "application/vnd.jupyter.widget-view+json": {
       "model_id": "18298fc3f423443d8d72520ce913bd51",
       "version_major": 2,
       "version_minor": 0
      },
      "text/plain": [
       "PROCESSING TASKS | :   0%|          | 0/18 [00:00<?, ?it/s]"
      ]
     },
     "metadata": {},
     "output_type": "display_data"
    },
    {
     "data": {
      "application/vnd.jupyter.widget-view+json": {
       "model_id": "5f4d2cc277a94cbb9f2afbbe0c985cd0",
       "version_major": 2,
       "version_minor": 0
      },
      "text/plain": [
       "COLLECTING RESULTS | :   0%|          | 0/18 [00:00<?, ?it/s]"
      ]
     },
     "metadata": {},
     "output_type": "display_data"
    },
    {
     "name": "stdout",
     "output_type": "stream",
     "text": [
      "211\n",
      "11SKU\n",
      " Getting 1 granules, approx download size: 0.21 GB\n"
     ]
    },
    {
     "data": {
      "application/vnd.jupyter.widget-view+json": {
       "model_id": "f3c713143df6410ab7676f6062db46eb",
       "version_major": 2,
       "version_minor": 0
      },
      "text/plain": [
       "QUEUEING TASKS | :   0%|          | 0/18 [00:00<?, ?it/s]"
      ]
     },
     "metadata": {},
     "output_type": "display_data"
    },
    {
     "data": {
      "application/vnd.jupyter.widget-view+json": {
       "model_id": "c70ef1a9dae1430d890aba00b58018f0",
       "version_major": 2,
       "version_minor": 0
      },
      "text/plain": [
       "PROCESSING TASKS | :   0%|          | 0/18 [00:00<?, ?it/s]"
      ]
     },
     "metadata": {},
     "output_type": "display_data"
    },
    {
     "data": {
      "application/vnd.jupyter.widget-view+json": {
       "model_id": "6c72086a84e345e989fa877ee2704893",
       "version_major": 2,
       "version_minor": 0
      },
      "text/plain": [
       "COLLECTING RESULTS | :   0%|          | 0/18 [00:00<?, ?it/s]"
      ]
     },
     "metadata": {},
     "output_type": "display_data"
    },
    {
     "name": "stdout",
     "output_type": "stream",
     "text": [
      "212\n",
      "10SGD\n",
      " Getting 1 granules, approx download size: 0.21 GB\n"
     ]
    },
    {
     "data": {
      "application/vnd.jupyter.widget-view+json": {
       "model_id": "8f2b0518d9cc43d8917f7ad0be1ff4aa",
       "version_major": 2,
       "version_minor": 0
      },
      "text/plain": [
       "QUEUEING TASKS | :   0%|          | 0/18 [00:00<?, ?it/s]"
      ]
     },
     "metadata": {},
     "output_type": "display_data"
    },
    {
     "data": {
      "application/vnd.jupyter.widget-view+json": {
       "model_id": "b69cc5e1184d439197e12a973adeffac",
       "version_major": 2,
       "version_minor": 0
      },
      "text/plain": [
       "PROCESSING TASKS | :   0%|          | 0/18 [00:00<?, ?it/s]"
      ]
     },
     "metadata": {},
     "output_type": "display_data"
    },
    {
     "data": {
      "application/vnd.jupyter.widget-view+json": {
       "model_id": "4b13eae66b554faa834f4fd5ecdfdc93",
       "version_major": 2,
       "version_minor": 0
      },
      "text/plain": [
       "COLLECTING RESULTS | :   0%|          | 0/18 [00:00<?, ?it/s]"
      ]
     },
     "metadata": {},
     "output_type": "display_data"
    },
    {
     "name": "stdout",
     "output_type": "stream",
     "text": [
      "213\n",
      "10SGD\n",
      " Getting 1 granules, approx download size: 0.21 GB\n"
     ]
    },
    {
     "data": {
      "application/vnd.jupyter.widget-view+json": {
       "model_id": "74110fef06ec4ede9060152ac8d94463",
       "version_major": 2,
       "version_minor": 0
      },
      "text/plain": [
       "QUEUEING TASKS | :   0%|          | 0/18 [00:00<?, ?it/s]"
      ]
     },
     "metadata": {},
     "output_type": "display_data"
    },
    {
     "data": {
      "application/vnd.jupyter.widget-view+json": {
       "model_id": "3ccb3308841146c2b6c7004c8280e9c0",
       "version_major": 2,
       "version_minor": 0
      },
      "text/plain": [
       "PROCESSING TASKS | :   0%|          | 0/18 [00:00<?, ?it/s]"
      ]
     },
     "metadata": {},
     "output_type": "display_data"
    },
    {
     "data": {
      "application/vnd.jupyter.widget-view+json": {
       "model_id": "8a2a2429b2e64cde92704ae77f3107c7",
       "version_major": 2,
       "version_minor": 0
      },
      "text/plain": [
       "COLLECTING RESULTS | :   0%|          | 0/18 [00:00<?, ?it/s]"
      ]
     },
     "metadata": {},
     "output_type": "display_data"
    },
    {
     "name": "stdout",
     "output_type": "stream",
     "text": [
      "214\n",
      "11SKU\n",
      " Getting 1 granules, approx download size: 0.21 GB\n"
     ]
    },
    {
     "data": {
      "application/vnd.jupyter.widget-view+json": {
       "model_id": "ce54676b62e747538c6bdef73304c7ea",
       "version_major": 2,
       "version_minor": 0
      },
      "text/plain": [
       "QUEUEING TASKS | :   0%|          | 0/18 [00:00<?, ?it/s]"
      ]
     },
     "metadata": {},
     "output_type": "display_data"
    },
    {
     "data": {
      "application/vnd.jupyter.widget-view+json": {
       "model_id": "12a7682345434616bc9ceecd2965be95",
       "version_major": 2,
       "version_minor": 0
      },
      "text/plain": [
       "PROCESSING TASKS | :   0%|          | 0/18 [00:00<?, ?it/s]"
      ]
     },
     "metadata": {},
     "output_type": "display_data"
    },
    {
     "data": {
      "application/vnd.jupyter.widget-view+json": {
       "model_id": "1048cb65f3a74005a4b327181153158f",
       "version_major": 2,
       "version_minor": 0
      },
      "text/plain": [
       "COLLECTING RESULTS | :   0%|          | 0/18 [00:00<?, ?it/s]"
      ]
     },
     "metadata": {},
     "output_type": "display_data"
    },
    {
     "name": "stdout",
     "output_type": "stream",
     "text": [
      "215\n",
      "10SGD\n",
      " Getting 1 granules, approx download size: 0.21 GB\n"
     ]
    },
    {
     "data": {
      "application/vnd.jupyter.widget-view+json": {
       "model_id": "8cacf0ce4c46422fa53678c6a6a35a8f",
       "version_major": 2,
       "version_minor": 0
      },
      "text/plain": [
       "QUEUEING TASKS | :   0%|          | 0/18 [00:00<?, ?it/s]"
      ]
     },
     "metadata": {},
     "output_type": "display_data"
    },
    {
     "data": {
      "application/vnd.jupyter.widget-view+json": {
       "model_id": "c9a4977f73984f9a87279ef6da9460d8",
       "version_major": 2,
       "version_minor": 0
      },
      "text/plain": [
       "PROCESSING TASKS | :   0%|          | 0/18 [00:00<?, ?it/s]"
      ]
     },
     "metadata": {},
     "output_type": "display_data"
    },
    {
     "data": {
      "application/vnd.jupyter.widget-view+json": {
       "model_id": "36c7f0f1e6d0486baa41e9540e1432d0",
       "version_major": 2,
       "version_minor": 0
      },
      "text/plain": [
       "COLLECTING RESULTS | :   0%|          | 0/18 [00:00<?, ?it/s]"
      ]
     },
     "metadata": {},
     "output_type": "display_data"
    },
    {
     "name": "stdout",
     "output_type": "stream",
     "text": [
      "216\n",
      "11SKU\n",
      " Getting 1 granules, approx download size: 0.21 GB\n"
     ]
    },
    {
     "data": {
      "application/vnd.jupyter.widget-view+json": {
       "model_id": "735772e50daf4ab9829f2b4b78a946a8",
       "version_major": 2,
       "version_minor": 0
      },
      "text/plain": [
       "QUEUEING TASKS | :   0%|          | 0/18 [00:00<?, ?it/s]"
      ]
     },
     "metadata": {},
     "output_type": "display_data"
    },
    {
     "data": {
      "application/vnd.jupyter.widget-view+json": {
       "model_id": "3c54f5f0ff2544fb8c7dca9311c65c12",
       "version_major": 2,
       "version_minor": 0
      },
      "text/plain": [
       "PROCESSING TASKS | :   0%|          | 0/18 [00:00<?, ?it/s]"
      ]
     },
     "metadata": {},
     "output_type": "display_data"
    },
    {
     "data": {
      "application/vnd.jupyter.widget-view+json": {
       "model_id": "cd0c15b6f74e4d388025f0f91023e659",
       "version_major": 2,
       "version_minor": 0
      },
      "text/plain": [
       "COLLECTING RESULTS | :   0%|          | 0/18 [00:00<?, ?it/s]"
      ]
     },
     "metadata": {},
     "output_type": "display_data"
    },
    {
     "name": "stdout",
     "output_type": "stream",
     "text": [
      "217\n",
      "10SGD\n",
      " Getting 1 granules, approx download size: 0.22 GB\n"
     ]
    },
    {
     "data": {
      "application/vnd.jupyter.widget-view+json": {
       "model_id": "70e5c490b748460b92970ed219145b89",
       "version_major": 2,
       "version_minor": 0
      },
      "text/plain": [
       "QUEUEING TASKS | :   0%|          | 0/18 [00:00<?, ?it/s]"
      ]
     },
     "metadata": {},
     "output_type": "display_data"
    },
    {
     "data": {
      "application/vnd.jupyter.widget-view+json": {
       "model_id": "a41ff13f7fc2418d8e5e7331bec7b865",
       "version_major": 2,
       "version_minor": 0
      },
      "text/plain": [
       "PROCESSING TASKS | :   0%|          | 0/18 [00:00<?, ?it/s]"
      ]
     },
     "metadata": {},
     "output_type": "display_data"
    },
    {
     "data": {
      "application/vnd.jupyter.widget-view+json": {
       "model_id": "de903dfa6a3b4d79a5ff15960314ab42",
       "version_major": 2,
       "version_minor": 0
      },
      "text/plain": [
       "COLLECTING RESULTS | :   0%|          | 0/18 [00:00<?, ?it/s]"
      ]
     },
     "metadata": {},
     "output_type": "display_data"
    },
    {
     "name": "stdout",
     "output_type": "stream",
     "text": [
      "218\n",
      "11SKU\n",
      " Getting 1 granules, approx download size: 0.22 GB\n"
     ]
    },
    {
     "data": {
      "application/vnd.jupyter.widget-view+json": {
       "model_id": "df4d3eae1bd540a28651195a6af422f2",
       "version_major": 2,
       "version_minor": 0
      },
      "text/plain": [
       "QUEUEING TASKS | :   0%|          | 0/18 [00:00<?, ?it/s]"
      ]
     },
     "metadata": {},
     "output_type": "display_data"
    },
    {
     "data": {
      "application/vnd.jupyter.widget-view+json": {
       "model_id": "3372d835657b45e0bf40ba12df8f89e5",
       "version_major": 2,
       "version_minor": 0
      },
      "text/plain": [
       "PROCESSING TASKS | :   0%|          | 0/18 [00:00<?, ?it/s]"
      ]
     },
     "metadata": {},
     "output_type": "display_data"
    },
    {
     "data": {
      "application/vnd.jupyter.widget-view+json": {
       "model_id": "c4ea80fb7d914195b3a46e0ad031d473",
       "version_major": 2,
       "version_minor": 0
      },
      "text/plain": [
       "COLLECTING RESULTS | :   0%|          | 0/18 [00:00<?, ?it/s]"
      ]
     },
     "metadata": {},
     "output_type": "display_data"
    },
    {
     "name": "stdout",
     "output_type": "stream",
     "text": [
      "219\n",
      "11SKU\n",
      " Getting 1 granules, approx download size: 0.18 GB\n"
     ]
    },
    {
     "data": {
      "application/vnd.jupyter.widget-view+json": {
       "model_id": "efd7df3129a146fc9c05febc5b8c59fd",
       "version_major": 2,
       "version_minor": 0
      },
      "text/plain": [
       "QUEUEING TASKS | :   0%|          | 0/15 [00:00<?, ?it/s]"
      ]
     },
     "metadata": {},
     "output_type": "display_data"
    },
    {
     "data": {
      "application/vnd.jupyter.widget-view+json": {
       "model_id": "ce72a7b9e02a4af789c015c8a9d292bb",
       "version_major": 2,
       "version_minor": 0
      },
      "text/plain": [
       "PROCESSING TASKS | :   0%|          | 0/15 [00:00<?, ?it/s]"
      ]
     },
     "metadata": {},
     "output_type": "display_data"
    },
    {
     "data": {
      "application/vnd.jupyter.widget-view+json": {
       "model_id": "ee931d2e08e64b50ad969d5608ee06b9",
       "version_major": 2,
       "version_minor": 0
      },
      "text/plain": [
       "COLLECTING RESULTS | :   0%|          | 0/15 [00:00<?, ?it/s]"
      ]
     },
     "metadata": {},
     "output_type": "display_data"
    },
    {
     "name": "stdout",
     "output_type": "stream",
     "text": [
      "220\n",
      "10SGD\n",
      " Getting 1 granules, approx download size: 0.18 GB\n"
     ]
    },
    {
     "data": {
      "application/vnd.jupyter.widget-view+json": {
       "model_id": "321e187f181b43c984446ebb94c49200",
       "version_major": 2,
       "version_minor": 0
      },
      "text/plain": [
       "QUEUEING TASKS | :   0%|          | 0/15 [00:00<?, ?it/s]"
      ]
     },
     "metadata": {},
     "output_type": "display_data"
    },
    {
     "data": {
      "application/vnd.jupyter.widget-view+json": {
       "model_id": "468b8fa4a26d49d3954ce248c80d3f12",
       "version_major": 2,
       "version_minor": 0
      },
      "text/plain": [
       "PROCESSING TASKS | :   0%|          | 0/15 [00:00<?, ?it/s]"
      ]
     },
     "metadata": {},
     "output_type": "display_data"
    },
    {
     "data": {
      "application/vnd.jupyter.widget-view+json": {
       "model_id": "a6642e3160d94552a060414f89b7498f",
       "version_major": 2,
       "version_minor": 0
      },
      "text/plain": [
       "COLLECTING RESULTS | :   0%|          | 0/15 [00:00<?, ?it/s]"
      ]
     },
     "metadata": {},
     "output_type": "display_data"
    },
    {
     "name": "stdout",
     "output_type": "stream",
     "text": [
      "221\n",
      "10SGD\n",
      " Getting 1 granules, approx download size: 0.22 GB\n"
     ]
    },
    {
     "data": {
      "application/vnd.jupyter.widget-view+json": {
       "model_id": "330f91dd35504a549e1d2359a2cec2a2",
       "version_major": 2,
       "version_minor": 0
      },
      "text/plain": [
       "QUEUEING TASKS | :   0%|          | 0/18 [00:00<?, ?it/s]"
      ]
     },
     "metadata": {},
     "output_type": "display_data"
    },
    {
     "data": {
      "application/vnd.jupyter.widget-view+json": {
       "model_id": "3f68e86923a7416e8a611a4b40190983",
       "version_major": 2,
       "version_minor": 0
      },
      "text/plain": [
       "PROCESSING TASKS | :   0%|          | 0/18 [00:00<?, ?it/s]"
      ]
     },
     "metadata": {},
     "output_type": "display_data"
    },
    {
     "data": {
      "application/vnd.jupyter.widget-view+json": {
       "model_id": "fe3df6afc06c4cf8955b5be89f552cef",
       "version_major": 2,
       "version_minor": 0
      },
      "text/plain": [
       "COLLECTING RESULTS | :   0%|          | 0/18 [00:00<?, ?it/s]"
      ]
     },
     "metadata": {},
     "output_type": "display_data"
    },
    {
     "name": "stdout",
     "output_type": "stream",
     "text": [
      "222\n",
      "11SKU\n",
      " Getting 1 granules, approx download size: 0.22 GB\n"
     ]
    },
    {
     "data": {
      "application/vnd.jupyter.widget-view+json": {
       "model_id": "587c34acdbff475696c02bad2cf1e691",
       "version_major": 2,
       "version_minor": 0
      },
      "text/plain": [
       "QUEUEING TASKS | :   0%|          | 0/18 [00:00<?, ?it/s]"
      ]
     },
     "metadata": {},
     "output_type": "display_data"
    },
    {
     "data": {
      "application/vnd.jupyter.widget-view+json": {
       "model_id": "9f34c450f16a46b1862d612cef92756e",
       "version_major": 2,
       "version_minor": 0
      },
      "text/plain": [
       "PROCESSING TASKS | :   0%|          | 0/18 [00:00<?, ?it/s]"
      ]
     },
     "metadata": {},
     "output_type": "display_data"
    },
    {
     "data": {
      "application/vnd.jupyter.widget-view+json": {
       "model_id": "63c33752569a44c1aea240981ee06728",
       "version_major": 2,
       "version_minor": 0
      },
      "text/plain": [
       "COLLECTING RESULTS | :   0%|          | 0/18 [00:00<?, ?it/s]"
      ]
     },
     "metadata": {},
     "output_type": "display_data"
    },
    {
     "name": "stdout",
     "output_type": "stream",
     "text": [
      "223\n",
      "11SKU\n",
      " Getting 1 granules, approx download size: 0.21 GB\n"
     ]
    },
    {
     "data": {
      "application/vnd.jupyter.widget-view+json": {
       "model_id": "5deed16da09747c8a0bb0e1d4cc57e43",
       "version_major": 2,
       "version_minor": 0
      },
      "text/plain": [
       "QUEUEING TASKS | :   0%|          | 0/18 [00:00<?, ?it/s]"
      ]
     },
     "metadata": {},
     "output_type": "display_data"
    },
    {
     "data": {
      "application/vnd.jupyter.widget-view+json": {
       "model_id": "d3e5eaa3dda4407797a8014213faeb7f",
       "version_major": 2,
       "version_minor": 0
      },
      "text/plain": [
       "PROCESSING TASKS | :   0%|          | 0/18 [00:00<?, ?it/s]"
      ]
     },
     "metadata": {},
     "output_type": "display_data"
    },
    {
     "data": {
      "application/vnd.jupyter.widget-view+json": {
       "model_id": "009fc1df4458442db00da422cfc58a42",
       "version_major": 2,
       "version_minor": 0
      },
      "text/plain": [
       "COLLECTING RESULTS | :   0%|          | 0/18 [00:00<?, ?it/s]"
      ]
     },
     "metadata": {},
     "output_type": "display_data"
    },
    {
     "name": "stdout",
     "output_type": "stream",
     "text": [
      "224\n",
      "10SGD\n",
      " Getting 1 granules, approx download size: 0.22 GB\n"
     ]
    },
    {
     "data": {
      "application/vnd.jupyter.widget-view+json": {
       "model_id": "b9bc4995769b4cd29e6bd913dfa13785",
       "version_major": 2,
       "version_minor": 0
      },
      "text/plain": [
       "QUEUEING TASKS | :   0%|          | 0/18 [00:00<?, ?it/s]"
      ]
     },
     "metadata": {},
     "output_type": "display_data"
    },
    {
     "data": {
      "application/vnd.jupyter.widget-view+json": {
       "model_id": "1d0ee4b51953459eb13cfe465eba52b5",
       "version_major": 2,
       "version_minor": 0
      },
      "text/plain": [
       "PROCESSING TASKS | :   0%|          | 0/18 [00:00<?, ?it/s]"
      ]
     },
     "metadata": {},
     "output_type": "display_data"
    },
    {
     "data": {
      "application/vnd.jupyter.widget-view+json": {
       "model_id": "2c213349c3514e3aba742949a0990437",
       "version_major": 2,
       "version_minor": 0
      },
      "text/plain": [
       "COLLECTING RESULTS | :   0%|          | 0/18 [00:00<?, ?it/s]"
      ]
     },
     "metadata": {},
     "output_type": "display_data"
    },
    {
     "name": "stdout",
     "output_type": "stream",
     "text": [
      "225\n",
      "11SKU\n",
      " Getting 1 granules, approx download size: 0.22 GB\n"
     ]
    },
    {
     "data": {
      "application/vnd.jupyter.widget-view+json": {
       "model_id": "b3331b34cd414c358e532de89325fb0a",
       "version_major": 2,
       "version_minor": 0
      },
      "text/plain": [
       "QUEUEING TASKS | :   0%|          | 0/18 [00:00<?, ?it/s]"
      ]
     },
     "metadata": {},
     "output_type": "display_data"
    },
    {
     "data": {
      "application/vnd.jupyter.widget-view+json": {
       "model_id": "4fa63271ed7f4546a4f4512396e4d520",
       "version_major": 2,
       "version_minor": 0
      },
      "text/plain": [
       "PROCESSING TASKS | :   0%|          | 0/18 [00:00<?, ?it/s]"
      ]
     },
     "metadata": {},
     "output_type": "display_data"
    },
    {
     "data": {
      "application/vnd.jupyter.widget-view+json": {
       "model_id": "241b5c85ba5f4aa7aaa319b0290c29c5",
       "version_major": 2,
       "version_minor": 0
      },
      "text/plain": [
       "COLLECTING RESULTS | :   0%|          | 0/18 [00:00<?, ?it/s]"
      ]
     },
     "metadata": {},
     "output_type": "display_data"
    },
    {
     "name": "stdout",
     "output_type": "stream",
     "text": [
      "226\n",
      "11SKU\n",
      " Getting 1 granules, approx download size: 0.18 GB\n"
     ]
    },
    {
     "data": {
      "application/vnd.jupyter.widget-view+json": {
       "model_id": "0e8e63b363e04559a0762615c5f1e2ef",
       "version_major": 2,
       "version_minor": 0
      },
      "text/plain": [
       "QUEUEING TASKS | :   0%|          | 0/15 [00:00<?, ?it/s]"
      ]
     },
     "metadata": {},
     "output_type": "display_data"
    },
    {
     "data": {
      "application/vnd.jupyter.widget-view+json": {
       "model_id": "bdd8f2c998224d75b119803e1fa85e18",
       "version_major": 2,
       "version_minor": 0
      },
      "text/plain": [
       "PROCESSING TASKS | :   0%|          | 0/15 [00:00<?, ?it/s]"
      ]
     },
     "metadata": {},
     "output_type": "display_data"
    },
    {
     "data": {
      "application/vnd.jupyter.widget-view+json": {
       "model_id": "29ab762a84644814badaae457ea17e61",
       "version_major": 2,
       "version_minor": 0
      },
      "text/plain": [
       "COLLECTING RESULTS | :   0%|          | 0/15 [00:00<?, ?it/s]"
      ]
     },
     "metadata": {},
     "output_type": "display_data"
    },
    {
     "name": "stdout",
     "output_type": "stream",
     "text": [
      "227\n",
      "10SGD\n",
      " Getting 1 granules, approx download size: 0.18 GB\n"
     ]
    },
    {
     "data": {
      "application/vnd.jupyter.widget-view+json": {
       "model_id": "8ffcc1e1e9dc4951b1469133d33a3623",
       "version_major": 2,
       "version_minor": 0
      },
      "text/plain": [
       "QUEUEING TASKS | :   0%|          | 0/15 [00:00<?, ?it/s]"
      ]
     },
     "metadata": {},
     "output_type": "display_data"
    },
    {
     "data": {
      "application/vnd.jupyter.widget-view+json": {
       "model_id": "5d44d4c3bfaf47ed8896397b0e2d1758",
       "version_major": 2,
       "version_minor": 0
      },
      "text/plain": [
       "PROCESSING TASKS | :   0%|          | 0/15 [00:00<?, ?it/s]"
      ]
     },
     "metadata": {},
     "output_type": "display_data"
    },
    {
     "data": {
      "application/vnd.jupyter.widget-view+json": {
       "model_id": "00bcb0fb03e648de8657a7af055a088a",
       "version_major": 2,
       "version_minor": 0
      },
      "text/plain": [
       "COLLECTING RESULTS | :   0%|          | 0/15 [00:00<?, ?it/s]"
      ]
     },
     "metadata": {},
     "output_type": "display_data"
    },
    {
     "name": "stdout",
     "output_type": "stream",
     "text": [
      "228\n",
      "11SKU\n",
      " Getting 1 granules, approx download size: 0.22 GB\n"
     ]
    },
    {
     "data": {
      "application/vnd.jupyter.widget-view+json": {
       "model_id": "64196ac841974bf699865867ba60127d",
       "version_major": 2,
       "version_minor": 0
      },
      "text/plain": [
       "QUEUEING TASKS | :   0%|          | 0/18 [00:00<?, ?it/s]"
      ]
     },
     "metadata": {},
     "output_type": "display_data"
    },
    {
     "data": {
      "application/vnd.jupyter.widget-view+json": {
       "model_id": "c222071ec550411091d596e5c6b174f3",
       "version_major": 2,
       "version_minor": 0
      },
      "text/plain": [
       "PROCESSING TASKS | :   0%|          | 0/18 [00:00<?, ?it/s]"
      ]
     },
     "metadata": {},
     "output_type": "display_data"
    },
    {
     "data": {
      "application/vnd.jupyter.widget-view+json": {
       "model_id": "e8a16825bb044c0ca54851b032ed35cc",
       "version_major": 2,
       "version_minor": 0
      },
      "text/plain": [
       "COLLECTING RESULTS | :   0%|          | 0/18 [00:00<?, ?it/s]"
      ]
     },
     "metadata": {},
     "output_type": "display_data"
    },
    {
     "name": "stdout",
     "output_type": "stream",
     "text": [
      "229\n",
      "10SGD\n",
      " Getting 1 granules, approx download size: 0.22 GB\n"
     ]
    },
    {
     "data": {
      "application/vnd.jupyter.widget-view+json": {
       "model_id": "0acc503ad4df45b9902dc354cdbaa23f",
       "version_major": 2,
       "version_minor": 0
      },
      "text/plain": [
       "QUEUEING TASKS | :   0%|          | 0/18 [00:00<?, ?it/s]"
      ]
     },
     "metadata": {},
     "output_type": "display_data"
    },
    {
     "data": {
      "application/vnd.jupyter.widget-view+json": {
       "model_id": "7c5bf8a7b0214728b3664f83dcf3fd6a",
       "version_major": 2,
       "version_minor": 0
      },
      "text/plain": [
       "PROCESSING TASKS | :   0%|          | 0/18 [00:00<?, ?it/s]"
      ]
     },
     "metadata": {},
     "output_type": "display_data"
    },
    {
     "data": {
      "application/vnd.jupyter.widget-view+json": {
       "model_id": "17474a98bdc547e8b5fe65221fcf5e09",
       "version_major": 2,
       "version_minor": 0
      },
      "text/plain": [
       "COLLECTING RESULTS | :   0%|          | 0/18 [00:00<?, ?it/s]"
      ]
     },
     "metadata": {},
     "output_type": "display_data"
    },
    {
     "name": "stdout",
     "output_type": "stream",
     "text": [
      "230\n",
      "10SGD\n",
      " Getting 1 granules, approx download size: 0.2 GB\n"
     ]
    },
    {
     "data": {
      "application/vnd.jupyter.widget-view+json": {
       "model_id": "33e40859464e4da0b581fd91dd355dc9",
       "version_major": 2,
       "version_minor": 0
      },
      "text/plain": [
       "QUEUEING TASKS | :   0%|          | 0/18 [00:00<?, ?it/s]"
      ]
     },
     "metadata": {},
     "output_type": "display_data"
    },
    {
     "data": {
      "application/vnd.jupyter.widget-view+json": {
       "model_id": "446644f4df484293a0ac9c42ab3fdf0a",
       "version_major": 2,
       "version_minor": 0
      },
      "text/plain": [
       "PROCESSING TASKS | :   0%|          | 0/18 [00:00<?, ?it/s]"
      ]
     },
     "metadata": {},
     "output_type": "display_data"
    },
    {
     "data": {
      "application/vnd.jupyter.widget-view+json": {
       "model_id": "f916d99b12b54b7fb698c22f500fe7db",
       "version_major": 2,
       "version_minor": 0
      },
      "text/plain": [
       "COLLECTING RESULTS | :   0%|          | 0/18 [00:00<?, ?it/s]"
      ]
     },
     "metadata": {},
     "output_type": "display_data"
    },
    {
     "name": "stdout",
     "output_type": "stream",
     "text": [
      "231\n",
      "10SGD\n",
      " Getting 1 granules, approx download size: 0.2 GB\n"
     ]
    },
    {
     "data": {
      "application/vnd.jupyter.widget-view+json": {
       "model_id": "42c26e60044a4ba189148558c6589b15",
       "version_major": 2,
       "version_minor": 0
      },
      "text/plain": [
       "QUEUEING TASKS | :   0%|          | 0/18 [00:00<?, ?it/s]"
      ]
     },
     "metadata": {},
     "output_type": "display_data"
    },
    {
     "data": {
      "application/vnd.jupyter.widget-view+json": {
       "model_id": "a031465cc6fe463da0e0faa25fae201e",
       "version_major": 2,
       "version_minor": 0
      },
      "text/plain": [
       "PROCESSING TASKS | :   0%|          | 0/18 [00:00<?, ?it/s]"
      ]
     },
     "metadata": {},
     "output_type": "display_data"
    },
    {
     "data": {
      "application/vnd.jupyter.widget-view+json": {
       "model_id": "93d81956a9a8492e9e5a75e2400f5dfe",
       "version_major": 2,
       "version_minor": 0
      },
      "text/plain": [
       "COLLECTING RESULTS | :   0%|          | 0/18 [00:00<?, ?it/s]"
      ]
     },
     "metadata": {},
     "output_type": "display_data"
    },
    {
     "name": "stdout",
     "output_type": "stream",
     "text": [
      "232\n",
      "11SKU\n",
      " Getting 1 granules, approx download size: 0.18 GB\n"
     ]
    },
    {
     "data": {
      "application/vnd.jupyter.widget-view+json": {
       "model_id": "c94305de90e34b668e3fb118f437019b",
       "version_major": 2,
       "version_minor": 0
      },
      "text/plain": [
       "QUEUEING TASKS | :   0%|          | 0/15 [00:00<?, ?it/s]"
      ]
     },
     "metadata": {},
     "output_type": "display_data"
    },
    {
     "data": {
      "application/vnd.jupyter.widget-view+json": {
       "model_id": "322c0a80841144a5adcf25c93b73ffa0",
       "version_major": 2,
       "version_minor": 0
      },
      "text/plain": [
       "PROCESSING TASKS | :   0%|          | 0/15 [00:00<?, ?it/s]"
      ]
     },
     "metadata": {},
     "output_type": "display_data"
    },
    {
     "data": {
      "application/vnd.jupyter.widget-view+json": {
       "model_id": "f5061c572cd94ca28217f8946dabf019",
       "version_major": 2,
       "version_minor": 0
      },
      "text/plain": [
       "COLLECTING RESULTS | :   0%|          | 0/15 [00:00<?, ?it/s]"
      ]
     },
     "metadata": {},
     "output_type": "display_data"
    },
    {
     "name": "stdout",
     "output_type": "stream",
     "text": [
      "233\n",
      "10SGD\n",
      " Getting 1 granules, approx download size: 0.18 GB\n"
     ]
    },
    {
     "data": {
      "application/vnd.jupyter.widget-view+json": {
       "model_id": "a3306cafd15842abb99341de3caf7dc7",
       "version_major": 2,
       "version_minor": 0
      },
      "text/plain": [
       "QUEUEING TASKS | :   0%|          | 0/15 [00:00<?, ?it/s]"
      ]
     },
     "metadata": {},
     "output_type": "display_data"
    },
    {
     "data": {
      "application/vnd.jupyter.widget-view+json": {
       "model_id": "8c54aa1588124365b69a765796e5baef",
       "version_major": 2,
       "version_minor": 0
      },
      "text/plain": [
       "PROCESSING TASKS | :   0%|          | 0/15 [00:00<?, ?it/s]"
      ]
     },
     "metadata": {},
     "output_type": "display_data"
    },
    {
     "data": {
      "application/vnd.jupyter.widget-view+json": {
       "model_id": "851a34e9dcb746b79f43f4aa29cce9fa",
       "version_major": 2,
       "version_minor": 0
      },
      "text/plain": [
       "COLLECTING RESULTS | :   0%|          | 0/15 [00:00<?, ?it/s]"
      ]
     },
     "metadata": {},
     "output_type": "display_data"
    },
    {
     "name": "stdout",
     "output_type": "stream",
     "text": [
      "234\n",
      "11SKU\n",
      " Getting 1 granules, approx download size: 0.22 GB\n"
     ]
    },
    {
     "data": {
      "application/vnd.jupyter.widget-view+json": {
       "model_id": "c86077baf12948bf8bbc736d7ca0c8ed",
       "version_major": 2,
       "version_minor": 0
      },
      "text/plain": [
       "QUEUEING TASKS | :   0%|          | 0/18 [00:00<?, ?it/s]"
      ]
     },
     "metadata": {},
     "output_type": "display_data"
    },
    {
     "data": {
      "application/vnd.jupyter.widget-view+json": {
       "model_id": "ad202fcfb0a046798e8775517866dbf2",
       "version_major": 2,
       "version_minor": 0
      },
      "text/plain": [
       "PROCESSING TASKS | :   0%|          | 0/18 [00:00<?, ?it/s]"
      ]
     },
     "metadata": {},
     "output_type": "display_data"
    },
    {
     "data": {
      "application/vnd.jupyter.widget-view+json": {
       "model_id": "26c1ad828b8c47babb76d0db5cb139b5",
       "version_major": 2,
       "version_minor": 0
      },
      "text/plain": [
       "COLLECTING RESULTS | :   0%|          | 0/18 [00:00<?, ?it/s]"
      ]
     },
     "metadata": {},
     "output_type": "display_data"
    },
    {
     "name": "stdout",
     "output_type": "stream",
     "text": [
      "235\n",
      "10SGD\n",
      " Getting 1 granules, approx download size: 0.22 GB\n"
     ]
    },
    {
     "data": {
      "application/vnd.jupyter.widget-view+json": {
       "model_id": "954eb16ea6304c7482f0c3c0881fe1e0",
       "version_major": 2,
       "version_minor": 0
      },
      "text/plain": [
       "QUEUEING TASKS | :   0%|          | 0/18 [00:00<?, ?it/s]"
      ]
     },
     "metadata": {},
     "output_type": "display_data"
    },
    {
     "data": {
      "application/vnd.jupyter.widget-view+json": {
       "model_id": "d0c4a842e16c4e80a1eb0f0ab08f65d2",
       "version_major": 2,
       "version_minor": 0
      },
      "text/plain": [
       "PROCESSING TASKS | :   0%|          | 0/18 [00:00<?, ?it/s]"
      ]
     },
     "metadata": {},
     "output_type": "display_data"
    },
    {
     "data": {
      "application/vnd.jupyter.widget-view+json": {
       "model_id": "0a4814b231c84261a99011f5a8efe2d1",
       "version_major": 2,
       "version_minor": 0
      },
      "text/plain": [
       "COLLECTING RESULTS | :   0%|          | 0/18 [00:00<?, ?it/s]"
      ]
     },
     "metadata": {},
     "output_type": "display_data"
    },
    {
     "name": "stdout",
     "output_type": "stream",
     "text": [
      "236\n",
      "10SGD\n",
      " Getting 1 granules, approx download size: 0.23 GB\n"
     ]
    },
    {
     "data": {
      "application/vnd.jupyter.widget-view+json": {
       "model_id": "6984c758b6ce46888e7ff110b5129f5e",
       "version_major": 2,
       "version_minor": 0
      },
      "text/plain": [
       "QUEUEING TASKS | :   0%|          | 0/18 [00:00<?, ?it/s]"
      ]
     },
     "metadata": {},
     "output_type": "display_data"
    },
    {
     "data": {
      "application/vnd.jupyter.widget-view+json": {
       "model_id": "aadc70542dab45e1833d15dfb726b1df",
       "version_major": 2,
       "version_minor": 0
      },
      "text/plain": [
       "PROCESSING TASKS | :   0%|          | 0/18 [00:00<?, ?it/s]"
      ]
     },
     "metadata": {},
     "output_type": "display_data"
    },
    {
     "data": {
      "application/vnd.jupyter.widget-view+json": {
       "model_id": "13898bb7902f482eaab354c611bd587c",
       "version_major": 2,
       "version_minor": 0
      },
      "text/plain": [
       "COLLECTING RESULTS | :   0%|          | 0/18 [00:00<?, ?it/s]"
      ]
     },
     "metadata": {},
     "output_type": "display_data"
    },
    {
     "name": "stdout",
     "output_type": "stream",
     "text": [
      "237\n",
      "11SKU\n",
      " Getting 1 granules, approx download size: 0.23 GB\n"
     ]
    },
    {
     "data": {
      "application/vnd.jupyter.widget-view+json": {
       "model_id": "31e8992888774d019a4fa4229959988d",
       "version_major": 2,
       "version_minor": 0
      },
      "text/plain": [
       "QUEUEING TASKS | :   0%|          | 0/18 [00:00<?, ?it/s]"
      ]
     },
     "metadata": {},
     "output_type": "display_data"
    },
    {
     "data": {
      "application/vnd.jupyter.widget-view+json": {
       "model_id": "3824ecc8ae0c4aeab3cb1c9ebed62dab",
       "version_major": 2,
       "version_minor": 0
      },
      "text/plain": [
       "PROCESSING TASKS | :   0%|          | 0/18 [00:00<?, ?it/s]"
      ]
     },
     "metadata": {},
     "output_type": "display_data"
    },
    {
     "data": {
      "application/vnd.jupyter.widget-view+json": {
       "model_id": "005588a5782245b287df8cfa66b271eb",
       "version_major": 2,
       "version_minor": 0
      },
      "text/plain": [
       "COLLECTING RESULTS | :   0%|          | 0/18 [00:00<?, ?it/s]"
      ]
     },
     "metadata": {},
     "output_type": "display_data"
    },
    {
     "name": "stdout",
     "output_type": "stream",
     "text": [
      "238\n",
      "10SGD\n",
      " Getting 1 granules, approx download size: 0.21 GB\n"
     ]
    },
    {
     "data": {
      "application/vnd.jupyter.widget-view+json": {
       "model_id": "93cc979a3e03484ca8e2647a5c273dc5",
       "version_major": 2,
       "version_minor": 0
      },
      "text/plain": [
       "QUEUEING TASKS | :   0%|          | 0/18 [00:00<?, ?it/s]"
      ]
     },
     "metadata": {},
     "output_type": "display_data"
    },
    {
     "data": {
      "application/vnd.jupyter.widget-view+json": {
       "model_id": "cacab2c0434442759d21c7563bff893f",
       "version_major": 2,
       "version_minor": 0
      },
      "text/plain": [
       "PROCESSING TASKS | :   0%|          | 0/18 [00:00<?, ?it/s]"
      ]
     },
     "metadata": {},
     "output_type": "display_data"
    },
    {
     "data": {
      "application/vnd.jupyter.widget-view+json": {
       "model_id": "314b82e5e61c46809fc2e1b004c32e63",
       "version_major": 2,
       "version_minor": 0
      },
      "text/plain": [
       "COLLECTING RESULTS | :   0%|          | 0/18 [00:00<?, ?it/s]"
      ]
     },
     "metadata": {},
     "output_type": "display_data"
    },
    {
     "name": "stdout",
     "output_type": "stream",
     "text": [
      "239\n",
      "11SKU\n",
      " Getting 1 granules, approx download size: 0.22 GB\n"
     ]
    },
    {
     "data": {
      "application/vnd.jupyter.widget-view+json": {
       "model_id": "2d0b86b0d01f4d43828ddd37ee99da53",
       "version_major": 2,
       "version_minor": 0
      },
      "text/plain": [
       "QUEUEING TASKS | :   0%|          | 0/18 [00:00<?, ?it/s]"
      ]
     },
     "metadata": {},
     "output_type": "display_data"
    },
    {
     "data": {
      "application/vnd.jupyter.widget-view+json": {
       "model_id": "2e7371f738624aee8b400b8276105291",
       "version_major": 2,
       "version_minor": 0
      },
      "text/plain": [
       "PROCESSING TASKS | :   0%|          | 0/18 [00:00<?, ?it/s]"
      ]
     },
     "metadata": {},
     "output_type": "display_data"
    },
    {
     "data": {
      "application/vnd.jupyter.widget-view+json": {
       "model_id": "707add810ed642d7817489fed048bad1",
       "version_major": 2,
       "version_minor": 0
      },
      "text/plain": [
       "COLLECTING RESULTS | :   0%|          | 0/18 [00:00<?, ?it/s]"
      ]
     },
     "metadata": {},
     "output_type": "display_data"
    },
    {
     "name": "stdout",
     "output_type": "stream",
     "text": [
      "240\n",
      "11SKU\n",
      " Getting 1 granules, approx download size: 0.18 GB\n"
     ]
    },
    {
     "data": {
      "application/vnd.jupyter.widget-view+json": {
       "model_id": "a11d1b48d0d8431499a0d180988356e0",
       "version_major": 2,
       "version_minor": 0
      },
      "text/plain": [
       "QUEUEING TASKS | :   0%|          | 0/15 [00:00<?, ?it/s]"
      ]
     },
     "metadata": {},
     "output_type": "display_data"
    },
    {
     "data": {
      "application/vnd.jupyter.widget-view+json": {
       "model_id": "489079c08f2b40c38facd54749ddb9e7",
       "version_major": 2,
       "version_minor": 0
      },
      "text/plain": [
       "PROCESSING TASKS | :   0%|          | 0/15 [00:00<?, ?it/s]"
      ]
     },
     "metadata": {},
     "output_type": "display_data"
    },
    {
     "data": {
      "application/vnd.jupyter.widget-view+json": {
       "model_id": "bd1b5243a9284413a2ebdb40585a2769",
       "version_major": 2,
       "version_minor": 0
      },
      "text/plain": [
       "COLLECTING RESULTS | :   0%|          | 0/15 [00:00<?, ?it/s]"
      ]
     },
     "metadata": {},
     "output_type": "display_data"
    },
    {
     "name": "stdout",
     "output_type": "stream",
     "text": [
      "241\n",
      "10SGD\n",
      " Getting 1 granules, approx download size: 0.18 GB\n"
     ]
    },
    {
     "data": {
      "application/vnd.jupyter.widget-view+json": {
       "model_id": "76f09ec4e78049cfb22baec568c9f1ac",
       "version_major": 2,
       "version_minor": 0
      },
      "text/plain": [
       "QUEUEING TASKS | :   0%|          | 0/15 [00:00<?, ?it/s]"
      ]
     },
     "metadata": {},
     "output_type": "display_data"
    },
    {
     "data": {
      "application/vnd.jupyter.widget-view+json": {
       "model_id": "4fdf5e5d0d2f4386ad5d5bb7b620a0a1",
       "version_major": 2,
       "version_minor": 0
      },
      "text/plain": [
       "PROCESSING TASKS | :   0%|          | 0/15 [00:00<?, ?it/s]"
      ]
     },
     "metadata": {},
     "output_type": "display_data"
    },
    {
     "data": {
      "application/vnd.jupyter.widget-view+json": {
       "model_id": "9c903aa52c8247a39c776fbc4f3bf947",
       "version_major": 2,
       "version_minor": 0
      },
      "text/plain": [
       "COLLECTING RESULTS | :   0%|          | 0/15 [00:00<?, ?it/s]"
      ]
     },
     "metadata": {},
     "output_type": "display_data"
    },
    {
     "name": "stdout",
     "output_type": "stream",
     "text": [
      "242\n",
      "11SKU\n",
      " Getting 1 granules, approx download size: 0.21 GB\n"
     ]
    },
    {
     "data": {
      "application/vnd.jupyter.widget-view+json": {
       "model_id": "d5b564cd82db4c5c98c016de352a3a95",
       "version_major": 2,
       "version_minor": 0
      },
      "text/plain": [
       "QUEUEING TASKS | :   0%|          | 0/18 [00:00<?, ?it/s]"
      ]
     },
     "metadata": {},
     "output_type": "display_data"
    },
    {
     "data": {
      "application/vnd.jupyter.widget-view+json": {
       "model_id": "de8035e9528742caad5677beec41765e",
       "version_major": 2,
       "version_minor": 0
      },
      "text/plain": [
       "PROCESSING TASKS | :   0%|          | 0/18 [00:00<?, ?it/s]"
      ]
     },
     "metadata": {},
     "output_type": "display_data"
    },
    {
     "data": {
      "application/vnd.jupyter.widget-view+json": {
       "model_id": "582b7de8749046bea36dfb93087d9c3c",
       "version_major": 2,
       "version_minor": 0
      },
      "text/plain": [
       "COLLECTING RESULTS | :   0%|          | 0/18 [00:00<?, ?it/s]"
      ]
     },
     "metadata": {},
     "output_type": "display_data"
    },
    {
     "name": "stdout",
     "output_type": "stream",
     "text": [
      "243\n",
      "10SGD\n",
      " Getting 1 granules, approx download size: 0.23 GB\n"
     ]
    },
    {
     "data": {
      "application/vnd.jupyter.widget-view+json": {
       "model_id": "575cbb9f413440b5968662eb8850a11e",
       "version_major": 2,
       "version_minor": 0
      },
      "text/plain": [
       "QUEUEING TASKS | :   0%|          | 0/18 [00:00<?, ?it/s]"
      ]
     },
     "metadata": {},
     "output_type": "display_data"
    },
    {
     "data": {
      "application/vnd.jupyter.widget-view+json": {
       "model_id": "40dcac640fb84ab8bbae077e338d7af6",
       "version_major": 2,
       "version_minor": 0
      },
      "text/plain": [
       "PROCESSING TASKS | :   0%|          | 0/18 [00:00<?, ?it/s]"
      ]
     },
     "metadata": {},
     "output_type": "display_data"
    },
    {
     "data": {
      "application/vnd.jupyter.widget-view+json": {
       "model_id": "f77be07687c344ec98d3950af6bd283a",
       "version_major": 2,
       "version_minor": 0
      },
      "text/plain": [
       "COLLECTING RESULTS | :   0%|          | 0/18 [00:00<?, ?it/s]"
      ]
     },
     "metadata": {},
     "output_type": "display_data"
    },
    {
     "name": "stdout",
     "output_type": "stream",
     "text": [
      "244\n",
      "11SKU\n",
      " Getting 1 granules, approx download size: 0.2 GB\n"
     ]
    },
    {
     "data": {
      "application/vnd.jupyter.widget-view+json": {
       "model_id": "cf6c456b1cce4c3e950523c16e0fc8ca",
       "version_major": 2,
       "version_minor": 0
      },
      "text/plain": [
       "QUEUEING TASKS | :   0%|          | 0/18 [00:00<?, ?it/s]"
      ]
     },
     "metadata": {},
     "output_type": "display_data"
    },
    {
     "data": {
      "application/vnd.jupyter.widget-view+json": {
       "model_id": "07258511b2f345b195367962a9653f05",
       "version_major": 2,
       "version_minor": 0
      },
      "text/plain": [
       "PROCESSING TASKS | :   0%|          | 0/18 [00:00<?, ?it/s]"
      ]
     },
     "metadata": {},
     "output_type": "display_data"
    },
    {
     "data": {
      "application/vnd.jupyter.widget-view+json": {
       "model_id": "e9936a357266428da72d29ca124a8f4b",
       "version_major": 2,
       "version_minor": 0
      },
      "text/plain": [
       "COLLECTING RESULTS | :   0%|          | 0/18 [00:00<?, ?it/s]"
      ]
     },
     "metadata": {},
     "output_type": "display_data"
    },
    {
     "name": "stdout",
     "output_type": "stream",
     "text": [
      "245\n",
      "10SGD\n",
      " Getting 1 granules, approx download size: 0.19 GB\n"
     ]
    },
    {
     "data": {
      "application/vnd.jupyter.widget-view+json": {
       "model_id": "1a258db733924dbe88ead629293c12d1",
       "version_major": 2,
       "version_minor": 0
      },
      "text/plain": [
       "QUEUEING TASKS | :   0%|          | 0/18 [00:00<?, ?it/s]"
      ]
     },
     "metadata": {},
     "output_type": "display_data"
    },
    {
     "data": {
      "application/vnd.jupyter.widget-view+json": {
       "model_id": "a36eb046d78e4f2abc7fd98a9e8558ff",
       "version_major": 2,
       "version_minor": 0
      },
      "text/plain": [
       "PROCESSING TASKS | :   0%|          | 0/18 [00:00<?, ?it/s]"
      ]
     },
     "metadata": {},
     "output_type": "display_data"
    },
    {
     "data": {
      "application/vnd.jupyter.widget-view+json": {
       "model_id": "f6ffbb575e7241c8bb53a919ba097928",
       "version_major": 2,
       "version_minor": 0
      },
      "text/plain": [
       "COLLECTING RESULTS | :   0%|          | 0/18 [00:00<?, ?it/s]"
      ]
     },
     "metadata": {},
     "output_type": "display_data"
    },
    {
     "name": "stdout",
     "output_type": "stream",
     "text": [
      "246\n",
      "10SGD\n",
      " Getting 1 granules, approx download size: 0.2 GB\n"
     ]
    },
    {
     "data": {
      "application/vnd.jupyter.widget-view+json": {
       "model_id": "7cbe26168fcd4d98835dabfe277c5f33",
       "version_major": 2,
       "version_minor": 0
      },
      "text/plain": [
       "QUEUEING TASKS | :   0%|          | 0/18 [00:00<?, ?it/s]"
      ]
     },
     "metadata": {},
     "output_type": "display_data"
    },
    {
     "data": {
      "application/vnd.jupyter.widget-view+json": {
       "model_id": "5b61622907fc4de78d917c6f2fbd85b2",
       "version_major": 2,
       "version_minor": 0
      },
      "text/plain": [
       "PROCESSING TASKS | :   0%|          | 0/18 [00:00<?, ?it/s]"
      ]
     },
     "metadata": {},
     "output_type": "display_data"
    },
    {
     "data": {
      "application/vnd.jupyter.widget-view+json": {
       "model_id": "ad72e106b9944941b45c9f6478195bbe",
       "version_major": 2,
       "version_minor": 0
      },
      "text/plain": [
       "COLLECTING RESULTS | :   0%|          | 0/18 [00:00<?, ?it/s]"
      ]
     },
     "metadata": {},
     "output_type": "display_data"
    },
    {
     "name": "stdout",
     "output_type": "stream",
     "text": [
      "247\n",
      "11SKU\n",
      " Getting 1 granules, approx download size: 0.2 GB\n"
     ]
    },
    {
     "data": {
      "application/vnd.jupyter.widget-view+json": {
       "model_id": "92ed49b56c114f009ca6fa994074e196",
       "version_major": 2,
       "version_minor": 0
      },
      "text/plain": [
       "QUEUEING TASKS | :   0%|          | 0/18 [00:00<?, ?it/s]"
      ]
     },
     "metadata": {},
     "output_type": "display_data"
    },
    {
     "data": {
      "application/vnd.jupyter.widget-view+json": {
       "model_id": "1e0a41ae89a04155a940a30115c40564",
       "version_major": 2,
       "version_minor": 0
      },
      "text/plain": [
       "PROCESSING TASKS | :   0%|          | 0/18 [00:00<?, ?it/s]"
      ]
     },
     "metadata": {},
     "output_type": "display_data"
    },
    {
     "data": {
      "application/vnd.jupyter.widget-view+json": {
       "model_id": "e554843cd678405fa7796fc4f09ca0ed",
       "version_major": 2,
       "version_minor": 0
      },
      "text/plain": [
       "COLLECTING RESULTS | :   0%|          | 0/18 [00:00<?, ?it/s]"
      ]
     },
     "metadata": {},
     "output_type": "display_data"
    },
    {
     "name": "stdout",
     "output_type": "stream",
     "text": [
      "248\n",
      "11SKU\n",
      " Getting 1 granules, approx download size: 0.17 GB\n"
     ]
    },
    {
     "data": {
      "application/vnd.jupyter.widget-view+json": {
       "model_id": "b05b8760f94340bda9401c0a9e8dc145",
       "version_major": 2,
       "version_minor": 0
      },
      "text/plain": [
       "QUEUEING TASKS | :   0%|          | 0/15 [00:00<?, ?it/s]"
      ]
     },
     "metadata": {},
     "output_type": "display_data"
    },
    {
     "data": {
      "application/vnd.jupyter.widget-view+json": {
       "model_id": "3e95abb040b944d589a95d27776696f8",
       "version_major": 2,
       "version_minor": 0
      },
      "text/plain": [
       "PROCESSING TASKS | :   0%|          | 0/15 [00:00<?, ?it/s]"
      ]
     },
     "metadata": {},
     "output_type": "display_data"
    },
    {
     "data": {
      "application/vnd.jupyter.widget-view+json": {
       "model_id": "bf2c6a2910a94f1fa93bedb7c4f385b0",
       "version_major": 2,
       "version_minor": 0
      },
      "text/plain": [
       "COLLECTING RESULTS | :   0%|          | 0/15 [00:00<?, ?it/s]"
      ]
     },
     "metadata": {},
     "output_type": "display_data"
    },
    {
     "name": "stdout",
     "output_type": "stream",
     "text": [
      "249\n",
      "10SGD\n",
      " Getting 1 granules, approx download size: 0.17 GB\n"
     ]
    },
    {
     "data": {
      "application/vnd.jupyter.widget-view+json": {
       "model_id": "d39d52325671403e8f1592797195d995",
       "version_major": 2,
       "version_minor": 0
      },
      "text/plain": [
       "QUEUEING TASKS | :   0%|          | 0/15 [00:00<?, ?it/s]"
      ]
     },
     "metadata": {},
     "output_type": "display_data"
    },
    {
     "data": {
      "application/vnd.jupyter.widget-view+json": {
       "model_id": "a14f85eb8e874170bf3d7086247f1055",
       "version_major": 2,
       "version_minor": 0
      },
      "text/plain": [
       "PROCESSING TASKS | :   0%|          | 0/15 [00:00<?, ?it/s]"
      ]
     },
     "metadata": {},
     "output_type": "display_data"
    },
    {
     "data": {
      "application/vnd.jupyter.widget-view+json": {
       "model_id": "4d0b384698524fa096905682a97af392",
       "version_major": 2,
       "version_minor": 0
      },
      "text/plain": [
       "COLLECTING RESULTS | :   0%|          | 0/15 [00:00<?, ?it/s]"
      ]
     },
     "metadata": {},
     "output_type": "display_data"
    },
    {
     "name": "stdout",
     "output_type": "stream",
     "text": [
      "250\n",
      "11SKU\n",
      " Getting 1 granules, approx download size: 0.22 GB\n"
     ]
    },
    {
     "data": {
      "application/vnd.jupyter.widget-view+json": {
       "model_id": "1aed919c6297431eaaca862626a68acf",
       "version_major": 2,
       "version_minor": 0
      },
      "text/plain": [
       "QUEUEING TASKS | :   0%|          | 0/18 [00:00<?, ?it/s]"
      ]
     },
     "metadata": {},
     "output_type": "display_data"
    },
    {
     "data": {
      "application/vnd.jupyter.widget-view+json": {
       "model_id": "2bf21434076b400cb369a20b46c0b74b",
       "version_major": 2,
       "version_minor": 0
      },
      "text/plain": [
       "PROCESSING TASKS | :   0%|          | 0/18 [00:00<?, ?it/s]"
      ]
     },
     "metadata": {},
     "output_type": "display_data"
    },
    {
     "data": {
      "application/vnd.jupyter.widget-view+json": {
       "model_id": "9706c8b5a90740f5817b338e1d802132",
       "version_major": 2,
       "version_minor": 0
      },
      "text/plain": [
       "COLLECTING RESULTS | :   0%|          | 0/18 [00:00<?, ?it/s]"
      ]
     },
     "metadata": {},
     "output_type": "display_data"
    },
    {
     "name": "stdout",
     "output_type": "stream",
     "text": [
      "251\n",
      "10SGD\n",
      " Getting 1 granules, approx download size: 0.21 GB\n"
     ]
    },
    {
     "data": {
      "application/vnd.jupyter.widget-view+json": {
       "model_id": "4f863508b5694197a186cb1d18f88614",
       "version_major": 2,
       "version_minor": 0
      },
      "text/plain": [
       "QUEUEING TASKS | :   0%|          | 0/18 [00:00<?, ?it/s]"
      ]
     },
     "metadata": {},
     "output_type": "display_data"
    },
    {
     "data": {
      "application/vnd.jupyter.widget-view+json": {
       "model_id": "9492ea86ca724529868205986db9a8d6",
       "version_major": 2,
       "version_minor": 0
      },
      "text/plain": [
       "PROCESSING TASKS | :   0%|          | 0/18 [00:00<?, ?it/s]"
      ]
     },
     "metadata": {},
     "output_type": "display_data"
    },
    {
     "name": "stdout",
     "output_type": "stream",
     "text": [
      "Error while downloading the file HLS.S30.T10SGD.2018302T184501.v2.0.B02.tif\n",
      "Traceback (most recent call last):\n",
      "  File \"c:\\Users\\attic\\miniconda3\\envs\\hls_env\\lib\\site-packages\\urllib3\\connection.py\", line 174, in _new_conn\n",
      "    conn = connection.create_connection(\n",
      "  File \"c:\\Users\\attic\\miniconda3\\envs\\hls_env\\lib\\site-packages\\urllib3\\util\\connection.py\", line 72, in create_connection\n",
      "    for res in socket.getaddrinfo(host, port, family, socket.SOCK_STREAM):\n",
      "  File \"c:\\Users\\attic\\miniconda3\\envs\\hls_env\\lib\\socket.py\", line 954, in getaddrinfo\n",
      "    for res in _socket.getaddrinfo(host, port, family, type, proto, flags):\n",
      "socket.gaierror: [Errno 11001] getaddrinfo failed\n",
      "\n",
      "During handling of the above exception, another exception occurred:\n",
      "\n",
      "Traceback (most recent call last):\n",
      "  File \"c:\\Users\\attic\\miniconda3\\envs\\hls_env\\lib\\site-packages\\urllib3\\connectionpool.py\", line 715, in urlopen\n",
      "    httplib_response = self._make_request(\n",
      "  File \"c:\\Users\\attic\\miniconda3\\envs\\hls_env\\lib\\site-packages\\urllib3\\connectionpool.py\", line 404, in _make_request\n",
      "    self._validate_conn(conn)\n",
      "  File \"c:\\Users\\attic\\miniconda3\\envs\\hls_env\\lib\\site-packages\\urllib3\\connectionpool.py\", line 1060, in _validate_conn\n",
      "    conn.connect()\n",
      "  File \"c:\\Users\\attic\\miniconda3\\envs\\hls_env\\lib\\site-packages\\urllib3\\connection.py\", line 363, in connect\n",
      "    self.sock = conn = self._new_conn()\n",
      "  File \"c:\\Users\\attic\\miniconda3\\envs\\hls_env\\lib\\site-packages\\urllib3\\connection.py\", line 186, in _new_conn\n",
      "    raise NewConnectionError(\n",
      "urllib3.exceptions.NewConnectionError: <urllib3.connection.HTTPSConnection object at 0x000001DEB22371F0>: Failed to establish a new connection: [Errno 11001] getaddrinfo failed\n",
      "\n",
      "During handling of the above exception, another exception occurred:\n",
      "\n",
      "Traceback (most recent call last):\n",
      "  File \"c:\\Users\\attic\\miniconda3\\envs\\hls_env\\lib\\site-packages\\requests\\adapters.py\", line 589, in send\n",
      "    resp = conn.urlopen(\n",
      "  File \"c:\\Users\\attic\\miniconda3\\envs\\hls_env\\lib\\site-packages\\urllib3\\connectionpool.py\", line 801, in urlopen\n",
      "    retries = retries.increment(\n",
      "  File \"c:\\Users\\attic\\miniconda3\\envs\\hls_env\\lib\\site-packages\\urllib3\\util\\retry.py\", line 594, in increment\n",
      "    raise MaxRetryError(_pool, url, error or ResponseError(cause))\n",
      "urllib3.exceptions.MaxRetryError: HTTPSConnectionPool(host='d1nklfio7vscoe.cloudfront.net', port=443): Max retries exceeded with url: /s3-2d2df3a34830d5223d1e9547cd713408/lp-prod-protected.s3.us-west-2.amazonaws.com/HLSS30.020/HLS.S30.T10SGD.2018302T184501.v2.0/HLS.S30.T10SGD.2018302T184501.v2.0.B02.tif?A-userid=atticuscummings&Expires=1720793778&Signature=Q0GqWTYe7Jo9d4oXqgA0TF8sVdMo-K5nD19R1VDY0hej~-qJiFyBBd0U03u6uyHvOLRb2SdkGkMOgQLorQoxkSe6nZ3JvqM8SNs2U4QUth6T9I6iNvdFYNzk16~rn3OdB7JZT-arAWaTkrr5yOIcsDiIOdHvgmhD0v15w1zW7ss1jTSe-dsjZ8KSWMOLOPpAOqnjvI6dsNjr63sTPL1PmffZ3OaVnydZ~OCxOYfB7THbonNJyyvpfuNWnp74NSZIV9O1wNoi-V5pG19Ad-8WeHtRuuhfXrcTxXMXKrv~-7sXbB~gy23VPaG~OvzmFrUx4BaAyifHd0SsYzLOFhux6w__&Key-Pair-Id=K1PA740HKJLZ09 (Caused by NewConnectionError('<urllib3.connection.HTTPSConnection object at 0x000001DEB22371F0>: Failed to establish a new connection: [Errno 11001] getaddrinfo failed'))\n",
      "\n",
      "During handling of the above exception, another exception occurred:\n",
      "\n",
      "Traceback (most recent call last):\n",
      "  File \"c:\\Users\\attic\\miniconda3\\envs\\hls_env\\lib\\site-packages\\earthaccess\\store.py\", line 602, in _download_file\n",
      "    with session.get(\n",
      "  File \"c:\\Users\\attic\\miniconda3\\envs\\hls_env\\lib\\site-packages\\requests\\sessions.py\", line 602, in get\n",
      "    return self.request(\"GET\", url, **kwargs)\n",
      "  File \"c:\\Users\\attic\\miniconda3\\envs\\hls_env\\lib\\site-packages\\requests\\sessions.py\", line 589, in request\n",
      "    resp = self.send(prep, **send_kwargs)\n",
      "  File \"c:\\Users\\attic\\miniconda3\\envs\\hls_env\\lib\\site-packages\\requests\\sessions.py\", line 724, in send\n",
      "    history = [resp for resp in gen]\n",
      "  File \"c:\\Users\\attic\\miniconda3\\envs\\hls_env\\lib\\site-packages\\requests\\sessions.py\", line 724, in <listcomp>\n",
      "    history = [resp for resp in gen]\n",
      "  File \"c:\\Users\\attic\\miniconda3\\envs\\hls_env\\lib\\site-packages\\requests\\sessions.py\", line 265, in resolve_redirects\n",
      "    resp = self.send(\n",
      "  File \"c:\\Users\\attic\\miniconda3\\envs\\hls_env\\lib\\site-packages\\requests\\sessions.py\", line 703, in send\n",
      "    r = adapter.send(request, **kwargs)\n",
      "  File \"c:\\Users\\attic\\miniconda3\\envs\\hls_env\\lib\\site-packages\\requests\\adapters.py\", line 622, in send\n",
      "    raise ConnectionError(e, request=request)\n",
      "requests.exceptions.ConnectionError: HTTPSConnectionPool(host='d1nklfio7vscoe.cloudfront.net', port=443): Max retries exceeded with url: /s3-2d2df3a34830d5223d1e9547cd713408/lp-prod-protected.s3.us-west-2.amazonaws.com/HLSS30.020/HLS.S30.T10SGD.2018302T184501.v2.0/HLS.S30.T10SGD.2018302T184501.v2.0.B02.tif?A-userid=atticuscummings&Expires=1720793778&Signature=Q0GqWTYe7Jo9d4oXqgA0TF8sVdMo-K5nD19R1VDY0hej~-qJiFyBBd0U03u6uyHvOLRb2SdkGkMOgQLorQoxkSe6nZ3JvqM8SNs2U4QUth6T9I6iNvdFYNzk16~rn3OdB7JZT-arAWaTkrr5yOIcsDiIOdHvgmhD0v15w1zW7ss1jTSe-dsjZ8KSWMOLOPpAOqnjvI6dsNjr63sTPL1PmffZ3OaVnydZ~OCxOYfB7THbonNJyyvpfuNWnp74NSZIV9O1wNoi-V5pG19Ad-8WeHtRuuhfXrcTxXMXKrv~-7sXbB~gy23VPaG~OvzmFrUx4BaAyifHd0SsYzLOFhux6w__&Key-Pair-Id=K1PA740HKJLZ09 (Caused by NewConnectionError('<urllib3.connection.HTTPSConnection object at 0x000001DEB22371F0>: Failed to establish a new connection: [Errno 11001] getaddrinfo failed'))\n",
      "\n",
      "Error while downloading the file HLS.S30.T10SGD.2018302T184501.v2.0.VAA.tif\n",
      "Traceback (most recent call last):\n",
      "  File \"c:\\Users\\attic\\miniconda3\\envs\\hls_env\\lib\\site-packages\\urllib3\\connection.py\", line 174, in _new_conn\n",
      "    conn = connection.create_connection(\n",
      "  File \"c:\\Users\\attic\\miniconda3\\envs\\hls_env\\lib\\site-packages\\urllib3\\util\\connection.py\", line 72, in create_connection\n",
      "    for res in socket.getaddrinfo(host, port, family, socket.SOCK_STREAM):\n",
      "  File \"c:\\Users\\attic\\miniconda3\\envs\\hls_env\\lib\\socket.py\", line 954, in getaddrinfo\n",
      "    for res in _socket.getaddrinfo(host, port, family, type, proto, flags):\n",
      "socket.gaierror: [Errno 11001] getaddrinfo failed\n",
      "\n",
      "During handling of the above exception, another exception occurred:\n",
      "\n",
      "Traceback (most recent call last):\n",
      "  File \"c:\\Users\\attic\\miniconda3\\envs\\hls_env\\lib\\site-packages\\urllib3\\connectionpool.py\", line 715, in urlopen\n",
      "    httplib_response = self._make_request(\n",
      "  File \"c:\\Users\\attic\\miniconda3\\envs\\hls_env\\lib\\site-packages\\urllib3\\connectionpool.py\", line 404, in _make_request\n",
      "    self._validate_conn(conn)\n",
      "  File \"c:\\Users\\attic\\miniconda3\\envs\\hls_env\\lib\\site-packages\\urllib3\\connectionpool.py\", line 1060, in _validate_conn\n",
      "    conn.connect()\n",
      "  File \"c:\\Users\\attic\\miniconda3\\envs\\hls_env\\lib\\site-packages\\urllib3\\connection.py\", line 363, in connect\n",
      "    self.sock = conn = self._new_conn()\n",
      "  File \"c:\\Users\\attic\\miniconda3\\envs\\hls_env\\lib\\site-packages\\urllib3\\connection.py\", line 186, in _new_conn\n",
      "    raise NewConnectionError(\n",
      "urllib3.exceptions.NewConnectionError: <urllib3.connection.HTTPSConnection object at 0x000001DEB2237BB0>: Failed to establish a new connection: [Errno 11001] getaddrinfo failed\n",
      "\n",
      "During handling of the above exception, another exception occurred:\n",
      "\n",
      "Traceback (most recent call last):\n",
      "  File \"c:\\Users\\attic\\miniconda3\\envs\\hls_env\\lib\\site-packages\\requests\\adapters.py\", line 589, in send\n",
      "    resp = conn.urlopen(\n",
      "  File \"c:\\Users\\attic\\miniconda3\\envs\\hls_env\\lib\\site-packages\\urllib3\\connectionpool.py\", line 801, in urlopen\n",
      "    retries = retries.increment(\n",
      "  File \"c:\\Users\\attic\\miniconda3\\envs\\hls_env\\lib\\site-packages\\urllib3\\util\\retry.py\", line 594, in increment\n",
      "    raise MaxRetryError(_pool, url, error or ResponseError(cause))\n",
      "urllib3.exceptions.MaxRetryError: HTTPSConnectionPool(host='data.lpdaac.earthdatacloud.nasa.gov', port=443): Max retries exceeded with url: /lp-prod-protected/HLSS30.020/HLS.S30.T10SGD.2018302T184501.v2.0/HLS.S30.T10SGD.2018302T184501.v2.0.VAA.tif (Caused by NewConnectionError('<urllib3.connection.HTTPSConnection object at 0x000001DEB2237BB0>: Failed to establish a new connection: [Errno 11001] getaddrinfo failed'))\n",
      "\n",
      "During handling of the above exception, another exception occurred:\n",
      "\n",
      "Traceback (most recent call last):\n",
      "  File \"c:\\Users\\attic\\miniconda3\\envs\\hls_env\\lib\\site-packages\\earthaccess\\store.py\", line 602, in _download_file\n",
      "    with session.get(\n",
      "  File \"c:\\Users\\attic\\miniconda3\\envs\\hls_env\\lib\\site-packages\\requests\\sessions.py\", line 602, in get\n",
      "    return self.request(\"GET\", url, **kwargs)\n",
      "  File \"c:\\Users\\attic\\miniconda3\\envs\\hls_env\\lib\\site-packages\\requests\\sessions.py\", line 589, in request\n",
      "    resp = self.send(prep, **send_kwargs)\n",
      "  File \"c:\\Users\\attic\\miniconda3\\envs\\hls_env\\lib\\site-packages\\requests\\sessions.py\", line 703, in send\n",
      "    r = adapter.send(request, **kwargs)\n",
      "  File \"c:\\Users\\attic\\miniconda3\\envs\\hls_env\\lib\\site-packages\\requests\\adapters.py\", line 622, in send\n",
      "    raise ConnectionError(e, request=request)\n",
      "requests.exceptions.ConnectionError: HTTPSConnectionPool(host='data.lpdaac.earthdatacloud.nasa.gov', port=443): Max retries exceeded with url: /lp-prod-protected/HLSS30.020/HLS.S30.T10SGD.2018302T184501.v2.0/HLS.S30.T10SGD.2018302T184501.v2.0.VAA.tif (Caused by NewConnectionError('<urllib3.connection.HTTPSConnection object at 0x000001DEB2237BB0>: Failed to establish a new connection: [Errno 11001] getaddrinfo failed'))\n",
      "\n",
      "Error while downloading the file HLS.S30.T10SGD.2018302T184501.v2.0.SZA.tif\n",
      "Traceback (most recent call last):\n",
      "  File \"c:\\Users\\attic\\miniconda3\\envs\\hls_env\\lib\\site-packages\\urllib3\\connection.py\", line 174, in _new_conn\n",
      "    conn = connection.create_connection(\n",
      "  File \"c:\\Users\\attic\\miniconda3\\envs\\hls_env\\lib\\site-packages\\urllib3\\util\\connection.py\", line 72, in create_connection\n",
      "    for res in socket.getaddrinfo(host, port, family, socket.SOCK_STREAM):\n",
      "  File \"c:\\Users\\attic\\miniconda3\\envs\\hls_env\\lib\\socket.py\", line 954, in getaddrinfo\n",
      "    for res in _socket.getaddrinfo(host, port, family, type, proto, flags):\n",
      "socket.gaierror: [Errno 11001] getaddrinfo failed\n",
      "\n",
      "During handling of the above exception, another exception occurred:\n",
      "\n",
      "Traceback (most recent call last):\n",
      "  File \"c:\\Users\\attic\\miniconda3\\envs\\hls_env\\lib\\site-packages\\urllib3\\connectionpool.py\", line 715, in urlopen\n",
      "    httplib_response = self._make_request(\n",
      "  File \"c:\\Users\\attic\\miniconda3\\envs\\hls_env\\lib\\site-packages\\urllib3\\connectionpool.py\", line 404, in _make_request\n",
      "    self._validate_conn(conn)\n",
      "  File \"c:\\Users\\attic\\miniconda3\\envs\\hls_env\\lib\\site-packages\\urllib3\\connectionpool.py\", line 1060, in _validate_conn\n",
      "    conn.connect()\n",
      "  File \"c:\\Users\\attic\\miniconda3\\envs\\hls_env\\lib\\site-packages\\urllib3\\connection.py\", line 363, in connect\n",
      "    self.sock = conn = self._new_conn()\n",
      "  File \"c:\\Users\\attic\\miniconda3\\envs\\hls_env\\lib\\site-packages\\urllib3\\connection.py\", line 186, in _new_conn\n",
      "    raise NewConnectionError(\n",
      "urllib3.exceptions.NewConnectionError: <urllib3.connection.HTTPSConnection object at 0x000001DEB22B1430>: Failed to establish a new connection: [Errno 11001] getaddrinfo failed\n",
      "\n",
      "During handling of the above exception, another exception occurred:\n",
      "\n",
      "Traceback (most recent call last):\n",
      "  File \"c:\\Users\\attic\\miniconda3\\envs\\hls_env\\lib\\site-packages\\requests\\adapters.py\", line 589, in send\n",
      "    resp = conn.urlopen(\n",
      "  File \"c:\\Users\\attic\\miniconda3\\envs\\hls_env\\lib\\site-packages\\urllib3\\connectionpool.py\", line 801, in urlopen\n",
      "    retries = retries.increment(\n",
      "  File \"c:\\Users\\attic\\miniconda3\\envs\\hls_env\\lib\\site-packages\\urllib3\\util\\retry.py\", line 594, in increment\n",
      "    raise MaxRetryError(_pool, url, error or ResponseError(cause))\n",
      "urllib3.exceptions.MaxRetryError: HTTPSConnectionPool(host='data.lpdaac.earthdatacloud.nasa.gov', port=443): Max retries exceeded with url: /lp-prod-protected/HLSS30.020/HLS.S30.T10SGD.2018302T184501.v2.0/HLS.S30.T10SGD.2018302T184501.v2.0.SZA.tif (Caused by NewConnectionError('<urllib3.connection.HTTPSConnection object at 0x000001DEB22B1430>: Failed to establish a new connection: [Errno 11001] getaddrinfo failed'))\n",
      "\n",
      "During handling of the above exception, another exception occurred:\n",
      "\n",
      "Traceback (most recent call last):\n",
      "  File \"c:\\Users\\attic\\miniconda3\\envs\\hls_env\\lib\\site-packages\\earthaccess\\store.py\", line 602, in _download_file\n",
      "    with session.get(\n",
      "  File \"c:\\Users\\attic\\miniconda3\\envs\\hls_env\\lib\\site-packages\\requests\\sessions.py\", line 602, in get\n",
      "    return self.request(\"GET\", url, **kwargs)\n",
      "  File \"c:\\Users\\attic\\miniconda3\\envs\\hls_env\\lib\\site-packages\\requests\\sessions.py\", line 589, in request\n",
      "    resp = self.send(prep, **send_kwargs)\n",
      "  File \"c:\\Users\\attic\\miniconda3\\envs\\hls_env\\lib\\site-packages\\requests\\sessions.py\", line 703, in send\n",
      "    r = adapter.send(request, **kwargs)\n",
      "  File \"c:\\Users\\attic\\miniconda3\\envs\\hls_env\\lib\\site-packages\\requests\\adapters.py\", line 622, in send\n",
      "    raise ConnectionError(e, request=request)\n",
      "requests.exceptions.ConnectionError: HTTPSConnectionPool(host='data.lpdaac.earthdatacloud.nasa.gov', port=443): Max retries exceeded with url: /lp-prod-protected/HLSS30.020/HLS.S30.T10SGD.2018302T184501.v2.0/HLS.S30.T10SGD.2018302T184501.v2.0.SZA.tif (Caused by NewConnectionError('<urllib3.connection.HTTPSConnection object at 0x000001DEB22B1430>: Failed to establish a new connection: [Errno 11001] getaddrinfo failed'))\n",
      "\n",
      "Error while downloading the file HLS.S30.T10SGD.2018302T184501.v2.0.SAA.tif\n",
      "Traceback (most recent call last):\n",
      "  File \"c:\\Users\\attic\\miniconda3\\envs\\hls_env\\lib\\site-packages\\urllib3\\connection.py\", line 174, in _new_conn\n",
      "    conn = connection.create_connection(\n",
      "  File \"c:\\Users\\attic\\miniconda3\\envs\\hls_env\\lib\\site-packages\\urllib3\\util\\connection.py\", line 72, in create_connection\n",
      "    for res in socket.getaddrinfo(host, port, family, socket.SOCK_STREAM):\n",
      "  File \"c:\\Users\\attic\\miniconda3\\envs\\hls_env\\lib\\socket.py\", line 954, in getaddrinfo\n",
      "    for res in _socket.getaddrinfo(host, port, family, type, proto, flags):\n",
      "socket.gaierror: [Errno 11001] getaddrinfo failed\n",
      "\n",
      "During handling of the above exception, another exception occurred:\n",
      "\n",
      "Traceback (most recent call last):\n",
      "  File \"c:\\Users\\attic\\miniconda3\\envs\\hls_env\\lib\\site-packages\\urllib3\\connectionpool.py\", line 715, in urlopen\n",
      "    httplib_response = self._make_request(\n",
      "  File \"c:\\Users\\attic\\miniconda3\\envs\\hls_env\\lib\\site-packages\\urllib3\\connectionpool.py\", line 404, in _make_request\n",
      "    self._validate_conn(conn)\n",
      "  File \"c:\\Users\\attic\\miniconda3\\envs\\hls_env\\lib\\site-packages\\urllib3\\connectionpool.py\", line 1060, in _validate_conn\n",
      "    conn.connect()\n",
      "  File \"c:\\Users\\attic\\miniconda3\\envs\\hls_env\\lib\\site-packages\\urllib3\\connection.py\", line 363, in connect\n",
      "    self.sock = conn = self._new_conn()\n",
      "  File \"c:\\Users\\attic\\miniconda3\\envs\\hls_env\\lib\\site-packages\\urllib3\\connection.py\", line 186, in _new_conn\n",
      "    raise NewConnectionError(\n",
      "urllib3.exceptions.NewConnectionError: <urllib3.connection.HTTPSConnection object at 0x000001DEB22B1D30>: Failed to establish a new connection: [Errno 11001] getaddrinfo failed\n",
      "\n",
      "During handling of the above exception, another exception occurred:\n",
      "\n",
      "Traceback (most recent call last):\n",
      "  File \"c:\\Users\\attic\\miniconda3\\envs\\hls_env\\lib\\site-packages\\requests\\adapters.py\", line 589, in send\n",
      "    resp = conn.urlopen(\n",
      "  File \"c:\\Users\\attic\\miniconda3\\envs\\hls_env\\lib\\site-packages\\urllib3\\connectionpool.py\", line 801, in urlopen\n",
      "    retries = retries.increment(\n",
      "  File \"c:\\Users\\attic\\miniconda3\\envs\\hls_env\\lib\\site-packages\\urllib3\\util\\retry.py\", line 594, in increment\n",
      "    raise MaxRetryError(_pool, url, error or ResponseError(cause))\n",
      "urllib3.exceptions.MaxRetryError: HTTPSConnectionPool(host='data.lpdaac.earthdatacloud.nasa.gov', port=443): Max retries exceeded with url: /lp-prod-protected/HLSS30.020/HLS.S30.T10SGD.2018302T184501.v2.0/HLS.S30.T10SGD.2018302T184501.v2.0.SAA.tif (Caused by NewConnectionError('<urllib3.connection.HTTPSConnection object at 0x000001DEB22B1D30>: Failed to establish a new connection: [Errno 11001] getaddrinfo failed'))\n",
      "\n",
      "During handling of the above exception, another exception occurred:\n",
      "\n",
      "Traceback (most recent call last):\n",
      "  File \"c:\\Users\\attic\\miniconda3\\envs\\hls_env\\lib\\site-packages\\earthaccess\\store.py\", line 602, in _download_file\n",
      "    with session.get(\n",
      "  File \"c:\\Users\\attic\\miniconda3\\envs\\hls_env\\lib\\site-packages\\requests\\sessions.py\", line 602, in get\n",
      "    return self.request(\"GET\", url, **kwargs)\n",
      "  File \"c:\\Users\\attic\\miniconda3\\envs\\hls_env\\lib\\site-packages\\requests\\sessions.py\", line 589, in request\n",
      "    resp = self.send(prep, **send_kwargs)\n",
      "  File \"c:\\Users\\attic\\miniconda3\\envs\\hls_env\\lib\\site-packages\\requests\\sessions.py\", line 703, in send\n",
      "    r = adapter.send(request, **kwargs)\n",
      "  File \"c:\\Users\\attic\\miniconda3\\envs\\hls_env\\lib\\site-packages\\requests\\adapters.py\", line 622, in send\n",
      "    raise ConnectionError(e, request=request)\n",
      "requests.exceptions.ConnectionError: HTTPSConnectionPool(host='data.lpdaac.earthdatacloud.nasa.gov', port=443): Max retries exceeded with url: /lp-prod-protected/HLSS30.020/HLS.S30.T10SGD.2018302T184501.v2.0/HLS.S30.T10SGD.2018302T184501.v2.0.SAA.tif (Caused by NewConnectionError('<urllib3.connection.HTTPSConnection object at 0x000001DEB22B1D30>: Failed to establish a new connection: [Errno 11001] getaddrinfo failed'))\n",
      "\n"
     ]
    }
   ],
   "source": [
    "folder_path = os.path.join(os.getcwd(),(f'imagery/{location}'))\n",
    "if not os.path.isfile(os.path.join(folder_path, dem_name)):\n",
    "        dem_path = earthaccess.download(dem_results[0], local_path=folder_path)\n",
    "        os.rename(dem_path[0], os.path.join(folder_path,'dem.tif'))\n",
    "        os.rename(dem_path[1], os.path.join(folder_path, 'num.tif'))\n",
    "if not os.path.isdir(folder_path):\n",
    "    os.mkdir(folder_path)\n",
    "for i, granule in enumerate(results):\n",
    "    print(i)\n",
    "    if i > 300:\n",
    "        break\n",
    "    json_str = json.dumps(granule.__dict__)\n",
    "    metadata = json.loads(json_str) \n",
    "    meta = metadata['render_dict']['meta']\n",
    "    name = meta['native-id']\n",
    "\n",
    "    #For some reason, attributes are parsed into a list in the HLS metadata. This reformats it into a dictionary.\n",
    "    attributes_list = metadata['render_dict']['umm']['AdditionalAttributes']\n",
    "\n",
    "    attributes = {attr['Name']: attr['Values'][0] for attr in attributes_list}\n",
    "    print(attributes['MGRS_TILE_ID'])\n",
    "    if not attributes['MGRS_TILE_ID'] == '11SKU':\n",
    "        pass\n",
    "\n",
    "    if(int(attributes['CLOUD_COVERAGE']) > 50): #Reject granules with large cloud cover, for now\n",
    "        pass\n",
    "    time = attributes['SENSING_TIME']\n",
    "    tile_folder = attributes['MGRS_TILE_ID']\n",
    "    tile_path = os.path.join(folder_path,tile_folder)\n",
    "    if not os.path.isdir(tile_path):\n",
    "         os.mkdir(tile_path)\n",
    "    folder_name = (f'{name}')\n",
    "    file_path = os.path.join(tile_path,folder_name)\n",
    "    if not os.path.isdir(file_path):\n",
    "        os.mkdir(file_path) #Make folder for granule \n",
    "\n",
    "    downloadPath = earthaccess.download(granule, local_path=file_path, threads=4)\n",
    "    csv_file = os.path.join(file_path, (f'{folder_name}_metadata.csv'))\n",
    "    metadata_full_dict = {**attributes, **meta}\n",
    "    metadata_full_dict['data_vis_url'] = granule.dataviz_links()\n",
    "\n",
    "    with open(csv_file, 'w', newline='') as file:\n",
    "        writer = csv.writer(file)\n",
    "        writer.writerow(metadata_full_dict.keys())\n",
    "        writer.writerow(metadata_full_dict.values())\n",
    "\n",
    "\n"
   ]
  }
 ],
 "metadata": {
  "kernelspec": {
   "display_name": "hls_env",
   "language": "python",
   "name": "python3"
  },
  "language_info": {
   "codemirror_mode": {
    "name": "ipython",
    "version": 3
   },
   "file_extension": ".py",
   "mimetype": "text/x-python",
   "name": "python",
   "nbconvert_exporter": "python",
   "pygments_lexer": "ipython3",
   "version": "3.9.19"
  }
 },
 "nbformat": 4,
 "nbformat_minor": 2
}
