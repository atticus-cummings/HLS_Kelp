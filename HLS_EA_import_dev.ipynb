{
 "cells": [
  {
   "cell_type": "code",
   "execution_count": 3,
   "metadata": {},
   "outputs": [],
   "source": [
    "#Import libraries\n",
    "import os\n",
    "import pandas as pd\n",
    "import geopandas as gp\n",
    "from skimage import io\n",
    "import matplotlib.pyplot as plt\n",
    "from osgeo import gdal\n",
    "import json\n",
    "import csv\n",
    "import earthaccess\n"
   ]
  },
  {
   "cell_type": "code",
   "execution_count": 4,
   "metadata": {},
   "outputs": [
    {
     "data": {
      "text/plain": [
       "<earthaccess.auth.Auth at 0x1cb351b5b50>"
      ]
     },
     "execution_count": 4,
     "metadata": {},
     "output_type": "execute_result"
    }
   ],
   "source": [
    "#Login\n",
    "earthaccess.login(persist=True)"
   ]
  },
  {
   "cell_type": "code",
   "execution_count": 5,
   "metadata": {},
   "outputs": [
    {
     "data": {
      "text/plain": [
       "'Isla_Vista_Kelp'"
      ]
     },
     "execution_count": 5,
     "metadata": {},
     "output_type": "execute_result"
    }
   ],
   "source": [
    "#Set desired time and location\n",
    "\n",
    "field = gp.read_file('./Isla_Vista_Kelp.geojson')\n",
    "bbox = tuple(list(field.total_bounds))\n",
    "bbox #Display coordinate bounds\n",
    "with open('./Isla_Vista_Kelp.geojson', 'r') as f:\n",
    "    data = json.load(f)\n",
    "# Extract the name\n",
    "location = (data['name']).replace('.kmz', '').replace(' ', '_')\n",
    "temporal = (\"2017-06-01T00:00:00\", \"2018-01-01T00:00:00\") #\n",
    "location"
   ]
  },
  {
   "cell_type": "code",
   "execution_count": 10,
   "metadata": {},
   "outputs": [
    {
     "name": "stdout",
     "output_type": "stream",
     "text": [
      "Granules found: 84\n",
      "Granules found: 1\n",
      "Collection: {'EntryTitle': 'HLS Sentinel-2 Multi-spectral Instrument Surface Reflectance Daily Global 30m v2.0'}\n",
      "Spatial coverage: {'HorizontalSpatialDomain': {'Geometry': {'GPolygons': [{'Boundary': {'Points': [{'Longitude': -120.25585253, 'Latitude': 34.20967567}, {'Longitude': -119.06537353, 'Latitude': 34.23552162}, {'Longitude': -119.09014717, 'Latitude': 35.2250277}, {'Longitude': -120.29518354, 'Latitude': 35.19820772}, {'Longitude': -120.25585253, 'Latitude': 34.20967567}]}}]}}}\n",
      "Temporal coverage: {'RangeDateTime': {'BeginningDateTime': '2017-06-06T18:52:54.820Z', 'EndingDateTime': '2017-06-06T18:52:54.820Z'}}\n",
      "Size(MB): 218.70975589752197\n",
      "Data: ['https://data.lpdaac.earthdatacloud.nasa.gov/lp-prod-protected/HLSS30.020/HLS.S30.T11SKU.2017157T183921.v2.0/HLS.S30.T11SKU.2017157T183921.v2.0.Fmask.tif', 'https://data.lpdaac.earthdatacloud.nasa.gov/lp-prod-protected/HLSS30.020/HLS.S30.T11SKU.2017157T183921.v2.0/HLS.S30.T11SKU.2017157T183921.v2.0.B09.tif', 'https://data.lpdaac.earthdatacloud.nasa.gov/lp-prod-protected/HLSS30.020/HLS.S30.T11SKU.2017157T183921.v2.0/HLS.S30.T11SKU.2017157T183921.v2.0.B11.tif', 'https://data.lpdaac.earthdatacloud.nasa.gov/lp-prod-protected/HLSS30.020/HLS.S30.T11SKU.2017157T183921.v2.0/HLS.S30.T11SKU.2017157T183921.v2.0.B07.tif', 'https://data.lpdaac.earthdatacloud.nasa.gov/lp-prod-protected/HLSS30.020/HLS.S30.T11SKU.2017157T183921.v2.0/HLS.S30.T11SKU.2017157T183921.v2.0.B10.tif', 'https://data.lpdaac.earthdatacloud.nasa.gov/lp-prod-protected/HLSS30.020/HLS.S30.T11SKU.2017157T183921.v2.0/HLS.S30.T11SKU.2017157T183921.v2.0.B06.tif', 'https://data.lpdaac.earthdatacloud.nasa.gov/lp-prod-protected/HLSS30.020/HLS.S30.T11SKU.2017157T183921.v2.0/HLS.S30.T11SKU.2017157T183921.v2.0.B01.tif', 'https://data.lpdaac.earthdatacloud.nasa.gov/lp-prod-protected/HLSS30.020/HLS.S30.T11SKU.2017157T183921.v2.0/HLS.S30.T11SKU.2017157T183921.v2.0.B03.tif', 'https://data.lpdaac.earthdatacloud.nasa.gov/lp-prod-protected/HLSS30.020/HLS.S30.T11SKU.2017157T183921.v2.0/HLS.S30.T11SKU.2017157T183921.v2.0.SAA.tif', 'https://data.lpdaac.earthdatacloud.nasa.gov/lp-prod-protected/HLSS30.020/HLS.S30.T11SKU.2017157T183921.v2.0/HLS.S30.T11SKU.2017157T183921.v2.0.B12.tif', 'https://data.lpdaac.earthdatacloud.nasa.gov/lp-prod-protected/HLSS30.020/HLS.S30.T11SKU.2017157T183921.v2.0/HLS.S30.T11SKU.2017157T183921.v2.0.VAA.tif', 'https://data.lpdaac.earthdatacloud.nasa.gov/lp-prod-protected/HLSS30.020/HLS.S30.T11SKU.2017157T183921.v2.0/HLS.S30.T11SKU.2017157T183921.v2.0.B04.tif', 'https://data.lpdaac.earthdatacloud.nasa.gov/lp-prod-protected/HLSS30.020/HLS.S30.T11SKU.2017157T183921.v2.0/HLS.S30.T11SKU.2017157T183921.v2.0.B02.tif', 'https://data.lpdaac.earthdatacloud.nasa.gov/lp-prod-protected/HLSS30.020/HLS.S30.T11SKU.2017157T183921.v2.0/HLS.S30.T11SKU.2017157T183921.v2.0.B05.tif', 'https://data.lpdaac.earthdatacloud.nasa.gov/lp-prod-protected/HLSS30.020/HLS.S30.T11SKU.2017157T183921.v2.0/HLS.S30.T11SKU.2017157T183921.v2.0.B8A.tif', 'https://data.lpdaac.earthdatacloud.nasa.gov/lp-prod-protected/HLSS30.020/HLS.S30.T11SKU.2017157T183921.v2.0/HLS.S30.T11SKU.2017157T183921.v2.0.B08.tif', 'https://data.lpdaac.earthdatacloud.nasa.gov/lp-prod-protected/HLSS30.020/HLS.S30.T11SKU.2017157T183921.v2.0/HLS.S30.T11SKU.2017157T183921.v2.0.SZA.tif', 'https://data.lpdaac.earthdatacloud.nasa.gov/lp-prod-protected/HLSS30.020/HLS.S30.T11SKU.2017157T183921.v2.0/HLS.S30.T11SKU.2017157T183921.v2.0.VZA.tif']\n",
      "Collection: {'ShortName': 'ASTGTM', 'Version': '003'}\n",
      "Spatial coverage: {'HorizontalSpatialDomain': {'Geometry': {'BoundingRectangles': [{'WestBoundingCoordinate': -120.0001389, 'EastBoundingCoordinate': -118.9998611, 'NorthBoundingCoordinate': 35.0001389, 'SouthBoundingCoordinate': 33.9998611}]}}}\n",
      "Temporal coverage: {'RangeDateTime': {'BeginningDateTime': '2000-03-01T00:00:00.000Z', 'EndingDateTime': '2013-11-30T23:59:59.000Z'}}\n",
      "Size(MB): 19.1409\n",
      "Data: ['https://data.lpdaac.earthdatacloud.nasa.gov/lp-prod-protected/ASTGTM.003/ASTGTMV003_N34W120_dem.tif', 'https://data.lpdaac.earthdatacloud.nasa.gov/lp-prod-protected/ASTGTM.003/ASTGTMV003_N34W120_num.tif']\n"
     ]
    }
   ],
   "source": [
    "#Search for satellite data from  Landsat 30m and Sentinel 30m\n",
    "results = earthaccess.search_data(\n",
    "    short_name=['HLSL30','HLSS30'],\n",
    "    bounding_box=bbox,\n",
    "    temporal=temporal,\n",
    "    cloud_cover=.05,\n",
    "    count=-1\n",
    ")\n",
    "\n",
    "dem_results = earthaccess.search_data(\n",
    "    short_name=\"ASTGTM\",\n",
    "    bounding_box=bbox)\n",
    "\n",
    "print(results[0])\n",
    "print(dem_results[0])"
   ]
  },
  {
   "cell_type": "code",
   "execution_count": 14,
   "metadata": {},
   "outputs": [
    {
     "name": "stdout",
     "output_type": "stream",
     "text": [
      " Getting 1 granules, approx download size: 0.02 GB\n"
     ]
    },
    {
     "data": {
      "application/vnd.jupyter.widget-view+json": {
       "model_id": "ca0baf37415b43c2b3cbec752d9b72c8",
       "version_major": 2,
       "version_minor": 0
      },
      "text/plain": [
       "QUEUEING TASKS | :   0%|          | 0/2 [00:00<?, ?it/s]"
      ]
     },
     "metadata": {},
     "output_type": "display_data"
    },
    {
     "data": {
      "application/vnd.jupyter.widget-view+json": {
       "model_id": "54071b807b2b48e3a6de67a85d85bedf",
       "version_major": 2,
       "version_minor": 0
      },
      "text/plain": [
       "PROCESSING TASKS | :   0%|          | 0/2 [00:00<?, ?it/s]"
      ]
     },
     "metadata": {},
     "output_type": "display_data"
    },
    {
     "data": {
      "application/vnd.jupyter.widget-view+json": {
       "model_id": "766d9bec8f384cad8ca22d49b6578a3b",
       "version_major": 2,
       "version_minor": 0
      },
      "text/plain": [
       "COLLECTING RESULTS | :   0%|          | 0/2 [00:00<?, ?it/s]"
      ]
     },
     "metadata": {},
     "output_type": "display_data"
    },
    {
     "name": "stdout",
     "output_type": "stream",
     "text": [
      " Getting 1 granules, approx download size: 0.21 GB\n"
     ]
    },
    {
     "data": {
      "application/vnd.jupyter.widget-view+json": {
       "model_id": "570c1451fb9144a48bd7db271308c51e",
       "version_major": 2,
       "version_minor": 0
      },
      "text/plain": [
       "QUEUEING TASKS | :   0%|          | 0/18 [00:00<?, ?it/s]"
      ]
     },
     "metadata": {},
     "output_type": "display_data"
    },
    {
     "name": "stdout",
     "output_type": "stream",
     "text": [
      "File HLS.S30.T11SKU.2017157T183921.v2.0.Fmask.tif already downloaded\n",
      "File HLS.S30.T11SKU.2017157T183921.v2.0.B09.tif already downloaded\n",
      "File HLS.S30.T11SKU.2017157T183921.v2.0.B11.tif already downloaded\n",
      "File HLS.S30.T11SKU.2017157T183921.v2.0.B07.tif already downloaded\n",
      "File HLS.S30.T11SKU.2017157T183921.v2.0.B10.tif already downloaded\n",
      "File HLS.S30.T11SKU.2017157T183921.v2.0.B01.tif already downloaded\n",
      "File HLS.S30.T11SKU.2017157T183921.v2.0.B06.tif already downloaded\n",
      "File HLS.S30.T11SKU.2017157T183921.v2.0.B03.tif already downloaded\n",
      "File HLS.S30.T11SKU.2017157T183921.v2.0.VAA.tif already downloaded\n",
      "File HLS.S30.T11SKU.2017157T183921.v2.0.B02.tif already downloaded\n",
      "File HLS.S30.T11SKU.2017157T183921.v2.0.B12.tif already downloaded\n",
      "File HLS.S30.T11SKU.2017157T183921.v2.0.B04.tif already downloaded\n",
      "File HLS.S30.T11SKU.2017157T183921.v2.0.SAA.tif already downloaded\n",
      "File HLS.S30.T11SKU.2017157T183921.v2.0.B05.tif already downloaded\n",
      "File HLS.S30.T11SKU.2017157T183921.v2.0.B08.tif already downloaded\n",
      "File HLS.S30.T11SKU.2017157T183921.v2.0.B8A.tif already downloaded\n",
      "File HLS.S30.T11SKU.2017157T183921.v2.0.VZA.tif already downloaded\n",
      "File HLS.S30.T11SKU.2017157T183921.v2.0.SZA.tif already downloaded\n"
     ]
    },
    {
     "data": {
      "application/vnd.jupyter.widget-view+json": {
       "model_id": "9651e5c433544ed2966e3012e40a460c",
       "version_major": 2,
       "version_minor": 0
      },
      "text/plain": [
       "PROCESSING TASKS | :   0%|          | 0/18 [00:00<?, ?it/s]"
      ]
     },
     "metadata": {},
     "output_type": "display_data"
    },
    {
     "data": {
      "application/vnd.jupyter.widget-view+json": {
       "model_id": "23e6132793374f218c2088b242ccddcf",
       "version_major": 2,
       "version_minor": 0
      },
      "text/plain": [
       "COLLECTING RESULTS | :   0%|          | 0/18 [00:00<?, ?it/s]"
      ]
     },
     "metadata": {},
     "output_type": "display_data"
    },
    {
     "name": "stdout",
     "output_type": "stream",
     "text": [
      " Getting 1 granules, approx download size: 0.22 GB\n"
     ]
    },
    {
     "data": {
      "application/vnd.jupyter.widget-view+json": {
       "model_id": "400f0664e5f74704ba7b4df76258966d",
       "version_major": 2,
       "version_minor": 0
      },
      "text/plain": [
       "QUEUEING TASKS | :   0%|          | 0/18 [00:00<?, ?it/s]"
      ]
     },
     "metadata": {},
     "output_type": "display_data"
    },
    {
     "name": "stdout",
     "output_type": "stream",
     "text": [
      "File HLS.S30.T10SGD.2017157T183921.v2.0.B02.tif already downloaded\n",
      "File HLS.S30.T10SGD.2017157T183921.v2.0.SZA.tif already downloaded\n",
      "File HLS.S30.T10SGD.2017157T183921.v2.0.B07.tif already downloaded\n",
      "File HLS.S30.T10SGD.2017157T183921.v2.0.B03.tif already downloaded\n",
      "File HLS.S30.T10SGD.2017157T183921.v2.0.B04.tif already downloaded\n",
      "File HLS.S30.T10SGD.2017157T183921.v2.0.VZA.tif already downloaded\n",
      "File HLS.S30.T10SGD.2017157T183921.v2.0.Fmask.tif already downloaded\n",
      "File HLS.S30.T10SGD.2017157T183921.v2.0.SAA.tif already downloaded\n",
      "File HLS.S30.T10SGD.2017157T183921.v2.0.B11.tif already downloaded\n",
      "File HLS.S30.T10SGD.2017157T183921.v2.0.B01.tif already downloaded\n",
      "File HLS.S30.T10SGD.2017157T183921.v2.0.VAA.tif already downloaded\n",
      "File HLS.S30.T10SGD.2017157T183921.v2.0.B12.tif already downloaded\n",
      "File HLS.S30.T10SGD.2017157T183921.v2.0.B09.tif already downloaded\n",
      "File HLS.S30.T10SGD.2017157T183921.v2.0.B10.tif already downloaded\n",
      "File HLS.S30.T10SGD.2017157T183921.v2.0.B8A.tif already downloaded\n",
      "File HLS.S30.T10SGD.2017157T183921.v2.0.B06.tif already downloaded\n",
      "File HLS.S30.T10SGD.2017157T183921.v2.0.B08.tif already downloaded\n",
      "File HLS.S30.T10SGD.2017157T183921.v2.0.B05.tif already downloaded\n"
     ]
    },
    {
     "data": {
      "application/vnd.jupyter.widget-view+json": {
       "model_id": "a0d766d7265f41389fe17d6c9f913df0",
       "version_major": 2,
       "version_minor": 0
      },
      "text/plain": [
       "PROCESSING TASKS | :   0%|          | 0/18 [00:00<?, ?it/s]"
      ]
     },
     "metadata": {},
     "output_type": "display_data"
    },
    {
     "data": {
      "application/vnd.jupyter.widget-view+json": {
       "model_id": "35873fac98844eef89a31b0851b629ce",
       "version_major": 2,
       "version_minor": 0
      },
      "text/plain": [
       "COLLECTING RESULTS | :   0%|          | 0/18 [00:00<?, ?it/s]"
      ]
     },
     "metadata": {},
     "output_type": "display_data"
    },
    {
     "name": "stdout",
     "output_type": "stream",
     "text": [
      " Getting 1 granules, approx download size: 0.17 GB\n"
     ]
    },
    {
     "data": {
      "application/vnd.jupyter.widget-view+json": {
       "model_id": "caef8569ba8a43e28d40ada59d0b0b2b",
       "version_major": 2,
       "version_minor": 0
      },
      "text/plain": [
       "QUEUEING TASKS | :   0%|          | 0/15 [00:00<?, ?it/s]"
      ]
     },
     "metadata": {},
     "output_type": "display_data"
    },
    {
     "name": "stdout",
     "output_type": "stream",
     "text": [
      "File HLS.L30.T10SGD.2017167T183413.v2.0.B06.tif already downloaded\n",
      "File HLS.L30.T10SGD.2017167T183413.v2.0.B09.tif already downloaded\n",
      "File HLS.L30.T10SGD.2017167T183413.v2.0.B05.tif already downloaded\n",
      "File HLS.L30.T10SGD.2017167T183413.v2.0.B01.tif already downloaded\n",
      "File HLS.L30.T10SGD.2017167T183413.v2.0.VAA.tif already downloaded\n",
      "File HLS.L30.T10SGD.2017167T183413.v2.0.B04.tif already downloaded\n",
      "File HLS.L30.T10SGD.2017167T183413.v2.0.B11.tif already downloaded\n",
      "File HLS.L30.T10SGD.2017167T183413.v2.0.Fmask.tif already downloaded\n",
      "File HLS.L30.T10SGD.2017167T183413.v2.0.B02.tif already downloaded\n",
      "File HLS.L30.T10SGD.2017167T183413.v2.0.VZA.tif already downloaded\n",
      "File HLS.L30.T10SGD.2017167T183413.v2.0.SZA.tif already downloaded\n",
      "File HLS.L30.T10SGD.2017167T183413.v2.0.SAA.tif already downloaded\n",
      "File HLS.L30.T10SGD.2017167T183413.v2.0.B07.tif already downloaded\n",
      "File HLS.L30.T10SGD.2017167T183413.v2.0.B03.tif already downloaded\n",
      "File HLS.L30.T10SGD.2017167T183413.v2.0.B10.tif already downloaded\n"
     ]
    },
    {
     "data": {
      "application/vnd.jupyter.widget-view+json": {
       "model_id": "f09fc29abeed4e87aa01aaa5b977178c",
       "version_major": 2,
       "version_minor": 0
      },
      "text/plain": [
       "PROCESSING TASKS | :   0%|          | 0/15 [00:00<?, ?it/s]"
      ]
     },
     "metadata": {},
     "output_type": "display_data"
    },
    {
     "data": {
      "application/vnd.jupyter.widget-view+json": {
       "model_id": "ca5fdfd3ff964ca385f715631f7a5faa",
       "version_major": 2,
       "version_minor": 0
      },
      "text/plain": [
       "COLLECTING RESULTS | :   0%|          | 0/15 [00:00<?, ?it/s]"
      ]
     },
     "metadata": {},
     "output_type": "display_data"
    }
   ],
   "source": [
    "folder_path = os.path.join(os.getcwd(),(f'imagery/{location}'))\n",
    "if not os.path.isfile(os.path.join(folder_path, dem_name)):\n",
    "        dem_path = earthaccess.download(dem_results[0], local_path=folder_path)\n",
    "        os.rename(dem_path[0], os.path.join(folder_path,'dem.tif'))\n",
    "        os.rename(dem_path[1], os.path.join(folder_path, 'num.tif'))\n",
    "if not os.path.isdir(folder_path):\n",
    "    os.mkdir(folder_path)\n",
    "for i, granule in enumerate(results):\n",
    "    if i > 2:\n",
    "        break\n",
    "    json_str = json.dumps(granule.__dict__)\n",
    "    metadata = json.loads(json_str) \n",
    "    meta = metadata['render_dict']['meta']\n",
    "    name = meta['native-id']\n",
    "\n",
    "    #For some reason, attributes are parsed into a list in the HLS metadata. This reformats it into a dictionary.\n",
    "    attributes_list = metadata['render_dict']['umm']['AdditionalAttributes']\n",
    "\n",
    "    attributes = {attr['Name']: attr['Values'][0] for attr in attributes_list}\n",
    "    if(int(attributes['CLOUD_COVERAGE']) < 10): #Reject granules with large cloud cover, for now\n",
    "        continue\n",
    "    time = attributes['SENSING_TIME']\n",
    "\n",
    "    folder_name = (f'{name}')\n",
    "    file_path = os.path.join(folder_path,folder_name)\n",
    "    if not os.path.isdir(file_path):\n",
    "        os.mkdir(file_path) #Make folder for granule \n",
    "\n",
    "    downloadPath = earthaccess.download(granule, local_path=file_path)\n",
    "    csv_file = os.path.join(file_path, (f'{folder_name}_metadata.csv'))\n",
    "    metadata_full_dict = {**attributes, **meta}\n",
    "    metadata_full_dict['data_vis_url'] = granule.dataviz_links()\n",
    "\n",
    "    with open(csv_file, 'w', newline='') as file:\n",
    "        writer = csv.writer(file)\n",
    "        writer.writerow(metadata_full_dict.keys())\n",
    "        writer.writerow(metadata_full_dict.values())\n",
    "\n",
    "\n"
   ]
  }
 ],
 "metadata": {
  "kernelspec": {
   "display_name": "hls_env",
   "language": "python",
   "name": "python3"
  },
  "language_info": {
   "codemirror_mode": {
    "name": "ipython",
    "version": 3
   },
   "file_extension": ".py",
   "mimetype": "text/x-python",
   "name": "python",
   "nbconvert_exporter": "python",
   "pygments_lexer": "ipython3",
   "version": "3.9.19"
  }
 },
 "nbformat": 4,
 "nbformat_minor": 2
}
