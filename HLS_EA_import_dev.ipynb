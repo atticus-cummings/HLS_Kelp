{
 "cells": [
  {
   "cell_type": "code",
   "execution_count": 1,
   "metadata": {},
   "outputs": [
    {
     "name": "stderr",
     "output_type": "stream",
     "text": [
      "/home/atticus/miniconda3/envs/hls-linux/lib/python3.9/site-packages/tqdm/auto.py:21: TqdmWarning: IProgress not found. Please update jupyter and ipywidgets. See https://ipywidgets.readthedocs.io/en/stable/user_install.html\n",
      "  from .autonotebook import tqdm as notebook_tqdm\n"
     ]
    }
   ],
   "source": [
    "#Import libraries\n",
    "import os\n",
    "import geopandas as gp\n",
    "import matplotlib.pyplot as plt\n",
    "import json\n",
    "from contextlib import redirect_stdout\n",
    "import csv\n",
    "import earthaccess\n"
   ]
  },
  {
   "cell_type": "code",
   "execution_count": 2,
   "metadata": {},
   "outputs": [
    {
     "data": {
      "text/plain": [
       "<earthaccess.auth.Auth at 0x7f0320e26ca0>"
      ]
     },
     "execution_count": 2,
     "metadata": {},
     "output_type": "execute_result"
    }
   ],
   "source": [
    "#Login\n",
    "earthaccess.login(persist=True)"
   ]
  },
  {
   "cell_type": "code",
   "execution_count": 3,
   "metadata": {},
   "outputs": [],
   "source": [
    "#Set time and location\n",
    "\n",
    "field = gp.read_file(r'/mnt/c/Users/attic/HLS_Kelp/maps/Isla_Vista_Kelp.geojson')\n",
    "bbox = tuple(list(field.total_bounds))\n",
    "bbox #Display coordinate bounds\n",
    "with open('/mnt/c/Users/attic/HLS_Kelp/maps/Isla_Vista_Kelp.geojson', 'r') as f:\n",
    "    data = json.load(f)\n",
    "# Extract the name\n",
    "location = 'Isla_vista_kelp_2018'#(data['name']).replace('.kmz', '').replace(' ', '_')\n",
    "temporal = (\"2018-01-01T00:00:00\", \"2019-01-01T00:00:00\") #\n",
    "create_dem = False # set true if u want a digital elevation map \n",
    "dem_name = 'dem.tif'\n",
    "\n",
    "num_to_download = 500 #set this value to the number of frames you want\n",
    "load_num = -1 #sets number of granules to load, this should generally be >> than num_download;  -1 loads all \n",
    "specific_tile = False #set true if you only want specific tile \n",
    "tile = '10SGD' # "
   ]
  },
  {
   "cell_type": "code",
   "execution_count": 4,
   "metadata": {},
   "outputs": [
    {
     "name": "stdout",
     "output_type": "stream",
     "text": [
      "Granules found: 183\n",
      "Collection: {'EntryTitle': 'HLS Sentinel-2 Multi-spectral Instrument Surface Reflectance Daily Global 30m v2.0'}\n",
      "Spatial coverage: {'HorizontalSpatialDomain': {'Geometry': {'GPolygons': [{'Boundary': {'Points': [{'Longitude': -120.25617766, 'Latitude': 34.20966703}, {'Longitude': -119.06537353, 'Latitude': 34.23552162}, {'Longitude': -119.09014717, 'Latitude': 35.2250277}, {'Longitude': -120.29518354, 'Latitude': 35.19820772}, {'Longitude': -120.25617766, 'Latitude': 34.20966703}]}}]}}}\n",
      "Temporal coverage: {'RangeDateTime': {'BeginningDateTime': '2018-01-02T18:54:21.450Z', 'EndingDateTime': '2018-01-02T18:54:21.450Z'}}\n",
      "Size(MB): 220.48974514007568\n",
      "Data: ['https://data.lpdaac.earthdatacloud.nasa.gov/lp-prod-protected/HLSS30.020/HLS.S30.T11SKU.2018002T185421.v2.0/HLS.S30.T11SKU.2018002T185421.v2.0.B05.tif', 'https://data.lpdaac.earthdatacloud.nasa.gov/lp-prod-protected/HLSS30.020/HLS.S30.T11SKU.2018002T185421.v2.0/HLS.S30.T11SKU.2018002T185421.v2.0.B03.tif', 'https://data.lpdaac.earthdatacloud.nasa.gov/lp-prod-protected/HLSS30.020/HLS.S30.T11SKU.2018002T185421.v2.0/HLS.S30.T11SKU.2018002T185421.v2.0.B06.tif', 'https://data.lpdaac.earthdatacloud.nasa.gov/lp-prod-protected/HLSS30.020/HLS.S30.T11SKU.2018002T185421.v2.0/HLS.S30.T11SKU.2018002T185421.v2.0.B12.tif', 'https://data.lpdaac.earthdatacloud.nasa.gov/lp-prod-protected/HLSS30.020/HLS.S30.T11SKU.2018002T185421.v2.0/HLS.S30.T11SKU.2018002T185421.v2.0.B07.tif', 'https://data.lpdaac.earthdatacloud.nasa.gov/lp-prod-protected/HLSS30.020/HLS.S30.T11SKU.2018002T185421.v2.0/HLS.S30.T11SKU.2018002T185421.v2.0.VZA.tif', 'https://data.lpdaac.earthdatacloud.nasa.gov/lp-prod-protected/HLSS30.020/HLS.S30.T11SKU.2018002T185421.v2.0/HLS.S30.T11SKU.2018002T185421.v2.0.B11.tif', 'https://data.lpdaac.earthdatacloud.nasa.gov/lp-prod-protected/HLSS30.020/HLS.S30.T11SKU.2018002T185421.v2.0/HLS.S30.T11SKU.2018002T185421.v2.0.B08.tif', 'https://data.lpdaac.earthdatacloud.nasa.gov/lp-prod-protected/HLSS30.020/HLS.S30.T11SKU.2018002T185421.v2.0/HLS.S30.T11SKU.2018002T185421.v2.0.SZA.tif', 'https://data.lpdaac.earthdatacloud.nasa.gov/lp-prod-protected/HLSS30.020/HLS.S30.T11SKU.2018002T185421.v2.0/HLS.S30.T11SKU.2018002T185421.v2.0.B8A.tif', 'https://data.lpdaac.earthdatacloud.nasa.gov/lp-prod-protected/HLSS30.020/HLS.S30.T11SKU.2018002T185421.v2.0/HLS.S30.T11SKU.2018002T185421.v2.0.B09.tif', 'https://data.lpdaac.earthdatacloud.nasa.gov/lp-prod-protected/HLSS30.020/HLS.S30.T11SKU.2018002T185421.v2.0/HLS.S30.T11SKU.2018002T185421.v2.0.SAA.tif', 'https://data.lpdaac.earthdatacloud.nasa.gov/lp-prod-protected/HLSS30.020/HLS.S30.T11SKU.2018002T185421.v2.0/HLS.S30.T11SKU.2018002T185421.v2.0.VAA.tif', 'https://data.lpdaac.earthdatacloud.nasa.gov/lp-prod-protected/HLSS30.020/HLS.S30.T11SKU.2018002T185421.v2.0/HLS.S30.T11SKU.2018002T185421.v2.0.B04.tif', 'https://data.lpdaac.earthdatacloud.nasa.gov/lp-prod-protected/HLSS30.020/HLS.S30.T11SKU.2018002T185421.v2.0/HLS.S30.T11SKU.2018002T185421.v2.0.B02.tif', 'https://data.lpdaac.earthdatacloud.nasa.gov/lp-prod-protected/HLSS30.020/HLS.S30.T11SKU.2018002T185421.v2.0/HLS.S30.T11SKU.2018002T185421.v2.0.Fmask.tif', 'https://data.lpdaac.earthdatacloud.nasa.gov/lp-prod-protected/HLSS30.020/HLS.S30.T11SKU.2018002T185421.v2.0/HLS.S30.T11SKU.2018002T185421.v2.0.B01.tif', 'https://data.lpdaac.earthdatacloud.nasa.gov/lp-prod-protected/HLSS30.020/HLS.S30.T11SKU.2018002T185421.v2.0/HLS.S30.T11SKU.2018002T185421.v2.0.B10.tif']\n"
     ]
    }
   ],
   "source": [
    "#Search for satellite data from  Landsat 30m and Sentinel 30m\n",
    "results = earthaccess.search_data(\n",
    "    short_name=['HLSL30','HLSS30'],\n",
    "    bounding_box=bbox,\n",
    "    temporal=temporal,\n",
    "     cloud_cover=0, #Determine cloud cover\n",
    "    count=load_num\n",
    ")\n",
    "if create_dem:\n",
    "    dem_results = earthaccess.search_data(\n",
    "        short_name=\"ASTGTM\",\n",
    "        bounding_box=bbox)\n",
    "    print(dem_results[0])\n",
    "\n",
    "print(results[0])\n"
   ]
  },
  {
   "cell_type": "code",
   "execution_count": 5,
   "metadata": {},
   "outputs": [
    {
     "name": "stdout",
     "output_type": "stream",
     "text": [
      "20\n"
     ]
    }
   ],
   "source": [
    "num_threads = os.cpu_count()\n",
    "print(num_threads)"
   ]
  },
  {
   "cell_type": "code",
   "execution_count": 6,
   "metadata": {},
   "outputs": [
    {
     "name": "stderr",
     "output_type": "stream",
     "text": [
      "QUEUEING TASKS | : 100%|██████████| 18/18 [00:00<00:00, 1657.10it/s]\n",
      "PROCESSING TASKS | :   0%|          | 0/18 [00:00<?, ?it/s]"
     ]
    },
    {
     "name": "stderr",
     "output_type": "stream",
     "text": [
      "PROCESSING TASKS | : 100%|██████████| 18/18 [00:16<00:00,  1.09it/s]\n",
      "COLLECTING RESULTS | : 100%|██████████| 18/18 [00:00<00:00, 53506.36it/s]\n",
      "QUEUEING TASKS | : 100%|██████████| 18/18 [00:00<00:00, 1999.93it/s]\n",
      "PROCESSING TASKS | :   0%|          | 0/18 [00:00<?, ?it/s]"
     ]
    },
    {
     "name": "stdout",
     "output_type": "stream",
     "text": [
      "HLS.S30.T11SKU.2018007T184739.v2.0\n"
     ]
    },
    {
     "name": "stderr",
     "output_type": "stream",
     "text": [
      "PROCESSING TASKS | : 100%|██████████| 18/18 [00:13<00:00,  1.34it/s]\n",
      "COLLECTING RESULTS | : 100%|██████████| 18/18 [00:00<00:00, 90200.09it/s]\n",
      "QUEUEING TASKS | : 100%|██████████| 15/15 [00:00<00:00, 1580.49it/s]\n",
      "PROCESSING TASKS | :   0%|          | 0/15 [00:00<?, ?it/s]"
     ]
    },
    {
     "name": "stdout",
     "output_type": "stream",
     "text": [
      "HLS.S30.T10SGD.2018007T184739.v2.0\n"
     ]
    },
    {
     "name": "stderr",
     "output_type": "stream",
     "text": [
      "PROCESSING TASKS | : 100%|██████████| 15/15 [00:12<00:00,  1.16it/s]\n",
      "COLLECTING RESULTS | : 100%|██████████| 15/15 [00:00<00:00, 115864.75it/s]\n",
      "QUEUEING TASKS | : 100%|██████████| 15/15 [00:00<00:00, 5702.92it/s]\n",
      "PROCESSING TASKS | :   0%|          | 0/15 [00:00<?, ?it/s]"
     ]
    },
    {
     "name": "stdout",
     "output_type": "stream",
     "text": [
      "HLS.L30.T11SKU.2018010T183412.v2.0\n"
     ]
    },
    {
     "name": "stderr",
     "output_type": "stream",
     "text": [
      "PROCESSING TASKS | : 100%|██████████| 15/15 [00:12<00:00,  1.24it/s]\n",
      "COLLECTING RESULTS | : 100%|██████████| 15/15 [00:00<00:00, 134146.18it/s]\n",
      "QUEUEING TASKS | : 100%|██████████| 18/18 [00:00<00:00, 1693.57it/s]\n",
      "PROCESSING TASKS | :   0%|          | 0/18 [00:00<?, ?it/s]"
     ]
    },
    {
     "name": "stdout",
     "output_type": "stream",
     "text": [
      "HLS.L30.T10SGD.2018010T183436.v2.0\n"
     ]
    },
    {
     "name": "stderr",
     "output_type": "stream",
     "text": [
      "PROCESSING TASKS | : 100%|██████████| 18/18 [00:13<00:00,  1.29it/s]\n",
      "COLLECTING RESULTS | : 100%|██████████| 18/18 [00:00<00:00, 146597.03it/s]\n",
      "QUEUEING TASKS | : 100%|██████████| 18/18 [00:00<00:00, 1755.10it/s]\n",
      "PROCESSING TASKS | :   0%|          | 0/18 [00:00<?, ?it/s]"
     ]
    },
    {
     "name": "stdout",
     "output_type": "stream",
     "text": [
      "HLS.S30.T10SGD.2018012T184731.v2.0\n"
     ]
    },
    {
     "name": "stderr",
     "output_type": "stream",
     "text": [
      "PROCESSING TASKS | : 100%|██████████| 18/18 [00:12<00:00,  1.47it/s]\n",
      "COLLECTING RESULTS | : 100%|██████████| 18/18 [00:00<00:00, 103421.19it/s]\n",
      "QUEUEING TASKS | : 100%|██████████| 18/18 [00:00<00:00, 861.36it/s]\n",
      "PROCESSING TASKS | :   0%|          | 0/18 [00:00<?, ?it/s]"
     ]
    },
    {
     "name": "stdout",
     "output_type": "stream",
     "text": [
      "HLS.S30.T11SKU.2018012T184731.v2.0\n"
     ]
    },
    {
     "name": "stderr",
     "output_type": "stream",
     "text": [
      "PROCESSING TASKS | : 100%|██████████| 18/18 [00:18<00:00,  1.05s/it]\n",
      "COLLECTING RESULTS | : 100%|██████████| 18/18 [00:00<00:00, 122560.83it/s]\n",
      "QUEUEING TASKS | : 100%|██████████| 18/18 [00:00<00:00, 1939.31it/s]\n",
      "PROCESSING TASKS | :   0%|          | 0/18 [00:00<?, ?it/s]"
     ]
    },
    {
     "name": "stdout",
     "output_type": "stream",
     "text": [
      "HLS.S30.T10SGD.2018022T185421.v2.0\n"
     ]
    },
    {
     "name": "stderr",
     "output_type": "stream",
     "text": [
      "PROCESSING TASKS | : 100%|██████████| 18/18 [00:17<00:00,  1.01it/s]\n",
      "COLLECTING RESULTS | : 100%|██████████| 18/18 [00:00<00:00, 133152.51it/s]\n",
      "QUEUEING TASKS | : 100%|██████████| 15/15 [00:00<00:00, 1725.06it/s]\n",
      "PROCESSING TASKS | :   0%|          | 0/15 [00:00<?, ?it/s]"
     ]
    },
    {
     "name": "stdout",
     "output_type": "stream",
     "text": [
      "HLS.S30.T11SKU.2018022T185421.v2.0\n"
     ]
    },
    {
     "name": "stderr",
     "output_type": "stream",
     "text": [
      "PROCESSING TASKS | : 100%|██████████| 15/15 [00:19<00:00,  1.31s/it]\n",
      "COLLECTING RESULTS | : 100%|██████████| 15/15 [00:00<00:00, 73584.28it/s]\n",
      "QUEUEING TASKS | : 100%|██████████| 15/15 [00:00<00:00, 1148.22it/s]\n",
      "PROCESSING TASKS | :   0%|          | 0/15 [00:00<?, ?it/s]"
     ]
    },
    {
     "name": "stdout",
     "output_type": "stream",
     "text": [
      "HLS.L30.T11SKU.2018026T183403.v2.0\n"
     ]
    },
    {
     "name": "stderr",
     "output_type": "stream",
     "text": [
      "PROCESSING TASKS | : 100%|██████████| 15/15 [00:17<00:00,  1.15s/it]\n",
      "COLLECTING RESULTS | : 100%|██████████| 15/15 [00:00<00:00, 56324.58it/s]\n",
      "QUEUEING TASKS | : 100%|██████████| 18/18 [00:00<00:00, 1042.91it/s]\n",
      "PROCESSING TASKS | :   0%|          | 0/18 [00:00<?, ?it/s]"
     ]
    },
    {
     "name": "stdout",
     "output_type": "stream",
     "text": [
      "HLS.L30.T10SGD.2018026T183427.v2.0\n"
     ]
    },
    {
     "name": "stderr",
     "output_type": "stream",
     "text": [
      "PROCESSING TASKS | : 100%|██████████| 18/18 [00:13<00:00,  1.29it/s]\n",
      "COLLECTING RESULTS | : 100%|██████████| 18/18 [00:00<00:00, 64916.14it/s]\n",
      "QUEUEING TASKS | : 100%|██████████| 18/18 [00:00<00:00, 1630.16it/s]\n",
      "PROCESSING TASKS | :   0%|          | 0/18 [00:00<?, ?it/s]"
     ]
    },
    {
     "name": "stdout",
     "output_type": "stream",
     "text": [
      "HLS.S30.T11SKU.2018027T184629.v2.0\n"
     ]
    },
    {
     "name": "stderr",
     "output_type": "stream",
     "text": [
      "PROCESSING TASKS | : 100%|██████████| 18/18 [00:12<00:00,  1.40it/s]\n",
      "COLLECTING RESULTS | : 100%|██████████| 18/18 [00:00<00:00, 150994.94it/s]\n",
      "QUEUEING TASKS | : 100%|██████████| 18/18 [00:00<00:00, 1474.13it/s]\n",
      "PROCESSING TASKS | :   0%|          | 0/18 [00:00<?, ?it/s]"
     ]
    },
    {
     "name": "stdout",
     "output_type": "stream",
     "text": [
      "HLS.S30.T10SGD.2018027T184629.v2.0\n"
     ]
    },
    {
     "name": "stderr",
     "output_type": "stream",
     "text": [
      "PROCESSING TASKS | : 100%|██████████| 18/18 [00:14<00:00,  1.26it/s]\n",
      "COLLECTING RESULTS | : 100%|██████████| 18/18 [00:00<00:00, 70690.52it/s]\n",
      "QUEUEING TASKS | : 100%|██████████| 18/18 [00:00<00:00, 1779.34it/s]\n",
      "PROCESSING TASKS | :   0%|          | 0/18 [00:00<?, ?it/s]"
     ]
    },
    {
     "name": "stdout",
     "output_type": "stream",
     "text": [
      "HLS.S30.T10SGD.2018032T184611.v2.0\n"
     ]
    },
    {
     "name": "stderr",
     "output_type": "stream",
     "text": [
      "PROCESSING TASKS | : 100%|██████████| 18/18 [00:12<00:00,  1.41it/s]\n",
      "COLLECTING RESULTS | : 100%|██████████| 18/18 [00:00<00:00, 99469.66it/s]\n",
      "QUEUEING TASKS | : 100%|██████████| 18/18 [00:00<00:00, 3513.31it/s]\n",
      "PROCESSING TASKS | :   0%|          | 0/18 [00:00<?, ?it/s]"
     ]
    },
    {
     "name": "stdout",
     "output_type": "stream",
     "text": [
      "HLS.S30.T11SKU.2018032T184611.v2.0\n"
     ]
    },
    {
     "name": "stderr",
     "output_type": "stream",
     "text": [
      "PROCESSING TASKS | : 100%|██████████| 18/18 [00:17<00:00,  1.00it/s]\n",
      "COLLECTING RESULTS | : 100%|██████████| 18/18 [00:00<00:00, 122760.12it/s]\n",
      "QUEUEING TASKS | : 100%|██████████| 18/18 [00:00<00:00, 1690.65it/s]\n",
      "PROCESSING TASKS | :   0%|          | 0/18 [00:00<?, ?it/s]"
     ]
    },
    {
     "name": "stdout",
     "output_type": "stream",
     "text": [
      "HLS.S30.T11SKU.2018037T184539.v2.0\n"
     ]
    },
    {
     "name": "stderr",
     "output_type": "stream",
     "text": [
      "PROCESSING TASKS | : 100%|██████████| 18/18 [00:14<00:00,  1.21it/s]\n",
      "COLLECTING RESULTS | : 100%|██████████| 18/18 [00:00<00:00, 172763.09it/s]\n",
      "QUEUEING TASKS | : 100%|██████████| 15/15 [00:00<00:00, 1495.05it/s]\n",
      "PROCESSING TASKS | :   0%|          | 0/15 [00:00<?, ?it/s]"
     ]
    },
    {
     "name": "stdout",
     "output_type": "stream",
     "text": [
      "HLS.S30.T10SGD.2018037T184539.v2.0\n"
     ]
    },
    {
     "name": "stderr",
     "output_type": "stream",
     "text": [
      "PROCESSING TASKS | : 100%|██████████| 15/15 [00:10<00:00,  1.49it/s]\n",
      "COLLECTING RESULTS | : 100%|██████████| 15/15 [00:00<00:00, 60205.32it/s]\n",
      "QUEUEING TASKS | : 100%|██████████| 15/15 [00:00<00:00, 1308.08it/s]\n",
      "PROCESSING TASKS | :   0%|          | 0/15 [00:00<?, ?it/s]"
     ]
    },
    {
     "name": "stdout",
     "output_type": "stream",
     "text": [
      "HLS.L30.T11SKU.2018042T183356.v2.0\n"
     ]
    },
    {
     "name": "stderr",
     "output_type": "stream",
     "text": [
      "PROCESSING TASKS | : 100%|██████████| 15/15 [00:12<00:00,  1.22it/s]\n",
      "COLLECTING RESULTS | : 100%|██████████| 15/15 [00:00<00:00, 114390.11it/s]\n",
      "QUEUEING TASKS | : 100%|██████████| 18/18 [00:00<00:00, 1811.71it/s]\n",
      "PROCESSING TASKS | :   0%|          | 0/18 [00:00<?, ?it/s]"
     ]
    },
    {
     "name": "stdout",
     "output_type": "stream",
     "text": [
      "HLS.L30.T10SGD.2018042T183420.v2.0\n"
     ]
    },
    {
     "name": "stderr",
     "output_type": "stream",
     "text": [
      "PROCESSING TASKS | : 100%|██████████| 18/18 [00:12<00:00,  1.45it/s]\n",
      "COLLECTING RESULTS | : 100%|██████████| 18/18 [00:00<00:00, 127314.46it/s]\n",
      "QUEUEING TASKS | : 100%|██████████| 18/18 [00:00<00:00, 1680.11it/s]\n",
      "PROCESSING TASKS | :   0%|          | 0/18 [00:00<?, ?it/s]"
     ]
    },
    {
     "name": "stdout",
     "output_type": "stream",
     "text": [
      "HLS.S30.T11SKU.2018042T184511.v2.0\n"
     ]
    },
    {
     "name": "stderr",
     "output_type": "stream",
     "text": [
      "PROCESSING TASKS | : 100%|██████████| 18/18 [00:13<00:00,  1.38it/s]\n",
      "COLLECTING RESULTS | : 100%|██████████| 18/18 [00:00<00:00, 154391.56it/s]\n",
      "QUEUEING TASKS | : 100%|██████████| 18/18 [00:00<00:00, 1856.75it/s]\n",
      "PROCESSING TASKS | :   0%|          | 0/18 [00:00<?, ?it/s]"
     ]
    },
    {
     "name": "stdout",
     "output_type": "stream",
     "text": [
      "HLS.S30.T10SGD.2018042T184511.v2.0\n"
     ]
    },
    {
     "name": "stderr",
     "output_type": "stream",
     "text": [
      "PROCESSING TASKS | : 100%|██████████| 18/18 [00:18<00:00,  1.05s/it]\n",
      "COLLECTING RESULTS | : 100%|██████████| 18/18 [00:00<00:00, 52319.80it/s]\n",
      "QUEUEING TASKS | : 100%|██████████| 18/18 [00:00<00:00, 3104.98it/s]\n",
      "PROCESSING TASKS | :   0%|          | 0/18 [00:00<?, ?it/s]"
     ]
    },
    {
     "name": "stdout",
     "output_type": "stream",
     "text": [
      "HLS.S30.T10SGD.2018052T184401.v2.0\n"
     ]
    },
    {
     "name": "stderr",
     "output_type": "stream",
     "text": [
      "PROCESSING TASKS | : 100%|██████████| 18/18 [00:19<00:00,  1.07s/it]\n",
      "COLLECTING RESULTS | : 100%|██████████| 18/18 [00:00<00:00, 166661.09it/s]\n",
      "QUEUEING TASKS | : 100%|██████████| 18/18 [00:00<00:00, 1741.30it/s]\n",
      "PROCESSING TASKS | :   0%|          | 0/18 [00:00<?, ?it/s]"
     ]
    },
    {
     "name": "stdout",
     "output_type": "stream",
     "text": [
      "HLS.S30.T11SKU.2018052T184401.v2.0\n"
     ]
    },
    {
     "name": "stderr",
     "output_type": "stream",
     "text": [
      "PROCESSING TASKS | : 100%|██████████| 18/18 [00:19<00:00,  1.07s/it]\n",
      "COLLECTING RESULTS | : 100%|██████████| 18/18 [00:00<00:00, 82151.76it/s]\n",
      "QUEUEING TASKS | : 100%|██████████| 18/18 [00:00<00:00, 4984.98it/s]\n",
      "PROCESSING TASKS | :   0%|          | 0/18 [00:00<?, ?it/s]"
     ]
    },
    {
     "name": "stdout",
     "output_type": "stream",
     "text": [
      "HLS.S30.T11SKU.2018057T184319.v2.0\n"
     ]
    },
    {
     "name": "stderr",
     "output_type": "stream",
     "text": [
      "PROCESSING TASKS | : 100%|██████████| 18/18 [00:15<00:00,  1.19it/s]\n",
      "COLLECTING RESULTS | : 100%|██████████| 18/18 [00:00<00:00, 168145.82it/s]\n",
      "QUEUEING TASKS | : 100%|██████████| 15/15 [00:00<00:00, 1668.11it/s]\n",
      "PROCESSING TASKS | :   0%|          | 0/15 [00:00<?, ?it/s]"
     ]
    },
    {
     "name": "stdout",
     "output_type": "stream",
     "text": [
      "HLS.S30.T10SGD.2018057T184319.v2.0\n"
     ]
    },
    {
     "name": "stderr",
     "output_type": "stream",
     "text": [
      "PROCESSING TASKS | : 100%|██████████| 15/15 [00:13<00:00,  1.15it/s]\n",
      "COLLECTING RESULTS | : 100%|██████████| 15/15 [00:00<00:00, 125577.96it/s]\n",
      "QUEUEING TASKS | : 100%|██████████| 18/18 [00:00<00:00, 1649.46it/s]\n",
      "PROCESSING TASKS | :   0%|          | 0/18 [00:00<?, ?it/s]"
     ]
    },
    {
     "name": "stdout",
     "output_type": "stream",
     "text": [
      "HLS.L30.T10SGD.2018058T183413.v2.0\n"
     ]
    },
    {
     "name": "stderr",
     "output_type": "stream",
     "text": [
      "PROCESSING TASKS | : 100%|██████████| 18/18 [00:13<00:00,  1.34it/s]\n",
      "COLLECTING RESULTS | : 100%|██████████| 18/18 [00:00<00:00, 198156.09it/s]\n",
      "QUEUEING TASKS | : 100%|██████████| 18/18 [00:00<00:00, 6385.64it/s]\n",
      "PROCESSING TASKS | :   0%|          | 0/18 [00:00<?, ?it/s]"
     ]
    },
    {
     "name": "stdout",
     "output_type": "stream",
     "text": [
      "HLS.S30.T10SGD.2018067T184209.v2.0\n"
     ]
    },
    {
     "name": "stderr",
     "output_type": "stream",
     "text": [
      "PROCESSING TASKS | : 100%|██████████| 18/18 [00:15<00:00,  1.17it/s]\n",
      "COLLECTING RESULTS | : 100%|██████████| 18/18 [00:00<00:00, 35934.07it/s]\n",
      "QUEUEING TASKS | : 100%|██████████| 15/15 [00:00<00:00, 1469.11it/s]\n",
      "PROCESSING TASKS | :   0%|          | 0/15 [00:00<?, ?it/s]"
     ]
    },
    {
     "name": "stdout",
     "output_type": "stream",
     "text": [
      "HLS.S30.T11SKU.2018067T184209.v2.0\n"
     ]
    },
    {
     "name": "stderr",
     "output_type": "stream",
     "text": [
      "PROCESSING TASKS | : 100%|██████████| 15/15 [00:12<00:00,  1.18it/s]\n",
      "COLLECTING RESULTS | : 100%|██████████| 15/15 [00:00<00:00, 46881.19it/s]\n",
      "QUEUEING TASKS | : 100%|██████████| 15/15 [00:00<00:00, 2223.13it/s]\n",
      "PROCESSING TASKS | :   0%|          | 0/15 [00:00<?, ?it/s]"
     ]
    },
    {
     "name": "stdout",
     "output_type": "stream",
     "text": [
      "HLS.L30.T11SKU.2018074T183340.v2.0\n"
     ]
    },
    {
     "name": "stderr",
     "output_type": "stream",
     "text": [
      "PROCESSING TASKS | : 100%|██████████| 15/15 [02:18<00:00,  9.22s/it]\n",
      "COLLECTING RESULTS | : 100%|██████████| 15/15 [00:00<00:00, 120757.31it/s]\n",
      "QUEUEING TASKS | : 100%|██████████| 18/18 [00:00<00:00, 1660.96it/s]\n",
      "PROCESSING TASKS | :   0%|          | 0/18 [00:00<?, ?it/s]"
     ]
    },
    {
     "name": "stdout",
     "output_type": "stream",
     "text": [
      "HLS.L30.T10SGD.2018074T183404.v2.0\n"
     ]
    },
    {
     "name": "stderr",
     "output_type": "stream",
     "text": [
      "PROCESSING TASKS | : 100%|██████████| 18/18 [00:13<00:00,  1.32it/s]\n",
      "COLLECTING RESULTS | : 100%|██████████| 18/18 [00:00<00:00, 170423.19it/s]\n",
      "QUEUEING TASKS | : 100%|██████████| 18/18 [00:00<00:00, 6106.73it/s]\n",
      "PROCESSING TASKS | :   0%|          | 0/18 [00:00<?, ?it/s]"
     ]
    },
    {
     "name": "stdout",
     "output_type": "stream",
     "text": [
      "HLS.S30.T10SGD.2018082T184031.v2.0\n"
     ]
    },
    {
     "name": "stderr",
     "output_type": "stream",
     "text": [
      "PROCESSING TASKS | : 100%|██████████| 18/18 [00:14<00:00,  1.25it/s]\n",
      "COLLECTING RESULTS | : 100%|██████████| 18/18 [00:00<00:00, 173159.34it/s]\n",
      "QUEUEING TASKS | : 100%|██████████| 18/18 [00:00<00:00, 1671.93it/s]\n",
      "PROCESSING TASKS | :   0%|          | 0/18 [00:00<?, ?it/s]"
     ]
    },
    {
     "name": "stdout",
     "output_type": "stream",
     "text": [
      "HLS.S30.T11SKU.2018082T184031.v2.0\n"
     ]
    },
    {
     "name": "stderr",
     "output_type": "stream",
     "text": [
      "PROCESSING TASKS | : 100%|██████████| 18/18 [00:14<00:00,  1.22it/s]\n",
      "COLLECTING RESULTS | : 100%|██████████| 18/18 [00:00<00:00, 77353.97it/s]\n",
      "QUEUEING TASKS | : 100%|██████████| 18/18 [00:00<00:00, 1654.56it/s]\n",
      "PROCESSING TASKS | :   0%|          | 0/18 [00:00<?, ?it/s]"
     ]
    },
    {
     "name": "stdout",
     "output_type": "stream",
     "text": [
      "HLS.S30.T11SKU.2018087T183949.v2.0\n"
     ]
    },
    {
     "name": "stderr",
     "output_type": "stream",
     "text": [
      "PROCESSING TASKS | : 100%|██████████| 18/18 [00:12<00:00,  1.40it/s]\n",
      "COLLECTING RESULTS | : 100%|██████████| 18/18 [00:00<00:00, 140329.87it/s]\n",
      "QUEUEING TASKS | : 100%|██████████| 18/18 [00:00<00:00, 5880.32it/s]\n",
      "PROCESSING TASKS | :   0%|          | 0/18 [00:00<?, ?it/s]"
     ]
    },
    {
     "name": "stdout",
     "output_type": "stream",
     "text": [
      "HLS.S30.T10SGD.2018087T183949.v2.0\n"
     ]
    },
    {
     "name": "stderr",
     "output_type": "stream",
     "text": [
      "PROCESSING TASKS | : 100%|██████████| 18/18 [00:14<00:00,  1.24it/s]\n",
      "COLLECTING RESULTS | : 100%|██████████| 18/18 [00:00<00:00, 80316.46it/s]\n",
      "QUEUEING TASKS | : 100%|██████████| 15/15 [00:00<00:00, 1300.18it/s]\n",
      "PROCESSING TASKS | :   0%|          | 0/15 [00:00<?, ?it/s]"
     ]
    },
    {
     "name": "stdout",
     "output_type": "stream",
     "text": [
      "HLS.S30.T11SKU.2018102T183931.v2.0\n"
     ]
    },
    {
     "name": "stderr",
     "output_type": "stream",
     "text": [
      "PROCESSING TASKS | : 100%|██████████| 15/15 [00:10<00:00,  1.38it/s]\n",
      "COLLECTING RESULTS | : 100%|██████████| 15/15 [00:00<00:00, 85831.60it/s]\n",
      "QUEUEING TASKS | : 100%|██████████| 15/15 [00:00<00:00, 1764.19it/s]\n",
      "PROCESSING TASKS | :   0%|          | 0/15 [00:00<?, ?it/s]"
     ]
    },
    {
     "name": "stdout",
     "output_type": "stream",
     "text": [
      "HLS.L30.T11SKU.2018106T183324.v2.0\n"
     ]
    },
    {
     "name": "stderr",
     "output_type": "stream",
     "text": [
      "PROCESSING TASKS | : 100%|██████████| 15/15 [00:11<00:00,  1.29it/s]\n",
      "COLLECTING RESULTS | : 100%|██████████| 15/15 [00:00<00:00, 51781.53it/s]\n",
      "QUEUEING TASKS | : 100%|██████████| 18/18 [00:00<00:00, 1366.27it/s]\n",
      "PROCESSING TASKS | :   0%|          | 0/18 [00:00<?, ?it/s]"
     ]
    },
    {
     "name": "stdout",
     "output_type": "stream",
     "text": [
      "HLS.L30.T10SGD.2018106T183348.v2.0\n"
     ]
    },
    {
     "name": "stderr",
     "output_type": "stream",
     "text": [
      "PROCESSING TASKS | : 100%|██████████| 18/18 [00:15<00:00,  1.20it/s]\n",
      "COLLECTING RESULTS | : 100%|██████████| 18/18 [00:00<00:00, 95566.42it/s]\n",
      "QUEUEING TASKS | : 100%|██████████| 18/18 [00:00<00:00, 1555.21it/s]\n",
      "PROCESSING TASKS | :   0%|          | 0/18 [00:00<?, ?it/s]"
     ]
    },
    {
     "name": "stdout",
     "output_type": "stream",
     "text": [
      "HLS.S30.T11SKU.2018107T183919.v2.0\n"
     ]
    },
    {
     "name": "stderr",
     "output_type": "stream",
     "text": [
      "PROCESSING TASKS | : 100%|██████████| 18/18 [00:13<00:00,  1.38it/s]\n",
      "COLLECTING RESULTS | : 100%|██████████| 18/18 [00:00<00:00, 127961.82it/s]\n",
      "QUEUEING TASKS | : 100%|██████████| 18/18 [00:00<00:00, 1542.97it/s]\n",
      "PROCESSING TASKS | :   0%|          | 0/18 [00:00<?, ?it/s]"
     ]
    },
    {
     "name": "stdout",
     "output_type": "stream",
     "text": [
      "HLS.S30.T10SGD.2018107T183919.v2.0\n"
     ]
    },
    {
     "name": "stderr",
     "output_type": "stream",
     "text": [
      "PROCESSING TASKS | : 100%|██████████| 18/18 [00:13<00:00,  1.35it/s]\n",
      "COLLECTING RESULTS | : 100%|██████████| 18/18 [00:00<00:00, 99996.65it/s]\n",
      "QUEUEING TASKS | : 100%|██████████| 18/18 [00:00<00:00, 1529.56it/s]\n",
      "PROCESSING TASKS | :   0%|          | 0/18 [00:00<?, ?it/s]"
     ]
    },
    {
     "name": "stdout",
     "output_type": "stream",
     "text": [
      "HLS.S30.T10SGD.2018112T183921.v2.0\n"
     ]
    },
    {
     "name": "stderr",
     "output_type": "stream",
     "text": [
      "PROCESSING TASKS | : 100%|██████████| 18/18 [00:14<00:00,  1.22it/s]\n",
      "COLLECTING RESULTS | : 100%|██████████| 18/18 [00:00<00:00, 162710.07it/s]\n",
      "QUEUEING TASKS | : 100%|██████████| 18/18 [00:00<00:00, 2073.48it/s]\n",
      "PROCESSING TASKS | :   0%|          | 0/18 [00:00<?, ?it/s]"
     ]
    },
    {
     "name": "stdout",
     "output_type": "stream",
     "text": [
      "HLS.S30.T11SKU.2018112T183921.v2.0\n"
     ]
    },
    {
     "name": "stderr",
     "output_type": "stream",
     "text": [
      "PROCESSING TASKS | : 100%|██████████| 18/18 [00:14<00:00,  1.21it/s]\n",
      "COLLECTING RESULTS | : 100%|██████████| 18/18 [00:00<00:00, 57325.34it/s]\n",
      "QUEUEING TASKS | : 100%|██████████| 18/18 [00:00<00:00, 1904.24it/s]\n",
      "PROCESSING TASKS | :   0%|          | 0/18 [00:00<?, ?it/s]"
     ]
    },
    {
     "name": "stdout",
     "output_type": "stream",
     "text": [
      "HLS.S30.T10SGD.2018117T183919.v2.0\n"
     ]
    },
    {
     "name": "stderr",
     "output_type": "stream",
     "text": [
      "PROCESSING TASKS | : 100%|██████████| 18/18 [00:25<00:00,  1.43s/it]\n",
      "COLLECTING RESULTS | : 100%|██████████| 18/18 [00:00<00:00, 84733.41it/s]\n",
      "QUEUEING TASKS | : 100%|██████████| 15/15 [00:00<00:00, 949.44it/s]\n",
      "PROCESSING TASKS | :   0%|          | 0/15 [00:00<?, ?it/s]"
     ]
    },
    {
     "name": "stdout",
     "output_type": "stream",
     "text": [
      "HLS.S30.T11SKU.2018117T183919.v2.0\n"
     ]
    },
    {
     "name": "stderr",
     "output_type": "stream",
     "text": [
      "PROCESSING TASKS | : 100%|██████████| 15/15 [00:11<00:00,  1.29it/s]\n",
      "COLLECTING RESULTS | : 100%|██████████| 15/15 [00:00<00:00, 163840.00it/s]\n",
      "QUEUEING TASKS | : 100%|██████████| 15/15 [00:00<00:00, 1556.33it/s]\n",
      "PROCESSING TASKS | :   0%|          | 0/15 [00:00<?, ?it/s]"
     ]
    },
    {
     "name": "stdout",
     "output_type": "stream",
     "text": [
      "HLS.L30.T11SKU.2018122T183316.v2.0\n"
     ]
    },
    {
     "name": "stderr",
     "output_type": "stream",
     "text": [
      "PROCESSING TASKS | : 100%|██████████| 15/15 [00:10<00:00,  1.37it/s]\n",
      "COLLECTING RESULTS | : 100%|██████████| 15/15 [00:00<00:00, 22005.79it/s]\n",
      "QUEUEING TASKS | : 100%|██████████| 18/18 [00:00<00:00, 1161.46it/s]\n",
      "PROCESSING TASKS | :   0%|          | 0/18 [00:00<?, ?it/s]"
     ]
    },
    {
     "name": "stdout",
     "output_type": "stream",
     "text": [
      "HLS.L30.T10SGD.2018122T183340.v2.0\n"
     ]
    },
    {
     "name": "stderr",
     "output_type": "stream",
     "text": [
      "PROCESSING TASKS | : 100%|██████████| 18/18 [00:14<00:00,  1.25it/s]\n",
      "COLLECTING RESULTS | : 100%|██████████| 18/18 [00:00<00:00, 132918.08it/s]\n",
      "QUEUEING TASKS | : 100%|██████████| 18/18 [00:00<00:00, 1265.19it/s]\n",
      "PROCESSING TASKS | :   0%|          | 0/18 [00:00<?, ?it/s]"
     ]
    },
    {
     "name": "stdout",
     "output_type": "stream",
     "text": [
      "HLS.S30.T10SGD.2018122T183921.v2.0\n"
     ]
    },
    {
     "name": "stderr",
     "output_type": "stream",
     "text": [
      "PROCESSING TASKS | : 100%|██████████| 18/18 [00:12<00:00,  1.42it/s]\n",
      "COLLECTING RESULTS | : 100%|██████████| 18/18 [00:00<00:00, 67468.70it/s]\n",
      "QUEUEING TASKS | : 100%|██████████| 18/18 [00:00<00:00, 1069.31it/s]\n",
      "PROCESSING TASKS | :   0%|          | 0/18 [00:00<?, ?it/s]"
     ]
    },
    {
     "name": "stdout",
     "output_type": "stream",
     "text": [
      "HLS.S30.T11SKU.2018122T183921.v2.0\n"
     ]
    },
    {
     "name": "stderr",
     "output_type": "stream",
     "text": [
      "PROCESSING TASKS | : 100%|██████████| 18/18 [00:16<00:00,  1.07it/s]\n",
      "COLLECTING RESULTS | : 100%|██████████| 18/18 [00:00<00:00, 60787.01it/s]\n",
      "QUEUEING TASKS | : 100%|██████████| 18/18 [00:00<00:00, 1529.00it/s]\n",
      "PROCESSING TASKS | :   0%|          | 0/18 [00:00<?, ?it/s]"
     ]
    },
    {
     "name": "stdout",
     "output_type": "stream",
     "text": [
      "HLS.S30.T10SGD.2018127T183919.v2.0\n"
     ]
    },
    {
     "name": "stderr",
     "output_type": "stream",
     "text": [
      "PROCESSING TASKS | : 100%|██████████| 18/18 [00:14<00:00,  1.28it/s]\n",
      "COLLECTING RESULTS | : 100%|██████████| 18/18 [00:00<00:00, 127100.12it/s]\n",
      "QUEUEING TASKS | : 100%|██████████| 18/18 [00:00<00:00, 3913.81it/s]\n",
      "PROCESSING TASKS | :   0%|          | 0/18 [00:00<?, ?it/s]"
     ]
    },
    {
     "name": "stdout",
     "output_type": "stream",
     "text": [
      "HLS.S30.T11SKU.2018127T183919.v2.0\n"
     ]
    },
    {
     "name": "stderr",
     "output_type": "stream",
     "text": [
      "PROCESSING TASKS | : 100%|██████████| 18/18 [00:13<00:00,  1.29it/s]\n",
      "COLLECTING RESULTS | : 100%|██████████| 18/18 [00:00<00:00, 53468.46it/s]\n",
      "QUEUEING TASKS | : 100%|██████████| 18/18 [00:00<00:00, 1051.16it/s]\n",
      "PROCESSING TASKS | :   0%|          | 0/18 [00:00<?, ?it/s]"
     ]
    },
    {
     "name": "stdout",
     "output_type": "stream",
     "text": [
      "HLS.S30.T11SKU.2018132T183921.v2.0\n"
     ]
    },
    {
     "name": "stderr",
     "output_type": "stream",
     "text": [
      "PROCESSING TASKS | : 100%|██████████| 18/18 [00:17<00:00,  1.03it/s]\n",
      "COLLECTING RESULTS | : 100%|██████████| 18/18 [00:00<00:00, 138782.12it/s]\n",
      "QUEUEING TASKS | : 100%|██████████| 18/18 [00:00<00:00, 1626.50it/s]\n",
      "PROCESSING TASKS | :   0%|          | 0/18 [00:00<?, ?it/s]"
     ]
    },
    {
     "name": "stdout",
     "output_type": "stream",
     "text": [
      "HLS.S30.T10SGD.2018137T183919.v2.0\n"
     ]
    },
    {
     "name": "stderr",
     "output_type": "stream",
     "text": [
      "PROCESSING TASKS | : 100%|██████████| 18/18 [00:14<00:00,  1.26it/s]\n",
      "COLLECTING RESULTS | : 100%|██████████| 18/18 [00:00<00:00, 154076.47it/s]\n",
      "QUEUEING TASKS | : 100%|██████████| 15/15 [00:00<00:00, 5669.51it/s]\n",
      "PROCESSING TASKS | :   0%|          | 0/15 [00:00<?, ?it/s]"
     ]
    },
    {
     "name": "stdout",
     "output_type": "stream",
     "text": [
      "HLS.S30.T11SKU.2018137T183919.v2.0\n"
     ]
    },
    {
     "name": "stderr",
     "output_type": "stream",
     "text": [
      "PROCESSING TASKS | : 100%|██████████| 15/15 [00:12<00:00,  1.24it/s]\n",
      "COLLECTING RESULTS | : 100%|██████████| 15/15 [00:00<00:00, 77576.52it/s]\n",
      "QUEUEING TASKS | : 100%|██████████| 15/15 [00:00<00:00, 1039.93it/s]\n",
      "PROCESSING TASKS | :   0%|          | 0/15 [00:00<?, ?it/s]"
     ]
    },
    {
     "name": "stdout",
     "output_type": "stream",
     "text": [
      "HLS.L30.T11SKU.2018138T183305.v2.0\n"
     ]
    },
    {
     "name": "stderr",
     "output_type": "stream",
     "text": [
      "PROCESSING TASKS | : 100%|██████████| 15/15 [00:17<00:00,  1.19s/it]\n",
      "COLLECTING RESULTS | : 100%|██████████| 15/15 [00:00<00:00, 175738.99it/s]\n",
      "QUEUEING TASKS | : 100%|██████████| 18/18 [00:00<00:00, 2817.60it/s]\n",
      "PROCESSING TASKS | :   0%|          | 0/18 [00:00<?, ?it/s]"
     ]
    },
    {
     "name": "stdout",
     "output_type": "stream",
     "text": [
      "HLS.L30.T10SGD.2018138T183329.v2.0\n"
     ]
    },
    {
     "name": "stderr",
     "output_type": "stream",
     "text": [
      "PROCESSING TASKS | : 100%|██████████| 18/18 [00:11<00:00,  1.56it/s]\n",
      "COLLECTING RESULTS | : 100%|██████████| 18/18 [00:00<00:00, 160975.42it/s]\n",
      "QUEUEING TASKS | : 100%|██████████| 18/18 [00:00<00:00, 2459.28it/s]\n",
      "PROCESSING TASKS | :   0%|          | 0/18 [00:00<?, ?it/s]"
     ]
    },
    {
     "name": "stdout",
     "output_type": "stream",
     "text": [
      "HLS.S30.T11SKU.2018142T183921.v2.0\n"
     ]
    },
    {
     "name": "stderr",
     "output_type": "stream",
     "text": [
      "PROCESSING TASKS | : 100%|██████████| 18/18 [00:14<00:00,  1.21it/s]\n",
      "COLLECTING RESULTS | : 100%|██████████| 18/18 [00:00<00:00, 90200.09it/s]\n",
      "QUEUEING TASKS | : 100%|██████████| 18/18 [00:00<00:00, 1059.48it/s]\n",
      "PROCESSING TASKS | :   0%|          | 0/18 [00:00<?, ?it/s]"
     ]
    },
    {
     "name": "stdout",
     "output_type": "stream",
     "text": [
      "HLS.S30.T10SGD.2018142T183921.v2.0\n"
     ]
    },
    {
     "name": "stderr",
     "output_type": "stream",
     "text": [
      "PROCESSING TASKS | : 100%|██████████| 18/18 [00:14<00:00,  1.27it/s]\n",
      "COLLECTING RESULTS | : 100%|██████████| 18/18 [00:00<00:00, 141912.54it/s]\n",
      "QUEUEING TASKS | : 100%|██████████| 18/18 [00:00<00:00, 1592.30it/s]\n",
      "PROCESSING TASKS | :   0%|          | 0/18 [00:00<?, ?it/s]"
     ]
    },
    {
     "name": "stdout",
     "output_type": "stream",
     "text": [
      "HLS.S30.T11SKU.2018147T183919.v2.0\n"
     ]
    },
    {
     "name": "stderr",
     "output_type": "stream",
     "text": [
      "PROCESSING TASKS | : 100%|██████████| 18/18 [00:14<00:00,  1.28it/s]\n",
      "COLLECTING RESULTS | : 100%|██████████| 18/18 [00:00<00:00, 123766.35it/s]\n",
      "QUEUEING TASKS | : 100%|██████████| 18/18 [00:00<00:00, 1540.14it/s]\n",
      "PROCESSING TASKS | :   0%|          | 0/18 [00:00<?, ?it/s]"
     ]
    },
    {
     "name": "stdout",
     "output_type": "stream",
     "text": [
      "HLS.S30.T10SGD.2018147T183919.v2.0\n"
     ]
    },
    {
     "name": "stderr",
     "output_type": "stream",
     "text": [
      "PROCESSING TASKS | : 100%|██████████| 18/18 [00:13<00:00,  1.36it/s]\n",
      "COLLECTING RESULTS | : 100%|██████████| 18/18 [00:00<00:00, 115793.67it/s]\n",
      "QUEUEING TASKS | : 100%|██████████| 18/18 [00:00<00:00, 2065.03it/s]\n",
      "PROCESSING TASKS | :   0%|          | 0/18 [00:00<?, ?it/s]"
     ]
    },
    {
     "name": "stdout",
     "output_type": "stream",
     "text": [
      "HLS.S30.T11SKU.2018152T183931.v2.0\n"
     ]
    },
    {
     "name": "stderr",
     "output_type": "stream",
     "text": [
      "PROCESSING TASKS | : 100%|██████████| 18/18 [00:13<00:00,  1.37it/s]\n",
      "COLLECTING RESULTS | : 100%|██████████| 18/18 [00:00<00:00, 81618.89it/s]\n",
      "QUEUEING TASKS | : 100%|██████████| 15/15 [00:00<00:00, 1210.80it/s]\n",
      "PROCESSING TASKS | :   0%|          | 0/15 [00:00<?, ?it/s]"
     ]
    },
    {
     "name": "stdout",
     "output_type": "stream",
     "text": [
      "HLS.S30.T10SGD.2018152T183931.v2.0\n"
     ]
    },
    {
     "name": "stderr",
     "output_type": "stream",
     "text": [
      "PROCESSING TASKS | : 100%|██████████| 15/15 [00:11<00:00,  1.26it/s]\n",
      "COLLECTING RESULTS | : 100%|██████████| 15/15 [00:00<00:00, 115651.76it/s]\n",
      "QUEUEING TASKS | : 100%|██████████| 15/15 [00:00<00:00, 1655.47it/s]\n",
      "PROCESSING TASKS | :   0%|          | 0/15 [00:00<?, ?it/s]"
     ]
    },
    {
     "name": "stdout",
     "output_type": "stream",
     "text": [
      "HLS.L30.T11SKU.2018154T183253.v2.0\n"
     ]
    },
    {
     "name": "stderr",
     "output_type": "stream",
     "text": [
      "PROCESSING TASKS | : 100%|██████████| 15/15 [00:11<00:00,  1.31it/s]\n",
      "COLLECTING RESULTS | : 100%|██████████| 15/15 [00:00<00:00, 67360.34it/s]\n",
      "QUEUEING TASKS | : 100%|██████████| 18/18 [00:00<00:00, 1052.82it/s]\n",
      "PROCESSING TASKS | :   0%|          | 0/18 [00:00<?, ?it/s]"
     ]
    },
    {
     "name": "stdout",
     "output_type": "stream",
     "text": [
      "HLS.L30.T10SGD.2018154T183317.v2.0\n"
     ]
    },
    {
     "name": "stderr",
     "output_type": "stream",
     "text": [
      "PROCESSING TASKS | : 100%|██████████| 18/18 [00:12<00:00,  1.39it/s]\n",
      "COLLECTING RESULTS | : 100%|██████████| 18/18 [00:00<00:00, 134337.14it/s]\n",
      "QUEUEING TASKS | : 100%|██████████| 18/18 [00:00<00:00, 2518.93it/s]\n",
      "PROCESSING TASKS | :   0%|          | 0/18 [00:00<?, ?it/s]"
     ]
    },
    {
     "name": "stdout",
     "output_type": "stream",
     "text": [
      "HLS.S30.T10SGD.2018157T183929.v2.0\n"
     ]
    },
    {
     "name": "stderr",
     "output_type": "stream",
     "text": [
      "PROCESSING TASKS | : 100%|██████████| 18/18 [00:12<00:00,  1.40it/s]\n",
      "COLLECTING RESULTS | : 100%|██████████| 18/18 [00:00<00:00, 29149.60it/s]\n",
      "QUEUEING TASKS | : 100%|██████████| 18/18 [00:00<00:00, 2136.56it/s]\n",
      "PROCESSING TASKS | :   0%|          | 0/18 [00:00<?, ?it/s]"
     ]
    },
    {
     "name": "stdout",
     "output_type": "stream",
     "text": [
      "HLS.S30.T11SKU.2018157T183929.v2.0\n"
     ]
    },
    {
     "name": "stderr",
     "output_type": "stream",
     "text": [
      "PROCESSING TASKS | : 100%|██████████| 18/18 [00:15<00:00,  1.17it/s]\n",
      "COLLECTING RESULTS | : 100%|██████████| 18/18 [00:00<00:00, 131072.00it/s]\n",
      "QUEUEING TASKS | : 100%|██████████| 18/18 [00:00<00:00, 1389.40it/s]\n",
      "PROCESSING TASKS | :   0%|          | 0/18 [00:00<?, ?it/s]"
     ]
    },
    {
     "name": "stdout",
     "output_type": "stream",
     "text": [
      "HLS.S30.T10SGD.2018162T183921.v2.0\n"
     ]
    },
    {
     "name": "stderr",
     "output_type": "stream",
     "text": [
      "PROCESSING TASKS | : 100%|██████████| 18/18 [00:13<00:00,  1.37it/s]\n",
      "COLLECTING RESULTS | : 100%|██████████| 18/18 [00:00<00:00, 96420.78it/s]\n",
      "QUEUEING TASKS | : 100%|██████████| 18/18 [00:00<00:00, 987.90it/s]\n",
      "PROCESSING TASKS | :   0%|          | 0/18 [00:00<?, ?it/s]"
     ]
    },
    {
     "name": "stdout",
     "output_type": "stream",
     "text": [
      "HLS.S30.T11SKU.2018162T183921.v2.0\n"
     ]
    },
    {
     "name": "stderr",
     "output_type": "stream",
     "text": [
      "PROCESSING TASKS | : 100%|██████████| 18/18 [00:11<00:00,  1.54it/s]\n",
      "COLLECTING RESULTS | : 100%|██████████| 18/18 [00:00<00:00, 139037.70it/s]\n",
      "QUEUEING TASKS | : 100%|██████████| 15/15 [00:00<00:00, 1140.73it/s]\n",
      "PROCESSING TASKS | :   0%|          | 0/15 [00:00<?, ?it/s]"
     ]
    },
    {
     "name": "stdout",
     "output_type": "stream",
     "text": [
      "HLS.S30.T11SKU.2018167T183929.v2.0\n"
     ]
    },
    {
     "name": "stderr",
     "output_type": "stream",
     "text": [
      "PROCESSING TASKS | : 100%|██████████| 15/15 [00:11<00:00,  1.33it/s]\n",
      "COLLECTING RESULTS | : 100%|██████████| 15/15 [00:00<00:00, 125829.12it/s]\n",
      "QUEUEING TASKS | : 100%|██████████| 15/15 [00:00<00:00, 1295.60it/s]\n",
      "PROCESSING TASKS | :   0%|          | 0/15 [00:00<?, ?it/s]"
     ]
    },
    {
     "name": "stdout",
     "output_type": "stream",
     "text": [
      "HLS.L30.T11SKU.2018170T183303.v2.0\n"
     ]
    },
    {
     "name": "stderr",
     "output_type": "stream",
     "text": [
      "PROCESSING TASKS | : 100%|██████████| 15/15 [00:11<00:00,  1.27it/s]\n",
      "COLLECTING RESULTS | : 100%|██████████| 15/15 [00:00<00:00, 13388.93it/s]\n",
      "QUEUEING TASKS | : 100%|██████████| 18/18 [00:00<00:00, 2222.02it/s]\n",
      "PROCESSING TASKS | :   0%|          | 0/18 [00:00<?, ?it/s]"
     ]
    },
    {
     "name": "stdout",
     "output_type": "stream",
     "text": [
      "HLS.L30.T10SGD.2018170T183327.v2.0\n"
     ]
    },
    {
     "name": "stderr",
     "output_type": "stream",
     "text": [
      "PROCESSING TASKS | : 100%|██████████| 18/18 [00:15<00:00,  1.13it/s]\n",
      "COLLECTING RESULTS | : 100%|██████████| 18/18 [00:00<00:00, 150994.94it/s]\n",
      "QUEUEING TASKS | : 100%|██████████| 18/18 [00:00<00:00, 2983.97it/s]\n",
      "PROCESSING TASKS | :   0%|          | 0/18 [00:00<?, ?it/s]"
     ]
    },
    {
     "name": "stdout",
     "output_type": "stream",
     "text": [
      "HLS.S30.T10SGD.2018172T183921.v2.0\n"
     ]
    },
    {
     "name": "stderr",
     "output_type": "stream",
     "text": [
      "PROCESSING TASKS | : 100%|██████████| 18/18 [00:20<00:00,  1.13s/it]\n",
      "COLLECTING RESULTS | : 100%|██████████| 18/18 [00:00<00:00, 100395.57it/s]\n",
      "QUEUEING TASKS | : 100%|██████████| 18/18 [00:00<00:00, 1509.86it/s]\n",
      "PROCESSING TASKS | :   0%|          | 0/18 [00:00<?, ?it/s]"
     ]
    },
    {
     "name": "stdout",
     "output_type": "stream",
     "text": [
      "HLS.S30.T11SKU.2018172T183921.v2.0\n"
     ]
    },
    {
     "name": "stderr",
     "output_type": "stream",
     "text": [
      "PROCESSING TASKS | : 100%|██████████| 18/18 [00:14<00:00,  1.23it/s]\n",
      "COLLECTING RESULTS | : 100%|██████████| 18/18 [00:00<00:00, 20821.15it/s]\n",
      "QUEUEING TASKS | : 100%|██████████| 18/18 [00:00<00:00, 581.55it/s]\n",
      "PROCESSING TASKS | :   0%|          | 0/18 [00:00<?, ?it/s]"
     ]
    },
    {
     "name": "stdout",
     "output_type": "stream",
     "text": [
      "HLS.S30.T11SKU.2018177T183919.v2.0\n"
     ]
    },
    {
     "name": "stderr",
     "output_type": "stream",
     "text": [
      "PROCESSING TASKS | : 100%|██████████| 18/18 [00:13<00:00,  1.38it/s]\n",
      "COLLECTING RESULTS | : 100%|██████████| 18/18 [00:00<00:00, 154076.47it/s]\n",
      "QUEUEING TASKS | : 100%|██████████| 15/15 [00:00<00:00, 1903.04it/s]\n",
      "PROCESSING TASKS | :   0%|          | 0/15 [00:00<?, ?it/s]"
     ]
    },
    {
     "name": "stdout",
     "output_type": "stream",
     "text": [
      "HLS.S30.T10SGD.2018177T183919.v2.0\n"
     ]
    },
    {
     "name": "stderr",
     "output_type": "stream",
     "text": [
      "PROCESSING TASKS | : 100%|██████████| 15/15 [00:11<00:00,  1.32it/s]\n",
      "COLLECTING RESULTS | : 100%|██████████| 15/15 [00:00<00:00, 77290.61it/s]\n",
      "QUEUEING TASKS | : 100%|██████████| 18/18 [00:00<00:00, 6302.49it/s]\n",
      "PROCESSING TASKS | :   0%|          | 0/18 [00:00<?, ?it/s]"
     ]
    },
    {
     "name": "stdout",
     "output_type": "stream",
     "text": [
      "HLS.L30.T11SKU.2018186T183312.v2.0\n"
     ]
    },
    {
     "name": "stderr",
     "output_type": "stream",
     "text": [
      "PROCESSING TASKS | : 100%|██████████| 18/18 [00:13<00:00,  1.33it/s]\n",
      "COLLECTING RESULTS | : 100%|██████████| 18/18 [00:00<00:00, 170808.76it/s]\n",
      "QUEUEING TASKS | : 100%|██████████| 18/18 [00:00<00:00, 2560.02it/s]\n",
      "PROCESSING TASKS | :   0%|          | 0/18 [00:00<?, ?it/s]"
     ]
    },
    {
     "name": "stdout",
     "output_type": "stream",
     "text": [
      "HLS.S30.T10SGD.2018187T183919.v2.0\n"
     ]
    },
    {
     "name": "stderr",
     "output_type": "stream",
     "text": [
      "PROCESSING TASKS | : 100%|██████████| 18/18 [00:13<00:00,  1.38it/s]\n",
      "COLLECTING RESULTS | : 100%|██████████| 18/18 [00:00<00:00, 142179.80it/s]\n",
      "QUEUEING TASKS | : 100%|██████████| 18/18 [00:00<00:00, 1999.30it/s]\n",
      "PROCESSING TASKS | :   0%|          | 0/18 [00:00<?, ?it/s]"
     ]
    },
    {
     "name": "stdout",
     "output_type": "stream",
     "text": [
      "HLS.S30.T11SKU.2018187T183919.v2.0\n"
     ]
    },
    {
     "name": "stderr",
     "output_type": "stream",
     "text": [
      "PROCESSING TASKS | : 100%|██████████| 18/18 [00:13<00:00,  1.35it/s]\n",
      "COLLECTING RESULTS | : 100%|██████████| 18/18 [00:00<00:00, 76491.87it/s]\n",
      "QUEUEING TASKS | : 100%|██████████| 18/18 [00:00<00:00, 1011.33it/s]\n",
      "PROCESSING TASKS | :   0%|          | 0/18 [00:00<?, ?it/s]"
     ]
    },
    {
     "name": "stdout",
     "output_type": "stream",
     "text": [
      "HLS.S30.T10SGD.2018192T183921.v2.0\n"
     ]
    },
    {
     "name": "stderr",
     "output_type": "stream",
     "text": [
      "PROCESSING TASKS | : 100%|██████████| 18/18 [00:12<00:00,  1.42it/s]\n",
      "COLLECTING RESULTS | : 100%|██████████| 18/18 [00:00<00:00, 110862.66it/s]\n",
      "QUEUEING TASKS | : 100%|██████████| 18/18 [00:00<00:00, 1748.31it/s]\n",
      "PROCESSING TASKS | :   0%|          | 0/18 [00:00<?, ?it/s]"
     ]
    },
    {
     "name": "stdout",
     "output_type": "stream",
     "text": [
      "HLS.S30.T11SKU.2018192T183921.v2.0\n"
     ]
    },
    {
     "name": "stderr",
     "output_type": "stream",
     "text": [
      "PROCESSING TASKS | : 100%|██████████| 18/18 [00:12<00:00,  1.39it/s]\n",
      "COLLECTING RESULTS | : 100%|██████████| 18/18 [00:00<00:00, 159614.11it/s]\n",
      "QUEUEING TASKS | : 100%|██████████| 15/15 [00:00<00:00, 2037.98it/s]\n",
      "PROCESSING TASKS | :   0%|          | 0/15 [00:00<?, ?it/s]"
     ]
    },
    {
     "name": "stdout",
     "output_type": "stream",
     "text": [
      "HLS.S30.T11SKU.2018197T183929.v2.0\n"
     ]
    },
    {
     "name": "stderr",
     "output_type": "stream",
     "text": [
      "PROCESSING TASKS | : 100%|██████████| 15/15 [00:11<00:00,  1.32it/s]\n",
      "COLLECTING RESULTS | : 100%|██████████| 15/15 [00:00<00:00, 21055.74it/s]\n",
      "QUEUEING TASKS | : 100%|██████████| 15/15 [00:00<00:00, 1254.40it/s]\n",
      "PROCESSING TASKS | :   0%|          | 0/15 [00:00<?, ?it/s]"
     ]
    },
    {
     "name": "stdout",
     "output_type": "stream",
     "text": [
      "HLS.L30.T11SKU.2018202T183319.v2.0\n"
     ]
    },
    {
     "name": "stderr",
     "output_type": "stream",
     "text": [
      "PROCESSING TASKS | : 100%|██████████| 15/15 [00:11<00:00,  1.29it/s]\n",
      "COLLECTING RESULTS | : 100%|██████████| 15/15 [00:00<00:00, 99548.35it/s]\n",
      "QUEUEING TASKS | : 100%|██████████| 18/18 [00:00<00:00, 1112.51it/s]\n",
      "PROCESSING TASKS | :   0%|          | 0/18 [00:00<?, ?it/s]"
     ]
    },
    {
     "name": "stdout",
     "output_type": "stream",
     "text": [
      "HLS.L30.T10SGD.2018202T183343.v2.0\n"
     ]
    },
    {
     "name": "stderr",
     "output_type": "stream",
     "text": [
      "PROCESSING TASKS | : 100%|██████████| 18/18 [00:14<00:00,  1.29it/s]\n",
      "COLLECTING RESULTS | : 100%|██████████| 18/18 [00:00<00:00, 76183.12it/s]\n",
      "QUEUEING TASKS | : 100%|██████████| 18/18 [00:00<00:00, 1523.14it/s]\n",
      "PROCESSING TASKS | :   0%|          | 0/18 [00:00<?, ?it/s]"
     ]
    },
    {
     "name": "stdout",
     "output_type": "stream",
     "text": [
      "HLS.S30.T10SGD.2018202T183921.v2.0\n"
     ]
    },
    {
     "name": "stderr",
     "output_type": "stream",
     "text": [
      "PROCESSING TASKS | : 100%|██████████| 18/18 [00:13<00:00,  1.36it/s]\n",
      "COLLECTING RESULTS | : 100%|██████████| 18/18 [00:00<00:00, 17971.31it/s]\n",
      "QUEUEING TASKS | : 100%|██████████| 18/18 [00:00<00:00, 508.18it/s]\n",
      "PROCESSING TASKS | :   0%|          | 0/18 [00:00<?, ?it/s]"
     ]
    },
    {
     "name": "stdout",
     "output_type": "stream",
     "text": [
      "HLS.S30.T11SKU.2018202T183921.v2.0\n"
     ]
    },
    {
     "name": "stderr",
     "output_type": "stream",
     "text": [
      "PROCESSING TASKS | : 100%|██████████| 18/18 [00:17<00:00,  1.02it/s]\n",
      "COLLECTING RESULTS | : 100%|██████████| 18/18 [00:00<00:00, 29983.11it/s]\n",
      "QUEUEING TASKS | : 100%|██████████| 18/18 [00:00<00:00, 835.09it/s]\n",
      "PROCESSING TASKS | :   0%|          | 0/18 [00:00<?, ?it/s]"
     ]
    },
    {
     "name": "stdout",
     "output_type": "stream",
     "text": [
      "HLS.S30.T10SGD.2018207T184029.v2.0\n"
     ]
    },
    {
     "name": "stderr",
     "output_type": "stream",
     "text": [
      "PROCESSING TASKS | : 100%|██████████| 18/18 [00:14<00:00,  1.25it/s]\n",
      "COLLECTING RESULTS | : 100%|██████████| 18/18 [00:00<00:00, 97794.65it/s]\n",
      "QUEUEING TASKS | : 100%|██████████| 18/18 [00:00<00:00, 1440.43it/s]\n",
      "PROCESSING TASKS | :   0%|          | 0/18 [00:00<?, ?it/s]"
     ]
    },
    {
     "name": "stdout",
     "output_type": "stream",
     "text": [
      "HLS.S30.T11SKU.2018207T184029.v2.0\n"
     ]
    },
    {
     "name": "stderr",
     "output_type": "stream",
     "text": [
      "PROCESSING TASKS | : 100%|██████████| 18/18 [00:12<00:00,  1.39it/s]\n",
      "COLLECTING RESULTS | : 100%|██████████| 18/18 [00:00<00:00, 165564.63it/s]\n",
      "QUEUEING TASKS | : 100%|██████████| 18/18 [00:00<00:00, 1963.73it/s]\n",
      "PROCESSING TASKS | :   0%|          | 0/18 [00:00<?, ?it/s]"
     ]
    },
    {
     "name": "stdout",
     "output_type": "stream",
     "text": [
      "HLS.S30.T10SGD.2018212T183921.v2.0\n"
     ]
    },
    {
     "name": "stderr",
     "output_type": "stream",
     "text": [
      "PROCESSING TASKS | : 100%|██████████| 18/18 [00:16<00:00,  1.09it/s]\n",
      "COLLECTING RESULTS | : 100%|██████████| 18/18 [00:00<00:00, 82964.25it/s]\n",
      "QUEUEING TASKS | : 100%|██████████| 18/18 [00:00<00:00, 1171.14it/s]\n",
      "PROCESSING TASKS | :   0%|          | 0/18 [00:00<?, ?it/s]"
     ]
    },
    {
     "name": "stdout",
     "output_type": "stream",
     "text": [
      "HLS.S30.T11SKU.2018212T183921.v2.0\n"
     ]
    },
    {
     "name": "stderr",
     "output_type": "stream",
     "text": [
      "PROCESSING TASKS | : 100%|██████████| 18/18 [00:18<00:00,  1.02s/it]\n",
      "COLLECTING RESULTS | : 100%|██████████| 18/18 [00:00<00:00, 24260.11it/s]\n",
      "QUEUEING TASKS | : 100%|██████████| 18/18 [00:00<00:00, 425.60it/s]\n",
      "PROCESSING TASKS | :   0%|          | 0/18 [00:00<?, ?it/s]"
     ]
    },
    {
     "name": "stdout",
     "output_type": "stream",
     "text": [
      "HLS.S30.T11SKU.2018217T184019.v2.0\n"
     ]
    },
    {
     "name": "stderr",
     "output_type": "stream",
     "text": [
      "PROCESSING TASKS | : 100%|██████████| 18/18 [00:16<00:00,  1.08it/s]\n",
      "COLLECTING RESULTS | : 100%|██████████| 18/18 [00:00<00:00, 165928.51it/s]\n",
      "QUEUEING TASKS | : 100%|██████████| 15/15 [00:00<00:00, 1584.63it/s]\n",
      "PROCESSING TASKS | :   0%|          | 0/15 [00:00<?, ?it/s]"
     ]
    },
    {
     "name": "stdout",
     "output_type": "stream",
     "text": [
      "HLS.S30.T10SGD.2018217T184019.v2.0\n"
     ]
    },
    {
     "name": "stderr",
     "output_type": "stream",
     "text": [
      "PROCESSING TASKS | : 100%|██████████| 15/15 [00:11<00:00,  1.29it/s]\n",
      "COLLECTING RESULTS | : 100%|██████████| 15/15 [00:00<00:00, 119156.36it/s]\n",
      "QUEUEING TASKS | : 100%|██████████| 15/15 [00:00<00:00, 1472.96it/s]\n",
      "PROCESSING TASKS | :   0%|          | 0/15 [00:00<?, ?it/s]"
     ]
    },
    {
     "name": "stdout",
     "output_type": "stream",
     "text": [
      "HLS.L30.T11SKU.2018218T183328.v2.0\n"
     ]
    },
    {
     "name": "stderr",
     "output_type": "stream",
     "text": [
      "PROCESSING TASKS | : 100%|██████████| 15/15 [00:10<00:00,  1.41it/s]\n",
      "COLLECTING RESULTS | : 100%|██████████| 15/15 [00:00<00:00, 143313.35it/s]\n",
      "QUEUEING TASKS | : 100%|██████████| 18/18 [00:00<00:00, 2049.06it/s]\n",
      "PROCESSING TASKS | :   0%|          | 0/18 [00:00<?, ?it/s]"
     ]
    },
    {
     "name": "stdout",
     "output_type": "stream",
     "text": [
      "HLS.L30.T10SGD.2018218T183352.v2.0\n"
     ]
    },
    {
     "name": "stderr",
     "output_type": "stream",
     "text": [
      "PROCESSING TASKS | : 100%|██████████| 18/18 [00:12<00:00,  1.42it/s]\n",
      "COLLECTING RESULTS | : 100%|██████████| 18/18 [00:00<00:00, 139294.23it/s]\n",
      "QUEUEING TASKS | : 100%|██████████| 18/18 [00:00<00:00, 2022.38it/s]\n",
      "PROCESSING TASKS | :   0%|          | 0/18 [00:00<?, ?it/s]"
     ]
    },
    {
     "name": "stdout",
     "output_type": "stream",
     "text": [
      "HLS.S30.T10SGD.2018222T183921.v2.0\n"
     ]
    },
    {
     "name": "stderr",
     "output_type": "stream",
     "text": [
      "PROCESSING TASKS | : 100%|██████████| 18/18 [00:16<00:00,  1.09it/s]\n",
      "COLLECTING RESULTS | : 100%|██████████| 18/18 [00:00<00:00, 77195.78it/s]\n",
      "QUEUEING TASKS | : 100%|██████████| 18/18 [00:00<00:00, 2084.70it/s]\n",
      "PROCESSING TASKS | :   0%|          | 0/18 [00:00<?, ?it/s]"
     ]
    },
    {
     "name": "stdout",
     "output_type": "stream",
     "text": [
      "HLS.S30.T11SKU.2018222T183921.v2.0\n"
     ]
    },
    {
     "name": "stderr",
     "output_type": "stream",
     "text": [
      "PROCESSING TASKS | : 100%|██████████| 18/18 [00:13<00:00,  1.37it/s]\n",
      "COLLECTING RESULTS | : 100%|██████████| 18/18 [00:00<00:00, 141381.03it/s]\n",
      "QUEUEING TASKS | : 100%|██████████| 18/18 [00:00<00:00, 1836.07it/s]\n",
      "PROCESSING TASKS | :   0%|          | 0/18 [00:00<?, ?it/s]"
     ]
    },
    {
     "name": "stdout",
     "output_type": "stream",
     "text": [
      "HLS.S30.T10SGD.2018227T184019.v2.0\n"
     ]
    },
    {
     "name": "stderr",
     "output_type": "stream",
     "text": [
      "PROCESSING TASKS | : 100%|██████████| 18/18 [00:14<00:00,  1.25it/s]\n",
      "COLLECTING RESULTS | : 100%|██████████| 18/18 [00:00<00:00, 69518.85it/s]\n",
      "QUEUEING TASKS | : 100%|██████████| 18/18 [00:00<00:00, 1714.10it/s]\n",
      "PROCESSING TASKS | :   0%|          | 0/18 [00:00<?, ?it/s]"
     ]
    },
    {
     "name": "stdout",
     "output_type": "stream",
     "text": [
      "HLS.S30.T11SKU.2018227T184019.v2.0\n"
     ]
    },
    {
     "name": "stderr",
     "output_type": "stream",
     "text": [
      "PROCESSING TASKS | : 100%|██████████| 18/18 [00:13<00:00,  1.31it/s]\n",
      "COLLECTING RESULTS | : 100%|██████████| 18/18 [00:00<00:00, 90092.45it/s]\n",
      "QUEUEING TASKS | : 100%|██████████| 18/18 [00:00<00:00, 628.17it/s]\n",
      "PROCESSING TASKS | :   0%|          | 0/18 [00:00<?, ?it/s]"
     ]
    },
    {
     "name": "stdout",
     "output_type": "stream",
     "text": [
      "HLS.S30.T10SGD.2018232T183921.v2.0\n"
     ]
    },
    {
     "name": "stderr",
     "output_type": "stream",
     "text": [
      "PROCESSING TASKS | : 100%|██████████| 18/18 [00:10<00:00,  1.64it/s]\n",
      "COLLECTING RESULTS | : 100%|██████████| 18/18 [00:00<00:00, 117597.31it/s]\n",
      "QUEUEING TASKS | : 100%|██████████| 15/15 [00:00<00:00, 1394.26it/s]\n",
      "PROCESSING TASKS | :   0%|          | 0/15 [00:00<?, ?it/s]"
     ]
    },
    {
     "name": "stdout",
     "output_type": "stream",
     "text": [
      "HLS.S30.T11SKU.2018232T183921.v2.0\n"
     ]
    },
    {
     "name": "stderr",
     "output_type": "stream",
     "text": [
      "PROCESSING TASKS | : 100%|██████████| 15/15 [00:11<00:00,  1.26it/s]\n",
      "COLLECTING RESULTS | : 100%|██████████| 15/15 [00:00<00:00, 75077.04it/s]\n",
      "QUEUEING TASKS | : 100%|██████████| 18/18 [00:00<00:00, 880.98it/s]\n",
      "PROCESSING TASKS | :   0%|          | 0/18 [00:00<?, ?it/s]"
     ]
    },
    {
     "name": "stdout",
     "output_type": "stream",
     "text": [
      "HLS.L30.T11SKU.2018234T183336.v2.0\n"
     ]
    },
    {
     "name": "stderr",
     "output_type": "stream",
     "text": [
      "PROCESSING TASKS | : 100%|██████████| 18/18 [00:14<00:00,  1.21it/s]\n",
      "COLLECTING RESULTS | : 100%|██████████| 18/18 [00:00<00:00, 52465.23it/s]\n",
      "QUEUEING TASKS | : 100%|██████████| 18/18 [00:00<00:00, 1252.97it/s]\n",
      "PROCESSING TASKS | :   0%|          | 0/18 [00:00<?, ?it/s]"
     ]
    },
    {
     "name": "stdout",
     "output_type": "stream",
     "text": [
      "HLS.S30.T10SGD.2018237T183909.v2.0\n"
     ]
    },
    {
     "name": "stderr",
     "output_type": "stream",
     "text": [
      "PROCESSING TASKS | : 100%|██████████| 18/18 [00:14<00:00,  1.29it/s]\n",
      "COLLECTING RESULTS | : 100%|██████████| 18/18 [00:00<00:00, 28992.88it/s]\n",
      "QUEUEING TASKS | : 100%|██████████| 18/18 [00:00<00:00, 2060.52it/s]\n",
      "PROCESSING TASKS | :   0%|          | 0/18 [00:00<?, ?it/s]"
     ]
    },
    {
     "name": "stdout",
     "output_type": "stream",
     "text": [
      "HLS.S30.T11SKU.2018237T183909.v2.0\n"
     ]
    },
    {
     "name": "stderr",
     "output_type": "stream",
     "text": [
      "PROCESSING TASKS | : 100%|██████████| 18/18 [02:15<00:00,  7.50s/it]\n",
      "COLLECTING RESULTS | : 100%|██████████| 18/18 [00:00<00:00, 37824.38it/s]\n",
      "QUEUEING TASKS | : 100%|██████████| 18/18 [00:00<00:00, 826.68it/s]\n",
      "PROCESSING TASKS | :   0%|          | 0/18 [00:00<?, ?it/s]"
     ]
    },
    {
     "name": "stdout",
     "output_type": "stream",
     "text": [
      "HLS.S30.T11SKU.2018242T183921.v2.0\n"
     ]
    },
    {
     "name": "stderr",
     "output_type": "stream",
     "text": [
      "PROCESSING TASKS | : 100%|██████████| 18/18 [00:14<00:00,  1.25it/s]\n",
      "COLLECTING RESULTS | : 100%|██████████| 18/18 [00:00<00:00, 64089.53it/s]\n",
      "QUEUEING TASKS | : 100%|██████████| 15/15 [00:00<00:00, 639.92it/s]\n",
      "PROCESSING TASKS | :   0%|          | 0/15 [00:00<?, ?it/s]"
     ]
    },
    {
     "name": "stdout",
     "output_type": "stream",
     "text": [
      "HLS.S30.T11SKU.2018247T184019.v2.0\n"
     ]
    },
    {
     "name": "stderr",
     "output_type": "stream",
     "text": [
      "PROCESSING TASKS | : 100%|██████████| 15/15 [00:12<00:00,  1.16it/s]\n",
      "COLLECTING RESULTS | : 100%|██████████| 15/15 [00:00<00:00, 94042.69it/s]\n",
      "QUEUEING TASKS | : 100%|██████████| 15/15 [00:00<00:00, 1479.19it/s]\n",
      "PROCESSING TASKS | :   0%|          | 0/15 [00:00<?, ?it/s]"
     ]
    },
    {
     "name": "stdout",
     "output_type": "stream",
     "text": [
      "HLS.L30.T11SKU.2018250T183342.v2.0\n"
     ]
    },
    {
     "name": "stderr",
     "output_type": "stream",
     "text": [
      "PROCESSING TASKS | : 100%|██████████| 15/15 [00:12<00:00,  1.19it/s]\n",
      "COLLECTING RESULTS | : 100%|██████████| 15/15 [00:00<00:00, 76260.07it/s]\n",
      "QUEUEING TASKS | : 100%|██████████| 18/18 [00:00<00:00, 1216.94it/s]\n",
      "PROCESSING TASKS | :   0%|          | 0/18 [00:00<?, ?it/s]"
     ]
    },
    {
     "name": "stdout",
     "output_type": "stream",
     "text": [
      "HLS.L30.T10SGD.2018250T183406.v2.0\n"
     ]
    },
    {
     "name": "stderr",
     "output_type": "stream",
     "text": [
      "PROCESSING TASKS | : 100%|██████████| 18/18 [00:14<00:00,  1.21it/s]\n",
      "COLLECTING RESULTS | : 100%|██████████| 18/18 [00:00<00:00, 114737.80it/s]\n",
      "QUEUEING TASKS | : 100%|██████████| 18/18 [00:00<00:00, 1474.73it/s]\n",
      "PROCESSING TASKS | :   0%|          | 0/18 [00:00<?, ?it/s]"
     ]
    },
    {
     "name": "stdout",
     "output_type": "stream",
     "text": [
      "HLS.S30.T11SKU.2018252T183921.v2.0\n"
     ]
    },
    {
     "name": "stderr",
     "output_type": "stream",
     "text": [
      "PROCESSING TASKS | : 100%|██████████| 18/18 [00:21<00:00,  1.17s/it]\n",
      "COLLECTING RESULTS | : 100%|██████████| 18/18 [00:00<00:00, 71156.90it/s]\n",
      "QUEUEING TASKS | : 100%|██████████| 18/18 [00:00<00:00, 1569.72it/s]\n",
      "PROCESSING TASKS | :   0%|          | 0/18 [00:00<?, ?it/s]"
     ]
    },
    {
     "name": "stdout",
     "output_type": "stream",
     "text": [
      "HLS.S30.T10SGD.2018252T183921.v2.0\n"
     ]
    },
    {
     "name": "stderr",
     "output_type": "stream",
     "text": [
      "PROCESSING TASKS | : 100%|██████████| 18/18 [00:13<00:00,  1.33it/s]\n",
      "COLLECTING RESULTS | : 100%|██████████| 18/18 [00:00<00:00, 9226.14it/s]\n",
      "QUEUEING TASKS | : 100%|██████████| 18/18 [00:00<00:00, 673.10it/s]\n",
      "PROCESSING TASKS | :   0%|          | 0/18 [00:00<?, ?it/s]"
     ]
    },
    {
     "name": "stdout",
     "output_type": "stream",
     "text": [
      "HLS.S30.T10SGD.2018257T183949.v2.0\n"
     ]
    },
    {
     "name": "stderr",
     "output_type": "stream",
     "text": [
      "PROCESSING TASKS | : 100%|██████████| 18/18 [00:12<00:00,  1.48it/s]\n",
      "COLLECTING RESULTS | : 100%|██████████| 18/18 [00:00<00:00, 40502.94it/s]\n",
      "QUEUEING TASKS | : 100%|██████████| 18/18 [00:00<00:00, 1370.69it/s]\n",
      "PROCESSING TASKS | :   0%|          | 0/18 [00:00<?, ?it/s]"
     ]
    },
    {
     "name": "stdout",
     "output_type": "stream",
     "text": [
      "HLS.S30.T11SKU.2018257T183949.v2.0\n"
     ]
    },
    {
     "name": "stderr",
     "output_type": "stream",
     "text": [
      "PROCESSING TASKS | : 100%|██████████| 18/18 [00:14<00:00,  1.24it/s]\n",
      "COLLECTING RESULTS | : 100%|██████████| 18/18 [00:00<00:00, 86978.65it/s]\n",
      "QUEUEING TASKS | : 100%|██████████| 15/15 [00:00<00:00, 1751.47it/s]\n",
      "PROCESSING TASKS | :   0%|          | 0/15 [00:00<?, ?it/s]"
     ]
    },
    {
     "name": "stdout",
     "output_type": "stream",
     "text": [
      "HLS.S30.T10SGD.2018262T184031.v2.0\n"
     ]
    },
    {
     "name": "stderr",
     "output_type": "stream",
     "text": [
      "PROCESSING TASKS | : 100%|██████████| 15/15 [00:10<00:00,  1.37it/s]\n",
      "COLLECTING RESULTS | : 100%|██████████| 15/15 [00:00<00:00, 77006.81it/s]\n",
      "QUEUEING TASKS | : 100%|██████████| 15/15 [00:00<00:00, 6324.98it/s]\n",
      "PROCESSING TASKS | :   0%|          | 0/15 [00:00<?, ?it/s]"
     ]
    },
    {
     "name": "stdout",
     "output_type": "stream",
     "text": [
      "HLS.L30.T11SKU.2018266T183347.v2.0\n"
     ]
    },
    {
     "name": "stderr",
     "output_type": "stream",
     "text": [
      "PROCESSING TASKS | : 100%|██████████| 15/15 [00:11<00:00,  1.33it/s]\n",
      "COLLECTING RESULTS | : 100%|██████████| 15/15 [00:00<00:00, 123604.24it/s]\n",
      "QUEUEING TASKS | : 100%|██████████| 18/18 [00:00<00:00, 1801.59it/s]\n",
      "PROCESSING TASKS | :   0%|          | 0/18 [00:00<?, ?it/s]"
     ]
    },
    {
     "name": "stdout",
     "output_type": "stream",
     "text": [
      "HLS.L30.T10SGD.2018266T183411.v2.0\n"
     ]
    },
    {
     "name": "stderr",
     "output_type": "stream",
     "text": [
      "PROCESSING TASKS | : 100%|██████████| 18/18 [00:14<00:00,  1.24it/s]\n",
      "COLLECTING RESULTS | : 100%|██████████| 18/18 [00:00<00:00, 99208.24it/s]\n",
      "QUEUEING TASKS | : 100%|██████████| 18/18 [00:00<00:00, 2732.94it/s]\n",
      "PROCESSING TASKS | :   0%|          | 0/18 [00:00<?, ?it/s]"
     ]
    },
    {
     "name": "stdout",
     "output_type": "stream",
     "text": [
      "HLS.S30.T11SKU.2018267T184109.v2.0\n"
     ]
    },
    {
     "name": "stderr",
     "output_type": "stream",
     "text": [
      "PROCESSING TASKS | : 100%|██████████| 18/18 [00:14<00:00,  1.20it/s]\n",
      "COLLECTING RESULTS | : 100%|██████████| 18/18 [00:00<00:00, 147744.56it/s]\n",
      "QUEUEING TASKS | : 100%|██████████| 18/18 [00:00<00:00, 1812.88it/s]\n",
      "PROCESSING TASKS | :   0%|          | 0/18 [00:00<?, ?it/s]"
     ]
    },
    {
     "name": "stdout",
     "output_type": "stream",
     "text": [
      "HLS.S30.T10SGD.2018267T184109.v2.0\n"
     ]
    },
    {
     "name": "stderr",
     "output_type": "stream",
     "text": [
      "PROCESSING TASKS | : 100%|██████████| 18/18 [00:14<00:00,  1.24it/s]\n",
      "COLLECTING RESULTS | : 100%|██████████| 18/18 [00:00<00:00, 18997.85it/s]\n",
      "QUEUEING TASKS | : 100%|██████████| 18/18 [00:00<00:00, 1494.05it/s]\n",
      "PROCESSING TASKS | :   0%|          | 0/18 [00:00<?, ?it/s]"
     ]
    },
    {
     "name": "stdout",
     "output_type": "stream",
     "text": [
      "HLS.S30.T11SKU.2018272T184141.v2.0\n"
     ]
    },
    {
     "name": "stderr",
     "output_type": "stream",
     "text": [
      "PROCESSING TASKS | : 100%|██████████| 18/18 [00:13<00:00,  1.38it/s]\n",
      "COLLECTING RESULTS | : 100%|██████████| 18/18 [00:00<00:00, 65936.66it/s]\n",
      "QUEUEING TASKS | : 100%|██████████| 15/15 [00:00<00:00, 1384.81it/s]\n",
      "PROCESSING TASKS | :   0%|          | 0/15 [00:00<?, ?it/s]"
     ]
    },
    {
     "name": "stdout",
     "output_type": "stream",
     "text": [
      "HLS.S30.T10SGD.2018277T184219.v2.0\n"
     ]
    },
    {
     "name": "stderr",
     "output_type": "stream",
     "text": [
      "PROCESSING TASKS | : 100%|██████████| 15/15 [00:12<00:00,  1.24it/s]\n",
      "COLLECTING RESULTS | : 100%|██████████| 15/15 [00:00<00:00, 19105.55it/s]\n",
      "QUEUEING TASKS | : 100%|██████████| 15/15 [00:00<00:00, 1021.26it/s]\n",
      "PROCESSING TASKS | :   0%|          | 0/15 [00:00<?, ?it/s]"
     ]
    },
    {
     "name": "stdout",
     "output_type": "stream",
     "text": [
      "HLS.L30.T11SKU.2018282T183355.v2.0\n"
     ]
    },
    {
     "name": "stderr",
     "output_type": "stream",
     "text": [
      "PROCESSING TASKS | : 100%|██████████| 15/15 [00:10<00:00,  1.42it/s]\n",
      "COLLECTING RESULTS | : 100%|██████████| 15/15 [00:00<00:00, 109798.53it/s]\n",
      "QUEUEING TASKS | : 100%|██████████| 18/18 [00:00<00:00, 1927.48it/s]\n",
      "PROCESSING TASKS | :   0%|          | 0/18 [00:00<?, ?it/s]"
     ]
    },
    {
     "name": "stdout",
     "output_type": "stream",
     "text": [
      "HLS.L30.T10SGD.2018282T183419.v2.0\n"
     ]
    },
    {
     "name": "stderr",
     "output_type": "stream",
     "text": [
      "PROCESSING TASKS | : 100%|██████████| 18/18 [00:15<00:00,  1.14it/s]\n",
      "COLLECTING RESULTS | : 100%|██████████| 18/18 [00:00<00:00, 112514.86it/s]\n",
      "QUEUEING TASKS | : 100%|██████████| 18/18 [00:00<00:00, 1049.44it/s]\n",
      "PROCESSING TASKS | :   0%|          | 0/18 [00:00<?, ?it/s]"
     ]
    },
    {
     "name": "stdout",
     "output_type": "stream",
     "text": [
      "HLS.S30.T11SKU.2018282T184251.v2.0\n"
     ]
    },
    {
     "name": "stderr",
     "output_type": "stream",
     "text": [
      "PROCESSING TASKS | : 100%|██████████| 18/18 [00:14<00:00,  1.26it/s]\n",
      "COLLECTING RESULTS | : 100%|██████████| 18/18 [00:00<00:00, 130392.87it/s]\n",
      "QUEUEING TASKS | : 100%|██████████| 18/18 [00:00<00:00, 4100.00it/s]\n",
      "PROCESSING TASKS | :   0%|          | 0/18 [00:00<?, ?it/s]"
     ]
    },
    {
     "name": "stdout",
     "output_type": "stream",
     "text": [
      "HLS.S30.T10SGD.2018282T184251.v2.0\n"
     ]
    },
    {
     "name": "stderr",
     "output_type": "stream",
     "text": [
      "PROCESSING TASKS | : 100%|██████████| 18/18 [00:14<00:00,  1.27it/s]\n",
      "COLLECTING RESULTS | : 100%|██████████| 18/18 [00:00<00:00, 118893.66it/s]\n",
      "QUEUEING TASKS | : 100%|██████████| 18/18 [00:00<00:00, 1432.62it/s]\n",
      "PROCESSING TASKS | :   0%|          | 0/18 [00:00<?, ?it/s]"
     ]
    },
    {
     "name": "stdout",
     "output_type": "stream",
     "text": [
      "HLS.S30.T11SKU.2018287T184329.v2.0\n"
     ]
    },
    {
     "name": "stderr",
     "output_type": "stream",
     "text": [
      "PROCESSING TASKS | : 100%|██████████| 18/18 [00:14<00:00,  1.21it/s]\n",
      "COLLECTING RESULTS | : 100%|██████████| 18/18 [00:00<00:00, 125411.08it/s]\n",
      "QUEUEING TASKS | : 100%|██████████| 18/18 [00:00<00:00, 2250.43it/s]\n",
      "PROCESSING TASKS | :   0%|          | 0/18 [00:00<?, ?it/s]"
     ]
    },
    {
     "name": "stdout",
     "output_type": "stream",
     "text": [
      "HLS.S30.T10SGD.2018287T184329.v2.0\n"
     ]
    },
    {
     "name": "stderr",
     "output_type": "stream",
     "text": [
      "PROCESSING TASKS | : 100%|██████████| 18/18 [00:13<00:00,  1.35it/s]\n",
      "COLLECTING RESULTS | : 100%|██████████| 18/18 [00:00<00:00, 73156.47it/s]\n",
      "QUEUEING TASKS | : 100%|██████████| 18/18 [00:00<00:00, 1444.13it/s]\n",
      "PROCESSING TASKS | :   0%|          | 0/18 [00:00<?, ?it/s]"
     ]
    },
    {
     "name": "stdout",
     "output_type": "stream",
     "text": [
      "HLS.S30.T10SGD.2018292T184401.v2.0\n"
     ]
    },
    {
     "name": "stderr",
     "output_type": "stream",
     "text": [
      "PROCESSING TASKS | : 100%|██████████| 18/18 [00:12<00:00,  1.49it/s]\n",
      "COLLECTING RESULTS | : 100%|██████████| 18/18 [00:00<00:00, 58479.84it/s]\n",
      "QUEUEING TASKS | : 100%|██████████| 18/18 [00:00<00:00, 1067.69it/s]\n",
      "PROCESSING TASKS | :   0%|          | 0/18 [00:00<?, ?it/s]"
     ]
    },
    {
     "name": "stdout",
     "output_type": "stream",
     "text": [
      "HLS.S30.T11SKU.2018292T184401.v2.0\n"
     ]
    },
    {
     "name": "stderr",
     "output_type": "stream",
     "text": [
      "PROCESSING TASKS | : 100%|██████████| 18/18 [00:15<00:00,  1.13it/s]\n",
      "COLLECTING RESULTS | : 100%|██████████| 18/18 [00:00<00:00, 90960.81it/s]\n",
      "QUEUEING TASKS | : 100%|██████████| 18/18 [00:00<00:00, 2229.17it/s]\n",
      "PROCESSING TASKS | :   0%|          | 0/18 [00:00<?, ?it/s]"
     ]
    },
    {
     "name": "stdout",
     "output_type": "stream",
     "text": [
      "HLS.S30.T10SGD.2018297T184439.v2.0\n"
     ]
    },
    {
     "name": "stderr",
     "output_type": "stream",
     "text": [
      "PROCESSING TASKS | : 100%|██████████| 18/18 [02:16<00:00,  7.59s/it]\n",
      "COLLECTING RESULTS | : 100%|██████████| 18/18 [00:00<00:00, 26205.30it/s]\n",
      "QUEUEING TASKS | : 100%|██████████| 15/15 [00:00<00:00, 995.89it/s]\n",
      "PROCESSING TASKS | :   0%|          | 0/15 [00:00<?, ?it/s]"
     ]
    },
    {
     "name": "stdout",
     "output_type": "stream",
     "text": [
      "HLS.S30.T11SKU.2018297T184439.v2.0\n"
     ]
    },
    {
     "name": "stderr",
     "output_type": "stream",
     "text": [
      "PROCESSING TASKS | : 100%|██████████| 15/15 [00:12<00:00,  1.17it/s]\n",
      "COLLECTING RESULTS | : 100%|██████████| 15/15 [00:00<00:00, 51824.18it/s]\n",
      "QUEUEING TASKS | : 100%|██████████| 15/15 [00:00<00:00, 1085.80it/s]\n",
      "PROCESSING TASKS | :   0%|          | 0/15 [00:00<?, ?it/s]"
     ]
    },
    {
     "name": "stdout",
     "output_type": "stream",
     "text": [
      "HLS.L30.T11SKU.2018298T183400.v2.0\n"
     ]
    },
    {
     "name": "stderr",
     "output_type": "stream",
     "text": [
      "PROCESSING TASKS | : 100%|██████████| 15/15 [00:11<00:00,  1.30it/s]\n",
      "COLLECTING RESULTS | : 100%|██████████| 15/15 [00:00<00:00, 35167.45it/s]\n",
      "QUEUEING TASKS | : 100%|██████████| 18/18 [00:00<00:00, 915.05it/s]\n",
      "PROCESSING TASKS | :   0%|          | 0/18 [00:00<?, ?it/s]"
     ]
    },
    {
     "name": "stdout",
     "output_type": "stream",
     "text": [
      "HLS.L30.T10SGD.2018298T183424.v2.0\n"
     ]
    },
    {
     "name": "stderr",
     "output_type": "stream",
     "text": [
      "PROCESSING TASKS | : 100%|██████████| 18/18 [00:13<00:00,  1.29it/s]\n",
      "COLLECTING RESULTS | : 100%|██████████| 18/18 [00:00<00:00, 162360.15it/s]\n",
      "QUEUEING TASKS | : 100%|██████████| 18/18 [00:00<00:00, 1454.81it/s]\n",
      "PROCESSING TASKS | :   0%|          | 0/18 [00:00<?, ?it/s]"
     ]
    },
    {
     "name": "stdout",
     "output_type": "stream",
     "text": [
      "HLS.S30.T11SKU.2018302T184501.v2.0\n"
     ]
    },
    {
     "name": "stderr",
     "output_type": "stream",
     "text": [
      "PROCESSING TASKS | : 100%|██████████| 18/18 [00:15<00:00,  1.20it/s]\n",
      "COLLECTING RESULTS | : 100%|██████████| 18/18 [00:00<00:00, 61680.94it/s]\n",
      "QUEUEING TASKS | : 100%|██████████| 18/18 [00:00<00:00, 1000.85it/s]\n",
      "PROCESSING TASKS | :   0%|          | 0/18 [00:00<?, ?it/s]"
     ]
    },
    {
     "name": "stdout",
     "output_type": "stream",
     "text": [
      "HLS.S30.T10SGD.2018302T184501.v2.0\n"
     ]
    },
    {
     "name": "stderr",
     "output_type": "stream",
     "text": [
      "PROCESSING TASKS | : 100%|██████████| 18/18 [01:19<00:00,  4.39s/it]\n",
      "COLLECTING RESULTS | : 100%|██████████| 18/18 [00:00<00:00, 71561.58it/s]\n",
      "QUEUEING TASKS | : 100%|██████████| 18/18 [00:00<00:00, 1079.32it/s]\n",
      "PROCESSING TASKS | :   0%|          | 0/18 [00:00<?, ?it/s]"
     ]
    },
    {
     "name": "stdout",
     "output_type": "stream",
     "text": [
      "HLS.S30.T10SGD.2018307T184529.v2.0\n"
     ]
    },
    {
     "name": "stderr",
     "output_type": "stream",
     "text": [
      "PROCESSING TASKS | : 100%|██████████| 18/18 [00:15<00:00,  1.13it/s]\n",
      "COLLECTING RESULTS | : 100%|██████████| 18/18 [00:00<00:00, 77912.77it/s]\n",
      "QUEUEING TASKS | : 100%|██████████| 18/18 [00:00<00:00, 1247.89it/s]\n",
      "PROCESSING TASKS | :   0%|          | 0/18 [00:00<?, ?it/s]"
     ]
    },
    {
     "name": "stdout",
     "output_type": "stream",
     "text": [
      "HLS.S30.T11SKU.2018307T184529.v2.0\n"
     ]
    },
    {
     "name": "stderr",
     "output_type": "stream",
     "text": [
      "PROCESSING TASKS | : 100%|██████████| 18/18 [00:13<00:00,  1.29it/s]\n",
      "COLLECTING RESULTS | : 100%|██████████| 18/18 [00:00<00:00, 131988.59it/s]\n",
      "QUEUEING TASKS | : 100%|██████████| 18/18 [00:00<00:00, 1478.02it/s]\n",
      "PROCESSING TASKS | :   0%|          | 0/18 [00:00<?, ?it/s]"
     ]
    },
    {
     "name": "stdout",
     "output_type": "stream",
     "text": [
      "HLS.S30.T11SKU.2018312T184601.v2.0\n"
     ]
    },
    {
     "name": "stderr",
     "output_type": "stream",
     "text": [
      "PROCESSING TASKS | : 100%|██████████| 18/18 [00:15<00:00,  1.17it/s]\n",
      "COLLECTING RESULTS | : 100%|██████████| 18/18 [00:00<00:00, 22449.44it/s]\n",
      "QUEUEING TASKS | : 100%|██████████| 15/15 [00:00<00:00, 1647.32it/s]\n",
      "PROCESSING TASKS | :   0%|          | 0/15 [00:00<?, ?it/s]"
     ]
    },
    {
     "name": "stdout",
     "output_type": "stream",
     "text": [
      "HLS.S30.T10SGD.2018312T184601.v2.0\n"
     ]
    },
    {
     "name": "stderr",
     "output_type": "stream",
     "text": [
      "PROCESSING TASKS | : 100%|██████████| 15/15 [00:12<00:00,  1.22it/s]\n",
      "COLLECTING RESULTS | : 100%|██████████| 15/15 [00:00<00:00, 57403.80it/s]\n",
      "QUEUEING TASKS | : 100%|██████████| 15/15 [00:00<00:00, 4491.97it/s]\n",
      "PROCESSING TASKS | :   0%|          | 0/15 [00:00<?, ?it/s]"
     ]
    },
    {
     "name": "stdout",
     "output_type": "stream",
     "text": [
      "HLS.L30.T11SKU.2018314T183403.v2.0\n"
     ]
    },
    {
     "name": "stderr",
     "output_type": "stream",
     "text": [
      "PROCESSING TASKS | : 100%|██████████| 15/15 [00:10<00:00,  1.45it/s]\n",
      "COLLECTING RESULTS | : 100%|██████████| 15/15 [00:00<00:00, 24244.53it/s]\n",
      "QUEUEING TASKS | : 100%|██████████| 18/18 [00:00<00:00, 1722.62it/s]\n",
      "PROCESSING TASKS | :   0%|          | 0/18 [00:00<?, ?it/s]"
     ]
    },
    {
     "name": "stdout",
     "output_type": "stream",
     "text": [
      "HLS.L30.T10SGD.2018314T183426.v2.0\n"
     ]
    },
    {
     "name": "stderr",
     "output_type": "stream",
     "text": [
      "PROCESSING TASKS | : 100%|██████████| 18/18 [00:12<00:00,  1.45it/s]\n",
      "COLLECTING RESULTS | : 100%|██████████| 18/18 [00:00<00:00, 94608.36it/s]\n",
      "QUEUEING TASKS | : 100%|██████████| 18/18 [00:00<00:00, 2096.22it/s]\n",
      "PROCESSING TASKS | :   0%|          | 0/18 [00:00<?, ?it/s]"
     ]
    },
    {
     "name": "stdout",
     "output_type": "stream",
     "text": [
      "HLS.S30.T11SKU.2018322T184641.v2.0\n"
     ]
    },
    {
     "name": "stderr",
     "output_type": "stream",
     "text": [
      "PROCESSING TASKS | : 100%|██████████| 18/18 [00:12<00:00,  1.49it/s]\n",
      "COLLECTING RESULTS | : 100%|██████████| 18/18 [00:00<00:00, 105296.33it/s]\n",
      "QUEUEING TASKS | : 100%|██████████| 15/15 [00:00<00:00, 1717.80it/s]\n",
      "PROCESSING TASKS | :   0%|          | 0/15 [00:00<?, ?it/s]"
     ]
    },
    {
     "name": "stdout",
     "output_type": "stream",
     "text": [
      "HLS.S30.T10SGD.2018322T184641.v2.0\n"
     ]
    },
    {
     "name": "stderr",
     "output_type": "stream",
     "text": [
      "PROCESSING TASKS | : 100%|██████████| 15/15 [00:11<00:00,  1.26it/s]\n",
      "COLLECTING RESULTS | : 100%|██████████| 15/15 [00:00<00:00, 34304.56it/s]\n",
      "QUEUEING TASKS | : 100%|██████████| 15/15 [00:00<00:00, 1091.04it/s]\n",
      "PROCESSING TASKS | :   0%|          | 0/15 [00:00<?, ?it/s]"
     ]
    },
    {
     "name": "stdout",
     "output_type": "stream",
     "text": [
      "HLS.L30.T11SKU.2018330T183402.v2.0\n"
     ]
    },
    {
     "name": "stderr",
     "output_type": "stream",
     "text": [
      "PROCESSING TASKS | : 100%|██████████| 15/15 [00:10<00:00,  1.42it/s]\n",
      "COLLECTING RESULTS | : 100%|██████████| 15/15 [00:00<00:00, 133860.77it/s]\n",
      "QUEUEING TASKS | : 100%|██████████| 18/18 [00:00<00:00, 2381.02it/s]\n",
      "PROCESSING TASKS | :   0%|          | 0/18 [00:00<?, ?it/s]"
     ]
    },
    {
     "name": "stdout",
     "output_type": "stream",
     "text": [
      "HLS.L30.T10SGD.2018330T183426.v2.0\n"
     ]
    },
    {
     "name": "stderr",
     "output_type": "stream",
     "text": [
      "PROCESSING TASKS | : 100%|██████████| 18/18 [00:13<00:00,  1.31it/s]\n",
      "COLLECTING RESULTS | : 100%|██████████| 18/18 [00:00<00:00, 45756.04it/s]\n",
      "QUEUEING TASKS | : 100%|██████████| 18/18 [00:00<00:00, 597.61it/s]\n",
      "PROCESSING TASKS | :   0%|          | 0/18 [00:00<?, ?it/s]"
     ]
    },
    {
     "name": "stdout",
     "output_type": "stream",
     "text": [
      "HLS.S30.T11SKU.2018337T184739.v2.0\n"
     ]
    },
    {
     "name": "stderr",
     "output_type": "stream",
     "text": [
      "PROCESSING TASKS | : 100%|██████████| 18/18 [00:13<00:00,  1.30it/s]\n",
      "COLLECTING RESULTS | : 100%|██████████| 18/18 [00:00<00:00, 118149.41it/s]\n",
      "QUEUEING TASKS | : 100%|██████████| 18/18 [00:00<00:00, 1146.63it/s]\n",
      "PROCESSING TASKS | :   0%|          | 0/18 [00:00<?, ?it/s]"
     ]
    },
    {
     "name": "stdout",
     "output_type": "stream",
     "text": [
      "HLS.S30.T10SGD.2018337T184739.v2.0\n"
     ]
    },
    {
     "name": "stderr",
     "output_type": "stream",
     "text": [
      "PROCESSING TASKS | : 100%|██████████| 18/18 [00:12<00:00,  1.39it/s]\n",
      "COLLECTING RESULTS | : 100%|██████████| 18/18 [00:00<00:00, 130618.46it/s]\n",
      "QUEUEING TASKS | : 100%|██████████| 18/18 [00:00<00:00, 1622.73it/s]\n",
      "PROCESSING TASKS | :   0%|          | 0/18 [00:00<?, ?it/s]"
     ]
    },
    {
     "name": "stdout",
     "output_type": "stream",
     "text": [
      "HLS.S30.T11SKU.2018342T184741.v2.0\n"
     ]
    },
    {
     "name": "stderr",
     "output_type": "stream",
     "text": [
      "PROCESSING TASKS | : 100%|██████████| 18/18 [00:13<00:00,  1.33it/s]\n",
      "COLLECTING RESULTS | : 100%|██████████| 18/18 [00:00<00:00, 85598.04it/s]\n",
      "QUEUEING TASKS | : 100%|██████████| 15/15 [00:00<00:00, 774.47it/s]\n",
      "PROCESSING TASKS | :   0%|          | 0/15 [00:00<?, ?it/s]"
     ]
    },
    {
     "name": "stdout",
     "output_type": "stream",
     "text": [
      "HLS.S30.T10SGD.2018342T184741.v2.0\n"
     ]
    },
    {
     "name": "stderr",
     "output_type": "stream",
     "text": [
      "PROCESSING TASKS | : 100%|██████████| 15/15 [00:12<00:00,  1.17it/s]\n",
      "COLLECTING RESULTS | : 100%|██████████| 15/15 [00:00<00:00, 28276.21it/s]\n",
      "QUEUEING TASKS | : 100%|██████████| 15/15 [00:00<00:00, 1034.68it/s]\n",
      "PROCESSING TASKS | :   0%|          | 0/15 [00:00<?, ?it/s]"
     ]
    },
    {
     "name": "stdout",
     "output_type": "stream",
     "text": [
      "HLS.L30.T11SKU.2018346T183359.v2.0\n"
     ]
    },
    {
     "name": "stderr",
     "output_type": "stream",
     "text": [
      "PROCESSING TASKS | : 100%|██████████| 15/15 [00:11<00:00,  1.34it/s]\n",
      "COLLECTING RESULTS | : 100%|██████████| 15/15 [00:00<00:00, 66859.26it/s]\n",
      "QUEUEING TASKS | : 100%|██████████| 18/18 [00:00<00:00, 1578.03it/s]\n",
      "PROCESSING TASKS | :   0%|          | 0/18 [00:00<?, ?it/s]"
     ]
    },
    {
     "name": "stdout",
     "output_type": "stream",
     "text": [
      "HLS.L30.T10SGD.2018346T183423.v2.0\n"
     ]
    },
    {
     "name": "stderr",
     "output_type": "stream",
     "text": [
      "PROCESSING TASKS | : 100%|██████████| 18/18 [00:14<00:00,  1.24it/s]\n",
      "COLLECTING RESULTS | : 100%|██████████| 18/18 [00:00<00:00, 71291.29it/s]\n",
      "QUEUEING TASKS | : 100%|██████████| 18/18 [00:00<00:00, 1326.98it/s]\n",
      "PROCESSING TASKS | :   0%|          | 0/18 [00:00<?, ?it/s]"
     ]
    },
    {
     "name": "stdout",
     "output_type": "stream",
     "text": [
      "HLS.S30.T11SKU.2018347T184759.v2.0\n"
     ]
    },
    {
     "name": "stderr",
     "output_type": "stream",
     "text": [
      "PROCESSING TASKS | : 100%|██████████| 18/18 [00:17<00:00,  1.01it/s]\n",
      "COLLECTING RESULTS | : 100%|██████████| 18/18 [00:00<00:00, 33809.88it/s]\n",
      "QUEUEING TASKS | : 100%|██████████| 18/18 [00:00<00:00, 1359.95it/s]\n",
      "PROCESSING TASKS | :   0%|          | 0/18 [00:00<?, ?it/s]"
     ]
    },
    {
     "name": "stdout",
     "output_type": "stream",
     "text": [
      "HLS.S30.T10SGD.2018347T184759.v2.0\n"
     ]
    },
    {
     "name": "stderr",
     "output_type": "stream",
     "text": [
      "PROCESSING TASKS | : 100%|██████████| 18/18 [00:12<00:00,  1.39it/s]\n",
      "COLLECTING RESULTS | : 100%|██████████| 18/18 [00:00<00:00, 54197.75it/s]\n",
      "QUEUEING TASKS | : 100%|██████████| 18/18 [00:00<00:00, 717.92it/s]\n",
      "PROCESSING TASKS | :   0%|          | 0/18 [00:00<?, ?it/s]"
     ]
    },
    {
     "name": "stdout",
     "output_type": "stream",
     "text": [
      "HLS.S30.T11SKU.2018352T184801.v2.0\n"
     ]
    },
    {
     "name": "stderr",
     "output_type": "stream",
     "text": [
      "PROCESSING TASKS | : 100%|██████████| 18/18 [00:14<00:00,  1.26it/s]\n",
      "COLLECTING RESULTS | : 100%|██████████| 18/18 [00:00<00:00, 54471.48it/s]\n",
      "QUEUEING TASKS | : 100%|██████████| 15/15 [00:00<00:00, 894.46it/s]\n",
      "PROCESSING TASKS | :   0%|          | 0/15 [00:00<?, ?it/s]"
     ]
    },
    {
     "name": "stdout",
     "output_type": "stream",
     "text": [
      "HLS.S30.T10SGD.2018352T184801.v2.0\n"
     ]
    },
    {
     "name": "stderr",
     "output_type": "stream",
     "text": [
      "PROCESSING TASKS | : 100%|██████████| 15/15 [00:11<00:00,  1.29it/s]\n",
      "COLLECTING RESULTS | : 100%|██████████| 15/15 [00:00<00:00, 53819.13it/s]\n",
      "QUEUEING TASKS | : 100%|██████████| 15/15 [00:00<00:00, 1551.91it/s]\n",
      "PROCESSING TASKS | :   0%|          | 0/15 [00:00<?, ?it/s]"
     ]
    },
    {
     "name": "stdout",
     "output_type": "stream",
     "text": [
      "HLS.L30.T11SKU.2018362T183359.v2.0\n"
     ]
    },
    {
     "name": "stderr",
     "output_type": "stream",
     "text": [
      "PROCESSING TASKS | : 100%|██████████| 15/15 [00:11<00:00,  1.29it/s]\n",
      "COLLECTING RESULTS | : 100%|██████████| 15/15 [00:00<00:00, 133011.75it/s]\n",
      "QUEUEING TASKS | : 100%|██████████| 18/18 [00:00<00:00, 1834.51it/s]\n",
      "PROCESSING TASKS | :   0%|          | 0/18 [00:00<?, ?it/s]"
     ]
    },
    {
     "name": "stdout",
     "output_type": "stream",
     "text": [
      "HLS.L30.T10SGD.2018362T183423.v2.0\n"
     ]
    },
    {
     "name": "stderr",
     "output_type": "stream",
     "text": [
      "PROCESSING TASKS | : 100%|██████████| 18/18 [00:12<00:00,  1.49it/s]\n",
      "COLLECTING RESULTS | : 100%|██████████| 18/18 [00:00<00:00, 123969.58it/s]\n",
      "QUEUEING TASKS | : 100%|██████████| 18/18 [00:00<00:00, 1762.35it/s]\n",
      "PROCESSING TASKS | :   0%|          | 0/18 [00:00<?, ?it/s]"
     ]
    },
    {
     "name": "stdout",
     "output_type": "stream",
     "text": [
      "HLS.S30.T11SKU.2018362T184801.v2.0\n"
     ]
    },
    {
     "name": "stderr",
     "output_type": "stream",
     "text": [
      "PROCESSING TASKS | : 100%|██████████| 18/18 [00:12<00:00,  1.41it/s]\n",
      "COLLECTING RESULTS | : 100%|██████████| 18/18 [00:00<00:00, 94371.84it/s]"
     ]
    },
    {
     "name": "stdout",
     "output_type": "stream",
     "text": [
      "HLS.S30.T10SGD.2018362T184801.v2.0\n"
     ]
    },
    {
     "name": "stderr",
     "output_type": "stream",
     "text": [
      "\n"
     ]
    }
   ],
   "source": [
    "\n",
    "folder_path = os.path.join(os.getcwd(),(f'imagery/{location}'))\n",
    "## ======= Create/write DEM, if requested ======= ##\n",
    "if create_dem:\n",
    "    if not os.path.isfile(os.path.join(folder_path, dem_name)):\n",
    "            dem_path = earthaccess.download(dem_results[0], local_path=folder_path)\n",
    "            os.rename(dem_path[0], os.path.join(folder_path,'dem.tif'))\n",
    "            os.rename(dem_path[1], os.path.join(folder_path, 'num.tif'))\n",
    "\n",
    "## ======= create location folder path ======= ##\n",
    "if not os.path.isdir(folder_path):\n",
    "    os.mkdir(folder_path)\n",
    "\n",
    "downloaded = 0\n",
    "\n",
    "for i, granule in enumerate(results):\n",
    "\n",
    "    ## ======= Parse metadata ======= ##\n",
    "    json_str = json.dumps(granule.__dict__)\n",
    "    metadata = json.loads(json_str) \n",
    "    meta = metadata['render_dict']['meta']\n",
    "    name = meta['native-id']\n",
    "\n",
    "    #For some reason, attributes are parsed into a list in the HLS metadata. This reformats it into a dictionary.\n",
    "    attributes_list = metadata['render_dict']['umm']['AdditionalAttributes']\n",
    "\n",
    "    attributes = {attr['Name']: attr['Values'][0] for attr in attributes_list}\n",
    "    #print(attributes['MGRS_TILE_ID'])\n",
    "\n",
    "    if(int(attributes['CLOUD_COVERAGE']) > 50): #Reject granules with large cloud cover, for now\n",
    "        continue\n",
    "    time = attributes['SENSING_TIME']\n",
    "    tile_folder = attributes['MGRS_TILE_ID']\n",
    "    if specific_tile and not tile_folder == tile:\n",
    "        continue\n",
    "    ## ======= Create file directory, if needed  ======= ##\n",
    "    tile_path = os.path.join(folder_path,tile_folder)\n",
    "    if not os.path.isdir(tile_path):\n",
    "         os.mkdir(tile_path)\n",
    "    folder_name = (f'{name}')\n",
    "    file_path = os.path.join(tile_path,folder_name)\n",
    "    if not os.path.isdir(file_path):\n",
    "        os.mkdir(file_path) #Make folder for granule \n",
    "\n",
    "    ## ======= download granule ======= ##\n",
    "    with open(os.devnull, 'w') as f, redirect_stdout(f):\n",
    "        downloadPath = earthaccess.download(granule, local_path=file_path)\n",
    "    downloaded = downloaded + 1\n",
    "    print(f'{name}')\n",
    "    if downloaded > num_to_download:\n",
    "         break\n",
    "\n",
    "    ## ======= write metadata csv ======= ##\n",
    "    csv_file = os.path.join(file_path, (f'{folder_name}_metadata.csv'))\n",
    "    metadata_full_dict = {**attributes, **meta}\n",
    "    vis_urls = granule.dataviz_links()\n",
    "    metadata_full_dict['data_vis_url'] = vis_urls[0]\n",
    "    with open(csv_file, 'w', newline='') as file:\n",
    "        writer = csv.writer(file)\n",
    "        writer.writerow(metadata_full_dict.keys())\n",
    "        writer.writerow(metadata_full_dict.values())"
   ]
  }
 ],
 "metadata": {
  "kernelspec": {
   "display_name": "hls_env",
   "language": "python",
   "name": "python3"
  },
  "language_info": {
   "codemirror_mode": {
    "name": "ipython",
    "version": 3
   },
   "file_extension": ".py",
   "mimetype": "text/x-python",
   "name": "python",
   "nbconvert_exporter": "python",
   "pygments_lexer": "ipython3",
   "version": "3.9.19"
  }
 },
 "nbformat": 4,
 "nbformat_minor": 2
}
