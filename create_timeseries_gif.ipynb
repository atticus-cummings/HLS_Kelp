{
 "cells": [
  {
   "cell_type": "code",
   "execution_count": null,
   "metadata": {},
   "outputs": [],
   "source": [
    "import re\n",
    "from datetime import datetime\n",
    "#import pillow\n",
    "import os\n",
    "import rasterio\n",
    "import matplotlib.pyplot as plt\n",
    "import numpy as np"
   ]
  },
  {
   "cell_type": "code",
   "execution_count": null,
   "metadata": {},
   "outputs": [],
   "source": [
    "\n",
    "def extract_date(filename):\n",
    "    # Regular expression to extract the date part from the filename\n",
    "    match = re.search(r'(\\d{7})T', filename)\n",
    "    if match:\n",
    "        date_str = match.group(1)\n",
    "        # Convert to a datetime object\n",
    "        date = datetime.strptime(date_str, '%Y%j')\n",
    "        return date\n",
    "    return None\n",
    "\n",
    "def sort_filenames_by_date(filenames):\n",
    "\n",
    "    date_filename_pairs = [(extract_date(filename), filename) for filename in filenames]\n",
    "    date_filename_pairs.sort(key=lambda x: x[0])\n",
    "    sorted_filenames = [filename for _, filename in date_filename_pairs]\n",
    "    return sorted_filenames"
   ]
  },
  {
   "cell_type": "code",
   "execution_count": null,
   "metadata": {},
   "outputs": [],
   "source": [
    "    \n",
    "    kelp_neighborhood = 5\n",
    "    min_kelp_count = 4\n",
    "    kelp_dilation_size = 15\n",
    "    \n",
    "    structuring_element = cp.ones((kelp_dilation_size, kelp_dilation_size))    \n",
    "\n",
    "kelp_dilated_gpu = cp.where(classified_img_gpu == 0, True, False)  # This is expanding the kelp_mask so the TF is reversed\n",
    "    kernel = cp.ones((kelp_neighborhood, kelp_neighborhood), dtype=cp.int32)\n",
    "    \n",
    "    time_val = time.time()\n",
    "    kelp_count_gpu = convolve(kelp_dilated_gpu.astype(cp.int32), kernel, mode='constant', cval=0.0)\n",
    "    print(f'kelp moving average finished: {time.time()-time_val}')\n",
    "\n",
    "    kelp_dilated_gpu = cp.where(((~kelp_dilated_gpu) | (kelp_count_gpu <= min_kelp_count)), 0, 1)  # If there's no kelp, or the kelp count is <=4, set pixel == false\n",
    "    time_val = time.time()\n",
    "    kelp_dilated_gpu = binary_dilation(kelp_dilated_gpu, structure=structuring_element)"
   ]
  },
  {
   "cell_type": "code",
   "execution_count": null,
   "metadata": {},
   "outputs": [],
   "source": [
    "from PIL import Image\n",
    "\n",
    "image_files = os.listdir(r'/mnt/c/Users/attic/HLS_Kelp/plots')\n",
    "\n",
    "images = [Image.open(os.path.join(r'/mnt/c/Users/attic/HLS_Kelp/plots', img)) for img in image_files]\n",
    "\n",
    "images[0].save('timeseries.gif',\n",
    "               save_all=True,\n",
    "               append_images=images[1:],\n",
    "               optimize=False,\n",
    "               duration=250,  \n",
    "               loop=0)   "
   ]
  },
  {
   "cell_type": "code",
   "execution_count": null,
   "metadata": {},
   "outputs": [],
   "source": [
    "path = r'/mnt/c/Users/attic/HLS_Kelp/imagery/Isla_vista_kelp_2018/processed/11SKU'\n",
    "files = os.listdir(path)\n",
    "files = sort_filenames_by_date(files)\n",
    "\n",
    "for i , file in enumerate(files):\n",
    "    with rasterio.open(os.path.join(path,file)) as img:\n",
    "        # r = img.read(3)\n",
    "        # g = img.read(2)\n",
    "        # b = img.read(1)\n",
    "        mesma = img.read(6)\n",
    "        kelp = img.read(5)\n",
    "    # rgb_image = np.stack((r, g, b), axis=-1)\n",
    "\n",
    "    # Normalize the image to 0-255 for display\n",
    "    # rgb_image = np.clip(rgb_image, 0, 255)\n",
    "    # rgb_image = rgb_image.astype(np.uint8)\n",
    "    mesma = np.where(mesma <= 5, np.nan, mesma)\n",
    "\n",
    "    plt.figure(figsize=(25, 25), dpi=100)\n",
    "    # plt.imshow(rgb_image[2600:3200, 900:1600],alpha=1)\n",
    "    plt.imshow(kelp[2600:3200, 900:1600], cmap = \"Blues\", alpha=.5)\n",
    "    plt.imshow(mesma[2600:3200, 900:1600], vmin = 0, vmax = 100)\n",
    "\n",
    "    plt.title(file)\n",
    "    plt.axis('off')  # Hide axis\n",
    "    plt.show()\n",
    "    # plt.savefig(f'plot_{i+1}_v2.png')\n",
    "    plt.close"
   ]
  }
 ],
 "metadata": {
  "kernelspec": {
   "display_name": "hls_env",
   "language": "python",
   "name": "python3"
  },
  "language_info": {
   "codemirror_mode": {
    "name": "ipython",
    "version": 3
   },
   "file_extension": ".py",
   "mimetype": "text/x-python",
   "name": "python",
   "nbconvert_exporter": "python",
   "pygments_lexer": "ipython3",
   "version": "3.9.19"
  }
 },
 "nbformat": 4,
 "nbformat_minor": 2
}
